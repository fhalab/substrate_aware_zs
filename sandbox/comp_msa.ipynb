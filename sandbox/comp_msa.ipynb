{
 "cells": [
  {
   "cell_type": "code",
   "execution_count": null,
   "metadata": {},
   "outputs": [],
   "source": [
    "%cd ~/REVIVAL2\n",
    "%load_ext autoreload\n",
    "%autoreload 2\n",
    "%load_ext blackcellmagic"
   ]
  },
  {
   "cell_type": "code",
   "execution_count": 2,
   "metadata": {},
   "outputs": [
    {
     "name": "stdout",
     "output_type": "stream",
     "text": [
      "/disk2/fli/REVIVAL2/zs/af3_joint/struct/PfTrpB-5iodo/i165di183h/i165di183h_data.json and /disk2/fli/REVIVAL2/zs/af3_joint/struct/PfTrpB-5iodo/i165gi183vy301e/i165gi183vy301e_data.json have the same fields for ['modifications', 'unpairedMsa', 'pairedMsa', 'templates'].\n"
     ]
    }
   ],
   "source": [
    "import json\n",
    "import os\n",
    "\n",
    "def load_json(file_path):\n",
    "    \"\"\"Load JSON content from a file.\"\"\"\n",
    "    with open(file_path, \"r\") as f:\n",
    "        return json.load(f)\n",
    "\n",
    "def compare_fields(json1, json2, fields_to_compare):\n",
    "    \"\"\"Compare specific fields between two JSON files.\"\"\"\n",
    "    differences = {}\n",
    "    for field in fields_to_compare:\n",
    "        value1 = json1.get(field, None)\n",
    "        value2 = json2.get(field, None)\n",
    "\n",
    "        if value1 != value2:\n",
    "            differences[field] = {\"file1\": value1, \"file2\": value2}\n",
    "\n",
    "    return differences\n",
    "\n",
    "# Directory containing JSON files\n",
    "# json_dir = \"/path/to/json/files\"\n",
    "fields_to_compare = [\"modifications\", \"unpairedMsa\", \"pairedMsa\", \"templates\"]  # Add fields to compare\n",
    "\n",
    "\n",
    "# Paths to the output JSON files\n",
    "json_file1 = \"/disk2/fli/REVIVAL2/zs/af3_joint/struct/PfTrpB-5iodo/i165di183h/i165di183h_data.json\"\n",
    "# json_file2 = \"/disk2/fli/REVIVAL2/zs/af3_joint/struct/PfTrpB-5iodo/y301l/y301l_data.json\"\n",
    "json_file2 = \"/disk2/fli/REVIVAL2/zs/af3_joint/struct/PfTrpB-5iodo/i165gi183vy301e/i165gi183vy301e_data.json\"\n",
    "\n",
    "# Get all JSON files in the directory\n",
    "json_files = [json_file1, json_file2]\n",
    "\n",
    "# Pairwise comparison of all JSON files\n",
    "for i in range(len(json_files)):\n",
    "    for j in range(i + 1, len(json_files)):\n",
    "        json_file1 = json_file1\n",
    "        json_file2 = json_file2\n",
    "\n",
    "        # Load JSON data\n",
    "        json_data1 = load_json(json_file1)\n",
    "        json_data2 = load_json(json_file2)\n",
    "\n",
    "        # Compare fields\n",
    "        differences = compare_fields(json_data1, json_data2, fields_to_compare)\n",
    "\n",
    "        # Print results\n",
    "        if differences:\n",
    "            print(f\"Comparing {json_files[i]} and {json_files[j]}:\")\n",
    "            for field, diff in differences.items():\n",
    "                print(f\"  Field: {field}\")\n",
    "                print(f\"    {json_files[i]}: {diff['file1']}\")\n",
    "                print(f\"    {json_files[j]}: {diff['file2']}\")\n",
    "        else:\n",
    "            print(f\"{json_files[i]} and {json_files[j]} have the same fields for {fields_to_compare}.\")\n"
   ]
  },
  {
   "cell_type": "code",
   "execution_count": 4,
   "metadata": {},
   "outputs": [],
   "source": []
  },
  {
   "cell_type": "code",
   "execution_count": null,
   "metadata": {},
   "outputs": [],
   "source": []
  }
 ],
 "metadata": {
  "kernelspec": {
   "display_name": "REVIVAL",
   "language": "python",
   "name": "python3"
  },
  "language_info": {
   "codemirror_mode": {
    "name": "ipython",
    "version": 3
   },
   "file_extension": ".py",
   "mimetype": "text/x-python",
   "name": "python",
   "nbconvert_exporter": "python",
   "pygments_lexer": "ipython3",
   "version": "3.11.10"
  }
 },
 "nbformat": 4,
 "nbformat_minor": 2
}
