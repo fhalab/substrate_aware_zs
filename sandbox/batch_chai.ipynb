{
 "cells": [
  {
   "cell_type": "code",
   "execution_count": 1,
   "metadata": {},
   "outputs": [
    {
     "name": "stdout",
     "output_type": "stream",
     "text": [
      "/disk2/fli/REVIVAL2\n"
     ]
    }
   ],
   "source": [
    "%cd ~/REVIVAL2"
   ]
  },
  {
   "cell_type": "code",
   "execution_count": 2,
   "metadata": {},
   "outputs": [],
   "source": [
    "%load_ext autoreload\n",
    "%autoreload 2\n",
    "%load_ext blackcellmagic"
   ]
  },
  {
   "cell_type": "code",
   "execution_count": 13,
   "metadata": {},
   "outputs": [
    {
     "name": "stdout",
     "output_type": "stream",
     "text": [
      "PfTrpB-4bromo\n",
      "PfTrpB-5bromo\n",
      "PfTrpB-6bromo\n",
      "PfTrpB-7bromo\n",
      "PfTrpB-5chloro\n",
      "PfTrpB-6chloro\n",
      "PfTrpB-56chloro\n",
      "PfTrpB-4cyano\n",
      "PfTrpB-5cyano\n",
      "PfTrpB-5iodo\n",
      "PfTrpB-7iodo\n",
      "PfTrpB-7methyl\n"
     ]
    }
   ],
   "source": [
    "# write csv with columns Entry,Sequence,Substrate,Cofactor\n",
    "\n",
    "import pandas as pd\n",
    "import numpy as np\n",
    "from Bio import SeqIO\n",
    "from Bio.Seq import Seq\n",
    "\n",
    "from REVIVAL.global_param import LIB_INFO_DICT\n",
    "\n",
    "df = pd.DataFrame(columns=[\"Entry\", \"Sequence\", \"Substrate\", \"Cofactor\"])\n",
    "\n",
    "for lib_name, lib_info in LIB_INFO_DICT.items():\n",
    "    print(lib_name)\n",
    "    enyzme_name = lib_info[\"enzyme\"]\n",
    "    # read sequence \n",
    "    with open(f\"data/seq/{enyzme_name}.fasta\", \"r\") as f:\n",
    "        seq_rec = SeqIO.read(f, \"fasta\")\n",
    "\n",
    "    df = df._append(\n",
    "        {\n",
    "            \"Entry\": lib_name,\n",
    "            \"Sequence\": str(seq_rec.seq),\n",
    "            \"Substrate\": lib_info[\"substrate-smiles\"],\n",
    "            \"Cofactor\": lib_info[\"cofactor-smiles\"],\n",
    "        }, ignore_index=True\n",
    "    )\n",
    "\n",
    "df.to_csv(\"/disk2/fli/docko/tests/data-fzl/trpb_sub.csv\", index=False)"
   ]
  },
  {
   "cell_type": "code",
   "execution_count": 14,
   "metadata": {},
   "outputs": [
    {
     "data": {
      "text/html": [
       "<div>\n",
       "<style scoped>\n",
       "    .dataframe tbody tr th:only-of-type {\n",
       "        vertical-align: middle;\n",
       "    }\n",
       "\n",
       "    .dataframe tbody tr th {\n",
       "        vertical-align: top;\n",
       "    }\n",
       "\n",
       "    .dataframe thead th {\n",
       "        text-align: right;\n",
       "    }\n",
       "</style>\n",
       "<table border=\"1\" class=\"dataframe\">\n",
       "  <thead>\n",
       "    <tr style=\"text-align: right;\">\n",
       "      <th></th>\n",
       "      <th>Entry</th>\n",
       "      <th>Sequence</th>\n",
       "      <th>Substrate</th>\n",
       "      <th>Cofactor</th>\n",
       "    </tr>\n",
       "  </thead>\n",
       "  <tbody>\n",
       "    <tr>\n",
       "      <th>0</th>\n",
       "      <td>PfTrpB-4bromo</td>\n",
       "      <td>MWFGEFGGQYVPETLVGPLKELEKAYKRFKDDEEFNRQLNYYLKTW...</td>\n",
       "      <td>C1=CC2=C(C=CN2)C(=C1)Br</td>\n",
       "      <td>O=Cc1c(O)c(C)ncc1COP(O)(O)=O</td>\n",
       "    </tr>\n",
       "    <tr>\n",
       "      <th>1</th>\n",
       "      <td>PfTrpB-5bromo</td>\n",
       "      <td>MWFGEFGGQYVPETLVGPLKELEKAYKRFKDDEEFNRQLNYYLKTW...</td>\n",
       "      <td>C1=CC2=C(C=CN2)C=C1Br</td>\n",
       "      <td>O=Cc1c(O)c(C)ncc1COP(O)(O)=O</td>\n",
       "    </tr>\n",
       "    <tr>\n",
       "      <th>2</th>\n",
       "      <td>PfTrpB-6bromo</td>\n",
       "      <td>MWFGEFGGQYVPETLVGPLKELEKAYKRFKDDEEFNRQLNYYLKTW...</td>\n",
       "      <td>C1=CC(=CC2=C1C=CN2)Br</td>\n",
       "      <td>O=Cc1c(O)c(C)ncc1COP(O)(O)=O</td>\n",
       "    </tr>\n",
       "    <tr>\n",
       "      <th>3</th>\n",
       "      <td>PfTrpB-7bromo</td>\n",
       "      <td>MWFGEFGGQYVPETLVGPLKELEKAYKRFKDDEEFNRQLNYYLKTW...</td>\n",
       "      <td>C1=CC2=C(C(=C1)Br)NC=C2</td>\n",
       "      <td>O=Cc1c(O)c(C)ncc1COP(O)(O)=O</td>\n",
       "    </tr>\n",
       "    <tr>\n",
       "      <th>4</th>\n",
       "      <td>PfTrpB-5chloro</td>\n",
       "      <td>MWFGEFGGQYVPETLVGPLKELEKAYKRFKDDEEFNRQLNYYLKTW...</td>\n",
       "      <td>C1=CC2=C(C=CN2)C=C1Cl</td>\n",
       "      <td>O=Cc1c(O)c(C)ncc1COP(O)(O)=O</td>\n",
       "    </tr>\n",
       "    <tr>\n",
       "      <th>5</th>\n",
       "      <td>PfTrpB-6chloro</td>\n",
       "      <td>MWFGEFGGQYVPETLVGPLKELEKAYKRFKDDEEFNRQLNYYLKTW...</td>\n",
       "      <td>C1=CC(=CC2=C1C=CN2)Cl</td>\n",
       "      <td>O=Cc1c(O)c(C)ncc1COP(O)(O)=O</td>\n",
       "    </tr>\n",
       "    <tr>\n",
       "      <th>6</th>\n",
       "      <td>PfTrpB-56chloro</td>\n",
       "      <td>MWFGEFGGQYVPETLVGPLKELEKAYKRFKDDEEFNRQLNYYLKTW...</td>\n",
       "      <td>ClC(C=C1NC=CC1=C2)=C2Cl</td>\n",
       "      <td>O=Cc1c(O)c(C)ncc1COP(O)(O)=O</td>\n",
       "    </tr>\n",
       "    <tr>\n",
       "      <th>7</th>\n",
       "      <td>PfTrpB-4cyano</td>\n",
       "      <td>MWFGEFGGQYVPETLVGPLKELEKAYKRFKDDEEFNRQLNYYLKTW...</td>\n",
       "      <td>C1=CC(=C2C=CNC2=C1)C#N</td>\n",
       "      <td>O=Cc1c(O)c(C)ncc1COP(O)(O)=O</td>\n",
       "    </tr>\n",
       "    <tr>\n",
       "      <th>8</th>\n",
       "      <td>PfTrpB-5cyano</td>\n",
       "      <td>MWFGEFGGQYVPETLVGPLKELEKAYKRFKDDEEFNRQLNYYLKTW...</td>\n",
       "      <td>C1=CC2=C(C=CN2)C=C1C#N</td>\n",
       "      <td>O=Cc1c(O)c(C)ncc1COP(O)(O)=O</td>\n",
       "    </tr>\n",
       "    <tr>\n",
       "      <th>9</th>\n",
       "      <td>PfTrpB-5iodo</td>\n",
       "      <td>MWFGEFGGQYVPETLVGPLKELEKAYKRFKDDEEFNRQLNYYLKTW...</td>\n",
       "      <td>C1=CC2=C(C=CN2)C=C1I</td>\n",
       "      <td>O=Cc1c(O)c(C)ncc1COP(O)(O)=O</td>\n",
       "    </tr>\n",
       "    <tr>\n",
       "      <th>10</th>\n",
       "      <td>PfTrpB-7iodo</td>\n",
       "      <td>MWFGEFGGQYVPETLVGPLKELEKAYKRFKDDEEFNRQLNYYLKTW...</td>\n",
       "      <td>C1=CC2=C(C(=C1)I)NC=C2</td>\n",
       "      <td>O=Cc1c(O)c(C)ncc1COP(O)(O)=O</td>\n",
       "    </tr>\n",
       "    <tr>\n",
       "      <th>11</th>\n",
       "      <td>PfTrpB-7methyl</td>\n",
       "      <td>MWFGEFGGQYVPETLVGPLKELEKAYKRFKDDEEFNRQLNYYLKTW...</td>\n",
       "      <td>CC1=CC=CC2=C1NC=C2</td>\n",
       "      <td>O=Cc1c(O)c(C)ncc1COP(O)(O)=O</td>\n",
       "    </tr>\n",
       "  </tbody>\n",
       "</table>\n",
       "</div>"
      ],
      "text/plain": [
       "              Entry  ...                      Cofactor\n",
       "0     PfTrpB-4bromo  ...  O=Cc1c(O)c(C)ncc1COP(O)(O)=O\n",
       "1     PfTrpB-5bromo  ...  O=Cc1c(O)c(C)ncc1COP(O)(O)=O\n",
       "2     PfTrpB-6bromo  ...  O=Cc1c(O)c(C)ncc1COP(O)(O)=O\n",
       "3     PfTrpB-7bromo  ...  O=Cc1c(O)c(C)ncc1COP(O)(O)=O\n",
       "4    PfTrpB-5chloro  ...  O=Cc1c(O)c(C)ncc1COP(O)(O)=O\n",
       "5    PfTrpB-6chloro  ...  O=Cc1c(O)c(C)ncc1COP(O)(O)=O\n",
       "6   PfTrpB-56chloro  ...  O=Cc1c(O)c(C)ncc1COP(O)(O)=O\n",
       "7     PfTrpB-4cyano  ...  O=Cc1c(O)c(C)ncc1COP(O)(O)=O\n",
       "8     PfTrpB-5cyano  ...  O=Cc1c(O)c(C)ncc1COP(O)(O)=O\n",
       "9      PfTrpB-5iodo  ...  O=Cc1c(O)c(C)ncc1COP(O)(O)=O\n",
       "10     PfTrpB-7iodo  ...  O=Cc1c(O)c(C)ncc1COP(O)(O)=O\n",
       "11   PfTrpB-7methyl  ...  O=Cc1c(O)c(C)ncc1COP(O)(O)=O\n",
       "\n",
       "[12 rows x 4 columns]"
      ]
     },
     "execution_count": 14,
     "metadata": {},
     "output_type": "execute_result"
    }
   ],
   "source": [
    "df"
   ]
  },
  {
   "cell_type": "code",
   "execution_count": 1,
   "metadata": {},
   "outputs": [],
   "source": [
    "# rename and move processed output data\n",
    "import os\n",
    "import shutil\n",
    "from glob import glob"
   ]
  },
  {
   "cell_type": "code",
   "execution_count": 5,
   "metadata": {},
   "outputs": [],
   "source": [
    "new_dir = \"/disk2/fli/REVIVAL2/data/structure\"\n",
    "for f in glob(\"/disk2/fli/chai-lab/outputs/kej/*-plp/*-plp.pdb\"):\n",
    "    update_name = \"PfTrpB-\" + os.path.basename(f).replace(\"-plp\", \"\")\n",
    "    shutil.copy(f, os.path.join(new_dir, update_name))\n"
   ]
  },
  {
   "cell_type": "code",
   "execution_count": 7,
   "metadata": {},
   "outputs": [],
   "source": [
    "# copy the csv file to the data folder\n",
    "new_dir = \"/disk2/fli/REVIVAL2/data/lib\"\n",
    "for f in glob(\"/disk2/fli/SSMuLA/add_data/20200520-KEJ-TrpB+substrate/split_data/*.csv\"):\n",
    "    update_name = \"PfTrpB-\" + os.path.basename(f)\n",
    "    shutil.copy(f, os.path.join(new_dir, update_name))\n"
   ]
  },
  {
   "cell_type": "code",
   "execution_count": 3,
   "metadata": {},
   "outputs": [],
   "source": []
  },
  {
   "cell_type": "code",
   "execution_count": null,
   "metadata": {},
   "outputs": [],
   "source": []
  }
 ],
 "metadata": {
  "kernelspec": {
   "display_name": "SSMuLA",
   "language": "python",
   "name": "python3"
  },
  "language_info": {
   "codemirror_mode": {
    "name": "ipython",
    "version": 3
   },
   "file_extension": ".py",
   "mimetype": "text/x-python",
   "name": "python",
   "nbconvert_exporter": "python",
   "pygments_lexer": "ipython3",
   "version": "3.10.14"
  }
 },
 "nbformat": 4,
 "nbformat_minor": 2
}
