{
 "cells": [
  {
   "cell_type": "code",
   "execution_count": 2,
   "metadata": {},
   "outputs": [
    {
     "name": "stdout",
     "output_type": "stream",
     "text": [
      "/disk2/fli/REVIVAL2\n"
     ]
    }
   ],
   "source": [
    "%cd ~/REVIVAL2\n",
    "%load_ext autoreload\n",
    "%autoreload 2\n",
    "# %load_ext blackcellmagic"
   ]
  },
  {
   "cell_type": "code",
   "execution_count": 4,
   "metadata": {},
   "outputs": [],
   "source": [
    "import os\n",
    "from glob import glob\n",
    "import pandas as pd"
   ]
  },
  {
   "cell_type": "code",
   "execution_count": 3,
   "metadata": {},
   "outputs": [],
   "source": [
    "lib_dir = \"/disk2/fli/REVIVAL2/data/lib\""
   ]
  },
  {
   "cell_type": "code",
   "execution_count": 5,
   "metadata": {},
   "outputs": [
    {
     "data": {
      "text/plain": [
       "['/disk2/fli/REVIVAL2/data/lib/PfTrpB-4bromo.csv',\n",
       " '/disk2/fli/REVIVAL2/data/lib/PfTrpB-4cyano.csv',\n",
       " '/disk2/fli/REVIVAL2/data/lib/PfTrpB-56chloro.csv',\n",
       " '/disk2/fli/REVIVAL2/data/lib/PfTrpB-5bromo.csv',\n",
       " '/disk2/fli/REVIVAL2/data/lib/PfTrpB-5chloro.csv',\n",
       " '/disk2/fli/REVIVAL2/data/lib/PfTrpB-5cyano.csv',\n",
       " '/disk2/fli/REVIVAL2/data/lib/PfTrpB-5iodo.csv',\n",
       " '/disk2/fli/REVIVAL2/data/lib/PfTrpB-6chloro.csv',\n",
       " '/disk2/fli/REVIVAL2/data/lib/PfTrpB-7bromo.csv',\n",
       " '/disk2/fli/REVIVAL2/data/lib/PfTrpB-7iodo.csv',\n",
       " '/disk2/fli/REVIVAL2/data/lib/PfTrpB-7methyl.csv']"
      ]
     },
     "execution_count": 5,
     "metadata": {},
     "output_type": "execute_result"
    }
   ],
   "source": [
    "trpb_libs = sorted(glob(os.path.join(lib_dir, \"PfTrpB*\")))\n",
    "trpb_libs"
   ]
  },
  {
   "cell_type": "code",
   "execution_count": 7,
   "metadata": {},
   "outputs": [],
   "source": [
    "all_vars = []\n",
    "for lib in trpb_libs:\n",
    "    lib_vars = list(pd.read_csv(lib)[\"AAs\"].values)\n",
    "    for var in lib_vars:\n",
    "        if var not in all_vars:\n",
    "            all_vars.append(var)"
   ]
  },
  {
   "cell_type": "code",
   "execution_count": 9,
   "metadata": {},
   "outputs": [
    {
     "data": {
      "text/plain": [
       "241"
      ]
     },
     "execution_count": 9,
     "metadata": {},
     "output_type": "execute_result"
    }
   ],
   "source": [
    "len(all_vars)"
   ]
  },
  {
   "cell_type": "code",
   "execution_count": null,
   "metadata": {},
   "outputs": [],
   "source": []
  }
 ],
 "metadata": {
  "kernelspec": {
   "display_name": "REVIVAL",
   "language": "python",
   "name": "python3"
  },
  "language_info": {
   "codemirror_mode": {
    "name": "ipython",
    "version": 3
   },
   "file_extension": ".py",
   "mimetype": "text/x-python",
   "name": "python",
   "nbconvert_exporter": "python",
   "pygments_lexer": "ipython3",
   "version": "3.11.10"
  }
 },
 "nbformat": 4,
 "nbformat_minor": 2
}
