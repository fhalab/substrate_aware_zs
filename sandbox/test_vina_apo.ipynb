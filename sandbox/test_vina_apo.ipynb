{
 "cells": [
  {
   "cell_type": "code",
   "execution_count": 1,
   "metadata": {},
   "outputs": [
    {
     "name": "stdout",
     "output_type": "stream",
     "text": [
      "/disk2/fli/REVIVAL2\n"
     ]
    }
   ],
   "source": [
    "%cd ~/REVIVAL2"
   ]
  },
  {
   "cell_type": "code",
   "execution_count": 2,
   "metadata": {},
   "outputs": [],
   "source": [
    "%load_ext autoreload\n",
    "%autoreload 2"
   ]
  },
  {
   "cell_type": "code",
   "execution_count": 3,
   "metadata": {},
   "outputs": [
    {
     "name": "stderr",
     "output_type": "stream",
     "text": [
      "/disk2/fli/miniconda3/envs/vina_2/lib/python3.9/site-packages/Bio/pairwise2.py:278: BiopythonDeprecationWarning: Bio.pairwise2 has been deprecated, and we intend to remove it in a future release of Biopython. As an alternative, please consider using Bio.Align.PairwiseAligner as a replacement, and contact the Biopython developers if you still need the Bio.pairwise2 module.\n",
      "  warnings.warn(\n"
     ]
    }
   ],
   "source": [
    "from MDAnalysis import Universe\n",
    "\n",
    "from REVIVAL.chem_helper import apply_mutation\n",
    "from REVIVAL.preprocess import ZSData\n",
    "from REVIVAL.zs.vina import ligand_smiles2pdbqt"
   ]
  },
  {
   "cell_type": "code",
   "execution_count": 6,
   "metadata": {},
   "outputs": [
    {
     "name": "stderr",
     "output_type": "stream",
     "text": [
      "1 molecule converted\n"
     ]
    }
   ],
   "source": [
    "ligand_smiles2pdbqt(\n",
    "    smiles=\"C1=CC2=C(C=CN2)C(=C1)Br.[O-]C1=C(/C=[N+]([H])/C(C([O-])=O)=C)C(CP([O-])([O-])=O)=CN=C1C.[Na+]\",\n",
    "    ligand_sdf_file=\"/disk2/fli/REVIVAL2/sandbox/test_vina/TrpB/joint.sdf\",\n",
    "    ligand_pdbqt_file=\"/disk2/fli/REVIVAL2/sandbox/test_vina/TrpB/joint.pdbqt\", pH=7.4   \n",
    ")"
   ]
  },
  {
   "cell_type": "code",
   "execution_count": 7,
   "metadata": {},
   "outputs": [
    {
     "name": "stderr",
     "output_type": "stream",
     "text": [
      "1 molecule converted\n"
     ]
    }
   ],
   "source": [
    "ligand_smiles2pdbqt(\n",
    "    smiles=\"[O-]C1=C(/C=[N+]([H])/C(C([O-])=O)=C)C(CP([O-])([O-])=O)=CN=C1C\",\n",
    "    ligand_sdf_file=\"/disk2/fli/REVIVAL2/sandbox/test_vina/TrpB/PLP-dependent_aminoacrylate.sdf\",\n",
    "    ligand_pdbqt_file=\"/disk2/fli/REVIVAL2/sandbox/test_vina/TrpB/PLP-dependent_aminoacrylate.pdbqt\", pH=7.4   \n",
    ")"
   ]
  },
  {
   "cell_type": "code",
   "execution_count": 9,
   "metadata": {},
   "outputs": [
    {
     "name": "stderr",
     "output_type": "stream",
     "text": [
      "1 molecule converted\n"
     ]
    }
   ],
   "source": [
    "ligand_smiles2pdbqt(\n",
    "    smiles=\"C1=CC2=C(C=CN2)C(=C1)Br\",\n",
    "    ligand_sdf_file=\"/disk2/fli/REVIVAL2/sandbox/test_vina/TrpB/4bromo.sdf\",\n",
    "    ligand_pdbqt_file=\"/disk2/fli/REVIVAL2/sandbox/test_vina/TrpB/4bromo.pdbqt\", pH=7.4   \n",
    ")"
   ]
  },
  {
   "cell_type": "code",
   "execution_count": 10,
   "metadata": {},
   "outputs": [
    {
     "name": "stderr",
     "output_type": "stream",
     "text": [
      "1 molecule converted\n"
     ]
    }
   ],
   "source": [
    "ligand_smiles2pdbqt(\n",
    "    smiles=\"[Na+]\",\n",
    "    ligand_sdf_file=\"/disk2/fli/REVIVAL2/sandbox/test_vina/TrpB/Na+.sdf\",\n",
    "    ligand_pdbqt_file=\"/disk2/fli/REVIVAL2/sandbox/test_vina/TrpB/Na+.pdbqt\", pH=7.4   \n",
    ")"
   ]
  },
  {
   "cell_type": "code",
   "execution_count": 14,
   "metadata": {},
   "outputs": [],
   "source": [
    "from REVIVAL.util import calculate_ligand_centroid"
   ]
  },
  {
   "cell_type": "code",
   "execution_count": 15,
   "metadata": {},
   "outputs": [],
   "source": [
    "from REVIVAL.global_param import ENZYME_INFO_DICT"
   ]
  },
  {
   "cell_type": "code",
   "execution_count": 36,
   "metadata": {},
   "outputs": [
    {
     "data": {
      "text/plain": [
       "array([ -1.8210907, -37.15664  , -14.083181 ], dtype=float32)"
      ]
     },
     "execution_count": 36,
     "metadata": {},
     "output_type": "execute_result"
    }
   ],
   "source": [
    "coords = calculate_ligand_centroid(\n",
    "    pdb_file=\"/disk2/fli/REVIVAL2/data/structure/PfTrpB.pdb\",\n",
    "    ligand_info=ENZYME_INFO_DICT[\"PfTrpB\"][\"ligand-info\"]\n",
    ")\n",
    "coords"
   ]
  },
  {
   "cell_type": "code",
   "execution_count": 19,
   "metadata": {},
   "outputs": [],
   "source": [
    "conf_path = \"/disk2/fli/REVIVAL2/sandbox/test_vina/TrpB/conf.txt\""
   ]
  },
  {
   "cell_type": "code",
   "execution_count": 24,
   "metadata": {},
   "outputs": [],
   "source": []
  },
  {
   "cell_type": "code",
   "execution_count": 32,
   "metadata": {},
   "outputs": [],
   "source": [
    "import os\n",
    "\n",
    "def pdb_to_pdbqt_protein(input_path: str, output_path=None, pH: float = 7.4):\n",
    "\n",
    "    \"\"\"\n",
    "    Convert a pdb file to a pdbqt file.\n",
    "    \"\"\"\n",
    "\n",
    "    # Need to first remove stuff that is sometimes added by\n",
    "    lines = []\n",
    "    with open(input_path, \"r+\") as fin:\n",
    "        for line in fin:\n",
    "            if (\n",
    "                line.split(\" \")[0] not in [\"ENDBRANCH\", \"BRANCH\", \"ROOT\", \"ENDROOT\"]\n",
    "                and \"Fe\" not in line\n",
    "            ):  # Add in the removal of the Iron bit\n",
    "                lines.append(line)\n",
    "    with open(input_path, \"w+\") as fout:\n",
    "        for line in lines:\n",
    "            fout.write(line)\n",
    "\n",
    "    output_path = output_path if output_path else input_path.replace(\".pdb\", \".pdbqt\")\n",
    "    os.system(\n",
    "        f\"obabel {input_path} -xr -p {pH} --partialcharge gasteiger -O {output_path}\"\n",
    "    )\n",
    "    # Now we also want to be cheeky and remove any secondary model parts from the file\n",
    "    # This is a hacky way to keep a bound heme or something, seems to work fine.\n",
    "    lines = []\n",
    "    with open(output_path, \"r+\") as fin:\n",
    "        for line in fin:\n",
    "            if line.split(\" \")[0] not in [\"MODEL\", \"TER\", \"ENDMDL\", \"REMARK\"]:\n",
    "                lines.append(line)\n",
    "    with open(output_path, \"w+\") as fout:\n",
    "        for line in lines:\n",
    "            if \"ENDMDL\" not in line:\n",
    "                fout.write(line)\n",
    "        fout.write(\"TER\\n\")\n"
   ]
  },
  {
   "cell_type": "code",
   "execution_count": 35,
   "metadata": {},
   "outputs": [
    {
     "name": "stderr",
     "output_type": "stream",
     "text": [
      "==============================\n",
      "*** Open Babel Warning  in PerceiveBondOrders\n",
      "  Failed to kekulize aromatic bonds in OBMol::PerceiveBondOrders (title is /disk2/fli/REVIVAL2/data/structure/apo/PfTrpB.pdb)\n",
      "\n",
      "1 molecule converted\n"
     ]
    }
   ],
   "source": [
    "pdb_to_pdbqt_protein(\n",
    "    input_path=\"/disk2/fli/REVIVAL2/data/structure/apo/PfTrpB.pdb\",\n",
    "    output_path=\"/disk2/fli/REVIVAL2/sandbox/test_vina/TrpB/apo_TrpB.pdbqt\", pH = 7.4)"
   ]
  },
  {
   "cell_type": "code",
   "execution_count": 48,
   "metadata": {},
   "outputs": [],
   "source": [
    "conf_path = \"/disk2/fli/REVIVAL2/sandbox/test_vina/TrpB/conf_3.txt\"\n",
    "receptor_pdbqt=\"/disk2/fli/REVIVAL2/sandbox/test_vina/TrpB/apo_TrpB_Na.pdbqt\"\n",
    "ligand_pdbqt=\"/disk2/fli/REVIVAL2/sandbox/test_vina/TrpB/4bromo.pdbqt\"\n",
    "cofactor2dock = [\n",
    "    \"/disk2/fli/REVIVAL2/sandbox/test_vina/TrpB/PLP-dependent_aminoacrylate.pdbqt\",\n",
    "    # \"/disk2/fli/REVIVAL2/sandbox/test_vina/TrpB/Na+.pdbqt\",\n",
    "]\n",
    "# NEED TO MERGE THE MAIN WITH NA\n",
    "\n",
    "with open(conf_path, \"w\") as fout:\n",
    "    fout.write(f\"receptor = {receptor_pdbqt}\\n\")\n",
    "    fout.write(f\"ligand = {ligand_pdbqt}\\n\")\n",
    "\n",
    "    # Include cofactors\n",
    "    if cofactor2dock is not None:\n",
    "        for cofactor_file in cofactor2dock:\n",
    "            fout.write(f\"ligand = {cofactor_file}\\n\")\n",
    "\n",
    "    fout.write(f\"center_x = {coords[0]}\\n\")\n",
    "    fout.write(f\"center_y = {coords[1]}\\n\")\n",
    "    fout.write(f\"center_z = {coords[2]}\\n\")\n",
    "    fout.write(f\"size_x = 20\\n\")\n",
    "    fout.write(f\"size_y = 20\\n\")\n",
    "    fout.write(f\"size_z = 20\\n\")\n",
    "    fout.write(\"num_modes = 9\\n\")\n",
    "    fout.write(\"exhaustiveness = 32\\n\")"
   ]
  },
  {
   "cell_type": "code",
   "execution_count": 53,
   "metadata": {},
   "outputs": [],
   "source": [
    "from REVIVAL.zs.vina import merge_pdbqt"
   ]
  },
  {
   "cell_type": "code",
   "execution_count": 54,
   "metadata": {},
   "outputs": [
    {
     "name": "stdout",
     "output_type": "stream",
     "text": [
      "Merging /disk2/fli/REVIVAL2/sandbox/test_vina/TrpB/apo_TrpB.pdbqt\n",
      "Merging /disk2/fli/REVIVAL2/sandbox/test_vina/TrpB/PLS.pdbqt\n",
      "Combined ATOM lines saved to /disk2/fli/REVIVAL2/sandbox/test_vina/TrpB/merge.pdbqt\n"
     ]
    }
   ],
   "source": [
    "merge_pdbqt(input_files=[\"/disk2/fli/REVIVAL2/sandbox/test_vina/TrpB/apo_TrpB.pdbqt\", \"/disk2/fli/REVIVAL2/sandbox/test_vina/TrpB/PLS.pdbqt\"],\n",
    "            output_file_path=\"/disk2/fli/REVIVAL2/sandbox/test_vina/TrpB/merge.pdbqt\")"
   ]
  },
  {
   "cell_type": "code",
   "execution_count": null,
   "metadata": {},
   "outputs": [],
   "source": [
    "\n",
    "# def dock_apo_lib_parallel(\n",
    "#     struct_dir: str, # ie \n",
    "#     dock_opt: str,  #  ie \"substrate\",\n",
    "#     score_only: bool,  # = True,\n",
    "#     cofactor_dets: str = \"cofactor\",\n",
    "#     vina_dir: str = \"zs/vina\",\n",
    "#     residues4centriod: list = None,\n",
    "#     from_pdb: bool = True,\n",
    "#     pH: float = 7.4,\n",
    "#     size_x=20.0,\n",
    "#     size_y=20.0,\n",
    "#     size_z=20.0,\n",
    "#     num_modes=9,\n",
    "#     exhaustiveness=32,\n",
    "#     regen=False,\n",
    "#     rerun=False,\n",
    "#     seed=42,\n",
    "#     num_cpus=None,  # for each dock function\n",
    "#     max_workers=24,  # Number of parallelized variants to be docked\n",
    "# ):"
   ]
  },
  {
   "cell_type": "code",
   "execution_count": null,
   "metadata": {},
   "outputs": [],
   "source": [
    "# first clean the apo to be apo\n",
    "# then mutate the apo to have variant seq\n",
    "# then dock from smiles "
   ]
  },
  {
   "cell_type": "code",
   "execution_count": 45,
   "metadata": {},
   "outputs": [
    {
     "name": "stderr",
     "output_type": "stream",
     "text": [
      "1 molecule converted\n"
     ]
    }
   ],
   "source": [
    "ligand_smiles2pdbqt(\n",
    "    smiles=r\"C=CC1=C(/C=C2C(C)=C(C=C)C3=N/2)NC(/C=C4N=C(/C=C(C(CCC([O-])=O)=C/5C)\\NC5=C/3)C(CCC([O-])=O)=C\\4C)=C1C\",\n",
    "    ligand_sdf_file=\"/disk2/fli/REVIVAL2/sandbox/test_vina/ParLQ/heme-no-Fe.sdf\",\n",
    "    ligand_pdbqt_file=\"/disk2/fli/REVIVAL2/sandbox/test_vina/ParLQ/heme-no-Fe.pdbqt\", pH=7.4\n",
    ")"
   ]
  },
  {
   "cell_type": "code",
   "execution_count": 46,
   "metadata": {},
   "outputs": [
    {
     "name": "stderr",
     "output_type": "stream",
     "text": [
      "1 molecule converted\n"
     ]
    }
   ],
   "source": [
    "ligand_smiles2pdbqt(\n",
    "    smiles=\"CCOC([C])=O\",\n",
    "    ligand_sdf_file=\"/disk2/fli/REVIVAL2/sandbox/test_vina/ParLQ/activated-carbene.sdf\",\n",
    "    ligand_pdbqt_file=\"/disk2/fli/REVIVAL2/sandbox/test_vina/ParLQ/activated-carbene.pdbqt\", pH=7.4\n",
    ")"
   ]
  },
  {
   "cell_type": "code",
   "execution_count": 49,
   "metadata": {},
   "outputs": [
    {
     "name": "stderr",
     "output_type": "stream",
     "text": [
      "==============================\n",
      "*** Open Babel Warning  in PerceiveBondOrders\n",
      "  Failed to kekulize aromatic bonds in OBMol::PerceiveBondOrders (title is /disk2/fli/REVIVAL2/data/structure/apo/ParLQ.pdb)\n",
      "\n",
      "1 molecule converted\n"
     ]
    }
   ],
   "source": [
    "pdb_to_pdbqt_protein(\n",
    "    input_path=\"/disk2/fli/REVIVAL2/data/structure/apo/ParLQ.pdb\",\n",
    "    output_path=\"/disk2/fli/REVIVAL2/sandbox/test_vina/ParLQ/apo_ParLQ.pdbqt\", pH = 7.4)"
   ]
  },
  {
   "cell_type": "code",
   "execution_count": 51,
   "metadata": {},
   "outputs": [
    {
     "data": {
      "text/plain": [
       "array([ 1.9006428,  5.4527626, -3.6450245], dtype=float32)"
      ]
     },
     "execution_count": 51,
     "metadata": {},
     "output_type": "execute_result"
    }
   ],
   "source": [
    "coords = calculate_ligand_centroid(\n",
    "    pdb_file=\"/disk2/fli/REVIVAL2/data/structure/ParLQ.pdb\",\n",
    "    ligand_info=ENZYME_INFO_DICT[\"ParLQ\"][\"ligand-info\"]\n",
    ")\n",
    "coords"
   ]
  },
  {
   "cell_type": "code",
   "execution_count": 52,
   "metadata": {},
   "outputs": [],
   "source": [
    "conf_path = \"/disk2/fli/REVIVAL2/sandbox/test_vina/ParLQ/conf.txt\"\n",
    "receptor_pdbqt=\"/disk2/fli/REVIVAL2/sandbox/test_vina/ParLQ/apo_ParLQ_fe.pdbqt\"\n",
    "ligand_pdbqt=\"/disk2/fli/REVIVAL2/sandbox/test_vina/ParLQ/4-vinylanisole.pdbqt\"\n",
    "cofactor2dock = [\n",
    "    \"/disk2/fli/REVIVAL2/sandbox/test_vina/ParLQ/activated-carbene.pdbqt\",\n",
    "    \"/disk2/fli/REVIVAL2/sandbox/test_vina/ParLQ/heme-no-Fe.pdbqt\"\n",
    "]\n",
    "# NEED TO MERGE THE MAIN WITH NA\n",
    "\n",
    "with open(conf_path, \"w\") as fout:\n",
    "    fout.write(f\"receptor = {receptor_pdbqt}\\n\")\n",
    "    fout.write(f\"ligand = {ligand_pdbqt}\\n\")\n",
    "\n",
    "    # Include cofactors\n",
    "    if cofactor2dock is not None:\n",
    "        for cofactor_file in cofactor2dock:\n",
    "            fout.write(f\"ligand = {cofactor_file}\\n\")\n",
    "\n",
    "    fout.write(f\"center_x = {coords[0]}\\n\")\n",
    "    fout.write(f\"center_y = {coords[1]}\\n\")\n",
    "    fout.write(f\"center_z = {coords[2]}\\n\")\n",
    "    fout.write(f\"size_x = 20\\n\")\n",
    "    fout.write(f\"size_y = 20\\n\")\n",
    "    fout.write(f\"size_z = 20\\n\")\n",
    "    fout.write(\"num_modes = 9\\n\")\n",
    "    fout.write(\"exhaustiveness = 32\\n\")"
   ]
  },
  {
   "cell_type": "code",
   "execution_count": null,
   "metadata": {},
   "outputs": [],
   "source": [
    "# for tprb and heme based, can do all seperate\n",
    "# for trpb can also do just substrate with PLS Na from pdb\n",
    "# heme based can do pdb for heme then with carbene and substrate"
   ]
  },
  {
   "cell_type": "code",
   "execution_count": 60,
   "metadata": {},
   "outputs": [],
   "source": [
    "import shutil\n",
    "from REVIVAL.global_param import AA_DICT\n",
    "from REVIVAL.zs.vina import mutate_and_save_pdb, merge_pdbqt\n",
    "from REVIVAL.util import checkNgen_folder, save_hetatm_only"
   ]
  },
  {
   "cell_type": "code",
   "execution_count": null,
   "metadata": {},
   "outputs": [],
   "source": [
    "class VinaApoDock(ZSData):\n",
    "    \n",
    "    def __init__(\n",
    "        self,\n",
    "        input_csv: str,\n",
    "        dock_opt: str,  #  ie \"substrate\", \"joint\", \"all\"\n",
    "        cofactor_dets: str = \"cofactor\", # or inactivated_cofactor\n",
    "        in_structure_dir: str = \"data/structure/apo\",\n",
    "        combo_col_name: str = \"AAs\",\n",
    "        var_col_name: str = \"var\",\n",
    "        fit_col_name: str = \"fitness\",\n",
    "        output_dir: str = \"zs/vina/apo\",\n",
    "        pH: float = 7.4,\n",
    "        size_x: float = 20.0,\n",
    "        size_y: float = 20.0,\n",
    "        size_z: float = 20.0,\n",
    "        num_modes: int = 9,\n",
    "        exhaustiveness: int = 32,\n",
    "        regen: bool = False,\n",
    "        redock: bool = False\n",
    "    ):\n",
    "\n",
    "        super().__init__(\n",
    "            input_csv=input_csv,\n",
    "            combo_col_name=combo_col_name,\n",
    "            fit_col_name=fit_col_name,\n",
    "        )\n",
    "\n",
    "        self._dock_opt = dock_opt\n",
    "        self._cofactor_dets = cofactor_dets\n",
    "        self._in_structure_dir = in_structure_dir\n",
    "        self._output_dir = checkNgen_folder(output_dir)\n",
    "        self._common_pdbqt_dir = checkNgen_folder(os.path.join(self._output_dir, \"common_pdbqt\"))\n",
    "\n",
    "        self._pH = pH\n",
    "        self._size_x = size_x\n",
    "        self._size_y = size_y\n",
    "        self._size_z = size_z\n",
    "        self._num_modes = num_modes\n",
    "        self._exhaustiveness = exhaustiveness\n",
    "\n",
    "        self._regen = regen\n",
    "        self._redock = redock\n",
    "\n",
    "        self._coords = self._get_coords()\n",
    "\n",
    "        self._ligand_pdbqt = os.path.join(self._common_pdbqt_dir, f\"{self.substrate_dets}.pdbqt\")\n",
    "        self._cofactor2dock, self._cofactor2freeze = self._prep_common_pdbqt()\n",
    "\n",
    "\n",
    "    def _get_coords(self):\n",
    "        \"\"\"\n",
    "        Calculates the centroid of the ligand in the given structure.\n",
    "        \"\"\"\n",
    "\n",
    "        coords = calculate_ligand_centroid(\n",
    "            pdb_file=self.clean_struct, # the main pdb file dir\n",
    "            ligand_info=ENZYME_INFO_DICT[self.protein_name][\"ligand-info\"]\n",
    "        )\n",
    "\n",
    "        return coords\n",
    "\n",
    "\n",
    "    def _prep_common_pdbqt(self):\n",
    "        \"\"\"\n",
    "        Prepares the PDBQT files for docking by converting smiles to PDBQT format.\n",
    "        \"\"\"\n",
    "\n",
    "        # generate all pdbqt files from substrate and individual cofactor\n",
    "        ligand_smiles2pdbqt(\n",
    "            smiles=self.substrate_smiles,\n",
    "            ligand_sdf_file=self._ligand_pdbqt.replace(\".pdbqt\", \".sdf\"),\n",
    "            ligand_pdbqt_file=self._ligand_pdbqt,\n",
    "            pH=self._pH\n",
    "        )\n",
    "\n",
    "        cofactor2dock = []\n",
    "        cofactor2freeze = []\n",
    "\n",
    "        for (cofactor_name, cofactor_smiles) in zip(\n",
    "            self.lib_info[self._cofactor_dets],\n",
    "            self.lib_info[f\"{self._cofactor_dets}-smiles\"],\n",
    "        ):  \n",
    "            sub_folder = checkNgen_folder(os.path.join(self._common_pdbqt_dir, cofactor_name))\n",
    "            cofactor_pdbqt = os.path.join(sub_folder, f\"{cofactor_name}.pdbqt\")\n",
    "\n",
    "            if self._dock_opt == \"all\":\n",
    "                cofactor2dock.append(cofactor_pdbqt)\n",
    "                ligand_smiles2pdbqt(\n",
    "                    smiles=cofactor_smiles,\n",
    "                    ligand_sdf_file=cofactor_pdbqt.replace(\".pdbqt\", \".sdf\"),\n",
    "                    ligand_pdbqt_file=cofactor_pdbqt,\n",
    "                    pH=self._pH\n",
    "                )\n",
    "        \n",
    "            # substrate only for trpb but sub + carbene for heme\n",
    "            # extract heat atom to a pdb\n",
    "            else:\n",
    "                hetatm_pdbqt = os.path.join(sub_folder, \"hetatm.pdbqt\")\n",
    "                save_hetatm_only(\n",
    "                    pdb_file=self._ligand_pdbqt,\n",
    "                    hetatm_file=hetatm_pdbqt\n",
    "                )\n",
    "                cofactor2freeze.append(hetatm_pdbqt)\n",
    "            \n",
    "        return cofactor2dock, cofactor2freeze\n",
    "            \n",
    "    def _mutate_apo(self, var):\n",
    "        \"\"\"\n",
    "        Mutates the apo structure with the given mutation.\n",
    "        \"\"\"\n",
    "\n",
    "        # make var_dir\n",
    "        var_dir = checkNgen_folder(os.path.join(self._output_dir, var))\n",
    "        var_pdb = os.path.join(var_dir, f\"{var}.pdb\")\n",
    "\n",
    "        mutation_dict = {}\n",
    "\n",
    "        if var != \"WT\":\n",
    "            for v in var.split(\":\"):\n",
    "                mutation_dict[int(v[1:-1])] = AA_DICT[v[-1]]\n",
    "\n",
    "            # Mutate the apo structure\n",
    "            mutate_and_save_pdb(\n",
    "                parent_pdb=f\"{self._in_structure_dir}/{self.protein_name}.pdb\",\n",
    "                mutations=mutation_dict,\n",
    "                output_pdb=var_pdb\n",
    "            )\n",
    "\n",
    "        else:\n",
    "            # copy the apo structure to the output directory\n",
    "            shutil.copy(self.apo_struct, var_pdb)\n",
    "        \n",
    "        return var_pdb\n",
    "\n",
    "    def _make_config(self, var):\n",
    "        \"\"\"\n",
    "        Makes the config file for docking.\n",
    "        \"\"\"\n",
    "\n",
    "        var_dir = checkNgen_folder(os.path.join(self._output_dir, var))\n",
    "        conf_path = os.path.join(var_dir, \"conf.txt\")\n",
    "\n",
    "        # make the receptor pdbqt file\n",
    "        if self._dock_opt != \"all\" and self._cofactor2freeze != []:\n",
    "            # merge the pdbqt files\n",
    "            receptor_pdbqt = os.path.join(var_dir, \"receptor.pdbqt\")\n",
    "            merge_pdbqt(\n",
    "                input_files=[self._mutate_apo(var)] + self._cofactor2freeze,\n",
    "                output_file_path=receptor_pdbqt\n",
    "            )\n",
    "\n",
    "        else:\n",
    "            receptor_pdbqt = self._mutate_apo(var)\n",
    "\n",
    "        with open(conf_path, \"w\") as fout:\n",
    "            fout.write(f\"receptor = {receptor_pdbqt}\\n\")\n",
    "            fout.write(f\"ligand = {self._ligand_pdbqt}\\n\")\n",
    "\n",
    "            # Include cofactors\n",
    "            if self._cofactor2dock is not None:\n",
    "                for cofactor_file in self._cofactor2dock:\n",
    "                    fout.write(f\"ligand = {cofactor_file}\\n\")\n",
    "\n",
    "            fout.write(f\"center_x = {self._coords[0]}\\n\")\n",
    "            fout.write(f\"center_y = {self._coords[1]}\\n\")\n",
    "            fout.write(f\"center_z = {self._coords[2]}\\n\")\n",
    "            fout.write(f\"size_x = {self._size_x}\\n\")\n",
    "            fout.write(f\"size_y = {self._size_y}\\n\")\n",
    "            fout.write(f\"size_z = {self._size_z}\\n\")\n",
    "            fout.write(f\"num_modes = {self._num_modes}\\n\")\n",
    "            fout.write(f\"exhaustiveness = {self._exhaustiveness}\\n\")\n",
    "\n",
    "        return conf_path\n",
    "\n",
    "    def _dock(self, var):\n",
    "        \"\"\"\n",
    "        Dock the given variant.\n",
    "        \"\"\"\n",
    "\n",
    "        # make the config file\n",
    "        conf_path = self._make_config(var)\n",
    "\n",
    "        # dock the variant\n",
    "        os.system(f\"vina --config {conf_path} --log {self._output_dir}/{var}/log.txt\")\n",
    "        \n",
    "    def _dock_lib_parallel(self):\n",
    "        \"\"\"\n",
    "        Dock the library in parallel.\n",
    "        \"\"\"\n",
    "\n",
    "        # dock the library in parallel\n",
    "        with concurrent.futures.ThreadPoolExecutor(max_workers=self._max_workers) as executor:\n",
    "            futures = []\n",
    "            for var in self.lib_info[self._var_col_name]:\n",
    "                if self._regen or self._redock:\n",
    "                    futures.append(executor.submit(self._dock, var))\n",
    "                else:\n",
    "                    if not os.path.exists(os.path.join(self._output_dir, var, \"log.txt\")):\n",
    "                        futures.append(executor.submit(self._dock, var))\n",
    "\n",
    "            for future in concurrent.futures.as_completed(futures):\n",
    "                future.result()\n",
    "\n",
    "\n",
    "    @property\n",
    "    def clean_struct(self):\n",
    "        \"\"\"The clean (no water or SO4) pdb file of the protein.\"\"\"\n",
    "        return os.path.join(self._in_structure_dir, \"clean\", f\"{self.protein_name}.pdb\")\n",
    "\n",
    "    @property\n",
    "    def apo_struct(self):\n",
    "        \"\"\"The apo pdb file of the protein.\"\"\"\n",
    "        return os.path.join(self._in_structure_dir, \"apo\", f\"{self.protein_name}.pdb\")\n",
    "    \n",
    "    @property\n",
    "    def coords(self):\n",
    "        return self._coords\n",
    "            \n",
    "\n",
    "        \n"
   ]
  },
  {
   "cell_type": "code",
   "execution_count": null,
   "metadata": {},
   "outputs": [],
   "source": []
  }
 ],
 "metadata": {
  "kernelspec": {
   "display_name": "vina_2",
   "language": "python",
   "name": "python3"
  },
  "language_info": {
   "codemirror_mode": {
    "name": "ipython",
    "version": 3
   },
   "file_extension": ".py",
   "mimetype": "text/x-python",
   "name": "python",
   "nbconvert_exporter": "python",
   "pygments_lexer": "ipython3",
   "version": "3.9.7"
  }
 },
 "nbformat": 4,
 "nbformat_minor": 2
}
