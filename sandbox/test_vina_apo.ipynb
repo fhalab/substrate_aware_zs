{
 "cells": [
  {
   "cell_type": "code",
   "execution_count": 1,
   "metadata": {},
   "outputs": [
    {
     "name": "stdout",
     "output_type": "stream",
     "text": [
      "/disk2/fli/REVIVAL2\n"
     ]
    }
   ],
   "source": [
    "%cd ~/REVIVAL2"
   ]
  },
  {
   "cell_type": "code",
   "execution_count": 2,
   "metadata": {},
   "outputs": [],
   "source": [
    "%load_ext autoreload\n",
    "%autoreload 2"
   ]
  },
  {
   "cell_type": "code",
   "execution_count": 3,
   "metadata": {},
   "outputs": [
    {
     "name": "stderr",
     "output_type": "stream",
     "text": [
      "/disk2/fli/miniconda3/envs/vina_2/lib/python3.9/site-packages/Bio/pairwise2.py:278: BiopythonDeprecationWarning: Bio.pairwise2 has been deprecated, and we intend to remove it in a future release of Biopython. As an alternative, please consider using Bio.Align.PairwiseAligner as a replacement, and contact the Biopython developers if you still need the Bio.pairwise2 module.\n",
      "  warnings.warn(\n"
     ]
    }
   ],
   "source": [
    "from MDAnalysis import Universe\n",
    "\n",
    "from REVIVAL.chem_helper import apply_mutation\n",
    "from REVIVAL.preprocess import ZSData\n",
    "from REVIVAL.zs.vina import ligand_smiles2pdbqt"
   ]
  },
  {
   "cell_type": "code",
   "execution_count": 4,
   "metadata": {},
   "outputs": [],
   "source": [
    "\n",
    "def mutate_and_save_pdb(parent_pdb, mutations, output_pdb):\n",
    "    \"\"\"\n",
    "    Apply mutations to a PDB structure and save the mutated structure.\n",
    "\n",
    "    Args:\n",
    "        parent_pdb (str): Path to the parent PDB file.\n",
    "        mutations (dict): Dictionary of mutations in the format {residue_id: new_aa}.\n",
    "        output_pdb (str): Path to save the mutated PDB file.\n",
    "\n",
    "    Returns:\n",
    "        str: Path to the saved mutated PDB file.\n",
    "    \"\"\"\n",
    "\n",
    "    # Load the parent structure\n",
    "    universe = Universe(parent_pdb)\n",
    "\n",
    "    # Apply all mutations\n",
    "    for loc, aa in mutations.items():\n",
    "        universe = apply_mutation(universe, (loc, aa))  # Ensure apply_mutation is defined\n",
    "\n",
    "    # Save the mutated structure\n",
    "    universe.atoms.write(output_pdb)\n",
    "    print(f\"Mutated structure saved to: {output_pdb}\")\n",
    "\n",
    "    return output_pdb"
   ]
  },
  {
   "cell_type": "code",
   "execution_count": 5,
   "metadata": {},
   "outputs": [],
   "source": [
    "class VinaApoDock(ZSData):\n",
    "    \n",
    "    def __init__(\n",
    "        self,\n",
    "        input_csv: str,\n",
    "        dock_opt: str,  #  ie \"substrate\", \"joint\", \"seperate\"\n",
    "        cofactor_dets: str = \"cofactor\", # or inactivated_cofactor\n",
    "        in_structure_dir: str = \"data/structure/apo\",\n",
    "        combo_col_name: str = \"AAs\",\n",
    "        fit_col_name: str = \"fitness\",\n",
    "        output_dir: str = \"zs/vina/apo\",\n",
    "        withsub: bool = True,\n",
    "        regen: bool = False,\n",
    "        redock: bool = False\n",
    "    ):\n",
    "\n",
    "        super().__init__(\n",
    "            input_csv=input_csv,\n",
    "            combo_col_name=combo_col_name,\n",
    "            fit_col_name=fit_col_name,\n",
    "            withsub=withsub,\n",
    "        )\n",
    "\n",
    "        self._dock_opt = dock_opt\n",
    "        self._cofactor_dets = cofactor_dets\n",
    "        self._in_structure_dir = in_structure_dir\n",
    "        self._output_dir = output_dir\n",
    "        self._regen = regen\n",
    "        self._redock = redock\n",
    "\n",
    "    def _prep_pdbqt(self):\n",
    "        \"\"\"\n",
    "        Prepares the PDBQT files for docking by converting smiles to PDBQT format.\n",
    "        \"\"\"\n",
    "        # make each substrate, cofactor, and inactivated cofactor into a pdbqt\n",
    "        if self._dock_opt == \"seperate\":\n",
    "            pass\n",
    "\n",
    "            \n",
    "\n",
    "        \n"
   ]
  },
  {
   "cell_type": "code",
   "execution_count": null,
   "metadata": {},
   "outputs": [],
   "source": []
  },
  {
   "cell_type": "code",
   "execution_count": 6,
   "metadata": {},
   "outputs": [
    {
     "name": "stderr",
     "output_type": "stream",
     "text": [
      "1 molecule converted\n"
     ]
    }
   ],
   "source": [
    "ligand_smiles2pdbqt(\n",
    "    smiles=\"C1=CC2=C(C=CN2)C(=C1)Br.[O-]C1=C(/C=[N+]([H])/C(C([O-])=O)=C)C(CP([O-])([O-])=O)=CN=C1C.[Na+]\",\n",
    "    ligand_sdf_file=\"/disk2/fli/REVIVAL2/sandbox/test_vina/TrpB/joint.sdf\",\n",
    "    ligand_pdbqt_file=\"/disk2/fli/REVIVAL2/sandbox/test_vina/TrpB/joint.pdbqt\", pH=7.4   \n",
    ")"
   ]
  },
  {
   "cell_type": "code",
   "execution_count": 7,
   "metadata": {},
   "outputs": [
    {
     "name": "stderr",
     "output_type": "stream",
     "text": [
      "1 molecule converted\n"
     ]
    }
   ],
   "source": [
    "ligand_smiles2pdbqt(\n",
    "    smiles=\"[O-]C1=C(/C=[N+]([H])/C(C([O-])=O)=C)C(CP([O-])([O-])=O)=CN=C1C\",\n",
    "    ligand_sdf_file=\"/disk2/fli/REVIVAL2/sandbox/test_vina/TrpB/PLP-dependent_aminoacrylate.sdf\",\n",
    "    ligand_pdbqt_file=\"/disk2/fli/REVIVAL2/sandbox/test_vina/TrpB/PLP-dependent_aminoacrylate.pdbqt\", pH=7.4   \n",
    ")"
   ]
  },
  {
   "cell_type": "code",
   "execution_count": 9,
   "metadata": {},
   "outputs": [
    {
     "name": "stderr",
     "output_type": "stream",
     "text": [
      "1 molecule converted\n"
     ]
    }
   ],
   "source": [
    "ligand_smiles2pdbqt(\n",
    "    smiles=\"C1=CC2=C(C=CN2)C(=C1)Br\",\n",
    "    ligand_sdf_file=\"/disk2/fli/REVIVAL2/sandbox/test_vina/TrpB/4bromo.sdf\",\n",
    "    ligand_pdbqt_file=\"/disk2/fli/REVIVAL2/sandbox/test_vina/TrpB/4bromo.pdbqt\", pH=7.4   \n",
    ")"
   ]
  },
  {
   "cell_type": "code",
   "execution_count": 10,
   "metadata": {},
   "outputs": [
    {
     "name": "stderr",
     "output_type": "stream",
     "text": [
      "1 molecule converted\n"
     ]
    }
   ],
   "source": [
    "ligand_smiles2pdbqt(\n",
    "    smiles=\"[Na+]\",\n",
    "    ligand_sdf_file=\"/disk2/fli/REVIVAL2/sandbox/test_vina/TrpB/Na+.sdf\",\n",
    "    ligand_pdbqt_file=\"/disk2/fli/REVIVAL2/sandbox/test_vina/TrpB/Na+.pdbqt\", pH=7.4   \n",
    ")"
   ]
  },
  {
   "cell_type": "code",
   "execution_count": 14,
   "metadata": {},
   "outputs": [],
   "source": [
    "from REVIVAL.util import calculate_ligand_centroid"
   ]
  },
  {
   "cell_type": "code",
   "execution_count": 15,
   "metadata": {},
   "outputs": [],
   "source": [
    "from REVIVAL.global_param import ENZYME_INFO_DICT"
   ]
  },
  {
   "cell_type": "code",
   "execution_count": 36,
   "metadata": {},
   "outputs": [
    {
     "data": {
      "text/plain": [
       "array([ -1.8210907, -37.15664  , -14.083181 ], dtype=float32)"
      ]
     },
     "execution_count": 36,
     "metadata": {},
     "output_type": "execute_result"
    }
   ],
   "source": [
    "coords = calculate_ligand_centroid(\n",
    "    pdb_file=\"/disk2/fli/REVIVAL2/data/structure/PfTrpB.pdb\",\n",
    "    ligand_info=ENZYME_INFO_DICT[\"PfTrpB\"][\"ligand-info\"]\n",
    ")\n",
    "coords"
   ]
  },
  {
   "cell_type": "code",
   "execution_count": 19,
   "metadata": {},
   "outputs": [],
   "source": [
    "conf_path = \"/disk2/fli/REVIVAL2/sandbox/test_vina/TrpB/conf.txt\""
   ]
  },
  {
   "cell_type": "code",
   "execution_count": 24,
   "metadata": {},
   "outputs": [],
   "source": []
  },
  {
   "cell_type": "code",
   "execution_count": 32,
   "metadata": {},
   "outputs": [],
   "source": [
    "import os\n",
    "\n",
    "def pdb_to_pdbqt_protein(input_path: str, output_path=None, pH: float = 7.4):\n",
    "\n",
    "    \"\"\"\n",
    "    Convert a pdb file to a pdbqt file.\n",
    "    \"\"\"\n",
    "\n",
    "    # Need to first remove stuff that is sometimes added by\n",
    "    lines = []\n",
    "    with open(input_path, \"r+\") as fin:\n",
    "        for line in fin:\n",
    "            if (\n",
    "                line.split(\" \")[0] not in [\"ENDBRANCH\", \"BRANCH\", \"ROOT\", \"ENDROOT\"]\n",
    "                and \"Fe\" not in line\n",
    "            ):  # Add in the removal of the Iron bit\n",
    "                lines.append(line)\n",
    "    with open(input_path, \"w+\") as fout:\n",
    "        for line in lines:\n",
    "            fout.write(line)\n",
    "\n",
    "    output_path = output_path if output_path else input_path.replace(\".pdb\", \".pdbqt\")\n",
    "    os.system(\n",
    "        f\"obabel {input_path} -xr -p {pH} --partialcharge gasteiger -O {output_path}\"\n",
    "    )\n",
    "    # Now we also want to be cheeky and remove any secondary model parts from the file\n",
    "    # This is a hacky way to keep a bound heme or something, seems to work fine.\n",
    "    lines = []\n",
    "    with open(output_path, \"r+\") as fin:\n",
    "        for line in fin:\n",
    "            if line.split(\" \")[0] not in [\"MODEL\", \"TER\", \"ENDMDL\", \"REMARK\"]:\n",
    "                lines.append(line)\n",
    "    with open(output_path, \"w+\") as fout:\n",
    "        for line in lines:\n",
    "            if \"ENDMDL\" not in line:\n",
    "                fout.write(line)\n",
    "        fout.write(\"TER\\n\")\n"
   ]
  },
  {
   "cell_type": "code",
   "execution_count": 35,
   "metadata": {},
   "outputs": [
    {
     "name": "stderr",
     "output_type": "stream",
     "text": [
      "==============================\n",
      "*** Open Babel Warning  in PerceiveBondOrders\n",
      "  Failed to kekulize aromatic bonds in OBMol::PerceiveBondOrders (title is /disk2/fli/REVIVAL2/data/structure/apo/PfTrpB.pdb)\n",
      "\n",
      "1 molecule converted\n"
     ]
    }
   ],
   "source": [
    "pdb_to_pdbqt_protein(\n",
    "    input_path=\"/disk2/fli/REVIVAL2/data/structure/apo/PfTrpB.pdb\",\n",
    "    output_path=\"/disk2/fli/REVIVAL2/sandbox/test_vina/TrpB/apo_TrpB.pdbqt\", pH = 7.4)"
   ]
  },
  {
   "cell_type": "code",
   "execution_count": 48,
   "metadata": {},
   "outputs": [],
   "source": [
    "conf_path = \"/disk2/fli/REVIVAL2/sandbox/test_vina/TrpB/conf_3.txt\"\n",
    "receptor_pdbqt=\"/disk2/fli/REVIVAL2/sandbox/test_vina/TrpB/apo_TrpB_Na.pdbqt\"\n",
    "ligand_pdbqt=\"/disk2/fli/REVIVAL2/sandbox/test_vina/TrpB/4bromo.pdbqt\"\n",
    "cofactor2dock = [\n",
    "    \"/disk2/fli/REVIVAL2/sandbox/test_vina/TrpB/PLP-dependent_aminoacrylate.pdbqt\",\n",
    "    # \"/disk2/fli/REVIVAL2/sandbox/test_vina/TrpB/Na+.pdbqt\",\n",
    "]\n",
    "# NEED TO MERGE THE MAIN WITH NA\n",
    "\n",
    "with open(conf_path, \"w\") as fout:\n",
    "    fout.write(f\"receptor = {receptor_pdbqt}\\n\")\n",
    "    fout.write(f\"ligand = {ligand_pdbqt}\\n\")\n",
    "\n",
    "    # Include cofactors\n",
    "    if cofactor2dock is not None:\n",
    "        for cofactor_file in cofactor2dock:\n",
    "            fout.write(f\"ligand = {cofactor_file}\\n\")\n",
    "\n",
    "    fout.write(f\"center_x = {coords[0]}\\n\")\n",
    "    fout.write(f\"center_y = {coords[1]}\\n\")\n",
    "    fout.write(f\"center_z = {coords[2]}\\n\")\n",
    "    fout.write(f\"size_x = 20\\n\")\n",
    "    fout.write(f\"size_y = 20\\n\")\n",
    "    fout.write(f\"size_z = 20\\n\")\n",
    "    fout.write(\"num_modes = 9\\n\")\n",
    "    fout.write(\"exhaustiveness = 32\\n\")"
   ]
  },
  {
   "cell_type": "code",
   "execution_count": null,
   "metadata": {},
   "outputs": [],
   "source": [
    "\n",
    "# def dock_apo_lib_parallel(\n",
    "#     struct_dir: str, # ie \n",
    "#     dock_opt: str,  #  ie \"substrate\",\n",
    "#     score_only: bool,  # = True,\n",
    "#     cofactor_dets: str = \"cofactor\",\n",
    "#     vina_dir: str = \"zs/vina\",\n",
    "#     residues4centriod: list = None,\n",
    "#     from_pdb: bool = True,\n",
    "#     pH: float = 7.4,\n",
    "#     size_x=20.0,\n",
    "#     size_y=20.0,\n",
    "#     size_z=20.0,\n",
    "#     num_modes=9,\n",
    "#     exhaustiveness=32,\n",
    "#     regen=False,\n",
    "#     rerun=False,\n",
    "#     seed=42,\n",
    "#     num_cpus=None,  # for each dock function\n",
    "#     max_workers=24,  # Number of parallelized variants to be docked\n",
    "# ):"
   ]
  },
  {
   "cell_type": "code",
   "execution_count": null,
   "metadata": {},
   "outputs": [],
   "source": [
    "# first clean the apo to be apo\n",
    "# then mutate the apo to have variant seq\n",
    "# then dock from smiles "
   ]
  },
  {
   "cell_type": "code",
   "execution_count": 45,
   "metadata": {},
   "outputs": [
    {
     "name": "stderr",
     "output_type": "stream",
     "text": [
      "1 molecule converted\n"
     ]
    }
   ],
   "source": [
    "ligand_smiles2pdbqt(\n",
    "    smiles=r\"C=CC1=C(/C=C2C(C)=C(C=C)C3=N/2)NC(/C=C4N=C(/C=C(C(CCC([O-])=O)=C/5C)\\NC5=C/3)C(CCC([O-])=O)=C\\4C)=C1C\",\n",
    "    ligand_sdf_file=\"/disk2/fli/REVIVAL2/sandbox/test_vina/ParLQ/heme-no-Fe.sdf\",\n",
    "    ligand_pdbqt_file=\"/disk2/fli/REVIVAL2/sandbox/test_vina/ParLQ/heme-no-Fe.pdbqt\", pH=7.4\n",
    ")"
   ]
  },
  {
   "cell_type": "code",
   "execution_count": 46,
   "metadata": {},
   "outputs": [
    {
     "name": "stderr",
     "output_type": "stream",
     "text": [
      "1 molecule converted\n"
     ]
    }
   ],
   "source": [
    "ligand_smiles2pdbqt(\n",
    "    smiles=\"CCOC([C])=O\",\n",
    "    ligand_sdf_file=\"/disk2/fli/REVIVAL2/sandbox/test_vina/ParLQ/activated-carbene.sdf\",\n",
    "    ligand_pdbqt_file=\"/disk2/fli/REVIVAL2/sandbox/test_vina/ParLQ/activated-carbene.pdbqt\", pH=7.4\n",
    ")"
   ]
  },
  {
   "cell_type": "code",
   "execution_count": 49,
   "metadata": {},
   "outputs": [
    {
     "name": "stderr",
     "output_type": "stream",
     "text": [
      "==============================\n",
      "*** Open Babel Warning  in PerceiveBondOrders\n",
      "  Failed to kekulize aromatic bonds in OBMol::PerceiveBondOrders (title is /disk2/fli/REVIVAL2/data/structure/apo/ParLQ.pdb)\n",
      "\n",
      "1 molecule converted\n"
     ]
    }
   ],
   "source": [
    "pdb_to_pdbqt_protein(\n",
    "    input_path=\"/disk2/fli/REVIVAL2/data/structure/apo/ParLQ.pdb\",\n",
    "    output_path=\"/disk2/fli/REVIVAL2/sandbox/test_vina/ParLQ/apo_ParLQ.pdbqt\", pH = 7.4)"
   ]
  },
  {
   "cell_type": "code",
   "execution_count": 51,
   "metadata": {},
   "outputs": [
    {
     "data": {
      "text/plain": [
       "array([ 1.9006428,  5.4527626, -3.6450245], dtype=float32)"
      ]
     },
     "execution_count": 51,
     "metadata": {},
     "output_type": "execute_result"
    }
   ],
   "source": [
    "coords = calculate_ligand_centroid(\n",
    "    pdb_file=\"/disk2/fli/REVIVAL2/data/structure/ParLQ.pdb\",\n",
    "    ligand_info=ENZYME_INFO_DICT[\"ParLQ\"][\"ligand-info\"]\n",
    ")\n",
    "coords"
   ]
  },
  {
   "cell_type": "code",
   "execution_count": 52,
   "metadata": {},
   "outputs": [],
   "source": [
    "conf_path = \"/disk2/fli/REVIVAL2/sandbox/test_vina/ParLQ/conf.txt\"\n",
    "receptor_pdbqt=\"/disk2/fli/REVIVAL2/sandbox/test_vina/ParLQ/apo_ParLQ_fe.pdbqt\"\n",
    "ligand_pdbqt=\"/disk2/fli/REVIVAL2/sandbox/test_vina/ParLQ/4-vinylanisole.pdbqt\"\n",
    "cofactor2dock = [\n",
    "    \"/disk2/fli/REVIVAL2/sandbox/test_vina/ParLQ/activated-carbene.pdbqt\",\n",
    "    \"/disk2/fli/REVIVAL2/sandbox/test_vina/ParLQ/heme-no-Fe.pdbqt\"\n",
    "]\n",
    "# NEED TO MERGE THE MAIN WITH NA\n",
    "\n",
    "with open(conf_path, \"w\") as fout:\n",
    "    fout.write(f\"receptor = {receptor_pdbqt}\\n\")\n",
    "    fout.write(f\"ligand = {ligand_pdbqt}\\n\")\n",
    "\n",
    "    # Include cofactors\n",
    "    if cofactor2dock is not None:\n",
    "        for cofactor_file in cofactor2dock:\n",
    "            fout.write(f\"ligand = {cofactor_file}\\n\")\n",
    "\n",
    "    fout.write(f\"center_x = {coords[0]}\\n\")\n",
    "    fout.write(f\"center_y = {coords[1]}\\n\")\n",
    "    fout.write(f\"center_z = {coords[2]}\\n\")\n",
    "    fout.write(f\"size_x = 20\\n\")\n",
    "    fout.write(f\"size_y = 20\\n\")\n",
    "    fout.write(f\"size_z = 20\\n\")\n",
    "    fout.write(\"num_modes = 9\\n\")\n",
    "    fout.write(\"exhaustiveness = 32\\n\")"
   ]
  }
 ],
 "metadata": {
  "kernelspec": {
   "display_name": "vina_2",
   "language": "python",
   "name": "python3"
  },
  "language_info": {
   "codemirror_mode": {
    "name": "ipython",
    "version": 3
   },
   "file_extension": ".py",
   "mimetype": "text/x-python",
   "name": "python",
   "nbconvert_exporter": "python",
   "pygments_lexer": "ipython3",
   "version": "3.9.7"
  }
 },
 "nbformat": 4,
 "nbformat_minor": 2
}
