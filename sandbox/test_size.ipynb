{
 "cells": [
  {
   "cell_type": "code",
   "execution_count": 7,
   "metadata": {},
   "outputs": [
    {
     "name": "stdout",
     "output_type": "stream",
     "text": [
      "/disk2/fli/REVIVAL2\n"
     ]
    }
   ],
   "source": [
    "%cd ~/REVIVAL2"
   ]
  },
  {
   "cell_type": "code",
   "execution_count": 8,
   "metadata": {},
   "outputs": [],
   "source": [
    "import numpy as np\n",
    "from Bio.PDB import PDBParser\n",
    "from scipy.spatial import ConvexHull, Delaunay\n",
    "\n",
    "def parse_active_site_coordinates(pdb_file, chain_id, residue_ids):\n",
    "    \"\"\"\n",
    "    Extracts atomic coordinates for specified active site residues in a given chain.\n",
    "\n",
    "    Args:\n",
    "        pdb_file (str): Path to the PDB file.\n",
    "        chain_id (str): Chain identifier (e.g., \"A\").\n",
    "        residue_ids (list): List of residue IDs (e.g., [123, 124, 125]).\n",
    "\n",
    "    Returns:\n",
    "        np.ndarray: Array of atomic coordinates for the active site.\n",
    "    \"\"\"\n",
    "    parser = PDBParser(QUIET=True)\n",
    "    structure = parser.get_structure(\"enzyme\", pdb_file)\n",
    "    coords = []\n",
    "\n",
    "    # Iterate over chains to find the matching chain\n",
    "    for chain in structure.get_chains():\n",
    "        if chain.id == chain_id:\n",
    "            # Iterate over residues in the chain\n",
    "            for res in chain.get_residues():\n",
    "                if res.id[1] in residue_ids:\n",
    "                    # Collect atomic coordinates for the residue\n",
    "                    for atom in res.get_atoms():\n",
    "                        coords.append(atom.coord)\n",
    "    \n",
    "    return np.array(coords)\n",
    "\n",
    "\n",
    "def compute_convex_hull_volume(coords):\n",
    "    \"\"\"Compute the volume of a convex hull for the active site.\"\"\"\n",
    "    hull = ConvexHull(coords)\n",
    "    return hull.volume\n",
    "\n",
    "def compute_alpha_shape_volume(coords, alpha=1.5):\n",
    "    \"\"\"Compute the volume of an alpha shape (approximation of the pocket).\"\"\"\n",
    "    tri = Delaunay(coords)\n",
    "    tetrahedra = coords[tri.simplices]\n",
    "    volumes = []\n",
    "    for tetra in tetrahedra:\n",
    "        vol = np.abs(np.linalg.det(np.c_[tetra - tetra[0], [1, 1, 1, 1]]) / 6.0)\n",
    "        if vol <= alpha:\n",
    "            volumes.append(vol)\n",
    "    return sum(volumes)"
   ]
  },
  {
   "cell_type": "code",
   "execution_count": 8,
   "metadata": {},
   "outputs": [
    {
     "name": "stderr",
     "output_type": "stream",
     "text": [
      "/disk2/fli/miniconda3/envs/REVIVAL_ligmpnn/lib/python3.11/site-packages/Bio/pairwise2.py:278: BiopythonDeprecationWarning: Bio.pairwise2 has been deprecated, and we intend to remove it in a future release of Biopython. As an alternative, please consider using Bio.Align.PairwiseAligner as a replacement, and contact the Biopython developers if you still need the Bio.pairwise2 module.\n",
      "  warnings.warn(\n"
     ]
    }
   ],
   "source": [
    "from REVIVAL.zs.plip import get_plip_active_site_dict"
   ]
  },
  {
   "cell_type": "code",
   "execution_count": 10,
   "metadata": {},
   "outputs": [
    {
     "name": "stdout",
     "output_type": "stream",
     "text": [
      "Active Site Volume (Convex Hull): 12512.56 Å³\n",
      "Active Site Volume (Alpha Shape): 1378.41 Å³\n"
     ]
    }
   ],
   "source": [
    "\n",
    "\n",
    "\n",
    "# Input PDB and active site residues\n",
    "enzyme_pdb = \"/disk2/fli/REVIVAL2/zs/plip/af3/struct_joint/ParLQ/F89A_0/F89A_0.pdb\"  # Replace with your enzyme PDB file\n",
    "\n",
    "chain_id = \"A\"  # Specify the chain of interest\n",
    "residue_ids = list(get_plip_active_site_dict(\"/disk2/fli/REVIVAL2/zs/plip/af3/struct_joint/ParLQ/F89A_0/report.xml\").keys())  # Specify the active site residue IDs\n",
    "\n",
    "# Parse coordinates for active site residues\n",
    "active_site_coords = parse_active_site_coordinates(enzyme_pdb, chain_id, residue_ids)\n",
    "\n",
    "# Compute volumes (reuse previous volume functions)\n",
    "convex_hull_volume = compute_convex_hull_volume(active_site_coords)\n",
    "alpha_shape_volume = compute_alpha_shape_volume(active_site_coords)\n",
    "\n",
    "# Output results\n",
    "print(f\"Active Site Volume (Convex Hull): {convex_hull_volume:.2f} Å³\")\n",
    "print(f\"Active Site Volume (Alpha Shape): {alpha_shape_volume:.2f} Å³\")\n",
    "\n"
   ]
  },
  {
   "cell_type": "code",
   "execution_count": 21,
   "metadata": {},
   "outputs": [],
   "source": [
    "import freesasa\n",
    "\n",
    "def calculate_pocket_volume_freesasa(pdb_file, chain_id, resid_list):\n",
    "    \"\"\"\n",
    "    Calculate the active site volume using FreeSASA by specifying chain and residue IDs.\n",
    "\n",
    "    Args:\n",
    "        pdb_file (str): Path to the PDB file.\n",
    "        chain_id (str): Chain ID to specify the protein chain (e.g., \"A\").\n",
    "        resid_list (list): List of residue IDs (e.g., [123, 124, 125]).\n",
    "\n",
    "    Returns:\n",
    "        float: Total solvent-accessible volume of the active site in Å³.\n",
    "    \"\"\"\n",
    "    # Load the structure from the PDB file\n",
    "    structure = freesasa.Structure(pdb_file)\n",
    "    \n",
    "    # Perform FreeSASA calculation for the entire structure\n",
    "    result = freesasa.calc(structure)\n",
    "\n",
    "    # Initialize total volume for the active site\n",
    "    total_volume = 0.0\n",
    "\n",
    "    # Iterate over atoms and check if they belong to the specified active site residues\n",
    "    for atom in range(structure.nAtoms()):\n",
    "        atom_residue = structure.residueNumber(atom)\n",
    "        atom_chain = structure.chainLabel(atom)\n",
    "        if atom_chain == chain_id and atom_residue in resid_list:\n",
    "            total_volume += result.atomArea(atom)  # Add volume contribution of the atom\n",
    "    \n",
    "    return total_volume\n"
   ]
  },
  {
   "cell_type": "code",
   "execution_count": 22,
   "metadata": {},
   "outputs": [
    {
     "name": "stderr",
     "output_type": "stream",
     "text": [
      "FreeSASA: warning: atom 'LIG  C1 ' unknown, guessing element is ' C', and radius 1.700 A\n",
      "FreeSASA: warning: atom 'LIG  C2 ' unknown, guessing element is ' C', and radius 1.700 A\n",
      "FreeSASA: warning: atom 'LIG  C3 ' unknown, guessing element is ' C', and radius 1.700 A\n",
      "FreeSASA: warning: atom 'LIG  C4 ' unknown, guessing element is ' C', and radius 1.700 A\n",
      "FreeSASA: warning: atom 'LIG  C5 ' unknown, guessing element is ' C', and radius 1.700 A\n",
      "FreeSASA: warning: atom 'LIG  C6 ' unknown, guessing element is ' C', and radius 1.700 A\n",
      "FreeSASA: warning: atom 'LIG  O1 ' unknown, guessing element is ' O', and radius 1.520 A\n",
      "FreeSASA: warning: atom 'LIG  C7 ' unknown, guessing element is ' C', and radius 1.700 A\n",
      "FreeSASA: warning: atom 'LIG  C8 ' unknown, guessing element is ' C', and radius 1.700 A\n",
      "FreeSASA: warning: atom 'LIG  C9 ' unknown, guessing element is ' C', and radius 1.700 A\n",
      "FreeSASA: warning: atom 'LIG  C10' unknown, guessing element is ' C', and radius 1.700 A\n",
      "FreeSASA: warning: atom 'LIG  C11' unknown, guessing element is ' C', and radius 1.700 A\n",
      "FreeSASA: warning: atom 'LIG  C12' unknown, guessing element is ' C', and radius 1.700 A\n",
      "FreeSASA: warning: atom 'LIG  C13' unknown, guessing element is ' C', and radius 1.700 A\n",
      "FreeSASA: warning: atom 'LIG  C"
     ]
    },
    {
     "data": {
      "text/plain": [
       "0.0"
      ]
     },
     "execution_count": 22,
     "metadata": {},
     "output_type": "execute_result"
    },
    {
     "name": "stderr",
     "output_type": "stream",
     "text": [
      "14' unknown, guessing element is ' C', and radius 1.700 A\n",
      "FreeSASA: warning: atom 'LIG  C15' unknown, guessing element is ' C', and radius 1.700 A\n",
      "FreeSASA: warning: atom 'LIG  C16' unknown, guessing element is ' C', and radius 1.700 A\n",
      "FreeSASA: warning: atom 'LIG  C17' unknown, guessing element is ' C', and radius 1.700 A\n",
      "FreeSASA: warning: atom 'LIG  C18' unknown, guessing element is ' C', and radius 1.700 A\n",
      "FreeSASA: warning: atom 'LIG  C19' unknown, guessing element is ' C', and radius 1.700 A\n",
      "FreeSASA: warning: atom 'LIG  C20' unknown, guessing element is ' C', and radius 1.700 A\n",
      "FreeSASA: warning: atom 'LIG  C21' unknown, guessing element is ' C', and radius 1.700 A\n",
      "FreeSASA: warning: atom 'LIG  C22' unknown, guessing element is ' C', and radius 1.700 A\n",
      "FreeSASA: warning: atom 'LIG  C23' unknown, guessing element is ' C', and radius 1.700 A\n",
      "FreeSASA: warning: atom 'LIG  N1 ' unknown, guessing element is ' N', and radius 1.550 A\n",
      "FreeSASA: warning: atom 'LIG FE1 ' unknown and can't guess radius of symbol 'Fe', assigning radius 0 A\n",
      "FreeSASA: warning: atom 'LIG  C24' unknown, guessing element is ' C', and radius 1.700 A\n",
      "FreeSASA: warning: atom 'LIG  C25' unknown, guessing element is ' C', and radius 1.700 A\n",
      "FreeSASA: warning: atom 'LIG  O2 ' unknown, guessing element is ' O', and radius 1.520 A\n",
      "FreeSASA: warning: atom 'LIG  O3 ' unknown, guessing element is ' O', and radius 1.520 A\n",
      "FreeSASA: warning: atom 'LIG  C26' unknown, guessing element is ' C', and radius 1.700 A\n",
      "FreeSASA: warning: atom 'LIG  C27' unknown, guessing element is ' C', and radius 1.700 A\n",
      "FreeSASA: warning: atom 'LIG  N2 ' unknown, guessing element is ' N', and radius 1.550 A\n",
      "FreeSASA: warning: atom 'LIG  C28' unknown, guessing element is ' C', and radius 1.700 A\n",
      "FreeSASA: warning: atom 'LIG  C29' unknown, guessing element is ' C', and radius 1.700 A\n",
      "FreeSASA: warning: atom 'LIG  C30' unknown, guessing element is ' C', and radius 1.700 A\n",
      "FreeSASA: warning: atom 'LIG  C31' unknown, guessing element is ' C', and radius 1.700 A\n",
      "FreeSASA: warning: atom 'LIG  C32' unknown, guessing element is ' C', and radius 1.700 A\n",
      "FreeSASA: warning: atom 'LIG  C33' unknown, guessing element is ' C', and radius 1.700 A\n",
      "FreeSASA: warning: atom 'LIG  C34' unknown, guessing element is ' C', and radius 1.700 A\n",
      "FreeSASA: warning: atom 'LIG  C35' unknown, guessing element is ' C', and radius 1.700 A\n",
      "FreeSASA: warning: atom 'LIG  C36' unknown, guessing element is ' C', and radius 1.700 A\n",
      "FreeSASA: warning: atom 'LIG  O4 ' unknown, guessing element is ' O', and radius 1.520 A\n",
      "FreeSASA: warning: atom 'LIG  O5 ' unknown, guessing element is ' O', and radius 1.520 A\n",
      "FreeSASA: warning: atom 'LIG  C37' unknown, guessing element is ' C', and radius 1.700 A\n",
      "FreeSASA: warning: atom 'LIG  N3 ' unknown, guessing element is ' N', and radius 1.550 A\n",
      "FreeSASA: warning: atom 'LIG  C38' unknown, guessing element is ' C', and radius 1.700 A\n",
      "FreeSASA: warning: atom 'LIG  C39' unknown, guessing element is ' C', and radius 1.700 A\n",
      "FreeSASA: warning: atom 'LIG  N4 ' unknown, guessing element is ' N', and radius 1.550 A\n",
      "FreeSASA: warning: atom 'LIG  C40' unknown, guessing element is ' C', and radius 1.700 A\n",
      "FreeSASA: warning: atom 'LIG  C41' unknown, guessing element is ' C', and radius 1.700 A\n",
      "FreeSASA: warning: atom 'LIG  C42' unknown, guessing element is ' C', and radius 1.700 A\n",
      "FreeSASA: warning: atom 'LIG  C43' unknown, guessing element is ' C', and radius 1.700 A\n",
      "FreeSASA: warning: atom 'LIG  C44' unknown, guessing element is ' C', and radius 1.700 A\n",
      "FreeSASA: warning: atom 'LIG  C45' unknown, guessing element is ' C', and radius 1.700 A\n",
      "FreeSASA: warning: atom 'LIG  C46' unknown, guessing element is ' C', and radius 1.700 A\n",
      "FreeSASA: warning: atom 'LIG  C47' unknown, guessing element is ' C', and radius 1.700 A\n",
      "FreeSASA: warning: atom 'LIG  O6 ' unknown, guessing element is ' O', and radius 1.520 A\n",
      "FreeSASA: warning: atom 'LIG  O7 ' unknown, guessing element is ' O', and radius 1.520 A\n"
     ]
    }
   ],
   "source": [
    "# Input PDB and active site residues\n",
    "enzyme_pdb = \"/disk2/fli/REVIVAL2/zs/plip/af3/struct_joint/ParLQ/F89A_0/F89A_0.pdb\"  # Replace with your enzyme PDB file\n",
    "\n",
    "chain_id = \"A\"  # Specify the chain of interest\n",
    "resid_list = list(get_plip_active_site_dict(\"/disk2/fli/REVIVAL2/zs/plip/af3/struct_joint/ParLQ/F89A_0/report.xml\").keys())  # Specify the active site residue IDs\n",
    "calculate_pocket_volume_freesasa(enzyme_pdb, chain_id, resid_list)"
   ]
  },
  {
   "cell_type": "code",
   "execution_count": 10,
   "metadata": {},
   "outputs": [],
   "source": [
    "def calculate_pocket_volume(pdb_file, chain_id, resid_list):\n",
    "    \"\"\"\n",
    "    Calculate the active site solvent-accessible surface area (SASA) using PyMOL.\n",
    "\n",
    "    Args:\n",
    "        pdb_file (str): Path to the PDB file.\n",
    "        chain_id (str): Chain ID to specify the protein chain (e.g., \"A\").\n",
    "        resid_list (list): List of residue IDs (e.g., [123, 124, 125]).\n",
    "\n",
    "    Returns:\n",
    "        float: Solvent-accessible surface area (SASA) of the active site in Å².\n",
    "    \"\"\"\n",
    "    import pymol2\n",
    "\n",
    "    # Construct the selection string dynamically\n",
    "    selection = \" or \".join([f\"(chain {chain_id} and resi {resid})\" for resid in resid_list])\n",
    "\n",
    "    with pymol2.PyMOL() as pymol:\n",
    "        pymol.cmd.load(pdb_file, \"enzyme\")\n",
    "        pymol.cmd.select(\"pocket\", selection)\n",
    "        pymol.cmd.set(\"dot_solvent\", 1)  # Enable solvent-accessible surface calculation\n",
    "        pymol.cmd.set(\"dot_density\", 4)  # Increase dot density for better accuracy\n",
    "        area = pymol.cmd.get_area(\"pocket\")  # Get the SASA for the selection\n",
    "        return area"
   ]
  },
  {
   "cell_type": "code",
   "execution_count": 11,
   "metadata": {},
   "outputs": [
    {
     "data": {
      "text/plain": [
       "2553.607421875"
      ]
     },
     "execution_count": 11,
     "metadata": {},
     "output_type": "execute_result"
    }
   ],
   "source": [
    "# Input PDB and active site residues\n",
    "enzyme_pdb = \"/disk2/fli/REVIVAL2/zs/plip/af3/struct_joint/ParLQ/F89A_0/F89A_0.pdb\"  # Replace with your enzyme PDB file\n",
    "\n",
    "chain_id = \"A\"  # Specify the chain of interest\n",
    "resid_list = list(get_plip_active_site_dict(\"/disk2/fli/REVIVAL2/zs/plip/af3/struct_joint/ParLQ/F89A_0/report.xml\").keys())  # Specify the active site residue IDs\n",
    "calculate_pocket_volume(enzyme_pdb, chain_id, resid_list)"
   ]
  },
  {
   "cell_type": "code",
   "execution_count": null,
   "metadata": {},
   "outputs": [],
   "source": []
  }
 ],
 "metadata": {
  "kernelspec": {
   "display_name": "REVIVAL_ligmpnn",
   "language": "python",
   "name": "python3"
  },
  "language_info": {
   "codemirror_mode": {
    "name": "ipython",
    "version": 3
   },
   "file_extension": ".py",
   "mimetype": "text/x-python",
   "name": "python",
   "nbconvert_exporter": "python",
   "pygments_lexer": "ipython3",
   "version": "3.11.11"
  }
 },
 "nbformat": 4,
 "nbformat_minor": 2
}
