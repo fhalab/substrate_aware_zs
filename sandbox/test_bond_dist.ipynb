{
 "cells": [
  {
   "cell_type": "code",
   "execution_count": 1,
   "metadata": {},
   "outputs": [
    {
     "name": "stdout",
     "output_type": "stream",
     "text": [
      "/disk2/fli/REVIVAL2\n"
     ]
    }
   ],
   "source": [
    "%cd ~/REVIVAL2\n",
    "%load_ext autoreload\n",
    "%autoreload 2\n",
    "%load_ext blackcellmagic"
   ]
  },
  {
   "cell_type": "code",
   "execution_count": 2,
   "metadata": {},
   "outputs": [],
   "source": []
  },
  {
   "cell_type": "code",
   "execution_count": 133,
   "metadata": {},
   "outputs": [],
   "source": [
    "import os\n",
    "import re\n",
    "import numpy as np\n",
    "from Bio.PDB import PDBParser, MMCIFParser, PDBIO\n",
    "\n",
    "\n",
    "def get_atom_with_variations(residue, atom_name):\n",
    "    \"\"\"\n",
    "    Attempt to retrieve an atom from a residue, trying multiple variations of the atom name.\n",
    "\n",
    "    Args:\n",
    "        residue: A Bio.PDB.Residue object.\n",
    "        atom_name (str): The atom name to search for.\n",
    "\n",
    "    Returns:\n",
    "        Atom object if found.\n",
    "\n",
    "    Raises:\n",
    "        KeyError: If no matching atom name is found.\n",
    "    \"\"\"\n",
    "    variations = [\n",
    "        atom_name,\n",
    "        atom_name.replace(\"_\", \"\"),  # Remove underscores\n",
    "        f\"{atom_name[0]}_{atom_name[1:]}\",  # Add underscore after the first character\n",
    "    ]\n",
    "    for variation in variations:\n",
    "        try:\n",
    "            return residue[variation]\n",
    "        except KeyError:\n",
    "            continue\n",
    "    raise KeyError(f\"Atom {atom_name} or its variations not found in residue {residue}.\")\n",
    "\n",
    "\n",
    "# Match residues dynamically\n",
    "def find_residue_by_id(chain, target_res_id):\n",
    "    for residue in chain.get_residues():\n",
    "        if residue.id[1] == target_res_id:\n",
    "            return residue\n",
    "    raise ValueError(f\"Residue with ID {target_res_id} not found in chain.\")\n",
    "\n",
    "\n",
    "def clean_pdb(input_file, output_file):\n",
    "    \"\"\"\n",
    "    Clean a PDB file using Biopython to ensure proper formatting.\n",
    "    Args:\n",
    "        input_file (str): Path to the input PDB file.\n",
    "        output_file (str): Path to save the cleaned PDB file.\n",
    "    \"\"\"\n",
    "    parser = PDBParser(QUIET=True)\n",
    "    structure = parser.get_structure(\"protein\", input_file)\n",
    "    print(structure)\n",
    "    io = PDBIO()\n",
    "    io.set_structure(structure)\n",
    "    io.save(output_file)\n",
    "\n",
    "    \n",
    "def replace_residue_names_auto(input_file, output_file, residue_prefix=\"LIG\", new_residue=\"LIG\"):\n",
    "    \"\"\"\n",
    "    Automatically detect and replace residue names in a PDB file that match a specific prefix.\n",
    "\n",
    "    Args:\n",
    "        input_file (str): Path to the input PDB file.\n",
    "        output_file (str): Path to save the modified PDB file.\n",
    "        residue_prefix (str): Prefix of residue names to replace (e.g., \"LIG\").\n",
    "        new_residue (str): New residue name to replace with.\n",
    "    \"\"\"\n",
    "    detected_residues = set()  # To store dynamically detected residue names\n",
    "    pattern = re.compile(f\"^{residue_prefix}_\\\\w$\")  # Regex to detect residues like LIG_B, LIG_C\n",
    "\n",
    "    with open(input_file, \"r\") as infile:\n",
    "        lines = infile.readlines()\n",
    "\n",
    "    # First pass: Detect residue names dynamically\n",
    "    for line in lines:\n",
    "        if line.startswith((\"ATOM\", \"HETATM\")):\n",
    "            long_res_name = line[17:22]\n",
    "            if pattern.match(long_res_name):\n",
    "                detected_residues.add(long_res_name)\n",
    "\n",
    "    print(f\"Detected residues to replace: {detected_residues}\")\n",
    "\n",
    "    # batch replace detected residues with new residue name\n",
    "    with open(output_file, \"w\") as outfile:\n",
    "        for line in lines:\n",
    "            if line.startswith((\"ATOM\", \"HETATM\")):\n",
    "                long_res_name = line[17:22]\n",
    "                if long_res_name in detected_residues:\n",
    "                    line = line.replace(long_res_name, new_residue)\n",
    "                outfile.write(line)\n",
    "\n",
    "\n",
    "def get_covalent_neighbors(atom, residue, bond_distance_cutoff=1.6):\n",
    "    \"\"\"\n",
    "    Get covalently bonded neighbors of an atom in a residue based on distance.\n",
    "\n",
    "    Args:\n",
    "        atom: Biopython Atom object for the input atom.\n",
    "        residue: Biopython Residue object containing the atom.\n",
    "        bond_distance_cutoff (float): Maximum distance for covalent bonds in Ångströms.\n",
    "\n",
    "    Returns:\n",
    "        List: Neighboring atoms covalently bonded to the input atom.\n",
    "    \"\"\"\n",
    "    atom_coord = np.array(atom.coord)\n",
    "    neighbors = []\n",
    "    for neighbor in residue.get_atoms():\n",
    "        if neighbor != atom:  # Exclude the atom itself\n",
    "            neighbor_coord = np.array(neighbor.coord)\n",
    "            distance = np.linalg.norm(atom_coord - neighbor_coord)\n",
    "            if distance <= bond_distance_cutoff:\n",
    "                neighbors.append(neighbor)\n",
    "    return neighbors\n",
    "\n",
    "\n",
    "\n",
    "def calculate_hydrogen_position(atom, neighbors, bond_length=1.0):\n",
    "    \"\"\"\n",
    "    Calculate the coordinates of a hydrogen atom based on the input atom's geometry.\n",
    "\n",
    "    Args:\n",
    "        atom: Biopython Atom object for the input atom.\n",
    "        neighbors: List of neighboring Biopython Atom objects.\n",
    "        bond_length (float): Bond length for the hydrogen atom in Ångströms.\n",
    "\n",
    "    Returns:\n",
    "        np.ndarray: Hydrogen atom coordinates.\n",
    "    \"\"\"\n",
    "\n",
    "    atom_coord = np.array(atom.coord)\n",
    "\n",
    "    if len(neighbors) == 1:  # SP hybridization (linear)\n",
    "        neighbor_coord = np.array(neighbors[0].coord)\n",
    "        direction = atom_coord - neighbor_coord\n",
    "        direction /= np.linalg.norm(direction)  # Normalize\n",
    "        hydrogen_coord = atom_coord + direction * bond_length\n",
    "\n",
    "    elif len(neighbors) == 2:  # SP2 hybridization (planar)\n",
    "        neighbor_coords = [np.array(neighbor.coord) for neighbor in neighbors]\n",
    "        v1 = neighbor_coords[0] - atom_coord\n",
    "        v2 = neighbor_coords[1] - atom_coord\n",
    "        v1 /= np.linalg.norm(v1)\n",
    "        v2 /= np.linalg.norm(v2)\n",
    "        in_plane_direction = -(v1 + v2)  # Opposite direction within the plane\n",
    "        in_plane_direction /= np.linalg.norm(in_plane_direction)\n",
    "        hydrogen_coord = atom_coord + in_plane_direction * bond_length\n",
    "\n",
    "    elif len(neighbors) == 3:  # SP3 hybridization (tetrahedral)\n",
    "        # TODO test this case\n",
    "        neighbor_coords = [np.array(neighbor.coord) for neighbor in neighbors]\n",
    "        centroid = np.mean(neighbor_coords, axis=0)\n",
    "        direction = atom_coord - centroid\n",
    "        direction /= np.linalg.norm(direction)  # Normalize\n",
    "        hydrogen_coord = atom_coord + direction * bond_length\n",
    "\n",
    "    else:\n",
    "        raise ValueError(f\"Unsupported geometry for atom with {len(neighbors)} neighbors.\")\n",
    "\n",
    "    return hydrogen_coord\n",
    "\n",
    "def measure_bond_distance(\n",
    "    structure_file, \n",
    "    chain_id_1, \n",
    "    res_id_1, \n",
    "    atom_name_1, \n",
    "    chain_id_2, \n",
    "    res_id_2, \n",
    "    atom_name_2, \n",
    "    add_hydrogen_to_1=False, \n",
    "    add_hydrogen_to_2=False):\n",
    "    \"\"\"\n",
    "    Measure the bond distance between two atoms or hydrogens attached to them in a PDB or CIF file.\n",
    "\n",
    "    Args:\n",
    "        structure_file (str): Path to the PDB or CIF file.\n",
    "        chain_id_1 (str): Chain ID where the first atom is located.\n",
    "        res_id_1 (tuple): Tuple of (residue sequence number, insertion code) for the first atom.\n",
    "        atom_name_1 (str): Name of the first atom.\n",
    "        chain_id_2 (str): Chain ID where the second atom is located.\n",
    "        res_id_2 (tuple): Tuple of (residue sequence number, insertion code) for the second atom.\n",
    "        atom_name_2 (str): Name of the second atom.\n",
    "        add_hydrogen_to_1 (bool): Add a hydrogen to atom_1 for distance calculation.\n",
    "        add_hydrogen_to_2 (bool): Add a hydrogen to atom_2 for distance calculation.\n",
    "\n",
    "    Returns:\n",
    "        float: Distance between the specified atoms (or hydrogen atoms) in angstroms.\n",
    "    \"\"\"\n",
    "\n",
    "    file_format = os.path.splitext(structure_file)[1][1:]\n",
    "\n",
    "    if file_format.lower() == 'pdb':\n",
    "        parser = PDBParser(QUIET=True)\n",
    "    elif file_format.lower() == 'cif':\n",
    "        parser = MMCIFParser(QUIET=True)\n",
    "    else:\n",
    "        raise ValueError(\"Unsupported file format. Use 'pdb' or 'cif'.\")\n",
    "\n",
    "    structure = parser.get_structure(\"protein\", structure_file)\n",
    "\n",
    "    # # Ensure res_id_1 and res_id_2 are tuples\n",
    "    # def format_res_id(res_id):\n",
    "    #     if isinstance(res_id, int):  # If only sequence number is provided\n",
    "    #         return (' ', res_id, ' ')\n",
    "    #     return res_id\n",
    "\n",
    "\n",
    "    # Locate the first atom\n",
    "    chain_1 = structure[0][chain_id_1]\n",
    "    chain_2 = structure[0][chain_id_2]\n",
    "    print(chain_1, chain_2)\n",
    "\n",
    "    residue_1 = find_residue_by_id(chain_1, res_id_1)\n",
    "    residue_2 = find_residue_by_id(chain_2, res_id_2)\n",
    "    print(residue_1, residue_2)\n",
    "\n",
    "    atom_1 = get_atom_with_variations(residue_1, atom_name_1)\n",
    "    atom_2 = get_atom_with_variations(residue_2, atom_name_2)\n",
    "    print(atom_1, atom_2)\n",
    "\n",
    "    # # Generate RDKit molecule\n",
    "    # mol = Chem.MolFromPDBFile(structure_file, sanitize=False)\n",
    "    # mol_with_h = Chem.AddHs(mol)\n",
    "    # AllChem.EmbedMolecule(mol_with_h)\n",
    "\n",
    "    # def get_hydrogen_position(atom):\n",
    "    #     \"\"\"\n",
    "    #     Find the position of a hydrogen atom attached to the given atom.\n",
    "    #     \"\"\"\n",
    "    #     atom_idx = atom.serial_number - 1  # Match RDKit indexing\n",
    "    #     conf = mol_with_h.GetConformer()\n",
    "    #     for neighbor in mol_with_h.GetAtomWithIdx(atom_idx).GetNeighbors():\n",
    "    #         if neighbor.GetSymbol() == \"H\":\n",
    "    #             hydrogen_idx = neighbor.GetIdx()\n",
    "    #             return np.array(conf.GetAtomPosition(hydrogen_idx))\n",
    "    #     raise ValueError(f\"No hydrogen found for atom {atom.get_id()}.\")\n",
    "\n",
    "    # Determine coordinates for atom_1 and atom_2\n",
    "    if add_hydrogen_to_1:\n",
    "        neighbors_1 = get_covalent_neighbors(atom_1, residue_1)\n",
    "        print(neighbors_1)\n",
    "        coord_1 = calculate_hydrogen_position(atom_1, neighbors_1)\n",
    "    else:\n",
    "        coord_1 = atom_1.coord\n",
    "\n",
    "    if add_hydrogen_to_2:\n",
    "        neighbors_2 = get_covalent_neighbors(atom_2, residue_2)\n",
    "        print(neighbors_2)\n",
    "        coord_2 = calculate_hydrogen_position(atom_2, neighbors_2)\n",
    "    else:\n",
    "        coord_2 = atom_2.coord\n",
    "\n",
    "    # Calculate the distance\n",
    "    distance = np.linalg.norm(coord_1 - coord_2)\n",
    "    return distance"
   ]
  },
  {
   "cell_type": "code",
   "execution_count": 50,
   "metadata": {},
   "outputs": [],
   "source": [
    "from REVIVAL.global_param import LIB_INFO_DICT"
   ]
  },
  {
   "cell_type": "code",
   "execution_count": 51,
   "metadata": {},
   "outputs": [
    {
     "data": {
      "text/plain": [
       "{'C-C': (('B', 1, 'LIG', 'C_5', False), ('B', 1, 'LIG', 'C_14', False)),\n",
       " 'GLU-NH_1': (('A', 104, 'GLU', 'OE1', False), ('B', 1, 'LIG', 'N_1', True)),\n",
       " 'GLU-NH_2': (('A', 104, 'GLU', 'OE2', False), ('B', 1, 'LIG', 'N_1', True))}"
      ]
     },
     "execution_count": 51,
     "metadata": {},
     "output_type": "execute_result"
    }
   ],
   "source": [
    "LIB_INFO_DICT[\"PfTrpB-4bromo\"][\"cofactor-distances\"]"
   ]
  },
  {
   "cell_type": "code",
   "execution_count": 127,
   "metadata": {},
   "outputs": [],
   "source": [
    "atom1_info, atom2_info = LIB_INFO_DICT[\"PfTrpB-4bromo\"][\"cofactor-distances\"][\"C-C\"]\n",
    "chain_id_1, res_id_1,res_name_1, atom_name_1, atom_h_1 = atom1_info\n",
    "chain_id_2, res_id_2, res_name_2, atom_name_2, atom_h_2 = atom2_info"
   ]
  },
  {
   "cell_type": "code",
   "execution_count": 128,
   "metadata": {},
   "outputs": [
    {
     "name": "stdout",
     "output_type": "stream",
     "text": [
      "<Chain id=B> <Chain id=B>\n",
      "<Residue LIG_B het=H_LIG_B resseq=1 icode= > <Residue LIG_B het=H_LIG_B resseq=1 icode= >\n",
      "<Atom C5> <Atom C14>\n"
     ]
    },
    {
     "data": {
      "text/plain": [
       "3.1300173"
      ]
     },
     "execution_count": 128,
     "metadata": {},
     "output_type": "execute_result"
    }
   ],
   "source": [
    "measure_bond_distance(\n",
    "    structure_file=\"/disk2/fli/af3_inference/outputs/pftrpb-4bromo_joint-all/pftrpb-4bromo_joint-all_model.cif\", \n",
    "    chain_id_1=chain_id_1, \n",
    "    res_id_1=res_id_1, \n",
    "    atom_name_1=atom_name_1, \n",
    "    chain_id_2=chain_id_2, \n",
    "    res_id_2=res_id_2, \n",
    "    atom_name_2=atom_name_2, \n",
    "    add_hydrogen_to_1=atom_h_1,\n",
    "    add_hydrogen_to_2=atom_h_2\n",
    "    )"
   ]
  },
  {
   "cell_type": "code",
   "execution_count": 136,
   "metadata": {},
   "outputs": [],
   "source": [
    "atom1_info, atom2_info = LIB_INFO_DICT[\"PfTrpB-4bromo\"][\"cofactor-distances\"][\"GLU-NH_1\"]\n",
    "chain_id_1, res_id_1,res_name_1, atom_name_1, atom_h_1 = atom1_info\n",
    "chain_id_2, res_id_2, res_name_2, atom_name_2, atom_h_2 = atom2_info\n",
    "# atom_h_2 = False"
   ]
  },
  {
   "cell_type": "code",
   "execution_count": 137,
   "metadata": {},
   "outputs": [
    {
     "name": "stdout",
     "output_type": "stream",
     "text": [
      "<Chain id=A> <Chain id=B>\n",
      "<Residue GLU het=  resseq=104 icode= > <Residue LIG_B het=H_LIG_B resseq=1 icode= >\n",
      "<Atom OE1> <Atom N1>\n",
      "[<Atom C3>, <Atom C6>]\n"
     ]
    },
    {
     "data": {
      "text/plain": [
       "3.6268325"
      ]
     },
     "execution_count": 137,
     "metadata": {},
     "output_type": "execute_result"
    }
   ],
   "source": [
    "measure_bond_distance(\n",
    "    structure_file=\"/disk2/fli/af3_inference/outputs/pftrpb-4bromo_joint-all/pftrpb-4bromo_joint-all_model.cif\", \n",
    "    chain_id_1=chain_id_1, \n",
    "    res_id_1=res_id_1, \n",
    "    atom_name_1=atom_name_1, \n",
    "    chain_id_2=chain_id_2, \n",
    "    res_id_2=res_id_2, \n",
    "    atom_name_2=atom_name_2, \n",
    "    add_hydrogen_to_1=atom_h_1,\n",
    "    add_hydrogen_to_2=atom_h_2\n",
    "    )"
   ]
  },
  {
   "cell_type": "code",
   "execution_count": 134,
   "metadata": {},
   "outputs": [],
   "source": [
    "atom1_info, atom2_info = LIB_INFO_DICT[\"PfTrpB-4bromo\"][\"cofactor-distances\"][\"GLU-NH_2\"]\n",
    "chain_id_1, res_id_1,res_name_1, atom_name_1, atom_h_1 = atom1_info\n",
    "chain_id_2, res_id_2, res_name_2, atom_name_2, atom_h_2 = atom2_info\n",
    "# atom_h_2 = False"
   ]
  },
  {
   "cell_type": "code",
   "execution_count": 135,
   "metadata": {},
   "outputs": [
    {
     "name": "stdout",
     "output_type": "stream",
     "text": [
      "<Chain id=A> <Chain id=B>\n",
      "<Residue GLU het=  resseq=104 icode= > <Residue LIG_B het=H_LIG_B resseq=1 icode= >\n",
      "<Atom OE2> <Atom N1>\n",
      "[<Atom C3>, <Atom C6>]\n"
     ]
    },
    {
     "data": {
      "text/plain": [
       "1.4908736"
      ]
     },
     "execution_count": 135,
     "metadata": {},
     "output_type": "execute_result"
    }
   ],
   "source": [
    "measure_bond_distance(\n",
    "    structure_file=\"/disk2/fli/af3_inference/outputs/pftrpb-4bromo_joint-all/pftrpb-4bromo_joint-all_model.cif\", \n",
    "    chain_id_1=chain_id_1, \n",
    "    res_id_1=res_id_1, \n",
    "    atom_name_1=atom_name_1, \n",
    "    chain_id_2=chain_id_2, \n",
    "    res_id_2=res_id_2, \n",
    "    atom_name_2=atom_name_2, \n",
    "    add_hydrogen_to_1=atom_h_1,\n",
    "    add_hydrogen_to_2=atom_h_2\n",
    "    )"
   ]
  },
  {
   "cell_type": "code",
   "execution_count": null,
   "metadata": {},
   "outputs": [],
   "source": []
  }
 ],
 "metadata": {
  "kernelspec": {
   "display_name": "REVIVAL",
   "language": "python",
   "name": "python3"
  },
  "language_info": {
   "codemirror_mode": {
    "name": "ipython",
    "version": 3
   },
   "file_extension": ".py",
   "mimetype": "text/x-python",
   "name": "python",
   "nbconvert_exporter": "python",
   "pygments_lexer": "ipython3",
   "version": "3.11.10"
  }
 },
 "nbformat": 4,
 "nbformat_minor": 2
}
