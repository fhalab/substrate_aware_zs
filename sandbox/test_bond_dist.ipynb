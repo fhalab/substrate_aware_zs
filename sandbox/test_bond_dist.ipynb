{
 "cells": [
  {
   "cell_type": "code",
   "execution_count": null,
   "metadata": {},
   "outputs": [],
   "source": [
    "%cd ~/REVIVAL2\n",
    "%load_ext autoreload\n",
    "%autoreload 2\n",
    "# %load_ext blackcellmagic"
   ]
  },
  {
   "cell_type": "code",
   "execution_count": null,
   "metadata": {},
   "outputs": [],
   "source": [
    "from Bio.PDB import PDBParser\n",
    "import numpy as np\n",
    "\n",
    "def measure_bond_distance(\n",
    "    pdb_file, \n",
    "    chain_id_1, \n",
    "    res_id_1, \n",
    "    res_name_1,\n",
    "    atom_name_1, \n",
    "    chain_id_2, \n",
    "    res_id_2, \n",
    "    res_name_2,\n",
    "    atom_name_2):\n",
    "    \"\"\"\n",
    "    Measure the bond distance between two atoms in a PDB file.\n",
    "\n",
    "    Args:\n",
    "        pdb_file (str): Path to the PDB file.\n",
    "        chain_id_1 (str): Chain ID where the first atom is located.\n",
    "        res_id_1 (tuple): Tuple of (residue sequence number, insertion code) for the first atom.\n",
    "        atom_name_1 (str): Name of the first atom.\n",
    "        chain_id_2 (str): Chain ID where the second atom is located.\n",
    "        res_id_2 (tuple): Tuple of (residue sequence number, insertion code) for the second atom.\n",
    "        atom_name_2 (str): Name of the second atom.\n",
    "\n",
    "    Returns:\n",
    "        float: Distance between the two atoms in angstroms.\n",
    "    \"\"\"\n",
    "    parser = PDBParser(QUIET=True)\n",
    "    structure = parser.get_structure(\"structure\", pdb_file)\n",
    "\n",
    "    # Locate the first atom\n",
    "    chain = structure[0][chain_id]\n",
    "    residue_1 = chain[res_id_1]\n",
    "    atom_1 = residue_1[atom_name_1]\n",
    "\n",
    "    # Locate the second atom\n",
    "    residue_2 = chain[res_id_2]\n",
    "    atom_2 = residue_2[atom_name_2]\n",
    "\n",
    "    # Calculate the distance\n",
    "    distance = np.linalg.norm(atom_1.coord - atom_2.coord)\n",
    "    return distance\n",
    "\n",
    "# # Example usage\n",
    "# pdb_file = \"example.pdb\"\n",
    "# chain_id = \"A\"\n",
    "# res_id_1 = (10, \" \")  # Residue 10, no insertion code\n",
    "# atom_name_1 = \"CA\"  # Alpha carbon\n",
    "# res_id_2 = (20, \" \")  # Residue 20, no insertion code\n",
    "# atom_name_2 = \"CB\"  # Beta carbon\n",
    "\n",
    "# bond_distance = measure_bond_distance(pdb_file, chain_id, res_id_1, atom_name_1, res_id_2, atom_name_2)\n",
    "# print(f\"Bond distance: {bond_distance:.2f} Å\")\n"
   ]
  }
 ],
 "metadata": {
  "kernelspec": {
   "display_name": "REVIVAL",
   "language": "python",
   "name": "python3"
  },
  "language_info": {
   "name": "python",
   "version": "3.11.10"
  }
 },
 "nbformat": 4,
 "nbformat_minor": 2
}
