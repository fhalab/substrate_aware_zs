{
 "cells": [
  {
   "cell_type": "code",
   "execution_count": 11,
   "metadata": {},
   "outputs": [
    {
     "name": "stdout",
     "output_type": "stream",
     "text": [
      "/disk2/fli/REVIVAL2\n",
      "The autoreload extension is already loaded. To reload it, use:\n",
      "  %reload_ext autoreload\n"
     ]
    }
   ],
   "source": [
    "%cd ~/REVIVAL2\n",
    "%load_ext autoreload\n",
    "%autoreload 2\n",
    "# %load_ext blackcellmagic"
   ]
  },
  {
   "cell_type": "markdown",
   "metadata": {},
   "source": [
    "From Chai docked structure\n",
    "extract substrate and the rest\n",
    "each --> pdbqt\n",
    "--> vina score only\n",
    "\n",
    "ie\n",
    "\n",
    "`obabel PfTrpB-4bromo_0.cif -O PfTrpB-4bromo_0.pdbqt`\n",
    "\n",
    "`vina --receptor receptor.pdbqt --ligand PfTrpB-4bromo_0.pdbqt --score_only --out output.pdbqt --log score.log`\n",
    "\n",
    "```\n",
    "import os\n",
    "import subprocess\n",
    "\n",
    "def get_docking_score(receptor_path, ligand_path):\n",
    "    log_file = \"vina_score.log\"\n",
    "    try:\n",
    "        # Run Vina in score-only mode\n",
    "        subprocess.run(\n",
    "            [\n",
    "                \"vina\",\n",
    "                \"--receptor\", receptor_path,\n",
    "                \"--ligand\", ligand_path,\n",
    "                \"--score_only\",\n",
    "                \"--log\", log_file\n",
    "            ],\n",
    "            check=True\n",
    "        )\n",
    "        \n",
    "        # Parse the log file for affinity\n",
    "        with open(log_file, \"r\") as log:\n",
    "            for line in log:\n",
    "                if \"Affinity\" in line:\n",
    "                    score = float(line.split(\":\")[1].strip().split()[0])\n",
    "                    return score\n",
    "    except Exception as e:\n",
    "        print(f\"Error in scoring: {e}\")\n",
    "        return None\n",
    "\n",
    "# Example usage\n",
    "receptor = \"receptor.pdbqt\"\n",
    "ligand = \"PfTrpB-4bromo_0.pdbqt\"\n",
    "score = get_docking_score(receptor, ligand)\n",
    "print(f\"Docking Score: {score} kcal/mol\")\n",
    "```"
   ]
  },
  {
   "cell_type": "code",
   "execution_count": 7,
   "metadata": {},
   "outputs": [
    {
     "name": "stdout",
     "output_type": "stream",
     "text": [
      "File with only ATOM lines saved to /disk2/fli/REVIVAL2/sandbox/files/WT_0/comb_cleaned.pdbqt\n"
     ]
    }
   ],
   "source": [
    "def merge_pdbqt(input_file_path, output_file_path):\n",
    "    \"\"\"\n",
    "    Merge multiple components in a PDBQT file into a single molecule under one ROOT.\n",
    "\n",
    "    Args:\n",
    "        input_file_path (str): Path to the input PDBQT file.\n",
    "        output_file_path (str): Path to save the merged PDBQT file.\n",
    "    \"\"\"\n",
    "    with open(input_file_path, \"r\") as infile, open(output_file_path, \"w\") as outfile:\n",
    "        for line in infile:\n",
    "            if line.startswith(\"ATOM\"):\n",
    "                outfile.write(line)\n",
    "        \n",
    "        outfile.write(\"TER\\n\")\n",
    "\n",
    "    print(f\"File with only ATOM lines saved to {output_file_path}\")\n",
    "\n",
    "\n",
    "# Example usage\n",
    "input_file = \"/disk2/fli/REVIVAL2/sandbox/files/WT_0/comb.pdbqt\"  # Replace with your input file\n",
    "output_file = \"/disk2/fli/REVIVAL2/sandbox/files/WT_0/comb_cleaned.pdbqt\"  # Replace with your output file\n",
    "merge_pdbqt(input_file, output_file)\n"
   ]
  },
  {
   "cell_type": "code",
   "execution_count": 13,
   "metadata": {},
   "outputs": [
    {
     "name": "stdout",
     "output_type": "stream",
     "text": [
      "Combined ATOM lines saved to combNclean.pdbqt\n"
     ]
    }
   ],
   "source": [
    "def extract_atom_lines_from_multiple_files(input_files, output_file_path):\n",
    "    \"\"\"\n",
    "    Extract and save only lines starting with ATOM from multiple files, \n",
    "    and combine them into one output file with a final TER line.\n",
    "\n",
    "    Args:\n",
    "        input_files (list): List of input file paths to be processed.\n",
    "        output_file_path (str): Path to save the combined output file.\n",
    "    \"\"\"\n",
    "    with open(output_file_path, \"w\") as outfile:\n",
    "\n",
    "        for input_file_path in input_files:\n",
    "            with open(input_file_path, \"r\") as infile:\n",
    "                for line in infile:\n",
    "                    if line.startswith(\"ATOM\"):\n",
    "                        outfile.write(line)\n",
    "\n",
    "        # Add the TER line to indicate termination\n",
    "        outfile.write(\"TER\\n\")\n",
    "\n",
    "    print(f\"Combined ATOM lines saved to {output_file_path}\")\n",
    "\n",
    "folder = \"/disk2/fli/REVIVAL2/sandbox/files/WT_0/\"\n",
    "# Example usage\n",
    "input_files = [folder+\"WT_0.pdbqt\", folder+\"Na.pdbqt\", folder+\"PLP-dependent_aminoacrylate.pdbqt\"]  # Replace with your actual files\n",
    "output_file = \"combNclean.pdbqt\"  # Replace with your desired output file\n",
    "extract_atom_lines_from_multiple_files(input_files, output_file)\n"
   ]
  },
  {
   "cell_type": "code",
   "execution_count": 4,
   "metadata": {},
   "outputs": [
    {
     "name": "stdout",
     "output_type": "stream",
     "text": [
      "Python: 3.9.7 | packaged by conda-forge | (default, Sep 29 2021, 19:23:11) \n",
      "[GCC 9.4.0]\n",
      "NumPy: 2.0.2\n",
      "OpenMM: 7.7.0.dev-130124a\n",
      "Environment: environ({'USER': 'fli', 'SSH_CLIENT': '131.215.248.58 49974 22', 'XDG_SESSION_TYPE': 'tty', 'SHLVL': '2', 'MOTD_SHOWN': 'pam', 'HOME': '/disk2/fli', 'SSL_CERT_FILE': '/usr/lib/ssl/certs/ca-certificates.crt', 'DBUS_SESSION_BUS_ADDRESS': 'unix:path=/run/user/1002/bus', 'LOGNAME': 'fli', '_': '/disk2/fli/miniconda3/envs/vina/bin/python', 'XDG_SESSION_CLASS': 'user', 'XDG_SESSION_ID': '8448', 'VSCODE_CLI_REQUIRE_TOKEN': 'e2fff225-9583-46c0-8e69-bfcf24b4c518', 'PATH': '/disk2/fli/miniconda3/envs/vina/bin:/disk2/fli/.vscode-server/cli/servers/Stable-fabdb6a30b49f79a7aba0f2ad9df9b399473380f/server/bin/remote-cli:/disk2/fli/.local/bin:/disk2/fli/orca_6_0_1:/disk2/fli/miniconda3/envs/vina/bin:/disk2/fli/miniconda3/condabin:/disk2/fli/.local/bin:/usr/local/sbin:/usr/local/bin:/usr/sbin:/usr/bin:/sbin:/bin:/usr/games:/usr/local/games:/snap/bin', 'VSCODE_AGENT_FOLDER': '/disk2/fli/.vscode-server', 'XDG_RUNTIME_DIR': '/run/user/1002', 'SSL_CERT_DIR': '/usr/lib/ssl/certs', 'LANG': 'en_US.UTF-8', 'SHELL': '/bin/bash', 'PWD': '/disk2/fli', 'SSH_CONNECTION': '131.215.248.58 49974 131.215.19.19 22', 'VSCODE_CWD': '/disk2/fli', 'VSCODE_NLS_CONFIG': '{\"userLocale\":\"en\",\"osLocale\":\"en\",\"resolvedLanguage\":\"en\",\"defaultMessagesFile\":\"/disk2/fli/.vscode-server/cli/servers/Stable-fabdb6a30b49f79a7aba0f2ad9df9b399473380f/server/out/nls.messages.json\",\"locale\":\"en\",\"availableLanguages\":{}}', 'VSCODE_HANDLES_SIGPIPE': 'true', 'CONDA_EXE': '/disk2/fli/miniconda3/bin/conda', '_CE_M': '', 'CONDA_PREFIX': '/disk2/fli/miniconda3/envs/vina', 'LS_COLORS': '', 'CONDA_PROMPT_MODIFIER': '(vina) ', 'LESSCLOSE': '/usr/bin/lesspipe %s %s', '_CE_CONDA': '', 'LESSOPEN': '| /usr/bin/lesspipe %s', 'CONDA_SHLVL': '2', 'CONDA_PYTHON_EXE': '/disk2/fli/miniconda3/bin/python', 'CONDA_DEFAULT_ENV': 'vina', 'VSCODE_ESM_ENTRYPOINT': 'vs/workbench/api/node/extensionHostProcess', 'VSCODE_HANDLES_UNCAUGHT_ERRORS': 'true', 'BROWSER': '/disk2/fli/.vscode-server/cli/servers/Stable-fabdb6a30b49f79a7aba0f2ad9df9b399473380f/server/bin/helpers/browser.sh', 'ELECTRON_RUN_AS_NODE': '1', 'VSCODE_IPC_HOOK_CLI': '/run/user/1002/vscode-ipc-aaf15ab6-97e4-40c5-bbe6-d98c7492263c.sock', 'VSCODE_L10N_BUNDLE_LOCATION': '', 'PYTHONUNBUFFERED': '1', 'CONDA_MKL_INTERFACE_LAYER_BACKUP': '', 'XML_CATALOG_FILES': 'file:///disk2/fli/miniconda3/envs/vina/etc/xml/catalog file:///etc/xml/catalog', 'GSETTINGS_SCHEMA_DIR': '/disk2/fli/miniconda3/envs/vina/share/glib-2.0/schemas', 'CONDA_ROOT': '/disk2/fli/miniconda3', 'GSETTINGS_SCHEMA_DIR_CONDA_BACKUP': '', 'PYTHONIOENCODING': 'utf-8', 'CONDA_PREFIX_1': '/disk2/fli/miniconda3', 'MKL_INTERFACE_LAYER': 'LP64,GNU', 'PYDEVD_IPYTHON_COMPATIBLE_DEBUGGING': '1', 'PYTHON_FROZEN_MODULES': 'on', 'PYDEVD_USE_FRAME_EVAL': 'NO', 'TERM': 'xterm-color', 'CLICOLOR': '1', 'FORCE_COLOR': '1', 'CLICOLOR_FORCE': '1', 'PAGER': 'cat', 'GIT_PAGER': 'cat', 'MPLBACKEND': 'module://matplotlib_inline.backend_inline'})\n"
     ]
    }
   ],
   "source": [
    "import sys\n",
    "import os\n",
    "import numpy\n",
    "import openmm\n",
    "print(f\"Python: {sys.version}\")\n",
    "print(f\"NumPy: {numpy.__version__}\")\n",
    "print(f\"OpenMM: {openmm.version.version}\")\n",
    "print(f\"Environment: {os.environ}\")"
   ]
  },
  {
   "cell_type": "code",
   "execution_count": 14,
   "metadata": {},
   "outputs": [
    {
     "name": "stdout",
     "output_type": "stream",
     "text": [
      "Total CPUs: 384\n",
      "Available CPUs: 384\n"
     ]
    }
   ],
   "source": [
    "import os\n",
    "import psutil\n",
    "\n",
    "total_cpus = os.cpu_count()\n",
    "available_cpus = len(psutil.Process().cpu_affinity())\n",
    "\n",
    "print(f\"Total CPUs: {total_cpus}\")\n",
    "print(f\"Available CPUs: {available_cpus}\")\n"
   ]
  },
  {
   "cell_type": "code",
   "execution_count": 2,
   "metadata": {},
   "outputs": [
    {
     "name": "stderr",
     "output_type": "stream",
     "text": [
      "/disk2/fli/miniconda3/envs/vina/lib/python3.9/site-packages/Bio/pairwise2.py:278: BiopythonDeprecationWarning: Bio.pairwise2 has been deprecated, and we intend to remove it in a future release of Biopython. As an alternative, please consider using Bio.Align.PairwiseAligner as a replacement, and contact the Biopython developers if you still need the Bio.pairwise2 module.\n",
      "  warnings.warn(\n"
     ]
    }
   ],
   "source": [
    "from REVIVAL.util import get_chain_structure"
   ]
  },
  {
   "cell_type": "code",
   "execution_count": 22,
   "metadata": {},
   "outputs": [
    {
     "name": "stdout",
     "output_type": "stream",
     "text": [
      "Chains A have been saved to /disk2/fli/REVIVAL2/sandbox/files/WT_0/WT_0_A.pdb\n"
     ]
    }
   ],
   "source": [
    "get_chain_structure(\n",
    "    input_file_path=\"/disk2/fli/REVIVAL2/sandbox/files/WT_0/WT_0.cif\",\n",
    "    output_file_path=\"/disk2/fli/REVIVAL2/sandbox/files/WT_0/WT_0_A.pdb\",\n",
    "    chain_id=\"A\",\n",
    ")"
   ]
  },
  {
   "cell_type": "code",
   "execution_count": 23,
   "metadata": {},
   "outputs": [
    {
     "name": "stdout",
     "output_type": "stream",
     "text": [
      "Chains B have been saved to /disk2/fli/REVIVAL2/sandbox/files/WT_0/WT_0_B.pdb\n"
     ]
    }
   ],
   "source": [
    "get_chain_structure(\n",
    "    input_file_path=\"/disk2/fli/REVIVAL2/sandbox/files/WT_0/WT_0.cif\",\n",
    "    output_file_path=\"/disk2/fli/REVIVAL2/sandbox/files/WT_0/WT_0_B.pdb\",\n",
    "    chain_id=\"B\",\n",
    ")"
   ]
  },
  {
   "cell_type": "code",
   "execution_count": 9,
   "metadata": {},
   "outputs": [],
   "source": [
    "from rdkit import Chem\n",
    "from rdkit.Chem import AllChem\n",
    "from Bio.PDB import PDBParser, PDBIO, Structure\n",
    "import numpy as np\n",
    "import os\n",
    "\n",
    "def extract_molecule_and_split_pdb(pdb_file_path: str, smiles: str):\n",
    "    \"\"\"\n",
    "    Extract a small molecule from a PDB file based on a SMILES string\n",
    "    and return both the small molecule and the rest of the structure.\n",
    "\n",
    "    Args:\n",
    "        pdb_file_path (str): Path to the input PDB file.\n",
    "        smiles (str): SMILES string of the molecule to extract.\n",
    "\n",
    "    Returns:\n",
    "        tuple: Two Bio.PDB.Structure objects: one for the small molecule\n",
    "               and one for the rest of the original structure.\n",
    "    \"\"\"\n",
    "    # Parse the input PDB file\n",
    "    parser = PDBParser(QUIET=True)\n",
    "    structure = parser.get_structure(\"protein\", pdb_file_path)\n",
    "\n",
    "    # Convert SMILES to a molecule and generate 3D structure\n",
    "    mol = Chem.MolFromSmiles(smiles)\n",
    "    if mol is None:\n",
    "        raise ValueError(f\"Invalid SMILES string: {smiles}\")\n",
    "    mol = Chem.AddHs(mol)\n",
    "    AllChem.EmbedMolecule(mol, AllChem.ETKDG())\n",
    "\n",
    "    # Extract coordinates of the small molecule from RDKit\n",
    "    ref_coords = np.array(mol.GetConformer().GetPositions())\n",
    "\n",
    "    small_molecule_atoms = []\n",
    "    remaining_atoms = []\n",
    "\n",
    "    # Iterate through the PDB structure and classify atoms\n",
    "    for model in structure:\n",
    "        for chain in model:\n",
    "            for residue in chain:\n",
    "                for atom in residue:\n",
    "                    atom_coords = np.array(atom.coord)\n",
    "                    # Check if the atom matches with the small molecule\n",
    "                    if np.any(np.linalg.norm(ref_coords - atom_coords, axis=1) < 1.0):\n",
    "                        small_molecule_atoms.append(atom)\n",
    "                    else:\n",
    "                        remaining_atoms.append(atom)\n",
    "\n",
    "    # Create separate structures for the small molecule and the rest\n",
    "    small_molecule_structure = Structure.Structure(\"small_molecule\")\n",
    "    remaining_structure = Structure.Structure(\"remaining_structure\")\n",
    "\n",
    "    small_model = small_molecule_structure.add(model.copy())\n",
    "    remaining_model = remaining_structure.add(model.copy())\n",
    "\n",
    "    for chain in model:\n",
    "        small_chain = chain.copy()\n",
    "        remaining_chain = chain.copy()\n",
    "        small_chain.detach_children()\n",
    "        remaining_chain.detach_children()\n",
    "\n",
    "        for residue in chain:\n",
    "            small_residue = residue.copy()\n",
    "            remaining_residue = residue.copy()\n",
    "            small_residue.detach_children()\n",
    "            remaining_residue.detach_children()\n",
    "\n",
    "            for atom in residue:\n",
    "                if atom in small_molecule_atoms:\n",
    "                    small_residue.add(atom)\n",
    "                else:\n",
    "                    remaining_residue.add(atom)\n",
    "\n",
    "            if len(small_residue):\n",
    "                small_chain.add(small_residue)\n",
    "            if len(remaining_residue):\n",
    "                remaining_chain.add(remaining_residue)\n",
    "\n",
    "        if len(small_chain):\n",
    "            small_model.add(small_chain)\n",
    "        if len(remaining_chain):\n",
    "            remaining_model.add(remaining_chain)\n",
    "\n",
    "    return small_molecule_structure, remaining_structure\n"
   ]
  },
  {
   "cell_type": "code",
   "execution_count": 10,
   "metadata": {},
   "outputs": [],
   "source": [
    "from Bio.PDB import PDBParser, PDBIO, MMCIFParser\n",
    "from rdkit import Chem\n",
    "from rdkit.Chem import AllChem\n",
    "import os\n",
    "\n",
    "def extract_molecule_with_remainder(input_file, smile_string, small_molecule_pdb, rest_structure_pdb):\n",
    "    \"\"\"\n",
    "    Extracts a small molecule matching the given SMILES string from a PDB or CIF file\n",
    "    and saves both the small molecule and the remaining structure into separate files.\n",
    "\n",
    "    Args:\n",
    "        input_file (str): Path to the input PDB or CIF file.\n",
    "        smile_string (str): SMILES string of the small molecule to extract.\n",
    "        small_molecule_pdb (str): Path to save the extracted small molecule PDB file.\n",
    "        rest_structure_pdb (str): Path to save the remaining structure PDB file.\n",
    "    \"\"\"\n",
    "    # Determine the parser based on file extension\n",
    "    if input_file.endswith(\".cif\"):\n",
    "        parser = MMCIFParser()\n",
    "    elif input_file.endswith(\".pdb\"):\n",
    "        parser = PDBParser()\n",
    "    else:\n",
    "        raise ValueError(\"Unsupported file format. Only .pdb and .cif are supported.\")\n",
    "\n",
    "    # Parse the structure\n",
    "    structure = parser.get_structure(\"input_structure\", input_file)\n",
    "\n",
    "    # Generate RDKit molecule from SMILES\n",
    "    smiles_mol = Chem.MolFromSmiles(smile_string)\n",
    "    if not smiles_mol:\n",
    "        raise ValueError(\"Invalid SMILES string.\")\n",
    "\n",
    "    # Add hydrogens to the RDKit molecule\n",
    "    # smiles_mol = Chem.AddHs(smiles_mol)\n",
    "    AllChem.EmbedMolecule(smiles_mol)\n",
    "\n",
    "    # Containers for small molecule atoms and remaining structure atoms\n",
    "    small_molecule_atoms = []\n",
    "    remaining_atoms = []\n",
    "\n",
    "    # Iterate over all atoms to classify them\n",
    "    for model in structure:\n",
    "        for chain in model:\n",
    "            for residue in chain:\n",
    "                for atom in residue:\n",
    "                    atom_coords = atom.get_coord()\n",
    "                    # Check if atom matches the small molecule using RDKit\n",
    "                    atom_mol = Chem.MolFromSmiles(atom.element)\n",
    "                    if atom_mol and Chem.rdMolAlign.GetBestRMS(smiles_mol, atom_mol) < 1.0:\n",
    "                        small_molecule_atoms.append(atom)\n",
    "                    else:\n",
    "                        remaining_atoms.append(atom)\n",
    "\n",
    "    # Write the small molecule atoms to the PDB file\n",
    "    if small_molecule_atoms:\n",
    "        io = PDBIO()\n",
    "        io.set_structure(small_molecule_atoms)\n",
    "        io.save(small_molecule_pdb)\n",
    "\n",
    "    # Write the remaining structure atoms to the PDB file\n",
    "    if remaining_atoms:\n",
    "        io = PDBIO()\n",
    "        io.set_structure(remaining_atoms)\n",
    "        io.save(rest_structure_pdb)\n",
    "\n",
    "    print(f\"Small molecule saved to {small_molecule_pdb}\")\n",
    "    print(f\"Remaining structure saved to {rest_structure_pdb}\")"
   ]
  },
  {
   "cell_type": "code",
   "execution_count": 18,
   "metadata": {},
   "outputs": [],
   "source": [
    "import os\n",
    "from Bio.PDB import PDBParser, MMCIFParser, PDBIO, MMCIFIO\n",
    "\n",
    "def extract_substrate_by_criteria(input_file_path, output_substrate_path, output_rest_path, criteria):\n",
    "    \"\"\"\n",
    "    Extract a substrate from a PDB or CIF file based on chain, resn, and atom name.\n",
    "\n",
    "    Args:\n",
    "        input_file_path (str): Path to the input PDB or CIF file.\n",
    "        output_substrate_path (str): Path to save the extracted substrate structure.\n",
    "        output_rest_path (str): Path to save the rest of the structure.\n",
    "        criteria (list of tuples): List of tuples specifying the selection criteria.\n",
    "                                   Each tuple should contain (chain_id, resn, name).\n",
    "    \"\"\"\n",
    "    is_cif = input_file_path.endswith(\".cif\")\n",
    "\n",
    "    if is_cif:\n",
    "        parser = MMCIFParser(QUIET=True)\n",
    "        structure = parser.get_structure(\"protein\", input_file_path)\n",
    "    else:\n",
    "        parser = PDBParser(QUIET=True)\n",
    "        structure = parser.get_structure(\"protein\", input_file_path)\n",
    "\n",
    "    substrate_atoms = []\n",
    "    rest_atoms = []\n",
    "\n",
    "    for model in structure:\n",
    "        for chain in model:\n",
    "            for residue in chain:\n",
    "                for atom in residue:\n",
    "                    match = any(\n",
    "                        chain.id == chain_id and residue.resname == resn and atom.name == name\n",
    "                        for chain_id, resn, name in criteria\n",
    "                    )\n",
    "                    if match:\n",
    "                        substrate_atoms.append(atom)\n",
    "                    else:\n",
    "                        rest_atoms.append(atom)\n",
    "\n",
    "    # Create structures for substrate and rest\n",
    "    substrate_structure = structure.copy()\n",
    "    rest_structure = structure.copy()\n",
    "\n",
    "    for model in substrate_structure:\n",
    "        for chain in model:\n",
    "            for residue in list(chain):\n",
    "                for atom in list(residue):\n",
    "                    if atom not in substrate_atoms:\n",
    "                        residue.detach_child(atom.name)\n",
    "    for model in rest_structure:\n",
    "        for chain in model:\n",
    "            for residue in list(chain):\n",
    "                for atom in list(residue):\n",
    "                    if atom in substrate_atoms:\n",
    "                        residue.detach_child(atom.name)\n",
    "\n",
    "    # Save structures\n",
    "    io = PDBIO()\n",
    "    io.set_structure(substrate_structure)\n",
    "    io.save(output_substrate_path)\n",
    "    io.set_structure(rest_structure)\n",
    "    io.save(output_rest_path)\n",
    "\n",
    "    print(f\"Substrate saved to {output_substrate_path}\")\n",
    "    print(f\"Rest of the structure saved to {output_rest_path}\")\n"
   ]
  },
  {
   "cell_type": "code",
   "execution_count": 19,
   "metadata": {},
   "outputs": [
    {
     "name": "stdout",
     "output_type": "stream",
     "text": [
      "Substrate saved to /disk2/fli/REVIVAL2/sandbox/files/PfTrpB-4bromo_0_molecule.pdb\n",
      "Rest of the structure saved to /disk2/fli/REVIVAL2/sandbox/files/PfTrpB-4bromo_0_remainder.pdb\n"
     ]
    }
   ],
   "source": [
    "extract_substrate_by_criteria(\n",
    "    input_file_path=\"/disk2/fli/docko/tests/fzl/revival2/PfTrpB-4bromo/PfTrpB-4bromo_0.cif\", \n",
    "    output_substrate_path=\"/disk2/fli/REVIVAL2/sandbox/files/PfTrpB-4bromo_0_molecule.pdb\", \n",
    "    output_rest_path=\"/disk2/fli/REVIVAL2/sandbox/files/PfTrpB-4bromo_0_remainder.pdb\",\n",
    "    criteria=[\n",
    "        ('B', 'LIG', 'C_1'),\n",
    "        ('B', 'LIG', 'C_2'),\n",
    "        ('B', 'LIG', 'C_3'),\n",
    "        ('B', 'LIG', 'C_4'),\n",
    "        ('B', 'LIG', 'C_5'),\n",
    "        ('B', 'LIG', 'C_6'),\n",
    "        ('B', 'LIG', 'C_7'),\n",
    "        ('B', 'LIG', 'C_8'),\n",
    "        ('B', 'LIG', 'N_1'),\n",
    "        ('B', 'LIG', 'BR_1')\n",
    "    ])"
   ]
  },
  {
   "cell_type": "code",
   "execution_count": null,
   "metadata": {},
   "outputs": [],
   "source": []
  },
  {
   "cell_type": "code",
   "execution_count": 24,
   "metadata": {},
   "outputs": [],
   "source": [
    "from REVIVAL.util import convert_cif_to_pdb"
   ]
  },
  {
   "cell_type": "code",
   "execution_count": 25,
   "metadata": {},
   "outputs": [
    {
     "name": "stdout",
     "output_type": "stream",
     "text": [
      "Converted /disk2/fli/REVIVAL2/sandbox/files/pgb/jlk_ee-test_ape_ygpw_aze_model.cif to /disk2/fli/REVIVAL2/sandbox/files/pgb/jlk_ee-test_ape_ygpw_aze_model.pdb\n"
     ]
    }
   ],
   "source": [
    "convert_cif_to_pdb(\n",
    "    cif_file=\"/disk2/fli/REVIVAL2/sandbox/files/pgb/jlk_ee-test_ape_ygpw_aze_model.cif\",\n",
    "    pdb_file=\"/disk2/fli/REVIVAL2/sandbox/files/pgb/jlk_ee-test_ape_ygpw_aze_model.pdb\",\n",
    "    ifsave = True\n",
    ")"
   ]
  },
  {
   "cell_type": "code",
   "execution_count": 8,
   "metadata": {},
   "outputs": [],
   "source": [
    "from Bio.PDB import PDBParser, MMCIFParser\n",
    "import numpy as np\n",
    "import os\n",
    "\n",
    "def calculate_chain_centroid(input_file, chain_ids):\n",
    "    \"\"\"\n",
    "    Calculate the geometric center (centroid) of all atoms in the specified chain(s).\n",
    "\n",
    "    Args:\n",
    "        input_file (str): Path to the input PDB or CIF file.\n",
    "        chain_ids (list of str): List of chain IDs to calculate the centroid for.\n",
    "\n",
    "    Returns:\n",
    "        tuple: The XYZ coordinates of the centroid.\n",
    "    \"\"\"\n",
    "    # Determine the file type\n",
    "    file_extension = os.path.splitext(input_file)[-1].lower()\n",
    "    if file_extension == \".cif\":\n",
    "        parser = MMCIFParser(QUIET=True)\n",
    "    elif file_extension == \".pdb\":\n",
    "        parser = PDBParser(QUIET=True)\n",
    "    else:\n",
    "        raise ValueError(\"Unsupported file format. Only PDB and CIF files are supported.\")\n",
    "\n",
    "    # Parse the structure\n",
    "    structure = parser.get_structure(\"protein\", input_file)\n",
    "\n",
    "    coordinates = []\n",
    "    chain_ids = [cid.upper() for cid in chain_ids]  # Ensure chain IDs are uppercase\n",
    "\n",
    "    for model in structure:\n",
    "        for chain in model:\n",
    "            if chain.id.upper() in chain_ids:\n",
    "                for residue in chain:\n",
    "                    for atom in residue:\n",
    "                        coordinates.append(atom.coord)\n",
    "\n",
    "    # Calculate centroid\n",
    "    if coordinates:\n",
    "        centroid = np.mean(coordinates, axis=0)\n",
    "        return np.array(centroid).flatten()\n",
    "    else:\n",
    "        raise ValueError(f\"No atoms found for the specified chain(s): {chain_ids}\")\n",
    "\n",
    "# # Example usage\n",
    "# input_file = \"example.cif\"  # Path to your PDB or CIF file\n",
    "# chain_ids = [\"A\", \"B\"]      # Chain IDs to calculate the centroid for\n",
    "# center = calculate_chain_centroid(input_file, chain_ids)\n",
    "# print(\"Center of mass:\", center)\n"
   ]
  },
  {
   "cell_type": "code",
   "execution_count": 9,
   "metadata": {},
   "outputs": [
    {
     "data": {
      "text/plain": [
       "array([2.7593548 , 0.81696784, 4.430387  ], dtype=float32)"
      ]
     },
     "execution_count": 9,
     "metadata": {},
     "output_type": "execute_result"
    }
   ],
   "source": [
    "calculate_chain_centroid(\"/disk2/fli/REVIVAL2/sandbox/files/WT_0/WT_0.cif\", \"B\")"
   ]
  },
  {
   "cell_type": "code",
   "execution_count": null,
   "metadata": {},
   "outputs": [],
   "source": []
  }
 ],
 "metadata": {
  "kernelspec": {
   "display_name": "vina",
   "language": "python",
   "name": "python3"
  },
  "language_info": {
   "codemirror_mode": {
    "name": "ipython",
    "version": 3
   },
   "file_extension": ".py",
   "mimetype": "text/x-python",
   "name": "python",
   "nbconvert_exporter": "python",
   "pygments_lexer": "ipython3",
   "version": "3.9.7"
  }
 },
 "nbformat": 4,
 "nbformat_minor": 2
}
