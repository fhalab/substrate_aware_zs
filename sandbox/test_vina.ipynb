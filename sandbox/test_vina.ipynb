{
 "cells": [
  {
   "cell_type": "code",
   "execution_count": 1,
   "metadata": {},
   "outputs": [
    {
     "name": "stdout",
     "output_type": "stream",
     "text": [
      "/disk2/fli/REVIVAL2\n"
     ]
    }
   ],
   "source": [
    "%cd ~/REVIVAL2\n",
    "%load_ext autoreload\n",
    "%autoreload 2\n",
    "# %load_ext blackcellmagic"
   ]
  },
  {
   "cell_type": "code",
   "execution_count": 2,
   "metadata": {},
   "outputs": [
    {
     "name": "stdout",
     "output_type": "stream",
     "text": [
      "Python: 3.9.7 | packaged by conda-forge | (default, Sep 29 2021, 19:23:11) \n",
      "[GCC 9.4.0]\n",
      "NumPy: 2.0.2\n",
      "OpenMM: 7.7.0.dev-130124a\n",
      "Environment: environ({'USER': 'fli', 'SSH_CLIENT': '131.215.249.59 49529 22', 'XDG_SESSION_TYPE': 'tty', 'SHLVL': '2', 'MOTD_SHOWN': 'pam', 'HOME': '/disk2/fli', 'OLDPWD': '/disk2/fli/.vscode-server', 'SSL_CERT_FILE': '/usr/lib/ssl/certs/ca-certificates.crt', 'DBUS_SESSION_BUS_ADDRESS': 'unix:path=/run/user/1002/bus', 'LOGNAME': 'fli', '_': '/disk2/fli/miniconda3/envs/vina/bin/python', 'XDG_SESSION_CLASS': 'user', 'XDG_SESSION_ID': '11349', 'VSCODE_CLI_REQUIRE_TOKEN': 'bba36035-143a-4a7f-bb2b-7cd617aa4f8f', 'PATH': '/disk2/fli/miniconda3/envs/vina/bin:/disk2/fli/.vscode-server/cli/servers/Stable-91fbdddc47bc9c09064bf7acf133d22631cbf083/server/bin/remote-cli:/disk2/fli/.local/bin:/disk2/fli/openmpi/bin:/disk2/fli/orca_6_0_1:/disk2/fli/miniconda3/envs/vina/bin:/disk2/fli/miniconda3/condabin:/disk2/fli/.local/bin:/usr/local/sbin:/usr/local/bin:/usr/sbin:/usr/bin:/sbin:/bin:/usr/games:/usr/local/games:/snap/bin', 'VSCODE_AGENT_FOLDER': '/disk2/fli/.vscode-server', 'XDG_RUNTIME_DIR': '/run/user/1002', 'SSL_CERT_DIR': '/usr/lib/ssl/certs', 'LANG': 'en_US.UTF-8', 'SHELL': '/bin/bash', 'PWD': '/disk2/fli', 'SSH_CONNECTION': '131.215.249.59 49529 131.215.19.19 22', 'VSCODE_CWD': '/disk2/fli', 'VSCODE_NLS_CONFIG': '{\"userLocale\":\"en\",\"osLocale\":\"en\",\"resolvedLanguage\":\"en\",\"defaultMessagesFile\":\"/disk2/fli/.vscode-server/cli/servers/Stable-91fbdddc47bc9c09064bf7acf133d22631cbf083/server/out/nls.messages.json\",\"locale\":\"en\",\"availableLanguages\":{}}', 'VSCODE_HANDLES_SIGPIPE': 'true', 'CONDA_EXE': '/disk2/fli/miniconda3/bin/conda', '_CE_M': '', 'CONDA_PREFIX': '/disk2/fli/miniconda3/envs/vina', 'LS_COLORS': '', 'CONDA_PROMPT_MODIFIER': '(vina) ', 'LESSCLOSE': '/usr/bin/lesspipe %s %s', '_CE_CONDA': '', 'LESSOPEN': '| /usr/bin/lesspipe %s', 'CONDA_SHLVL': '2', 'CONDA_PYTHON_EXE': '/disk2/fli/miniconda3/bin/python', 'LD_LIBRARY_PATH': '/disk2/fli/openmpi/lib:', 'CONDA_DEFAULT_ENV': 'vina', 'VSCODE_ESM_ENTRYPOINT': 'vs/workbench/api/node/extensionHostProcess', 'VSCODE_HANDLES_UNCAUGHT_ERRORS': 'true', 'BROWSER': '/disk2/fli/.vscode-server/cli/servers/Stable-91fbdddc47bc9c09064bf7acf133d22631cbf083/server/bin/helpers/browser.sh', 'ELECTRON_RUN_AS_NODE': '1', 'VSCODE_IPC_HOOK_CLI': '/run/user/1002/vscode-ipc-17df9b7d-d631-4ed4-8e7f-7d1a69325c2a.sock', 'VSCODE_L10N_BUNDLE_LOCATION': '', 'PYTHONUNBUFFERED': '1', 'CONDA_MKL_INTERFACE_LAYER_BACKUP': '', 'XML_CATALOG_FILES': 'file:///disk2/fli/miniconda3/envs/vina/etc/xml/catalog file:///etc/xml/catalog', 'GSETTINGS_SCHEMA_DIR': '/disk2/fli/miniconda3/envs/vina/share/glib-2.0/schemas', 'CONDA_ROOT': '/disk2/fli/miniconda3', 'GSETTINGS_SCHEMA_DIR_CONDA_BACKUP': '', 'PYTHONIOENCODING': 'utf-8', 'CONDA_PREFIX_1': '/disk2/fli/miniconda3', 'MKL_INTERFACE_LAYER': 'LP64,GNU', 'PYDEVD_IPYTHON_COMPATIBLE_DEBUGGING': '1', 'PYTHON_FROZEN_MODULES': 'on', 'PYDEVD_USE_FRAME_EVAL': 'NO', 'TERM': 'xterm-color', 'CLICOLOR': '1', 'FORCE_COLOR': '1', 'CLICOLOR_FORCE': '1', 'PAGER': 'cat', 'GIT_PAGER': 'cat', 'MPLBACKEND': 'module://matplotlib_inline.backend_inline'})\n"
     ]
    }
   ],
   "source": [
    "import sys\n",
    "import os\n",
    "import numpy\n",
    "import openmm\n",
    "print(f\"Python: {sys.version}\")\n",
    "print(f\"NumPy: {numpy.__version__}\")\n",
    "print(f\"OpenMM: {openmm.version.version}\")\n",
    "print(f\"Environment: {os.environ}\")"
   ]
  },
  {
   "cell_type": "code",
   "execution_count": 7,
   "metadata": {},
   "outputs": [],
   "source": [
    "from REVIVAL.global_param import LIB_INFO_DICT"
   ]
  },
  {
   "cell_type": "code",
   "execution_count": 99,
   "metadata": {},
   "outputs": [
    {
     "name": "stdout",
     "output_type": "stream",
     "text": [
      "Converting CIF to PDB: /disk2/fli/REVIVAL2/zs/chai/struct_joint/PfTrpB-4bromo/I165A:I183A:Y301V/I165A:I183A:Y301V_0.cif -> /disk2/fli/REVIVAL2/zs/chai/struct_joint/PfTrpB-4bromo/I165A:I183A:Y301V/I165A:I183A:Y301V_0.pdb\n",
      "Detected residues to replace: set()\n"
     ]
    },
    {
     "name": "stderr",
     "output_type": "stream",
     "text": [
      "1 molecule converted\n"
     ]
    },
    {
     "name": "stdout",
     "output_type": "stream",
     "text": [
      "Formatting ligand 4bromo\n",
      "Checking for ions...\n",
      "Processing ligand 4bromo from zs/vina/chai/struct_joint/PfTrpB-4bromo/I165A:I183A:Y301V_0/I165A:I183A:Y301V_0.pdb\n",
      "insdie extract_substruct\n",
      "/disk2/fli/REVIVAL2/zs/vina/chai/struct_joint/PfTrpB-4bromo/I165A:I183A:Y301V_0/4bromo/4bromo_temp.pdb\n",
      "Substrate atoms: [(<Model id=0>, <Chain id=B>, <Residue LIG het=  resseq=1 icode= >, <Atom C1>), (<Model id=0>, <Chain id=B>, <Residue LIG het=  resseq=1 icode= >, <Atom C2>), (<Model id=0>, <Chain id=B>, <Residue LIG het=  resseq=1 icode= >, <Atom C3>), (<Model id=0>, <Chain id=B>, <Residue LIG het=  resseq=1 icode= >, <Atom C4>), (<Model id=0>, <Chain id=B>, <Residue LIG het=  resseq=1 icode= >, <Atom C5>), (<Model id=0>, <Chain id=B>, <Residue LIG het=  resseq=1 icode= >, <Atom C6>), (<Model id=0>, <Chain id=B>, <Residue LIG het=  resseq=1 icode= >, <Atom N1>), (<Model id=0>, <Chain id=B>, <Residue LIG het=  resseq=1 icode= >, <Atom C7>), (<Model id=0>, <Chain id=B>, <Residue LIG het=  resseq=1 icode= >, <Atom C8>), (<Model id=0>, <Chain id=B>, <Residue LIG het=  resseq=1 icode= >, <Atom BR1>)]\n",
      "Rest atoms: [(<Model id=0>, <Chain id=B>, <Residue LIG het=  resseq=1 icode= >, <Atom O1>), (<Model id=0>, <Chain id=B>, <Residue LIG het=  resseq=1 icode= >, <Atom C9>), (<Model id=0>, <Chain id=B>, <Residue LIG het=  resseq=1 icode= >, <Atom C10>), (<Model id=0>, <Chain id=B>, <Residue LIG het=  resseq=1 icode= >, <Atom C11>), (<Model id=0>, <Chain id=B>, <Residue LIG het=  resseq=1 icode= >, <Atom N2>), (<Model id=0>, <Chain id=B>, <Residue LIG het=  resseq=1 icode= >, <Atom C12>), (<Model id=0>, <Chain id=B>, <Residue LIG het=  resseq=1 icode= >, <Atom C13>), (<Model id=0>, <Chain id=B>, <Residue LIG het=  resseq=1 icode= >, <Atom O2>), (<Model id=0>, <Chain id=B>, <Residue LIG het=  resseq=1 icode= >, <Atom O3>), (<Model id=0>, <Chain id=B>, <Residue LIG het=  resseq=1 icode= >, <Atom C14>), (<Model id=0>, <Chain id=B>, <Residue LIG het=  resseq=1 icode= >, <Atom C15>), (<Model id=0>, <Chain id=B>, <Residue LIG het=  resseq=1 icode= >, <Atom C16>), (<Model id=0>, <Chain id=B>, <Residue LIG het=  resseq=1 icode= >, <Atom P1>), (<Model id=0>, <Chain id=B>, <Residue LIG het=  resseq=1 icode= >, <Atom O4>), (<Model id=0>, <Chain id=B>, <Residue LIG het=  resseq=1 icode= >, <Atom O5>), (<Model id=0>, <Chain id=B>, <Residue LIG het=  resseq=1 icode= >, <Atom O6>), (<Model id=0>, <Chain id=B>, <Residue LIG het=  resseq=1 icode= >, <Atom C17>), (<Model id=0>, <Chain id=B>, <Residue LIG het=  resseq=1 icode= >, <Atom N3>), (<Model id=0>, <Chain id=B>, <Residue LIG het=  resseq=1 icode= >, <Atom C18>), (<Model id=0>, <Chain id=B>, <Residue LIG het=  resseq=1 icode= >, <Atom C19>), (<Model id=0>, <Chain id=B>, <Residue LIG het=  resseq=1 icode= >, <Atom NA1>)]\n",
      "Substructure saved to /disk2/fli/REVIVAL2/zs/vina/chai/struct_joint/PfTrpB-4bromo/I165A:I183A:Y301V_0/4bromo/4bromo_temp.pdb\n",
      "zs/vina/chai/struct_joint/PfTrpB-4bromo/I165A:I183A:Y301V_0/4bromo/4bromo_temp.pdb zs/vina/chai/struct_joint/PfTrpB-4bromo/I165A:I183A:Y301V_0/4bromo/4bromo.pdb\n",
      "Removing ions from zs/vina/chai/struct_joint/PfTrpB-4bromo/I165A:I183A:Y301V_0/4bromo/4bromo_temp.pdb\n",
      "after removing ions\n",
      "protonating smiles\n",
      "[H]c1c([H])c([H])c2c(c([H])c([H])n2[H])c1Br\n",
      "Aligned and fixed molecule saved to zs/vina/chai/struct_joint/PfTrpB-4bromo/I165A:I183A:Y301V_0/4bromo/4bromo.pdb\n",
      "Processing cofactor PLP-dependent_aminoacrylate [O-]C1=C(/C=[N+]([H])/C(C([O-])=O)=C)C(CP([O-])([O-])=O)=CN=C1C using zs/vina/chai/struct_joint/PfTrpB-4bromo/I165A:I183A:Y301V_0/I165A:I183A:Y301V_0.pdb\n",
      "Formatting ligand PLP-dependent_aminoacrylate\n",
      "Checking for ions...\n",
      "Processing ligand PLP-dependent_aminoacrylate from zs/vina/chai/struct_joint/PfTrpB-4bromo/I165A:I183A:Y301V_0/I165A:I183A:Y301V_0.pdb\n",
      "insdie extract_substruct\n",
      "/disk2/fli/REVIVAL2/zs/vina/chai/struct_joint/PfTrpB-4bromo/I165A:I183A:Y301V_0/PLP-dependent_aminoacrylate/PLP-dependent_aminoacrylate_temp.pdb\n",
      "Substrate atoms: [(<Model id=0>, <Chain id=B>, <Residue LIG het=  resseq=1 icode= >, <Atom C1>), (<Model id=0>, <Chain id=B>, <Residue LIG het=  resseq=1 icode= >, <Atom C2>), (<Model id=0>, <Chain id=B>, <Residue LIG het=  resseq=1 icode= >, <Atom C3>), (<Model id=0>, <Chain id=B>, <Residue LIG het=  resseq=1 icode= >, <Atom C4>), (<Model id=0>, <Chain id=B>, <Residue LIG het=  resseq=1 icode= >, <Atom C5>), (<Model id=0>, <Chain id=B>, <Residue LIG het=  resseq=1 icode= >, <Atom C6>), (<Model id=0>, <Chain id=B>, <Residue LIG het=  resseq=1 icode= >, <Atom N1>), (<Model id=0>, <Chain id=B>, <Residue LIG het=  resseq=1 icode= >, <Atom C7>), (<Model id=0>, <Chain id=B>, <Residue LIG het=  resseq=1 icode= >, <Atom C8>), (<Model id=0>, <Chain id=B>, <Residue LIG het=  resseq=1 icode= >, <Atom BR1>)]\n",
      "Rest atoms: [(<Model id=0>, <Chain id=B>, <Residue LIG het=  resseq=1 icode= >, <Atom O1>), (<Model id=0>, <Chain id=B>, <Residue LIG het=  resseq=1 icode= >, <Atom C9>), (<Model id=0>, <Chain id=B>, <Residue LIG het=  resseq=1 icode= >, <Atom C10>), (<Model id=0>, <Chain id=B>, <Residue LIG het=  resseq=1 icode= >, <Atom C11>), (<Model id=0>, <Chain id=B>, <Residue LIG het=  resseq=1 icode= >, <Atom N2>), (<Model id=0>, <Chain id=B>, <Residue LIG het=  resseq=1 icode= >, <Atom C12>), (<Model id=0>, <Chain id=B>, <Residue LIG het=  resseq=1 icode= >, <Atom C13>), (<Model id=0>, <Chain id=B>, <Residue LIG het=  resseq=1 icode= >, <Atom O2>), (<Model id=0>, <Chain id=B>, <Residue LIG het=  resseq=1 icode= >, <Atom O3>), (<Model id=0>, <Chain id=B>, <Residue LIG het=  resseq=1 icode= >, <Atom C14>), (<Model id=0>, <Chain id=B>, <Residue LIG het=  resseq=1 icode= >, <Atom C15>), (<Model id=0>, <Chain id=B>, <Residue LIG het=  resseq=1 icode= >, <Atom C16>), (<Model id=0>, <Chain id=B>, <Residue LIG het=  resseq=1 icode= >, <Atom P1>), (<Model id=0>, <Chain id=B>, <Residue LIG het=  resseq=1 icode= >, <Atom O4>), (<Model id=0>, <Chain id=B>, <Residue LIG het=  resseq=1 icode= >, <Atom O5>), (<Model id=0>, <Chain id=B>, <Residue LIG het=  resseq=1 icode= >, <Atom O6>), (<Model id=0>, <Chain id=B>, <Residue LIG het=  resseq=1 icode= >, <Atom C17>), (<Model id=0>, <Chain id=B>, <Residue LIG het=  resseq=1 icode= >, <Atom N3>), (<Model id=0>, <Chain id=B>, <Residue LIG het=  resseq=1 icode= >, <Atom C18>), (<Model id=0>, <Chain id=B>, <Residue LIG het=  resseq=1 icode= >, <Atom C19>), (<Model id=0>, <Chain id=B>, <Residue LIG het=  resseq=1 icode= >, <Atom NA1>)]\n",
      "Substructure saved to /disk2/fli/REVIVAL2/zs/vina/chai/struct_joint/PfTrpB-4bromo/I165A:I183A:Y301V_0/PLP-dependent_aminoacrylate/PLP-dependent_aminoacrylate_temp.pdb\n",
      "zs/vina/chai/struct_joint/PfTrpB-4bromo/I165A:I183A:Y301V_0/PLP-dependent_aminoacrylate/PLP-dependent_aminoacrylate_temp.pdb zs/vina/chai/struct_joint/PfTrpB-4bromo/I165A:I183A:Y301V_0/PLP-dependent_aminoacrylate/PLP-dependent_aminoacrylate.pdb\n",
      "Removing ions from zs/vina/chai/struct_joint/PfTrpB-4bromo/I165A:I183A:Y301V_0/PLP-dependent_aminoacrylate/PLP-dependent_aminoacrylate_temp.pdb\n",
      "after removing ions\n",
      "protonating smiles\n",
      "[H]C([H])=C(C(=O)O)/[N+]([H])=C(\\[H])c1c(O)c(C([H])([H])[H])nc([H])c1C([H])([H])P(=O)(O)O\n",
      "Aligned and fixed molecule saved to zs/vina/chai/struct_joint/PfTrpB-4bromo/I165A:I183A:Y301V_0/PLP-dependent_aminoacrylate/PLP-dependent_aminoacrylate.pdb\n"
     ]
    },
    {
     "name": "stderr",
     "output_type": "stream",
     "text": [
      "[20:54:58] Molecule does not have explicit Hs. Consider calling AddHs()\n",
      "[20:54:58] Molecule does not have explicit Hs. Consider calling AddHs()\n"
     ]
    },
    {
     "name": "stdout",
     "output_type": "stream",
     "text": [
      "Processing cofactor Na+ [Na+] using zs/vina/chai/struct_joint/PfTrpB-4bromo/I165A:I183A:Y301V_0/I165A:I183A:Y301V_0.pdb\n",
      "Formatting ligand Na+\n",
      "Checking for ions...\n",
      "Processing ion Na+\n",
      "Ions matching 'NA' were successfully extracted to zs/vina/chai/struct_joint/PfTrpB-4bromo/I165A:I183A:Y301V_0/Na+/NA.pdb.\n",
      "cofactor_pdbqts: ['zs/vina/chai/struct_joint/PfTrpB-4bromo/I165A:I183A:Y301V_0/PLP-dependent_aminoacrylate/PLP-dependent_aminoacrylate.pdbqt', 'zs/vina/chai/struct_joint/PfTrpB-4bromo/I165A:I183A:Y301V_0/Na+/NA.pdbqt']\n"
     ]
    },
    {
     "name": "stderr",
     "output_type": "stream",
     "text": [
      "1 molecule converted\n"
     ]
    },
    {
     "name": "stdout",
     "output_type": "stream",
     "text": [
      "Merging zs/vina/chai/struct_joint/PfTrpB-4bromo/I165A:I183A:Y301V_0/I165A:I183A:Y301V_0/I165A:I183A:Y301V_0.pdbqt\n",
      "Merging zs/vina/chai/struct_joint/PfTrpB-4bromo/I165A:I183A:Y301V_0/PLP-dependent_aminoacrylate/PLP-dependent_aminoacrylate.pdbqt\n",
      "Merging zs/vina/chai/struct_joint/PfTrpB-4bromo/I165A:I183A:Y301V_0/Na+/NA.pdbqt\n",
      "Combined ATOM lines saved to zs/vina/chai/struct_joint/PfTrpB-4bromo/I165A:I183A:Y301V_0/I165A:I183A:Y301V_0_cofactors/I165A:I183A:Y301V_0_cofactors.pdbqt\n",
      "Vina run (score-only) completed successfully. Log saved to: zs/vina/chai/struct_joint/PfTrpB-4bromo/I165A:I183A:Y301V_0/I165A:I183A:Y301V_0-4bromosubstrate-score_only_log.txt\n"
     ]
    },
    {
     "data": {
      "text/plain": [
       "'zs/vina/chai/struct_joint/PfTrpB-4bromo/I165A:I183A:Y301V_0/I165A:I183A:Y301V_0-4bromosubstrate-score_only_log.txt'"
      ]
     },
     "execution_count": 99,
     "metadata": {},
     "output_type": "execute_result"
    }
   ],
   "source": [
    "from REVIVAL.zs.vina import dock\n",
    "\n",
    "dock(\n",
    "    input_struct_path=\"/disk2/fli/REVIVAL2/zs/chai/struct_joint/PfTrpB-4bromo/I165A:I183A:Y301V/I165A:I183A:Y301V_0.cif\",\n",
    "    dock_opt=\"substrate\",\n",
    "    score_only = True,\n",
    "    regen=True,\n",
    "    rerun=True\n",
    ")"
   ]
  },
  {
   "cell_type": "code",
   "execution_count": 82,
   "metadata": {},
   "outputs": [],
   "source": [
    "from REVIVAL.zs.vina import protonate_smiles"
   ]
  },
  {
   "cell_type": "code",
   "execution_count": 83,
   "metadata": {},
   "outputs": [],
   "source": [
    "from rdkit import Chem"
   ]
  },
  {
   "cell_type": "code",
   "execution_count": 89,
   "metadata": {},
   "outputs": [],
   "source": [
    "mol = Chem.MolFromSmiles(\"[O-]C(=O)C(=C)/[NH+]=C/c1c(cnc(c1[O-])C)CP(=O)([O-])[O-]\")\n",
    "Chem.AddHs(mol)\n",
    "canonical_smiles = Chem.MolToSmiles(mol, isomericSmiles=True)"
   ]
  },
  {
   "cell_type": "code",
   "execution_count": 92,
   "metadata": {},
   "outputs": [
    {
     "data": {
      "text/plain": [
       "'[H]C([H])=C(C(=O)O)/[N+]([H])=C(\\\\[H])c1c(O)c(C([H])([H])[H])nc([H])c1C([H])([H])P(=O)(O)O'"
      ]
     },
     "execution_count": 92,
     "metadata": {},
     "output_type": "execute_result"
    }
   ],
   "source": [
    "protonate_oxygen(protonate_smiles(canonical_smiles, 7.4))"
   ]
  },
  {
   "cell_type": "code",
   "execution_count": 91,
   "metadata": {},
   "outputs": [],
   "source": [
    "\n",
    "def protonate_oxygen(smiles: str) -> str:\n",
    "    \"\"\"\n",
    "    Protonate all [O-] groups in a SMILES string.\n",
    "\n",
    "    :param smiles: Input SMILES string with [O-] groups.\n",
    "    :return: Protonated SMILES string with [OH] instead of [O-].\n",
    "    \"\"\"\n",
    "    # Parse the molecule\n",
    "    mol = Chem.MolFromSmiles(smiles)\n",
    "    if not mol:\n",
    "        raise ValueError(f\"Invalid SMILES string: {smiles}\")\n",
    "    \n",
    "    # Add hydrogens explicitly\n",
    "    mol = Chem.AddHs(mol)\n",
    "    \n",
    "    # Iterate over atoms to find [O-] and adjust charges\n",
    "    for atom in mol.GetAtoms():\n",
    "        if atom.GetSymbol() == \"O\" and atom.GetFormalCharge() == -1:\n",
    "            # Set the charge to neutral\n",
    "            atom.SetFormalCharge(0)\n",
    "            # Adjust the number of implicit hydrogens\n",
    "            atom.SetNumExplicitHs(1)\n",
    "    \n",
    "    # Update the molecule\n",
    "    Chem.SanitizeMol(mol)\n",
    "    \n",
    "    # Generate the protonated SMILES\n",
    "    protonated_smiles = Chem.MolToSmiles(mol, isomericSmiles=True)\n",
    "    return protonated_smiles\n"
   ]
  },
  {
   "cell_type": "code",
   "execution_count": 13,
   "metadata": {},
   "outputs": [],
   "source": [
    "from REVIVAL.zs.vina import clean_one_pdb"
   ]
  },
  {
   "cell_type": "code",
   "execution_count": 17,
   "metadata": {},
   "outputs": [
    {
     "name": "stdout",
     "output_type": "stream",
     "text": [
      "Skipping addMissingHydrogens due to error: Cannot create a Context for a System with no particles\n"
     ]
    }
   ],
   "source": [
    "clean_one_pdb(\n",
    "    proteinFile=\"/disk2/fli/REVIVAL2/zs/vina/chai/struct_joint/PfTrpB-4bromo/I165A:I183A:Y301V_0/4bromo/4bromo.pdb\",\n",
    "    toFile=\"/disk2/fli/REVIVAL2/zs/vina/chai/struct_joint/PfTrpB-4bromo/I165A:I183A:Y301V_0/4bromo/4bromo_H.pdb\",\n",
    "    keep_chain=\"keep_all\")"
   ]
  },
  {
   "cell_type": "code",
   "execution_count": 34,
   "metadata": {},
   "outputs": [],
   "source": [
    "from pdbfixer import PDBFixer\n",
    "from openmm.app import PDBFile, PDBxFile"
   ]
  },
  {
   "cell_type": "code",
   "execution_count": 44,
   "metadata": {},
   "outputs": [],
   "source": [
    "from openmm.app import Modeller, PDBFile\n",
    "\n",
    "# Load the PDB file\n",
    "pdb = PDBFile(\"/disk2/fli/REVIVAL2/zs/vina/chai/struct_joint/PfTrpB-4bromo/I165A:I183A:Y301V_0/4bromo/4bromo.pdb\")\n",
    "\n",
    "# Create a modeller object\n",
    "modeller = Modeller(pdb.topology, pdb.positions)\n",
    "\n",
    "# Add hydrogens without a force field\n",
    "modeller.addHydrogens()\n",
    "\n",
    "# Save the updated PDB file\n",
    "with open(\"/disk2/fli/REVIVAL2/zs/vina/chai/struct_joint/PfTrpB-4bromo/I165A:I183A:Y301V_0/4bromo/4bromo_h.pdb\", \"w\") as f:\n",
    "    PDBFile.writeFile(modeller.topology, modeller.positions, f)\n",
    "\n"
   ]
  },
  {
   "cell_type": "code",
   "execution_count": 49,
   "metadata": {},
   "outputs": [
    {
     "name": "stdout",
     "output_type": "stream",
     "text": [
      "Before Kekulization: SINGLE\n",
      "Before Kekulization: SINGLE\n",
      "Before Kekulization: DOUBLE\n",
      "Before Kekulization: SINGLE\n",
      "Before Kekulization: DOUBLE\n",
      "Before Kekulization: SINGLE\n",
      "Before Kekulization: SINGLE\n",
      "Before Kekulization: DOUBLE\n",
      "Before Kekulization: SINGLE\n",
      "Before Kekulization: DOUBLE\n",
      "Before Kekulization: SINGLE\n",
      "After Kekulization: SINGLE\n",
      "After Kekulization: SINGLE\n",
      "After Kekulization: DOUBLE\n",
      "After Kekulization: SINGLE\n",
      "After Kekulization: DOUBLE\n",
      "After Kekulization: SINGLE\n",
      "After Kekulization: SINGLE\n",
      "After Kekulization: DOUBLE\n",
      "After Kekulization: SINGLE\n",
      "After Kekulization: DOUBLE\n",
      "After Kekulization: SINGLE\n"
     ]
    }
   ],
   "source": [
    "from rdkit import Chem\n",
    "from rdkit.Chem import AllChem\n",
    "\n",
    "# Load the molecule from an SDF file\n",
    "sdf_file = \"/disk2/fli/REVIVAL2/zs/vina/chai/struct_joint/PfTrpB-4bromo/I165A:I183A:Y301V_0/4bromo/4bromo.sdf\"\n",
    "mol_supplier = Chem.SDMolSupplier(sdf_file)\n",
    "mol = mol_supplier[0]  # Get the first molecule from the SDF\n",
    "\n",
    "# mol = Chem.MolFromPDBFile(\"/disk2/fli/REVIVAL2/zs/vina/chai/struct_joint/PfTrpB-4bromo/I165A:I183A:Y301V_0/4bromo/4bromo.pdb\", removeHs=False)\n",
    "\n",
    "# Assign bond orders and sanitize the molecule\n",
    "Chem.SanitizeMol(mol)\n",
    "for bond in mol.GetBonds():\n",
    "    print(\"Before Kekulization:\", bond.GetBondType())\n",
    "\n",
    "# Kekulize to assign alternating single and double bonds\n",
    "AllChem.Kekulize(mol, clearAromaticFlags=False)\n",
    "for bond in mol.GetBonds():\n",
    "    print(\"After Kekulization:\", bond.GetBondType())\n",
    "\n",
    "# Add explicit hydrogens\n",
    "mol_with_h = Chem.AddHs(mol)\n",
    "\n",
    "# Generate 3D coordinates\n",
    "AllChem.EmbedMolecule(mol_with_h)\n",
    "AllChem.UFFOptimizeMolecule(mol_with_h)\n",
    "\n",
    "# Save the resulting molecule as a PDB file\n",
    "output_pdb = \"/disk2/fli/REVIVAL2/zs/vina/chai/struct_joint/PfTrpB-4bromo/I165A:I183A:Y301V_0/4bromo/4bromo_H.pdb\"\n",
    "with open(output_pdb, \"w\") as f:\n",
    "    f.write(Chem.MolToPDBBlock(mol_with_h))\n"
   ]
  },
  {
   "cell_type": "code",
   "execution_count": null,
   "metadata": {},
   "outputs": [],
   "source": []
  },
  {
   "cell_type": "code",
   "execution_count": 63,
   "metadata": {},
   "outputs": [
    {
     "name": "stdout",
     "output_type": "stream",
     "text": [
      "Hydrogens added based on valence and saved to: /disk2/fli/REVIVAL2/zs/vina/chai/struct_joint/PfTrpB-4bromo/I165A:I183A:Y301V_0/4bromo/4bromo_h.pdb\n"
     ]
    }
   ],
   "source": [
    "from rdkit import Chem\n",
    "from rdkit.Chem import AllChem\n",
    "from Bio.PDB import PDBParser, PDBIO\n",
    "from Bio.PDB.StructureBuilder import StructureBuilder\n",
    "\n",
    "# SMILES string\n",
    "smiles = \"C1=CC2=C(C=CN2)C(=C1)Br\"\n",
    "\n",
    "# Load the SMILES string to create a molecule with valence information\n",
    "mol = Chem.MolFromSmiles(smiles)\n",
    "mol_with_h = Chem.AddHs(mol)  # Add hydrogens based on valence\n",
    "AllChem.EmbedMolecule(mol_with_h, randomSeed=42)  # Generate 3D coordinates for reference\n",
    "\n",
    "# Parse the input PDB file for coordinates\n",
    "pdb_file = \"/disk2/fli/REVIVAL2/zs/vina/chai/struct_joint/PfTrpB-4bromo/I165A:I183A:Y301V_0/4bromo/4bromo.pdb\"\n",
    "parser = PDBParser(QUIET=True)\n",
    "structure = parser.get_structure(\"4bromo\", pdb_file)\n",
    "\n",
    "# Extract atomic coordinates from the PDB\n",
    "atom_coords = {}\n",
    "for model in structure:\n",
    "    for chain in model:\n",
    "        for residue in chain:\n",
    "            for atom in residue:\n",
    "                atom_coords[atom.get_serial_number() - 1] = atom.coord  # Map index to coordinates\n",
    "\n",
    "# Align PDB coordinates with the SMILES molecule\n",
    "conf = mol_with_h.GetConformer()\n",
    "for i, atom in enumerate(mol_with_h.GetAtoms()):\n",
    "    if i in atom_coords:\n",
    "        x, y, z = map(float, atom_coords[i])  # Ensure coordinates are floats\n",
    "        conf.SetAtomPosition(i, (x, y, z))\n",
    "\n",
    "# Generate 3D coordinates\n",
    "AllChem.EmbedMolecule(mol_with_h)\n",
    "AllChem.UFFOptimizeMolecule(mol_with_h)\n",
    "\n",
    "# Save the molecule as a PDB file with hydrogens added\n",
    "output_pdb = \"/disk2/fli/REVIVAL2/zs/vina/chai/struct_joint/PfTrpB-4bromo/I165A:I183A:Y301V_0/4bromo/4bromo_h.pdb\"\n",
    "with open(output_pdb, \"w\") as f:\n",
    "    f.write(Chem.MolToPDBBlock(mol_with_h))\n",
    "\n",
    "print(f\"Hydrogens added based on valence and saved to: {output_pdb}\")\n"
   ]
  },
  {
   "cell_type": "code",
   "execution_count": 4,
   "metadata": {},
   "outputs": [],
   "source": [
    "from REVIVAL.zs.vina import fixmolpdbhs"
   ]
  },
  {
   "cell_type": "code",
   "execution_count": 51,
   "metadata": {},
   "outputs": [],
   "source": [
    "from rdkit import Chem\n",
    "from rdkit.Chem import AllChem\n",
    "from Bio.PDB import PDBParser\n",
    "\n",
    "def fixmolpdbhs(smiles: str, input_file_path: str, output_file_path: str):\n",
    "    # Load the molecule from SMILES (defines bond orders)\n",
    "    mol = Chem.MolFromSmiles(smiles)\n",
    "    if not mol:\n",
    "        raise ValueError(\"Invalid SMILES string. Could not parse the molecule.\")\n",
    "    mol_with_h = Chem.AddHs(mol)  # Add hydrogens based on valence\n",
    "\n",
    "    # Generate a 3D conformer for the molecule\n",
    "    status = AllChem.EmbedMolecule(mol_with_h, useRandomCoords=False)\n",
    "    if status != 0:\n",
    "        raise ValueError(\"Failed to embed 3D coordinates for the molecule.\")\n",
    "\n",
    "    # Parse the PDB file to extract atomic coordinates\n",
    "    parser = PDBParser(QUIET=True)\n",
    "    structure = parser.get_structure(\"input_structure\", input_file_path)\n",
    "\n",
    "    # Extract atomic coordinates from the PDB\n",
    "    atom_coords = {}\n",
    "    for model in structure:\n",
    "        for chain in model:\n",
    "            for residue in chain:\n",
    "                for atom in residue:\n",
    "                    atom_coords[atom.get_serial_number() - 1] = atom.coord\n",
    "\n",
    "    # Align PDB coordinates with the SMILES molecule\n",
    "    conf = mol_with_h.GetConformer()\n",
    "    for i, atom in enumerate(mol_with_h.GetAtoms()):\n",
    "        if i in atom_coords:\n",
    "            x, y, z = map(float, atom_coords[i])\n",
    "            conf.SetAtomPosition(i, (x, y, z))\n",
    "\n",
    "    # Optimize the hydrogens' positions\n",
    "    AllChem.UFFOptimizeMolecule(mol_with_h)\n",
    "\n",
    "    # Save the molecule as a PDB file with hydrogens added\n",
    "    with open(output_file_path, \"w\") as f:\n",
    "        f.write(Chem.MolToPDBBlock(mol_with_h))\n"
   ]
  },
  {
   "cell_type": "code",
   "execution_count": 52,
   "metadata": {},
   "outputs": [],
   "source": [
    "fixmolpdbhs(\n",
    "    \"C1=CC2=C(C=CN2)C(=C1)Br\",\n",
    "    \"/disk2/fli/REVIVAL2/zs/vina/chai/struct_joint/PfTrpB-4bromo/I165A:I183A:Y301V_0/4bromo/4bromo.pdb\",\n",
    "    \"/disk2/fli/REVIVAL2/zs/vina/chai/struct_joint/PfTrpB-4bromo/I165A:I183A:Y301V_0/4bromo/4bromo_h.pdb\"\n",
    ")"
   ]
  },
  {
   "cell_type": "code",
   "execution_count": 71,
   "metadata": {},
   "outputs": [],
   "source": [
    "from rdkit import Chem\n",
    "from rdkit.Chem import AllChem\n",
    "import numpy as np\n",
    "\n",
    "def align_and_fix_molecule(smiles: str, original_pdb: str, generated_pdb: str, output_pdb: str):\n",
    "    # Step 1: Load the original PDB molecule\n",
    "    mol_original = Chem.MolFromPDBFile(original_pdb, removeHs=False)\n",
    "    if not mol_original:\n",
    "        raise ValueError(\"Could not parse the original PDB file.\")\n",
    "    conf_original = mol_original.GetConformer()\n",
    "\n",
    "    # Step 2: Load the generated PDB molecule with hydrogens\n",
    "    mol_generated = Chem.MolFromPDBFile(generated_pdb, removeHs=False)\n",
    "    if not mol_generated:\n",
    "        raise ValueError(\"Could not parse the generated PDB file.\")\n",
    "    conf_generated = mol_generated.GetConformer()\n",
    "\n",
    "    # Step 3: Create a molecule from SMILES with correct connectivity and bond orders\n",
    "    mol_smiles = Chem.MolFromSmiles(smiles)\n",
    "    if not mol_smiles:\n",
    "        raise ValueError(\"Invalid SMILES string.\")\n",
    "    mol_with_h = Chem.AddHs(mol_smiles)\n",
    "    AllChem.EmbedMolecule(mol_with_h, useRandomCoords=False)\n",
    "    AllChem.UFFOptimizeMolecule(mol_with_h)\n",
    "    conf_smiles = mol_with_h.GetConformer()\n",
    "\n",
    "    # Step 4: Align the heavy atoms of the generated molecule to the original PDB\n",
    "    original_atoms = [\n",
    "        (atom.GetSymbol(), i, conf_original.GetAtomPosition(i))\n",
    "        for i, atom in enumerate(mol_original.GetAtoms()) if atom.GetSymbol() != \"H\"\n",
    "    ]\n",
    "    generated_atoms = [\n",
    "        (atom.GetSymbol(), i, conf_generated.GetAtomPosition(i))\n",
    "        for i, atom in enumerate(mol_generated.GetAtoms()) if atom.GetSymbol() != \"H\"\n",
    "    ]\n",
    "    smiles_atoms = [\n",
    "        (atom.GetSymbol(), i, conf_smiles.GetAtomPosition(i))\n",
    "        for i, atom in enumerate(mol_with_h.GetAtoms()) if atom.GetSymbol() != \"H\"\n",
    "    ]\n",
    "\n",
    "    # Match atoms based on element type\n",
    "    matched_coords_original = []\n",
    "    matched_coords_smiles = []\n",
    "    for (symbol_orig, index_orig, coord_orig), (symbol_smiles, index_smiles, coord_smiles) in zip(original_atoms, smiles_atoms):\n",
    "        if symbol_orig == symbol_smiles:\n",
    "            matched_coords_original.append(coord_orig)\n",
    "            matched_coords_smiles.append(coord_smiles)\n",
    "\n",
    "    if not matched_coords_original or not matched_coords_smiles:\n",
    "        raise ValueError(\"Failed to find matching heavy atoms for alignment.\")\n",
    "\n",
    "    # Step 5: Compute alignment transformation (RMSD alignment)\n",
    "    matched_coords_original = np.array(matched_coords_original)\n",
    "    matched_coords_smiles = np.array(matched_coords_smiles)\n",
    "\n",
    "    centroid_original = np.mean(matched_coords_original, axis=0)\n",
    "    centroid_smiles = np.mean(matched_coords_smiles, axis=0)\n",
    "\n",
    "    centered_original = matched_coords_original - centroid_original\n",
    "    centered_smiles = matched_coords_smiles - centroid_smiles\n",
    "\n",
    "    H = np.dot(centered_smiles.T, centered_original)\n",
    "    U, S, Vt = np.linalg.svd(H)\n",
    "    R = np.dot(U, Vt)\n",
    "\n",
    "    if np.linalg.det(R) < 0:\n",
    "        Vt[-1, :] *= -1\n",
    "        R = np.dot(U, Vt)\n",
    "\n",
    "    # Step 6: Apply transformation to all atoms in the SMILES molecule\n",
    "    coords_smiles = np.array([conf_smiles.GetAtomPosition(i) for i in range(mol_with_h.GetNumAtoms())])\n",
    "    transformed_coords = np.dot(coords_smiles - centroid_smiles, R) + centroid_original\n",
    "\n",
    "    # Update coordinates in the SMILES molecule\n",
    "    for i, coord in enumerate(transformed_coords):\n",
    "        conf_smiles.SetAtomPosition(i, coord)\n",
    "\n",
    "    # Step 7: Save the transformed molecule as a PDB file\n",
    "    with open(output_pdb, \"w\") as f:\n",
    "        f.write(Chem.MolToPDBBlock(mol_with_h))\n",
    "\n",
    "    print(f\"Aligned and fixed molecule saved to {output_pdb}\")\n"
   ]
  },
  {
   "cell_type": "code",
   "execution_count": 72,
   "metadata": {},
   "outputs": [
    {
     "name": "stdout",
     "output_type": "stream",
     "text": [
      "Aligned and fixed molecule saved to /disk2/fli/REVIVAL2/zs/vina/chai/struct_joint/PfTrpB-4bromo/I165A:I183A:Y301V_0/4bromo/4bromo_aligned.pdb\n"
     ]
    }
   ],
   "source": [
    "align_and_fix_molecule(\n",
    "    smiles=\"C1=CC2=C(C=CN2)C(=C1)Br\",\n",
    "    original_pdb=\"/disk2/fli/REVIVAL2/zs/vina/chai/struct_joint/PfTrpB-4bromo/I165A:I183A:Y301V_0/4bromo/4bromo.pdb\",\n",
    "    generated_pdb=\"/disk2/fli/REVIVAL2/zs/vina/chai/struct_joint/PfTrpB-4bromo/I165A:I183A:Y301V_0/4bromo/4bromo_h.pdb\",\n",
    "    output_pdb=\"/disk2/fli/REVIVAL2/zs/vina/chai/struct_joint/PfTrpB-4bromo/I165A:I183A:Y301V_0/4bromo/4bromo_aligned.pdb\")"
   ]
  },
  {
   "cell_type": "code",
   "execution_count": 36,
   "metadata": {},
   "outputs": [],
   "source": [
    "def assign_bond_orders_manually(smiles, pdb_file, out_pdb=\"output_with_H.pdb\"):\n",
    "    # 1) Reference molecule\n",
    "    ref_mol = Chem.MolFromSmiles(smiles)\n",
    "    ref_mol = Chem.AddHs(ref_mol)\n",
    "    AllChem.EmbedMolecule(ref_mol, randomSeed=0xf00d)\n",
    "    AllChem.UFFOptimizeMolecule(ref_mol)\n",
    "\n",
    "    # 2) Load PDB, remove existing H, no sanitize\n",
    "    pdb_mol = Chem.MolFromPDBFile(pdb_file, removeHs=True, sanitize=False)\n",
    "    if pdb_mol is None:\n",
    "        raise ValueError(f\"Could not read PDB: {pdb_file}\")\n",
    "\n",
    "    # 3) Substructure match\n",
    "    #    This returns a tuple with the PDB-mol atom indices that match the reference’s atom 0..N\n",
    "    match = pdb_mol.GetSubstructMatch(ref_mol)\n",
    "    if not match:\n",
    "        raise ValueError(\"Substructure match failed. The PDB does not match the SMILES connectivity.\")\n",
    "    \n",
    "    # 4) Copy bond orders\n",
    "    #    For each bond in the reference, find the corresponding bond in the PDB\n",
    "    #    and set the same bond type and aromatic flag.\n",
    "    for bond in ref_mol.GetBonds():\n",
    "        i1 = bond.GetBeginAtomIdx()\n",
    "        i2 = bond.GetEndAtomIdx()\n",
    "        \n",
    "        pdb_idx1 = match[i1]\n",
    "        pdb_idx2 = match[i2]\n",
    "        \n",
    "        pdb_bond = pdb_mol.GetBondBetweenAtoms(pdb_idx1, pdb_idx2)\n",
    "        if pdb_bond is None:\n",
    "            raise ValueError(\"Bond not found in PDB for reference bond!\")\n",
    "        \n",
    "        pdb_bond.SetBondType(bond.GetBondType())\n",
    "        pdb_bond.SetIsAromatic(bond.GetIsAromatic())\n",
    "\n",
    "    # Now we can try sanitizing the updated PDB mol\n",
    "    Chem.SanitizeMol(pdb_mol)\n",
    "\n",
    "    # 5) Add hydrogens with 3D coords\n",
    "    pdb_mol_with_h = Chem.AddHs(pdb_mol, addCoords=True)\n",
    "\n",
    "    # 6) Constrained minimization (optional)\n",
    "    conf = pdb_mol_with_h.GetConformer()\n",
    "    ff = AllChem.UFFGetMoleculeForceField(pdb_mol_with_h, confId=conf.GetId())\n",
    "    # Fix heavy atoms\n",
    "    for atom_idx, atom in enumerate(pdb_mol_with_h.GetAtoms()):\n",
    "        if atom.GetAtomicNum() != 1:\n",
    "            ff.AddFixedPoint(atom_idx)\n",
    "    ff.Initialize()\n",
    "    ff.Minimize(maxSteps=1000)\n",
    "\n",
    "    # 7) Write out\n",
    "    Chem.MolToPDBFile(pdb_mol_with_h, out_pdb)\n",
    "    print(f\"Result written to {out_pdb}\")\n"
   ]
  },
  {
   "cell_type": "code",
   "execution_count": 37,
   "metadata": {},
   "outputs": [
    {
     "ename": "ValueError",
     "evalue": "Substructure match failed. The PDB does not match the SMILES connectivity.",
     "output_type": "error",
     "traceback": [
      "\u001b[0;31m---------------------------------------------------------------------------\u001b[0m",
      "\u001b[0;31mValueError\u001b[0m                                Traceback (most recent call last)",
      "Cell \u001b[0;32mIn[37], line 1\u001b[0m\n\u001b[0;32m----> 1\u001b[0m \u001b[43massign_bond_orders_manually\u001b[49m\u001b[43m(\u001b[49m\n\u001b[1;32m      2\u001b[0m \u001b[43m    \u001b[49m\u001b[43mpdb_file\u001b[49m\u001b[38;5;241;43m=\u001b[39;49m\u001b[38;5;124;43m\"\u001b[39;49m\u001b[38;5;124;43m/disk2/fli/REVIVAL2/zs/vina/chai/struct_joint/PfTrpB-4bromo/I165A:I183A:Y301V_0/4bromo/4bromo.pdb\u001b[39;49m\u001b[38;5;124;43m\"\u001b[39;49m\u001b[43m,\u001b[49m\n\u001b[1;32m      3\u001b[0m \u001b[43m    \u001b[49m\u001b[43msmiles\u001b[49m\u001b[38;5;241;43m=\u001b[39;49m\u001b[38;5;124;43m\"\u001b[39;49m\u001b[38;5;124;43mC1=CC2=C(C=CN2)C(=C1)Br\u001b[39;49m\u001b[38;5;124;43m\"\u001b[39;49m\u001b[43m,\u001b[49m\n\u001b[1;32m      4\u001b[0m \u001b[43m    \u001b[49m\u001b[43mout_pdb\u001b[49m\u001b[38;5;241;43m=\u001b[39;49m\u001b[38;5;124;43m\"\u001b[39;49m\u001b[38;5;124;43m/disk2/fli/REVIVAL2/zs/vina/chai/struct_joint/PfTrpB-4bromo/I165A:I183A:Y301V_0/4bromo/4bromo_h.pdb\u001b[39;49m\u001b[38;5;124;43m\"\u001b[39;49m\n\u001b[1;32m      5\u001b[0m \u001b[43m)\u001b[49m\n",
      "Cell \u001b[0;32mIn[36], line 17\u001b[0m, in \u001b[0;36massign_bond_orders_manually\u001b[0;34m(smiles, pdb_file, out_pdb)\u001b[0m\n\u001b[1;32m     15\u001b[0m match \u001b[38;5;241m=\u001b[39m pdb_mol\u001b[38;5;241m.\u001b[39mGetSubstructMatch(ref_mol)\n\u001b[1;32m     16\u001b[0m \u001b[38;5;28;01mif\u001b[39;00m \u001b[38;5;129;01mnot\u001b[39;00m match:\n\u001b[0;32m---> 17\u001b[0m     \u001b[38;5;28;01mraise\u001b[39;00m \u001b[38;5;167;01mValueError\u001b[39;00m(\u001b[38;5;124m\"\u001b[39m\u001b[38;5;124mSubstructure match failed. The PDB does not match the SMILES connectivity.\u001b[39m\u001b[38;5;124m\"\u001b[39m)\n\u001b[1;32m     19\u001b[0m \u001b[38;5;66;03m# 4) Copy bond orders\u001b[39;00m\n\u001b[1;32m     20\u001b[0m \u001b[38;5;66;03m#    For each bond in the reference, find the corresponding bond in the PDB\u001b[39;00m\n\u001b[1;32m     21\u001b[0m \u001b[38;5;66;03m#    and set the same bond type and aromatic flag.\u001b[39;00m\n\u001b[1;32m     22\u001b[0m \u001b[38;5;28;01mfor\u001b[39;00m bond \u001b[38;5;129;01min\u001b[39;00m ref_mol\u001b[38;5;241m.\u001b[39mGetBonds():\n",
      "\u001b[0;31mValueError\u001b[0m: Substructure match failed. The PDB does not match the SMILES connectivity."
     ]
    }
   ],
   "source": [
    "assign_bond_orders_manually(\n",
    "    pdb_file=\"/disk2/fli/REVIVAL2/zs/vina/chai/struct_joint/PfTrpB-4bromo/I165A:I183A:Y301V_0/4bromo/4bromo.pdb\",\n",
    "    smiles=\"C1=CC2=C(C=CN2)C(=C1)Br\",\n",
    "    out_pdb=\"/disk2/fli/REVIVAL2/zs/vina/chai/struct_joint/PfTrpB-4bromo/I165A:I183A:Y301V_0/4bromo/4bromo_h.pdb\"\n",
    ")"
   ]
  },
  {
   "cell_type": "code",
   "execution_count": 18,
   "metadata": {},
   "outputs": [],
   "source": [
    "def add_hydrogens_preserve_geometry(input_pdb: str, output_pdb: str):\n",
    "    # Load the molecule from PDB\n",
    "    mol = Chem.MolFromPDBFile(input_pdb, removeHs=False)\n",
    "    if not mol:\n",
    "        raise ValueError(\"Could not parse the PDB file. Ensure it's valid.\")\n",
    "\n",
    "    # Add hydrogens while preserving geometry\n",
    "    mol_with_h = Chem.AddHs(mol, addCoords=True)\n",
    "\n",
    "    # Generate 3D coordinates only for missing Hs\n",
    "    AllChem.EmbedMolecule(mol_with_h, useRandomCoords=False)\n",
    "\n",
    "    # Save the updated molecule with hydrogens\n",
    "    with open(output_pdb, \"w\") as f:\n",
    "        f.write(Chem.MolToPDBBlock(mol_with_h))\n"
   ]
  },
  {
   "cell_type": "code",
   "execution_count": 20,
   "metadata": {},
   "outputs": [],
   "source": [
    "add_hydrogens_preserve_geometry(\n",
    "    \"/disk2/fli/REVIVAL2/zs/vina/chai/struct_joint/PfTrpB-4bromo/I165A:I183A:Y301V_0/4bromo/4bromo.pdb\",\n",
    "    \"/disk2/fli/REVIVAL2/zs/vina/chai/struct_joint/PfTrpB-4bromo/I165A:I183A:Y301V_0/4bromo/4bromo_h2.pdb\"\n",
    ")"
   ]
  },
  {
   "cell_type": "code",
   "execution_count": null,
   "metadata": {},
   "outputs": [],
   "source": []
  }
 ],
 "metadata": {
  "kernelspec": {
   "display_name": "vina",
   "language": "python",
   "name": "python3"
  },
  "language_info": {
   "codemirror_mode": {
    "name": "ipython",
    "version": 3
   },
   "file_extension": ".py",
   "mimetype": "text/x-python",
   "name": "python",
   "nbconvert_exporter": "python",
   "pygments_lexer": "ipython3",
   "version": "3.9.7"
  }
 },
 "nbformat": 4,
 "nbformat_minor": 2
}
