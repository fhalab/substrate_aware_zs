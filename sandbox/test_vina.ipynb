{
 "cells": [
  {
   "cell_type": "code",
   "execution_count": null,
   "metadata": {},
   "outputs": [
    {
     "name": "stdout",
     "output_type": "stream",
     "text": [
      "/disk2/fli/REVIVAL2\n"
     ]
    }
   ],
   "source": [
    "%cd ~/REVIVAL2\n",
    "%load_ext autoreload\n",
    "%autoreload 2\n",
    "# %load_ext blackcellmagic"
   ]
  },
  {
   "cell_type": "code",
   "execution_count": 2,
   "metadata": {},
   "outputs": [
    {
     "name": "stdout",
     "output_type": "stream",
     "text": [
      "Python: 3.9.7 | packaged by conda-forge | (default, Sep 29 2021, 19:23:11) \n",
      "[GCC 9.4.0]\n",
      "NumPy: 2.0.2\n",
      "OpenMM: 7.7.0.dev-130124a\n",
      "Environment: environ({'USER': 'fli', 'SSH_CLIENT': '131.215.249.59 49529 22', 'XDG_SESSION_TYPE': 'tty', 'SHLVL': '2', 'MOTD_SHOWN': 'pam', 'HOME': '/disk2/fli', 'OLDPWD': '/disk2/fli/.vscode-server', 'SSL_CERT_FILE': '/usr/lib/ssl/certs/ca-certificates.crt', 'DBUS_SESSION_BUS_ADDRESS': 'unix:path=/run/user/1002/bus', 'LOGNAME': 'fli', '_': '/disk2/fli/miniconda3/envs/vina/bin/python', 'XDG_SESSION_CLASS': 'user', 'XDG_SESSION_ID': '11349', 'VSCODE_CLI_REQUIRE_TOKEN': 'bba36035-143a-4a7f-bb2b-7cd617aa4f8f', 'PATH': '/disk2/fli/miniconda3/envs/vina/bin:/disk2/fli/.vscode-server/cli/servers/Stable-91fbdddc47bc9c09064bf7acf133d22631cbf083/server/bin/remote-cli:/disk2/fli/.local/bin:/disk2/fli/openmpi/bin:/disk2/fli/orca_6_0_1:/disk2/fli/miniconda3/envs/vina/bin:/disk2/fli/miniconda3/condabin:/disk2/fli/.local/bin:/usr/local/sbin:/usr/local/bin:/usr/sbin:/usr/bin:/sbin:/bin:/usr/games:/usr/local/games:/snap/bin', 'VSCODE_AGENT_FOLDER': '/disk2/fli/.vscode-server', 'XDG_RUNTIME_DIR': '/run/user/1002', 'SSL_CERT_DIR': '/usr/lib/ssl/certs', 'LANG': 'en_US.UTF-8', 'SHELL': '/bin/bash', 'PWD': '/disk2/fli', 'SSH_CONNECTION': '131.215.249.59 49529 131.215.19.19 22', 'VSCODE_CWD': '/disk2/fli', 'VSCODE_NLS_CONFIG': '{\"userLocale\":\"en\",\"osLocale\":\"en\",\"resolvedLanguage\":\"en\",\"defaultMessagesFile\":\"/disk2/fli/.vscode-server/cli/servers/Stable-91fbdddc47bc9c09064bf7acf133d22631cbf083/server/out/nls.messages.json\",\"locale\":\"en\",\"availableLanguages\":{}}', 'VSCODE_HANDLES_SIGPIPE': 'true', 'CONDA_EXE': '/disk2/fli/miniconda3/bin/conda', '_CE_M': '', 'CONDA_PREFIX': '/disk2/fli/miniconda3/envs/vina', 'LS_COLORS': '', 'CONDA_PROMPT_MODIFIER': '(vina) ', 'LESSCLOSE': '/usr/bin/lesspipe %s %s', '_CE_CONDA': '', 'LESSOPEN': '| /usr/bin/lesspipe %s', 'CONDA_SHLVL': '2', 'CONDA_PYTHON_EXE': '/disk2/fli/miniconda3/bin/python', 'LD_LIBRARY_PATH': '/disk2/fli/openmpi/lib:', 'CONDA_DEFAULT_ENV': 'vina', 'VSCODE_ESM_ENTRYPOINT': 'vs/workbench/api/node/extensionHostProcess', 'VSCODE_HANDLES_UNCAUGHT_ERRORS': 'true', 'BROWSER': '/disk2/fli/.vscode-server/cli/servers/Stable-91fbdddc47bc9c09064bf7acf133d22631cbf083/server/bin/helpers/browser.sh', 'ELECTRON_RUN_AS_NODE': '1', 'VSCODE_IPC_HOOK_CLI': '/run/user/1002/vscode-ipc-17df9b7d-d631-4ed4-8e7f-7d1a69325c2a.sock', 'VSCODE_L10N_BUNDLE_LOCATION': '', 'PYTHONUNBUFFERED': '1', 'CONDA_MKL_INTERFACE_LAYER_BACKUP': '', 'XML_CATALOG_FILES': 'file:///disk2/fli/miniconda3/envs/vina/etc/xml/catalog file:///etc/xml/catalog', 'GSETTINGS_SCHEMA_DIR': '/disk2/fli/miniconda3/envs/vina/share/glib-2.0/schemas', 'CONDA_ROOT': '/disk2/fli/miniconda3', 'GSETTINGS_SCHEMA_DIR_CONDA_BACKUP': '', 'PYTHONIOENCODING': 'utf-8', 'CONDA_PREFIX_1': '/disk2/fli/miniconda3', 'MKL_INTERFACE_LAYER': 'LP64,GNU', 'PYDEVD_IPYTHON_COMPATIBLE_DEBUGGING': '1', 'PYTHON_FROZEN_MODULES': 'on', 'PYDEVD_USE_FRAME_EVAL': 'NO', 'TERM': 'xterm-color', 'CLICOLOR': '1', 'FORCE_COLOR': '1', 'CLICOLOR_FORCE': '1', 'PAGER': 'cat', 'GIT_PAGER': 'cat', 'MPLBACKEND': 'module://matplotlib_inline.backend_inline'})\n"
     ]
    }
   ],
   "source": [
    "import sys\n",
    "import os\n",
    "import numpy\n",
    "import openmm\n",
    "print(f\"Python: {sys.version}\")\n",
    "print(f\"NumPy: {numpy.__version__}\")\n",
    "print(f\"OpenMM: {openmm.version.version}\")\n",
    "print(f\"Environment: {os.environ}\")"
   ]
  },
  {
   "cell_type": "code",
   "execution_count": 2,
   "metadata": {},
   "outputs": [],
   "source": [
    "import os\n",
    "from Bio.PDB import PDBParser, MMCIFParser, PDBIO, MMCIFIO, Select\n",
    "\n",
    "# def get_protein_structure(file_path: str):\n",
    "\n",
    "#     \"\"\"\n",
    "#     Get the parser based on the file extension\n",
    "\n",
    "#     Args:\n",
    "#     - file_path: str, the path to the file\n",
    "\n",
    "#     Returns:\n",
    "#     - PDBParser, the parser\n",
    "#     \"\"\"\n",
    "\n",
    "#     # Check the file extension\n",
    "#     file_extension = os.path.splitext(file_path)[1].lower()\n",
    "\n",
    "#     if file_extension == \".pdb\":\n",
    "#         parser = PDBParser(QUIET=True)  # QUIET suppresses warnings\n",
    "#     elif file_extension == \".cif\":\n",
    "#         parser = MMCIFParser(QUIET=True)\n",
    "#     else:\n",
    "#         raise ValueError(\"Unsupported file format. Please use a .pdb or .cif file.\")\n",
    "\n",
    "#     return parser.get_structure(\"protein\", file_path)\n",
    "\n",
    "\n",
    "# def save_full_hierarchy_atoms(atoms_with_context, output_file_path):\n",
    "#     \"\"\"\n",
    "#     Save a PDB file containing atoms with full hierarchy (model, chain, residue, atom).\n",
    "\n",
    "#     Args:\n",
    "#         atoms_with_context (list): List of tuples (model, chain, residue, atom).\n",
    "#         output_file_path (str): Path to save the filtered PDB file.\n",
    "#     \"\"\"\n",
    "\n",
    "#     # Create a custom selector\n",
    "#     class FullHierarchySelector(Select):\n",
    "#         def __init__(self, atoms_with_context):\n",
    "#             self.selected_atoms = set(atom for _, _, _, atom in atoms_with_context)\n",
    "\n",
    "#         def accept_atom(self, atom):\n",
    "#             # Include only selected atoms\n",
    "#             return atom in self.selected_atoms\n",
    "\n",
    "#     print(atoms_with_context)\n",
    "    \n",
    "#     # Use the structure from the first atom's model as a base\n",
    "#     if atoms_with_context:\n",
    "\n",
    "#         structure = atoms_with_context[0][0].get_parent()\n",
    "#         print(structure)\n",
    "#         print(output_file_path)\n",
    "\n",
    "#         # Write the filtered structure\n",
    "#         io = PDBIO()\n",
    "#         io.set_structure(structure)\n",
    "#         io.save(output_file_path, select=FullHierarchySelector(atoms_with_context))\n",
    "\n",
    "\n",
    "# def extract_substruct(\n",
    "#     input_file_path: str,\n",
    "#     output_substruct_path: str,\n",
    "#     info_list: list,\n",
    "#     chain_id: str,\n",
    "#     criteria: str = \"include\",\n",
    "# ):\n",
    "#     \"\"\"\n",
    "#     Extract substructure from a PDB or CIF file based on chain, resn, and atom name.\n",
    "\n",
    "#     Args:\n",
    "#         input_file_path (str): Path to the input PDB or CIF file.\n",
    "#         output_substruct_path (str): Path to save the extracted substrate structure.\n",
    "#         info_list (list of tuples): List of (chain_id, resn, name) for selection.\n",
    "#         criteria (str): \"include\" to keep specified atoms, \"exclude\" to remove them.\n",
    "#     \"\"\"\n",
    "\n",
    "#     print(input_file_path)\n",
    "#     print(output_substruct_path)\n",
    "#     print(info_list)\n",
    "#     print(chain_id)\n",
    "#     print(criteria)\n",
    "    \n",
    "#     structure = get_protein_structure(input_file_path)\n",
    "\n",
    "#     substrate_atoms = []\n",
    "#     rest_atoms = []\n",
    "\n",
    "#     for model in structure:\n",
    "#         for chain in model:\n",
    "#             if chain.id == chain_id:\n",
    "#                 for residue in chain:\n",
    "#                     for atom in residue:\n",
    "#                         match = any(\n",
    "#                             chain.id == chain_id and residue.resname == resn and atom.name == name\n",
    "#                             for chain_id, resn, name in info_list\n",
    "#                         )\n",
    "#                         if match:\n",
    "#                             substrate_atoms.append((model, chain, residue, atom))\n",
    "#                         else:\n",
    "#                             rest_atoms.append((model, chain, residue, atom))\n",
    "\n",
    "#     print(f\"Substrate atoms: {substrate_atoms}\")\n",
    "#     print(f\"Rest atoms: {rest_atoms}\")\n",
    "\n",
    "#     if criteria == \"include\":\n",
    "#         save_full_hierarchy_atoms(substrate_atoms, output_substruct_path)\n",
    "#     else:\n",
    "#         save_full_hierarchy_atoms(rest_atoms, output_substruct_path)\n",
    "\n",
    "#     # replace_residue_names_auto(output_substruct_path, output_substruct_path)\n",
    "\n",
    "#     print(f\"Substructure saved to {output_substruct_path}\")\n",
    "\n"
   ]
  },
  {
   "cell_type": "code",
   "execution_count": 4,
   "metadata": {},
   "outputs": [
    {
     "name": "stdout",
     "output_type": "stream",
     "text": [
      "Substrate atoms: [(<Model id=0>, <Chain id=B>, <Residue LIG het=  resseq=1 icode= >, <Atom C_1>), (<Model id=0>, <Chain id=B>, <Residue LIG het=  resseq=1 icode= >, <Atom C_2>), (<Model id=0>, <Chain id=B>, <Residue LIG het=  resseq=1 icode= >, <Atom C_3>), (<Model id=0>, <Chain id=B>, <Residue LIG het=  resseq=1 icode= >, <Atom C_4>), (<Model id=0>, <Chain id=B>, <Residue LIG het=  resseq=1 icode= >, <Atom C_5>), (<Model id=0>, <Chain id=B>, <Residue LIG het=  resseq=1 icode= >, <Atom C_6>), (<Model id=0>, <Chain id=B>, <Residue LIG het=  resseq=1 icode= >, <Atom N_1>), (<Model id=0>, <Chain id=B>, <Residue LIG het=  resseq=1 icode= >, <Atom C_7>), (<Model id=0>, <Chain id=B>, <Residue LIG het=  resseq=1 icode= >, <Atom C_8>), (<Model id=0>, <Chain id=B>, <Residue LIG het=  resseq=1 icode= >, <Atom BR_1>)]\n",
      "Rest atoms: [(<Model id=0>, <Chain id=B>, <Residue LIG het=  resseq=1 icode= >, <Atom O_1>), (<Model id=0>, <Chain id=B>, <Residue LIG het=  resseq=1 icode= >, <Atom C_9>), (<Model id=0>, <Chain id=B>, <Residue LIG het=  resseq=1 icode= >, <Atom C_10>), (<Model id=0>, <Chain id=B>, <Residue LIG het=  resseq=1 icode= >, <Atom C_11>), (<Model id=0>, <Chain id=B>, <Residue LIG het=  resseq=1 icode= >, <Atom N_2>), (<Model id=0>, <Chain id=B>, <Residue LIG het=  resseq=1 icode= >, <Atom C_12>), (<Model id=0>, <Chain id=B>, <Residue LIG het=  resseq=1 icode= >, <Atom C_13>), (<Model id=0>, <Chain id=B>, <Residue LIG het=  resseq=1 icode= >, <Atom O_2>), (<Model id=0>, <Chain id=B>, <Residue LIG het=  resseq=1 icode= >, <Atom O_3>), (<Model id=0>, <Chain id=B>, <Residue LIG het=  resseq=1 icode= >, <Atom C_14>), (<Model id=0>, <Chain id=B>, <Residue LIG het=  resseq=1 icode= >, <Atom C_15>), (<Model id=0>, <Chain id=B>, <Residue LIG het=  resseq=1 icode= >, <Atom C_16>), (<Model id=0>, <Chain id=B>, <Residue LIG het=  resseq=1 icode= >, <Atom P_1>), (<Model id=0>, <Chain id=B>, <Residue LIG het=  resseq=1 icode= >, <Atom O_4>), (<Model id=0>, <Chain id=B>, <Residue LIG het=  resseq=1 icode= >, <Atom O_5>), (<Model id=0>, <Chain id=B>, <Residue LIG het=  resseq=1 icode= >, <Atom O_6>), (<Model id=0>, <Chain id=B>, <Residue LIG het=  resseq=1 icode= >, <Atom C_17>), (<Model id=0>, <Chain id=B>, <Residue LIG het=  resseq=1 icode= >, <Atom N_3>), (<Model id=0>, <Chain id=B>, <Residue LIG het=  resseq=1 icode= >, <Atom C_18>), (<Model id=0>, <Chain id=B>, <Residue LIG het=  resseq=1 icode= >, <Atom C_19>), (<Model id=0>, <Chain id=B>, <Residue LIG het=  resseq=1 icode= >, <Atom NA_1>)]\n",
      "Substructure saved to zs/vina/chai/struct_joint/PfTrpB-4bromo/I165A:I183A:Y301V_0/4bromo/4bromo_4.pdb\n"
     ]
    }
   ],
   "source": [
    "from REVIVAL.zs.vina2 import extract_substruct\n",
    "\n",
    "extract_substruct(\n",
    "    input_file_path=\"/disk2/fli/REVIVAL2/zs/chai/struct_joint/PfTrpB-4bromo/I165A:I183A:Y301V/I165A:I183A:Y301V_0.cif\", \n",
    "    output_substruct_path=\"zs/vina/chai/struct_joint/PfTrpB-4bromo/I165A:I183A:Y301V_0/4bromo/4bromo_4.pdb\", \n",
    "    info_list=[\n",
    "        ('B', 'LIG', 'C_1'),\n",
    "        ('B', 'LIG', 'C_2'),\n",
    "        ('B', 'LIG', 'C_3'),\n",
    "        ('B', 'LIG', 'C_4'),\n",
    "        ('B', 'LIG', 'C_5'),\n",
    "        ('B', 'LIG', 'C_6'),\n",
    "        ('B', 'LIG', 'C_7'),\n",
    "        ('B', 'LIG', 'C_8'),\n",
    "        ('B', 'LIG', 'N_1'),\n",
    "        ('B', 'LIG', 'BR_1')\n",
    "    ],\n",
    "    chain_id=\"B\",\n",
    "    criteria=\"include\")"
   ]
  },
  {
   "cell_type": "code",
   "execution_count": 87,
   "metadata": {},
   "outputs": [],
   "source": [
    "\n",
    "\n",
    "def checkNgen_folder(folder_path: str) -> str:\n",
    "\n",
    "    \"\"\"\n",
    "    Check if the folder and its subfolder exists\n",
    "    create a new directory if not\n",
    "    Args:\n",
    "    - folder_path: str, the folder path\n",
    "    \"\"\"\n",
    "\n",
    "    # if input path is file\n",
    "    if bool(os.path.splitext(folder_path)[1]):\n",
    "        folder_path = os.path.dirname(folder_path)\n",
    "\n",
    "    split_list = os.path.normpath(folder_path).split(\"/\")\n",
    "    for p, _ in enumerate(split_list):\n",
    "        subfolder_path = \"/\".join(split_list[: p + 1])\n",
    "        if not os.path.exists(subfolder_path):\n",
    "            print(f\"Making {subfolder_path} ...\")\n",
    "            os.mkdir(subfolder_path)\n",
    "    return folder_path\n"
   ]
  },
  {
   "cell_type": "code",
   "execution_count": 124,
   "metadata": {},
   "outputs": [],
   "source": [
    "def format_ligand(\n",
    "    smiles: str,\n",
    "    ligand_name: str,\n",
    "    var_dir: str,\n",
    "    input_struct_path: str,\n",
    "    pH: float = 7.4,\n",
    "    from_pdb: bool = True,\n",
    "    ligand_chain_id: str = None,\n",
    "    ligand_info: list = None,\n",
    "    substruct_criteria: str = None,\n",
    "    regen: bool = False,\n",
    ") -> str:\n",
    "\n",
    "    \"\"\"\n",
    "    Format a ligand for docking, supporting both ions and standard molecules.\n",
    "    TODO need to extract the pdbqt file for the ligand directly from the pdb file\n",
    "    unless otherwise specified.\n",
    "\n",
    "    take in the chain(s) for the ligands,\n",
    "    if was docked jointly will need to tease apart different ligands first\n",
    "\n",
    "    if smiles_opt is not None, then the substrate will be converted from SMILES string\n",
    "\n",
    "    Args:\n",
    "        smiles (str): SMILES string of the ligand.\n",
    "        ligand_name (str): Name of the ligand.\n",
    "        ligand_dir (str): Directory to save the prepared files.\n",
    "        pH (float): pH for protonation.\n",
    "        from_pdb (bool): Extract the ligand from PDB if True.\n",
    "        input_struct_path (str): Path to the PDB file.\n",
    "        regen (bool): Whether to regenerate files if they already exist.\n",
    "\n",
    "    Returns:\n",
    "        str: Paths to the PDBQT file\n",
    "    \"\"\"\n",
    "\n",
    "    print(f\"Formatting ligand {ligand_name}\")\n",
    "\n",
    "    this_ligand_dir = checkNgen_folder(os.path.join(var_dir, ligand_name))\n",
    "\n",
    "    ligand_pdbqt_file = os.path.join(this_ligand_dir, f\"{ligand_name}.pdbqt\")\n",
    "    ligand_pdb_file = os.path.join(this_ligand_dir, f\"{ligand_name}.pdb\")\n",
    "    ligand_sdf_file = os.path.join(this_ligand_dir, f\"{ligand_name}.sdf\")\n",
    "\n",
    "    # Skip processing if file exists and regen is False\n",
    "    if os.path.isfile(ligand_pdbqt_file) and not regen:\n",
    "        return ligand_pdbqt_file\n",
    "\n",
    "    # # Special handling for ions\n",
    "    # if ligand_name.upper()[:2] in LIGAND_IONS or (smiles and smiles[0] == \"[\" and smiles[-1] == \"]\"):\n",
    "    #     print(f\"Processing ion {ligand_name}\")\n",
    "\n",
    "    #     return prepare_ion(\n",
    "    #         smiles=smiles,\n",
    "    #         element=ligand_name if ligand_name.upper()[:2] in LIGAND_IONS else None,\n",
    "    #         output_dir=this_ligand_dir,\n",
    "    #         input_struct_path=input_struct_path,\n",
    "    #         pH=pH\n",
    "    #     )\n",
    "    \n",
    "    # try to directly convert from pdb\n",
    "    if from_pdb:\n",
    "        print(f\"Processing ligand {ligand_name} from PDB\")\n",
    "        if ligand_info is not None:\n",
    "            print(input_struct_path)\n",
    "            print(ligand_pdb_file)\n",
    "            print(ligand_info)\n",
    "            print(ligand_chain_id)\n",
    "            print(substruct_criteria)\n",
    "\n",
    "            # Extract ligand from PDB file\n",
    "            extract_substruct(\n",
    "                input_file_path=input_struct_path,\n",
    "                output_substruct_path=ligand_pdb_file,\n",
    "                info_list=ligand_info,\n",
    "                chain_id=ligand_chain_id,\n",
    "                criteria=substruct_criteria, # only include the ligand\n",
    "            )\n",
    "\n",
    "    return ligand_pdbqt_file"
   ]
  },
  {
   "cell_type": "code",
   "execution_count": 6,
   "metadata": {},
   "outputs": [],
   "source": [
    "from REVIVAL.global_param import LIB_INFO_DICT"
   ]
  },
  {
   "cell_type": "code",
   "execution_count": 7,
   "metadata": {},
   "outputs": [],
   "source": [
    "lib_info = LIB_INFO_DICT[\"PfTrpB-4bromo\"]\n",
    "substrate_name = lib_info[\"substrate\"]\n",
    "ligand_info = lib_info[f\"{substrate_name}-info\"]\n",
    "var_dir = \"zs/vina/chai/struct_joint/PfTrpB-4bromo/I165A:I183A:Y301V_0\"\n",
    "input_struct_path=\"/disk2/fli/REVIVAL2/zs/chai/struct_joint/PfTrpB-4bromo/I165A:I183A:Y301V/I165A:I183A:Y301V_0.cif\""
   ]
  },
  {
   "cell_type": "code",
   "execution_count": 22,
   "metadata": {},
   "outputs": [
    {
     "name": "stdout",
     "output_type": "stream",
     "text": [
      "Formatting ligand 4bromo\n",
      "Checking for ions...\n",
      "Processing ligand 4bromo from PDB\n",
      "/disk2/fli/REVIVAL2/zs/chai/struct_joint/PfTrpB-4bromo/I165A:I183A:Y301V/I165A:I183A:Y301V_0.cif\n",
      "zs/vina/chai/struct_joint/PfTrpB-4bromo/I165A:I183A:Y301V_0/4bromo/4bromo.pdb\n",
      "[('B', 'LIG', 'C_1'), ('B', 'LIG', 'C_2'), ('B', 'LIG', 'C_3'), ('B', 'LIG', 'C_4'), ('B', 'LIG', 'C_5'), ('B', 'LIG', 'C_6'), ('B', 'LIG', 'C_7'), ('B', 'LIG', 'C_8'), ('B', 'LIG', 'N_1'), ('B', 'LIG', 'BR_1')]\n",
      "B\n",
      "include\n",
      "Substrate atoms: [(<Model id=0>, <Chain id=B>, <Residue LIG het=  resseq=1 icode= >, <Atom C_1>), (<Model id=0>, <Chain id=B>, <Residue LIG het=  resseq=1 icode= >, <Atom C_2>), (<Model id=0>, <Chain id=B>, <Residue LIG het=  resseq=1 icode= >, <Atom C_3>), (<Model id=0>, <Chain id=B>, <Residue LIG het=  resseq=1 icode= >, <Atom C_4>), (<Model id=0>, <Chain id=B>, <Residue LIG het=  resseq=1 icode= >, <Atom C_5>), (<Model id=0>, <Chain id=B>, <Residue LIG het=  resseq=1 icode= >, <Atom C_6>), (<Model id=0>, <Chain id=B>, <Residue LIG het=  resseq=1 icode= >, <Atom N_1>), (<Model id=0>, <Chain id=B>, <Residue LIG het=  resseq=1 icode= >, <Atom C_7>), (<Model id=0>, <Chain id=B>, <Residue LIG het=  resseq=1 icode= >, <Atom C_8>), (<Model id=0>, <Chain id=B>, <Residue LIG het=  resseq=1 icode= >, <Atom BR_1>)]\n",
      "Rest atoms: [(<Model id=0>, <Chain id=B>, <Residue LIG het=  resseq=1 icode= >, <Atom O_1>), (<Model id=0>, <Chain id=B>, <Residue LIG het=  resseq=1 icode= >, <Atom C_9>), (<Model id=0>, <Chain id=B>, <Residue LIG het=  resseq=1 icode= >, <Atom C_10>), (<Model id=0>, <Chain id=B>, <Residue LIG het=  resseq=1 icode= >, <Atom C_11>), (<Model id=0>, <Chain id=B>, <Residue LIG het=  resseq=1 icode= >, <Atom N_2>), (<Model id=0>, <Chain id=B>, <Residue LIG het=  resseq=1 icode= >, <Atom C_12>), (<Model id=0>, <Chain id=B>, <Residue LIG het=  resseq=1 icode= >, <Atom C_13>), (<Model id=0>, <Chain id=B>, <Residue LIG het=  resseq=1 icode= >, <Atom O_2>), (<Model id=0>, <Chain id=B>, <Residue LIG het=  resseq=1 icode= >, <Atom O_3>), (<Model id=0>, <Chain id=B>, <Residue LIG het=  resseq=1 icode= >, <Atom C_14>), (<Model id=0>, <Chain id=B>, <Residue LIG het=  resseq=1 icode= >, <Atom C_15>), (<Model id=0>, <Chain id=B>, <Residue LIG het=  resseq=1 icode= >, <Atom C_16>), (<Model id=0>, <Chain id=B>, <Residue LIG het=  resseq=1 icode= >, <Atom P_1>), (<Model id=0>, <Chain id=B>, <Residue LIG het=  resseq=1 icode= >, <Atom O_4>), (<Model id=0>, <Chain id=B>, <Residue LIG het=  resseq=1 icode= >, <Atom O_5>), (<Model id=0>, <Chain id=B>, <Residue LIG het=  resseq=1 icode= >, <Atom O_6>), (<Model id=0>, <Chain id=B>, <Residue LIG het=  resseq=1 icode= >, <Atom C_17>), (<Model id=0>, <Chain id=B>, <Residue LIG het=  resseq=1 icode= >, <Atom N_3>), (<Model id=0>, <Chain id=B>, <Residue LIG het=  resseq=1 icode= >, <Atom C_18>), (<Model id=0>, <Chain id=B>, <Residue LIG het=  resseq=1 icode= >, <Atom C_19>), (<Model id=0>, <Chain id=B>, <Residue LIG het=  resseq=1 icode= >, <Atom NA_1>)]\n",
      "Detected residues to replace: set()\n",
      "Substructure saved to /disk2/fli/REVIVAL2/zs/vina/chai/struct_joint/PfTrpB-4bromo/I165A:I183A:Y301V_0/4bromo/4bromo_temp.pdb\n",
      "ligand_pdb_temp_file zs/vina/chai/struct_joint/PfTrpB-4bromo/I165A:I183A:Y301V_0/4bromo/4bromo_temp.pdb\n",
      "ligand_pdb_file zs/vina/chai/struct_joint/PfTrpB-4bromo/I165A:I183A:Y301V_0/4bromo/4bromo.pdb\n",
      "Removing ions from zs/vina/chai/struct_joint/PfTrpB-4bromo/I165A:I183A:Y301V_0/4bromo/4bromo_temp.pdb\n"
     ]
    },
    {
     "data": {
      "text/plain": [
       "'zs/vina/chai/struct_joint/PfTrpB-4bromo/I165A:I183A:Y301V_0/4bromo/4bromo.pdbqt'"
      ]
     },
     "execution_count": 22,
     "metadata": {},
     "output_type": "execute_result"
    }
   ],
   "source": [
    "from REVIVAL.zs.vina2 import format_ligand\n",
    "\n",
    "format_ligand(\n",
    "            smiles=lib_info[\"substrate-smiles\"],\n",
    "            ligand_name=substrate_name,\n",
    "            var_dir=var_dir,\n",
    "            pH=7.4,\n",
    "            substruct_criteria=\"include\",\n",
    "            from_pdb=True,\n",
    "            input_struct_path=input_struct_path,\n",
    "            ligand_info=ligand_info,\n",
    "            ligand_chain_id=\"B\",\n",
    "            regen = True,\n",
    "    )"
   ]
  },
  {
   "cell_type": "code",
   "execution_count": 23,
   "metadata": {},
   "outputs": [
    {
     "data": {
      "text/plain": [
       "'[O-]C1=C(/C=[N+]([H])/C(C([O-])=O)=C)C(CP([O-])([O-])=O)=CN=C1C'"
      ]
     },
     "execution_count": 23,
     "metadata": {},
     "output_type": "execute_result"
    }
   ],
   "source": [
    "lib_info[\"cofactor-smiles\"][0]"
   ]
  },
  {
   "cell_type": "code",
   "execution_count": 24,
   "metadata": {},
   "outputs": [
    {
     "data": {
      "text/plain": [
       "'PLP-dependent_aminoacrylate'"
      ]
     },
     "execution_count": 24,
     "metadata": {},
     "output_type": "execute_result"
    }
   ],
   "source": [
    "lib_info[\"cofactor\"][0]"
   ]
  },
  {
   "cell_type": "code",
   "execution_count": null,
   "metadata": {},
   "outputs": [],
   "source": [
    "lib_info[\"cofactor-smiles\"][0]"
   ]
  },
  {
   "cell_type": "code",
   "execution_count": 25,
   "metadata": {},
   "outputs": [
    {
     "name": "stdout",
     "output_type": "stream",
     "text": [
      "Formatting ligand PLP-dependent_aminoacrylate\n",
      "Making zs/vina/chai/struct_joint/PfTrpB-4bromo/I165A:I183A:Y301V_0/PLP-dependent_aminoacrylate ...\n",
      "Checking for ions...\n",
      "Processing ligand PLP-dependent_aminoacrylate from PDB\n",
      "/disk2/fli/REVIVAL2/zs/chai/struct_joint/PfTrpB-4bromo/I165A:I183A:Y301V/I165A:I183A:Y301V_0.cif\n",
      "zs/vina/chai/struct_joint/PfTrpB-4bromo/I165A:I183A:Y301V_0/PLP-dependent_aminoacrylate/PLP-dependent_aminoacrylate.pdb\n",
      "[('B', 'LIG', 'C_1'), ('B', 'LIG', 'C_2'), ('B', 'LIG', 'C_3'), ('B', 'LIG', 'C_4'), ('B', 'LIG', 'C_5'), ('B', 'LIG', 'C_6'), ('B', 'LIG', 'C_7'), ('B', 'LIG', 'C_8'), ('B', 'LIG', 'N_1'), ('B', 'LIG', 'BR_1')]\n",
      "B\n",
      "exclude\n",
      "Substrate atoms: [(<Model id=0>, <Chain id=B>, <Residue LIG het=  resseq=1 icode= >, <Atom C_1>), (<Model id=0>, <Chain id=B>, <Residue LIG het=  resseq=1 icode= >, <Atom C_2>), (<Model id=0>, <Chain id=B>, <Residue LIG het=  resseq=1 icode= >, <Atom C_3>), (<Model id=0>, <Chain id=B>, <Residue LIG het=  resseq=1 icode= >, <Atom C_4>), (<Model id=0>, <Chain id=B>, <Residue LIG het=  resseq=1 icode= >, <Atom C_5>), (<Model id=0>, <Chain id=B>, <Residue LIG het=  resseq=1 icode= >, <Atom C_6>), (<Model id=0>, <Chain id=B>, <Residue LIG het=  resseq=1 icode= >, <Atom N_1>), (<Model id=0>, <Chain id=B>, <Residue LIG het=  resseq=1 icode= >, <Atom C_7>), (<Model id=0>, <Chain id=B>, <Residue LIG het=  resseq=1 icode= >, <Atom C_8>), (<Model id=0>, <Chain id=B>, <Residue LIG het=  resseq=1 icode= >, <Atom BR_1>)]\n",
      "Rest atoms: [(<Model id=0>, <Chain id=B>, <Residue LIG het=  resseq=1 icode= >, <Atom O_1>), (<Model id=0>, <Chain id=B>, <Residue LIG het=  resseq=1 icode= >, <Atom C_9>), (<Model id=0>, <Chain id=B>, <Residue LIG het=  resseq=1 icode= >, <Atom C_10>), (<Model id=0>, <Chain id=B>, <Residue LIG het=  resseq=1 icode= >, <Atom C_11>), (<Model id=0>, <Chain id=B>, <Residue LIG het=  resseq=1 icode= >, <Atom N_2>), (<Model id=0>, <Chain id=B>, <Residue LIG het=  resseq=1 icode= >, <Atom C_12>), (<Model id=0>, <Chain id=B>, <Residue LIG het=  resseq=1 icode= >, <Atom C_13>), (<Model id=0>, <Chain id=B>, <Residue LIG het=  resseq=1 icode= >, <Atom O_2>), (<Model id=0>, <Chain id=B>, <Residue LIG het=  resseq=1 icode= >, <Atom O_3>), (<Model id=0>, <Chain id=B>, <Residue LIG het=  resseq=1 icode= >, <Atom C_14>), (<Model id=0>, <Chain id=B>, <Residue LIG het=  resseq=1 icode= >, <Atom C_15>), (<Model id=0>, <Chain id=B>, <Residue LIG het=  resseq=1 icode= >, <Atom C_16>), (<Model id=0>, <Chain id=B>, <Residue LIG het=  resseq=1 icode= >, <Atom P_1>), (<Model id=0>, <Chain id=B>, <Residue LIG het=  resseq=1 icode= >, <Atom O_4>), (<Model id=0>, <Chain id=B>, <Residue LIG het=  resseq=1 icode= >, <Atom O_5>), (<Model id=0>, <Chain id=B>, <Residue LIG het=  resseq=1 icode= >, <Atom O_6>), (<Model id=0>, <Chain id=B>, <Residue LIG het=  resseq=1 icode= >, <Atom C_17>), (<Model id=0>, <Chain id=B>, <Residue LIG het=  resseq=1 icode= >, <Atom N_3>), (<Model id=0>, <Chain id=B>, <Residue LIG het=  resseq=1 icode= >, <Atom C_18>), (<Model id=0>, <Chain id=B>, <Residue LIG het=  resseq=1 icode= >, <Atom C_19>), (<Model id=0>, <Chain id=B>, <Residue LIG het=  resseq=1 icode= >, <Atom NA_1>)]\n",
      "Detected residues to replace: set()\n",
      "Substructure saved to /disk2/fli/REVIVAL2/zs/vina/chai/struct_joint/PfTrpB-4bromo/I165A:I183A:Y301V_0/PLP-dependent_aminoacrylate/PLP-dependent_aminoacrylate_temp.pdb\n",
      "ligand_pdb_temp_file zs/vina/chai/struct_joint/PfTrpB-4bromo/I165A:I183A:Y301V_0/PLP-dependent_aminoacrylate/PLP-dependent_aminoacrylate_temp.pdb\n",
      "ligand_pdb_file zs/vina/chai/struct_joint/PfTrpB-4bromo/I165A:I183A:Y301V_0/PLP-dependent_aminoacrylate/PLP-dependent_aminoacrylate.pdb\n",
      "Removing ions from zs/vina/chai/struct_joint/PfTrpB-4bromo/I165A:I183A:Y301V_0/PLP-dependent_aminoacrylate/PLP-dependent_aminoacrylate_temp.pdb\n"
     ]
    },
    {
     "data": {
      "text/plain": [
       "'zs/vina/chai/struct_joint/PfTrpB-4bromo/I165A:I183A:Y301V_0/PLP-dependent_aminoacrylate/PLP-dependent_aminoacrylate.pdbqt'"
      ]
     },
     "execution_count": 25,
     "metadata": {},
     "output_type": "execute_result"
    }
   ],
   "source": [
    "from REVIVAL.zs.vina2 import format_ligand\n",
    "\n",
    "format_ligand(\n",
    "            smiles=lib_info[\"cofactor-smiles\"][0],\n",
    "            ligand_name=lib_info[\"cofactor\"][0],\n",
    "            var_dir=var_dir,\n",
    "            pH=7.4,\n",
    "            substruct_criteria=\"exclude\",\n",
    "            from_pdb=True,\n",
    "            input_struct_path=input_struct_path,\n",
    "            ligand_info=ligand_info,\n",
    "            ligand_chain_id=\"B\",\n",
    "            regen = True,\n",
    "    )"
   ]
  },
  {
   "cell_type": "code",
   "execution_count": 28,
   "metadata": {},
   "outputs": [
    {
     "name": "stdout",
     "output_type": "stream",
     "text": [
      "Formatting ligand Na+\n",
      "Making zs/vina/chai/struct_joint/PfTrpB-4bromo/I165A:I183A:Y301V_0/Na+ ...\n",
      "Checking for ions...\n",
      "Processing ion Na+\n",
      "Ions matching 'NA' were successfully extracted to zs/vina/chai/struct_joint/PfTrpB-4bromo/I165A:I183A:Y301V_0/Na+/NA.pdb.\n"
     ]
    },
    {
     "name": "stderr",
     "output_type": "stream",
     "text": [
      "==============================\n",
      "*** Open Babel Warning  in parseAtomRecord\n",
      "  WARNING: Problems reading a PDB file\n",
      "  Problems reading a HETATM or ATOM record.\n",
      "  According to the PDB specification,\n",
      "  columns 77-78 should contain the element symbol of an atom.\n",
      "  but OpenBabel found '  ' (atom 1)\n",
      "1 molecule converted\n"
     ]
    },
    {
     "data": {
      "text/plain": [
       "'zs/vina/chai/struct_joint/PfTrpB-4bromo/I165A:I183A:Y301V_0/Na+/NA.pdbqt'"
      ]
     },
     "execution_count": 28,
     "metadata": {},
     "output_type": "execute_result"
    }
   ],
   "source": [
    "from REVIVAL.zs.vina2 import format_ligand\n",
    "\n",
    "format_ligand(\n",
    "            smiles=lib_info[\"cofactor-smiles\"][1],\n",
    "            ligand_name=lib_info[\"cofactor\"][1],\n",
    "            var_dir=var_dir,\n",
    "            pH=7.4,\n",
    "            substruct_criteria=\"exclude\",\n",
    "            from_pdb=True,\n",
    "            input_struct_path=input_struct_path,\n",
    "            ligand_info=ligand_info,\n",
    "            ligand_chain_id=\"B\",\n",
    "            regen = True,\n",
    "    )"
   ]
  },
  {
   "cell_type": "code",
   "execution_count": 5,
   "metadata": {},
   "outputs": [
    {
     "name": "stdout",
     "output_type": "stream",
     "text": [
      "Converting CIF to PDB: /disk2/fli/REVIVAL2/zs/chai/struct_joint/PfTrpB-4bromo/I165A:I183A:Y301V/I165A:I183A:Y301V_0.cif -> /disk2/fli/REVIVAL2/zs/chai/struct_joint/PfTrpB-4bromo/I165A:I183A:Y301V/I165A:I183A:Y301V_0.pdb\n",
      "Detected residues to replace: set()\n"
     ]
    },
    {
     "name": "stderr",
     "output_type": "stream",
     "text": [
      "1 molecule converted\n"
     ]
    },
    {
     "name": "stdout",
     "output_type": "stream",
     "text": [
      "ligand_chain_id: B, type: <class 'str'>\n",
      "Formatting ligand 4bromo\n",
      "Checking for ions...\n",
      "Processing ligand 4bromo from PDB\n",
      "insdie extract_substruct\n",
      "/disk2/fli/REVIVAL2/zs/vina/chai/struct_joint/PfTrpB-4bromo/I165A:I183A:Y301V_0/4bromo/4bromo_temp.pdb\n",
      "Substrate atoms: [(<Model id=0>, <Chain id=B>, <Residue LIG het=  resseq=1 icode= >, <Atom C1>), (<Model id=0>, <Chain id=B>, <Residue LIG het=  resseq=1 icode= >, <Atom C2>), (<Model id=0>, <Chain id=B>, <Residue LIG het=  resseq=1 icode= >, <Atom C3>), (<Model id=0>, <Chain id=B>, <Residue LIG het=  resseq=1 icode= >, <Atom C4>), (<Model id=0>, <Chain id=B>, <Residue LIG het=  resseq=1 icode= >, <Atom C5>), (<Model id=0>, <Chain id=B>, <Residue LIG het=  resseq=1 icode= >, <Atom C6>), (<Model id=0>, <Chain id=B>, <Residue LIG het=  resseq=1 icode= >, <Atom N1>), (<Model id=0>, <Chain id=B>, <Residue LIG het=  resseq=1 icode= >, <Atom C7>), (<Model id=0>, <Chain id=B>, <Residue LIG het=  resseq=1 icode= >, <Atom C8>), (<Model id=0>, <Chain id=B>, <Residue LIG het=  resseq=1 icode= >, <Atom BR1>)]\n",
      "Rest atoms: [(<Model id=0>, <Chain id=B>, <Residue LIG het=  resseq=1 icode= >, <Atom O1>), (<Model id=0>, <Chain id=B>, <Residue LIG het=  resseq=1 icode= >, <Atom C9>), (<Model id=0>, <Chain id=B>, <Residue LIG het=  resseq=1 icode= >, <Atom C10>), (<Model id=0>, <Chain id=B>, <Residue LIG het=  resseq=1 icode= >, <Atom C11>), (<Model id=0>, <Chain id=B>, <Residue LIG het=  resseq=1 icode= >, <Atom N2>), (<Model id=0>, <Chain id=B>, <Residue LIG het=  resseq=1 icode= >, <Atom C12>), (<Model id=0>, <Chain id=B>, <Residue LIG het=  resseq=1 icode= >, <Atom C13>), (<Model id=0>, <Chain id=B>, <Residue LIG het=  resseq=1 icode= >, <Atom O2>), (<Model id=0>, <Chain id=B>, <Residue LIG het=  resseq=1 icode= >, <Atom O3>), (<Model id=0>, <Chain id=B>, <Residue LIG het=  resseq=1 icode= >, <Atom C14>), (<Model id=0>, <Chain id=B>, <Residue LIG het=  resseq=1 icode= >, <Atom C15>), (<Model id=0>, <Chain id=B>, <Residue LIG het=  resseq=1 icode= >, <Atom C16>), (<Model id=0>, <Chain id=B>, <Residue LIG het=  resseq=1 icode= >, <Atom P1>), (<Model id=0>, <Chain id=B>, <Residue LIG het=  resseq=1 icode= >, <Atom O4>), (<Model id=0>, <Chain id=B>, <Residue LIG het=  resseq=1 icode= >, <Atom O5>), (<Model id=0>, <Chain id=B>, <Residue LIG het=  resseq=1 icode= >, <Atom O6>), (<Model id=0>, <Chain id=B>, <Residue LIG het=  resseq=1 icode= >, <Atom C17>), (<Model id=0>, <Chain id=B>, <Residue LIG het=  resseq=1 icode= >, <Atom N3>), (<Model id=0>, <Chain id=B>, <Residue LIG het=  resseq=1 icode= >, <Atom C18>), (<Model id=0>, <Chain id=B>, <Residue LIG het=  resseq=1 icode= >, <Atom C19>), (<Model id=0>, <Chain id=B>, <Residue LIG het=  resseq=1 icode= >, <Atom NA1>)]\n",
      "insdie save_full_hierarchy_atoms\n",
      "/disk2/fli/REVIVAL2/zs/vina/chai/struct_joint/PfTrpB-4bromo/I165A:I183A:Y301V_0/4bromo/4bromo_temp.pdb\n",
      "Substructure saved to /disk2/fli/REVIVAL2/zs/vina/chai/struct_joint/PfTrpB-4bromo/I165A:I183A:Y301V_0/4bromo/4bromo_temp.pdb\n",
      "zs/vina/chai/struct_joint/PfTrpB-4bromo/I165A:I183A:Y301V_0/4bromo/4bromo_temp.pdb zs/vina/chai/struct_joint/PfTrpB-4bromo/I165A:I183A:Y301V_0/4bromo/4bromo.pdb\n",
      "Removing ions from zs/vina/chai/struct_joint/PfTrpB-4bromo/I165A:I183A:Y301V_0/4bromo/4bromo_temp.pdb\n",
      "after removing ions\n",
      "Processing cofactor PLP-dependent_aminoacrylate [O-]C1=C(/C=[N+]([H])/C(C([O-])=O)=C)C(CP([O-])([O-])=O)=CN=C1C\n",
      "Formatting ligand PLP-dependent_aminoacrylate\n",
      "Making zs/vina/chai/struct_joint/PfTrpB-4bromo/I165A:I183A:Y301V_0/PLP-dependent_aminoacrylate ...\n",
      "Checking for ions...\n",
      "Processing ligand PLP-dependent_aminoacrylate from PDB\n",
      "Chains B have been saved to zs/vina/chai/struct_joint/PfTrpB-4bromo/I165A:I183A:Y301V_0/PLP-dependent_aminoacrylate/PLP-dependent_aminoacrylate_temp.pdb\n",
      "zs/vina/chai/struct_joint/PfTrpB-4bromo/I165A:I183A:Y301V_0/PLP-dependent_aminoacrylate/PLP-dependent_aminoacrylate_temp.pdb zs/vina/chai/struct_joint/PfTrpB-4bromo/I165A:I183A:Y301V_0/PLP-dependent_aminoacrylate/PLP-dependent_aminoacrylate.pdb\n",
      "Removing ions from zs/vina/chai/struct_joint/PfTrpB-4bromo/I165A:I183A:Y301V_0/PLP-dependent_aminoacrylate/PLP-dependent_aminoacrylate_temp.pdb\n",
      "after removing ions\n",
      "Processing cofactor Na+ [Na+]\n",
      "Formatting ligand Na+\n",
      "Making zs/vina/chai/struct_joint/PfTrpB-4bromo/I165A:I183A:Y301V_0/Na+ ...\n",
      "Checking for ions...\n",
      "Processing ion Na+\n",
      "No ions matching 'NA' were found in the file.\n",
      "cofactor_pdbqts: ['zs/vina/chai/struct_joint/PfTrpB-4bromo/I165A:I183A:Y301V_0/PLP-dependent_aminoacrylate/PLP-dependent_aminoacrylate.pdbqt', 'zs/vina/chai/struct_joint/PfTrpB-4bromo/I165A:I183A:Y301V_0/Na+/NA.pdbqt']\n"
     ]
    },
    {
     "name": "stderr",
     "output_type": "stream",
     "text": [
      "0 molecules converted\n"
     ]
    },
    {
     "name": "stdout",
     "output_type": "stream",
     "text": [
      "Making zs/vina/chai/struct_joint/PfTrpB-4bromo/I165A:I183A:Y301V_0/I165A:I183A:Y301V_0_cofactors ...\n",
      "Merging zs/vina/chai/struct_joint/PfTrpB-4bromo/I165A:I183A:Y301V_0/I165A:I183A:Y301V_0/I165A:I183A:Y301V_0.pdbqt\n",
      "Merging zs/vina/chai/struct_joint/PfTrpB-4bromo/I165A:I183A:Y301V_0/PLP-dependent_aminoacrylate/PLP-dependent_aminoacrylate.pdbqt\n",
      "Merging zs/vina/chai/struct_joint/PfTrpB-4bromo/I165A:I183A:Y301V_0/Na+/NA.pdbqt\n",
      "Combined ATOM lines saved to zs/vina/chai/struct_joint/PfTrpB-4bromo/I165A:I183A:Y301V_0/I165A:I183A:Y301V_0_cofactors/I165A:I183A:Y301V_0_cofactors.pdbqt\n",
      "Error during Vina run: Command '['vina', '--config', 'zs/vina/chai/struct_joint/PfTrpB-4bromo/I165A:I183A:Y301V_0/I165A:I183A:Y301V_0-4bromosubstrate_conf.txt', '--out', 'zs/vina/chai/struct_joint/PfTrpB-4bromo/I165A:I183A:Y301V_0/I165A:I183A:Y301V_0-4bromosubstrate-score_only.pdb', '--score_only']' returned non-zero exit status 1.\n"
     ]
    },
    {
     "ename": "CalledProcessError",
     "evalue": "Command '['vina', '--config', 'zs/vina/chai/struct_joint/PfTrpB-4bromo/I165A:I183A:Y301V_0/I165A:I183A:Y301V_0-4bromosubstrate_conf.txt', '--out', 'zs/vina/chai/struct_joint/PfTrpB-4bromo/I165A:I183A:Y301V_0/I165A:I183A:Y301V_0-4bromosubstrate-score_only.pdb', '--score_only']' returned non-zero exit status 1.",
     "output_type": "error",
     "traceback": [
      "\u001b[0;31m---------------------------------------------------------------------------\u001b[0m",
      "\u001b[0;31mCalledProcessError\u001b[0m                        Traceback (most recent call last)",
      "Cell \u001b[0;32mIn[5], line 3\u001b[0m\n\u001b[1;32m      1\u001b[0m \u001b[38;5;28;01mfrom\u001b[39;00m \u001b[38;5;21;01mREVIVAL\u001b[39;00m\u001b[38;5;21;01m.\u001b[39;00m\u001b[38;5;21;01mzs\u001b[39;00m\u001b[38;5;21;01m.\u001b[39;00m\u001b[38;5;21;01mvina2\u001b[39;00m \u001b[38;5;28;01mimport\u001b[39;00m dock\n\u001b[0;32m----> 3\u001b[0m \u001b[43mdock\u001b[49m\u001b[43m(\u001b[49m\n\u001b[1;32m      4\u001b[0m \u001b[43m    \u001b[49m\u001b[43minput_struct_path\u001b[49m\u001b[38;5;241;43m=\u001b[39;49m\u001b[38;5;124;43m\"\u001b[39;49m\u001b[38;5;124;43m/disk2/fli/REVIVAL2/zs/chai/struct_joint/PfTrpB-4bromo/I165A:I183A:Y301V/I165A:I183A:Y301V_0.cif\u001b[39;49m\u001b[38;5;124;43m\"\u001b[39;49m\u001b[43m,\u001b[49m\n\u001b[1;32m      5\u001b[0m \u001b[43m    \u001b[49m\u001b[43mdock_opt\u001b[49m\u001b[38;5;241;43m=\u001b[39;49m\u001b[38;5;124;43m\"\u001b[39;49m\u001b[38;5;124;43msubstrate\u001b[39;49m\u001b[38;5;124;43m\"\u001b[39;49m\u001b[43m,\u001b[49m\n\u001b[1;32m      6\u001b[0m \u001b[43m    \u001b[49m\u001b[43mscore_only\u001b[49m\u001b[43m \u001b[49m\u001b[38;5;241;43m=\u001b[39;49m\u001b[43m \u001b[49m\u001b[38;5;28;43;01mTrue\u001b[39;49;00m\u001b[43m,\u001b[49m\n\u001b[1;32m      7\u001b[0m \u001b[43m    \u001b[49m\u001b[43mregen\u001b[49m\u001b[38;5;241;43m=\u001b[39;49m\u001b[38;5;28;43;01mTrue\u001b[39;49;00m\n\u001b[1;32m      8\u001b[0m \u001b[43m)\u001b[49m\n",
      "File \u001b[0;32m~/REVIVAL2/REVIVAL/zs/vina2.py:773\u001b[0m, in \u001b[0;36mdock\u001b[0;34m(input_struct_path, dock_opt, score_only, cofactor_dets, vina_dir, residues4centriod, pH, size_x, size_y, size_z, num_modes, exhaustiveness, regen, num_cpus, seed)\u001b[0m\n\u001b[1;32m    769\u001b[0m         cmd_list \u001b[38;5;241m+\u001b[39m\u001b[38;5;241m=\u001b[39m [\u001b[38;5;124m\"\u001b[39m\u001b[38;5;124m--cpu\u001b[39m\u001b[38;5;124m\"\u001b[39m, \u001b[38;5;28mstr\u001b[39m(num_cpus)]\n\u001b[1;32m    771\u001b[0m \u001b[38;5;28;01mtry\u001b[39;00m:\n\u001b[1;32m    772\u001b[0m     \u001b[38;5;66;03m# Run the Vina command\u001b[39;00m\n\u001b[0;32m--> 773\u001b[0m     cmd_return \u001b[38;5;241m=\u001b[39m \u001b[43msubprocess\u001b[49m\u001b[38;5;241;43m.\u001b[39;49m\u001b[43mrun\u001b[49m\u001b[43m(\u001b[49m\n\u001b[1;32m    774\u001b[0m \u001b[43m        \u001b[49m\u001b[43mcmd_list\u001b[49m\u001b[43m,\u001b[49m\n\u001b[1;32m    775\u001b[0m \u001b[43m        \u001b[49m\u001b[43mstdout\u001b[49m\u001b[38;5;241;43m=\u001b[39;49m\u001b[43msubprocess\u001b[49m\u001b[38;5;241;43m.\u001b[39;49m\u001b[43mPIPE\u001b[49m\u001b[43m,\u001b[49m\n\u001b[1;32m    776\u001b[0m \u001b[43m        \u001b[49m\u001b[43mstderr\u001b[49m\u001b[38;5;241;43m=\u001b[39;49m\u001b[43msubprocess\u001b[49m\u001b[38;5;241;43m.\u001b[39;49m\u001b[43mSTDOUT\u001b[49m\u001b[43m,\u001b[49m\n\u001b[1;32m    777\u001b[0m \u001b[43m        \u001b[49m\u001b[43mcheck\u001b[49m\u001b[38;5;241;43m=\u001b[39;49m\u001b[38;5;28;43;01mTrue\u001b[39;49;00m\u001b[43m  \u001b[49m\u001b[38;5;66;43;03m# Ensures subprocess raises an exception on error\u001b[39;49;00m\n\u001b[1;32m    778\u001b[0m \u001b[43m    \u001b[49m\u001b[43m)\u001b[49m\n\u001b[1;32m    780\u001b[0m     \u001b[38;5;66;03m# Write the Vina output to the log file\u001b[39;00m\n\u001b[1;32m    781\u001b[0m     \u001b[38;5;28;01mwith\u001b[39;00m \u001b[38;5;28mopen\u001b[39m(vina_logfile, \u001b[38;5;124m\"\u001b[39m\u001b[38;5;124mw\u001b[39m\u001b[38;5;124m\"\u001b[39m) \u001b[38;5;28;01mas\u001b[39;00m fout:\n",
      "File \u001b[0;32m~/miniconda3/envs/vina/lib/python3.9/subprocess.py:528\u001b[0m, in \u001b[0;36mrun\u001b[0;34m(input, capture_output, timeout, check, *popenargs, **kwargs)\u001b[0m\n\u001b[1;32m    526\u001b[0m     retcode \u001b[38;5;241m=\u001b[39m process\u001b[38;5;241m.\u001b[39mpoll()\n\u001b[1;32m    527\u001b[0m     \u001b[38;5;28;01mif\u001b[39;00m check \u001b[38;5;129;01mand\u001b[39;00m retcode:\n\u001b[0;32m--> 528\u001b[0m         \u001b[38;5;28;01mraise\u001b[39;00m CalledProcessError(retcode, process\u001b[38;5;241m.\u001b[39margs,\n\u001b[1;32m    529\u001b[0m                                  output\u001b[38;5;241m=\u001b[39mstdout, stderr\u001b[38;5;241m=\u001b[39mstderr)\n\u001b[1;32m    530\u001b[0m \u001b[38;5;28;01mreturn\u001b[39;00m CompletedProcess(process\u001b[38;5;241m.\u001b[39margs, retcode, stdout, stderr)\n",
      "\u001b[0;31mCalledProcessError\u001b[0m: Command '['vina', '--config', 'zs/vina/chai/struct_joint/PfTrpB-4bromo/I165A:I183A:Y301V_0/I165A:I183A:Y301V_0-4bromosubstrate_conf.txt', '--out', 'zs/vina/chai/struct_joint/PfTrpB-4bromo/I165A:I183A:Y301V_0/I165A:I183A:Y301V_0-4bromosubstrate-score_only.pdb', '--score_only']' returned non-zero exit status 1."
     ]
    }
   ],
   "source": [
    "from REVIVAL.zs.vina2 import dock\n",
    "\n",
    "dock(\n",
    "    input_struct_path=\"/disk2/fli/REVIVAL2/zs/chai/struct_joint/PfTrpB-4bromo/I165A:I183A:Y301V/I165A:I183A:Y301V_0.cif\",\n",
    "    dock_opt=\"substrate\",\n",
    "    score_only = True,\n",
    "    regen=True\n",
    ")"
   ]
  },
  {
   "cell_type": "code",
   "execution_count": null,
   "metadata": {},
   "outputs": [],
   "source": []
  }
 ],
 "metadata": {
  "kernelspec": {
   "display_name": "vina",
   "language": "python",
   "name": "python3"
  },
  "language_info": {
   "codemirror_mode": {
    "name": "ipython",
    "version": 3
   },
   "file_extension": ".py",
   "mimetype": "text/x-python",
   "name": "python",
   "nbconvert_exporter": "python",
   "pygments_lexer": "ipython3",
   "version": "3.9.7"
  }
 },
 "nbformat": 4,
 "nbformat_minor": 2
}
