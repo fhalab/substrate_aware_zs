{
 "cells": [
  {
   "cell_type": "code",
   "execution_count": 2,
   "metadata": {},
   "outputs": [
    {
     "name": "stdout",
     "output_type": "stream",
     "text": [
      "/disk2/fli/REVIVAL2\n"
     ]
    }
   ],
   "source": [
    "%cd ~/REVIVAL2\n",
    "%load_ext autoreload\n",
    "%autoreload 2\n",
    "# %load_ext blackcellmagic"
   ]
  },
  {
   "cell_type": "code",
   "execution_count": 18,
   "metadata": {},
   "outputs": [
    {
     "name": "stdout",
     "output_type": "stream",
     "text": [
      "Python: 3.9.7 | packaged by conda-forge | (default, Sep 29 2021, 19:23:11) \n",
      "[GCC 9.4.0]\n",
      "NumPy: 2.0.2\n",
      "OpenMM: 7.7.0.dev-130124a\n",
      "Environment: environ({'USER': 'fli', 'SSH_CLIENT': '131.215.250.154 52071 22', 'XDG_SESSION_TYPE': 'tty', 'SHLVL': '2', 'MOTD_SHOWN': 'pam', 'HOME': '/disk2/fli', 'SSL_CERT_FILE': '/usr/lib/ssl/certs/ca-certificates.crt', 'DBUS_SESSION_BUS_ADDRESS': 'unix:path=/run/user/1002/bus', 'LOGNAME': 'fli', '_': '/disk2/fli/miniconda3/envs/vina/bin/python', 'XDG_SESSION_CLASS': 'user', 'XDG_SESSION_ID': '11757', 'VSCODE_CLI_REQUIRE_TOKEN': '4074d282-3f3d-4e21-a716-9309c4a37c30', 'PATH': '/disk2/fli/miniconda3/envs/vina/bin:/disk2/fli/.vscode-server/cli/servers/Stable-91fbdddc47bc9c09064bf7acf133d22631cbf083/server/bin/remote-cli:/disk2/fli/.local/bin:/disk2/fli/openmpi/bin:/disk2/fli/orca_6_0_1:/disk2/fli/miniconda3/envs/vina/bin:/disk2/fli/miniconda3/condabin:/disk2/fli/.local/bin:/usr/local/sbin:/usr/local/bin:/usr/sbin:/usr/bin:/sbin:/bin:/usr/games:/usr/local/games:/snap/bin', 'VSCODE_AGENT_FOLDER': '/disk2/fli/.vscode-server', 'XDG_RUNTIME_DIR': '/run/user/1002', 'SSL_CERT_DIR': '/usr/lib/ssl/certs', 'LANG': 'en_US.UTF-8', 'SHELL': '/bin/bash', 'PWD': '/disk2/fli', 'SSH_CONNECTION': '131.215.250.154 52071 131.215.19.19 22', 'VSCODE_CWD': '/disk2/fli', 'VSCODE_NLS_CONFIG': '{\"userLocale\":\"en\",\"osLocale\":\"en\",\"resolvedLanguage\":\"en\",\"defaultMessagesFile\":\"/disk2/fli/.vscode-server/cli/servers/Stable-91fbdddc47bc9c09064bf7acf133d22631cbf083/server/out/nls.messages.json\",\"locale\":\"en\",\"availableLanguages\":{}}', 'VSCODE_HANDLES_SIGPIPE': 'true', 'CONDA_EXE': '/disk2/fli/miniconda3/bin/conda', '_CE_M': '', 'CONDA_PREFIX': '/disk2/fli/miniconda3/envs/vina', 'LS_COLORS': '', 'CONDA_PROMPT_MODIFIER': '(vina) ', 'LESSCLOSE': '/usr/bin/lesspipe %s %s', '_CE_CONDA': '', 'LESSOPEN': '| /usr/bin/lesspipe %s', 'CONDA_SHLVL': '2', 'CONDA_PYTHON_EXE': '/disk2/fli/miniconda3/bin/python', 'LD_LIBRARY_PATH': '/disk2/fli/openmpi/lib:', 'CONDA_DEFAULT_ENV': 'vina', 'VSCODE_ESM_ENTRYPOINT': 'vs/workbench/api/node/extensionHostProcess', 'VSCODE_HANDLES_UNCAUGHT_ERRORS': 'true', 'BROWSER': '/disk2/fli/.vscode-server/cli/servers/Stable-91fbdddc47bc9c09064bf7acf133d22631cbf083/server/bin/helpers/browser.sh', 'ELECTRON_RUN_AS_NODE': '1', 'VSCODE_IPC_HOOK_CLI': '/run/user/1002/vscode-ipc-96798b00-ad52-48d7-b705-6c08381e7d60.sock', 'PYTHONUNBUFFERED': '1', 'CONDA_MKL_INTERFACE_LAYER_BACKUP': '', 'XML_CATALOG_FILES': 'file:///disk2/fli/miniconda3/envs/vina/etc/xml/catalog file:///etc/xml/catalog', 'GSETTINGS_SCHEMA_DIR': '/disk2/fli/miniconda3/envs/vina/share/glib-2.0/schemas', 'CONDA_ROOT': '/disk2/fli/miniconda3', 'GSETTINGS_SCHEMA_DIR_CONDA_BACKUP': '', 'PYTHONIOENCODING': 'utf-8', 'CONDA_PREFIX_1': '/disk2/fli/miniconda3', 'MKL_INTERFACE_LAYER': 'LP64,GNU', 'PYDEVD_IPYTHON_COMPATIBLE_DEBUGGING': '1', 'PYTHON_FROZEN_MODULES': 'on', 'PYDEVD_USE_FRAME_EVAL': 'NO', 'TERM': 'xterm-color', 'CLICOLOR': '1', 'FORCE_COLOR': '1', 'CLICOLOR_FORCE': '1', 'PAGER': 'cat', 'GIT_PAGER': 'cat', 'MPLBACKEND': 'module://matplotlib_inline.backend_inline', 'RDBASE': '/disk2/fli/miniconda3/envs/vina/share/RDKit'})\n"
     ]
    }
   ],
   "source": [
    "import sys\n",
    "import os\n",
    "import numpy\n",
    "import openmm\n",
    "print(f\"Python: {sys.version}\")\n",
    "print(f\"NumPy: {numpy.__version__}\")\n",
    "print(f\"OpenMM: {openmm.version.version}\")\n",
    "print(f\"Environment: {os.environ}\")"
   ]
  },
  {
   "cell_type": "code",
   "execution_count": 25,
   "metadata": {},
   "outputs": [
    {
     "name": "stderr",
     "output_type": "stream",
     "text": [
      "==============================\n",
      "*** Open Babel Warning  in PerceiveBondOrders\n",
      "  Failed to kekulize aromatic bonds in OBMol::PerceiveBondOrders (title is model)\n",
      "\n",
      "1 molecule converted\n"
     ]
    },
    {
     "name": "stdout",
     "output_type": "stream",
     "text": [
      "Detected residues to replace: set()\n"
     ]
    },
    {
     "name": "stderr",
     "output_type": "stream",
     "text": [
      "1 molecule converted\n"
     ]
    },
    {
     "name": "stdout",
     "output_type": "stream",
     "text": [
      "Formatting ligand 4bromo\n",
      "Checking for ions...\n",
      "Processing ligand 4bromo from zs/vina/chai/struct_joint/PfTrpB-4bromo/I165A:I183A:Y301V_0/I165A:I183A:Y301V_0.pdb\n",
      "insdie extract_substruct\n",
      "/disk2/fli/REVIVAL2/zs/vina/chai/struct_joint/PfTrpB-4bromo/I165A:I183A:Y301V_0/4bromo/4bromo_temp.pdb\n",
      "Substrate atoms: [(<Model id=0>, <Chain id=B>, <Residue LIG het=  resseq=0 icode= >, <Atom C1>), (<Model id=0>, <Chain id=B>, <Residue LIG het=  resseq=0 icode= >, <Atom C2>), (<Model id=0>, <Chain id=B>, <Residue LIG het=  resseq=0 icode= >, <Atom C3>), (<Model id=0>, <Chain id=B>, <Residue LIG het=  resseq=0 icode= >, <Atom C4>), (<Model id=0>, <Chain id=B>, <Residue LIG het=  resseq=0 icode= >, <Atom C5>), (<Model id=0>, <Chain id=B>, <Residue LIG het=  resseq=0 icode= >, <Atom C6>), (<Model id=0>, <Chain id=B>, <Residue LIG het=  resseq=0 icode= >, <Atom N1>), (<Model id=0>, <Chain id=B>, <Residue LIG het=  resseq=0 icode= >, <Atom C7>), (<Model id=0>, <Chain id=B>, <Residue LIG het=  resseq=0 icode= >, <Atom C8>), (<Model id=0>, <Chain id=B>, <Residue LIG het=  resseq=0 icode= >, <Atom BR1>)]\n",
      "Rest atoms: [(<Model id=0>, <Chain id=B>, <Residue LIG het=  resseq=0 icode= >, <Atom O1>), (<Model id=0>, <Chain id=B>, <Residue LIG het=  resseq=0 icode= >, <Atom C9>), (<Model id=0>, <Chain id=B>, <Residue LIG het=  resseq=0 icode= >, <Atom C10>), (<Model id=0>, <Chain id=B>, <Residue LIG het=  resseq=0 icode= >, <Atom C11>), (<Model id=0>, <Chain id=B>, <Residue LIG het=  resseq=0 icode= >, <Atom N2>), (<Model id=0>, <Chain id=B>, <Residue LIG het=  resseq=0 icode= >, <Atom C12>), (<Model id=0>, <Chain id=B>, <Residue LIG het=  resseq=0 icode= >, <Atom C13>), (<Model id=0>, <Chain id=B>, <Residue LIG het=  resseq=0 icode= >, <Atom O2>), (<Model id=0>, <Chain id=B>, <Residue LIG het=  resseq=0 icode= >, <Atom O3>), (<Model id=0>, <Chain id=B>, <Residue LIG het=  resseq=0 icode= >, <Atom C14>), (<Model id=0>, <Chain id=B>, <Residue LIG het=  resseq=0 icode= >, <Atom C15>), (<Model id=0>, <Chain id=B>, <Residue LIG het=  resseq=0 icode= >, <Atom C16>), (<Model id=0>, <Chain id=B>, <Residue LIG het=  resseq=0 icode= >, <Atom P1>), (<Model id=0>, <Chain id=B>, <Residue LIG het=  resseq=0 icode= >, <Atom O4>), (<Model id=0>, <Chain id=B>, <Residue LIG het=  resseq=0 icode= >, <Atom O5>), (<Model id=0>, <Chain id=B>, <Residue LIG het=  resseq=0 icode= >, <Atom O6>), (<Model id=0>, <Chain id=B>, <Residue LIG het=  resseq=0 icode= >, <Atom C17>), (<Model id=0>, <Chain id=B>, <Residue LIG het=  resseq=0 icode= >, <Atom N3>), (<Model id=0>, <Chain id=B>, <Residue LIG het=  resseq=0 icode= >, <Atom C18>), (<Model id=0>, <Chain id=B>, <Residue LIG het=  resseq=0 icode= >, <Atom C19>), (<Model id=0>, <Chain id=B>, <Residue LIG het=  resseq=0 icode= >, <Atom NA1>)]\n",
      "Substructure saved to /disk2/fli/REVIVAL2/zs/vina/chai/struct_joint/PfTrpB-4bromo/I165A:I183A:Y301V_0/4bromo/4bromo_temp.pdb\n",
      "zs/vina/chai/struct_joint/PfTrpB-4bromo/I165A:I183A:Y301V_0/4bromo/4bromo_temp.pdb zs/vina/chai/struct_joint/PfTrpB-4bromo/I165A:I183A:Y301V_0/4bromo/4bromo.pdb\n",
      "Removing ions from zs/vina/chai/struct_joint/PfTrpB-4bromo/I165A:I183A:Y301V_0/4bromo/4bromo_temp.pdb\n",
      "after removing ions\n",
      "Added H 'H1' to N1 in LIG (chain B)\n",
      "\n",
      "Saved updated PDB to: zs/vina/chai/struct_joint/PfTrpB-4bromo/I165A:I183A:Y301V_0/4bromo/4bromo.pdb\n",
      "Cleaned PDBQT file saved to: zs/vina/chai/struct_joint/PfTrpB-4bromo/I165A:I183A:Y301V_0/4bromo/4bromo.pdbqt\n",
      "Processing cofactor PLP-dependent_aminoacrylate [O-]C1=C(/C=[N+]([H])/C(C([O-])=O)=C)C(CP([O-])([O-])=O)=CN=C1C using zs/vina/chai/struct_joint/PfTrpB-4bromo/I165A:I183A:Y301V_0/I165A:I183A:Y301V_0.pdb\n",
      "Formatting ligand PLP-dependent_aminoacrylate\n",
      "Checking for ions...\n",
      "Processing ligand PLP-dependent_aminoacrylate from zs/vina/chai/struct_joint/PfTrpB-4bromo/I165A:I183A:Y301V_0/I165A:I183A:Y301V_0.pdb\n",
      "insdie extract_substruct\n",
      "/disk2/fli/REVIVAL2/zs/vina/chai/struct_joint/PfTrpB-4bromo/I165A:I183A:Y301V_0/PLP-dependent_aminoacrylate/PLP-dependent_aminoacrylate_temp.pdb\n",
      "Substrate atoms: [(<Model id=0>, <Chain id=B>, <Residue LIG het=  resseq=0 icode= >, <Atom C1>), (<Model id=0>, <Chain id=B>, <Residue LIG het=  resseq=0 icode= >, <Atom C2>), (<Model id=0>, <Chain id=B>, <Residue LIG het=  resseq=0 icode= >, <Atom C3>), (<Model id=0>, <Chain id=B>, <Residue LIG het=  resseq=0 icode= >, <Atom C4>), (<Model id=0>, <Chain id=B>, <Residue LIG het=  resseq=0 icode= >, <Atom C5>), (<Model id=0>, <Chain id=B>, <Residue LIG het=  resseq=0 icode= >, <Atom C6>), (<Model id=0>, <Chain id=B>, <Residue LIG het=  resseq=0 icode= >, <Atom N1>), (<Model id=0>, <Chain id=B>, <Residue LIG het=  resseq=0 icode= >, <Atom C7>), (<Model id=0>, <Chain id=B>, <Residue LIG het=  resseq=0 icode= >, <Atom C8>), (<Model id=0>, <Chain id=B>, <Residue LIG het=  resseq=0 icode= >, <Atom BR1>)]\n",
      "Rest atoms: [(<Model id=0>, <Chain id=B>, <Residue LIG het=  resseq=0 icode= >, <Atom O1>), (<Model id=0>, <Chain id=B>, <Residue LIG het=  resseq=0 icode= >, <Atom C9>), (<Model id=0>, <Chain id=B>, <Residue LIG het=  resseq=0 icode= >, <Atom C10>), (<Model id=0>, <Chain id=B>, <Residue LIG het=  resseq=0 icode= >, <Atom C11>), (<Model id=0>, <Chain id=B>, <Residue LIG het=  resseq=0 icode= >, <Atom N2>), (<Model id=0>, <Chain id=B>, <Residue LIG het=  resseq=0 icode= >, <Atom C12>), (<Model id=0>, <Chain id=B>, <Residue LIG het=  resseq=0 icode= >, <Atom C13>), (<Model id=0>, <Chain id=B>, <Residue LIG het=  resseq=0 icode= >, <Atom O2>), (<Model id=0>, <Chain id=B>, <Residue LIG het=  resseq=0 icode= >, <Atom O3>), (<Model id=0>, <Chain id=B>, <Residue LIG het=  resseq=0 icode= >, <Atom C14>), (<Model id=0>, <Chain id=B>, <Residue LIG het=  resseq=0 icode= >, <Atom C15>), (<Model id=0>, <Chain id=B>, <Residue LIG het=  resseq=0 icode= >, <Atom C16>), (<Model id=0>, <Chain id=B>, <Residue LIG het=  resseq=0 icode= >, <Atom P1>), (<Model id=0>, <Chain id=B>, <Residue LIG het=  resseq=0 icode= >, <Atom O4>), (<Model id=0>, <Chain id=B>, <Residue LIG het=  resseq=0 icode= >, <Atom O5>), (<Model id=0>, <Chain id=B>, <Residue LIG het=  resseq=0 icode= >, <Atom O6>), (<Model id=0>, <Chain id=B>, <Residue LIG het=  resseq=0 icode= >, <Atom C17>), (<Model id=0>, <Chain id=B>, <Residue LIG het=  resseq=0 icode= >, <Atom N3>), (<Model id=0>, <Chain id=B>, <Residue LIG het=  resseq=0 icode= >, <Atom C18>), (<Model id=0>, <Chain id=B>, <Residue LIG het=  resseq=0 icode= >, <Atom C19>), (<Model id=0>, <Chain id=B>, <Residue LIG het=  resseq=0 icode= >, <Atom NA1>)]\n",
      "Substructure saved to /disk2/fli/REVIVAL2/zs/vina/chai/struct_joint/PfTrpB-4bromo/I165A:I183A:Y301V_0/PLP-dependent_aminoacrylate/PLP-dependent_aminoacrylate_temp.pdb\n",
      "zs/vina/chai/struct_joint/PfTrpB-4bromo/I165A:I183A:Y301V_0/PLP-dependent_aminoacrylate/PLP-dependent_aminoacrylate_temp.pdb zs/vina/chai/struct_joint/PfTrpB-4bromo/I165A:I183A:Y301V_0/PLP-dependent_aminoacrylate/PLP-dependent_aminoacrylate.pdb\n",
      "Removing ions from zs/vina/chai/struct_joint/PfTrpB-4bromo/I165A:I183A:Y301V_0/PLP-dependent_aminoacrylate/PLP-dependent_aminoacrylate_temp.pdb\n",
      "after removing ions\n",
      "Added H 'H1' to N2 in LIG (chain B)\n",
      "Added H 'H2' to O3 in LIG (chain B)\n",
      "Added H 'H3' to O4 in LIG (chain B)\n",
      "Added H 'H4' to O5 in LIG (chain B)\n",
      "\n",
      "Saved updated PDB to: zs/vina/chai/struct_joint/PfTrpB-4bromo/I165A:I183A:Y301V_0/PLP-dependent_aminoacrylate/PLP-dependent_aminoacrylate.pdb\n",
      "Cleaned PDBQT file saved to: zs/vina/chai/struct_joint/PfTrpB-4bromo/I165A:I183A:Y301V_0/PLP-dependent_aminoacrylate/PLP-dependent_aminoacrylate.pdbqt\n",
      "Processing cofactor Na+ [Na+] using zs/vina/chai/struct_joint/PfTrpB-4bromo/I165A:I183A:Y301V_0/I165A:I183A:Y301V_0.pdb\n",
      "Formatting ligand Na+\n",
      "Checking for ions...\n",
      "Processing ion Na+\n",
      "Ions matching 'NA' were successfully extracted to zs/vina/chai/struct_joint/PfTrpB-4bromo/I165A:I183A:Y301V_0/Na+/NA.pdb.\n",
      "cofactor_pdbqts: ['zs/vina/chai/struct_joint/PfTrpB-4bromo/I165A:I183A:Y301V_0/PLP-dependent_aminoacrylate/PLP-dependent_aminoacrylate.pdbqt', 'zs/vina/chai/struct_joint/PfTrpB-4bromo/I165A:I183A:Y301V_0/Na+/NA.pdbqt']\n"
     ]
    },
    {
     "name": "stderr",
     "output_type": "stream",
     "text": [
      "1 molecule converted\n"
     ]
    },
    {
     "name": "stdout",
     "output_type": "stream",
     "text": [
      "Merging zs/vina/chai/struct_joint/PfTrpB-4bromo/I165A:I183A:Y301V_0/I165A:I183A:Y301V_0/I165A:I183A:Y301V_0.pdbqt\n",
      "Merging zs/vina/chai/struct_joint/PfTrpB-4bromo/I165A:I183A:Y301V_0/PLP-dependent_aminoacrylate/PLP-dependent_aminoacrylate.pdbqt\n",
      "Merging zs/vina/chai/struct_joint/PfTrpB-4bromo/I165A:I183A:Y301V_0/Na+/NA.pdbqt\n",
      "Combined ATOM lines saved to zs/vina/chai/struct_joint/PfTrpB-4bromo/I165A:I183A:Y301V_0/I165A:I183A:Y301V_0_cofactors/I165A:I183A:Y301V_0_cofactors.pdbqt\n",
      "Vina run (score-only) completed successfully. Log saved to: zs/vina/chai/struct_joint/PfTrpB-4bromo/I165A:I183A:Y301V_0/I165A:I183A:Y301V_0-4bromo-substrate-score_only_log.txt\n"
     ]
    },
    {
     "data": {
      "text/plain": [
       "'zs/vina/chai/struct_joint/PfTrpB-4bromo/I165A:I183A:Y301V_0/I165A:I183A:Y301V_0-4bromo-substrate-score_only_log.txt'"
      ]
     },
     "execution_count": 25,
     "metadata": {},
     "output_type": "execute_result"
    }
   ],
   "source": [
    "from REVIVAL.zs.vina import dock\n",
    "\n",
    "dock(\n",
    "    input_struct_path=\"/disk2/fli/REVIVAL2/zs/chai/struct_joint/PfTrpB-4bromo/I165A:I183A:Y301V/I165A:I183A:Y301V_0.cif\",\n",
    "    dock_opt=\"substrate\",\n",
    "    score_only = True,\n",
    "    regen=True,\n",
    "    rerun=True\n",
    ")"
   ]
  },
  {
   "cell_type": "code",
   "execution_count": 8,
   "metadata": {},
   "outputs": [
    {
     "name": "stderr",
     "output_type": "stream",
     "text": [
      "==============================\n",
      "*** Open Babel Warning  in PerceiveBondOrders\n",
      "  Failed to kekulize aromatic bonds in OBMol::PerceiveBondOrders (title is model)\n",
      "\n",
      "1 molecule converted\n",
      "1 molecule converted\n",
      "1 molecule converted\n"
     ]
    },
    {
     "name": "stdout",
     "output_type": "stream",
     "text": [
      "Processing ligand 4-vinylanisole\n",
      "Checking for ions...\n",
      "Processing ligand 4-vinylanisole from zs/vina/chai/struct_joint/ParLQ/F89A_0/F89A_0.pdb\n",
      "Substrate atoms: [(<Model id=0>, <Chain id=B>, <Residue LIG het=  resseq=0 icode= >, <Atom C1>), (<Model id=0>, <Chain id=B>, <Residue LIG het=  resseq=0 icode= >, <Atom C2>), (<Model id=0>, <Chain id=B>, <Residue LIG het=  resseq=0 icode= >, <Atom C3>), (<Model id=0>, <Chain id=B>, <Residue LIG het=  resseq=0 icode= >, <Atom C4>), (<Model id=0>, <Chain id=B>, <Residue LIG het=  resseq=0 icode= >, <Atom C5>), (<Model id=0>, <Chain id=B>, <Residue LIG het=  resseq=0 icode= >, <Atom C6>), (<Model id=0>, <Chain id=B>, <Residue LIG het=  resseq=0 icode= >, <Atom O1>), (<Model id=0>, <Chain id=B>, <Residue LIG het=  resseq=0 icode= >, <Atom C7>), (<Model id=0>, <Chain id=B>, <Residue LIG het=  resseq=0 icode= >, <Atom C8>), (<Model id=0>, <Chain id=B>, <Residue LIG het=  resseq=0 icode= >, <Atom C9>)]\n",
      "Rest atoms: [(<Model id=0>, <Chain id=B>, <Residue LIG het=  resseq=0 icode= >, <Atom C10>), (<Model id=0>, <Chain id=B>, <Residue LIG het=  resseq=0 icode= >, <Atom C11>), (<Model id=0>, <Chain id=B>, <Residue LIG het=  resseq=0 icode= >, <Atom C12>), (<Model id=0>, <Chain id=B>, <Residue LIG het=  resseq=0 icode= >, <Atom C13>), (<Model id=0>, <Chain id=B>, <Residue LIG het=  resseq=0 icode= >, <Atom C14>), (<Model id=0>, <Chain id=B>, <Residue LIG het=  resseq=0 icode= >, <Atom C15>), (<Model id=0>, <Chain id=B>, <Residue LIG het=  resseq=0 icode= >, <Atom C16>), (<Model id=0>, <Chain id=B>, <Residue LIG het=  resseq=0 icode= >, <Atom C17>), (<Model id=0>, <Chain id=B>, <Residue LIG het=  resseq=0 icode= >, <Atom C18>), (<Model id=0>, <Chain id=B>, <Residue LIG het=  resseq=0 icode= >, <Atom C19>), (<Model id=0>, <Chain id=B>, <Residue LIG het=  resseq=0 icode= >, <Atom C20>), (<Model id=0>, <Chain id=B>, <Residue LIG het=  resseq=0 icode= >, <Atom C21>), (<Model id=0>, <Chain id=B>, <Residue LIG het=  resseq=0 icode= >, <Atom C22>), (<Model id=0>, <Chain id=B>, <Residue LIG het=  resseq=0 icode= >, <Atom C23>), (<Model id=0>, <Chain id=B>, <Residue LIG het=  resseq=0 icode= >, <Atom N1>), (<Model id=0>, <Chain id=B>, <Residue LIG het=  resseq=0 icode= >, <Atom FE1>), (<Model id=0>, <Chain id=B>, <Residue LIG het=  resseq=0 icode= >, <Atom C24>), (<Model id=0>, <Chain id=B>, <Residue LIG het=  resseq=0 icode= >, <Atom C25>), (<Model id=0>, <Chain id=B>, <Residue LIG het=  resseq=0 icode= >, <Atom O2>), (<Model id=0>, <Chain id=B>, <Residue LIG het=  resseq=0 icode= >, <Atom O3>), (<Model id=0>, <Chain id=B>, <Residue LIG het=  resseq=0 icode= >, <Atom C26>), (<Model id=0>, <Chain id=B>, <Residue LIG het=  resseq=0 icode= >, <Atom C27>), (<Model id=0>, <Chain id=B>, <Residue LIG het=  resseq=0 icode= >, <Atom N2>), (<Model id=0>, <Chain id=B>, <Residue LIG het=  resseq=0 icode= >, <Atom C28>), (<Model id=0>, <Chain id=B>, <Residue LIG het=  resseq=0 icode= >, <Atom C29>), (<Model id=0>, <Chain id=B>, <Residue LIG het=  resseq=0 icode= >, <Atom C30>), (<Model id=0>, <Chain id=B>, <Residue LIG het=  resseq=0 icode= >, <Atom C31>), (<Model id=0>, <Chain id=B>, <Residue LIG het=  resseq=0 icode= >, <Atom C32>), (<Model id=0>, <Chain id=B>, <Residue LIG het=  resseq=0 icode= >, <Atom C33>), (<Model id=0>, <Chain id=B>, <Residue LIG het=  resseq=0 icode= >, <Atom C34>), (<Model id=0>, <Chain id=B>, <Residue LIG het=  resseq=0 icode= >, <Atom C35>), (<Model id=0>, <Chain id=B>, <Residue LIG het=  resseq=0 icode= >, <Atom C36>), (<Model id=0>, <Chain id=B>, <Residue LIG het=  resseq=0 icode= >, <Atom O4>), (<Model id=0>, <Chain id=B>, <Residue LIG het=  resseq=0 icode= >, <Atom O5>), (<Model id=0>, <Chain id=B>, <Residue LIG het=  resseq=0 icode= >, <Atom C37>), (<Model id=0>, <Chain id=B>, <Residue LIG het=  resseq=0 icode= >, <Atom N3>), (<Model id=0>, <Chain id=B>, <Residue LIG het=  resseq=0 icode= >, <Atom C38>), (<Model id=0>, <Chain id=B>, <Residue LIG het=  resseq=0 icode= >, <Atom C39>), (<Model id=0>, <Chain id=B>, <Residue LIG het=  resseq=0 icode= >, <Atom N4>), (<Model id=0>, <Chain id=B>, <Residue LIG het=  resseq=0 icode= >, <Atom C40>), (<Model id=0>, <Chain id=B>, <Residue LIG het=  resseq=0 icode= >, <Atom C41>), (<Model id=0>, <Chain id=B>, <Residue LIG het=  resseq=0 icode= >, <Atom C42>), (<Model id=0>, <Chain id=B>, <Residue LIG het=  resseq=0 icode= >, <Atom C43>), (<Model id=0>, <Chain id=B>, <Residue LIG het=  resseq=0 icode= >, <Atom C44>), (<Model id=0>, <Chain id=B>, <Residue LIG het=  resseq=0 icode= >, <Atom C45>), (<Model id=0>, <Chain id=B>, <Residue LIG het=  resseq=0 icode= >, <Atom C46>), (<Model id=0>, <Chain id=B>, <Residue LIG het=  resseq=0 icode= >, <Atom C47>), (<Model id=0>, <Chain id=B>, <Residue LIG het=  resseq=0 icode= >, <Atom O6>), (<Model id=0>, <Chain id=B>, <Residue LIG het=  resseq=0 icode= >, <Atom O7>)]\n",
      "Substructure saved to /disk2/fli/REVIVAL2/zs/vina/chai/struct_joint/ParLQ/F89A_0/4-vinylanisole/4-vinylanisole_temp.pdb\n",
      "Removing ions from zs/vina/chai/struct_joint/ParLQ/F89A_0/4-vinylanisole/4-vinylanisole_temp.pdb\n",
      "Cleaned PDBQT file saved to: zs/vina/chai/struct_joint/ParLQ/F89A_0/4-vinylanisole/4-vinylanisole.pdbqt\n",
      "Processing cofactor carbene-heme C=CC1=C(C=C2C(C)=C(C=C)C3=[N]2[Fe]45(N6C(C(C)=C(CCC([O-])=O)C6=C7)=C3)=CC(OCC)=O)N4C(C=C8[N]5=C7C(CCC([O-])=O)=C8C)=C1C using zs/vina/chai/struct_joint/ParLQ/F89A_0/F89A_0.pdb\n",
      "Processing ligand carbene\n",
      "Checking for ions...\n",
      "Processing ligand carbene from zs/vina/chai/struct_joint/ParLQ/F89A_0/F89A_0.pdb\n",
      "Substrate atoms: [(<Model id=0>, <Chain id=B>, <Residue LIG het=  resseq=0 icode= >, <Atom C24>), (<Model id=0>, <Chain id=B>, <Residue LIG het=  resseq=0 icode= >, <Atom C25>), (<Model id=0>, <Chain id=B>, <Residue LIG het=  resseq=0 icode= >, <Atom O2>), (<Model id=0>, <Chain id=B>, <Residue LIG het=  resseq=0 icode= >, <Atom O3>), (<Model id=0>, <Chain id=B>, <Residue LIG het=  resseq=0 icode= >, <Atom C26>), (<Model id=0>, <Chain id=B>, <Residue LIG het=  resseq=0 icode= >, <Atom C27>)]\n",
      "Rest atoms: [(<Model id=0>, <Chain id=B>, <Residue LIG het=  resseq=0 icode= >, <Atom C1>), (<Model id=0>, <Chain id=B>, <Residue LIG het=  resseq=0 icode= >, <Atom C2>), (<Model id=0>, <Chain id=B>, <Residue LIG het=  resseq=0 icode= >, <Atom C3>), (<Model id=0>, <Chain id=B>, <Residue LIG het=  resseq=0 icode= >, <Atom C4>), (<Model id=0>, <Chain id=B>, <Residue LIG het=  resseq=0 icode= >, <Atom C5>), (<Model id=0>, <Chain id=B>, <Residue LIG het=  resseq=0 icode= >, <Atom C6>), (<Model id=0>, <Chain id=B>, <Residue LIG het=  resseq=0 icode= >, <Atom O1>), (<Model id=0>, <Chain id=B>, <Residue LIG het=  resseq=0 icode= >, <Atom C7>), (<Model id=0>, <Chain id=B>, <Residue LIG het=  resseq=0 icode= >, <Atom C8>), (<Model id=0>, <Chain id=B>, <Residue LIG het=  resseq=0 icode= >, <Atom C9>), (<Model id=0>, <Chain id=B>, <Residue LIG het=  resseq=0 icode= >, <Atom C10>), (<Model id=0>, <Chain id=B>, <Residue LIG het=  resseq=0 icode= >, <Atom C11>), (<Model id=0>, <Chain id=B>, <Residue LIG het=  resseq=0 icode= >, <Atom C12>), (<Model id=0>, <Chain id=B>, <Residue LIG het=  resseq=0 icode= >, <Atom C13>), (<Model id=0>, <Chain id=B>, <Residue LIG het=  resseq=0 icode= >, <Atom C14>), (<Model id=0>, <Chain id=B>, <Residue LIG het=  resseq=0 icode= >, <Atom C15>), (<Model id=0>, <Chain id=B>, <Residue LIG het=  resseq=0 icode= >, <Atom C16>), (<Model id=0>, <Chain id=B>, <Residue LIG het=  resseq=0 icode= >, <Atom C17>), (<Model id=0>, <Chain id=B>, <Residue LIG het=  resseq=0 icode= >, <Atom C18>), (<Model id=0>, <Chain id=B>, <Residue LIG het=  resseq=0 icode= >, <Atom C19>), (<Model id=0>, <Chain id=B>, <Residue LIG het=  resseq=0 icode= >, <Atom C20>), (<Model id=0>, <Chain id=B>, <Residue LIG het=  resseq=0 icode= >, <Atom C21>), (<Model id=0>, <Chain id=B>, <Residue LIG het=  resseq=0 icode= >, <Atom C22>), (<Model id=0>, <Chain id=B>, <Residue LIG het=  resseq=0 icode= >, <Atom C23>), (<Model id=0>, <Chain id=B>, <Residue LIG het=  resseq=0 icode= >, <Atom N1>), (<Model id=0>, <Chain id=B>, <Residue LIG het=  resseq=0 icode= >, <Atom FE1>), (<Model id=0>, <Chain id=B>, <Residue LIG het=  resseq=0 icode= >, <Atom N2>), (<Model id=0>, <Chain id=B>, <Residue LIG het=  resseq=0 icode= >, <Atom C28>), (<Model id=0>, <Chain id=B>, <Residue LIG het=  resseq=0 icode= >, <Atom C29>), (<Model id=0>, <Chain id=B>, <Residue LIG het=  resseq=0 icode= >, <Atom C30>), (<Model id=0>, <Chain id=B>, <Residue LIG het=  resseq=0 icode= >, <Atom C31>), (<Model id=0>, <Chain id=B>, <Residue LIG het=  resseq=0 icode= >, <Atom C32>), (<Model id=0>, <Chain id=B>, <Residue LIG het=  resseq=0 icode= >, <Atom C33>), (<Model id=0>, <Chain id=B>, <Residue LIG het=  resseq=0 icode= >, <Atom C34>), (<Model id=0>, <Chain id=B>, <Residue LIG het=  resseq=0 icode= >, <Atom C35>), (<Model id=0>, <Chain id=B>, <Residue LIG het=  resseq=0 icode= >, <Atom C36>), (<Model id=0>, <Chain id=B>, <Residue LIG het=  resseq=0 icode= >, <Atom O4>), (<Model id=0>, <Chain id=B>, <Residue LIG het=  resseq=0 icode= >, <Atom O5>), (<Model id=0>, <Chain id=B>, <Residue LIG het=  resseq=0 icode= >, <Atom C37>), (<Model id=0>, <Chain id=B>, <Residue LIG het=  resseq=0 icode= >, <Atom N3>), (<Model id=0>, <Chain id=B>, <Residue LIG het=  resseq=0 icode= >, <Atom C38>), (<Model id=0>, <Chain id=B>, <Residue LIG het=  resseq=0 icode= >, <Atom C39>), (<Model id=0>, <Chain id=B>, <Residue LIG het=  resseq=0 icode= >, <Atom N4>), (<Model id=0>, <Chain id=B>, <Residue LIG het=  resseq=0 icode= >, <Atom C40>), (<Model id=0>, <Chain id=B>, <Residue LIG het=  resseq=0 icode= >, <Atom C41>), (<Model id=0>, <Chain id=B>, <Residue LIG het=  resseq=0 icode= >, <Atom C42>), (<Model id=0>, <Chain id=B>, <Residue LIG het=  resseq=0 icode= >, <Atom C43>), (<Model id=0>, <Chain id=B>, <Residue LIG het=  resseq=0 icode= >, <Atom C44>), (<Model id=0>, <Chain id=B>, <Residue LIG het=  resseq=0 icode= >, <Atom C45>), (<Model id=0>, <Chain id=B>, <Residue LIG het=  resseq=0 icode= >, <Atom C46>), (<Model id=0>, <Chain id=B>, <Residue LIG het=  resseq=0 icode= >, <Atom C47>), (<Model id=0>, <Chain id=B>, <Residue LIG het=  resseq=0 icode= >, <Atom O6>), (<Model id=0>, <Chain id=B>, <Residue LIG het=  resseq=0 icode= >, <Atom O7>)]\n",
      "Substructure saved to /disk2/fli/REVIVAL2/zs/vina/chai/struct_joint/ParLQ/F89A_0/carbene/carbene_temp.pdb\n",
      "Removing ions from zs/vina/chai/struct_joint/ParLQ/F89A_0/carbene/carbene_temp.pdb\n",
      "Cleaned PDBQT file saved to: zs/vina/chai/struct_joint/ParLQ/F89A_0/carbene/carbene.pdbqt\n",
      "Processing ligand heme\n",
      "Checking for ions...\n",
      "Processing ligand heme from zs/vina/chai/struct_joint/ParLQ/F89A_0/F89A_0.pdb\n",
      "Substrate atoms: [(<Model id=0>, <Chain id=B>, <Residue LIG het=  resseq=0 icode= >, <Atom C1>), (<Model id=0>, <Chain id=B>, <Residue LIG het=  resseq=0 icode= >, <Atom C2>), (<Model id=0>, <Chain id=B>, <Residue LIG het=  resseq=0 icode= >, <Atom C3>), (<Model id=0>, <Chain id=B>, <Residue LIG het=  resseq=0 icode= >, <Atom C4>), (<Model id=0>, <Chain id=B>, <Residue LIG het=  resseq=0 icode= >, <Atom C5>), (<Model id=0>, <Chain id=B>, <Residue LIG het=  resseq=0 icode= >, <Atom C6>), (<Model id=0>, <Chain id=B>, <Residue LIG het=  resseq=0 icode= >, <Atom O1>), (<Model id=0>, <Chain id=B>, <Residue LIG het=  resseq=0 icode= >, <Atom C7>), (<Model id=0>, <Chain id=B>, <Residue LIG het=  resseq=0 icode= >, <Atom C8>), (<Model id=0>, <Chain id=B>, <Residue LIG het=  resseq=0 icode= >, <Atom C9>), (<Model id=0>, <Chain id=B>, <Residue LIG het=  resseq=0 icode= >, <Atom C24>), (<Model id=0>, <Chain id=B>, <Residue LIG het=  resseq=0 icode= >, <Atom C25>), (<Model id=0>, <Chain id=B>, <Residue LIG het=  resseq=0 icode= >, <Atom O2>), (<Model id=0>, <Chain id=B>, <Residue LIG het=  resseq=0 icode= >, <Atom O3>), (<Model id=0>, <Chain id=B>, <Residue LIG het=  resseq=0 icode= >, <Atom C26>), (<Model id=0>, <Chain id=B>, <Residue LIG het=  resseq=0 icode= >, <Atom C27>)]\n",
      "Rest atoms: [(<Model id=0>, <Chain id=B>, <Residue LIG het=  resseq=0 icode= >, <Atom C10>), (<Model id=0>, <Chain id=B>, <Residue LIG het=  resseq=0 icode= >, <Atom C11>), (<Model id=0>, <Chain id=B>, <Residue LIG het=  resseq=0 icode= >, <Atom C12>), (<Model id=0>, <Chain id=B>, <Residue LIG het=  resseq=0 icode= >, <Atom C13>), (<Model id=0>, <Chain id=B>, <Residue LIG het=  resseq=0 icode= >, <Atom C14>), (<Model id=0>, <Chain id=B>, <Residue LIG het=  resseq=0 icode= >, <Atom C15>), (<Model id=0>, <Chain id=B>, <Residue LIG het=  resseq=0 icode= >, <Atom C16>), (<Model id=0>, <Chain id=B>, <Residue LIG het=  resseq=0 icode= >, <Atom C17>), (<Model id=0>, <Chain id=B>, <Residue LIG het=  resseq=0 icode= >, <Atom C18>), (<Model id=0>, <Chain id=B>, <Residue LIG het=  resseq=0 icode= >, <Atom C19>), (<Model id=0>, <Chain id=B>, <Residue LIG het=  resseq=0 icode= >, <Atom C20>), (<Model id=0>, <Chain id=B>, <Residue LIG het=  resseq=0 icode= >, <Atom C21>), (<Model id=0>, <Chain id=B>, <Residue LIG het=  resseq=0 icode= >, <Atom C22>), (<Model id=0>, <Chain id=B>, <Residue LIG het=  resseq=0 icode= >, <Atom C23>), (<Model id=0>, <Chain id=B>, <Residue LIG het=  resseq=0 icode= >, <Atom N1>), (<Model id=0>, <Chain id=B>, <Residue LIG het=  resseq=0 icode= >, <Atom FE1>), (<Model id=0>, <Chain id=B>, <Residue LIG het=  resseq=0 icode= >, <Atom N2>), (<Model id=0>, <Chain id=B>, <Residue LIG het=  resseq=0 icode= >, <Atom C28>), (<Model id=0>, <Chain id=B>, <Residue LIG het=  resseq=0 icode= >, <Atom C29>), (<Model id=0>, <Chain id=B>, <Residue LIG het=  resseq=0 icode= >, <Atom C30>), (<Model id=0>, <Chain id=B>, <Residue LIG het=  resseq=0 icode= >, <Atom C31>), (<Model id=0>, <Chain id=B>, <Residue LIG het=  resseq=0 icode= >, <Atom C32>), (<Model id=0>, <Chain id=B>, <Residue LIG het=  resseq=0 icode= >, <Atom C33>), (<Model id=0>, <Chain id=B>, <Residue LIG het=  resseq=0 icode= >, <Atom C34>), (<Model id=0>, <Chain id=B>, <Residue LIG het=  resseq=0 icode= >, <Atom C35>), (<Model id=0>, <Chain id=B>, <Residue LIG het=  resseq=0 icode= >, <Atom C36>), (<Model id=0>, <Chain id=B>, <Residue LIG het=  resseq=0 icode= >, <Atom O4>), (<Model id=0>, <Chain id=B>, <Residue LIG het=  resseq=0 icode= >, <Atom O5>), (<Model id=0>, <Chain id=B>, <Residue LIG het=  resseq=0 icode= >, <Atom C37>), (<Model id=0>, <Chain id=B>, <Residue LIG het=  resseq=0 icode= >, <Atom N3>), (<Model id=0>, <Chain id=B>, <Residue LIG het=  resseq=0 icode= >, <Atom C38>), (<Model id=0>, <Chain id=B>, <Residue LIG het=  resseq=0 icode= >, <Atom C39>), (<Model id=0>, <Chain id=B>, <Residue LIG het=  resseq=0 icode= >, <Atom N4>), (<Model id=0>, <Chain id=B>, <Residue LIG het=  resseq=0 icode= >, <Atom C40>), (<Model id=0>, <Chain id=B>, <Residue LIG het=  resseq=0 icode= >, <Atom C41>), (<Model id=0>, <Chain id=B>, <Residue LIG het=  resseq=0 icode= >, <Atom C42>), (<Model id=0>, <Chain id=B>, <Residue LIG het=  resseq=0 icode= >, <Atom C43>), (<Model id=0>, <Chain id=B>, <Residue LIG het=  resseq=0 icode= >, <Atom C44>), (<Model id=0>, <Chain id=B>, <Residue LIG het=  resseq=0 icode= >, <Atom C45>), (<Model id=0>, <Chain id=B>, <Residue LIG het=  resseq=0 icode= >, <Atom C46>), (<Model id=0>, <Chain id=B>, <Residue LIG het=  resseq=0 icode= >, <Atom C47>), (<Model id=0>, <Chain id=B>, <Residue LIG het=  resseq=0 icode= >, <Atom O6>), (<Model id=0>, <Chain id=B>, <Residue LIG het=  resseq=0 icode= >, <Atom O7>)]\n",
      "Substructure saved to /disk2/fli/REVIVAL2/zs/vina/chai/struct_joint/ParLQ/F89A_0/heme/heme_temp.pdb\n",
      "Removing ions from zs/vina/chai/struct_joint/ParLQ/F89A_0/heme/heme_temp.pdb\n",
      "Cleaned PDBQT file saved to: zs/vina/chai/struct_joint/ParLQ/F89A_0/heme/heme.pdbqt\n",
      "Making zs/vina/chai/struct_joint/ParLQ/F89A_0/Fe ...\n",
      "Processing ligand Fe\n",
      "Checking for ions...\n",
      "Processing ion Fe\n",
      "Ions matching 'FE' were successfully extracted to zs/vina/chai/struct_joint/ParLQ/F89A_0/Fe/FE.pdb.\n",
      "cofactor_pdbqts: ['zs/vina/chai/struct_joint/ParLQ/F89A_0/carbene/carbene.pdbqt', 'zs/vina/chai/struct_joint/ParLQ/F89A_0/heme/heme.pdbqt', 'zs/vina/chai/struct_joint/ParLQ/F89A_0/Fe/FE.pdbqt']\n",
      "Making zs/vina/chai/struct_joint/ParLQ/F89A_0/F89A_0_cofactors ...\n",
      "Merging zs/vina/chai/struct_joint/ParLQ/F89A_0/F89A_0/F89A_0.pdbqt\n",
      "Merging zs/vina/chai/struct_joint/ParLQ/F89A_0/carbene/carbene.pdbqt\n",
      "Merging zs/vina/chai/struct_joint/ParLQ/F89A_0/heme/heme.pdbqt\n",
      "Merging zs/vina/chai/struct_joint/ParLQ/F89A_0/Fe/FE.pdbqt\n",
      "Combined ATOM lines saved to zs/vina/chai/struct_joint/ParLQ/F89A_0/F89A_0_cofactors/F89A_0_cofactors.pdbqt\n",
      "Vina run (score-only) completed successfully. Log saved to: zs/vina/chai/struct_joint/ParLQ/F89A_0/F89A_0-4-vinylanisole-substrate-score_only_log.txt\n"
     ]
    },
    {
     "data": {
      "text/plain": [
       "'zs/vina/chai/struct_joint/ParLQ/F89A_0/F89A_0-4-vinylanisole-substrate-score_only_log.txt'"
      ]
     },
     "execution_count": 8,
     "metadata": {},
     "output_type": "execute_result"
    }
   ],
   "source": [
    "from REVIVAL.zs.vina import dock\n",
    "\n",
    "dock(\n",
    "    input_struct_path=\"/disk2/fli/REVIVAL2/zs/chai/struct_joint/ParLQ/F89A/F89A_0.cif\",\n",
    "    dock_opt=\"substrate\",\n",
    "    score_only = True,\n",
    "    regen=True,\n",
    "    rerun=True\n",
    ")"
   ]
  },
  {
   "cell_type": "code",
   "execution_count": 10,
   "metadata": {},
   "outputs": [
    {
     "name": "stderr",
     "output_type": "stream",
     "text": [
      "==============================\n",
      "*** Open Babel Warning  in PerceiveBondOrders\n",
      "  Failed to kekulize aromatic bonds in OBMol::PerceiveBondOrders (title is model)\n",
      "\n",
      "1 molecule converted\n",
      "1 molecule converted\n"
     ]
    },
    {
     "name": "stdout",
     "output_type": "stream",
     "text": [
      "Processing ligand 4-vinylanisole\n",
      "Checking for ions...\n",
      "Processing ligand 4-vinylanisole from zs/vina/chai/struct_joint/ParLQ/F89A_0/F89A_0.pdb\n",
      "Substrate atoms: [(<Model id=0>, <Chain id=B>, <Residue LIG het=  resseq=0 icode= >, <Atom C1>), (<Model id=0>, <Chain id=B>, <Residue LIG het=  resseq=0 icode= >, <Atom C2>), (<Model id=0>, <Chain id=B>, <Residue LIG het=  resseq=0 icode= >, <Atom C3>), (<Model id=0>, <Chain id=B>, <Residue LIG het=  resseq=0 icode= >, <Atom C4>), (<Model id=0>, <Chain id=B>, <Residue LIG het=  resseq=0 icode= >, <Atom C5>), (<Model id=0>, <Chain id=B>, <Residue LIG het=  resseq=0 icode= >, <Atom C6>), (<Model id=0>, <Chain id=B>, <Residue LIG het=  resseq=0 icode= >, <Atom O1>), (<Model id=0>, <Chain id=B>, <Residue LIG het=  resseq=0 icode= >, <Atom C7>), (<Model id=0>, <Chain id=B>, <Residue LIG het=  resseq=0 icode= >, <Atom C8>), (<Model id=0>, <Chain id=B>, <Residue LIG het=  resseq=0 icode= >, <Atom C9>)]\n",
      "Rest atoms: [(<Model id=0>, <Chain id=B>, <Residue LIG het=  resseq=0 icode= >, <Atom C10>), (<Model id=0>, <Chain id=B>, <Residue LIG het=  resseq=0 icode= >, <Atom C11>), (<Model id=0>, <Chain id=B>, <Residue LIG het=  resseq=0 icode= >, <Atom C12>), (<Model id=0>, <Chain id=B>, <Residue LIG het=  resseq=0 icode= >, <Atom C13>), (<Model id=0>, <Chain id=B>, <Residue LIG het=  resseq=0 icode= >, <Atom C14>), (<Model id=0>, <Chain id=B>, <Residue LIG het=  resseq=0 icode= >, <Atom C15>), (<Model id=0>, <Chain id=B>, <Residue LIG het=  resseq=0 icode= >, <Atom C16>), (<Model id=0>, <Chain id=B>, <Residue LIG het=  resseq=0 icode= >, <Atom C17>), (<Model id=0>, <Chain id=B>, <Residue LIG het=  resseq=0 icode= >, <Atom C18>), (<Model id=0>, <Chain id=B>, <Residue LIG het=  resseq=0 icode= >, <Atom C19>), (<Model id=0>, <Chain id=B>, <Residue LIG het=  resseq=0 icode= >, <Atom C20>), (<Model id=0>, <Chain id=B>, <Residue LIG het=  resseq=0 icode= >, <Atom C21>), (<Model id=0>, <Chain id=B>, <Residue LIG het=  resseq=0 icode= >, <Atom C22>), (<Model id=0>, <Chain id=B>, <Residue LIG het=  resseq=0 icode= >, <Atom C23>), (<Model id=0>, <Chain id=B>, <Residue LIG het=  resseq=0 icode= >, <Atom N1>), (<Model id=0>, <Chain id=B>, <Residue LIG het=  resseq=0 icode= >, <Atom FE1>), (<Model id=0>, <Chain id=B>, <Residue LIG het=  resseq=0 icode= >, <Atom C24>), (<Model id=0>, <Chain id=B>, <Residue LIG het=  resseq=0 icode= >, <Atom C25>), (<Model id=0>, <Chain id=B>, <Residue LIG het=  resseq=0 icode= >, <Atom O2>), (<Model id=0>, <Chain id=B>, <Residue LIG het=  resseq=0 icode= >, <Atom O3>), (<Model id=0>, <Chain id=B>, <Residue LIG het=  resseq=0 icode= >, <Atom C26>), (<Model id=0>, <Chain id=B>, <Residue LIG het=  resseq=0 icode= >, <Atom C27>), (<Model id=0>, <Chain id=B>, <Residue LIG het=  resseq=0 icode= >, <Atom N2>), (<Model id=0>, <Chain id=B>, <Residue LIG het=  resseq=0 icode= >, <Atom C28>), (<Model id=0>, <Chain id=B>, <Residue LIG het=  resseq=0 icode= >, <Atom C29>), (<Model id=0>, <Chain id=B>, <Residue LIG het=  resseq=0 icode= >, <Atom C30>), (<Model id=0>, <Chain id=B>, <Residue LIG het=  resseq=0 icode= >, <Atom C31>), (<Model id=0>, <Chain id=B>, <Residue LIG het=  resseq=0 icode= >, <Atom C32>), (<Model id=0>, <Chain id=B>, <Residue LIG het=  resseq=0 icode= >, <Atom C33>), (<Model id=0>, <Chain id=B>, <Residue LIG het=  resseq=0 icode= >, <Atom C34>), (<Model id=0>, <Chain id=B>, <Residue LIG het=  resseq=0 icode= >, <Atom C35>), (<Model id=0>, <Chain id=B>, <Residue LIG het=  resseq=0 icode= >, <Atom C36>), (<Model id=0>, <Chain id=B>, <Residue LIG het=  resseq=0 icode= >, <Atom O4>), (<Model id=0>, <Chain id=B>, <Residue LIG het=  resseq=0 icode= >, <Atom O5>), (<Model id=0>, <Chain id=B>, <Residue LIG het=  resseq=0 icode= >, <Atom C37>), (<Model id=0>, <Chain id=B>, <Residue LIG het=  resseq=0 icode= >, <Atom N3>), (<Model id=0>, <Chain id=B>, <Residue LIG het=  resseq=0 icode= >, <Atom C38>), (<Model id=0>, <Chain id=B>, <Residue LIG het=  resseq=0 icode= >, <Atom C39>), (<Model id=0>, <Chain id=B>, <Residue LIG het=  resseq=0 icode= >, <Atom N4>), (<Model id=0>, <Chain id=B>, <Residue LIG het=  resseq=0 icode= >, <Atom C40>), (<Model id=0>, <Chain id=B>, <Residue LIG het=  resseq=0 icode= >, <Atom C41>), (<Model id=0>, <Chain id=B>, <Residue LIG het=  resseq=0 icode= >, <Atom C42>), (<Model id=0>, <Chain id=B>, <Residue LIG het=  resseq=0 icode= >, <Atom C43>), (<Model id=0>, <Chain id=B>, <Residue LIG het=  resseq=0 icode= >, <Atom C44>), (<Model id=0>, <Chain id=B>, <Residue LIG het=  resseq=0 icode= >, <Atom C45>), (<Model id=0>, <Chain id=B>, <Residue LIG het=  resseq=0 icode= >, <Atom C46>), (<Model id=0>, <Chain id=B>, <Residue LIG het=  resseq=0 icode= >, <Atom C47>), (<Model id=0>, <Chain id=B>, <Residue LIG het=  resseq=0 icode= >, <Atom O6>), (<Model id=0>, <Chain id=B>, <Residue LIG het=  resseq=0 icode= >, <Atom O7>)]\n",
      "Substructure saved to /disk2/fli/REVIVAL2/zs/vina/chai/struct_joint/ParLQ/F89A_0/4-vinylanisole/4-vinylanisole_temp.pdb\n",
      "Removing ions from zs/vina/chai/struct_joint/ParLQ/F89A_0/4-vinylanisole/4-vinylanisole_temp.pdb\n",
      "Cleaned PDBQT file saved to: zs/vina/chai/struct_joint/ParLQ/F89A_0/4-vinylanisole/4-vinylanisole.pdbqt\n",
      "Processing cofactor carbene-heme C=CC1=C(C=C2C(C)=C(C=C)C3=[N]2[Fe]45(N6C(C(C)=C(CCC([O-])=O)C6=C7)=C3)=CC(OCC)=O)N4C(C=C8[N]5=C7C(CCC([O-])=O)=C8C)=C1C using zs/vina/chai/struct_joint/ParLQ/F89A_0/F89A_0.pdb\n",
      "Processing ligand carbene\n",
      "Checking for ions...\n",
      "Processing ligand carbene from zs/vina/chai/struct_joint/ParLQ/F89A_0/F89A_0.pdb\n",
      "Substrate atoms: [(<Model id=0>, <Chain id=B>, <Residue LIG het=  resseq=0 icode= >, <Atom C24>), (<Model id=0>, <Chain id=B>, <Residue LIG het=  resseq=0 icode= >, <Atom C25>), (<Model id=0>, <Chain id=B>, <Residue LIG het=  resseq=0 icode= >, <Atom O2>), (<Model id=0>, <Chain id=B>, <Residue LIG het=  resseq=0 icode= >, <Atom O3>), (<Model id=0>, <Chain id=B>, <Residue LIG het=  resseq=0 icode= >, <Atom C26>), (<Model id=0>, <Chain id=B>, <Residue LIG het=  resseq=0 icode= >, <Atom C27>)]\n",
      "Rest atoms: [(<Model id=0>, <Chain id=B>, <Residue LIG het=  resseq=0 icode= >, <Atom C1>), (<Model id=0>, <Chain id=B>, <Residue LIG het=  resseq=0 icode= >, <Atom C2>), (<Model id=0>, <Chain id=B>, <Residue LIG het=  resseq=0 icode= >, <Atom C3>), (<Model id=0>, <Chain id=B>, <Residue LIG het=  resseq=0 icode= >, <Atom C4>), (<Model id=0>, <Chain id=B>, <Residue LIG het=  resseq=0 icode= >, <Atom C5>), (<Model id=0>, <Chain id=B>, <Residue LIG het=  resseq=0 icode= >, <Atom C6>), (<Model id=0>, <Chain id=B>, <Residue LIG het=  resseq=0 icode= >, <Atom O1>), (<Model id=0>, <Chain id=B>, <Residue LIG het=  resseq=0 icode= >, <Atom C7>), (<Model id=0>, <Chain id=B>, <Residue LIG het=  resseq=0 icode= >, <Atom C8>), (<Model id=0>, <Chain id=B>, <Residue LIG het=  resseq=0 icode= >, <Atom C9>), (<Model id=0>, <Chain id=B>, <Residue LIG het=  resseq=0 icode= >, <Atom C10>), (<Model id=0>, <Chain id=B>, <Residue LIG het=  resseq=0 icode= >, <Atom C11>), (<Model id=0>, <Chain id=B>, <Residue LIG het=  resseq=0 icode= >, <Atom C12>), (<Model id=0>, <Chain id=B>, <Residue LIG het=  resseq=0 icode= >, <Atom C13>), (<Model id=0>, <Chain id=B>, <Residue LIG het=  resseq=0 icode= >, <Atom C14>), (<Model id=0>, <Chain id=B>, <Residue LIG het=  resseq=0 icode= >, <Atom C15>), (<Model id=0>, <Chain id=B>, <Residue LIG het=  resseq=0 icode= >, <Atom C16>), (<Model id=0>, <Chain id=B>, <Residue LIG het=  resseq=0 icode= >, <Atom C17>), (<Model id=0>, <Chain id=B>, <Residue LIG het=  resseq=0 icode= >, <Atom C18>), (<Model id=0>, <Chain id=B>, <Residue LIG het=  resseq=0 icode= >, <Atom C19>), (<Model id=0>, <Chain id=B>, <Residue LIG het=  resseq=0 icode= >, <Atom C20>), (<Model id=0>, <Chain id=B>, <Residue LIG het=  resseq=0 icode= >, <Atom C21>), (<Model id=0>, <Chain id=B>, <Residue LIG het=  resseq=0 icode= >, <Atom C22>), (<Model id=0>, <Chain id=B>, <Residue LIG het=  resseq=0 icode= >, <Atom C23>), (<Model id=0>, <Chain id=B>, <Residue LIG het=  resseq=0 icode= >, <Atom N1>), (<Model id=0>, <Chain id=B>, <Residue LIG het=  resseq=0 icode= >, <Atom FE1>), (<Model id=0>, <Chain id=B>, <Residue LIG het=  resseq=0 icode= >, <Atom N2>), (<Model id=0>, <Chain id=B>, <Residue LIG het=  resseq=0 icode= >, <Atom C28>), (<Model id=0>, <Chain id=B>, <Residue LIG het=  resseq=0 icode= >, <Atom C29>), (<Model id=0>, <Chain id=B>, <Residue LIG het=  resseq=0 icode= >, <Atom C30>), (<Model id=0>, <Chain id=B>, <Residue LIG het=  resseq=0 icode= >, <Atom C31>), (<Model id=0>, <Chain id=B>, <Residue LIG het=  resseq=0 icode= >, <Atom C32>), (<Model id=0>, <Chain id=B>, <Residue LIG het=  resseq=0 icode= >, <Atom C33>), (<Model id=0>, <Chain id=B>, <Residue LIG het=  resseq=0 icode= >, <Atom C34>), (<Model id=0>, <Chain id=B>, <Residue LIG het=  resseq=0 icode= >, <Atom C35>), (<Model id=0>, <Chain id=B>, <Residue LIG het=  resseq=0 icode= >, <Atom C36>), (<Model id=0>, <Chain id=B>, <Residue LIG het=  resseq=0 icode= >, <Atom O4>), (<Model id=0>, <Chain id=B>, <Residue LIG het=  resseq=0 icode= >, <Atom O5>), (<Model id=0>, <Chain id=B>, <Residue LIG het=  resseq=0 icode= >, <Atom C37>), (<Model id=0>, <Chain id=B>, <Residue LIG het=  resseq=0 icode= >, <Atom N3>), (<Model id=0>, <Chain id=B>, <Residue LIG het=  resseq=0 icode= >, <Atom C38>), (<Model id=0>, <Chain id=B>, <Residue LIG het=  resseq=0 icode= >, <Atom C39>), (<Model id=0>, <Chain id=B>, <Residue LIG het=  resseq=0 icode= >, <Atom N4>), (<Model id=0>, <Chain id=B>, <Residue LIG het=  resseq=0 icode= >, <Atom C40>), (<Model id=0>, <Chain id=B>, <Residue LIG het=  resseq=0 icode= >, <Atom C41>), (<Model id=0>, <Chain id=B>, <Residue LIG het=  resseq=0 icode= >, <Atom C42>), (<Model id=0>, <Chain id=B>, <Residue LIG het=  resseq=0 icode= >, <Atom C43>), (<Model id=0>, <Chain id=B>, <Residue LIG het=  resseq=0 icode= >, <Atom C44>), (<Model id=0>, <Chain id=B>, <Residue LIG het=  resseq=0 icode= >, <Atom C45>), (<Model id=0>, <Chain id=B>, <Residue LIG het=  resseq=0 icode= >, <Atom C46>), (<Model id=0>, <Chain id=B>, <Residue LIG het=  resseq=0 icode= >, <Atom C47>), (<Model id=0>, <Chain id=B>, <Residue LIG het=  resseq=0 icode= >, <Atom O6>), (<Model id=0>, <Chain id=B>, <Residue LIG het=  resseq=0 icode= >, <Atom O7>)]\n",
      "Substructure saved to /disk2/fli/REVIVAL2/zs/vina/chai/struct_joint/ParLQ/F89A_0/carbene/carbene_temp.pdb\n",
      "Removing ions from zs/vina/chai/struct_joint/ParLQ/F89A_0/carbene/carbene_temp.pdb\n",
      "Cleaned PDBQT file saved to: zs/vina/chai/struct_joint/ParLQ/F89A_0/carbene/carbene.pdbqt\n",
      "Processing ligand heme\n",
      "Checking for ions...\n",
      "Processing ligand heme from zs/vina/chai/struct_joint/ParLQ/F89A_0/F89A_0.pdb\n",
      "Substrate atoms: [(<Model id=0>, <Chain id=B>, <Residue LIG het=  resseq=0 icode= >, <Atom C1>), (<Model id=0>, <Chain id=B>, <Residue LIG het=  resseq=0 icode= >, <Atom C2>), (<Model id=0>, <Chain id=B>, <Residue LIG het=  resseq=0 icode= >, <Atom C3>), (<Model id=0>, <Chain id=B>, <Residue LIG het=  resseq=0 icode= >, <Atom C4>), (<Model id=0>, <Chain id=B>, <Residue LIG het=  resseq=0 icode= >, <Atom C5>), (<Model id=0>, <Chain id=B>, <Residue LIG het=  resseq=0 icode= >, <Atom C6>), (<Model id=0>, <Chain id=B>, <Residue LIG het=  resseq=0 icode= >, <Atom O1>), (<Model id=0>, <Chain id=B>, <Residue LIG het=  resseq=0 icode= >, <Atom C7>), (<Model id=0>, <Chain id=B>, <Residue LIG het=  resseq=0 icode= >, <Atom C8>), (<Model id=0>, <Chain id=B>, <Residue LIG het=  resseq=0 icode= >, <Atom C9>), (<Model id=0>, <Chain id=B>, <Residue LIG het=  resseq=0 icode= >, <Atom C24>), (<Model id=0>, <Chain id=B>, <Residue LIG het=  resseq=0 icode= >, <Atom C25>), (<Model id=0>, <Chain id=B>, <Residue LIG het=  resseq=0 icode= >, <Atom O2>), (<Model id=0>, <Chain id=B>, <Residue LIG het=  resseq=0 icode= >, <Atom O3>), (<Model id=0>, <Chain id=B>, <Residue LIG het=  resseq=0 icode= >, <Atom C26>), (<Model id=0>, <Chain id=B>, <Residue LIG het=  resseq=0 icode= >, <Atom C27>)]\n",
      "Rest atoms: [(<Model id=0>, <Chain id=B>, <Residue LIG het=  resseq=0 icode= >, <Atom C10>), (<Model id=0>, <Chain id=B>, <Residue LIG het=  resseq=0 icode= >, <Atom C11>), (<Model id=0>, <Chain id=B>, <Residue LIG het=  resseq=0 icode= >, <Atom C12>), (<Model id=0>, <Chain id=B>, <Residue LIG het=  resseq=0 icode= >, <Atom C13>), (<Model id=0>, <Chain id=B>, <Residue LIG het=  resseq=0 icode= >, <Atom C14>), (<Model id=0>, <Chain id=B>, <Residue LIG het=  resseq=0 icode= >, <Atom C15>), (<Model id=0>, <Chain id=B>, <Residue LIG het=  resseq=0 icode= >, <Atom C16>), (<Model id=0>, <Chain id=B>, <Residue LIG het=  resseq=0 icode= >, <Atom C17>), (<Model id=0>, <Chain id=B>, <Residue LIG het=  resseq=0 icode= >, <Atom C18>), (<Model id=0>, <Chain id=B>, <Residue LIG het=  resseq=0 icode= >, <Atom C19>), (<Model id=0>, <Chain id=B>, <Residue LIG het=  resseq=0 icode= >, <Atom C20>), (<Model id=0>, <Chain id=B>, <Residue LIG het=  resseq=0 icode= >, <Atom C21>), (<Model id=0>, <Chain id=B>, <Residue LIG het=  resseq=0 icode= >, <Atom C22>), (<Model id=0>, <Chain id=B>, <Residue LIG het=  resseq=0 icode= >, <Atom C23>), (<Model id=0>, <Chain id=B>, <Residue LIG het=  resseq=0 icode= >, <Atom N1>), (<Model id=0>, <Chain id=B>, <Residue LIG het=  resseq=0 icode= >, <Atom FE1>), (<Model id=0>, <Chain id=B>, <Residue LIG het=  resseq=0 icode= >, <Atom N2>), (<Model id=0>, <Chain id=B>, <Residue LIG het=  resseq=0 icode= >, <Atom C28>), (<Model id=0>, <Chain id=B>, <Residue LIG het=  resseq=0 icode= >, <Atom C29>), (<Model id=0>, <Chain id=B>, <Residue LIG het=  resseq=0 icode= >, <Atom C30>), (<Model id=0>, <Chain id=B>, <Residue LIG het=  resseq=0 icode= >, <Atom C31>), (<Model id=0>, <Chain id=B>, <Residue LIG het=  resseq=0 icode= >, <Atom C32>), (<Model id=0>, <Chain id=B>, <Residue LIG het=  resseq=0 icode= >, <Atom C33>), (<Model id=0>, <Chain id=B>, <Residue LIG het=  resseq=0 icode= >, <Atom C34>), (<Model id=0>, <Chain id=B>, <Residue LIG het=  resseq=0 icode= >, <Atom C35>), (<Model id=0>, <Chain id=B>, <Residue LIG het=  resseq=0 icode= >, <Atom C36>), (<Model id=0>, <Chain id=B>, <Residue LIG het=  resseq=0 icode= >, <Atom O4>), (<Model id=0>, <Chain id=B>, <Residue LIG het=  resseq=0 icode= >, <Atom O5>), (<Model id=0>, <Chain id=B>, <Residue LIG het=  resseq=0 icode= >, <Atom C37>), (<Model id=0>, <Chain id=B>, <Residue LIG het=  resseq=0 icode= >, <Atom N3>), (<Model id=0>, <Chain id=B>, <Residue LIG het=  resseq=0 icode= >, <Atom C38>), (<Model id=0>, <Chain id=B>, <Residue LIG het=  resseq=0 icode= >, <Atom C39>), (<Model id=0>, <Chain id=B>, <Residue LIG het=  resseq=0 icode= >, <Atom N4>), (<Model id=0>, <Chain id=B>, <Residue LIG het=  resseq=0 icode= >, <Atom C40>), (<Model id=0>, <Chain id=B>, <Residue LIG het=  resseq=0 icode= >, <Atom C41>), (<Model id=0>, <Chain id=B>, <Residue LIG het=  resseq=0 icode= >, <Atom C42>), (<Model id=0>, <Chain id=B>, <Residue LIG het=  resseq=0 icode= >, <Atom C43>), (<Model id=0>, <Chain id=B>, <Residue LIG het=  resseq=0 icode= >, <Atom C44>), (<Model id=0>, <Chain id=B>, <Residue LIG het=  resseq=0 icode= >, <Atom C45>), (<Model id=0>, <Chain id=B>, <Residue LIG het=  resseq=0 icode= >, <Atom C46>), (<Model id=0>, <Chain id=B>, <Residue LIG het=  resseq=0 icode= >, <Atom C47>), (<Model id=0>, <Chain id=B>, <Residue LIG het=  resseq=0 icode= >, <Atom O6>), (<Model id=0>, <Chain id=B>, <Residue LIG het=  resseq=0 icode= >, <Atom O7>)]\n",
      "Substructure saved to /disk2/fli/REVIVAL2/zs/vina/chai/struct_joint/ParLQ/F89A_0/heme/heme_temp.pdb\n",
      "Removing ions from zs/vina/chai/struct_joint/ParLQ/F89A_0/heme/heme_temp.pdb\n",
      "Cleaned PDBQT file saved to: zs/vina/chai/struct_joint/ParLQ/F89A_0/heme/heme.pdbqt\n",
      "Processing ligand Fe\n",
      "Checking for ions...\n",
      "Processing ion Fe\n",
      "Ions matching 'FE' were successfully extracted to zs/vina/chai/struct_joint/ParLQ/F89A_0/Fe/FE.pdb.\n",
      "cofactor_pdbqts: ['zs/vina/chai/struct_joint/ParLQ/F89A_0/carbene/carbene.pdbqt', 'zs/vina/chai/struct_joint/ParLQ/F89A_0/heme/heme.pdbqt', 'zs/vina/chai/struct_joint/ParLQ/F89A_0/Fe/FE.pdbqt']\n"
     ]
    },
    {
     "name": "stderr",
     "output_type": "stream",
     "text": [
      "1 molecule converted\n"
     ]
    },
    {
     "name": "stdout",
     "output_type": "stream",
     "text": [
      "Making zs/vina/chai/struct_joint/ParLQ/F89A_0/F89A_0_heme ...\n",
      "cofactor2freeze: ['zs/vina/chai/struct_joint/ParLQ/F89A_0/heme/heme.pdbqt', 'zs/vina/chai/struct_joint/ParLQ/F89A_0/Fe/FE.pdbqt']\n",
      "cofactor2dock: ['zs/vina/chai/struct_joint/ParLQ/F89A_0/carbene/carbene.pdbqt']\n",
      "Merging zs/vina/chai/struct_joint/ParLQ/F89A_0/F89A_0/F89A_0.pdbqt\n",
      "Merging zs/vina/chai/struct_joint/ParLQ/F89A_0/heme/heme.pdbqt\n",
      "Merging zs/vina/chai/struct_joint/ParLQ/F89A_0/Fe/FE.pdbqt\n",
      "Combined ATOM lines saved to zs/vina/chai/struct_joint/ParLQ/F89A_0/F89A_0_heme/F89A_0_heme.pdbqt\n",
      "Vina run (score-only) completed successfully. Log saved to: zs/vina/chai/struct_joint/ParLQ/F89A_0/F89A_0-4-vinylanisole-substrate+carbene-score_only_log.txt\n"
     ]
    },
    {
     "data": {
      "text/plain": [
       "'zs/vina/chai/struct_joint/ParLQ/F89A_0/F89A_0-4-vinylanisole-substrate+carbene-score_only_log.txt'"
      ]
     },
     "execution_count": 10,
     "metadata": {},
     "output_type": "execute_result"
    }
   ],
   "source": [
    "from REVIVAL.zs.vina import dock\n",
    "\n",
    "dock(\n",
    "    input_struct_path=\"/disk2/fli/REVIVAL2/zs/chai/struct_joint/ParLQ/F89A/F89A_0.cif\",\n",
    "    dock_opt=\"substrate+carbene\",\n",
    "    score_only = True,\n",
    "    regen=True,\n",
    "    rerun=True\n",
    ")"
   ]
  },
  {
   "cell_type": "code",
   "execution_count": 11,
   "metadata": {},
   "outputs": [
    {
     "name": "stdout",
     "output_type": "stream",
     "text": [
      "Making zs/vina/chai/struct_seperate ...\n",
      "Making zs/vina/chai/struct_seperate/ParLQ ...\n",
      "Making zs/vina/chai/struct_seperate/ParLQ/F89A_0 ...\n",
      "Making zs/vina/chai/struct_seperate/ParLQ/F89A_0/F89A_0 ...\n"
     ]
    },
    {
     "name": "stderr",
     "output_type": "stream",
     "text": [
      "==============================\n",
      "*** Open Babel Warning  in PerceiveBondOrders\n",
      "  Failed to kekulize aromatic bonds in OBMol::PerceiveBondOrders (title is model)\n",
      "\n",
      "1 molecule converted\n",
      "1 molecule converted\n"
     ]
    },
    {
     "name": "stdout",
     "output_type": "stream",
     "text": [
      "Making zs/vina/chai/struct_seperate/ParLQ/F89A_0/4-vinylanisole ...\n",
      "Processing ligand 4-vinylanisole\n",
      "Checking for ions...\n",
      "Processing ligand 4-vinylanisole from zs/vina/chai/struct_seperate/ParLQ/F89A_0/F89A_0.pdb\n",
      "Substrate atoms: [(<Model id=0>, <Chain id=B>, <Residue LIG het=  resseq=0 icode= >, <Atom C1>), (<Model id=0>, <Chain id=B>, <Residue LIG het=  resseq=0 icode= >, <Atom C2>), (<Model id=0>, <Chain id=B>, <Residue LIG het=  resseq=0 icode= >, <Atom C3>), (<Model id=0>, <Chain id=B>, <Residue LIG het=  resseq=0 icode= >, <Atom C4>), (<Model id=0>, <Chain id=B>, <Residue LIG het=  resseq=0 icode= >, <Atom C5>), (<Model id=0>, <Chain id=B>, <Residue LIG het=  resseq=0 icode= >, <Atom C6>), (<Model id=0>, <Chain id=B>, <Residue LIG het=  resseq=0 icode= >, <Atom O1>), (<Model id=0>, <Chain id=B>, <Residue LIG het=  resseq=0 icode= >, <Atom C7>), (<Model id=0>, <Chain id=B>, <Residue LIG het=  resseq=0 icode= >, <Atom C8>), (<Model id=0>, <Chain id=B>, <Residue LIG het=  resseq=0 icode= >, <Atom C9>)]\n",
      "Rest atoms: []\n",
      "Substructure saved to /disk2/fli/REVIVAL2/zs/vina/chai/struct_seperate/ParLQ/F89A_0/4-vinylanisole/4-vinylanisole_temp.pdb\n",
      "Removing ions from zs/vina/chai/struct_seperate/ParLQ/F89A_0/4-vinylanisole/4-vinylanisole_temp.pdb\n",
      "Cleaned PDBQT file saved to: zs/vina/chai/struct_seperate/ParLQ/F89A_0/4-vinylanisole/4-vinylanisole.pdbqt\n",
      "Processing cofactor carbene-heme C=CC1=C(C=C2C(C)=C(C=C)C3=[N]2[Fe]45(N6C(C(C)=C(CCC([O-])=O)C6=C7)=C3)=CC(OCC)=O)N4C(C=C8[N]5=C7C(CCC([O-])=O)=C8C)=C1C using zs/vina/chai/struct_seperate/ParLQ/F89A_0/F89A_0.pdb\n",
      "Making zs/vina/chai/struct_seperate/ParLQ/F89A_0/carbene ...\n",
      "Processing ligand carbene\n",
      "Checking for ions...\n",
      "Processing ligand carbene from zs/vina/chai/struct_seperate/ParLQ/F89A_0/F89A_0.pdb\n",
      "Substrate atoms: [(<Model id=0>, <Chain id=C>, <Residue LIG het=  resseq=0 icode= >, <Atom C15>), (<Model id=0>, <Chain id=C>, <Residue LIG het=  resseq=0 icode= >, <Atom C16>), (<Model id=0>, <Chain id=C>, <Residue LIG het=  resseq=0 icode= >, <Atom O1>), (<Model id=0>, <Chain id=C>, <Residue LIG het=  resseq=0 icode= >, <Atom O2>), (<Model id=0>, <Chain id=C>, <Residue LIG het=  resseq=0 icode= >, <Atom C17>), (<Model id=0>, <Chain id=C>, <Residue LIG het=  resseq=0 icode= >, <Atom C18>)]\n",
      "Rest atoms: [(<Model id=0>, <Chain id=C>, <Residue LIG het=  resseq=0 icode= >, <Atom C1>), (<Model id=0>, <Chain id=C>, <Residue LIG het=  resseq=0 icode= >, <Atom C2>), (<Model id=0>, <Chain id=C>, <Residue LIG het=  resseq=0 icode= >, <Atom C3>), (<Model id=0>, <Chain id=C>, <Residue LIG het=  resseq=0 icode= >, <Atom C4>), (<Model id=0>, <Chain id=C>, <Residue LIG het=  resseq=0 icode= >, <Atom C5>), (<Model id=0>, <Chain id=C>, <Residue LIG het=  resseq=0 icode= >, <Atom C6>), (<Model id=0>, <Chain id=C>, <Residue LIG het=  resseq=0 icode= >, <Atom C7>), (<Model id=0>, <Chain id=C>, <Residue LIG het=  resseq=0 icode= >, <Atom C8>), (<Model id=0>, <Chain id=C>, <Residue LIG het=  resseq=0 icode= >, <Atom C9>), (<Model id=0>, <Chain id=C>, <Residue LIG het=  resseq=0 icode= >, <Atom C10>), (<Model id=0>, <Chain id=C>, <Residue LIG het=  resseq=0 icode= >, <Atom C11>), (<Model id=0>, <Chain id=C>, <Residue LIG het=  resseq=0 icode= >, <Atom C12>), (<Model id=0>, <Chain id=C>, <Residue LIG het=  resseq=0 icode= >, <Atom C13>), (<Model id=0>, <Chain id=C>, <Residue LIG het=  resseq=0 icode= >, <Atom C14>), (<Model id=0>, <Chain id=C>, <Residue LIG het=  resseq=0 icode= >, <Atom N1>), (<Model id=0>, <Chain id=C>, <Residue LIG het=  resseq=0 icode= >, <Atom FE1>), (<Model id=0>, <Chain id=C>, <Residue LIG het=  resseq=0 icode= >, <Atom N2>), (<Model id=0>, <Chain id=C>, <Residue LIG het=  resseq=0 icode= >, <Atom C19>), (<Model id=0>, <Chain id=C>, <Residue LIG het=  resseq=0 icode= >, <Atom C20>), (<Model id=0>, <Chain id=C>, <Residue LIG het=  resseq=0 icode= >, <Atom C21>), (<Model id=0>, <Chain id=C>, <Residue LIG het=  resseq=0 icode= >, <Atom C22>), (<Model id=0>, <Chain id=C>, <Residue LIG het=  resseq=0 icode= >, <Atom C23>), (<Model id=0>, <Chain id=C>, <Residue LIG het=  resseq=0 icode= >, <Atom C24>), (<Model id=0>, <Chain id=C>, <Residue LIG het=  resseq=0 icode= >, <Atom C25>), (<Model id=0>, <Chain id=C>, <Residue LIG het=  resseq=0 icode= >, <Atom C26>), (<Model id=0>, <Chain id=C>, <Residue LIG het=  resseq=0 icode= >, <Atom C27>), (<Model id=0>, <Chain id=C>, <Residue LIG het=  resseq=0 icode= >, <Atom O3>), (<Model id=0>, <Chain id=C>, <Residue LIG het=  resseq=0 icode= >, <Atom O4>), (<Model id=0>, <Chain id=C>, <Residue LIG het=  resseq=0 icode= >, <Atom C28>), (<Model id=0>, <Chain id=C>, <Residue LIG het=  resseq=0 icode= >, <Atom N3>), (<Model id=0>, <Chain id=C>, <Residue LIG het=  resseq=0 icode= >, <Atom C29>), (<Model id=0>, <Chain id=C>, <Residue LIG het=  resseq=0 icode= >, <Atom C30>), (<Model id=0>, <Chain id=C>, <Residue LIG het=  resseq=0 icode= >, <Atom N4>), (<Model id=0>, <Chain id=C>, <Residue LIG het=  resseq=0 icode= >, <Atom C31>), (<Model id=0>, <Chain id=C>, <Residue LIG het=  resseq=0 icode= >, <Atom C32>), (<Model id=0>, <Chain id=C>, <Residue LIG het=  resseq=0 icode= >, <Atom C33>), (<Model id=0>, <Chain id=C>, <Residue LIG het=  resseq=0 icode= >, <Atom C34>), (<Model id=0>, <Chain id=C>, <Residue LIG het=  resseq=0 icode= >, <Atom C35>), (<Model id=0>, <Chain id=C>, <Residue LIG het=  resseq=0 icode= >, <Atom C36>), (<Model id=0>, <Chain id=C>, <Residue LIG het=  resseq=0 icode= >, <Atom C37>), (<Model id=0>, <Chain id=C>, <Residue LIG het=  resseq=0 icode= >, <Atom C38>), (<Model id=0>, <Chain id=C>, <Residue LIG het=  resseq=0 icode= >, <Atom O5>), (<Model id=0>, <Chain id=C>, <Residue LIG het=  resseq=0 icode= >, <Atom O6>)]\n",
      "Substructure saved to /disk2/fli/REVIVAL2/zs/vina/chai/struct_seperate/ParLQ/F89A_0/carbene/carbene_temp.pdb\n",
      "Removing ions from zs/vina/chai/struct_seperate/ParLQ/F89A_0/carbene/carbene_temp.pdb\n",
      "Cleaned PDBQT file saved to: zs/vina/chai/struct_seperate/ParLQ/F89A_0/carbene/carbene.pdbqt\n",
      "Making zs/vina/chai/struct_seperate/ParLQ/F89A_0/heme ...\n",
      "Processing ligand heme\n",
      "Checking for ions...\n",
      "Processing ligand heme from zs/vina/chai/struct_seperate/ParLQ/F89A_0/F89A_0.pdb\n",
      "Substrate atoms: [(<Model id=0>, <Chain id=C>, <Residue LIG het=  resseq=0 icode= >, <Atom C15>), (<Model id=0>, <Chain id=C>, <Residue LIG het=  resseq=0 icode= >, <Atom C16>), (<Model id=0>, <Chain id=C>, <Residue LIG het=  resseq=0 icode= >, <Atom O1>), (<Model id=0>, <Chain id=C>, <Residue LIG het=  resseq=0 icode= >, <Atom O2>), (<Model id=0>, <Chain id=C>, <Residue LIG het=  resseq=0 icode= >, <Atom C17>), (<Model id=0>, <Chain id=C>, <Residue LIG het=  resseq=0 icode= >, <Atom C18>)]\n",
      "Rest atoms: [(<Model id=0>, <Chain id=C>, <Residue LIG het=  resseq=0 icode= >, <Atom C1>), (<Model id=0>, <Chain id=C>, <Residue LIG het=  resseq=0 icode= >, <Atom C2>), (<Model id=0>, <Chain id=C>, <Residue LIG het=  resseq=0 icode= >, <Atom C3>), (<Model id=0>, <Chain id=C>, <Residue LIG het=  resseq=0 icode= >, <Atom C4>), (<Model id=0>, <Chain id=C>, <Residue LIG het=  resseq=0 icode= >, <Atom C5>), (<Model id=0>, <Chain id=C>, <Residue LIG het=  resseq=0 icode= >, <Atom C6>), (<Model id=0>, <Chain id=C>, <Residue LIG het=  resseq=0 icode= >, <Atom C7>), (<Model id=0>, <Chain id=C>, <Residue LIG het=  resseq=0 icode= >, <Atom C8>), (<Model id=0>, <Chain id=C>, <Residue LIG het=  resseq=0 icode= >, <Atom C9>), (<Model id=0>, <Chain id=C>, <Residue LIG het=  resseq=0 icode= >, <Atom C10>), (<Model id=0>, <Chain id=C>, <Residue LIG het=  resseq=0 icode= >, <Atom C11>), (<Model id=0>, <Chain id=C>, <Residue LIG het=  resseq=0 icode= >, <Atom C12>), (<Model id=0>, <Chain id=C>, <Residue LIG het=  resseq=0 icode= >, <Atom C13>), (<Model id=0>, <Chain id=C>, <Residue LIG het=  resseq=0 icode= >, <Atom C14>), (<Model id=0>, <Chain id=C>, <Residue LIG het=  resseq=0 icode= >, <Atom N1>), (<Model id=0>, <Chain id=C>, <Residue LIG het=  resseq=0 icode= >, <Atom FE1>), (<Model id=0>, <Chain id=C>, <Residue LIG het=  resseq=0 icode= >, <Atom N2>), (<Model id=0>, <Chain id=C>, <Residue LIG het=  resseq=0 icode= >, <Atom C19>), (<Model id=0>, <Chain id=C>, <Residue LIG het=  resseq=0 icode= >, <Atom C20>), (<Model id=0>, <Chain id=C>, <Residue LIG het=  resseq=0 icode= >, <Atom C21>), (<Model id=0>, <Chain id=C>, <Residue LIG het=  resseq=0 icode= >, <Atom C22>), (<Model id=0>, <Chain id=C>, <Residue LIG het=  resseq=0 icode= >, <Atom C23>), (<Model id=0>, <Chain id=C>, <Residue LIG het=  resseq=0 icode= >, <Atom C24>), (<Model id=0>, <Chain id=C>, <Residue LIG het=  resseq=0 icode= >, <Atom C25>), (<Model id=0>, <Chain id=C>, <Residue LIG het=  resseq=0 icode= >, <Atom C26>), (<Model id=0>, <Chain id=C>, <Residue LIG het=  resseq=0 icode= >, <Atom C27>), (<Model id=0>, <Chain id=C>, <Residue LIG het=  resseq=0 icode= >, <Atom O3>), (<Model id=0>, <Chain id=C>, <Residue LIG het=  resseq=0 icode= >, <Atom O4>), (<Model id=0>, <Chain id=C>, <Residue LIG het=  resseq=0 icode= >, <Atom C28>), (<Model id=0>, <Chain id=C>, <Residue LIG het=  resseq=0 icode= >, <Atom N3>), (<Model id=0>, <Chain id=C>, <Residue LIG het=  resseq=0 icode= >, <Atom C29>), (<Model id=0>, <Chain id=C>, <Residue LIG het=  resseq=0 icode= >, <Atom C30>), (<Model id=0>, <Chain id=C>, <Residue LIG het=  resseq=0 icode= >, <Atom N4>), (<Model id=0>, <Chain id=C>, <Residue LIG het=  resseq=0 icode= >, <Atom C31>), (<Model id=0>, <Chain id=C>, <Residue LIG het=  resseq=0 icode= >, <Atom C32>), (<Model id=0>, <Chain id=C>, <Residue LIG het=  resseq=0 icode= >, <Atom C33>), (<Model id=0>, <Chain id=C>, <Residue LIG het=  resseq=0 icode= >, <Atom C34>), (<Model id=0>, <Chain id=C>, <Residue LIG het=  resseq=0 icode= >, <Atom C35>), (<Model id=0>, <Chain id=C>, <Residue LIG het=  resseq=0 icode= >, <Atom C36>), (<Model id=0>, <Chain id=C>, <Residue LIG het=  resseq=0 icode= >, <Atom C37>), (<Model id=0>, <Chain id=C>, <Residue LIG het=  resseq=0 icode= >, <Atom C38>), (<Model id=0>, <Chain id=C>, <Residue LIG het=  resseq=0 icode= >, <Atom O5>), (<Model id=0>, <Chain id=C>, <Residue LIG het=  resseq=0 icode= >, <Atom O6>)]\n",
      "Substructure saved to /disk2/fli/REVIVAL2/zs/vina/chai/struct_seperate/ParLQ/F89A_0/heme/heme_temp.pdb\n",
      "Removing ions from zs/vina/chai/struct_seperate/ParLQ/F89A_0/heme/heme_temp.pdb\n",
      "Cleaned PDBQT file saved to: zs/vina/chai/struct_seperate/ParLQ/F89A_0/heme/heme.pdbqt\n",
      "Making zs/vina/chai/struct_seperate/ParLQ/F89A_0/Fe ...\n",
      "Processing ligand Fe\n",
      "Checking for ions...\n",
      "Processing ion Fe\n",
      "Ions matching 'FE' were successfully extracted to zs/vina/chai/struct_seperate/ParLQ/F89A_0/Fe/FE.pdb.\n",
      "cofactor_pdbqts: ['zs/vina/chai/struct_seperate/ParLQ/F89A_0/carbene/carbene.pdbqt', 'zs/vina/chai/struct_seperate/ParLQ/F89A_0/heme/heme.pdbqt', 'zs/vina/chai/struct_seperate/ParLQ/F89A_0/Fe/FE.pdbqt']\n"
     ]
    },
    {
     "name": "stderr",
     "output_type": "stream",
     "text": [
      "1 molecule converted\n"
     ]
    },
    {
     "name": "stdout",
     "output_type": "stream",
     "text": [
      "Making zs/vina/chai/struct_seperate/ParLQ/F89A_0/F89A_0_cofactors ...\n",
      "Merging zs/vina/chai/struct_seperate/ParLQ/F89A_0/F89A_0/F89A_0.pdbqt\n",
      "Merging zs/vina/chai/struct_seperate/ParLQ/F89A_0/carbene/carbene.pdbqt\n",
      "Merging zs/vina/chai/struct_seperate/ParLQ/F89A_0/heme/heme.pdbqt\n",
      "Merging zs/vina/chai/struct_seperate/ParLQ/F89A_0/Fe/FE.pdbqt\n",
      "Combined ATOM lines saved to zs/vina/chai/struct_seperate/ParLQ/F89A_0/F89A_0_cofactors/F89A_0_cofactors.pdbqt\n",
      "Vina run (score-only) completed successfully. Log saved to: zs/vina/chai/struct_seperate/ParLQ/F89A_0/F89A_0-4-vinylanisole-substrate-score_only_log.txt\n"
     ]
    },
    {
     "data": {
      "text/plain": [
       "'zs/vina/chai/struct_seperate/ParLQ/F89A_0/F89A_0-4-vinylanisole-substrate-score_only_log.txt'"
      ]
     },
     "execution_count": 11,
     "metadata": {},
     "output_type": "execute_result"
    }
   ],
   "source": [
    "from REVIVAL.zs.vina import dock\n",
    "\n",
    "dock(\n",
    "    input_struct_path=\"/disk2/fli/REVIVAL2/zs/chai/struct_seperate/ParLQ/F89A/F89A_0.cif\",\n",
    "    dock_opt=\"substrate\",\n",
    "    score_only = True,\n",
    "    regen=True,\n",
    "    rerun=True\n",
    ")"
   ]
  },
  {
   "cell_type": "code",
   "execution_count": 12,
   "metadata": {},
   "outputs": [
    {
     "name": "stderr",
     "output_type": "stream",
     "text": [
      "==============================\n",
      "*** Open Babel Warning  in PerceiveBondOrders\n",
      "  Failed to kekulize aromatic bonds in OBMol::PerceiveBondOrders (title is model)\n",
      "\n",
      "1 molecule converted\n",
      "1 molecule converted\n",
      "1 molecule converted\n"
     ]
    },
    {
     "name": "stdout",
     "output_type": "stream",
     "text": [
      "Processing ligand 4-vinylanisole\n",
      "Checking for ions...\n",
      "Processing ligand 4-vinylanisole from zs/vina/chai/struct_seperate/ParLQ/F89A_0/F89A_0.pdb\n",
      "Substrate atoms: [(<Model id=0>, <Chain id=B>, <Residue LIG het=  resseq=0 icode= >, <Atom C1>), (<Model id=0>, <Chain id=B>, <Residue LIG het=  resseq=0 icode= >, <Atom C2>), (<Model id=0>, <Chain id=B>, <Residue LIG het=  resseq=0 icode= >, <Atom C3>), (<Model id=0>, <Chain id=B>, <Residue LIG het=  resseq=0 icode= >, <Atom C4>), (<Model id=0>, <Chain id=B>, <Residue LIG het=  resseq=0 icode= >, <Atom C5>), (<Model id=0>, <Chain id=B>, <Residue LIG het=  resseq=0 icode= >, <Atom C6>), (<Model id=0>, <Chain id=B>, <Residue LIG het=  resseq=0 icode= >, <Atom O1>), (<Model id=0>, <Chain id=B>, <Residue LIG het=  resseq=0 icode= >, <Atom C7>), (<Model id=0>, <Chain id=B>, <Residue LIG het=  resseq=0 icode= >, <Atom C8>), (<Model id=0>, <Chain id=B>, <Residue LIG het=  resseq=0 icode= >, <Atom C9>)]\n",
      "Rest atoms: []\n",
      "Substructure saved to /disk2/fli/REVIVAL2/zs/vina/chai/struct_seperate/ParLQ/F89A_0/4-vinylanisole/4-vinylanisole_temp.pdb\n",
      "Removing ions from zs/vina/chai/struct_seperate/ParLQ/F89A_0/4-vinylanisole/4-vinylanisole_temp.pdb\n",
      "Cleaned PDBQT file saved to: zs/vina/chai/struct_seperate/ParLQ/F89A_0/4-vinylanisole/4-vinylanisole.pdbqt\n",
      "Processing cofactor carbene-heme C=CC1=C(C=C2C(C)=C(C=C)C3=[N]2[Fe]45(N6C(C(C)=C(CCC([O-])=O)C6=C7)=C3)=CC(OCC)=O)N4C(C=C8[N]5=C7C(CCC([O-])=O)=C8C)=C1C using zs/vina/chai/struct_seperate/ParLQ/F89A_0/F89A_0.pdb\n",
      "Processing ligand carbene\n",
      "Checking for ions...\n",
      "Processing ligand carbene from zs/vina/chai/struct_seperate/ParLQ/F89A_0/F89A_0.pdb\n",
      "Substrate atoms: [(<Model id=0>, <Chain id=C>, <Residue LIG het=  resseq=0 icode= >, <Atom C15>), (<Model id=0>, <Chain id=C>, <Residue LIG het=  resseq=0 icode= >, <Atom C16>), (<Model id=0>, <Chain id=C>, <Residue LIG het=  resseq=0 icode= >, <Atom O1>), (<Model id=0>, <Chain id=C>, <Residue LIG het=  resseq=0 icode= >, <Atom O2>), (<Model id=0>, <Chain id=C>, <Residue LIG het=  resseq=0 icode= >, <Atom C17>), (<Model id=0>, <Chain id=C>, <Residue LIG het=  resseq=0 icode= >, <Atom C18>)]\n",
      "Rest atoms: [(<Model id=0>, <Chain id=C>, <Residue LIG het=  resseq=0 icode= >, <Atom C1>), (<Model id=0>, <Chain id=C>, <Residue LIG het=  resseq=0 icode= >, <Atom C2>), (<Model id=0>, <Chain id=C>, <Residue LIG het=  resseq=0 icode= >, <Atom C3>), (<Model id=0>, <Chain id=C>, <Residue LIG het=  resseq=0 icode= >, <Atom C4>), (<Model id=0>, <Chain id=C>, <Residue LIG het=  resseq=0 icode= >, <Atom C5>), (<Model id=0>, <Chain id=C>, <Residue LIG het=  resseq=0 icode= >, <Atom C6>), (<Model id=0>, <Chain id=C>, <Residue LIG het=  resseq=0 icode= >, <Atom C7>), (<Model id=0>, <Chain id=C>, <Residue LIG het=  resseq=0 icode= >, <Atom C8>), (<Model id=0>, <Chain id=C>, <Residue LIG het=  resseq=0 icode= >, <Atom C9>), (<Model id=0>, <Chain id=C>, <Residue LIG het=  resseq=0 icode= >, <Atom C10>), (<Model id=0>, <Chain id=C>, <Residue LIG het=  resseq=0 icode= >, <Atom C11>), (<Model id=0>, <Chain id=C>, <Residue LIG het=  resseq=0 icode= >, <Atom C12>), (<Model id=0>, <Chain id=C>, <Residue LIG het=  resseq=0 icode= >, <Atom C13>), (<Model id=0>, <Chain id=C>, <Residue LIG het=  resseq=0 icode= >, <Atom C14>), (<Model id=0>, <Chain id=C>, <Residue LIG het=  resseq=0 icode= >, <Atom N1>), (<Model id=0>, <Chain id=C>, <Residue LIG het=  resseq=0 icode= >, <Atom FE1>), (<Model id=0>, <Chain id=C>, <Residue LIG het=  resseq=0 icode= >, <Atom N2>), (<Model id=0>, <Chain id=C>, <Residue LIG het=  resseq=0 icode= >, <Atom C19>), (<Model id=0>, <Chain id=C>, <Residue LIG het=  resseq=0 icode= >, <Atom C20>), (<Model id=0>, <Chain id=C>, <Residue LIG het=  resseq=0 icode= >, <Atom C21>), (<Model id=0>, <Chain id=C>, <Residue LIG het=  resseq=0 icode= >, <Atom C22>), (<Model id=0>, <Chain id=C>, <Residue LIG het=  resseq=0 icode= >, <Atom C23>), (<Model id=0>, <Chain id=C>, <Residue LIG het=  resseq=0 icode= >, <Atom C24>), (<Model id=0>, <Chain id=C>, <Residue LIG het=  resseq=0 icode= >, <Atom C25>), (<Model id=0>, <Chain id=C>, <Residue LIG het=  resseq=0 icode= >, <Atom C26>), (<Model id=0>, <Chain id=C>, <Residue LIG het=  resseq=0 icode= >, <Atom C27>), (<Model id=0>, <Chain id=C>, <Residue LIG het=  resseq=0 icode= >, <Atom O3>), (<Model id=0>, <Chain id=C>, <Residue LIG het=  resseq=0 icode= >, <Atom O4>), (<Model id=0>, <Chain id=C>, <Residue LIG het=  resseq=0 icode= >, <Atom C28>), (<Model id=0>, <Chain id=C>, <Residue LIG het=  resseq=0 icode= >, <Atom N3>), (<Model id=0>, <Chain id=C>, <Residue LIG het=  resseq=0 icode= >, <Atom C29>), (<Model id=0>, <Chain id=C>, <Residue LIG het=  resseq=0 icode= >, <Atom C30>), (<Model id=0>, <Chain id=C>, <Residue LIG het=  resseq=0 icode= >, <Atom N4>), (<Model id=0>, <Chain id=C>, <Residue LIG het=  resseq=0 icode= >, <Atom C31>), (<Model id=0>, <Chain id=C>, <Residue LIG het=  resseq=0 icode= >, <Atom C32>), (<Model id=0>, <Chain id=C>, <Residue LIG het=  resseq=0 icode= >, <Atom C33>), (<Model id=0>, <Chain id=C>, <Residue LIG het=  resseq=0 icode= >, <Atom C34>), (<Model id=0>, <Chain id=C>, <Residue LIG het=  resseq=0 icode= >, <Atom C35>), (<Model id=0>, <Chain id=C>, <Residue LIG het=  resseq=0 icode= >, <Atom C36>), (<Model id=0>, <Chain id=C>, <Residue LIG het=  resseq=0 icode= >, <Atom C37>), (<Model id=0>, <Chain id=C>, <Residue LIG het=  resseq=0 icode= >, <Atom C38>), (<Model id=0>, <Chain id=C>, <Residue LIG het=  resseq=0 icode= >, <Atom O5>), (<Model id=0>, <Chain id=C>, <Residue LIG het=  resseq=0 icode= >, <Atom O6>)]\n",
      "Substructure saved to /disk2/fli/REVIVAL2/zs/vina/chai/struct_seperate/ParLQ/F89A_0/carbene/carbene_temp.pdb\n",
      "Removing ions from zs/vina/chai/struct_seperate/ParLQ/F89A_0/carbene/carbene_temp.pdb\n",
      "Cleaned PDBQT file saved to: zs/vina/chai/struct_seperate/ParLQ/F89A_0/carbene/carbene.pdbqt\n",
      "Processing ligand heme\n",
      "Checking for ions...\n",
      "Processing ligand heme from zs/vina/chai/struct_seperate/ParLQ/F89A_0/F89A_0.pdb\n",
      "Substrate atoms: [(<Model id=0>, <Chain id=C>, <Residue LIG het=  resseq=0 icode= >, <Atom C15>), (<Model id=0>, <Chain id=C>, <Residue LIG het=  resseq=0 icode= >, <Atom C16>), (<Model id=0>, <Chain id=C>, <Residue LIG het=  resseq=0 icode= >, <Atom O1>), (<Model id=0>, <Chain id=C>, <Residue LIG het=  resseq=0 icode= >, <Atom O2>), (<Model id=0>, <Chain id=C>, <Residue LIG het=  resseq=0 icode= >, <Atom C17>), (<Model id=0>, <Chain id=C>, <Residue LIG het=  resseq=0 icode= >, <Atom C18>)]\n",
      "Rest atoms: [(<Model id=0>, <Chain id=C>, <Residue LIG het=  resseq=0 icode= >, <Atom C1>), (<Model id=0>, <Chain id=C>, <Residue LIG het=  resseq=0 icode= >, <Atom C2>), (<Model id=0>, <Chain id=C>, <Residue LIG het=  resseq=0 icode= >, <Atom C3>), (<Model id=0>, <Chain id=C>, <Residue LIG het=  resseq=0 icode= >, <Atom C4>), (<Model id=0>, <Chain id=C>, <Residue LIG het=  resseq=0 icode= >, <Atom C5>), (<Model id=0>, <Chain id=C>, <Residue LIG het=  resseq=0 icode= >, <Atom C6>), (<Model id=0>, <Chain id=C>, <Residue LIG het=  resseq=0 icode= >, <Atom C7>), (<Model id=0>, <Chain id=C>, <Residue LIG het=  resseq=0 icode= >, <Atom C8>), (<Model id=0>, <Chain id=C>, <Residue LIG het=  resseq=0 icode= >, <Atom C9>), (<Model id=0>, <Chain id=C>, <Residue LIG het=  resseq=0 icode= >, <Atom C10>), (<Model id=0>, <Chain id=C>, <Residue LIG het=  resseq=0 icode= >, <Atom C11>), (<Model id=0>, <Chain id=C>, <Residue LIG het=  resseq=0 icode= >, <Atom C12>), (<Model id=0>, <Chain id=C>, <Residue LIG het=  resseq=0 icode= >, <Atom C13>), (<Model id=0>, <Chain id=C>, <Residue LIG het=  resseq=0 icode= >, <Atom C14>), (<Model id=0>, <Chain id=C>, <Residue LIG het=  resseq=0 icode= >, <Atom N1>), (<Model id=0>, <Chain id=C>, <Residue LIG het=  resseq=0 icode= >, <Atom FE1>), (<Model id=0>, <Chain id=C>, <Residue LIG het=  resseq=0 icode= >, <Atom N2>), (<Model id=0>, <Chain id=C>, <Residue LIG het=  resseq=0 icode= >, <Atom C19>), (<Model id=0>, <Chain id=C>, <Residue LIG het=  resseq=0 icode= >, <Atom C20>), (<Model id=0>, <Chain id=C>, <Residue LIG het=  resseq=0 icode= >, <Atom C21>), (<Model id=0>, <Chain id=C>, <Residue LIG het=  resseq=0 icode= >, <Atom C22>), (<Model id=0>, <Chain id=C>, <Residue LIG het=  resseq=0 icode= >, <Atom C23>), (<Model id=0>, <Chain id=C>, <Residue LIG het=  resseq=0 icode= >, <Atom C24>), (<Model id=0>, <Chain id=C>, <Residue LIG het=  resseq=0 icode= >, <Atom C25>), (<Model id=0>, <Chain id=C>, <Residue LIG het=  resseq=0 icode= >, <Atom C26>), (<Model id=0>, <Chain id=C>, <Residue LIG het=  resseq=0 icode= >, <Atom C27>), (<Model id=0>, <Chain id=C>, <Residue LIG het=  resseq=0 icode= >, <Atom O3>), (<Model id=0>, <Chain id=C>, <Residue LIG het=  resseq=0 icode= >, <Atom O4>), (<Model id=0>, <Chain id=C>, <Residue LIG het=  resseq=0 icode= >, <Atom C28>), (<Model id=0>, <Chain id=C>, <Residue LIG het=  resseq=0 icode= >, <Atom N3>), (<Model id=0>, <Chain id=C>, <Residue LIG het=  resseq=0 icode= >, <Atom C29>), (<Model id=0>, <Chain id=C>, <Residue LIG het=  resseq=0 icode= >, <Atom C30>), (<Model id=0>, <Chain id=C>, <Residue LIG het=  resseq=0 icode= >, <Atom N4>), (<Model id=0>, <Chain id=C>, <Residue LIG het=  resseq=0 icode= >, <Atom C31>), (<Model id=0>, <Chain id=C>, <Residue LIG het=  resseq=0 icode= >, <Atom C32>), (<Model id=0>, <Chain id=C>, <Residue LIG het=  resseq=0 icode= >, <Atom C33>), (<Model id=0>, <Chain id=C>, <Residue LIG het=  resseq=0 icode= >, <Atom C34>), (<Model id=0>, <Chain id=C>, <Residue LIG het=  resseq=0 icode= >, <Atom C35>), (<Model id=0>, <Chain id=C>, <Residue LIG het=  resseq=0 icode= >, <Atom C36>), (<Model id=0>, <Chain id=C>, <Residue LIG het=  resseq=0 icode= >, <Atom C37>), (<Model id=0>, <Chain id=C>, <Residue LIG het=  resseq=0 icode= >, <Atom C38>), (<Model id=0>, <Chain id=C>, <Residue LIG het=  resseq=0 icode= >, <Atom O5>), (<Model id=0>, <Chain id=C>, <Residue LIG het=  resseq=0 icode= >, <Atom O6>)]\n",
      "Substructure saved to /disk2/fli/REVIVAL2/zs/vina/chai/struct_seperate/ParLQ/F89A_0/heme/heme_temp.pdb\n",
      "Removing ions from zs/vina/chai/struct_seperate/ParLQ/F89A_0/heme/heme_temp.pdb\n",
      "Cleaned PDBQT file saved to: zs/vina/chai/struct_seperate/ParLQ/F89A_0/heme/heme.pdbqt\n",
      "Processing ligand Fe\n",
      "Checking for ions...\n",
      "Processing ion Fe\n",
      "Ions matching 'FE' were successfully extracted to zs/vina/chai/struct_seperate/ParLQ/F89A_0/Fe/FE.pdb.\n",
      "cofactor_pdbqts: ['zs/vina/chai/struct_seperate/ParLQ/F89A_0/carbene/carbene.pdbqt', 'zs/vina/chai/struct_seperate/ParLQ/F89A_0/heme/heme.pdbqt', 'zs/vina/chai/struct_seperate/ParLQ/F89A_0/Fe/FE.pdbqt']\n",
      "Making zs/vina/chai/struct_seperate/ParLQ/F89A_0/F89A_0_heme ...\n",
      "cofactor2freeze: ['zs/vina/chai/struct_seperate/ParLQ/F89A_0/heme/heme.pdbqt', 'zs/vina/chai/struct_seperate/ParLQ/F89A_0/Fe/FE.pdbqt']\n",
      "cofactor2dock: ['zs/vina/chai/struct_seperate/ParLQ/F89A_0/carbene/carbene.pdbqt']\n",
      "Merging zs/vina/chai/struct_seperate/ParLQ/F89A_0/F89A_0/F89A_0.pdbqt\n",
      "Merging zs/vina/chai/struct_seperate/ParLQ/F89A_0/heme/heme.pdbqt\n",
      "Merging zs/vina/chai/struct_seperate/ParLQ/F89A_0/Fe/FE.pdbqt\n",
      "Combined ATOM lines saved to zs/vina/chai/struct_seperate/ParLQ/F89A_0/F89A_0_heme/F89A_0_heme.pdbqt\n",
      "Vina run (score-only) completed successfully. Log saved to: zs/vina/chai/struct_seperate/ParLQ/F89A_0/F89A_0-4-vinylanisole-substrate+carbene-score_only_log.txt\n"
     ]
    },
    {
     "data": {
      "text/plain": [
       "'zs/vina/chai/struct_seperate/ParLQ/F89A_0/F89A_0-4-vinylanisole-substrate+carbene-score_only_log.txt'"
      ]
     },
     "execution_count": 12,
     "metadata": {},
     "output_type": "execute_result"
    }
   ],
   "source": [
    "from REVIVAL.zs.vina import dock\n",
    "\n",
    "dock(\n",
    "    input_struct_path=\"/disk2/fli/REVIVAL2/zs/chai/struct_seperate/ParLQ/F89A/F89A_0.cif\",\n",
    "    dock_opt=\"substrate+carbene\",\n",
    "    score_only = True,\n",
    "    regen=True,\n",
    "    rerun=True\n",
    ")"
   ]
  },
  {
   "cell_type": "code",
   "execution_count": 18,
   "metadata": {},
   "outputs": [],
   "source": [
    "from rdkit import Chem\n",
    "from rdkit.Chem import AllChem\n",
    "\n",
    "def correct_borane_pdb(input_pdb: str, output_pdb: str):\n",
    "    \"\"\"\n",
    "    Correct a PDB file:\n",
    "    - Add a double bond between ATOM 5 (C3) and ATOM 6 (C4)\n",
    "    - Add a double bond between ATOM 2 (C1) and ATOM 3 (N1) with N1 as N+\n",
    "    - Add 3 hydrogens to B1 so that B1 is B-\n",
    "\n",
    "    Args:\n",
    "        input_pdb (str): Path to the input PDB file.\n",
    "        output_pdb (str): Path to save the corrected PDB file.\n",
    "    \"\"\"\n",
    "    # Load the molecule from the input PDB file\n",
    "    mol = Chem.MolFromPDBFile(input_pdb, removeHs=False)\n",
    "    if not mol:\n",
    "        raise ValueError(\"Could not parse the input PDB file.\")\n",
    "    \n",
    "    # Add hydrogens to the molecule\n",
    "    mol = Chem.AddHs(mol)\n",
    "\n",
    "    # Get the editable version of the molecule\n",
    "    emol = Chem.EditableMol(mol)\n",
    "\n",
    "    # Define bond indices (subtract 1 for zero-based indexing)\n",
    "    idx_B1 = 0  # ATOM 1 B1\n",
    "    idx_C1 = 1  # ATOM 2 C1\n",
    "    idx_N1 = 2  # ATOM 3 N1\n",
    "    idx_C3 = 4  # ATOM 5 C3\n",
    "    idx_C4 = 5  # ATOM 6 C4\n",
    "\n",
    "    # Add double bonds\n",
    "    emol.RemoveBond(idx_C1, idx_N1)  # Remove existing single bond\n",
    "    emol.AddBond(idx_C1, idx_N1, Chem.BondType.DOUBLE)  # Add double bond\n",
    "    emol.RemoveBond(idx_C3, idx_C4)  # Remove existing single bond\n",
    "    emol.AddBond(idx_C3, idx_C4, Chem.BondType.DOUBLE)  # Add double bond\n",
    "\n",
    "    # Modify charges\n",
    "    atom_N1 = emol.GetMol().GetAtomWithIdx(idx_N1)\n",
    "    atom_N1.SetFormalCharge(1)  # Set N1 as N+\n",
    "\n",
    "    atom_B1 = emol.GetMol().GetAtomWithIdx(idx_B1)\n",
    "    atom_B1.SetFormalCharge(-1)  # Set B1 as B-\n",
    "\n",
    "    # Add 3 hydrogens to B1\n",
    "    for _ in range(3):\n",
    "        h_idx = emol.AddAtom(Chem.Atom(\"H\"))  # Add hydrogen atom\n",
    "        emol.AddBond(idx_B1, h_idx, Chem.BondType.SINGLE)  # Bond H to B1\n",
    "\n",
    "    # Finalize the molecule\n",
    "    modified_mol = emol.GetMol()\n",
    "\n",
    "    # Recalculate properties (fix implicit valence issues)\n",
    "    Chem.SanitizeMol(modified_mol)\n",
    "\n",
    "    # Optimize the structure\n",
    "    AllChem.EmbedMolecule(modified_mol, useRandomCoords=False)\n",
    "    AllChem.UFFOptimizeMolecule(modified_mol)\n",
    "\n",
    "    # Save the modified molecule as a PDB file\n",
    "    with open(output_pdb, \"w\") as f:\n",
    "        f.write(Chem.MolToPDBBlock(modified_mol))\n",
    "    \n",
    "    print(f\"Corrected PDB file saved to {output_pdb}\")\n"
   ]
  },
  {
   "cell_type": "code",
   "execution_count": 20,
   "metadata": {},
   "outputs": [],
   "source": [
    "from REVIVAL.zs.vina import add_hydrogens_to_atoms"
   ]
  },
  {
   "cell_type": "code",
   "execution_count": 12,
   "metadata": {},
   "outputs": [],
   "source": [
    "import numpy as np\n",
    "from Bio.PDB import PDBParser, PDBIO, Atom\n",
    "import re\n",
    "\n",
    "\n",
    "def calculate_hydrogen_positions_sp3(atom, neighbors, bond_length=1.0):\n",
    "    \"\"\"\n",
    "    Calculate hydrogen positions for sp3 hybridization with tetrahedral geometry.\n",
    "\n",
    "    Args:\n",
    "        atom: The central atom (e.g., B in your case).\n",
    "        neighbors: List of neighboring atoms already bonded to the central atom.\n",
    "        bond_length: Desired bond length for the new H–X bond.\n",
    "\n",
    "    Returns:\n",
    "        List of np.ndarray: Coordinates for the new hydrogens.\n",
    "    \"\"\"\n",
    "    atom_coord = np.array(atom.coord)\n",
    "    neighbor_coords = [np.array(neighbor.coord) for neighbor in neighbors]\n",
    "\n",
    "    # Case: 1 neighbor (sp³ hybridized, tetrahedral geometry for 3 Hs)\n",
    "    if len(neighbor_coords) == 1:\n",
    "        neighbor_vec = neighbor_coords[0] - atom_coord\n",
    "        neighbor_vec /= np.linalg.norm(neighbor_vec)\n",
    "\n",
    "        # Generate two orthogonal vectors to the neighbor_vec\n",
    "        ortho_vec1 = np.cross(neighbor_vec, [1, 0, 0])\n",
    "        if np.linalg.norm(ortho_vec1) < 1e-6:  # Handle edge case where neighbor_vec || [1, 0, 0]\n",
    "            ortho_vec1 = np.cross(neighbor_vec, [0, 1, 0])\n",
    "        ortho_vec1 /= np.linalg.norm(ortho_vec1)\n",
    "\n",
    "        ortho_vec2 = np.cross(neighbor_vec, ortho_vec1)\n",
    "        ortho_vec2 /= np.linalg.norm(ortho_vec2)\n",
    "\n",
    "        # Scale the bond length to place hydrogens correctly\n",
    "        tetrahedral_dirs = [\n",
    "            (-neighbor_vec + ortho_vec1 + ortho_vec2),   # First hydrogen direction\n",
    "            (-neighbor_vec - ortho_vec1 + ortho_vec2),  # Second hydrogen direction\n",
    "            (-neighbor_vec - ortho_vec2),               # Third hydrogen direction\n",
    "        ]\n",
    "\n",
    "        # Normalize and scale directions to bond length\n",
    "        h_positions = [\n",
    "            atom_coord + bond_length * (direction / np.linalg.norm(direction))\n",
    "            for direction in tetrahedral_dirs\n",
    "        ]\n",
    "        return h_positions\n",
    "\n",
    "\n",
    "    # Case: Unsupported geometries\n",
    "    else:\n",
    "        raise ValueError(f\"Unsupported geometry for atom with {len(neighbor_coords)} neighbors.\")\n",
    "\n",
    "\n",
    "def add_hydrogens_to_boron(\n",
    "    input_pdb: str,\n",
    "    output_pdb: str,\n",
    "    target_atom=(\"B\", \"LIG\", \"B1\"),\n",
    "    bond_length=1.1,\n",
    "    neighbor_cutoff=1.6,\n",
    "):\n",
    "    \"\"\"\n",
    "    Adds three hydrogens to a specified boron atom in the input PDB file.\n",
    "    Args:\n",
    "        input_pdb: Path to the input PDB file.\n",
    "        output_pdb: Path to save the modified PDB file.\n",
    "        target_atom: Tuple (chain_id, residue_name, atom_name) identifying the target boron atom.\n",
    "        bond_length: Distance for the H-B bond.\n",
    "        neighbor_cutoff: Cutoff distance to identify neighbors.\n",
    "    \"\"\"\n",
    "    parser = PDBParser(QUIET=True)\n",
    "    structure = parser.get_structure(\"my_structure\", input_pdb)\n",
    "    model = structure[0]\n",
    "\n",
    "    chain_id, residue_name, atom_name = target_atom\n",
    "\n",
    "    # Locate the target atom\n",
    "    chain = model[chain_id]\n",
    "    residue = next(res for res in chain if res.resname.strip() == residue_name)\n",
    "    atom = next(a for a in residue if a.get_name().strip() == atom_name)\n",
    "\n",
    "    # Find neighbors of the target atom\n",
    "    neighbors = []\n",
    "    for neighbor in residue.get_atoms():\n",
    "        if neighbor is atom:\n",
    "            continue\n",
    "        dist = atom - neighbor\n",
    "        if dist < neighbor_cutoff:\n",
    "            neighbors.append(neighbor)\n",
    "\n",
    "    # Calculate new hydrogen positions\n",
    "    hydrogen_positions = calculate_hydrogen_positions_sp3(atom, neighbors, bond_length)\n",
    "\n",
    "    # Add hydrogens to the structure\n",
    "    for idx, h_coord in enumerate(hydrogen_positions, start=1):\n",
    "        h_name = f\"H{idx}\"[:4].ljust(4)\n",
    "        new_atom = Atom.Atom(\n",
    "            h_name.strip(),\n",
    "            h_coord,\n",
    "            bfactor=0.0,\n",
    "            occupancy=1.0,\n",
    "            altloc=\" \",\n",
    "            fullname=h_name,\n",
    "            serial_number=len(residue) + idx,\n",
    "            element=\"H\",\n",
    "        )\n",
    "        residue.add(new_atom)\n",
    "        print(f\"Added hydrogen {h_name.strip()} to {atom_name}\")\n",
    "\n",
    "    # Save the modified structure\n",
    "    io = PDBIO()\n",
    "    io.set_structure(structure)\n",
    "    io.save(output_pdb)\n",
    "    print(f\"Saved modified PDB to: {output_pdb}\")\n"
   ]
  },
  {
   "cell_type": "code",
   "execution_count": 13,
   "metadata": {},
   "outputs": [
    {
     "name": "stdout",
     "output_type": "stream",
     "text": [
      "Added hydrogen H1 to B1\n",
      "Added hydrogen H2 to B1\n",
      "Added hydrogen H3 to B1\n",
      "Saved modified PDB to: /disk2/fli/REVIVAL2/zs/vina/chai/struct_joint/Rma-CB/M99P:M100L:D102N:M103L_0/NHC-borane/NHC-borane_h.pdb\n"
     ]
    }
   ],
   "source": [
    "# Example Usage\n",
    "add_hydrogens_to_boron(\n",
    "    input_pdb=\"/disk2/fli/REVIVAL2/zs/vina/chai/struct_joint/Rma-CB/M99P:M100L:D102N:M103L_0/NHC-borane/NHC-borane.pdb\",\n",
    "    output_pdb=\"/disk2/fli/REVIVAL2/zs/vina/chai/struct_joint/Rma-CB/M99P:M100L:D102N:M103L_0/NHC-borane/NHC-borane_h.pdb\",\n",
    "    target_atom=(\"B\", \"LIG\", \"B1\"),\n",
    ")\n"
   ]
  },
  {
   "cell_type": "code",
   "execution_count": 7,
   "metadata": {},
   "outputs": [],
   "source": [
    "def process_boron_pdbqt(input_pdbqt: str, output_pdbqt: str):\n",
    "    \"\"\"\n",
    "    Process a PDBQT file to add necessary information for AutoDock Vina.\n",
    "\n",
    "    Args:\n",
    "        input_pdbqt (str): Path to the input PDBQT file.\n",
    "        output_pdbqt (str): Path to save the processed PDBQT file.\n",
    "    \"\"\"\n",
    "    with open(input_pdbqt, \"r\") as f:\n",
    "        lines = f.readlines()\n",
    "\n",
    "    processed_lines = []\n",
    "    atom_indices = []\n",
    "    conect_lines = []\n",
    "\n",
    "    for line in lines:\n",
    "        if line.startswith(\"ATOM\"):\n",
    "            # Extract atom information\n",
    "            atom_num = int(line[6:11].strip())\n",
    "            atom_name = line[12:16].strip()\n",
    "            element = line[77:79].strip()\n",
    "\n",
    "            # Add to atom indices for connectivity\n",
    "            atom_indices.append((atom_num, atom_name, element))\n",
    "            processed_lines.append(line)\n",
    "\n",
    "        elif line.startswith(\"TER\"):\n",
    "            processed_lines.append(line)\n",
    "\n",
    "    # Add connectivity (CONECT records)\n",
    "    for i, (atom_num, atom_name, element) in enumerate(atom_indices):\n",
    "        if element == \"B\":  # Boron requires three hydrogens (sp3 geometry)\n",
    "            bonded_atoms = [idx for idx, _, el in atom_indices if el == \"H\"]\n",
    "            for bonded_atom in bonded_atoms[:3]:\n",
    "                conect_lines.append(f\"CONECT{atom_num:5d}{bonded_atom:5d}\\n\")\n",
    "\n",
    "        # Add generic connectivity for neighbors (adjust as necessary for the molecule)\n",
    "        if element in {\"C\", \"N\"}:  # Carbon and Nitrogen connect nearby atoms\n",
    "            bonded_atoms = [\n",
    "                idx for idx, _, el in atom_indices if el in {\"C\", \"H\", \"B\"}\n",
    "            ]\n",
    "            for bonded_atom in bonded_atoms:\n",
    "                conect_lines.append(f\"CONECT{atom_num:5d}{bonded_atom:5d}\\n\")\n",
    "\n",
    "    # Add ROOT and BRANCH records\n",
    "    processed_lines.insert(0, \"ROOT\\n\")\n",
    "    for i, (atom_num, atom_name, element) in enumerate(atom_indices):\n",
    "        if element == \"B\":  # Assuming B is the central atom\n",
    "            processed_lines.append(f\"BRANCH   {atom_num}   {atom_num+1}\\n\")\n",
    "    processed_lines.append(\"ENDBRANCH\\n\")\n",
    "    processed_lines.append(\"TORSDOF 0\\n\")\n",
    "    processed_lines += conect_lines\n",
    "\n",
    "    # Write the processed PDBQT file\n",
    "    with open(output_pdbqt, \"w\") as f:\n",
    "        f.writelines(processed_lines)\n",
    "\n",
    "    print(f\"Processed PDBQT file saved to {output_pdbqt}\")"
   ]
  },
  {
   "cell_type": "code",
   "execution_count": 8,
   "metadata": {},
   "outputs": [
    {
     "name": "stdout",
     "output_type": "stream",
     "text": [
      "Processed PDBQT file saved to /disk2/fli/REVIVAL2/zs/vina/chai/struct_joint/Rma-CB/M99P:M100L:D102N:M103L_0/NHC-borane/NHC-borane_fixed.pdbqt\n"
     ]
    }
   ],
   "source": [
    "process_boron_pdbqt(\n",
    "    input_pdbqt=\"/disk2/fli/REVIVAL2/zs/vina/chai/struct_joint/Rma-CB/M99P:M100L:D102N:M103L_0/NHC-borane/NHC-borane.pdbqt\",\n",
    "    output_pdbqt=\"/disk2/fli/REVIVAL2/zs/vina/chai/struct_joint/Rma-CB/M99P:M100L:D102N:M103L_0/NHC-borane/NHC-borane_fixed.pdbqt\"\n",
    "    )"
   ]
  },
  {
   "cell_type": "code",
   "execution_count": 9,
   "metadata": {},
   "outputs": [
    {
     "name": "stderr",
     "output_type": "stream",
     "text": [
      "[10:30:37] Running Uncharger\n",
      "1 molecule converted\n"
     ]
    }
   ],
   "source": [
    "from REVIVAL.zs.vina import ligand_smiles2pdbqt\n",
    "\n",
    "ligand_smiles2pdbqt(\n",
    "    smiles=\"[BH3-]C1=[N+](C)C=CN1C\",\n",
    "    ligand_sdf_file=\"/disk2/fli/REVIVAL2/zs/vina/chai/struct_joint/Rma-CB/M99P:M100L:D102N:M103L_0/NHC-borane/NHC-borane.sdf\",\n",
    "    ligand_pdbqt_file=\"/disk2/fli/REVIVAL2/zs/vina/chai/struct_joint/Rma-CB/M99P:M100L:D102N:M103L_0/NHC-borane/NHC-borane_smiles.pdbqt\",\n",
    "    pH=7.4\n",
    ")"
   ]
  },
  {
   "cell_type": "code",
   "execution_count": 3,
   "metadata": {},
   "outputs": [],
   "source": [
    "from meeko import MoleculePreparation"
   ]
  },
  {
   "cell_type": "code",
   "execution_count": 5,
   "metadata": {},
   "outputs": [
    {
     "name": "stderr",
     "output_type": "stream",
     "text": [
      "==============================\n",
      "*** Open Babel Warning  in PerceiveBondOrders\n",
      "  Failed to kekulize aromatic bonds in OBMol::PerceiveBondOrders (title is model)\n",
      "\n",
      "1 molecule converted\n",
      "1 molecule converted\n"
     ]
    },
    {
     "name": "stdout",
     "output_type": "stream",
     "text": [
      "Processing ligand NHC-borane\n",
      "Checking for ions...\n",
      "Processing ligand NHC-borane from zs/vina/chai/struct_joint/Rma-CB/M99P:M100L:D102N:M103L_0/M99P:M100L:D102N:M103L_0.pdb\n",
      "Substrate atoms: [(<Model id=0>, <Chain id=B>, <Residue LIG het=  resseq=0 icode= >, <Atom B1>), (<Model id=0>, <Chain id=B>, <Residue LIG het=  resseq=0 icode= >, <Atom C1>), (<Model id=0>, <Chain id=B>, <Residue LIG het=  resseq=0 icode= >, <Atom N1>), (<Model id=0>, <Chain id=B>, <Residue LIG het=  resseq=0 icode= >, <Atom C2>), (<Model id=0>, <Chain id=B>, <Residue LIG het=  resseq=0 icode= >, <Atom C3>), (<Model id=0>, <Chain id=B>, <Residue LIG het=  resseq=0 icode= >, <Atom C4>), (<Model id=0>, <Chain id=B>, <Residue LIG het=  resseq=0 icode= >, <Atom N2>), (<Model id=0>, <Chain id=B>, <Residue LIG het=  resseq=0 icode= >, <Atom C5>)]\n",
      "Rest atoms: [(<Model id=0>, <Chain id=B>, <Residue LIG het=  resseq=0 icode= >, <Atom C6>), (<Model id=0>, <Chain id=B>, <Residue LIG het=  resseq=0 icode= >, <Atom C7>), (<Model id=0>, <Chain id=B>, <Residue LIG het=  resseq=0 icode= >, <Atom C8>), (<Model id=0>, <Chain id=B>, <Residue LIG het=  resseq=0 icode= >, <Atom C9>), (<Model id=0>, <Chain id=B>, <Residue LIG het=  resseq=0 icode= >, <Atom C10>), (<Model id=0>, <Chain id=B>, <Residue LIG het=  resseq=0 icode= >, <Atom C11>), (<Model id=0>, <Chain id=B>, <Residue LIG het=  resseq=0 icode= >, <Atom C12>), (<Model id=0>, <Chain id=B>, <Residue LIG het=  resseq=0 icode= >, <Atom C13>), (<Model id=0>, <Chain id=B>, <Residue LIG het=  resseq=0 icode= >, <Atom C14>), (<Model id=0>, <Chain id=B>, <Residue LIG het=  resseq=0 icode= >, <Atom C15>), (<Model id=0>, <Chain id=B>, <Residue LIG het=  resseq=0 icode= >, <Atom C16>), (<Model id=0>, <Chain id=B>, <Residue LIG het=  resseq=0 icode= >, <Atom C17>), (<Model id=0>, <Chain id=B>, <Residue LIG het=  resseq=0 icode= >, <Atom C18>), (<Model id=0>, <Chain id=B>, <Residue LIG het=  resseq=0 icode= >, <Atom C19>), (<Model id=0>, <Chain id=B>, <Residue LIG het=  resseq=0 icode= >, <Atom N3>), (<Model id=0>, <Chain id=B>, <Residue LIG het=  resseq=0 icode= >, <Atom FE1>), (<Model id=0>, <Chain id=B>, <Residue LIG het=  resseq=0 icode= >, <Atom C20>), (<Model id=0>, <Chain id=B>, <Residue LIG het=  resseq=0 icode= >, <Atom C21>), (<Model id=0>, <Chain id=B>, <Residue LIG het=  resseq=0 icode= >, <Atom C22>), (<Model id=0>, <Chain id=B>, <Residue LIG het=  resseq=0 icode= >, <Atom O1>), (<Model id=0>, <Chain id=B>, <Residue LIG het=  resseq=0 icode= >, <Atom O2>), (<Model id=0>, <Chain id=B>, <Residue LIG het=  resseq=0 icode= >, <Atom C23>), (<Model id=0>, <Chain id=B>, <Residue LIG het=  resseq=0 icode= >, <Atom C24>), (<Model id=0>, <Chain id=B>, <Residue LIG het=  resseq=0 icode= >, <Atom N4>), (<Model id=0>, <Chain id=B>, <Residue LIG het=  resseq=0 icode= >, <Atom C25>), (<Model id=0>, <Chain id=B>, <Residue LIG het=  resseq=0 icode= >, <Atom C26>), (<Model id=0>, <Chain id=B>, <Residue LIG het=  resseq=0 icode= >, <Atom C27>), (<Model id=0>, <Chain id=B>, <Residue LIG het=  resseq=0 icode= >, <Atom C28>), (<Model id=0>, <Chain id=B>, <Residue LIG het=  resseq=0 icode= >, <Atom C29>), (<Model id=0>, <Chain id=B>, <Residue LIG het=  resseq=0 icode= >, <Atom C30>), (<Model id=0>, <Chain id=B>, <Residue LIG het=  resseq=0 icode= >, <Atom C31>), (<Model id=0>, <Chain id=B>, <Residue LIG het=  resseq=0 icode= >, <Atom C32>), (<Model id=0>, <Chain id=B>, <Residue LIG het=  resseq=0 icode= >, <Atom C33>), (<Model id=0>, <Chain id=B>, <Residue LIG het=  resseq=0 icode= >, <Atom O3>), (<Model id=0>, <Chain id=B>, <Residue LIG het=  resseq=0 icode= >, <Atom O4>), (<Model id=0>, <Chain id=B>, <Residue LIG het=  resseq=0 icode= >, <Atom C34>), (<Model id=0>, <Chain id=B>, <Residue LIG het=  resseq=0 icode= >, <Atom N5>), (<Model id=0>, <Chain id=B>, <Residue LIG het=  resseq=0 icode= >, <Atom C35>), (<Model id=0>, <Chain id=B>, <Residue LIG het=  resseq=0 icode= >, <Atom C36>), (<Model id=0>, <Chain id=B>, <Residue LIG het=  resseq=0 icode= >, <Atom N6>), (<Model id=0>, <Chain id=B>, <Residue LIG het=  resseq=0 icode= >, <Atom C37>), (<Model id=0>, <Chain id=B>, <Residue LIG het=  resseq=0 icode= >, <Atom C38>), (<Model id=0>, <Chain id=B>, <Residue LIG het=  resseq=0 icode= >, <Atom C39>), (<Model id=0>, <Chain id=B>, <Residue LIG het=  resseq=0 icode= >, <Atom C40>), (<Model id=0>, <Chain id=B>, <Residue LIG het=  resseq=0 icode= >, <Atom C41>), (<Model id=0>, <Chain id=B>, <Residue LIG het=  resseq=0 icode= >, <Atom C42>), (<Model id=0>, <Chain id=B>, <Residue LIG het=  resseq=0 icode= >, <Atom C43>), (<Model id=0>, <Chain id=B>, <Residue LIG het=  resseq=0 icode= >, <Atom C44>), (<Model id=0>, <Chain id=B>, <Residue LIG het=  resseq=0 icode= >, <Atom O5>), (<Model id=0>, <Chain id=B>, <Residue LIG het=  resseq=0 icode= >, <Atom O6>)]\n",
      "Substructure saved to /disk2/fli/REVIVAL2/zs/vina/chai/struct_joint/Rma-CB/M99P:M100L:D102N:M103L_0/NHC-borane/NHC-borane_temp.pdb\n",
      "Removing ions from zs/vina/chai/struct_joint/Rma-CB/M99P:M100L:D102N:M103L_0/NHC-borane/NHC-borane_temp.pdb\n",
      "Added hydrogen H1 to B1\n",
      "Added hydrogen H2 to B1\n",
      "Added hydrogen H3 to B1\n",
      "Saved modified PDB to: zs/vina/chai/struct_joint/Rma-CB/M99P:M100L:D102N:M103L_0/NHC-borane/NHC-borane.pdb\n",
      "Cleaned PDBQT file saved to: zs/vina/chai/struct_joint/Rma-CB/M99P:M100L:D102N:M103L_0/NHC-borane/NHC-borane.pdbqt\n",
      "Processing cofactor carbene-heme C=CC1=C(C=C2C(C)=C(C=C)C3=[N]2[Fe]45(N6C(C(C)=C(CCC([O-])=O)C6=C7)=C3)=C(C)C(OCC)=O)N4C(C=C8[N]5=C7C(CCC([O-])=O)=C8C)=C1C using zs/vina/chai/struct_joint/Rma-CB/M99P:M100L:D102N:M103L_0/M99P:M100L:D102N:M103L_0.pdb\n",
      "Making zs/vina/chai/struct_joint/Rma-CB/M99P:M100L:D102N:M103L_0/carbene ...\n",
      "Processing ligand carbene\n",
      "Checking for ions...\n",
      "Processing ligand carbene from zs/vina/chai/struct_joint/Rma-CB/M99P:M100L:D102N:M103L_0/M99P:M100L:D102N:M103L_0.pdb\n",
      "Substrate atoms: [(<Model id=0>, <Chain id=B>, <Residue LIG het=  resseq=0 icode= >, <Atom C20>), (<Model id=0>, <Chain id=B>, <Residue LIG het=  resseq=0 icode= >, <Atom C21>), (<Model id=0>, <Chain id=B>, <Residue LIG het=  resseq=0 icode= >, <Atom C22>), (<Model id=0>, <Chain id=B>, <Residue LIG het=  resseq=0 icode= >, <Atom O1>), (<Model id=0>, <Chain id=B>, <Residue LIG het=  resseq=0 icode= >, <Atom O2>), (<Model id=0>, <Chain id=B>, <Residue LIG het=  resseq=0 icode= >, <Atom C23>), (<Model id=0>, <Chain id=B>, <Residue LIG het=  resseq=0 icode= >, <Atom C24>)]\n",
      "Rest atoms: [(<Model id=0>, <Chain id=B>, <Residue LIG het=  resseq=0 icode= >, <Atom B1>), (<Model id=0>, <Chain id=B>, <Residue LIG het=  resseq=0 icode= >, <Atom C1>), (<Model id=0>, <Chain id=B>, <Residue LIG het=  resseq=0 icode= >, <Atom N1>), (<Model id=0>, <Chain id=B>, <Residue LIG het=  resseq=0 icode= >, <Atom C2>), (<Model id=0>, <Chain id=B>, <Residue LIG het=  resseq=0 icode= >, <Atom C3>), (<Model id=0>, <Chain id=B>, <Residue LIG het=  resseq=0 icode= >, <Atom C4>), (<Model id=0>, <Chain id=B>, <Residue LIG het=  resseq=0 icode= >, <Atom N2>), (<Model id=0>, <Chain id=B>, <Residue LIG het=  resseq=0 icode= >, <Atom C5>), (<Model id=0>, <Chain id=B>, <Residue LIG het=  resseq=0 icode= >, <Atom C6>), (<Model id=0>, <Chain id=B>, <Residue LIG het=  resseq=0 icode= >, <Atom C7>), (<Model id=0>, <Chain id=B>, <Residue LIG het=  resseq=0 icode= >, <Atom C8>), (<Model id=0>, <Chain id=B>, <Residue LIG het=  resseq=0 icode= >, <Atom C9>), (<Model id=0>, <Chain id=B>, <Residue LIG het=  resseq=0 icode= >, <Atom C10>), (<Model id=0>, <Chain id=B>, <Residue LIG het=  resseq=0 icode= >, <Atom C11>), (<Model id=0>, <Chain id=B>, <Residue LIG het=  resseq=0 icode= >, <Atom C12>), (<Model id=0>, <Chain id=B>, <Residue LIG het=  resseq=0 icode= >, <Atom C13>), (<Model id=0>, <Chain id=B>, <Residue LIG het=  resseq=0 icode= >, <Atom C14>), (<Model id=0>, <Chain id=B>, <Residue LIG het=  resseq=0 icode= >, <Atom C15>), (<Model id=0>, <Chain id=B>, <Residue LIG het=  resseq=0 icode= >, <Atom C16>), (<Model id=0>, <Chain id=B>, <Residue LIG het=  resseq=0 icode= >, <Atom C17>), (<Model id=0>, <Chain id=B>, <Residue LIG het=  resseq=0 icode= >, <Atom C18>), (<Model id=0>, <Chain id=B>, <Residue LIG het=  resseq=0 icode= >, <Atom C19>), (<Model id=0>, <Chain id=B>, <Residue LIG het=  resseq=0 icode= >, <Atom N3>), (<Model id=0>, <Chain id=B>, <Residue LIG het=  resseq=0 icode= >, <Atom FE1>), (<Model id=0>, <Chain id=B>, <Residue LIG het=  resseq=0 icode= >, <Atom N4>), (<Model id=0>, <Chain id=B>, <Residue LIG het=  resseq=0 icode= >, <Atom C25>), (<Model id=0>, <Chain id=B>, <Residue LIG het=  resseq=0 icode= >, <Atom C26>), (<Model id=0>, <Chain id=B>, <Residue LIG het=  resseq=0 icode= >, <Atom C27>), (<Model id=0>, <Chain id=B>, <Residue LIG het=  resseq=0 icode= >, <Atom C28>), (<Model id=0>, <Chain id=B>, <Residue LIG het=  resseq=0 icode= >, <Atom C29>), (<Model id=0>, <Chain id=B>, <Residue LIG het=  resseq=0 icode= >, <Atom C30>), (<Model id=0>, <Chain id=B>, <Residue LIG het=  resseq=0 icode= >, <Atom C31>), (<Model id=0>, <Chain id=B>, <Residue LIG het=  resseq=0 icode= >, <Atom C32>), (<Model id=0>, <Chain id=B>, <Residue LIG het=  resseq=0 icode= >, <Atom C33>), (<Model id=0>, <Chain id=B>, <Residue LIG het=  resseq=0 icode= >, <Atom O3>), (<Model id=0>, <Chain id=B>, <Residue LIG het=  resseq=0 icode= >, <Atom O4>), (<Model id=0>, <Chain id=B>, <Residue LIG het=  resseq=0 icode= >, <Atom C34>), (<Model id=0>, <Chain id=B>, <Residue LIG het=  resseq=0 icode= >, <Atom N5>), (<Model id=0>, <Chain id=B>, <Residue LIG het=  resseq=0 icode= >, <Atom C35>), (<Model id=0>, <Chain id=B>, <Residue LIG het=  resseq=0 icode= >, <Atom C36>), (<Model id=0>, <Chain id=B>, <Residue LIG het=  resseq=0 icode= >, <Atom N6>), (<Model id=0>, <Chain id=B>, <Residue LIG het=  resseq=0 icode= >, <Atom C37>), (<Model id=0>, <Chain id=B>, <Residue LIG het=  resseq=0 icode= >, <Atom C38>), (<Model id=0>, <Chain id=B>, <Residue LIG het=  resseq=0 icode= >, <Atom C39>), (<Model id=0>, <Chain id=B>, <Residue LIG het=  resseq=0 icode= >, <Atom C40>), (<Model id=0>, <Chain id=B>, <Residue LIG het=  resseq=0 icode= >, <Atom C41>), (<Model id=0>, <Chain id=B>, <Residue LIG het=  resseq=0 icode= >, <Atom C42>), (<Model id=0>, <Chain id=B>, <Residue LIG het=  resseq=0 icode= >, <Atom C43>), (<Model id=0>, <Chain id=B>, <Residue LIG het=  resseq=0 icode= >, <Atom C44>), (<Model id=0>, <Chain id=B>, <Residue LIG het=  resseq=0 icode= >, <Atom O5>), (<Model id=0>, <Chain id=B>, <Residue LIG het=  resseq=0 icode= >, <Atom O6>)]\n",
      "Substructure saved to /disk2/fli/REVIVAL2/zs/vina/chai/struct_joint/Rma-CB/M99P:M100L:D102N:M103L_0/carbene/carbene_temp.pdb\n",
      "Removing ions from zs/vina/chai/struct_joint/Rma-CB/M99P:M100L:D102N:M103L_0/carbene/carbene_temp.pdb\n",
      "Cleaned PDBQT file saved to: zs/vina/chai/struct_joint/Rma-CB/M99P:M100L:D102N:M103L_0/carbene/carbene.pdbqt\n",
      "Making zs/vina/chai/struct_joint/Rma-CB/M99P:M100L:D102N:M103L_0/heme ...\n",
      "Processing ligand heme\n",
      "Checking for ions...\n",
      "Processing ligand heme from zs/vina/chai/struct_joint/Rma-CB/M99P:M100L:D102N:M103L_0/M99P:M100L:D102N:M103L_0.pdb\n",
      "Substrate atoms: [(<Model id=0>, <Chain id=B>, <Residue LIG het=  resseq=0 icode= >, <Atom B1>), (<Model id=0>, <Chain id=B>, <Residue LIG het=  resseq=0 icode= >, <Atom C1>), (<Model id=0>, <Chain id=B>, <Residue LIG het=  resseq=0 icode= >, <Atom N1>), (<Model id=0>, <Chain id=B>, <Residue LIG het=  resseq=0 icode= >, <Atom C2>), (<Model id=0>, <Chain id=B>, <Residue LIG het=  resseq=0 icode= >, <Atom C3>), (<Model id=0>, <Chain id=B>, <Residue LIG het=  resseq=0 icode= >, <Atom C4>), (<Model id=0>, <Chain id=B>, <Residue LIG het=  resseq=0 icode= >, <Atom N2>), (<Model id=0>, <Chain id=B>, <Residue LIG het=  resseq=0 icode= >, <Atom C5>), (<Model id=0>, <Chain id=B>, <Residue LIG het=  resseq=0 icode= >, <Atom C20>), (<Model id=0>, <Chain id=B>, <Residue LIG het=  resseq=0 icode= >, <Atom C21>), (<Model id=0>, <Chain id=B>, <Residue LIG het=  resseq=0 icode= >, <Atom C22>), (<Model id=0>, <Chain id=B>, <Residue LIG het=  resseq=0 icode= >, <Atom O1>), (<Model id=0>, <Chain id=B>, <Residue LIG het=  resseq=0 icode= >, <Atom O2>), (<Model id=0>, <Chain id=B>, <Residue LIG het=  resseq=0 icode= >, <Atom C23>), (<Model id=0>, <Chain id=B>, <Residue LIG het=  resseq=0 icode= >, <Atom C24>)]\n",
      "Rest atoms: [(<Model id=0>, <Chain id=B>, <Residue LIG het=  resseq=0 icode= >, <Atom C6>), (<Model id=0>, <Chain id=B>, <Residue LIG het=  resseq=0 icode= >, <Atom C7>), (<Model id=0>, <Chain id=B>, <Residue LIG het=  resseq=0 icode= >, <Atom C8>), (<Model id=0>, <Chain id=B>, <Residue LIG het=  resseq=0 icode= >, <Atom C9>), (<Model id=0>, <Chain id=B>, <Residue LIG het=  resseq=0 icode= >, <Atom C10>), (<Model id=0>, <Chain id=B>, <Residue LIG het=  resseq=0 icode= >, <Atom C11>), (<Model id=0>, <Chain id=B>, <Residue LIG het=  resseq=0 icode= >, <Atom C12>), (<Model id=0>, <Chain id=B>, <Residue LIG het=  resseq=0 icode= >, <Atom C13>), (<Model id=0>, <Chain id=B>, <Residue LIG het=  resseq=0 icode= >, <Atom C14>), (<Model id=0>, <Chain id=B>, <Residue LIG het=  resseq=0 icode= >, <Atom C15>), (<Model id=0>, <Chain id=B>, <Residue LIG het=  resseq=0 icode= >, <Atom C16>), (<Model id=0>, <Chain id=B>, <Residue LIG het=  resseq=0 icode= >, <Atom C17>), (<Model id=0>, <Chain id=B>, <Residue LIG het=  resseq=0 icode= >, <Atom C18>), (<Model id=0>, <Chain id=B>, <Residue LIG het=  resseq=0 icode= >, <Atom C19>), (<Model id=0>, <Chain id=B>, <Residue LIG het=  resseq=0 icode= >, <Atom N3>), (<Model id=0>, <Chain id=B>, <Residue LIG het=  resseq=0 icode= >, <Atom FE1>), (<Model id=0>, <Chain id=B>, <Residue LIG het=  resseq=0 icode= >, <Atom N4>), (<Model id=0>, <Chain id=B>, <Residue LIG het=  resseq=0 icode= >, <Atom C25>), (<Model id=0>, <Chain id=B>, <Residue LIG het=  resseq=0 icode= >, <Atom C26>), (<Model id=0>, <Chain id=B>, <Residue LIG het=  resseq=0 icode= >, <Atom C27>), (<Model id=0>, <Chain id=B>, <Residue LIG het=  resseq=0 icode= >, <Atom C28>), (<Model id=0>, <Chain id=B>, <Residue LIG het=  resseq=0 icode= >, <Atom C29>), (<Model id=0>, <Chain id=B>, <Residue LIG het=  resseq=0 icode= >, <Atom C30>), (<Model id=0>, <Chain id=B>, <Residue LIG het=  resseq=0 icode= >, <Atom C31>), (<Model id=0>, <Chain id=B>, <Residue LIG het=  resseq=0 icode= >, <Atom C32>), (<Model id=0>, <Chain id=B>, <Residue LIG het=  resseq=0 icode= >, <Atom C33>), (<Model id=0>, <Chain id=B>, <Residue LIG het=  resseq=0 icode= >, <Atom O3>), (<Model id=0>, <Chain id=B>, <Residue LIG het=  resseq=0 icode= >, <Atom O4>), (<Model id=0>, <Chain id=B>, <Residue LIG het=  resseq=0 icode= >, <Atom C34>), (<Model id=0>, <Chain id=B>, <Residue LIG het=  resseq=0 icode= >, <Atom N5>), (<Model id=0>, <Chain id=B>, <Residue LIG het=  resseq=0 icode= >, <Atom C35>), (<Model id=0>, <Chain id=B>, <Residue LIG het=  resseq=0 icode= >, <Atom C36>), (<Model id=0>, <Chain id=B>, <Residue LIG het=  resseq=0 icode= >, <Atom N6>), (<Model id=0>, <Chain id=B>, <Residue LIG het=  resseq=0 icode= >, <Atom C37>), (<Model id=0>, <Chain id=B>, <Residue LIG het=  resseq=0 icode= >, <Atom C38>), (<Model id=0>, <Chain id=B>, <Residue LIG het=  resseq=0 icode= >, <Atom C39>), (<Model id=0>, <Chain id=B>, <Residue LIG het=  resseq=0 icode= >, <Atom C40>), (<Model id=0>, <Chain id=B>, <Residue LIG het=  resseq=0 icode= >, <Atom C41>), (<Model id=0>, <Chain id=B>, <Residue LIG het=  resseq=0 icode= >, <Atom C42>), (<Model id=0>, <Chain id=B>, <Residue LIG het=  resseq=0 icode= >, <Atom C43>), (<Model id=0>, <Chain id=B>, <Residue LIG het=  resseq=0 icode= >, <Atom C44>), (<Model id=0>, <Chain id=B>, <Residue LIG het=  resseq=0 icode= >, <Atom O5>), (<Model id=0>, <Chain id=B>, <Residue LIG het=  resseq=0 icode= >, <Atom O6>)]\n",
      "Substructure saved to /disk2/fli/REVIVAL2/zs/vina/chai/struct_joint/Rma-CB/M99P:M100L:D102N:M103L_0/heme/heme_temp.pdb\n",
      "Removing ions from zs/vina/chai/struct_joint/Rma-CB/M99P:M100L:D102N:M103L_0/heme/heme_temp.pdb\n",
      "Cleaned PDBQT file saved to: zs/vina/chai/struct_joint/Rma-CB/M99P:M100L:D102N:M103L_0/heme/heme.pdbqt\n",
      "Making zs/vina/chai/struct_joint/Rma-CB/M99P:M100L:D102N:M103L_0/Fe ...\n",
      "Processing ligand Fe\n",
      "Checking for ions...\n",
      "Processing ion Fe\n",
      "Ions matching 'FE' were successfully extracted to zs/vina/chai/struct_joint/Rma-CB/M99P:M100L:D102N:M103L_0/Fe/FE.pdb.\n"
     ]
    },
    {
     "name": "stderr",
     "output_type": "stream",
     "text": [
      "1 molecule converted\n"
     ]
    },
    {
     "name": "stdout",
     "output_type": "stream",
     "text": [
      "cofactor_pdbqts: ['zs/vina/chai/struct_joint/Rma-CB/M99P:M100L:D102N:M103L_0/carbene/carbene.pdbqt', 'zs/vina/chai/struct_joint/Rma-CB/M99P:M100L:D102N:M103L_0/heme/heme.pdbqt', 'zs/vina/chai/struct_joint/Rma-CB/M99P:M100L:D102N:M103L_0/Fe/FE.pdbqt']\n",
      "Making zs/vina/chai/struct_joint/Rma-CB/M99P:M100L:D102N:M103L_0/M99P:M100L:D102N:M103L_0_cofactors ...\n",
      "Merging zs/vina/chai/struct_joint/Rma-CB/M99P:M100L:D102N:M103L_0/M99P:M100L:D102N:M103L_0/M99P:M100L:D102N:M103L_0.pdbqt\n",
      "Merging zs/vina/chai/struct_joint/Rma-CB/M99P:M100L:D102N:M103L_0/carbene/carbene.pdbqt\n",
      "Merging zs/vina/chai/struct_joint/Rma-CB/M99P:M100L:D102N:M103L_0/heme/heme.pdbqt\n",
      "Merging zs/vina/chai/struct_joint/Rma-CB/M99P:M100L:D102N:M103L_0/Fe/FE.pdbqt\n",
      "Combined ATOM lines saved to zs/vina/chai/struct_joint/Rma-CB/M99P:M100L:D102N:M103L_0/M99P:M100L:D102N:M103L_0_cofactors/M99P:M100L:D102N:M103L_0_cofactors.pdbqt\n",
      "Error during Vina run: Command '['vina', '--config', 'zs/vina/chai/struct_joint/Rma-CB/M99P:M100L:D102N:M103L_0/M99P:M100L:D102N:M103L_0-NHC-borane-substrate_conf.txt', '--out', 'zs/vina/chai/struct_joint/Rma-CB/M99P:M100L:D102N:M103L_0/M99P:M100L:D102N:M103L_0-NHC-borane-substrate-score_only.pdb', '--score_only']' returned non-zero exit status 1.\n"
     ]
    },
    {
     "ename": "CalledProcessError",
     "evalue": "Command '['vina', '--config', 'zs/vina/chai/struct_joint/Rma-CB/M99P:M100L:D102N:M103L_0/M99P:M100L:D102N:M103L_0-NHC-borane-substrate_conf.txt', '--out', 'zs/vina/chai/struct_joint/Rma-CB/M99P:M100L:D102N:M103L_0/M99P:M100L:D102N:M103L_0-NHC-borane-substrate-score_only.pdb', '--score_only']' returned non-zero exit status 1.",
     "output_type": "error",
     "traceback": [
      "\u001b[0;31m---------------------------------------------------------------------------\u001b[0m",
      "\u001b[0;31mCalledProcessError\u001b[0m                        Traceback (most recent call last)",
      "Cell \u001b[0;32mIn[5], line 3\u001b[0m\n\u001b[1;32m      1\u001b[0m \u001b[38;5;28;01mfrom\u001b[39;00m \u001b[38;5;21;01mREVIVAL\u001b[39;00m\u001b[38;5;21;01m.\u001b[39;00m\u001b[38;5;21;01mzs\u001b[39;00m\u001b[38;5;21;01m.\u001b[39;00m\u001b[38;5;21;01mvina\u001b[39;00m \u001b[38;5;28;01mimport\u001b[39;00m dock\n\u001b[0;32m----> 3\u001b[0m \u001b[43mdock\u001b[49m\u001b[43m(\u001b[49m\n\u001b[1;32m      4\u001b[0m \u001b[43m    \u001b[49m\u001b[43minput_struct_path\u001b[49m\u001b[38;5;241;43m=\u001b[39;49m\u001b[38;5;124;43m\"\u001b[39;49m\u001b[38;5;124;43m/disk2/fli/REVIVAL2/zs/chai/struct_joint/Rma-CB/M99P:M100L:D102N:M103L/M99P:M100L:D102N:M103L_0.cif\u001b[39;49m\u001b[38;5;124;43m\"\u001b[39;49m\u001b[43m,\u001b[49m\n\u001b[1;32m      5\u001b[0m \u001b[43m    \u001b[49m\u001b[43mdock_opt\u001b[49m\u001b[38;5;241;43m=\u001b[39;49m\u001b[38;5;124;43m\"\u001b[39;49m\u001b[38;5;124;43msubstrate\u001b[39;49m\u001b[38;5;124;43m\"\u001b[39;49m\u001b[43m,\u001b[49m\n\u001b[1;32m      6\u001b[0m \u001b[43m    \u001b[49m\u001b[43mscore_only\u001b[49m\u001b[43m \u001b[49m\u001b[38;5;241;43m=\u001b[39;49m\u001b[43m \u001b[49m\u001b[38;5;28;43;01mTrue\u001b[39;49;00m\u001b[43m,\u001b[49m\n\u001b[1;32m      7\u001b[0m \u001b[43m    \u001b[49m\u001b[43mregen\u001b[49m\u001b[38;5;241;43m=\u001b[39;49m\u001b[38;5;28;43;01mTrue\u001b[39;49;00m\u001b[43m,\u001b[49m\n\u001b[1;32m      8\u001b[0m \u001b[43m    \u001b[49m\u001b[43mrerun\u001b[49m\u001b[38;5;241;43m=\u001b[39;49m\u001b[38;5;28;43;01mTrue\u001b[39;49;00m\n\u001b[1;32m      9\u001b[0m \u001b[43m)\u001b[49m\n",
      "File \u001b[0;32m~/REVIVAL2/REVIVAL/zs/vina.py:1378\u001b[0m, in \u001b[0;36mdock\u001b[0;34m(input_struct_path, dock_opt, score_only, lib_name, cofactor_dets, vina_dir, residues4centriod, from_pdb, pH, size_x, size_y, size_z, num_modes, exhaustiveness, regen, rerun, num_cpus, seed)\u001b[0m\n\u001b[1;32m   1374\u001b[0m         cmd_list \u001b[38;5;241m+\u001b[39m\u001b[38;5;241m=\u001b[39m [\u001b[38;5;124m\"\u001b[39m\u001b[38;5;124m--cpu\u001b[39m\u001b[38;5;124m\"\u001b[39m, \u001b[38;5;28mstr\u001b[39m(num_cpus)]\n\u001b[1;32m   1376\u001b[0m \u001b[38;5;28;01mtry\u001b[39;00m:\n\u001b[1;32m   1377\u001b[0m     \u001b[38;5;66;03m# Run the Vina command\u001b[39;00m\n\u001b[0;32m-> 1378\u001b[0m     cmd_return \u001b[38;5;241m=\u001b[39m \u001b[43msubprocess\u001b[49m\u001b[38;5;241;43m.\u001b[39;49m\u001b[43mrun\u001b[49m\u001b[43m(\u001b[49m\n\u001b[1;32m   1379\u001b[0m \u001b[43m        \u001b[49m\u001b[43mcmd_list\u001b[49m\u001b[43m,\u001b[49m\n\u001b[1;32m   1380\u001b[0m \u001b[43m        \u001b[49m\u001b[43mstdout\u001b[49m\u001b[38;5;241;43m=\u001b[39;49m\u001b[43msubprocess\u001b[49m\u001b[38;5;241;43m.\u001b[39;49m\u001b[43mPIPE\u001b[49m\u001b[43m,\u001b[49m\n\u001b[1;32m   1381\u001b[0m \u001b[43m        \u001b[49m\u001b[43mstderr\u001b[49m\u001b[38;5;241;43m=\u001b[39;49m\u001b[43msubprocess\u001b[49m\u001b[38;5;241;43m.\u001b[39;49m\u001b[43mSTDOUT\u001b[49m\u001b[43m,\u001b[49m\n\u001b[1;32m   1382\u001b[0m \u001b[43m        \u001b[49m\u001b[43mcheck\u001b[49m\u001b[38;5;241;43m=\u001b[39;49m\u001b[38;5;28;43;01mTrue\u001b[39;49;00m\u001b[43m,\u001b[49m\u001b[43m  \u001b[49m\u001b[38;5;66;43;03m# Ensures subprocess raises an exception on error\u001b[39;49;00m\n\u001b[1;32m   1383\u001b[0m \u001b[43m    \u001b[49m\u001b[43m)\u001b[49m\n\u001b[1;32m   1385\u001b[0m     \u001b[38;5;66;03m# Write the Vina output to the log file\u001b[39;00m\n\u001b[1;32m   1386\u001b[0m     \u001b[38;5;28;01mwith\u001b[39;00m \u001b[38;5;28mopen\u001b[39m(vina_logfile, \u001b[38;5;124m\"\u001b[39m\u001b[38;5;124mw\u001b[39m\u001b[38;5;124m\"\u001b[39m) \u001b[38;5;28;01mas\u001b[39;00m fout:\n",
      "File \u001b[0;32m~/miniconda3/envs/vina/lib/python3.9/subprocess.py:528\u001b[0m, in \u001b[0;36mrun\u001b[0;34m(input, capture_output, timeout, check, *popenargs, **kwargs)\u001b[0m\n\u001b[1;32m    526\u001b[0m     retcode \u001b[38;5;241m=\u001b[39m process\u001b[38;5;241m.\u001b[39mpoll()\n\u001b[1;32m    527\u001b[0m     \u001b[38;5;28;01mif\u001b[39;00m check \u001b[38;5;129;01mand\u001b[39;00m retcode:\n\u001b[0;32m--> 528\u001b[0m         \u001b[38;5;28;01mraise\u001b[39;00m CalledProcessError(retcode, process\u001b[38;5;241m.\u001b[39margs,\n\u001b[1;32m    529\u001b[0m                                  output\u001b[38;5;241m=\u001b[39mstdout, stderr\u001b[38;5;241m=\u001b[39mstderr)\n\u001b[1;32m    530\u001b[0m \u001b[38;5;28;01mreturn\u001b[39;00m CompletedProcess(process\u001b[38;5;241m.\u001b[39margs, retcode, stdout, stderr)\n",
      "\u001b[0;31mCalledProcessError\u001b[0m: Command '['vina', '--config', 'zs/vina/chai/struct_joint/Rma-CB/M99P:M100L:D102N:M103L_0/M99P:M100L:D102N:M103L_0-NHC-borane-substrate_conf.txt', '--out', 'zs/vina/chai/struct_joint/Rma-CB/M99P:M100L:D102N:M103L_0/M99P:M100L:D102N:M103L_0-NHC-borane-substrate-score_only.pdb', '--score_only']' returned non-zero exit status 1."
     ]
    }
   ],
   "source": [
    "from REVIVAL.zs.vina import dock\n",
    "\n",
    "dock(\n",
    "    input_struct_path=\"/disk2/fli/REVIVAL2/zs/chai/struct_joint/Rma-CB/M99P:M100L:D102N:M103L/M99P:M100L:D102N:M103L_0.cif\",\n",
    "    dock_opt=\"substrate\",\n",
    "    score_only = True,\n",
    "    regen=True,\n",
    "    rerun=True\n",
    ")"
   ]
  },
  {
   "cell_type": "code",
   "execution_count": 15,
   "metadata": {},
   "outputs": [
    {
     "name": "stdout",
     "output_type": "stream",
     "text": [
      "Making zs/vina/chai/struct_joint/Rma-CSi ...\n",
      "Making zs/vina/chai/struct_joint/Rma-CSi/M99P:M100L:D102N:M103L_0 ...\n",
      "Making zs/vina/chai/struct_joint/Rma-CSi/M99P:M100L:D102N:M103L_0/M99P:M100L:D102N:M103L_0 ...\n"
     ]
    },
    {
     "name": "stderr",
     "output_type": "stream",
     "text": [
      "==============================\n",
      "*** Open Babel Warning  in PerceiveBondOrders\n",
      "  Failed to kekulize aromatic bonds in OBMol::PerceiveBondOrders (title is model)\n",
      "\n",
      "1 molecule converted\n"
     ]
    },
    {
     "name": "stdout",
     "output_type": "stream",
     "text": [
      "Making zs/vina/chai/struct_joint/Rma-CSi/M99P:M100L:D102N:M103L_0/phenyldimethylsilane ...\n",
      "Processing ligand phenyldimethylsilane\n",
      "Checking for ions...\n",
      "Processing ligand phenyldimethylsilane from zs/vina/chai/struct_joint/Rma-CSi/M99P:M100L:D102N:M103L_0/M99P:M100L:D102N:M103L_0.pdb\n",
      "Substrate atoms: [(<Model id=0>, <Chain id=B>, <Residue LIG het=  resseq=0 icode= >, <Atom C1>), (<Model id=0>, <Chain id=B>, <Residue LIG het=  resseq=0 icode= >, <Atom SI1>), (<Model id=0>, <Chain id=B>, <Residue LIG het=  resseq=0 icode= >, <Atom C2>), (<Model id=0>, <Chain id=B>, <Residue LIG het=  resseq=0 icode= >, <Atom C3>), (<Model id=0>, <Chain id=B>, <Residue LIG het=  resseq=0 icode= >, <Atom C4>), (<Model id=0>, <Chain id=B>, <Residue LIG het=  resseq=0 icode= >, <Atom C5>), (<Model id=0>, <Chain id=B>, <Residue LIG het=  resseq=0 icode= >, <Atom C6>), (<Model id=0>, <Chain id=B>, <Residue LIG het=  resseq=0 icode= >, <Atom C7>), (<Model id=0>, <Chain id=B>, <Residue LIG het=  resseq=0 icode= >, <Atom C8>)]\n",
      "Rest atoms: [(<Model id=0>, <Chain id=B>, <Residue LIG het=  resseq=0 icode= >, <Atom C9>), (<Model id=0>, <Chain id=B>, <Residue LIG het=  resseq=0 icode= >, <Atom C10>), (<Model id=0>, <Chain id=B>, <Residue LIG het=  resseq=0 icode= >, <Atom C11>), (<Model id=0>, <Chain id=B>, <Residue LIG het=  resseq=0 icode= >, <Atom C12>), (<Model id=0>, <Chain id=B>, <Residue LIG het=  resseq=0 icode= >, <Atom C13>), (<Model id=0>, <Chain id=B>, <Residue LIG het=  resseq=0 icode= >, <Atom C14>), (<Model id=0>, <Chain id=B>, <Residue LIG het=  resseq=0 icode= >, <Atom C15>), (<Model id=0>, <Chain id=B>, <Residue LIG het=  resseq=0 icode= >, <Atom C16>), (<Model id=0>, <Chain id=B>, <Residue LIG het=  resseq=0 icode= >, <Atom C17>), (<Model id=0>, <Chain id=B>, <Residue LIG het=  resseq=0 icode= >, <Atom C18>), (<Model id=0>, <Chain id=B>, <Residue LIG het=  resseq=0 icode= >, <Atom C19>), (<Model id=0>, <Chain id=B>, <Residue LIG het=  resseq=0 icode= >, <Atom C20>), (<Model id=0>, <Chain id=B>, <Residue LIG het=  resseq=0 icode= >, <Atom C21>), (<Model id=0>, <Chain id=B>, <Residue LIG het=  resseq=0 icode= >, <Atom C22>), (<Model id=0>, <Chain id=B>, <Residue LIG het=  resseq=0 icode= >, <Atom N1>), (<Model id=0>, <Chain id=B>, <Residue LIG het=  resseq=0 icode= >, <Atom FE1>), (<Model id=0>, <Chain id=B>, <Residue LIG het=  resseq=0 icode= >, <Atom C23>), (<Model id=0>, <Chain id=B>, <Residue LIG het=  resseq=0 icode= >, <Atom C24>), (<Model id=0>, <Chain id=B>, <Residue LIG het=  resseq=0 icode= >, <Atom C25>), (<Model id=0>, <Chain id=B>, <Residue LIG het=  resseq=0 icode= >, <Atom O1>), (<Model id=0>, <Chain id=B>, <Residue LIG het=  resseq=0 icode= >, <Atom O2>), (<Model id=0>, <Chain id=B>, <Residue LIG het=  resseq=0 icode= >, <Atom C26>), (<Model id=0>, <Chain id=B>, <Residue LIG het=  resseq=0 icode= >, <Atom C27>), (<Model id=0>, <Chain id=B>, <Residue LIG het=  resseq=0 icode= >, <Atom N2>), (<Model id=0>, <Chain id=B>, <Residue LIG het=  resseq=0 icode= >, <Atom C28>), (<Model id=0>, <Chain id=B>, <Residue LIG het=  resseq=0 icode= >, <Atom C29>), (<Model id=0>, <Chain id=B>, <Residue LIG het=  resseq=0 icode= >, <Atom C30>), (<Model id=0>, <Chain id=B>, <Residue LIG het=  resseq=0 icode= >, <Atom C31>), (<Model id=0>, <Chain id=B>, <Residue LIG het=  resseq=0 icode= >, <Atom C32>), (<Model id=0>, <Chain id=B>, <Residue LIG het=  resseq=0 icode= >, <Atom C33>), (<Model id=0>, <Chain id=B>, <Residue LIG het=  resseq=0 icode= >, <Atom C34>), (<Model id=0>, <Chain id=B>, <Residue LIG het=  resseq=0 icode= >, <Atom C35>), (<Model id=0>, <Chain id=B>, <Residue LIG het=  resseq=0 icode= >, <Atom C36>), (<Model id=0>, <Chain id=B>, <Residue LIG het=  resseq=0 icode= >, <Atom O3>), (<Model id=0>, <Chain id=B>, <Residue LIG het=  resseq=0 icode= >, <Atom O4>), (<Model id=0>, <Chain id=B>, <Residue LIG het=  resseq=0 icode= >, <Atom C37>), (<Model id=0>, <Chain id=B>, <Residue LIG het=  resseq=0 icode= >, <Atom N3>), (<Model id=0>, <Chain id=B>, <Residue LIG het=  resseq=0 icode= >, <Atom C38>), (<Model id=0>, <Chain id=B>, <Residue LIG het=  resseq=0 icode= >, <Atom C39>), (<Model id=0>, <Chain id=B>, <Residue LIG het=  resseq=0 icode= >, <Atom N4>), (<Model id=0>, <Chain id=B>, <Residue LIG het=  resseq=0 icode= >, <Atom C40>), (<Model id=0>, <Chain id=B>, <Residue LIG het=  resseq=0 icode= >, <Atom C41>), (<Model id=0>, <Chain id=B>, <Residue LIG het=  resseq=0 icode= >, <Atom C42>), (<Model id=0>, <Chain id=B>, <Residue LIG het=  resseq=0 icode= >, <Atom C43>), (<Model id=0>, <Chain id=B>, <Residue LIG het=  resseq=0 icode= >, <Atom C44>), (<Model id=0>, <Chain id=B>, <Residue LIG het=  resseq=0 icode= >, <Atom C45>), (<Model id=0>, <Chain id=B>, <Residue LIG het=  resseq=0 icode= >, <Atom C46>), (<Model id=0>, <Chain id=B>, <Residue LIG het=  resseq=0 icode= >, <Atom C47>), (<Model id=0>, <Chain id=B>, <Residue LIG het=  resseq=0 icode= >, <Atom O5>), (<Model id=0>, <Chain id=B>, <Residue LIG het=  resseq=0 icode= >, <Atom O6>)]\n",
      "Substructure saved to /disk2/fli/REVIVAL2/zs/vina/chai/struct_joint/Rma-CSi/M99P:M100L:D102N:M103L_0/phenyldimethylsilane/phenyldimethylsilane_temp.pdb\n",
      "Removing ions from zs/vina/chai/struct_joint/Rma-CSi/M99P:M100L:D102N:M103L_0/phenyldimethylsilane/phenyldimethylsilane_temp.pdb\n",
      "Cleaned PDBQT file saved to: zs/vina/chai/struct_joint/Rma-CSi/M99P:M100L:D102N:M103L_0/phenyldimethylsilane/phenyldimethylsilane.pdbqt\n"
     ]
    },
    {
     "name": "stderr",
     "output_type": "stream",
     "text": [
      "1 molecule converted\n"
     ]
    },
    {
     "ename": "ValueError",
     "evalue": "PDBQT file for phenyldimethylsilane is empty or missing.",
     "output_type": "error",
     "traceback": [
      "\u001b[0;31m---------------------------------------------------------------------------\u001b[0m",
      "\u001b[0;31mValueError\u001b[0m                                Traceback (most recent call last)",
      "Cell \u001b[0;32mIn[15], line 3\u001b[0m\n\u001b[1;32m      1\u001b[0m \u001b[38;5;28;01mfrom\u001b[39;00m \u001b[38;5;21;01mREVIVAL\u001b[39;00m\u001b[38;5;21;01m.\u001b[39;00m\u001b[38;5;21;01mzs\u001b[39;00m\u001b[38;5;21;01m.\u001b[39;00m\u001b[38;5;21;01mvina\u001b[39;00m \u001b[38;5;28;01mimport\u001b[39;00m dock\n\u001b[0;32m----> 3\u001b[0m \u001b[43mdock\u001b[49m\u001b[43m(\u001b[49m\n\u001b[1;32m      4\u001b[0m \u001b[43m    \u001b[49m\u001b[43minput_struct_path\u001b[49m\u001b[38;5;241;43m=\u001b[39;49m\u001b[38;5;124;43m\"\u001b[39;49m\u001b[38;5;124;43m/disk2/fli/REVIVAL2/zs/chai/struct_joint/Rma-CSi/M99P:M100L:D102N:M103L/M99P:M100L:D102N:M103L_0.cif\u001b[39;49m\u001b[38;5;124;43m\"\u001b[39;49m\u001b[43m,\u001b[49m\n\u001b[1;32m      5\u001b[0m \u001b[43m    \u001b[49m\u001b[43mdock_opt\u001b[49m\u001b[38;5;241;43m=\u001b[39;49m\u001b[38;5;124;43m\"\u001b[39;49m\u001b[38;5;124;43msubstrate\u001b[39;49m\u001b[38;5;124;43m\"\u001b[39;49m\u001b[43m,\u001b[49m\n\u001b[1;32m      6\u001b[0m \u001b[43m    \u001b[49m\u001b[43mscore_only\u001b[49m\u001b[43m \u001b[49m\u001b[38;5;241;43m=\u001b[39;49m\u001b[43m \u001b[49m\u001b[38;5;28;43;01mTrue\u001b[39;49;00m\u001b[43m,\u001b[49m\n\u001b[1;32m      7\u001b[0m \u001b[43m    \u001b[49m\u001b[43mregen\u001b[49m\u001b[38;5;241;43m=\u001b[39;49m\u001b[38;5;28;43;01mTrue\u001b[39;49;00m\u001b[43m,\u001b[49m\n\u001b[1;32m      8\u001b[0m \u001b[43m    \u001b[49m\u001b[43mrerun\u001b[49m\u001b[38;5;241;43m=\u001b[39;49m\u001b[38;5;28;43;01mTrue\u001b[39;49;00m\n\u001b[1;32m      9\u001b[0m \u001b[43m)\u001b[49m\n",
      "File \u001b[0;32m~/REVIVAL2/REVIVAL/zs/vina.py:1111\u001b[0m, in \u001b[0;36mdock\u001b[0;34m(input_struct_path, dock_opt, score_only, lib_name, cofactor_dets, vina_dir, residues4centriod, from_pdb, pH, size_x, size_y, size_z, num_modes, exhaustiveness, regen, rerun, num_cpus, seed)\u001b[0m\n\u001b[1;32m   1108\u001b[0m substrate_hinfo \u001b[38;5;241m=\u001b[39m lib_info\u001b[38;5;241m.\u001b[39mget(\u001b[38;5;124mf\u001b[39m\u001b[38;5;124m\"\u001b[39m\u001b[38;5;124msubstrate-addH_\u001b[39m\u001b[38;5;132;01m{\u001b[39;00mstruct_tpye\u001b[38;5;132;01m}\u001b[39;00m\u001b[38;5;124m_\u001b[39m\u001b[38;5;132;01m{\u001b[39;00minput_struct_dock_opt\u001b[38;5;132;01m}\u001b[39;00m\u001b[38;5;124m\"\u001b[39m, \u001b[38;5;28;01mNone\u001b[39;00m)\n\u001b[1;32m   1110\u001b[0m \u001b[38;5;66;03m# Process the main ligand\u001b[39;00m\n\u001b[0;32m-> 1111\u001b[0m ligand_pdbqt \u001b[38;5;241m=\u001b[39m \u001b[43mformat_ligand\u001b[49m\u001b[43m(\u001b[49m\n\u001b[1;32m   1112\u001b[0m \u001b[43m    \u001b[49m\u001b[43msmiles\u001b[49m\u001b[38;5;241;43m=\u001b[39;49m\u001b[43mlib_info\u001b[49m\u001b[43m[\u001b[49m\u001b[38;5;124;43m\"\u001b[39;49m\u001b[38;5;124;43msubstrate-smiles\u001b[39;49m\u001b[38;5;124;43m\"\u001b[39;49m\u001b[43m]\u001b[49m\u001b[43m,\u001b[49m\n\u001b[1;32m   1113\u001b[0m \u001b[43m    \u001b[49m\u001b[43mligand_name\u001b[49m\u001b[38;5;241;43m=\u001b[39;49m\u001b[43msubstrate_name\u001b[49m\u001b[43m,\u001b[49m\n\u001b[1;32m   1114\u001b[0m \u001b[43m    \u001b[49m\u001b[43mvar_dir\u001b[49m\u001b[38;5;241;43m=\u001b[39;49m\u001b[43mvar_dir\u001b[49m\u001b[43m,\u001b[49m\n\u001b[1;32m   1115\u001b[0m \u001b[43m    \u001b[49m\u001b[43mpH\u001b[49m\u001b[38;5;241;43m=\u001b[39;49m\u001b[43mpH\u001b[49m\u001b[43m,\u001b[49m\n\u001b[1;32m   1116\u001b[0m \u001b[43m    \u001b[49m\u001b[43msubstruct_criteria\u001b[49m\u001b[38;5;241;43m=\u001b[39;49m\u001b[38;5;124;43m\"\u001b[39;49m\u001b[38;5;124;43minclude\u001b[39;49m\u001b[38;5;124;43m\"\u001b[39;49m\u001b[43m,\u001b[49m\n\u001b[1;32m   1117\u001b[0m \u001b[43m    \u001b[49m\u001b[43mfrom_pdb\u001b[49m\u001b[38;5;241;43m=\u001b[39;49m\u001b[43mfrom_pdb\u001b[49m\u001b[43m,\u001b[49m\n\u001b[1;32m   1118\u001b[0m \u001b[43m    \u001b[49m\u001b[43minput_struct_path\u001b[49m\u001b[38;5;241;43m=\u001b[39;49m\u001b[43mclean_input_file\u001b[49m\u001b[43m,\u001b[49m\n\u001b[1;32m   1119\u001b[0m \u001b[43m    \u001b[49m\u001b[43mligand_info\u001b[49m\u001b[38;5;241;43m=\u001b[39;49m\u001b[43mligand_info\u001b[49m\u001b[43m,\u001b[49m\n\u001b[1;32m   1120\u001b[0m \u001b[43m    \u001b[49m\u001b[43mligand_chain_id\u001b[49m\u001b[38;5;241;43m=\u001b[39;49m\u001b[43mligand_chain_id\u001b[49m\u001b[43m,\u001b[49m\n\u001b[1;32m   1121\u001b[0m \u001b[43m    \u001b[49m\u001b[43mtarget_list_addh\u001b[49m\u001b[38;5;241;43m=\u001b[39;49m\u001b[43msubstrate_hinfo\u001b[49m\u001b[43m,\u001b[49m\n\u001b[1;32m   1122\u001b[0m \u001b[43m    \u001b[49m\u001b[43mdouble_bond_pairs\u001b[49m\u001b[38;5;241;43m=\u001b[39;49m\u001b[38;5;28;43;01mNone\u001b[39;49;00m\u001b[43m,\u001b[49m\n\u001b[1;32m   1123\u001b[0m \u001b[43m    \u001b[49m\u001b[43mregen\u001b[49m\u001b[38;5;241;43m=\u001b[39;49m\u001b[43mregen\u001b[49m\u001b[43m,\u001b[49m\n\u001b[1;32m   1124\u001b[0m \u001b[43m\u001b[49m\u001b[43m)\u001b[49m\n\u001b[1;32m   1126\u001b[0m \u001b[38;5;66;03m# Process all cofactors from the input pdb\u001b[39;00m\n\u001b[1;32m   1127\u001b[0m cofactor_pdbqts \u001b[38;5;241m=\u001b[39m []\n",
      "File \u001b[0;32m~/REVIVAL2/REVIVAL/zs/vina.py:434\u001b[0m, in \u001b[0;36mformat_ligand\u001b[0;34m(smiles, ligand_name, var_dir, input_struct_path, pH, from_pdb, if_substrate, ligand_chain_id, ligand_info, substruct_criteria, regen, target_list_addh, double_bond_pairs)\u001b[0m\n\u001b[1;32m    429\u001b[0m     \u001b[38;5;66;03m# Validate output\u001b[39;00m\n\u001b[1;32m    430\u001b[0m     \u001b[38;5;28;01mif\u001b[39;00m (\n\u001b[1;32m    431\u001b[0m         \u001b[38;5;129;01mnot\u001b[39;00m os\u001b[38;5;241m.\u001b[39mpath\u001b[38;5;241m.\u001b[39misfile(ligand_pdbqt_file)\n\u001b[1;32m    432\u001b[0m         \u001b[38;5;129;01mor\u001b[39;00m os\u001b[38;5;241m.\u001b[39mpath\u001b[38;5;241m.\u001b[39mgetsize(ligand_pdbqt_file) \u001b[38;5;241m==\u001b[39m \u001b[38;5;241m0\u001b[39m\n\u001b[1;32m    433\u001b[0m     ):\n\u001b[0;32m--> 434\u001b[0m         \u001b[38;5;28;01mraise\u001b[39;00m \u001b[38;5;167;01mValueError\u001b[39;00m(\u001b[38;5;124mf\u001b[39m\u001b[38;5;124m\"\u001b[39m\u001b[38;5;124mPDBQT file for \u001b[39m\u001b[38;5;132;01m{\u001b[39;00mligand_name\u001b[38;5;132;01m}\u001b[39;00m\u001b[38;5;124m is empty or missing.\u001b[39m\u001b[38;5;124m\"\u001b[39m)\n\u001b[1;32m    436\u001b[0m     \u001b[38;5;28;01mreturn\u001b[39;00m ligand_pdbqt_file\n\u001b[1;32m    438\u001b[0m \u001b[38;5;66;03m# if not from pdb, then we need to convert from smiles\u001b[39;00m\n",
      "\u001b[0;31mValueError\u001b[0m: PDBQT file for phenyldimethylsilane is empty or missing."
     ]
    }
   ],
   "source": [
    "from REVIVAL.zs.vina import dock\n",
    "\n",
    "dock(\n",
    "    input_struct_path=\"/disk2/fli/REVIVAL2/zs/chai/struct_joint/Rma-CSi/M99P:M100L:D102N:M103L/M99P:M100L:D102N:M103L_0.cif\",\n",
    "    dock_opt=\"substrate\",\n",
    "    score_only = True,\n",
    "    regen=True,\n",
    "    rerun=True\n",
    ")"
   ]
  },
  {
   "cell_type": "code",
   "execution_count": null,
   "metadata": {},
   "outputs": [],
   "source": []
  }
 ],
 "metadata": {
  "kernelspec": {
   "display_name": "vina",
   "language": "python",
   "name": "python3"
  },
  "language_info": {
   "codemirror_mode": {
    "name": "ipython",
    "version": 3
   },
   "file_extension": ".py",
   "mimetype": "text/x-python",
   "name": "python",
   "nbconvert_exporter": "python",
   "pygments_lexer": "ipython3",
   "version": "3.9.7"
  }
 },
 "nbformat": 4,
 "nbformat_minor": 2
}
