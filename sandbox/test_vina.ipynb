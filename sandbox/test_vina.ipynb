{
 "cells": [
  {
   "cell_type": "code",
   "execution_count": 1,
   "metadata": {},
   "outputs": [
    {
     "name": "stdout",
     "output_type": "stream",
     "text": [
      "/disk2/fli/REVIVAL2\n"
     ]
    }
   ],
   "source": [
    "%cd ~/REVIVAL2\n",
    "%load_ext autoreload\n",
    "%autoreload 2\n",
    "# %load_ext blackcellmagic"
   ]
  },
  {
   "cell_type": "code",
   "execution_count": 2,
   "metadata": {},
   "outputs": [
    {
     "name": "stdout",
     "output_type": "stream",
     "text": [
      "Python: 3.9.7 | packaged by conda-forge | (default, Sep 29 2021, 19:23:11) \n",
      "[GCC 9.4.0]\n",
      "NumPy: 2.0.2\n",
      "OpenMM: 7.7.0.dev-130124a\n",
      "Environment: environ({'USER': 'fli', 'SSH_CLIENT': '131.215.248.215 51133 22', 'XDG_SESSION_TYPE': 'tty', 'SHLVL': '2', 'MOTD_SHOWN': 'pam', 'HOME': '/disk2/fli', 'SSL_CERT_FILE': '/usr/lib/ssl/certs/ca-certificates.crt', 'DBUS_SESSION_BUS_ADDRESS': 'unix:path=/run/user/1002/bus', 'LOGNAME': 'fli', '_': '/disk2/fli/miniconda3/envs/vina/bin/python', 'XDG_SESSION_CLASS': 'user', 'XDG_SESSION_ID': '11950', 'VSCODE_CLI_REQUIRE_TOKEN': 'd9008fe8-a0c8-421f-820a-d1266d5fe39d', 'PATH': '/disk2/fli/miniconda3/envs/vina/bin:/disk2/fli/.vscode-server/cli/servers/Stable-91fbdddc47bc9c09064bf7acf133d22631cbf083/server/bin/remote-cli:/disk2/fli/.local/bin:/disk2/fli/openmpi/bin:/disk2/fli/orca_6_0_1:/disk2/fli/miniconda3/envs/vina/bin:/disk2/fli/miniconda3/condabin:/disk2/fli/.local/bin:/usr/local/sbin:/usr/local/bin:/usr/sbin:/usr/bin:/sbin:/bin:/usr/games:/usr/local/games:/snap/bin', 'VSCODE_AGENT_FOLDER': '/disk2/fli/.vscode-server', 'XDG_RUNTIME_DIR': '/run/user/1002', 'SSL_CERT_DIR': '/usr/lib/ssl/certs', 'LANG': 'en_US.UTF-8', 'SHELL': '/bin/bash', 'PWD': '/disk2/fli', 'SSH_CONNECTION': '131.215.248.215 51133 131.215.19.19 22', 'VSCODE_CWD': '/disk2/fli', 'VSCODE_NLS_CONFIG': '{\"userLocale\":\"en\",\"osLocale\":\"en\",\"resolvedLanguage\":\"en\",\"defaultMessagesFile\":\"/disk2/fli/.vscode-server/cli/servers/Stable-91fbdddc47bc9c09064bf7acf133d22631cbf083/server/out/nls.messages.json\",\"locale\":\"en\",\"availableLanguages\":{}}', 'VSCODE_HANDLES_SIGPIPE': 'true', 'CONDA_EXE': '/disk2/fli/miniconda3/bin/conda', '_CE_M': '', 'CONDA_PREFIX': '/disk2/fli/miniconda3/envs/vina', 'LS_COLORS': '', 'CONDA_PROMPT_MODIFIER': '(vina) ', 'LESSCLOSE': '/usr/bin/lesspipe %s %s', '_CE_CONDA': '', 'LESSOPEN': '| /usr/bin/lesspipe %s', 'CONDA_SHLVL': '2', 'CONDA_PYTHON_EXE': '/disk2/fli/miniconda3/bin/python', 'LD_LIBRARY_PATH': '/disk2/fli/openmpi/lib:', 'CONDA_DEFAULT_ENV': 'vina', 'VSCODE_ESM_ENTRYPOINT': 'vs/workbench/api/node/extensionHostProcess', 'VSCODE_HANDLES_UNCAUGHT_ERRORS': 'true', 'BROWSER': '/disk2/fli/.vscode-server/cli/servers/Stable-91fbdddc47bc9c09064bf7acf133d22631cbf083/server/bin/helpers/browser.sh', 'ELECTRON_RUN_AS_NODE': '1', 'VSCODE_IPC_HOOK_CLI': '/run/user/1002/vscode-ipc-adc517d3-3fa9-44bd-a1f2-62ecb2e2c45c.sock', 'PYTHONUNBUFFERED': '1', 'CONDA_MKL_INTERFACE_LAYER_BACKUP': '', 'XML_CATALOG_FILES': 'file:///disk2/fli/miniconda3/envs/vina/etc/xml/catalog file:///etc/xml/catalog', 'GSETTINGS_SCHEMA_DIR': '/disk2/fli/miniconda3/envs/vina/share/glib-2.0/schemas', 'CONDA_ROOT': '/disk2/fli/miniconda3', 'GSETTINGS_SCHEMA_DIR_CONDA_BACKUP': '', 'PYTHONIOENCODING': 'utf-8', 'CONDA_PREFIX_1': '/disk2/fli/miniconda3', 'MKL_INTERFACE_LAYER': 'LP64,GNU', 'PYDEVD_IPYTHON_COMPATIBLE_DEBUGGING': '1', 'PYTHON_FROZEN_MODULES': 'on', 'PYDEVD_USE_FRAME_EVAL': 'NO', 'TERM': 'xterm-color', 'CLICOLOR': '1', 'FORCE_COLOR': '1', 'CLICOLOR_FORCE': '1', 'PAGER': 'cat', 'GIT_PAGER': 'cat', 'MPLBACKEND': 'module://matplotlib_inline.backend_inline'})\n"
     ]
    }
   ],
   "source": [
    "import sys\n",
    "import os\n",
    "import numpy\n",
    "import openmm\n",
    "print(f\"Python: {sys.version}\")\n",
    "print(f\"NumPy: {numpy.__version__}\")\n",
    "print(f\"OpenMM: {openmm.version.version}\")\n",
    "print(f\"Environment: {os.environ}\")"
   ]
  },
  {
   "cell_type": "code",
   "execution_count": 5,
   "metadata": {},
   "outputs": [
    {
     "name": "stdout",
     "output_type": "stream",
     "text": [
      "Making zs/vina/chai/struct_joint/Rma-CB/M99P:M100L:D102N:M103L_0 ...\n",
      "Making zs/vina/chai/struct_joint/Rma-CB/M99P:M100L:D102N:M103L_0/M99P:M100L:D102N:M103L_0 ...\n"
     ]
    },
    {
     "name": "stderr",
     "output_type": "stream",
     "text": [
      "==============================\n",
      "*** Open Babel Warning  in PerceiveBondOrders\n",
      "  Failed to kekulize aromatic bonds in OBMol::PerceiveBondOrders (title is model)\n",
      "\n",
      "1 molecule converted\n",
      "1 molecule converted\n",
      "1 molecule converted\n"
     ]
    },
    {
     "name": "stdout",
     "output_type": "stream",
     "text": [
      "Making zs/vina/chai/struct_joint/Rma-CB/M99P:M100L:D102N:M103L_0/NHC-borane ...\n",
      "Processing ligand NHC-borane\n",
      "Checking for ions...\n",
      "Processing ligand NHC-borane from zs/vina/chai/struct_joint/Rma-CB/M99P:M100L:D102N:M103L_0/M99P:M100L:D102N:M103L_0.pdb\n",
      "Substrate atoms: [(<Model id=0>, <Chain id=B>, <Residue LIG het=  resseq=0 icode= >, <Atom B1>), (<Model id=0>, <Chain id=B>, <Residue LIG het=  resseq=0 icode= >, <Atom C1>), (<Model id=0>, <Chain id=B>, <Residue LIG het=  resseq=0 icode= >, <Atom N1>), (<Model id=0>, <Chain id=B>, <Residue LIG het=  resseq=0 icode= >, <Atom C2>), (<Model id=0>, <Chain id=B>, <Residue LIG het=  resseq=0 icode= >, <Atom C3>), (<Model id=0>, <Chain id=B>, <Residue LIG het=  resseq=0 icode= >, <Atom C4>), (<Model id=0>, <Chain id=B>, <Residue LIG het=  resseq=0 icode= >, <Atom N2>), (<Model id=0>, <Chain id=B>, <Residue LIG het=  resseq=0 icode= >, <Atom C5>)]\n",
      "Rest atoms: [(<Model id=0>, <Chain id=B>, <Residue LIG het=  resseq=0 icode= >, <Atom C6>), (<Model id=0>, <Chain id=B>, <Residue LIG het=  resseq=0 icode= >, <Atom C7>), (<Model id=0>, <Chain id=B>, <Residue LIG het=  resseq=0 icode= >, <Atom C8>), (<Model id=0>, <Chain id=B>, <Residue LIG het=  resseq=0 icode= >, <Atom C9>), (<Model id=0>, <Chain id=B>, <Residue LIG het=  resseq=0 icode= >, <Atom C10>), (<Model id=0>, <Chain id=B>, <Residue LIG het=  resseq=0 icode= >, <Atom C11>), (<Model id=0>, <Chain id=B>, <Residue LIG het=  resseq=0 icode= >, <Atom C12>), (<Model id=0>, <Chain id=B>, <Residue LIG het=  resseq=0 icode= >, <Atom C13>), (<Model id=0>, <Chain id=B>, <Residue LIG het=  resseq=0 icode= >, <Atom C14>), (<Model id=0>, <Chain id=B>, <Residue LIG het=  resseq=0 icode= >, <Atom C15>), (<Model id=0>, <Chain id=B>, <Residue LIG het=  resseq=0 icode= >, <Atom C16>), (<Model id=0>, <Chain id=B>, <Residue LIG het=  resseq=0 icode= >, <Atom C17>), (<Model id=0>, <Chain id=B>, <Residue LIG het=  resseq=0 icode= >, <Atom C18>), (<Model id=0>, <Chain id=B>, <Residue LIG het=  resseq=0 icode= >, <Atom C19>), (<Model id=0>, <Chain id=B>, <Residue LIG het=  resseq=0 icode= >, <Atom N3>), (<Model id=0>, <Chain id=B>, <Residue LIG het=  resseq=0 icode= >, <Atom FE1>), (<Model id=0>, <Chain id=B>, <Residue LIG het=  resseq=0 icode= >, <Atom C20>), (<Model id=0>, <Chain id=B>, <Residue LIG het=  resseq=0 icode= >, <Atom C21>), (<Model id=0>, <Chain id=B>, <Residue LIG het=  resseq=0 icode= >, <Atom C22>), (<Model id=0>, <Chain id=B>, <Residue LIG het=  resseq=0 icode= >, <Atom O1>), (<Model id=0>, <Chain id=B>, <Residue LIG het=  resseq=0 icode= >, <Atom O2>), (<Model id=0>, <Chain id=B>, <Residue LIG het=  resseq=0 icode= >, <Atom C23>), (<Model id=0>, <Chain id=B>, <Residue LIG het=  resseq=0 icode= >, <Atom C24>), (<Model id=0>, <Chain id=B>, <Residue LIG het=  resseq=0 icode= >, <Atom N4>), (<Model id=0>, <Chain id=B>, <Residue LIG het=  resseq=0 icode= >, <Atom C25>), (<Model id=0>, <Chain id=B>, <Residue LIG het=  resseq=0 icode= >, <Atom C26>), (<Model id=0>, <Chain id=B>, <Residue LIG het=  resseq=0 icode= >, <Atom C27>), (<Model id=0>, <Chain id=B>, <Residue LIG het=  resseq=0 icode= >, <Atom C28>), (<Model id=0>, <Chain id=B>, <Residue LIG het=  resseq=0 icode= >, <Atom C29>), (<Model id=0>, <Chain id=B>, <Residue LIG het=  resseq=0 icode= >, <Atom C30>), (<Model id=0>, <Chain id=B>, <Residue LIG het=  resseq=0 icode= >, <Atom C31>), (<Model id=0>, <Chain id=B>, <Residue LIG het=  resseq=0 icode= >, <Atom C32>), (<Model id=0>, <Chain id=B>, <Residue LIG het=  resseq=0 icode= >, <Atom C33>), (<Model id=0>, <Chain id=B>, <Residue LIG het=  resseq=0 icode= >, <Atom O3>), (<Model id=0>, <Chain id=B>, <Residue LIG het=  resseq=0 icode= >, <Atom O4>), (<Model id=0>, <Chain id=B>, <Residue LIG het=  resseq=0 icode= >, <Atom C34>), (<Model id=0>, <Chain id=B>, <Residue LIG het=  resseq=0 icode= >, <Atom N5>), (<Model id=0>, <Chain id=B>, <Residue LIG het=  resseq=0 icode= >, <Atom C35>), (<Model id=0>, <Chain id=B>, <Residue LIG het=  resseq=0 icode= >, <Atom C36>), (<Model id=0>, <Chain id=B>, <Residue LIG het=  resseq=0 icode= >, <Atom N6>), (<Model id=0>, <Chain id=B>, <Residue LIG het=  resseq=0 icode= >, <Atom C37>), (<Model id=0>, <Chain id=B>, <Residue LIG het=  resseq=0 icode= >, <Atom C38>), (<Model id=0>, <Chain id=B>, <Residue LIG het=  resseq=0 icode= >, <Atom C39>), (<Model id=0>, <Chain id=B>, <Residue LIG het=  resseq=0 icode= >, <Atom C40>), (<Model id=0>, <Chain id=B>, <Residue LIG het=  resseq=0 icode= >, <Atom C41>), (<Model id=0>, <Chain id=B>, <Residue LIG het=  resseq=0 icode= >, <Atom C42>), (<Model id=0>, <Chain id=B>, <Residue LIG het=  resseq=0 icode= >, <Atom C43>), (<Model id=0>, <Chain id=B>, <Residue LIG het=  resseq=0 icode= >, <Atom C44>), (<Model id=0>, <Chain id=B>, <Residue LIG het=  resseq=0 icode= >, <Atom O5>), (<Model id=0>, <Chain id=B>, <Residue LIG het=  resseq=0 icode= >, <Atom O6>)]\n",
      "Substructure saved to /disk2/fli/REVIVAL2/zs/vina/chai/struct_joint/Rma-CB/M99P:M100L:D102N:M103L_0/NHC-borane/NHC-borane_temp.pdb\n",
      "Removing ions from zs/vina/chai/struct_joint/Rma-CB/M99P:M100L:D102N:M103L_0/NHC-borane/NHC-borane_temp.pdb\n",
      "Added hydrogen H1 to B1\n",
      "Added hydrogen H2 to B1\n",
      "Added hydrogen H3 to B1\n",
      "Saved modified PDB to: zs/vina/chai/struct_joint/Rma-CB/M99P:M100L:D102N:M103L_0/NHC-borane/NHC-borane.pdb\n",
      "Processed PDBQT file saved to: zs/vina/chai/struct_joint/Rma-CB/M99P:M100L:D102N:M103L_0/NHC-borane/NHC-borane.pdbqt\n",
      "Processing cofactor carbene-heme C=CC1=C(C=C2C(C)=C(C=C)C3=[N]2[Fe]45(N6C(C(C)=C(CCC([O-])=O)C6=C7)=C3)=C(C)C(OCC)=O)N4C(C=C8[N]5=C7C(CCC([O-])=O)=C8C)=C1C using zs/vina/chai/struct_joint/Rma-CB/M99P:M100L:D102N:M103L_0/M99P:M100L:D102N:M103L_0.pdb\n",
      "Making zs/vina/chai/struct_joint/Rma-CB/M99P:M100L:D102N:M103L_0/carbene ...\n",
      "Processing ligand carbene\n",
      "Checking for ions...\n",
      "Processing ligand carbene from zs/vina/chai/struct_joint/Rma-CB/M99P:M100L:D102N:M103L_0/M99P:M100L:D102N:M103L_0.pdb\n",
      "Substrate atoms: [(<Model id=0>, <Chain id=B>, <Residue LIG het=  resseq=0 icode= >, <Atom C20>), (<Model id=0>, <Chain id=B>, <Residue LIG het=  resseq=0 icode= >, <Atom C21>), (<Model id=0>, <Chain id=B>, <Residue LIG het=  resseq=0 icode= >, <Atom C22>), (<Model id=0>, <Chain id=B>, <Residue LIG het=  resseq=0 icode= >, <Atom O1>), (<Model id=0>, <Chain id=B>, <Residue LIG het=  resseq=0 icode= >, <Atom O2>), (<Model id=0>, <Chain id=B>, <Residue LIG het=  resseq=0 icode= >, <Atom C23>), (<Model id=0>, <Chain id=B>, <Residue LIG het=  resseq=0 icode= >, <Atom C24>)]\n",
      "Rest atoms: [(<Model id=0>, <Chain id=B>, <Residue LIG het=  resseq=0 icode= >, <Atom B1>), (<Model id=0>, <Chain id=B>, <Residue LIG het=  resseq=0 icode= >, <Atom C1>), (<Model id=0>, <Chain id=B>, <Residue LIG het=  resseq=0 icode= >, <Atom N1>), (<Model id=0>, <Chain id=B>, <Residue LIG het=  resseq=0 icode= >, <Atom C2>), (<Model id=0>, <Chain id=B>, <Residue LIG het=  resseq=0 icode= >, <Atom C3>), (<Model id=0>, <Chain id=B>, <Residue LIG het=  resseq=0 icode= >, <Atom C4>), (<Model id=0>, <Chain id=B>, <Residue LIG het=  resseq=0 icode= >, <Atom N2>), (<Model id=0>, <Chain id=B>, <Residue LIG het=  resseq=0 icode= >, <Atom C5>), (<Model id=0>, <Chain id=B>, <Residue LIG het=  resseq=0 icode= >, <Atom C6>), (<Model id=0>, <Chain id=B>, <Residue LIG het=  resseq=0 icode= >, <Atom C7>), (<Model id=0>, <Chain id=B>, <Residue LIG het=  resseq=0 icode= >, <Atom C8>), (<Model id=0>, <Chain id=B>, <Residue LIG het=  resseq=0 icode= >, <Atom C9>), (<Model id=0>, <Chain id=B>, <Residue LIG het=  resseq=0 icode= >, <Atom C10>), (<Model id=0>, <Chain id=B>, <Residue LIG het=  resseq=0 icode= >, <Atom C11>), (<Model id=0>, <Chain id=B>, <Residue LIG het=  resseq=0 icode= >, <Atom C12>), (<Model id=0>, <Chain id=B>, <Residue LIG het=  resseq=0 icode= >, <Atom C13>), (<Model id=0>, <Chain id=B>, <Residue LIG het=  resseq=0 icode= >, <Atom C14>), (<Model id=0>, <Chain id=B>, <Residue LIG het=  resseq=0 icode= >, <Atom C15>), (<Model id=0>, <Chain id=B>, <Residue LIG het=  resseq=0 icode= >, <Atom C16>), (<Model id=0>, <Chain id=B>, <Residue LIG het=  resseq=0 icode= >, <Atom C17>), (<Model id=0>, <Chain id=B>, <Residue LIG het=  resseq=0 icode= >, <Atom C18>), (<Model id=0>, <Chain id=B>, <Residue LIG het=  resseq=0 icode= >, <Atom C19>), (<Model id=0>, <Chain id=B>, <Residue LIG het=  resseq=0 icode= >, <Atom N3>), (<Model id=0>, <Chain id=B>, <Residue LIG het=  resseq=0 icode= >, <Atom FE1>), (<Model id=0>, <Chain id=B>, <Residue LIG het=  resseq=0 icode= >, <Atom N4>), (<Model id=0>, <Chain id=B>, <Residue LIG het=  resseq=0 icode= >, <Atom C25>), (<Model id=0>, <Chain id=B>, <Residue LIG het=  resseq=0 icode= >, <Atom C26>), (<Model id=0>, <Chain id=B>, <Residue LIG het=  resseq=0 icode= >, <Atom C27>), (<Model id=0>, <Chain id=B>, <Residue LIG het=  resseq=0 icode= >, <Atom C28>), (<Model id=0>, <Chain id=B>, <Residue LIG het=  resseq=0 icode= >, <Atom C29>), (<Model id=0>, <Chain id=B>, <Residue LIG het=  resseq=0 icode= >, <Atom C30>), (<Model id=0>, <Chain id=B>, <Residue LIG het=  resseq=0 icode= >, <Atom C31>), (<Model id=0>, <Chain id=B>, <Residue LIG het=  resseq=0 icode= >, <Atom C32>), (<Model id=0>, <Chain id=B>, <Residue LIG het=  resseq=0 icode= >, <Atom C33>), (<Model id=0>, <Chain id=B>, <Residue LIG het=  resseq=0 icode= >, <Atom O3>), (<Model id=0>, <Chain id=B>, <Residue LIG het=  resseq=0 icode= >, <Atom O4>), (<Model id=0>, <Chain id=B>, <Residue LIG het=  resseq=0 icode= >, <Atom C34>), (<Model id=0>, <Chain id=B>, <Residue LIG het=  resseq=0 icode= >, <Atom N5>), (<Model id=0>, <Chain id=B>, <Residue LIG het=  resseq=0 icode= >, <Atom C35>), (<Model id=0>, <Chain id=B>, <Residue LIG het=  resseq=0 icode= >, <Atom C36>), (<Model id=0>, <Chain id=B>, <Residue LIG het=  resseq=0 icode= >, <Atom N6>), (<Model id=0>, <Chain id=B>, <Residue LIG het=  resseq=0 icode= >, <Atom C37>), (<Model id=0>, <Chain id=B>, <Residue LIG het=  resseq=0 icode= >, <Atom C38>), (<Model id=0>, <Chain id=B>, <Residue LIG het=  resseq=0 icode= >, <Atom C39>), (<Model id=0>, <Chain id=B>, <Residue LIG het=  resseq=0 icode= >, <Atom C40>), (<Model id=0>, <Chain id=B>, <Residue LIG het=  resseq=0 icode= >, <Atom C41>), (<Model id=0>, <Chain id=B>, <Residue LIG het=  resseq=0 icode= >, <Atom C42>), (<Model id=0>, <Chain id=B>, <Residue LIG het=  resseq=0 icode= >, <Atom C43>), (<Model id=0>, <Chain id=B>, <Residue LIG het=  resseq=0 icode= >, <Atom C44>), (<Model id=0>, <Chain id=B>, <Residue LIG het=  resseq=0 icode= >, <Atom O5>), (<Model id=0>, <Chain id=B>, <Residue LIG het=  resseq=0 icode= >, <Atom O6>)]\n",
      "Substructure saved to /disk2/fli/REVIVAL2/zs/vina/chai/struct_joint/Rma-CB/M99P:M100L:D102N:M103L_0/carbene/carbene_temp.pdb\n",
      "Removing ions from zs/vina/chai/struct_joint/Rma-CB/M99P:M100L:D102N:M103L_0/carbene/carbene_temp.pdb\n",
      "Cleaned PDBQT file saved to: zs/vina/chai/struct_joint/Rma-CB/M99P:M100L:D102N:M103L_0/carbene/carbene.pdbqt\n",
      "Making zs/vina/chai/struct_joint/Rma-CB/M99P:M100L:D102N:M103L_0/heme ...\n",
      "Processing ligand heme\n",
      "Checking for ions...\n",
      "Processing ligand heme from zs/vina/chai/struct_joint/Rma-CB/M99P:M100L:D102N:M103L_0/M99P:M100L:D102N:M103L_0.pdb\n",
      "Substrate atoms: [(<Model id=0>, <Chain id=B>, <Residue LIG het=  resseq=0 icode= >, <Atom B1>), (<Model id=0>, <Chain id=B>, <Residue LIG het=  resseq=0 icode= >, <Atom C1>), (<Model id=0>, <Chain id=B>, <Residue LIG het=  resseq=0 icode= >, <Atom N1>), (<Model id=0>, <Chain id=B>, <Residue LIG het=  resseq=0 icode= >, <Atom C2>), (<Model id=0>, <Chain id=B>, <Residue LIG het=  resseq=0 icode= >, <Atom C3>), (<Model id=0>, <Chain id=B>, <Residue LIG het=  resseq=0 icode= >, <Atom C4>), (<Model id=0>, <Chain id=B>, <Residue LIG het=  resseq=0 icode= >, <Atom N2>), (<Model id=0>, <Chain id=B>, <Residue LIG het=  resseq=0 icode= >, <Atom C5>), (<Model id=0>, <Chain id=B>, <Residue LIG het=  resseq=0 icode= >, <Atom C20>), (<Model id=0>, <Chain id=B>, <Residue LIG het=  resseq=0 icode= >, <Atom C21>), (<Model id=0>, <Chain id=B>, <Residue LIG het=  resseq=0 icode= >, <Atom C22>), (<Model id=0>, <Chain id=B>, <Residue LIG het=  resseq=0 icode= >, <Atom O1>), (<Model id=0>, <Chain id=B>, <Residue LIG het=  resseq=0 icode= >, <Atom O2>), (<Model id=0>, <Chain id=B>, <Residue LIG het=  resseq=0 icode= >, <Atom C23>), (<Model id=0>, <Chain id=B>, <Residue LIG het=  resseq=0 icode= >, <Atom C24>)]\n",
      "Rest atoms: [(<Model id=0>, <Chain id=B>, <Residue LIG het=  resseq=0 icode= >, <Atom C6>), (<Model id=0>, <Chain id=B>, <Residue LIG het=  resseq=0 icode= >, <Atom C7>), (<Model id=0>, <Chain id=B>, <Residue LIG het=  resseq=0 icode= >, <Atom C8>), (<Model id=0>, <Chain id=B>, <Residue LIG het=  resseq=0 icode= >, <Atom C9>), (<Model id=0>, <Chain id=B>, <Residue LIG het=  resseq=0 icode= >, <Atom C10>), (<Model id=0>, <Chain id=B>, <Residue LIG het=  resseq=0 icode= >, <Atom C11>), (<Model id=0>, <Chain id=B>, <Residue LIG het=  resseq=0 icode= >, <Atom C12>), (<Model id=0>, <Chain id=B>, <Residue LIG het=  resseq=0 icode= >, <Atom C13>), (<Model id=0>, <Chain id=B>, <Residue LIG het=  resseq=0 icode= >, <Atom C14>), (<Model id=0>, <Chain id=B>, <Residue LIG het=  resseq=0 icode= >, <Atom C15>), (<Model id=0>, <Chain id=B>, <Residue LIG het=  resseq=0 icode= >, <Atom C16>), (<Model id=0>, <Chain id=B>, <Residue LIG het=  resseq=0 icode= >, <Atom C17>), (<Model id=0>, <Chain id=B>, <Residue LIG het=  resseq=0 icode= >, <Atom C18>), (<Model id=0>, <Chain id=B>, <Residue LIG het=  resseq=0 icode= >, <Atom C19>), (<Model id=0>, <Chain id=B>, <Residue LIG het=  resseq=0 icode= >, <Atom N3>), (<Model id=0>, <Chain id=B>, <Residue LIG het=  resseq=0 icode= >, <Atom FE1>), (<Model id=0>, <Chain id=B>, <Residue LIG het=  resseq=0 icode= >, <Atom N4>), (<Model id=0>, <Chain id=B>, <Residue LIG het=  resseq=0 icode= >, <Atom C25>), (<Model id=0>, <Chain id=B>, <Residue LIG het=  resseq=0 icode= >, <Atom C26>), (<Model id=0>, <Chain id=B>, <Residue LIG het=  resseq=0 icode= >, <Atom C27>), (<Model id=0>, <Chain id=B>, <Residue LIG het=  resseq=0 icode= >, <Atom C28>), (<Model id=0>, <Chain id=B>, <Residue LIG het=  resseq=0 icode= >, <Atom C29>), (<Model id=0>, <Chain id=B>, <Residue LIG het=  resseq=0 icode= >, <Atom C30>), (<Model id=0>, <Chain id=B>, <Residue LIG het=  resseq=0 icode= >, <Atom C31>), (<Model id=0>, <Chain id=B>, <Residue LIG het=  resseq=0 icode= >, <Atom C32>), (<Model id=0>, <Chain id=B>, <Residue LIG het=  resseq=0 icode= >, <Atom C33>), (<Model id=0>, <Chain id=B>, <Residue LIG het=  resseq=0 icode= >, <Atom O3>), (<Model id=0>, <Chain id=B>, <Residue LIG het=  resseq=0 icode= >, <Atom O4>), (<Model id=0>, <Chain id=B>, <Residue LIG het=  resseq=0 icode= >, <Atom C34>), (<Model id=0>, <Chain id=B>, <Residue LIG het=  resseq=0 icode= >, <Atom N5>), (<Model id=0>, <Chain id=B>, <Residue LIG het=  resseq=0 icode= >, <Atom C35>), (<Model id=0>, <Chain id=B>, <Residue LIG het=  resseq=0 icode= >, <Atom C36>), (<Model id=0>, <Chain id=B>, <Residue LIG het=  resseq=0 icode= >, <Atom N6>), (<Model id=0>, <Chain id=B>, <Residue LIG het=  resseq=0 icode= >, <Atom C37>), (<Model id=0>, <Chain id=B>, <Residue LIG het=  resseq=0 icode= >, <Atom C38>), (<Model id=0>, <Chain id=B>, <Residue LIG het=  resseq=0 icode= >, <Atom C39>), (<Model id=0>, <Chain id=B>, <Residue LIG het=  resseq=0 icode= >, <Atom C40>), (<Model id=0>, <Chain id=B>, <Residue LIG het=  resseq=0 icode= >, <Atom C41>), (<Model id=0>, <Chain id=B>, <Residue LIG het=  resseq=0 icode= >, <Atom C42>), (<Model id=0>, <Chain id=B>, <Residue LIG het=  resseq=0 icode= >, <Atom C43>), (<Model id=0>, <Chain id=B>, <Residue LIG het=  resseq=0 icode= >, <Atom C44>), (<Model id=0>, <Chain id=B>, <Residue LIG het=  resseq=0 icode= >, <Atom O5>), (<Model id=0>, <Chain id=B>, <Residue LIG het=  resseq=0 icode= >, <Atom O6>)]\n",
      "Substructure saved to /disk2/fli/REVIVAL2/zs/vina/chai/struct_joint/Rma-CB/M99P:M100L:D102N:M103L_0/heme/heme_temp.pdb\n",
      "Removing ions from zs/vina/chai/struct_joint/Rma-CB/M99P:M100L:D102N:M103L_0/heme/heme_temp.pdb\n",
      "Cleaned PDBQT file saved to: zs/vina/chai/struct_joint/Rma-CB/M99P:M100L:D102N:M103L_0/heme/heme.pdbqt\n",
      "Making zs/vina/chai/struct_joint/Rma-CB/M99P:M100L:D102N:M103L_0/Fe ...\n",
      "Processing ligand Fe\n",
      "Checking for ions...\n",
      "Processing ion Fe\n",
      "Ions matching 'FE' were successfully extracted to zs/vina/chai/struct_joint/Rma-CB/M99P:M100L:D102N:M103L_0/Fe/FE.pdb.\n",
      "cofactor_pdbqts: ['zs/vina/chai/struct_joint/Rma-CB/M99P:M100L:D102N:M103L_0/carbene/carbene.pdbqt', 'zs/vina/chai/struct_joint/Rma-CB/M99P:M100L:D102N:M103L_0/heme/heme.pdbqt', 'zs/vina/chai/struct_joint/Rma-CB/M99P:M100L:D102N:M103L_0/Fe/FE.pdbqt']\n",
      "Making zs/vina/chai/struct_joint/Rma-CB/M99P:M100L:D102N:M103L_0/M99P:M100L:D102N:M103L_0_cofactors ...\n",
      "Merging zs/vina/chai/struct_joint/Rma-CB/M99P:M100L:D102N:M103L_0/M99P:M100L:D102N:M103L_0/M99P:M100L:D102N:M103L_0.pdbqt\n",
      "Merging zs/vina/chai/struct_joint/Rma-CB/M99P:M100L:D102N:M103L_0/carbene/carbene.pdbqt\n",
      "Merging zs/vina/chai/struct_joint/Rma-CB/M99P:M100L:D102N:M103L_0/heme/heme.pdbqt\n",
      "Merging zs/vina/chai/struct_joint/Rma-CB/M99P:M100L:D102N:M103L_0/Fe/FE.pdbqt\n",
      "Combined ATOM lines saved to zs/vina/chai/struct_joint/Rma-CB/M99P:M100L:D102N:M103L_0/M99P:M100L:D102N:M103L_0_cofactors/M99P:M100L:D102N:M103L_0_cofactors.pdbqt\n",
      "Vina run (score-only) completed successfully. Log saved to: zs/vina/chai/struct_joint/Rma-CB/M99P:M100L:D102N:M103L_0/M99P:M100L:D102N:M103L_0-NHC-borane-substrate-score_only_log.txt\n"
     ]
    },
    {
     "data": {
      "text/plain": [
       "'zs/vina/chai/struct_joint/Rma-CB/M99P:M100L:D102N:M103L_0/M99P:M100L:D102N:M103L_0-NHC-borane-substrate-score_only_log.txt'"
      ]
     },
     "execution_count": 5,
     "metadata": {},
     "output_type": "execute_result"
    }
   ],
   "source": [
    "from REVIVAL.zs.vina import dock\n",
    "\n",
    "dock(\n",
    "    input_struct_path=\"/disk2/fli/REVIVAL2/zs/chai/struct_joint/Rma-CB/M99P:M100L:D102N:M103L/M99P:M100L:D102N:M103L_0.cif\",\n",
    "    dock_opt=\"substrate\",\n",
    "    score_only = True,\n",
    "    regen=True,\n",
    "    rerun=True\n",
    ")"
   ]
  },
  {
   "cell_type": "code",
   "execution_count": 5,
   "metadata": {},
   "outputs": [
    {
     "name": "stderr",
     "output_type": "stream",
     "text": [
      "==============================\n",
      "*** Open Babel Warning  in PerceiveBondOrders\n",
      "  Failed to kekulize aromatic bonds in OBMol::PerceiveBondOrders (title is model)\n",
      "\n",
      "1 molecule converted\n",
      "1 molecule converted\n"
     ]
    },
    {
     "name": "stdout",
     "output_type": "stream",
     "text": [
      "Processing ligand NHC-borane\n",
      "Checking for ions...\n",
      "Processing ligand NHC-borane from zs/vina/chai/struct_seperate/Rma-CB/M99P:M100L:D102N:M103L_0/M99P:M100L:D102N:M103L_0.pdb\n",
      "Substrate atoms: [(<Model id=0>, <Chain id=B>, <Residue LIG het=  resseq=0 icode= >, <Atom B1>), (<Model id=0>, <Chain id=B>, <Residue LIG het=  resseq=0 icode= >, <Atom C1>), (<Model id=0>, <Chain id=B>, <Residue LIG het=  resseq=0 icode= >, <Atom N1>), (<Model id=0>, <Chain id=B>, <Residue LIG het=  resseq=0 icode= >, <Atom C2>), (<Model id=0>, <Chain id=B>, <Residue LIG het=  resseq=0 icode= >, <Atom C3>), (<Model id=0>, <Chain id=B>, <Residue LIG het=  resseq=0 icode= >, <Atom C4>), (<Model id=0>, <Chain id=B>, <Residue LIG het=  resseq=0 icode= >, <Atom N2>), (<Model id=0>, <Chain id=B>, <Residue LIG het=  resseq=0 icode= >, <Atom C5>)]\n",
      "Rest atoms: []\n",
      "Substructure saved to /disk2/fli/REVIVAL2/zs/vina/chai/struct_seperate/Rma-CB/M99P:M100L:D102N:M103L_0/NHC-borane/NHC-borane_temp.pdb\n",
      "Removing ions from zs/vina/chai/struct_seperate/Rma-CB/M99P:M100L:D102N:M103L_0/NHC-borane/NHC-borane_temp.pdb\n",
      "Added hydrogen H1 to B1\n",
      "Added hydrogen H2 to B1\n",
      "Added hydrogen H3 to B1\n",
      "Saved modified PDB to: zs/vina/chai/struct_seperate/Rma-CB/M99P:M100L:D102N:M103L_0/NHC-borane/NHC-borane.pdb\n",
      "Processed PDBQT file saved to: zs/vina/chai/struct_seperate/Rma-CB/M99P:M100L:D102N:M103L_0/NHC-borane/NHC-borane.pdbqt\n",
      "Processing cofactor carbene-heme C=CC1=C(C=C2C(C)=C(C=C)C3=[N]2[Fe]45(N6C(C(C)=C(CCC([O-])=O)C6=C7)=C3)=C(C)C(OCC)=O)N4C(C=C8[N]5=C7C(CCC([O-])=O)=C8C)=C1C using zs/vina/chai/struct_seperate/Rma-CB/M99P:M100L:D102N:M103L_0/M99P:M100L:D102N:M103L_0.pdb\n",
      "Making zs/vina/chai/struct_seperate/Rma-CB/M99P:M100L:D102N:M103L_0/carbene ...\n",
      "Processing ligand carbene\n",
      "Checking for ions...\n",
      "Processing ligand carbene from zs/vina/chai/struct_seperate/Rma-CB/M99P:M100L:D102N:M103L_0/M99P:M100L:D102N:M103L_0.pdb\n",
      "Substrate atoms: [(<Model id=0>, <Chain id=C>, <Residue LIG het=  resseq=0 icode= >, <Atom C15>), (<Model id=0>, <Chain id=C>, <Residue LIG het=  resseq=0 icode= >, <Atom C16>), (<Model id=0>, <Chain id=C>, <Residue LIG het=  resseq=0 icode= >, <Atom C17>), (<Model id=0>, <Chain id=C>, <Residue LIG het=  resseq=0 icode= >, <Atom O1>), (<Model id=0>, <Chain id=C>, <Residue LIG het=  resseq=0 icode= >, <Atom O2>), (<Model id=0>, <Chain id=C>, <Residue LIG het=  resseq=0 icode= >, <Atom C18>), (<Model id=0>, <Chain id=C>, <Residue LIG het=  resseq=0 icode= >, <Atom C19>)]\n",
      "Rest atoms: [(<Model id=0>, <Chain id=C>, <Residue LIG het=  resseq=0 icode= >, <Atom C1>), (<Model id=0>, <Chain id=C>, <Residue LIG het=  resseq=0 icode= >, <Atom C2>), (<Model id=0>, <Chain id=C>, <Residue LIG het=  resseq=0 icode= >, <Atom C3>), (<Model id=0>, <Chain id=C>, <Residue LIG het=  resseq=0 icode= >, <Atom C4>), (<Model id=0>, <Chain id=C>, <Residue LIG het=  resseq=0 icode= >, <Atom C5>), (<Model id=0>, <Chain id=C>, <Residue LIG het=  resseq=0 icode= >, <Atom C6>), (<Model id=0>, <Chain id=C>, <Residue LIG het=  resseq=0 icode= >, <Atom C7>), (<Model id=0>, <Chain id=C>, <Residue LIG het=  resseq=0 icode= >, <Atom C8>), (<Model id=0>, <Chain id=C>, <Residue LIG het=  resseq=0 icode= >, <Atom C9>), (<Model id=0>, <Chain id=C>, <Residue LIG het=  resseq=0 icode= >, <Atom C10>), (<Model id=0>, <Chain id=C>, <Residue LIG het=  resseq=0 icode= >, <Atom C11>), (<Model id=0>, <Chain id=C>, <Residue LIG het=  resseq=0 icode= >, <Atom C12>), (<Model id=0>, <Chain id=C>, <Residue LIG het=  resseq=0 icode= >, <Atom C13>), (<Model id=0>, <Chain id=C>, <Residue LIG het=  resseq=0 icode= >, <Atom C14>), (<Model id=0>, <Chain id=C>, <Residue LIG het=  resseq=0 icode= >, <Atom N1>), (<Model id=0>, <Chain id=C>, <Residue LIG het=  resseq=0 icode= >, <Atom FE1>), (<Model id=0>, <Chain id=C>, <Residue LIG het=  resseq=0 icode= >, <Atom N2>), (<Model id=0>, <Chain id=C>, <Residue LIG het=  resseq=0 icode= >, <Atom C20>), (<Model id=0>, <Chain id=C>, <Residue LIG het=  resseq=0 icode= >, <Atom C21>), (<Model id=0>, <Chain id=C>, <Residue LIG het=  resseq=0 icode= >, <Atom C22>), (<Model id=0>, <Chain id=C>, <Residue LIG het=  resseq=0 icode= >, <Atom C23>), (<Model id=0>, <Chain id=C>, <Residue LIG het=  resseq=0 icode= >, <Atom C24>), (<Model id=0>, <Chain id=C>, <Residue LIG het=  resseq=0 icode= >, <Atom C25>), (<Model id=0>, <Chain id=C>, <Residue LIG het=  resseq=0 icode= >, <Atom C26>), (<Model id=0>, <Chain id=C>, <Residue LIG het=  resseq=0 icode= >, <Atom C27>), (<Model id=0>, <Chain id=C>, <Residue LIG het=  resseq=0 icode= >, <Atom C28>), (<Model id=0>, <Chain id=C>, <Residue LIG het=  resseq=0 icode= >, <Atom O3>), (<Model id=0>, <Chain id=C>, <Residue LIG het=  resseq=0 icode= >, <Atom O4>), (<Model id=0>, <Chain id=C>, <Residue LIG het=  resseq=0 icode= >, <Atom C29>), (<Model id=0>, <Chain id=C>, <Residue LIG het=  resseq=0 icode= >, <Atom N3>), (<Model id=0>, <Chain id=C>, <Residue LIG het=  resseq=0 icode= >, <Atom C30>), (<Model id=0>, <Chain id=C>, <Residue LIG het=  resseq=0 icode= >, <Atom C31>), (<Model id=0>, <Chain id=C>, <Residue LIG het=  resseq=0 icode= >, <Atom N4>), (<Model id=0>, <Chain id=C>, <Residue LIG het=  resseq=0 icode= >, <Atom C32>), (<Model id=0>, <Chain id=C>, <Residue LIG het=  resseq=0 icode= >, <Atom C33>), (<Model id=0>, <Chain id=C>, <Residue LIG het=  resseq=0 icode= >, <Atom C34>), (<Model id=0>, <Chain id=C>, <Residue LIG het=  resseq=0 icode= >, <Atom C35>), (<Model id=0>, <Chain id=C>, <Residue LIG het=  resseq=0 icode= >, <Atom C36>), (<Model id=0>, <Chain id=C>, <Residue LIG het=  resseq=0 icode= >, <Atom C37>), (<Model id=0>, <Chain id=C>, <Residue LIG het=  resseq=0 icode= >, <Atom C38>), (<Model id=0>, <Chain id=C>, <Residue LIG het=  resseq=0 icode= >, <Atom C39>), (<Model id=0>, <Chain id=C>, <Residue LIG het=  resseq=0 icode= >, <Atom O5>), (<Model id=0>, <Chain id=C>, <Residue LIG het=  resseq=0 icode= >, <Atom O6>)]\n",
      "Substructure saved to /disk2/fli/REVIVAL2/zs/vina/chai/struct_seperate/Rma-CB/M99P:M100L:D102N:M103L_0/carbene/carbene_temp.pdb\n",
      "Removing ions from zs/vina/chai/struct_seperate/Rma-CB/M99P:M100L:D102N:M103L_0/carbene/carbene_temp.pdb\n",
      "Cleaned PDBQT file saved to: zs/vina/chai/struct_seperate/Rma-CB/M99P:M100L:D102N:M103L_0/carbene/carbene.pdbqt\n",
      "Making zs/vina/chai/struct_seperate/Rma-CB/M99P:M100L:D102N:M103L_0/heme ...\n",
      "Processing ligand heme\n",
      "Checking for ions...\n",
      "Processing ligand heme from zs/vina/chai/struct_seperate/Rma-CB/M99P:M100L:D102N:M103L_0/M99P:M100L:D102N:M103L_0.pdb\n",
      "Substrate atoms: [(<Model id=0>, <Chain id=C>, <Residue LIG het=  resseq=0 icode= >, <Atom C15>), (<Model id=0>, <Chain id=C>, <Residue LIG het=  resseq=0 icode= >, <Atom C16>), (<Model id=0>, <Chain id=C>, <Residue LIG het=  resseq=0 icode= >, <Atom C17>), (<Model id=0>, <Chain id=C>, <Residue LIG het=  resseq=0 icode= >, <Atom O1>), (<Model id=0>, <Chain id=C>, <Residue LIG het=  resseq=0 icode= >, <Atom O2>), (<Model id=0>, <Chain id=C>, <Residue LIG het=  resseq=0 icode= >, <Atom C18>), (<Model id=0>, <Chain id=C>, <Residue LIG het=  resseq=0 icode= >, <Atom C19>)]\n",
      "Rest atoms: [(<Model id=0>, <Chain id=C>, <Residue LIG het=  resseq=0 icode= >, <Atom C1>), (<Model id=0>, <Chain id=C>, <Residue LIG het=  resseq=0 icode= >, <Atom C2>), (<Model id=0>, <Chain id=C>, <Residue LIG het=  resseq=0 icode= >, <Atom C3>), (<Model id=0>, <Chain id=C>, <Residue LIG het=  resseq=0 icode= >, <Atom C4>), (<Model id=0>, <Chain id=C>, <Residue LIG het=  resseq=0 icode= >, <Atom C5>), (<Model id=0>, <Chain id=C>, <Residue LIG het=  resseq=0 icode= >, <Atom C6>), (<Model id=0>, <Chain id=C>, <Residue LIG het=  resseq=0 icode= >, <Atom C7>), (<Model id=0>, <Chain id=C>, <Residue LIG het=  resseq=0 icode= >, <Atom C8>), (<Model id=0>, <Chain id=C>, <Residue LIG het=  resseq=0 icode= >, <Atom C9>), (<Model id=0>, <Chain id=C>, <Residue LIG het=  resseq=0 icode= >, <Atom C10>), (<Model id=0>, <Chain id=C>, <Residue LIG het=  resseq=0 icode= >, <Atom C11>), (<Model id=0>, <Chain id=C>, <Residue LIG het=  resseq=0 icode= >, <Atom C12>), (<Model id=0>, <Chain id=C>, <Residue LIG het=  resseq=0 icode= >, <Atom C13>), (<Model id=0>, <Chain id=C>, <Residue LIG het=  resseq=0 icode= >, <Atom C14>), (<Model id=0>, <Chain id=C>, <Residue LIG het=  resseq=0 icode= >, <Atom N1>), (<Model id=0>, <Chain id=C>, <Residue LIG het=  resseq=0 icode= >, <Atom FE1>), (<Model id=0>, <Chain id=C>, <Residue LIG het=  resseq=0 icode= >, <Atom N2>), (<Model id=0>, <Chain id=C>, <Residue LIG het=  resseq=0 icode= >, <Atom C20>), (<Model id=0>, <Chain id=C>, <Residue LIG het=  resseq=0 icode= >, <Atom C21>), (<Model id=0>, <Chain id=C>, <Residue LIG het=  resseq=0 icode= >, <Atom C22>), (<Model id=0>, <Chain id=C>, <Residue LIG het=  resseq=0 icode= >, <Atom C23>), (<Model id=0>, <Chain id=C>, <Residue LIG het=  resseq=0 icode= >, <Atom C24>), (<Model id=0>, <Chain id=C>, <Residue LIG het=  resseq=0 icode= >, <Atom C25>), (<Model id=0>, <Chain id=C>, <Residue LIG het=  resseq=0 icode= >, <Atom C26>), (<Model id=0>, <Chain id=C>, <Residue LIG het=  resseq=0 icode= >, <Atom C27>), (<Model id=0>, <Chain id=C>, <Residue LIG het=  resseq=0 icode= >, <Atom C28>), (<Model id=0>, <Chain id=C>, <Residue LIG het=  resseq=0 icode= >, <Atom O3>), (<Model id=0>, <Chain id=C>, <Residue LIG het=  resseq=0 icode= >, <Atom O4>), (<Model id=0>, <Chain id=C>, <Residue LIG het=  resseq=0 icode= >, <Atom C29>), (<Model id=0>, <Chain id=C>, <Residue LIG het=  resseq=0 icode= >, <Atom N3>), (<Model id=0>, <Chain id=C>, <Residue LIG het=  resseq=0 icode= >, <Atom C30>), (<Model id=0>, <Chain id=C>, <Residue LIG het=  resseq=0 icode= >, <Atom C31>), (<Model id=0>, <Chain id=C>, <Residue LIG het=  resseq=0 icode= >, <Atom N4>), (<Model id=0>, <Chain id=C>, <Residue LIG het=  resseq=0 icode= >, <Atom C32>), (<Model id=0>, <Chain id=C>, <Residue LIG het=  resseq=0 icode= >, <Atom C33>), (<Model id=0>, <Chain id=C>, <Residue LIG het=  resseq=0 icode= >, <Atom C34>), (<Model id=0>, <Chain id=C>, <Residue LIG het=  resseq=0 icode= >, <Atom C35>), (<Model id=0>, <Chain id=C>, <Residue LIG het=  resseq=0 icode= >, <Atom C36>), (<Model id=0>, <Chain id=C>, <Residue LIG het=  resseq=0 icode= >, <Atom C37>), (<Model id=0>, <Chain id=C>, <Residue LIG het=  resseq=0 icode= >, <Atom C38>), (<Model id=0>, <Chain id=C>, <Residue LIG het=  resseq=0 icode= >, <Atom C39>), (<Model id=0>, <Chain id=C>, <Residue LIG het=  resseq=0 icode= >, <Atom O5>), (<Model id=0>, <Chain id=C>, <Residue LIG het=  resseq=0 icode= >, <Atom O6>)]\n",
      "Substructure saved to /disk2/fli/REVIVAL2/zs/vina/chai/struct_seperate/Rma-CB/M99P:M100L:D102N:M103L_0/heme/heme_temp.pdb\n",
      "Removing ions from zs/vina/chai/struct_seperate/Rma-CB/M99P:M100L:D102N:M103L_0/heme/heme_temp.pdb\n",
      "Cleaned PDBQT file saved to: zs/vina/chai/struct_seperate/Rma-CB/M99P:M100L:D102N:M103L_0/heme/heme.pdbqt\n",
      "Making zs/vina/chai/struct_seperate/Rma-CB/M99P:M100L:D102N:M103L_0/Fe ...\n",
      "Processing ligand Fe\n",
      "Checking for ions...\n",
      "Processing ion Fe\n",
      "Ions matching 'FE' were successfully extracted to zs/vina/chai/struct_seperate/Rma-CB/M99P:M100L:D102N:M103L_0/Fe/FE.pdb.\n"
     ]
    },
    {
     "name": "stderr",
     "output_type": "stream",
     "text": [
      "1 molecule converted\n"
     ]
    },
    {
     "name": "stdout",
     "output_type": "stream",
     "text": [
      "cofactor_pdbqts: ['zs/vina/chai/struct_seperate/Rma-CB/M99P:M100L:D102N:M103L_0/carbene/carbene.pdbqt', 'zs/vina/chai/struct_seperate/Rma-CB/M99P:M100L:D102N:M103L_0/heme/heme.pdbqt', 'zs/vina/chai/struct_seperate/Rma-CB/M99P:M100L:D102N:M103L_0/Fe/FE.pdbqt']\n",
      "Making zs/vina/chai/struct_seperate/Rma-CB/M99P:M100L:D102N:M103L_0/M99P:M100L:D102N:M103L_0_cofactors ...\n",
      "Merging zs/vina/chai/struct_seperate/Rma-CB/M99P:M100L:D102N:M103L_0/M99P:M100L:D102N:M103L_0/M99P:M100L:D102N:M103L_0.pdbqt\n",
      "Merging zs/vina/chai/struct_seperate/Rma-CB/M99P:M100L:D102N:M103L_0/carbene/carbene.pdbqt\n",
      "Merging zs/vina/chai/struct_seperate/Rma-CB/M99P:M100L:D102N:M103L_0/heme/heme.pdbqt\n",
      "Merging zs/vina/chai/struct_seperate/Rma-CB/M99P:M100L:D102N:M103L_0/Fe/FE.pdbqt\n",
      "Combined ATOM lines saved to zs/vina/chai/struct_seperate/Rma-CB/M99P:M100L:D102N:M103L_0/M99P:M100L:D102N:M103L_0_cofactors/M99P:M100L:D102N:M103L_0_cofactors.pdbqt\n",
      "Vina run (score-only) completed successfully. Log saved to: zs/vina/chai/struct_seperate/Rma-CB/M99P:M100L:D102N:M103L_0/M99P:M100L:D102N:M103L_0-NHC-borane-substrate-score_only_log.txt\n"
     ]
    },
    {
     "data": {
      "text/plain": [
       "'zs/vina/chai/struct_seperate/Rma-CB/M99P:M100L:D102N:M103L_0/M99P:M100L:D102N:M103L_0-NHC-borane-substrate-score_only_log.txt'"
      ]
     },
     "execution_count": 5,
     "metadata": {},
     "output_type": "execute_result"
    }
   ],
   "source": [
    "from REVIVAL.zs.vina import dock\n",
    "\n",
    "dock(\n",
    "    input_struct_path=\"/disk2/fli/REVIVAL2/zs/chai/struct_seperate/Rma-CB/M99P:M100L:D102N:M103L/M99P:M100L:D102N:M103L_0.cif\",\n",
    "    dock_opt=\"substrate\",\n",
    "    score_only = True,\n",
    "    regen=True,\n",
    "    rerun=True\n",
    ")"
   ]
  },
  {
   "cell_type": "code",
   "execution_count": 26,
   "metadata": {},
   "outputs": [],
   "source": [
    "from REVIVAL.zs.vina import ligand_smiles2pdbqt"
   ]
  },
  {
   "cell_type": "code",
   "execution_count": 27,
   "metadata": {},
   "outputs": [
    {
     "name": "stderr",
     "output_type": "stream",
     "text": [
      "[17:15:17] Running Uncharger\n",
      "1 molecule converted\n"
     ]
    }
   ],
   "source": [
    "ligand_smiles2pdbqt(\n",
    "    smiles=\"[H][Si](C)(C)C1=CC=CC=C1\",\n",
    "    ligand_sdf_file=\"/disk2/fli/REVIVAL2/zs/vina/chai/struct_joint/Rma-CSi/M99P:M100L:D102N:M103L_0/phenyldimethylsilane_smiles.sdf\",\n",
    "    ligand_pdbqt_file=\"/disk2/fli/REVIVAL2/zs/vina/chai/struct_joint/Rma-CSi/M99P:M100L:D102N:M103L_0/phenyldimethylsilane_smiles.pdbqt\",\n",
    "     pH=7.4\n",
    ")"
   ]
  },
  {
   "cell_type": "code",
   "execution_count": 34,
   "metadata": {},
   "outputs": [
    {
     "name": "stdout",
     "output_type": "stream",
     "text": [
      "Making zs/vina/chai/struct_joint/Rma-CSi/M99P:M100L:D102N:M103L_0 ...\n",
      "Making zs/vina/chai/struct_joint/Rma-CSi/M99P:M100L:D102N:M103L_0/M99P:M100L:D102N:M103L_0 ...\n"
     ]
    },
    {
     "name": "stderr",
     "output_type": "stream",
     "text": [
      "==============================\n",
      "*** Open Babel Warning  in PerceiveBondOrders\n",
      "  Failed to kekulize aromatic bonds in OBMol::PerceiveBondOrders (title is model)\n",
      "\n",
      "1 molecule converted\n",
      "1 molecule converted\n",
      "1 molecule converted\n"
     ]
    },
    {
     "name": "stdout",
     "output_type": "stream",
     "text": [
      "Making zs/vina/chai/struct_joint/Rma-CSi/M99P:M100L:D102N:M103L_0/phenyldimethylsilane ...\n",
      "Processing ligand phenyldimethylsilane\n",
      "Checking for ions...\n",
      "Processing ligand phenyldimethylsilane from zs/vina/chai/struct_joint/Rma-CSi/M99P:M100L:D102N:M103L_0/M99P:M100L:D102N:M103L_0.pdb\n",
      "Substrate atoms: [(<Model id=0>, <Chain id=B>, <Residue LIG het=  resseq=0 icode= >, <Atom C1>), (<Model id=0>, <Chain id=B>, <Residue LIG het=  resseq=0 icode= >, <Atom SI1>), (<Model id=0>, <Chain id=B>, <Residue LIG het=  resseq=0 icode= >, <Atom C2>), (<Model id=0>, <Chain id=B>, <Residue LIG het=  resseq=0 icode= >, <Atom C3>), (<Model id=0>, <Chain id=B>, <Residue LIG het=  resseq=0 icode= >, <Atom C4>), (<Model id=0>, <Chain id=B>, <Residue LIG het=  resseq=0 icode= >, <Atom C5>), (<Model id=0>, <Chain id=B>, <Residue LIG het=  resseq=0 icode= >, <Atom C6>), (<Model id=0>, <Chain id=B>, <Residue LIG het=  resseq=0 icode= >, <Atom C7>), (<Model id=0>, <Chain id=B>, <Residue LIG het=  resseq=0 icode= >, <Atom C8>)]\n",
      "Rest atoms: [(<Model id=0>, <Chain id=B>, <Residue LIG het=  resseq=0 icode= >, <Atom C9>), (<Model id=0>, <Chain id=B>, <Residue LIG het=  resseq=0 icode= >, <Atom C10>), (<Model id=0>, <Chain id=B>, <Residue LIG het=  resseq=0 icode= >, <Atom C11>), (<Model id=0>, <Chain id=B>, <Residue LIG het=  resseq=0 icode= >, <Atom C12>), (<Model id=0>, <Chain id=B>, <Residue LIG het=  resseq=0 icode= >, <Atom C13>), (<Model id=0>, <Chain id=B>, <Residue LIG het=  resseq=0 icode= >, <Atom C14>), (<Model id=0>, <Chain id=B>, <Residue LIG het=  resseq=0 icode= >, <Atom C15>), (<Model id=0>, <Chain id=B>, <Residue LIG het=  resseq=0 icode= >, <Atom C16>), (<Model id=0>, <Chain id=B>, <Residue LIG het=  resseq=0 icode= >, <Atom C17>), (<Model id=0>, <Chain id=B>, <Residue LIG het=  resseq=0 icode= >, <Atom C18>), (<Model id=0>, <Chain id=B>, <Residue LIG het=  resseq=0 icode= >, <Atom C19>), (<Model id=0>, <Chain id=B>, <Residue LIG het=  resseq=0 icode= >, <Atom C20>), (<Model id=0>, <Chain id=B>, <Residue LIG het=  resseq=0 icode= >, <Atom C21>), (<Model id=0>, <Chain id=B>, <Residue LIG het=  resseq=0 icode= >, <Atom C22>), (<Model id=0>, <Chain id=B>, <Residue LIG het=  resseq=0 icode= >, <Atom N1>), (<Model id=0>, <Chain id=B>, <Residue LIG het=  resseq=0 icode= >, <Atom FE1>), (<Model id=0>, <Chain id=B>, <Residue LIG het=  resseq=0 icode= >, <Atom C23>), (<Model id=0>, <Chain id=B>, <Residue LIG het=  resseq=0 icode= >, <Atom C24>), (<Model id=0>, <Chain id=B>, <Residue LIG het=  resseq=0 icode= >, <Atom C25>), (<Model id=0>, <Chain id=B>, <Residue LIG het=  resseq=0 icode= >, <Atom O1>), (<Model id=0>, <Chain id=B>, <Residue LIG het=  resseq=0 icode= >, <Atom O2>), (<Model id=0>, <Chain id=B>, <Residue LIG het=  resseq=0 icode= >, <Atom C26>), (<Model id=0>, <Chain id=B>, <Residue LIG het=  resseq=0 icode= >, <Atom C27>), (<Model id=0>, <Chain id=B>, <Residue LIG het=  resseq=0 icode= >, <Atom N2>), (<Model id=0>, <Chain id=B>, <Residue LIG het=  resseq=0 icode= >, <Atom C28>), (<Model id=0>, <Chain id=B>, <Residue LIG het=  resseq=0 icode= >, <Atom C29>), (<Model id=0>, <Chain id=B>, <Residue LIG het=  resseq=0 icode= >, <Atom C30>), (<Model id=0>, <Chain id=B>, <Residue LIG het=  resseq=0 icode= >, <Atom C31>), (<Model id=0>, <Chain id=B>, <Residue LIG het=  resseq=0 icode= >, <Atom C32>), (<Model id=0>, <Chain id=B>, <Residue LIG het=  resseq=0 icode= >, <Atom C33>), (<Model id=0>, <Chain id=B>, <Residue LIG het=  resseq=0 icode= >, <Atom C34>), (<Model id=0>, <Chain id=B>, <Residue LIG het=  resseq=0 icode= >, <Atom C35>), (<Model id=0>, <Chain id=B>, <Residue LIG het=  resseq=0 icode= >, <Atom C36>), (<Model id=0>, <Chain id=B>, <Residue LIG het=  resseq=0 icode= >, <Atom O3>), (<Model id=0>, <Chain id=B>, <Residue LIG het=  resseq=0 icode= >, <Atom O4>), (<Model id=0>, <Chain id=B>, <Residue LIG het=  resseq=0 icode= >, <Atom C37>), (<Model id=0>, <Chain id=B>, <Residue LIG het=  resseq=0 icode= >, <Atom N3>), (<Model id=0>, <Chain id=B>, <Residue LIG het=  resseq=0 icode= >, <Atom C38>), (<Model id=0>, <Chain id=B>, <Residue LIG het=  resseq=0 icode= >, <Atom C39>), (<Model id=0>, <Chain id=B>, <Residue LIG het=  resseq=0 icode= >, <Atom N4>), (<Model id=0>, <Chain id=B>, <Residue LIG het=  resseq=0 icode= >, <Atom C40>), (<Model id=0>, <Chain id=B>, <Residue LIG het=  resseq=0 icode= >, <Atom C41>), (<Model id=0>, <Chain id=B>, <Residue LIG het=  resseq=0 icode= >, <Atom C42>), (<Model id=0>, <Chain id=B>, <Residue LIG het=  resseq=0 icode= >, <Atom C43>), (<Model id=0>, <Chain id=B>, <Residue LIG het=  resseq=0 icode= >, <Atom C44>), (<Model id=0>, <Chain id=B>, <Residue LIG het=  resseq=0 icode= >, <Atom C45>), (<Model id=0>, <Chain id=B>, <Residue LIG het=  resseq=0 icode= >, <Atom C46>), (<Model id=0>, <Chain id=B>, <Residue LIG het=  resseq=0 icode= >, <Atom C47>), (<Model id=0>, <Chain id=B>, <Residue LIG het=  resseq=0 icode= >, <Atom O5>), (<Model id=0>, <Chain id=B>, <Residue LIG het=  resseq=0 icode= >, <Atom O6>)]\n",
      "Substructure saved to /disk2/fli/REVIVAL2/zs/vina/chai/struct_joint/Rma-CSi/M99P:M100L:D102N:M103L_0/phenyldimethylsilane/phenyldimethylsilane_temp.pdb\n",
      "Removing ions from zs/vina/chai/struct_joint/Rma-CSi/M99P:M100L:D102N:M103L_0/phenyldimethylsilane/phenyldimethylsilane_temp.pdb\n",
      "Added H 'H1' to SI1 in LIG (chain B)\n",
      "\n",
      "Saved updated PDB to: zs/vina/chai/struct_joint/Rma-CSi/M99P:M100L:D102N:M103L_0/phenyldimethylsilane/phenyldimethylsilane.pdb\n",
      "Processing cofactor carbene-heme C=CC1=C(C=C2C(C)=C(C=C)C3=[N]2[Fe]45(N6C(C(C)=C(CCC([O-])=O)C6=C7)=C3)=C(C)C(OCC)=O)N4C(C=C8[N]5=C7C(CCC([O-])=O)=C8C)=C1C using zs/vina/chai/struct_joint/Rma-CSi/M99P:M100L:D102N:M103L_0/M99P:M100L:D102N:M103L_0.pdb\n",
      "Making zs/vina/chai/struct_joint/Rma-CSi/M99P:M100L:D102N:M103L_0/carbene ...\n",
      "Processing ligand carbene\n",
      "Checking for ions...\n",
      "Processing ligand carbene from zs/vina/chai/struct_joint/Rma-CSi/M99P:M100L:D102N:M103L_0/M99P:M100L:D102N:M103L_0.pdb\n",
      "Substrate atoms: [(<Model id=0>, <Chain id=B>, <Residue LIG het=  resseq=0 icode= >, <Atom C23>), (<Model id=0>, <Chain id=B>, <Residue LIG het=  resseq=0 icode= >, <Atom C24>), (<Model id=0>, <Chain id=B>, <Residue LIG het=  resseq=0 icode= >, <Atom C25>), (<Model id=0>, <Chain id=B>, <Residue LIG het=  resseq=0 icode= >, <Atom O1>), (<Model id=0>, <Chain id=B>, <Residue LIG het=  resseq=0 icode= >, <Atom O2>), (<Model id=0>, <Chain id=B>, <Residue LIG het=  resseq=0 icode= >, <Atom C26>), (<Model id=0>, <Chain id=B>, <Residue LIG het=  resseq=0 icode= >, <Atom C27>)]\n",
      "Rest atoms: [(<Model id=0>, <Chain id=B>, <Residue LIG het=  resseq=0 icode= >, <Atom C1>), (<Model id=0>, <Chain id=B>, <Residue LIG het=  resseq=0 icode= >, <Atom SI1>), (<Model id=0>, <Chain id=B>, <Residue LIG het=  resseq=0 icode= >, <Atom C2>), (<Model id=0>, <Chain id=B>, <Residue LIG het=  resseq=0 icode= >, <Atom C3>), (<Model id=0>, <Chain id=B>, <Residue LIG het=  resseq=0 icode= >, <Atom C4>), (<Model id=0>, <Chain id=B>, <Residue LIG het=  resseq=0 icode= >, <Atom C5>), (<Model id=0>, <Chain id=B>, <Residue LIG het=  resseq=0 icode= >, <Atom C6>), (<Model id=0>, <Chain id=B>, <Residue LIG het=  resseq=0 icode= >, <Atom C7>), (<Model id=0>, <Chain id=B>, <Residue LIG het=  resseq=0 icode= >, <Atom C8>), (<Model id=0>, <Chain id=B>, <Residue LIG het=  resseq=0 icode= >, <Atom C9>), (<Model id=0>, <Chain id=B>, <Residue LIG het=  resseq=0 icode= >, <Atom C10>), (<Model id=0>, <Chain id=B>, <Residue LIG het=  resseq=0 icode= >, <Atom C11>), (<Model id=0>, <Chain id=B>, <Residue LIG het=  resseq=0 icode= >, <Atom C12>), (<Model id=0>, <Chain id=B>, <Residue LIG het=  resseq=0 icode= >, <Atom C13>), (<Model id=0>, <Chain id=B>, <Residue LIG het=  resseq=0 icode= >, <Atom C14>), (<Model id=0>, <Chain id=B>, <Residue LIG het=  resseq=0 icode= >, <Atom C15>), (<Model id=0>, <Chain id=B>, <Residue LIG het=  resseq=0 icode= >, <Atom C16>), (<Model id=0>, <Chain id=B>, <Residue LIG het=  resseq=0 icode= >, <Atom C17>), (<Model id=0>, <Chain id=B>, <Residue LIG het=  resseq=0 icode= >, <Atom C18>), (<Model id=0>, <Chain id=B>, <Residue LIG het=  resseq=0 icode= >, <Atom C19>), (<Model id=0>, <Chain id=B>, <Residue LIG het=  resseq=0 icode= >, <Atom C20>), (<Model id=0>, <Chain id=B>, <Residue LIG het=  resseq=0 icode= >, <Atom C21>), (<Model id=0>, <Chain id=B>, <Residue LIG het=  resseq=0 icode= >, <Atom C22>), (<Model id=0>, <Chain id=B>, <Residue LIG het=  resseq=0 icode= >, <Atom N1>), (<Model id=0>, <Chain id=B>, <Residue LIG het=  resseq=0 icode= >, <Atom FE1>), (<Model id=0>, <Chain id=B>, <Residue LIG het=  resseq=0 icode= >, <Atom N2>), (<Model id=0>, <Chain id=B>, <Residue LIG het=  resseq=0 icode= >, <Atom C28>), (<Model id=0>, <Chain id=B>, <Residue LIG het=  resseq=0 icode= >, <Atom C29>), (<Model id=0>, <Chain id=B>, <Residue LIG het=  resseq=0 icode= >, <Atom C30>), (<Model id=0>, <Chain id=B>, <Residue LIG het=  resseq=0 icode= >, <Atom C31>), (<Model id=0>, <Chain id=B>, <Residue LIG het=  resseq=0 icode= >, <Atom C32>), (<Model id=0>, <Chain id=B>, <Residue LIG het=  resseq=0 icode= >, <Atom C33>), (<Model id=0>, <Chain id=B>, <Residue LIG het=  resseq=0 icode= >, <Atom C34>), (<Model id=0>, <Chain id=B>, <Residue LIG het=  resseq=0 icode= >, <Atom C35>), (<Model id=0>, <Chain id=B>, <Residue LIG het=  resseq=0 icode= >, <Atom C36>), (<Model id=0>, <Chain id=B>, <Residue LIG het=  resseq=0 icode= >, <Atom O3>), (<Model id=0>, <Chain id=B>, <Residue LIG het=  resseq=0 icode= >, <Atom O4>), (<Model id=0>, <Chain id=B>, <Residue LIG het=  resseq=0 icode= >, <Atom C37>), (<Model id=0>, <Chain id=B>, <Residue LIG het=  resseq=0 icode= >, <Atom N3>), (<Model id=0>, <Chain id=B>, <Residue LIG het=  resseq=0 icode= >, <Atom C38>), (<Model id=0>, <Chain id=B>, <Residue LIG het=  resseq=0 icode= >, <Atom C39>), (<Model id=0>, <Chain id=B>, <Residue LIG het=  resseq=0 icode= >, <Atom N4>), (<Model id=0>, <Chain id=B>, <Residue LIG het=  resseq=0 icode= >, <Atom C40>), (<Model id=0>, <Chain id=B>, <Residue LIG het=  resseq=0 icode= >, <Atom C41>), (<Model id=0>, <Chain id=B>, <Residue LIG het=  resseq=0 icode= >, <Atom C42>), (<Model id=0>, <Chain id=B>, <Residue LIG het=  resseq=0 icode= >, <Atom C43>), (<Model id=0>, <Chain id=B>, <Residue LIG het=  resseq=0 icode= >, <Atom C44>), (<Model id=0>, <Chain id=B>, <Residue LIG het=  resseq=0 icode= >, <Atom C45>), (<Model id=0>, <Chain id=B>, <Residue LIG het=  resseq=0 icode= >, <Atom C46>), (<Model id=0>, <Chain id=B>, <Residue LIG het=  resseq=0 icode= >, <Atom C47>), (<Model id=0>, <Chain id=B>, <Residue LIG het=  resseq=0 icode= >, <Atom O5>), (<Model id=0>, <Chain id=B>, <Residue LIG het=  resseq=0 icode= >, <Atom O6>)]\n",
      "Substructure saved to /disk2/fli/REVIVAL2/zs/vina/chai/struct_joint/Rma-CSi/M99P:M100L:D102N:M103L_0/carbene/carbene_temp.pdb\n",
      "Removing ions from zs/vina/chai/struct_joint/Rma-CSi/M99P:M100L:D102N:M103L_0/carbene/carbene_temp.pdb\n",
      "Cleaned PDBQT file saved to: zs/vina/chai/struct_joint/Rma-CSi/M99P:M100L:D102N:M103L_0/carbene/carbene.pdbqt\n",
      "Making zs/vina/chai/struct_joint/Rma-CSi/M99P:M100L:D102N:M103L_0/heme ...\n",
      "Processing ligand heme\n",
      "Checking for ions...\n",
      "Processing ligand heme from zs/vina/chai/struct_joint/Rma-CSi/M99P:M100L:D102N:M103L_0/M99P:M100L:D102N:M103L_0.pdb\n",
      "Substrate atoms: [(<Model id=0>, <Chain id=B>, <Residue LIG het=  resseq=0 icode= >, <Atom C1>), (<Model id=0>, <Chain id=B>, <Residue LIG het=  resseq=0 icode= >, <Atom SI1>), (<Model id=0>, <Chain id=B>, <Residue LIG het=  resseq=0 icode= >, <Atom C2>), (<Model id=0>, <Chain id=B>, <Residue LIG het=  resseq=0 icode= >, <Atom C3>), (<Model id=0>, <Chain id=B>, <Residue LIG het=  resseq=0 icode= >, <Atom C4>), (<Model id=0>, <Chain id=B>, <Residue LIG het=  resseq=0 icode= >, <Atom C5>), (<Model id=0>, <Chain id=B>, <Residue LIG het=  resseq=0 icode= >, <Atom C6>), (<Model id=0>, <Chain id=B>, <Residue LIG het=  resseq=0 icode= >, <Atom C7>), (<Model id=0>, <Chain id=B>, <Residue LIG het=  resseq=0 icode= >, <Atom C8>), (<Model id=0>, <Chain id=B>, <Residue LIG het=  resseq=0 icode= >, <Atom C23>), (<Model id=0>, <Chain id=B>, <Residue LIG het=  resseq=0 icode= >, <Atom C24>), (<Model id=0>, <Chain id=B>, <Residue LIG het=  resseq=0 icode= >, <Atom C25>), (<Model id=0>, <Chain id=B>, <Residue LIG het=  resseq=0 icode= >, <Atom O1>), (<Model id=0>, <Chain id=B>, <Residue LIG het=  resseq=0 icode= >, <Atom O2>), (<Model id=0>, <Chain id=B>, <Residue LIG het=  resseq=0 icode= >, <Atom C26>), (<Model id=0>, <Chain id=B>, <Residue LIG het=  resseq=0 icode= >, <Atom C27>)]\n",
      "Rest atoms: [(<Model id=0>, <Chain id=B>, <Residue LIG het=  resseq=0 icode= >, <Atom C9>), (<Model id=0>, <Chain id=B>, <Residue LIG het=  resseq=0 icode= >, <Atom C10>), (<Model id=0>, <Chain id=B>, <Residue LIG het=  resseq=0 icode= >, <Atom C11>), (<Model id=0>, <Chain id=B>, <Residue LIG het=  resseq=0 icode= >, <Atom C12>), (<Model id=0>, <Chain id=B>, <Residue LIG het=  resseq=0 icode= >, <Atom C13>), (<Model id=0>, <Chain id=B>, <Residue LIG het=  resseq=0 icode= >, <Atom C14>), (<Model id=0>, <Chain id=B>, <Residue LIG het=  resseq=0 icode= >, <Atom C15>), (<Model id=0>, <Chain id=B>, <Residue LIG het=  resseq=0 icode= >, <Atom C16>), (<Model id=0>, <Chain id=B>, <Residue LIG het=  resseq=0 icode= >, <Atom C17>), (<Model id=0>, <Chain id=B>, <Residue LIG het=  resseq=0 icode= >, <Atom C18>), (<Model id=0>, <Chain id=B>, <Residue LIG het=  resseq=0 icode= >, <Atom C19>), (<Model id=0>, <Chain id=B>, <Residue LIG het=  resseq=0 icode= >, <Atom C20>), (<Model id=0>, <Chain id=B>, <Residue LIG het=  resseq=0 icode= >, <Atom C21>), (<Model id=0>, <Chain id=B>, <Residue LIG het=  resseq=0 icode= >, <Atom C22>), (<Model id=0>, <Chain id=B>, <Residue LIG het=  resseq=0 icode= >, <Atom N1>), (<Model id=0>, <Chain id=B>, <Residue LIG het=  resseq=0 icode= >, <Atom FE1>), (<Model id=0>, <Chain id=B>, <Residue LIG het=  resseq=0 icode= >, <Atom N2>), (<Model id=0>, <Chain id=B>, <Residue LIG het=  resseq=0 icode= >, <Atom C28>), (<Model id=0>, <Chain id=B>, <Residue LIG het=  resseq=0 icode= >, <Atom C29>), (<Model id=0>, <Chain id=B>, <Residue LIG het=  resseq=0 icode= >, <Atom C30>), (<Model id=0>, <Chain id=B>, <Residue LIG het=  resseq=0 icode= >, <Atom C31>), (<Model id=0>, <Chain id=B>, <Residue LIG het=  resseq=0 icode= >, <Atom C32>), (<Model id=0>, <Chain id=B>, <Residue LIG het=  resseq=0 icode= >, <Atom C33>), (<Model id=0>, <Chain id=B>, <Residue LIG het=  resseq=0 icode= >, <Atom C34>), (<Model id=0>, <Chain id=B>, <Residue LIG het=  resseq=0 icode= >, <Atom C35>), (<Model id=0>, <Chain id=B>, <Residue LIG het=  resseq=0 icode= >, <Atom C36>), (<Model id=0>, <Chain id=B>, <Residue LIG het=  resseq=0 icode= >, <Atom O3>), (<Model id=0>, <Chain id=B>, <Residue LIG het=  resseq=0 icode= >, <Atom O4>), (<Model id=0>, <Chain id=B>, <Residue LIG het=  resseq=0 icode= >, <Atom C37>), (<Model id=0>, <Chain id=B>, <Residue LIG het=  resseq=0 icode= >, <Atom N3>), (<Model id=0>, <Chain id=B>, <Residue LIG het=  resseq=0 icode= >, <Atom C38>), (<Model id=0>, <Chain id=B>, <Residue LIG het=  resseq=0 icode= >, <Atom C39>), (<Model id=0>, <Chain id=B>, <Residue LIG het=  resseq=0 icode= >, <Atom N4>), (<Model id=0>, <Chain id=B>, <Residue LIG het=  resseq=0 icode= >, <Atom C40>), (<Model id=0>, <Chain id=B>, <Residue LIG het=  resseq=0 icode= >, <Atom C41>), (<Model id=0>, <Chain id=B>, <Residue LIG het=  resseq=0 icode= >, <Atom C42>), (<Model id=0>, <Chain id=B>, <Residue LIG het=  resseq=0 icode= >, <Atom C43>), (<Model id=0>, <Chain id=B>, <Residue LIG het=  resseq=0 icode= >, <Atom C44>), (<Model id=0>, <Chain id=B>, <Residue LIG het=  resseq=0 icode= >, <Atom C45>), (<Model id=0>, <Chain id=B>, <Residue LIG het=  resseq=0 icode= >, <Atom C46>), (<Model id=0>, <Chain id=B>, <Residue LIG het=  resseq=0 icode= >, <Atom C47>), (<Model id=0>, <Chain id=B>, <Residue LIG het=  resseq=0 icode= >, <Atom O5>), (<Model id=0>, <Chain id=B>, <Residue LIG het=  resseq=0 icode= >, <Atom O6>)]\n",
      "Substructure saved to /disk2/fli/REVIVAL2/zs/vina/chai/struct_joint/Rma-CSi/M99P:M100L:D102N:M103L_0/heme/heme_temp.pdb\n",
      "Removing ions from zs/vina/chai/struct_joint/Rma-CSi/M99P:M100L:D102N:M103L_0/heme/heme_temp.pdb\n",
      "Cleaned PDBQT file saved to: zs/vina/chai/struct_joint/Rma-CSi/M99P:M100L:D102N:M103L_0/heme/heme.pdbqt\n",
      "Making zs/vina/chai/struct_joint/Rma-CSi/M99P:M100L:D102N:M103L_0/Fe ...\n",
      "Processing ligand Fe\n",
      "Checking for ions...\n",
      "Processing ion Fe\n",
      "Ions matching 'FE' were successfully extracted to zs/vina/chai/struct_joint/Rma-CSi/M99P:M100L:D102N:M103L_0/Fe/FE.pdb.\n",
      "cofactor_pdbqts: ['zs/vina/chai/struct_joint/Rma-CSi/M99P:M100L:D102N:M103L_0/carbene/carbene.pdbqt', 'zs/vina/chai/struct_joint/Rma-CSi/M99P:M100L:D102N:M103L_0/heme/heme.pdbqt', 'zs/vina/chai/struct_joint/Rma-CSi/M99P:M100L:D102N:M103L_0/Fe/FE.pdbqt']\n",
      "Making zs/vina/chai/struct_joint/Rma-CSi/M99P:M100L:D102N:M103L_0/M99P:M100L:D102N:M103L_0_cofactors ...\n",
      "Merging zs/vina/chai/struct_joint/Rma-CSi/M99P:M100L:D102N:M103L_0/M99P:M100L:D102N:M103L_0/M99P:M100L:D102N:M103L_0.pdbqt\n",
      "Merging zs/vina/chai/struct_joint/Rma-CSi/M99P:M100L:D102N:M103L_0/carbene/carbene.pdbqt\n",
      "Merging zs/vina/chai/struct_joint/Rma-CSi/M99P:M100L:D102N:M103L_0/heme/heme.pdbqt\n",
      "Merging zs/vina/chai/struct_joint/Rma-CSi/M99P:M100L:D102N:M103L_0/Fe/FE.pdbqt\n",
      "Combined ATOM lines saved to zs/vina/chai/struct_joint/Rma-CSi/M99P:M100L:D102N:M103L_0/M99P:M100L:D102N:M103L_0_cofactors/M99P:M100L:D102N:M103L_0_cofactors.pdbqt\n",
      "Vina run (score-only) completed successfully. Log saved to: zs/vina/chai/struct_joint/Rma-CSi/M99P:M100L:D102N:M103L_0/M99P:M100L:D102N:M103L_0-phenyldimethylsilane-substrate-score_only_log.txt\n"
     ]
    },
    {
     "data": {
      "text/plain": [
       "'zs/vina/chai/struct_joint/Rma-CSi/M99P:M100L:D102N:M103L_0/M99P:M100L:D102N:M103L_0-phenyldimethylsilane-substrate-score_only_log.txt'"
      ]
     },
     "execution_count": 34,
     "metadata": {},
     "output_type": "execute_result"
    }
   ],
   "source": [
    "from REVIVAL.zs.vina import dock\n",
    "\n",
    "dock(\n",
    "    input_struct_path=\"/disk2/fli/REVIVAL2/zs/chai/struct_joint/Rma-CSi/M99P:M100L:D102N:M103L/M99P:M100L:D102N:M103L_0.cif\",\n",
    "    dock_opt=\"substrate\",\n",
    "    score_only = True,\n",
    "    regen=True,\n",
    "    rerun=True\n",
    ")"
   ]
  },
  {
   "cell_type": "code",
   "execution_count": 35,
   "metadata": {},
   "outputs": [
    {
     "name": "stdout",
     "output_type": "stream",
     "text": [
      "Making zs/vina/chai/struct_seperate/Rma-CSi ...\n",
      "Making zs/vina/chai/struct_seperate/Rma-CSi/M99P:M100L:D102N:M103L_0 ...\n",
      "Making zs/vina/chai/struct_seperate/Rma-CSi/M99P:M100L:D102N:M103L_0/M99P:M100L:D102N:M103L_0 ...\n"
     ]
    },
    {
     "name": "stderr",
     "output_type": "stream",
     "text": [
      "==============================\n",
      "*** Open Babel Warning  in PerceiveBondOrders\n",
      "  Failed to kekulize aromatic bonds in OBMol::PerceiveBondOrders (title is model)\n",
      "\n",
      "1 molecule converted\n",
      "1 molecule converted\n",
      "1 molecule converted\n"
     ]
    },
    {
     "name": "stdout",
     "output_type": "stream",
     "text": [
      "Making zs/vina/chai/struct_seperate/Rma-CSi/M99P:M100L:D102N:M103L_0/phenyldimethylsilane ...\n",
      "Processing ligand phenyldimethylsilane\n",
      "Checking for ions...\n",
      "Processing ligand phenyldimethylsilane from zs/vina/chai/struct_seperate/Rma-CSi/M99P:M100L:D102N:M103L_0/M99P:M100L:D102N:M103L_0.pdb\n",
      "Substrate atoms: [(<Model id=0>, <Chain id=B>, <Residue LIG het=  resseq=0 icode= >, <Atom C1>), (<Model id=0>, <Chain id=B>, <Residue LIG het=  resseq=0 icode= >, <Atom SI1>), (<Model id=0>, <Chain id=B>, <Residue LIG het=  resseq=0 icode= >, <Atom C2>), (<Model id=0>, <Chain id=B>, <Residue LIG het=  resseq=0 icode= >, <Atom C3>), (<Model id=0>, <Chain id=B>, <Residue LIG het=  resseq=0 icode= >, <Atom C4>), (<Model id=0>, <Chain id=B>, <Residue LIG het=  resseq=0 icode= >, <Atom C5>), (<Model id=0>, <Chain id=B>, <Residue LIG het=  resseq=0 icode= >, <Atom C6>), (<Model id=0>, <Chain id=B>, <Residue LIG het=  resseq=0 icode= >, <Atom C7>), (<Model id=0>, <Chain id=B>, <Residue LIG het=  resseq=0 icode= >, <Atom C8>)]\n",
      "Rest atoms: []\n",
      "Substructure saved to /disk2/fli/REVIVAL2/zs/vina/chai/struct_seperate/Rma-CSi/M99P:M100L:D102N:M103L_0/phenyldimethylsilane/phenyldimethylsilane_temp.pdb\n",
      "Removing ions from zs/vina/chai/struct_seperate/Rma-CSi/M99P:M100L:D102N:M103L_0/phenyldimethylsilane/phenyldimethylsilane_temp.pdb\n",
      "Added H 'H1' to SI1 in LIG (chain B)\n",
      "\n",
      "Saved updated PDB to: zs/vina/chai/struct_seperate/Rma-CSi/M99P:M100L:D102N:M103L_0/phenyldimethylsilane/phenyldimethylsilane.pdb\n",
      "Processing cofactor carbene-heme C=CC1=C(C=C2C(C)=C(C=C)C3=[N]2[Fe]45(N6C(C(C)=C(CCC([O-])=O)C6=C7)=C3)=C(C)C(OCC)=O)N4C(C=C8[N]5=C7C(CCC([O-])=O)=C8C)=C1C using zs/vina/chai/struct_seperate/Rma-CSi/M99P:M100L:D102N:M103L_0/M99P:M100L:D102N:M103L_0.pdb\n",
      "Making zs/vina/chai/struct_seperate/Rma-CSi/M99P:M100L:D102N:M103L_0/carbene ...\n",
      "Processing ligand carbene\n",
      "Checking for ions...\n",
      "Processing ligand carbene from zs/vina/chai/struct_seperate/Rma-CSi/M99P:M100L:D102N:M103L_0/M99P:M100L:D102N:M103L_0.pdb\n",
      "Substrate atoms: [(<Model id=0>, <Chain id=C>, <Residue LIG het=  resseq=0 icode= >, <Atom C15>), (<Model id=0>, <Chain id=C>, <Residue LIG het=  resseq=0 icode= >, <Atom C16>), (<Model id=0>, <Chain id=C>, <Residue LIG het=  resseq=0 icode= >, <Atom C17>), (<Model id=0>, <Chain id=C>, <Residue LIG het=  resseq=0 icode= >, <Atom O1>), (<Model id=0>, <Chain id=C>, <Residue LIG het=  resseq=0 icode= >, <Atom O2>), (<Model id=0>, <Chain id=C>, <Residue LIG het=  resseq=0 icode= >, <Atom C18>), (<Model id=0>, <Chain id=C>, <Residue LIG het=  resseq=0 icode= >, <Atom C19>)]\n",
      "Rest atoms: [(<Model id=0>, <Chain id=C>, <Residue LIG het=  resseq=0 icode= >, <Atom C1>), (<Model id=0>, <Chain id=C>, <Residue LIG het=  resseq=0 icode= >, <Atom C2>), (<Model id=0>, <Chain id=C>, <Residue LIG het=  resseq=0 icode= >, <Atom C3>), (<Model id=0>, <Chain id=C>, <Residue LIG het=  resseq=0 icode= >, <Atom C4>), (<Model id=0>, <Chain id=C>, <Residue LIG het=  resseq=0 icode= >, <Atom C5>), (<Model id=0>, <Chain id=C>, <Residue LIG het=  resseq=0 icode= >, <Atom C6>), (<Model id=0>, <Chain id=C>, <Residue LIG het=  resseq=0 icode= >, <Atom C7>), (<Model id=0>, <Chain id=C>, <Residue LIG het=  resseq=0 icode= >, <Atom C8>), (<Model id=0>, <Chain id=C>, <Residue LIG het=  resseq=0 icode= >, <Atom C9>), (<Model id=0>, <Chain id=C>, <Residue LIG het=  resseq=0 icode= >, <Atom C10>), (<Model id=0>, <Chain id=C>, <Residue LIG het=  resseq=0 icode= >, <Atom C11>), (<Model id=0>, <Chain id=C>, <Residue LIG het=  resseq=0 icode= >, <Atom C12>), (<Model id=0>, <Chain id=C>, <Residue LIG het=  resseq=0 icode= >, <Atom C13>), (<Model id=0>, <Chain id=C>, <Residue LIG het=  resseq=0 icode= >, <Atom C14>), (<Model id=0>, <Chain id=C>, <Residue LIG het=  resseq=0 icode= >, <Atom N1>), (<Model id=0>, <Chain id=C>, <Residue LIG het=  resseq=0 icode= >, <Atom FE1>), (<Model id=0>, <Chain id=C>, <Residue LIG het=  resseq=0 icode= >, <Atom N2>), (<Model id=0>, <Chain id=C>, <Residue LIG het=  resseq=0 icode= >, <Atom C20>), (<Model id=0>, <Chain id=C>, <Residue LIG het=  resseq=0 icode= >, <Atom C21>), (<Model id=0>, <Chain id=C>, <Residue LIG het=  resseq=0 icode= >, <Atom C22>), (<Model id=0>, <Chain id=C>, <Residue LIG het=  resseq=0 icode= >, <Atom C23>), (<Model id=0>, <Chain id=C>, <Residue LIG het=  resseq=0 icode= >, <Atom C24>), (<Model id=0>, <Chain id=C>, <Residue LIG het=  resseq=0 icode= >, <Atom C25>), (<Model id=0>, <Chain id=C>, <Residue LIG het=  resseq=0 icode= >, <Atom C26>), (<Model id=0>, <Chain id=C>, <Residue LIG het=  resseq=0 icode= >, <Atom C27>), (<Model id=0>, <Chain id=C>, <Residue LIG het=  resseq=0 icode= >, <Atom C28>), (<Model id=0>, <Chain id=C>, <Residue LIG het=  resseq=0 icode= >, <Atom O3>), (<Model id=0>, <Chain id=C>, <Residue LIG het=  resseq=0 icode= >, <Atom O4>), (<Model id=0>, <Chain id=C>, <Residue LIG het=  resseq=0 icode= >, <Atom C29>), (<Model id=0>, <Chain id=C>, <Residue LIG het=  resseq=0 icode= >, <Atom N3>), (<Model id=0>, <Chain id=C>, <Residue LIG het=  resseq=0 icode= >, <Atom C30>), (<Model id=0>, <Chain id=C>, <Residue LIG het=  resseq=0 icode= >, <Atom C31>), (<Model id=0>, <Chain id=C>, <Residue LIG het=  resseq=0 icode= >, <Atom N4>), (<Model id=0>, <Chain id=C>, <Residue LIG het=  resseq=0 icode= >, <Atom C32>), (<Model id=0>, <Chain id=C>, <Residue LIG het=  resseq=0 icode= >, <Atom C33>), (<Model id=0>, <Chain id=C>, <Residue LIG het=  resseq=0 icode= >, <Atom C34>), (<Model id=0>, <Chain id=C>, <Residue LIG het=  resseq=0 icode= >, <Atom C35>), (<Model id=0>, <Chain id=C>, <Residue LIG het=  resseq=0 icode= >, <Atom C36>), (<Model id=0>, <Chain id=C>, <Residue LIG het=  resseq=0 icode= >, <Atom C37>), (<Model id=0>, <Chain id=C>, <Residue LIG het=  resseq=0 icode= >, <Atom C38>), (<Model id=0>, <Chain id=C>, <Residue LIG het=  resseq=0 icode= >, <Atom C39>), (<Model id=0>, <Chain id=C>, <Residue LIG het=  resseq=0 icode= >, <Atom O5>), (<Model id=0>, <Chain id=C>, <Residue LIG het=  resseq=0 icode= >, <Atom O6>)]\n",
      "Substructure saved to /disk2/fli/REVIVAL2/zs/vina/chai/struct_seperate/Rma-CSi/M99P:M100L:D102N:M103L_0/carbene/carbene_temp.pdb\n",
      "Removing ions from zs/vina/chai/struct_seperate/Rma-CSi/M99P:M100L:D102N:M103L_0/carbene/carbene_temp.pdb\n",
      "Cleaned PDBQT file saved to: zs/vina/chai/struct_seperate/Rma-CSi/M99P:M100L:D102N:M103L_0/carbene/carbene.pdbqt\n",
      "Making zs/vina/chai/struct_seperate/Rma-CSi/M99P:M100L:D102N:M103L_0/heme ...\n",
      "Processing ligand heme\n",
      "Checking for ions...\n",
      "Processing ligand heme from zs/vina/chai/struct_seperate/Rma-CSi/M99P:M100L:D102N:M103L_0/M99P:M100L:D102N:M103L_0.pdb\n",
      "Substrate atoms: [(<Model id=0>, <Chain id=C>, <Residue LIG het=  resseq=0 icode= >, <Atom C15>), (<Model id=0>, <Chain id=C>, <Residue LIG het=  resseq=0 icode= >, <Atom C16>), (<Model id=0>, <Chain id=C>, <Residue LIG het=  resseq=0 icode= >, <Atom C17>), (<Model id=0>, <Chain id=C>, <Residue LIG het=  resseq=0 icode= >, <Atom O1>), (<Model id=0>, <Chain id=C>, <Residue LIG het=  resseq=0 icode= >, <Atom O2>), (<Model id=0>, <Chain id=C>, <Residue LIG het=  resseq=0 icode= >, <Atom C18>), (<Model id=0>, <Chain id=C>, <Residue LIG het=  resseq=0 icode= >, <Atom C19>)]\n",
      "Rest atoms: [(<Model id=0>, <Chain id=C>, <Residue LIG het=  resseq=0 icode= >, <Atom C1>), (<Model id=0>, <Chain id=C>, <Residue LIG het=  resseq=0 icode= >, <Atom C2>), (<Model id=0>, <Chain id=C>, <Residue LIG het=  resseq=0 icode= >, <Atom C3>), (<Model id=0>, <Chain id=C>, <Residue LIG het=  resseq=0 icode= >, <Atom C4>), (<Model id=0>, <Chain id=C>, <Residue LIG het=  resseq=0 icode= >, <Atom C5>), (<Model id=0>, <Chain id=C>, <Residue LIG het=  resseq=0 icode= >, <Atom C6>), (<Model id=0>, <Chain id=C>, <Residue LIG het=  resseq=0 icode= >, <Atom C7>), (<Model id=0>, <Chain id=C>, <Residue LIG het=  resseq=0 icode= >, <Atom C8>), (<Model id=0>, <Chain id=C>, <Residue LIG het=  resseq=0 icode= >, <Atom C9>), (<Model id=0>, <Chain id=C>, <Residue LIG het=  resseq=0 icode= >, <Atom C10>), (<Model id=0>, <Chain id=C>, <Residue LIG het=  resseq=0 icode= >, <Atom C11>), (<Model id=0>, <Chain id=C>, <Residue LIG het=  resseq=0 icode= >, <Atom C12>), (<Model id=0>, <Chain id=C>, <Residue LIG het=  resseq=0 icode= >, <Atom C13>), (<Model id=0>, <Chain id=C>, <Residue LIG het=  resseq=0 icode= >, <Atom C14>), (<Model id=0>, <Chain id=C>, <Residue LIG het=  resseq=0 icode= >, <Atom N1>), (<Model id=0>, <Chain id=C>, <Residue LIG het=  resseq=0 icode= >, <Atom FE1>), (<Model id=0>, <Chain id=C>, <Residue LIG het=  resseq=0 icode= >, <Atom N2>), (<Model id=0>, <Chain id=C>, <Residue LIG het=  resseq=0 icode= >, <Atom C20>), (<Model id=0>, <Chain id=C>, <Residue LIG het=  resseq=0 icode= >, <Atom C21>), (<Model id=0>, <Chain id=C>, <Residue LIG het=  resseq=0 icode= >, <Atom C22>), (<Model id=0>, <Chain id=C>, <Residue LIG het=  resseq=0 icode= >, <Atom C23>), (<Model id=0>, <Chain id=C>, <Residue LIG het=  resseq=0 icode= >, <Atom C24>), (<Model id=0>, <Chain id=C>, <Residue LIG het=  resseq=0 icode= >, <Atom C25>), (<Model id=0>, <Chain id=C>, <Residue LIG het=  resseq=0 icode= >, <Atom C26>), (<Model id=0>, <Chain id=C>, <Residue LIG het=  resseq=0 icode= >, <Atom C27>), (<Model id=0>, <Chain id=C>, <Residue LIG het=  resseq=0 icode= >, <Atom C28>), (<Model id=0>, <Chain id=C>, <Residue LIG het=  resseq=0 icode= >, <Atom O3>), (<Model id=0>, <Chain id=C>, <Residue LIG het=  resseq=0 icode= >, <Atom O4>), (<Model id=0>, <Chain id=C>, <Residue LIG het=  resseq=0 icode= >, <Atom C29>), (<Model id=0>, <Chain id=C>, <Residue LIG het=  resseq=0 icode= >, <Atom N3>), (<Model id=0>, <Chain id=C>, <Residue LIG het=  resseq=0 icode= >, <Atom C30>), (<Model id=0>, <Chain id=C>, <Residue LIG het=  resseq=0 icode= >, <Atom C31>), (<Model id=0>, <Chain id=C>, <Residue LIG het=  resseq=0 icode= >, <Atom N4>), (<Model id=0>, <Chain id=C>, <Residue LIG het=  resseq=0 icode= >, <Atom C32>), (<Model id=0>, <Chain id=C>, <Residue LIG het=  resseq=0 icode= >, <Atom C33>), (<Model id=0>, <Chain id=C>, <Residue LIG het=  resseq=0 icode= >, <Atom C34>), (<Model id=0>, <Chain id=C>, <Residue LIG het=  resseq=0 icode= >, <Atom C35>), (<Model id=0>, <Chain id=C>, <Residue LIG het=  resseq=0 icode= >, <Atom C36>), (<Model id=0>, <Chain id=C>, <Residue LIG het=  resseq=0 icode= >, <Atom C37>), (<Model id=0>, <Chain id=C>, <Residue LIG het=  resseq=0 icode= >, <Atom C38>), (<Model id=0>, <Chain id=C>, <Residue LIG het=  resseq=0 icode= >, <Atom C39>), (<Model id=0>, <Chain id=C>, <Residue LIG het=  resseq=0 icode= >, <Atom O5>), (<Model id=0>, <Chain id=C>, <Residue LIG het=  resseq=0 icode= >, <Atom O6>)]\n",
      "Substructure saved to /disk2/fli/REVIVAL2/zs/vina/chai/struct_seperate/Rma-CSi/M99P:M100L:D102N:M103L_0/heme/heme_temp.pdb\n",
      "Removing ions from zs/vina/chai/struct_seperate/Rma-CSi/M99P:M100L:D102N:M103L_0/heme/heme_temp.pdb\n",
      "Cleaned PDBQT file saved to: zs/vina/chai/struct_seperate/Rma-CSi/M99P:M100L:D102N:M103L_0/heme/heme.pdbqt\n",
      "Making zs/vina/chai/struct_seperate/Rma-CSi/M99P:M100L:D102N:M103L_0/Fe ...\n",
      "Processing ligand Fe\n",
      "Checking for ions...\n",
      "Processing ion Fe\n",
      "Ions matching 'FE' were successfully extracted to zs/vina/chai/struct_seperate/Rma-CSi/M99P:M100L:D102N:M103L_0/Fe/FE.pdb.\n",
      "cofactor_pdbqts: ['zs/vina/chai/struct_seperate/Rma-CSi/M99P:M100L:D102N:M103L_0/carbene/carbene.pdbqt', 'zs/vina/chai/struct_seperate/Rma-CSi/M99P:M100L:D102N:M103L_0/heme/heme.pdbqt', 'zs/vina/chai/struct_seperate/Rma-CSi/M99P:M100L:D102N:M103L_0/Fe/FE.pdbqt']\n",
      "Making zs/vina/chai/struct_seperate/Rma-CSi/M99P:M100L:D102N:M103L_0/M99P:M100L:D102N:M103L_0_cofactors ...\n",
      "Merging zs/vina/chai/struct_seperate/Rma-CSi/M99P:M100L:D102N:M103L_0/M99P:M100L:D102N:M103L_0/M99P:M100L:D102N:M103L_0.pdbqt\n",
      "Merging zs/vina/chai/struct_seperate/Rma-CSi/M99P:M100L:D102N:M103L_0/carbene/carbene.pdbqt\n",
      "Merging zs/vina/chai/struct_seperate/Rma-CSi/M99P:M100L:D102N:M103L_0/heme/heme.pdbqt\n",
      "Merging zs/vina/chai/struct_seperate/Rma-CSi/M99P:M100L:D102N:M103L_0/Fe/FE.pdbqt\n",
      "Combined ATOM lines saved to zs/vina/chai/struct_seperate/Rma-CSi/M99P:M100L:D102N:M103L_0/M99P:M100L:D102N:M103L_0_cofactors/M99P:M100L:D102N:M103L_0_cofactors.pdbqt\n",
      "Vina run (score-only) completed successfully. Log saved to: zs/vina/chai/struct_seperate/Rma-CSi/M99P:M100L:D102N:M103L_0/M99P:M100L:D102N:M103L_0-phenyldimethylsilane-substrate-score_only_log.txt\n"
     ]
    },
    {
     "data": {
      "text/plain": [
       "'zs/vina/chai/struct_seperate/Rma-CSi/M99P:M100L:D102N:M103L_0/M99P:M100L:D102N:M103L_0-phenyldimethylsilane-substrate-score_only_log.txt'"
      ]
     },
     "execution_count": 35,
     "metadata": {},
     "output_type": "execute_result"
    }
   ],
   "source": [
    "from REVIVAL.zs.vina import dock\n",
    "\n",
    "dock(\n",
    "    input_struct_path=\"/disk2/fli/REVIVAL2/zs/chai/struct_seperate/Rma-CSi/M99P:M100L:D102N:M103L/M99P:M100L:D102N:M103L_0.cif\",\n",
    "    dock_opt=\"substrate\",\n",
    "    score_only = True,\n",
    "    regen=True,\n",
    "    rerun=True\n",
    ")"
   ]
  },
  {
   "cell_type": "code",
   "execution_count": 5,
   "metadata": {},
   "outputs": [],
   "source": [
    "def remove_ions(input_file_path: str, output_file_path: str) -> None:\n",
    "    \"\"\"\n",
    "    Remove lines containing ions from a PDB or CIF file.\n",
    "\n",
    "    Args:\n",
    "        input_file_path (str): Path to the input PDB or CIF file.\n",
    "        output_file_path (str): Path to save the file without ions.\n",
    "    \"\"\"\n",
    "    print(f\"Removing ions from {input_file_path}\")\n",
    "\n",
    "    with open(input_file_path, \"r\") as infile, open(output_file_path, \"w\") as outfile:\n",
    "        for line in infile:\n",
    "             # Remove lines with ligand ions\n",
    "            if (line.startswith(\"ATOM\") or line.startswith(\"HETATM\")) and any(ion in line for ion in LIGAND_IONS):\n",
    "                continue\n",
    "\n",
    "            # Update SI atom type to Si\n",
    "            if line.startswith(\"HETATM\") or line.startswith(\"ATOM\"):\n",
    "                if line[76:78].strip() == \"SI\":\n",
    "                    line = line[:76] + \"Si\".ljust(2) + line[78:]\n",
    "\n",
    "            # Write the modified or unmodified line\n",
    "            outfile.write(line)"
   ]
  },
  {
   "cell_type": "code",
   "execution_count": 7,
   "metadata": {},
   "outputs": [
    {
     "name": "stdout",
     "output_type": "stream",
     "text": [
      "Removing ions from /disk2/fli/REVIVAL2/zs/vina/chai/struct_joint/Rma-CSi/M99P:M100L:D102N:M103L_0/phenyldimethylsilane/phenyldimethylsilane.pdb\n"
     ]
    }
   ],
   "source": [
    "LIGAND_IONS = [\"NA\", \"FE\"]\n",
    "\n",
    "remove_ions(\n",
    "    input_file_path=\"/disk2/fli/REVIVAL2/zs/vina/chai/struct_joint/Rma-CSi/M99P:M100L:D102N:M103L_0/phenyldimethylsilane/phenyldimethylsilane.pdb\",\n",
    "    output_file_path=\"/disk2/fli/REVIVAL2/zs/vina/chai/struct_joint/Rma-CSi/M99P:M100L:D102N:M103L_0/phenyldimethylsilane/phenyldimethylsilane_2.pdb\")"
   ]
  },
  {
   "cell_type": "code",
   "execution_count": 5,
   "metadata": {},
   "outputs": [],
   "source": [
    "def update_si_atom_type(input_file: str, output_file: str):\n",
    "    \"\"\"\n",
    "    Update the atom type `SI` to `Si` in a PDB or PDBQT file.\n",
    "\n",
    "    Args:\n",
    "        input_file (str): Path to the input file.\n",
    "        output_file (str): Path to save the modified file.\n",
    "    \"\"\"\n",
    "    try:\n",
    "        with open(input_file, \"r\") as infile, open(output_file, \"w\") as outfile:\n",
    "            for line in infile:\n",
    "                if line.startswith(\"HETATM\") or line.startswith(\"ATOM\"):\n",
    "                    # Check if the atom type (last column) is SI and replace it with Si\n",
    "                    if line[76:78].strip() == \"SI\":\n",
    "                        line = line[:76] + \"Si\".ljust(2) + line[78:]\n",
    "                outfile.write(line)\n",
    "        print(f\"File processed successfully. Modified file saved to: {output_file}\")\n",
    "    except Exception as e:\n",
    "        print(f\"Error processing file: {e}\")\n"
   ]
  },
  {
   "cell_type": "code",
   "execution_count": 6,
   "metadata": {},
   "outputs": [
    {
     "name": "stdout",
     "output_type": "stream",
     "text": [
      "File processed successfully. Modified file saved to: /disk2/fli/REVIVAL2/zs/vina/chai/struct_joint/Rma-CSi/M99P:M100L:D102N:M103L_0/phenyldimethylsilane/phenyldimethylsilane_2.pdb\n"
     ]
    }
   ],
   "source": [
    "update_si_atom_type(\n",
    "    input_file=\"/disk2/fli/REVIVAL2/zs/vina/chai/struct_joint/Rma-CSi/M99P:M100L:D102N:M103L_0/phenyldimethylsilane/phenyldimethylsilane.pdb\",\n",
    "    output_file=\"/disk2/fli/REVIVAL2/zs/vina/chai/struct_joint/Rma-CSi/M99P:M100L:D102N:M103L_0/phenyldimethylsilane/phenyldimethylsilane_2.pdb\")"
   ]
  },
  {
   "cell_type": "code",
   "execution_count": 10,
   "metadata": {},
   "outputs": [],
   "source": [
    "\n",
    "def remove_ions(input_file_path: str, output_file_path: str) -> None:\n",
    "    \"\"\"\n",
    "    Remove lines containing ions from a PDB or CIF file.\n",
    "\n",
    "    Args:\n",
    "        input_file_path (str): Path to the input PDB or CIF file.\n",
    "        output_file_path (str): Path to save the file without ions.\n",
    "    \"\"\"\n",
    "    print(f\"Removing ions from {input_file_path}\")\n",
    "\n",
    "    with open(input_file_path, \"r\") as infile, open(output_file_path, \"w\") as outfile:\n",
    "        for line in infile:\n",
    "            if not (line.startswith(\"ATOM\") or line.startswith(\"HETATM\")) or not any(\n",
    "                ion in line[76:78].strip() for ion in LIGAND_IONS\n",
    "            ):\n",
    "                outfile.write(line)\n"
   ]
  },
  {
   "cell_type": "code",
   "execution_count": 13,
   "metadata": {},
   "outputs": [
    {
     "name": "stdout",
     "output_type": "stream",
     "text": [
      "Removing ions from /disk2/fli/REVIVAL2/zs/vina/chai/struct_joint/Rma-CSi/M99P:M100L:D102N:M103L_0/phenyldimethylsilane/phenyldimethylsilane.pdb\n"
     ]
    }
   ],
   "source": [
    "remove_ions(\n",
    "    input_file_path=\"/disk2/fli/REVIVAL2/zs/vina/chai/struct_joint/Rma-CSi/M99P:M100L:D102N:M103L_0/phenyldimethylsilane/phenyldimethylsilane.pdb\",\n",
    "    output_file_path=\"/disk2/fli/REVIVAL2/zs/vina/chai/struct_joint/Rma-CSi/M99P:M100L:D102N:M103L_0/phenyldimethylsilane/phenyldimethylsilane_2.pdb\")"
   ]
  },
  {
   "cell_type": "code",
   "execution_count": null,
   "metadata": {},
   "outputs": [],
   "source": []
  }
 ],
 "metadata": {
  "kernelspec": {
   "display_name": "vina",
   "language": "python",
   "name": "python3"
  },
  "language_info": {
   "codemirror_mode": {
    "name": "ipython",
    "version": 3
   },
   "file_extension": ".py",
   "mimetype": "text/x-python",
   "name": "python",
   "nbconvert_exporter": "python",
   "pygments_lexer": "ipython3",
   "version": "3.9.7"
  }
 },
 "nbformat": 4,
 "nbformat_minor": 2
}
