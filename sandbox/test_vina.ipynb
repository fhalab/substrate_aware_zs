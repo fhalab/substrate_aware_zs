{
 "cells": [
  {
   "cell_type": "code",
   "execution_count": 4,
   "metadata": {},
   "outputs": [
    {
     "name": "stdout",
     "output_type": "stream",
     "text": [
      "/disk2/fli/REVIVAL2\n",
      "The autoreload extension is already loaded. To reload it, use:\n",
      "  %reload_ext autoreload\n"
     ]
    }
   ],
   "source": [
    "%cd ~/REVIVAL2\n",
    "%load_ext autoreload\n",
    "%autoreload 2\n",
    "# %load_ext blackcellmagic"
   ]
  },
  {
   "cell_type": "code",
   "execution_count": 2,
   "metadata": {},
   "outputs": [
    {
     "name": "stdout",
     "output_type": "stream",
     "text": [
      "Python: 3.9.7 | packaged by conda-forge | (default, Sep 29 2021, 19:23:11) \n",
      "[GCC 9.4.0]\n",
      "NumPy: 2.0.2\n",
      "OpenMM: 7.7.0.dev-130124a\n",
      "Environment: environ({'USER': 'fli', 'SSH_CLIENT': '131.215.248.58 49974 22', 'XDG_SESSION_TYPE': 'tty', 'SHLVL': '2', 'MOTD_SHOWN': 'pam', 'HOME': '/disk2/fli', 'SSL_CERT_FILE': '/usr/lib/ssl/certs/ca-certificates.crt', 'DBUS_SESSION_BUS_ADDRESS': 'unix:path=/run/user/1002/bus', 'LOGNAME': 'fli', '_': '/disk2/fli/miniconda3/envs/vina/bin/python', 'XDG_SESSION_CLASS': 'user', 'XDG_SESSION_ID': '8448', 'VSCODE_CLI_REQUIRE_TOKEN': 'e2fff225-9583-46c0-8e69-bfcf24b4c518', 'PATH': '/disk2/fli/miniconda3/envs/vina/bin:/disk2/fli/.vscode-server/cli/servers/Stable-fabdb6a30b49f79a7aba0f2ad9df9b399473380f/server/bin/remote-cli:/disk2/fli/.local/bin:/disk2/fli/orca_6_0_1:/disk2/fli/miniconda3/envs/vina/bin:/disk2/fli/miniconda3/condabin:/disk2/fli/.local/bin:/usr/local/sbin:/usr/local/bin:/usr/sbin:/usr/bin:/sbin:/bin:/usr/games:/usr/local/games:/snap/bin', 'VSCODE_AGENT_FOLDER': '/disk2/fli/.vscode-server', 'XDG_RUNTIME_DIR': '/run/user/1002', 'SSL_CERT_DIR': '/usr/lib/ssl/certs', 'LANG': 'en_US.UTF-8', 'SHELL': '/bin/bash', 'PWD': '/disk2/fli', 'SSH_CONNECTION': '131.215.248.58 49974 131.215.19.19 22', 'VSCODE_CWD': '/disk2/fli', 'VSCODE_NLS_CONFIG': '{\"userLocale\":\"en\",\"osLocale\":\"en\",\"resolvedLanguage\":\"en\",\"defaultMessagesFile\":\"/disk2/fli/.vscode-server/cli/servers/Stable-fabdb6a30b49f79a7aba0f2ad9df9b399473380f/server/out/nls.messages.json\",\"locale\":\"en\",\"availableLanguages\":{}}', 'VSCODE_HANDLES_SIGPIPE': 'true', 'CONDA_EXE': '/disk2/fli/miniconda3/bin/conda', '_CE_M': '', 'CONDA_PREFIX': '/disk2/fli/miniconda3/envs/vina', 'LS_COLORS': '', 'CONDA_PROMPT_MODIFIER': '(vina) ', 'LESSCLOSE': '/usr/bin/lesspipe %s %s', '_CE_CONDA': '', 'LESSOPEN': '| /usr/bin/lesspipe %s', 'CONDA_SHLVL': '2', 'CONDA_PYTHON_EXE': '/disk2/fli/miniconda3/bin/python', 'CONDA_DEFAULT_ENV': 'vina', 'VSCODE_ESM_ENTRYPOINT': 'vs/workbench/api/node/extensionHostProcess', 'VSCODE_HANDLES_UNCAUGHT_ERRORS': 'true', 'BROWSER': '/disk2/fli/.vscode-server/cli/servers/Stable-fabdb6a30b49f79a7aba0f2ad9df9b399473380f/server/bin/helpers/browser.sh', 'ELECTRON_RUN_AS_NODE': '1', 'VSCODE_IPC_HOOK_CLI': '/run/user/1002/vscode-ipc-aaf15ab6-97e4-40c5-bbe6-d98c7492263c.sock', 'PYTHONUNBUFFERED': '1', 'CONDA_MKL_INTERFACE_LAYER_BACKUP': '', 'XML_CATALOG_FILES': 'file:///disk2/fli/miniconda3/envs/vina/etc/xml/catalog file:///etc/xml/catalog', 'GSETTINGS_SCHEMA_DIR': '/disk2/fli/miniconda3/envs/vina/share/glib-2.0/schemas', 'CONDA_ROOT': '/disk2/fli/miniconda3', 'GSETTINGS_SCHEMA_DIR_CONDA_BACKUP': '', 'PYTHONIOENCODING': 'utf-8', 'CONDA_PREFIX_1': '/disk2/fli/miniconda3', 'MKL_INTERFACE_LAYER': 'LP64,GNU', 'PYDEVD_IPYTHON_COMPATIBLE_DEBUGGING': '1', 'PYTHON_FROZEN_MODULES': 'on', 'PYDEVD_USE_FRAME_EVAL': 'NO', 'TERM': 'xterm-color', 'CLICOLOR': '1', 'FORCE_COLOR': '1', 'CLICOLOR_FORCE': '1', 'PAGER': 'cat', 'GIT_PAGER': 'cat', 'MPLBACKEND': 'module://matplotlib_inline.backend_inline'})\n"
     ]
    }
   ],
   "source": [
    "import sys\n",
    "import os\n",
    "import numpy\n",
    "import openmm\n",
    "print(f\"Python: {sys.version}\")\n",
    "print(f\"NumPy: {numpy.__version__}\")\n",
    "print(f\"OpenMM: {openmm.version.version}\")\n",
    "print(f\"Environment: {os.environ}\")"
   ]
  },
  {
   "cell_type": "code",
   "execution_count": null,
   "metadata": {},
   "outputs": [],
   "source": [
    "\"\"\"\n",
    "Test the vina docking and extracting score.\n",
    "\"\"\"\n",
    "\n",
    "import sys\n",
    "import os\n",
    "\n",
    "\n",
    "from datetime import datetime\n",
    "\n",
    "from REVIVAL.zs.vina import dock_lib\n",
    "from REVIVAL.util import checkNgen_folder\n",
    "\n",
    "if __name__ == \"__main__\":\n",
    "\n",
    "    os.environ[\"CUDA_VISIBLE_DEVICES\"] = \"1\"\n",
    "\n",
    "    # log outputs\n",
    "    f = open(\n",
    "        os.path.join(\n",
    "            checkNgen_folder(\"logs/zs/vina/dock\"),\n",
    "            f\"{datetime.now().strftime('%Y-%m-%d %H:%M:%S')}.out\",\n",
    "        ),\n",
    "        \"w\",\n",
    "    )\n",
    "    sys.stdout = f\n",
    "\n",
    "    for chai_dir in [ \n",
    "        \"zs/chai/mut_structure/PfTrpB-5chloro-plp\", \n",
    "        \"zs/chai/mut_structure/PfTrpB-4cyano-plp\",\n",
    "        \"zs/chai/mut_structure/PfTrpB-5chloro-plp\",\n",
    "        \"zs/chai/mut_structure/PfTrpB-6chloro-plp\",\n",
    "        \"zs/chai/mut_structure/PfTrpB-7bromo-plp\",\n",
    "        \"zs/chai/mut_structure/PfTrpB-7indo-plp\",\n",
    "        \"zs/chai/mut_structure/PfTrpB-7methyl-plp\",\n",
    "        \"zs/chai/mut_structure/PfTrpB-56chloro-plp\",\n",
    "        \"zs/chai/mut_structure/PfTrpB-5cyano-plp\",\n",
    "    ]:\n",
    "        dock_lib(chai_dir, \"inactivated-cofactor\")\n",
    "\n",
    "\n",
    "    # def dock_lib(\n",
    "    #     chai_dir: str,\n",
    "    #     cofactor_type: str,\n",
    "    #     vina_dir: str = \"vina\",\n",
    "    #     pH: float = 7.4,\n",
    "    #     method='vina',\n",
    "    #     size_x=15.0,\n",
    "    #         size_y=15.0, \n",
    "    #         size_z=15.0,\n",
    "    #         num_modes=9, # Dunno check vina docks using the defaut\n",
    "    #         exhaustiveness=32 \n",
    "    # ):\n",
    "\n",
    "    f.close()"
   ]
  },
  {
   "cell_type": "code",
   "execution_count": 5,
   "metadata": {},
   "outputs": [],
   "source": [
    "\n",
    "def extract_lowest_energy(file_path: str):\n",
    "    with open(file_path, 'r') as file:\n",
    "        lines = file.readlines()\n",
    "    \n",
    "    for i, line in enumerate(lines):\n",
    "        if \"mode |   affinity | dist from best mode\" in line:\n",
    "            table_start = i + 3  # Skip to the actual table\n",
    "            break\n",
    "    \n",
    "    energies = []\n",
    "    for line in lines[table_start:]:\n",
    "        if line.strip() == \"\":  # End of the table\n",
    "            break\n",
    "        parts = line.split()\n",
    "        try:\n",
    "            energies.append(float(parts[1]))  # Affinity is in the second column\n",
    "        except ValueError:\n",
    "            pass  # Skip invalid lines\n",
    "    \n",
    "    return min(energies)\n"
   ]
  },
  {
   "cell_type": "code",
   "execution_count": 6,
   "metadata": {},
   "outputs": [
    {
     "data": {
      "text/plain": [
       "-11.81"
      ]
     },
     "execution_count": 6,
     "metadata": {},
     "output_type": "execute_result"
    }
   ],
   "source": [
    "extract_lowest_energy(file_path=\"/disk2/fli/REVIVAL2/zs/vina/PfTrpB-4cyano_inactivated-cofactor/I165A:I183A:Y301V_0/I165A:I183A:Y301V_0-4cyano_log.txt\")"
   ]
  },
  {
   "cell_type": "code",
   "execution_count": 22,
   "metadata": {},
   "outputs": [],
   "source": [
    "def extract_ions(input_file_path, output_file_path, ion):\n",
    "    \"\"\"\n",
    "    Extract lines starting with ATOM containing the specified ion from a PDB or CIF file.\n",
    "\n",
    "    Args:\n",
    "        input_file_path (str): Path to the input PDB or CIF file.\n",
    "        output_file_path (str): Path to save the extracted ion lines.\n",
    "        ion (str): Name of the ion to extract (e.g., \"Na\", \"Cl\").\n",
    "    \"\"\"\n",
    "    is_cif = input_file_path.endswith(\".cif\")\n",
    "    ion_found = False\n",
    "\n",
    "    with open(input_file_path, 'r') as infile, open(output_file_path, 'w') as outfile:\n",
    "        for line in infile:\n",
    "            if line.startswith(\"ATOM\") or line.startswith(\"HETATM\"):\n",
    "                fields = line.split()\n",
    "                if len(fields) >= 4:\n",
    "                    atom_name = fields[2].strip()  # Atom name\n",
    "                    residue_name = fields[3].strip()  # Residue name\n",
    "                    if atom_name.upper() == ion.upper() or residue_name.upper() == ion.upper():\n",
    "                        outfile.write(line)\n",
    "                        ion_found = True\n",
    "\n",
    "    if not ion_found:\n",
    "        print(f\"No ions matching '{ion}' were found in the file.\")\n",
    "    else:\n",
    "        print(f\"Ions matching '{ion}' were successfully extracted to {output_file_path}.\")\n"
   ]
  },
  {
   "cell_type": "code",
   "execution_count": 23,
   "metadata": {},
   "outputs": [
    {
     "name": "stdout",
     "output_type": "stream",
     "text": [
      "Ions matching 'Na' were successfully extracted to /disk2/fli/REVIVAL2/sandbox/files/WT_0/Na.pdb.\n"
     ]
    }
   ],
   "source": [
    "extract_ions(\n",
    "    input_file_path=\"/disk2/fli/REVIVAL2/sandbox/files/WT_0/WT_0.cif\",\n",
    "    output_file_path=\"/disk2/fli/REVIVAL2/sandbox/files/WT_0/Na.pdb\",\n",
    "    ion=\"Na\"\n",
    ")"
   ]
  },
  {
   "cell_type": "code",
   "execution_count": null,
   "metadata": {},
   "outputs": [],
   "source": []
  }
 ],
 "metadata": {
  "kernelspec": {
   "display_name": "vina",
   "language": "python",
   "name": "python3"
  },
  "language_info": {
   "codemirror_mode": {
    "name": "ipython",
    "version": 3
   },
   "file_extension": ".py",
   "mimetype": "text/x-python",
   "name": "python",
   "nbconvert_exporter": "python",
   "pygments_lexer": "ipython3",
   "version": "3.9.7"
  }
 },
 "nbformat": 4,
 "nbformat_minor": 2
}
