{
 "cells": [
  {
   "cell_type": "code",
   "execution_count": 1,
   "metadata": {},
   "outputs": [
    {
     "name": "stdout",
     "output_type": "stream",
     "text": [
      "/disk2/fli/REVIVAL2\n"
     ]
    }
   ],
   "source": [
    "%cd ~/REVIVAL2\n",
    "%load_ext autoreload\n",
    "%autoreload 2\n",
    "# %load_ext blackcellmagic"
   ]
  },
  {
   "cell_type": "code",
   "execution_count": 2,
   "metadata": {},
   "outputs": [
    {
     "name": "stdout",
     "output_type": "stream",
     "text": [
      "Python: 3.9.7 | packaged by conda-forge | (default, Sep 29 2021, 19:23:11) \n",
      "[GCC 9.4.0]\n",
      "NumPy: 2.0.2\n",
      "OpenMM: 7.7.0.dev-130124a\n",
      "Environment: environ({'USER': 'fli', 'SSH_CLIENT': '131.215.248.215 51133 22', 'XDG_SESSION_TYPE': 'tty', 'SHLVL': '2', 'MOTD_SHOWN': 'pam', 'HOME': '/disk2/fli', 'SSL_CERT_FILE': '/usr/lib/ssl/certs/ca-certificates.crt', 'DBUS_SESSION_BUS_ADDRESS': 'unix:path=/run/user/1002/bus', 'LOGNAME': 'fli', '_': '/disk2/fli/miniconda3/envs/vina/bin/python', 'XDG_SESSION_CLASS': 'user', 'XDG_SESSION_ID': '11950', 'VSCODE_CLI_REQUIRE_TOKEN': 'd9008fe8-a0c8-421f-820a-d1266d5fe39d', 'PATH': '/disk2/fli/miniconda3/envs/vina/bin:/disk2/fli/.vscode-server/cli/servers/Stable-91fbdddc47bc9c09064bf7acf133d22631cbf083/server/bin/remote-cli:/disk2/fli/.local/bin:/disk2/fli/openmpi/bin:/disk2/fli/orca_6_0_1:/disk2/fli/miniconda3/envs/vina/bin:/disk2/fli/miniconda3/condabin:/disk2/fli/.local/bin:/usr/local/sbin:/usr/local/bin:/usr/sbin:/usr/bin:/sbin:/bin:/usr/games:/usr/local/games:/snap/bin', 'VSCODE_AGENT_FOLDER': '/disk2/fli/.vscode-server', 'XDG_RUNTIME_DIR': '/run/user/1002', 'SSL_CERT_DIR': '/usr/lib/ssl/certs', 'LANG': 'en_US.UTF-8', 'SHELL': '/bin/bash', 'PWD': '/disk2/fli', 'SSH_CONNECTION': '131.215.248.215 51133 131.215.19.19 22', 'VSCODE_CWD': '/disk2/fli', 'VSCODE_NLS_CONFIG': '{\"userLocale\":\"en\",\"osLocale\":\"en\",\"resolvedLanguage\":\"en\",\"defaultMessagesFile\":\"/disk2/fli/.vscode-server/cli/servers/Stable-91fbdddc47bc9c09064bf7acf133d22631cbf083/server/out/nls.messages.json\",\"locale\":\"en\",\"availableLanguages\":{}}', 'VSCODE_HANDLES_SIGPIPE': 'true', 'CONDA_EXE': '/disk2/fli/miniconda3/bin/conda', '_CE_M': '', 'CONDA_PREFIX': '/disk2/fli/miniconda3/envs/vina', 'LS_COLORS': '', 'CONDA_PROMPT_MODIFIER': '(vina) ', 'LESSCLOSE': '/usr/bin/lesspipe %s %s', '_CE_CONDA': '', 'LESSOPEN': '| /usr/bin/lesspipe %s', 'CONDA_SHLVL': '2', 'CONDA_PYTHON_EXE': '/disk2/fli/miniconda3/bin/python', 'LD_LIBRARY_PATH': '/disk2/fli/openmpi/lib:', 'CONDA_DEFAULT_ENV': 'vina', 'VSCODE_ESM_ENTRYPOINT': 'vs/workbench/api/node/extensionHostProcess', 'VSCODE_HANDLES_UNCAUGHT_ERRORS': 'true', 'BROWSER': '/disk2/fli/.vscode-server/cli/servers/Stable-91fbdddc47bc9c09064bf7acf133d22631cbf083/server/bin/helpers/browser.sh', 'ELECTRON_RUN_AS_NODE': '1', 'VSCODE_IPC_HOOK_CLI': '/run/user/1002/vscode-ipc-adc517d3-3fa9-44bd-a1f2-62ecb2e2c45c.sock', 'PYTHONUNBUFFERED': '1', 'CONDA_MKL_INTERFACE_LAYER_BACKUP': '', 'XML_CATALOG_FILES': 'file:///disk2/fli/miniconda3/envs/vina/etc/xml/catalog file:///etc/xml/catalog', 'GSETTINGS_SCHEMA_DIR': '/disk2/fli/miniconda3/envs/vina/share/glib-2.0/schemas', 'CONDA_ROOT': '/disk2/fli/miniconda3', 'GSETTINGS_SCHEMA_DIR_CONDA_BACKUP': '', 'PYTHONIOENCODING': 'utf-8', 'CONDA_PREFIX_1': '/disk2/fli/miniconda3', 'MKL_INTERFACE_LAYER': 'LP64,GNU', 'PYDEVD_IPYTHON_COMPATIBLE_DEBUGGING': '1', 'PYTHON_FROZEN_MODULES': 'on', 'PYDEVD_USE_FRAME_EVAL': 'NO', 'TERM': 'xterm-color', 'CLICOLOR': '1', 'FORCE_COLOR': '1', 'CLICOLOR_FORCE': '1', 'PAGER': 'cat', 'GIT_PAGER': 'cat', 'MPLBACKEND': 'module://matplotlib_inline.backend_inline'})\n"
     ]
    }
   ],
   "source": [
    "import sys\n",
    "import os\n",
    "import numpy\n",
    "import openmm\n",
    "print(f\"Python: {sys.version}\")\n",
    "print(f\"NumPy: {numpy.__version__}\")\n",
    "print(f\"OpenMM: {openmm.version.version}\")\n",
    "print(f\"Environment: {os.environ}\")"
   ]
  },
  {
   "cell_type": "code",
   "execution_count": 5,
   "metadata": {},
   "outputs": [
    {
     "name": "stdout",
     "output_type": "stream",
     "text": [
      "Making zs/vina/chai/struct_joint/Rma-CB/M99P:M100L:D102N:M103L_0 ...\n",
      "Making zs/vina/chai/struct_joint/Rma-CB/M99P:M100L:D102N:M103L_0/M99P:M100L:D102N:M103L_0 ...\n"
     ]
    },
    {
     "name": "stderr",
     "output_type": "stream",
     "text": [
      "==============================\n",
      "*** Open Babel Warning  in PerceiveBondOrders\n",
      "  Failed to kekulize aromatic bonds in OBMol::PerceiveBondOrders (title is model)\n",
      "\n",
      "1 molecule converted\n",
      "1 molecule converted\n",
      "1 molecule converted\n"
     ]
    },
    {
     "name": "stdout",
     "output_type": "stream",
     "text": [
      "Making zs/vina/chai/struct_joint/Rma-CB/M99P:M100L:D102N:M103L_0/NHC-borane ...\n",
      "Processing ligand NHC-borane\n",
      "Checking for ions...\n",
      "Processing ligand NHC-borane from zs/vina/chai/struct_joint/Rma-CB/M99P:M100L:D102N:M103L_0/M99P:M100L:D102N:M103L_0.pdb\n",
      "Substrate atoms: [(<Model id=0>, <Chain id=B>, <Residue LIG het=  resseq=0 icode= >, <Atom B1>), (<Model id=0>, <Chain id=B>, <Residue LIG het=  resseq=0 icode= >, <Atom C1>), (<Model id=0>, <Chain id=B>, <Residue LIG het=  resseq=0 icode= >, <Atom N1>), (<Model id=0>, <Chain id=B>, <Residue LIG het=  resseq=0 icode= >, <Atom C2>), (<Model id=0>, <Chain id=B>, <Residue LIG het=  resseq=0 icode= >, <Atom C3>), (<Model id=0>, <Chain id=B>, <Residue LIG het=  resseq=0 icode= >, <Atom C4>), (<Model id=0>, <Chain id=B>, <Residue LIG het=  resseq=0 icode= >, <Atom N2>), (<Model id=0>, <Chain id=B>, <Residue LIG het=  resseq=0 icode= >, <Atom C5>)]\n",
      "Rest atoms: [(<Model id=0>, <Chain id=B>, <Residue LIG het=  resseq=0 icode= >, <Atom C6>), (<Model id=0>, <Chain id=B>, <Residue LIG het=  resseq=0 icode= >, <Atom C7>), (<Model id=0>, <Chain id=B>, <Residue LIG het=  resseq=0 icode= >, <Atom C8>), (<Model id=0>, <Chain id=B>, <Residue LIG het=  resseq=0 icode= >, <Atom C9>), (<Model id=0>, <Chain id=B>, <Residue LIG het=  resseq=0 icode= >, <Atom C10>), (<Model id=0>, <Chain id=B>, <Residue LIG het=  resseq=0 icode= >, <Atom C11>), (<Model id=0>, <Chain id=B>, <Residue LIG het=  resseq=0 icode= >, <Atom C12>), (<Model id=0>, <Chain id=B>, <Residue LIG het=  resseq=0 icode= >, <Atom C13>), (<Model id=0>, <Chain id=B>, <Residue LIG het=  resseq=0 icode= >, <Atom C14>), (<Model id=0>, <Chain id=B>, <Residue LIG het=  resseq=0 icode= >, <Atom C15>), (<Model id=0>, <Chain id=B>, <Residue LIG het=  resseq=0 icode= >, <Atom C16>), (<Model id=0>, <Chain id=B>, <Residue LIG het=  resseq=0 icode= >, <Atom C17>), (<Model id=0>, <Chain id=B>, <Residue LIG het=  resseq=0 icode= >, <Atom C18>), (<Model id=0>, <Chain id=B>, <Residue LIG het=  resseq=0 icode= >, <Atom C19>), (<Model id=0>, <Chain id=B>, <Residue LIG het=  resseq=0 icode= >, <Atom N3>), (<Model id=0>, <Chain id=B>, <Residue LIG het=  resseq=0 icode= >, <Atom FE1>), (<Model id=0>, <Chain id=B>, <Residue LIG het=  resseq=0 icode= >, <Atom C20>), (<Model id=0>, <Chain id=B>, <Residue LIG het=  resseq=0 icode= >, <Atom C21>), (<Model id=0>, <Chain id=B>, <Residue LIG het=  resseq=0 icode= >, <Atom C22>), (<Model id=0>, <Chain id=B>, <Residue LIG het=  resseq=0 icode= >, <Atom O1>), (<Model id=0>, <Chain id=B>, <Residue LIG het=  resseq=0 icode= >, <Atom O2>), (<Model id=0>, <Chain id=B>, <Residue LIG het=  resseq=0 icode= >, <Atom C23>), (<Model id=0>, <Chain id=B>, <Residue LIG het=  resseq=0 icode= >, <Atom C24>), (<Model id=0>, <Chain id=B>, <Residue LIG het=  resseq=0 icode= >, <Atom N4>), (<Model id=0>, <Chain id=B>, <Residue LIG het=  resseq=0 icode= >, <Atom C25>), (<Model id=0>, <Chain id=B>, <Residue LIG het=  resseq=0 icode= >, <Atom C26>), (<Model id=0>, <Chain id=B>, <Residue LIG het=  resseq=0 icode= >, <Atom C27>), (<Model id=0>, <Chain id=B>, <Residue LIG het=  resseq=0 icode= >, <Atom C28>), (<Model id=0>, <Chain id=B>, <Residue LIG het=  resseq=0 icode= >, <Atom C29>), (<Model id=0>, <Chain id=B>, <Residue LIG het=  resseq=0 icode= >, <Atom C30>), (<Model id=0>, <Chain id=B>, <Residue LIG het=  resseq=0 icode= >, <Atom C31>), (<Model id=0>, <Chain id=B>, <Residue LIG het=  resseq=0 icode= >, <Atom C32>), (<Model id=0>, <Chain id=B>, <Residue LIG het=  resseq=0 icode= >, <Atom C33>), (<Model id=0>, <Chain id=B>, <Residue LIG het=  resseq=0 icode= >, <Atom O3>), (<Model id=0>, <Chain id=B>, <Residue LIG het=  resseq=0 icode= >, <Atom O4>), (<Model id=0>, <Chain id=B>, <Residue LIG het=  resseq=0 icode= >, <Atom C34>), (<Model id=0>, <Chain id=B>, <Residue LIG het=  resseq=0 icode= >, <Atom N5>), (<Model id=0>, <Chain id=B>, <Residue LIG het=  resseq=0 icode= >, <Atom C35>), (<Model id=0>, <Chain id=B>, <Residue LIG het=  resseq=0 icode= >, <Atom C36>), (<Model id=0>, <Chain id=B>, <Residue LIG het=  resseq=0 icode= >, <Atom N6>), (<Model id=0>, <Chain id=B>, <Residue LIG het=  resseq=0 icode= >, <Atom C37>), (<Model id=0>, <Chain id=B>, <Residue LIG het=  resseq=0 icode= >, <Atom C38>), (<Model id=0>, <Chain id=B>, <Residue LIG het=  resseq=0 icode= >, <Atom C39>), (<Model id=0>, <Chain id=B>, <Residue LIG het=  resseq=0 icode= >, <Atom C40>), (<Model id=0>, <Chain id=B>, <Residue LIG het=  resseq=0 icode= >, <Atom C41>), (<Model id=0>, <Chain id=B>, <Residue LIG het=  resseq=0 icode= >, <Atom C42>), (<Model id=0>, <Chain id=B>, <Residue LIG het=  resseq=0 icode= >, <Atom C43>), (<Model id=0>, <Chain id=B>, <Residue LIG het=  resseq=0 icode= >, <Atom C44>), (<Model id=0>, <Chain id=B>, <Residue LIG het=  resseq=0 icode= >, <Atom O5>), (<Model id=0>, <Chain id=B>, <Residue LIG het=  resseq=0 icode= >, <Atom O6>)]\n",
      "Substructure saved to /disk2/fli/REVIVAL2/zs/vina/chai/struct_joint/Rma-CB/M99P:M100L:D102N:M103L_0/NHC-borane/NHC-borane_temp.pdb\n",
      "Removing ions from zs/vina/chai/struct_joint/Rma-CB/M99P:M100L:D102N:M103L_0/NHC-borane/NHC-borane_temp.pdb\n",
      "Added hydrogen H1 to B1\n",
      "Added hydrogen H2 to B1\n",
      "Added hydrogen H3 to B1\n",
      "Saved modified PDB to: zs/vina/chai/struct_joint/Rma-CB/M99P:M100L:D102N:M103L_0/NHC-borane/NHC-borane.pdb\n",
      "Processed PDBQT file saved to: zs/vina/chai/struct_joint/Rma-CB/M99P:M100L:D102N:M103L_0/NHC-borane/NHC-borane.pdbqt\n",
      "Processing cofactor carbene-heme C=CC1=C(C=C2C(C)=C(C=C)C3=[N]2[Fe]45(N6C(C(C)=C(CCC([O-])=O)C6=C7)=C3)=C(C)C(OCC)=O)N4C(C=C8[N]5=C7C(CCC([O-])=O)=C8C)=C1C using zs/vina/chai/struct_joint/Rma-CB/M99P:M100L:D102N:M103L_0/M99P:M100L:D102N:M103L_0.pdb\n",
      "Making zs/vina/chai/struct_joint/Rma-CB/M99P:M100L:D102N:M103L_0/carbene ...\n",
      "Processing ligand carbene\n",
      "Checking for ions...\n",
      "Processing ligand carbene from zs/vina/chai/struct_joint/Rma-CB/M99P:M100L:D102N:M103L_0/M99P:M100L:D102N:M103L_0.pdb\n",
      "Substrate atoms: [(<Model id=0>, <Chain id=B>, <Residue LIG het=  resseq=0 icode= >, <Atom C20>), (<Model id=0>, <Chain id=B>, <Residue LIG het=  resseq=0 icode= >, <Atom C21>), (<Model id=0>, <Chain id=B>, <Residue LIG het=  resseq=0 icode= >, <Atom C22>), (<Model id=0>, <Chain id=B>, <Residue LIG het=  resseq=0 icode= >, <Atom O1>), (<Model id=0>, <Chain id=B>, <Residue LIG het=  resseq=0 icode= >, <Atom O2>), (<Model id=0>, <Chain id=B>, <Residue LIG het=  resseq=0 icode= >, <Atom C23>), (<Model id=0>, <Chain id=B>, <Residue LIG het=  resseq=0 icode= >, <Atom C24>)]\n",
      "Rest atoms: [(<Model id=0>, <Chain id=B>, <Residue LIG het=  resseq=0 icode= >, <Atom B1>), (<Model id=0>, <Chain id=B>, <Residue LIG het=  resseq=0 icode= >, <Atom C1>), (<Model id=0>, <Chain id=B>, <Residue LIG het=  resseq=0 icode= >, <Atom N1>), (<Model id=0>, <Chain id=B>, <Residue LIG het=  resseq=0 icode= >, <Atom C2>), (<Model id=0>, <Chain id=B>, <Residue LIG het=  resseq=0 icode= >, <Atom C3>), (<Model id=0>, <Chain id=B>, <Residue LIG het=  resseq=0 icode= >, <Atom C4>), (<Model id=0>, <Chain id=B>, <Residue LIG het=  resseq=0 icode= >, <Atom N2>), (<Model id=0>, <Chain id=B>, <Residue LIG het=  resseq=0 icode= >, <Atom C5>), (<Model id=0>, <Chain id=B>, <Residue LIG het=  resseq=0 icode= >, <Atom C6>), (<Model id=0>, <Chain id=B>, <Residue LIG het=  resseq=0 icode= >, <Atom C7>), (<Model id=0>, <Chain id=B>, <Residue LIG het=  resseq=0 icode= >, <Atom C8>), (<Model id=0>, <Chain id=B>, <Residue LIG het=  resseq=0 icode= >, <Atom C9>), (<Model id=0>, <Chain id=B>, <Residue LIG het=  resseq=0 icode= >, <Atom C10>), (<Model id=0>, <Chain id=B>, <Residue LIG het=  resseq=0 icode= >, <Atom C11>), (<Model id=0>, <Chain id=B>, <Residue LIG het=  resseq=0 icode= >, <Atom C12>), (<Model id=0>, <Chain id=B>, <Residue LIG het=  resseq=0 icode= >, <Atom C13>), (<Model id=0>, <Chain id=B>, <Residue LIG het=  resseq=0 icode= >, <Atom C14>), (<Model id=0>, <Chain id=B>, <Residue LIG het=  resseq=0 icode= >, <Atom C15>), (<Model id=0>, <Chain id=B>, <Residue LIG het=  resseq=0 icode= >, <Atom C16>), (<Model id=0>, <Chain id=B>, <Residue LIG het=  resseq=0 icode= >, <Atom C17>), (<Model id=0>, <Chain id=B>, <Residue LIG het=  resseq=0 icode= >, <Atom C18>), (<Model id=0>, <Chain id=B>, <Residue LIG het=  resseq=0 icode= >, <Atom C19>), (<Model id=0>, <Chain id=B>, <Residue LIG het=  resseq=0 icode= >, <Atom N3>), (<Model id=0>, <Chain id=B>, <Residue LIG het=  resseq=0 icode= >, <Atom FE1>), (<Model id=0>, <Chain id=B>, <Residue LIG het=  resseq=0 icode= >, <Atom N4>), (<Model id=0>, <Chain id=B>, <Residue LIG het=  resseq=0 icode= >, <Atom C25>), (<Model id=0>, <Chain id=B>, <Residue LIG het=  resseq=0 icode= >, <Atom C26>), (<Model id=0>, <Chain id=B>, <Residue LIG het=  resseq=0 icode= >, <Atom C27>), (<Model id=0>, <Chain id=B>, <Residue LIG het=  resseq=0 icode= >, <Atom C28>), (<Model id=0>, <Chain id=B>, <Residue LIG het=  resseq=0 icode= >, <Atom C29>), (<Model id=0>, <Chain id=B>, <Residue LIG het=  resseq=0 icode= >, <Atom C30>), (<Model id=0>, <Chain id=B>, <Residue LIG het=  resseq=0 icode= >, <Atom C31>), (<Model id=0>, <Chain id=B>, <Residue LIG het=  resseq=0 icode= >, <Atom C32>), (<Model id=0>, <Chain id=B>, <Residue LIG het=  resseq=0 icode= >, <Atom C33>), (<Model id=0>, <Chain id=B>, <Residue LIG het=  resseq=0 icode= >, <Atom O3>), (<Model id=0>, <Chain id=B>, <Residue LIG het=  resseq=0 icode= >, <Atom O4>), (<Model id=0>, <Chain id=B>, <Residue LIG het=  resseq=0 icode= >, <Atom C34>), (<Model id=0>, <Chain id=B>, <Residue LIG het=  resseq=0 icode= >, <Atom N5>), (<Model id=0>, <Chain id=B>, <Residue LIG het=  resseq=0 icode= >, <Atom C35>), (<Model id=0>, <Chain id=B>, <Residue LIG het=  resseq=0 icode= >, <Atom C36>), (<Model id=0>, <Chain id=B>, <Residue LIG het=  resseq=0 icode= >, <Atom N6>), (<Model id=0>, <Chain id=B>, <Residue LIG het=  resseq=0 icode= >, <Atom C37>), (<Model id=0>, <Chain id=B>, <Residue LIG het=  resseq=0 icode= >, <Atom C38>), (<Model id=0>, <Chain id=B>, <Residue LIG het=  resseq=0 icode= >, <Atom C39>), (<Model id=0>, <Chain id=B>, <Residue LIG het=  resseq=0 icode= >, <Atom C40>), (<Model id=0>, <Chain id=B>, <Residue LIG het=  resseq=0 icode= >, <Atom C41>), (<Model id=0>, <Chain id=B>, <Residue LIG het=  resseq=0 icode= >, <Atom C42>), (<Model id=0>, <Chain id=B>, <Residue LIG het=  resseq=0 icode= >, <Atom C43>), (<Model id=0>, <Chain id=B>, <Residue LIG het=  resseq=0 icode= >, <Atom C44>), (<Model id=0>, <Chain id=B>, <Residue LIG het=  resseq=0 icode= >, <Atom O5>), (<Model id=0>, <Chain id=B>, <Residue LIG het=  resseq=0 icode= >, <Atom O6>)]\n",
      "Substructure saved to /disk2/fli/REVIVAL2/zs/vina/chai/struct_joint/Rma-CB/M99P:M100L:D102N:M103L_0/carbene/carbene_temp.pdb\n",
      "Removing ions from zs/vina/chai/struct_joint/Rma-CB/M99P:M100L:D102N:M103L_0/carbene/carbene_temp.pdb\n",
      "Cleaned PDBQT file saved to: zs/vina/chai/struct_joint/Rma-CB/M99P:M100L:D102N:M103L_0/carbene/carbene.pdbqt\n",
      "Making zs/vina/chai/struct_joint/Rma-CB/M99P:M100L:D102N:M103L_0/heme ...\n",
      "Processing ligand heme\n",
      "Checking for ions...\n",
      "Processing ligand heme from zs/vina/chai/struct_joint/Rma-CB/M99P:M100L:D102N:M103L_0/M99P:M100L:D102N:M103L_0.pdb\n",
      "Substrate atoms: [(<Model id=0>, <Chain id=B>, <Residue LIG het=  resseq=0 icode= >, <Atom B1>), (<Model id=0>, <Chain id=B>, <Residue LIG het=  resseq=0 icode= >, <Atom C1>), (<Model id=0>, <Chain id=B>, <Residue LIG het=  resseq=0 icode= >, <Atom N1>), (<Model id=0>, <Chain id=B>, <Residue LIG het=  resseq=0 icode= >, <Atom C2>), (<Model id=0>, <Chain id=B>, <Residue LIG het=  resseq=0 icode= >, <Atom C3>), (<Model id=0>, <Chain id=B>, <Residue LIG het=  resseq=0 icode= >, <Atom C4>), (<Model id=0>, <Chain id=B>, <Residue LIG het=  resseq=0 icode= >, <Atom N2>), (<Model id=0>, <Chain id=B>, <Residue LIG het=  resseq=0 icode= >, <Atom C5>), (<Model id=0>, <Chain id=B>, <Residue LIG het=  resseq=0 icode= >, <Atom C20>), (<Model id=0>, <Chain id=B>, <Residue LIG het=  resseq=0 icode= >, <Atom C21>), (<Model id=0>, <Chain id=B>, <Residue LIG het=  resseq=0 icode= >, <Atom C22>), (<Model id=0>, <Chain id=B>, <Residue LIG het=  resseq=0 icode= >, <Atom O1>), (<Model id=0>, <Chain id=B>, <Residue LIG het=  resseq=0 icode= >, <Atom O2>), (<Model id=0>, <Chain id=B>, <Residue LIG het=  resseq=0 icode= >, <Atom C23>), (<Model id=0>, <Chain id=B>, <Residue LIG het=  resseq=0 icode= >, <Atom C24>)]\n",
      "Rest atoms: [(<Model id=0>, <Chain id=B>, <Residue LIG het=  resseq=0 icode= >, <Atom C6>), (<Model id=0>, <Chain id=B>, <Residue LIG het=  resseq=0 icode= >, <Atom C7>), (<Model id=0>, <Chain id=B>, <Residue LIG het=  resseq=0 icode= >, <Atom C8>), (<Model id=0>, <Chain id=B>, <Residue LIG het=  resseq=0 icode= >, <Atom C9>), (<Model id=0>, <Chain id=B>, <Residue LIG het=  resseq=0 icode= >, <Atom C10>), (<Model id=0>, <Chain id=B>, <Residue LIG het=  resseq=0 icode= >, <Atom C11>), (<Model id=0>, <Chain id=B>, <Residue LIG het=  resseq=0 icode= >, <Atom C12>), (<Model id=0>, <Chain id=B>, <Residue LIG het=  resseq=0 icode= >, <Atom C13>), (<Model id=0>, <Chain id=B>, <Residue LIG het=  resseq=0 icode= >, <Atom C14>), (<Model id=0>, <Chain id=B>, <Residue LIG het=  resseq=0 icode= >, <Atom C15>), (<Model id=0>, <Chain id=B>, <Residue LIG het=  resseq=0 icode= >, <Atom C16>), (<Model id=0>, <Chain id=B>, <Residue LIG het=  resseq=0 icode= >, <Atom C17>), (<Model id=0>, <Chain id=B>, <Residue LIG het=  resseq=0 icode= >, <Atom C18>), (<Model id=0>, <Chain id=B>, <Residue LIG het=  resseq=0 icode= >, <Atom C19>), (<Model id=0>, <Chain id=B>, <Residue LIG het=  resseq=0 icode= >, <Atom N3>), (<Model id=0>, <Chain id=B>, <Residue LIG het=  resseq=0 icode= >, <Atom FE1>), (<Model id=0>, <Chain id=B>, <Residue LIG het=  resseq=0 icode= >, <Atom N4>), (<Model id=0>, <Chain id=B>, <Residue LIG het=  resseq=0 icode= >, <Atom C25>), (<Model id=0>, <Chain id=B>, <Residue LIG het=  resseq=0 icode= >, <Atom C26>), (<Model id=0>, <Chain id=B>, <Residue LIG het=  resseq=0 icode= >, <Atom C27>), (<Model id=0>, <Chain id=B>, <Residue LIG het=  resseq=0 icode= >, <Atom C28>), (<Model id=0>, <Chain id=B>, <Residue LIG het=  resseq=0 icode= >, <Atom C29>), (<Model id=0>, <Chain id=B>, <Residue LIG het=  resseq=0 icode= >, <Atom C30>), (<Model id=0>, <Chain id=B>, <Residue LIG het=  resseq=0 icode= >, <Atom C31>), (<Model id=0>, <Chain id=B>, <Residue LIG het=  resseq=0 icode= >, <Atom C32>), (<Model id=0>, <Chain id=B>, <Residue LIG het=  resseq=0 icode= >, <Atom C33>), (<Model id=0>, <Chain id=B>, <Residue LIG het=  resseq=0 icode= >, <Atom O3>), (<Model id=0>, <Chain id=B>, <Residue LIG het=  resseq=0 icode= >, <Atom O4>), (<Model id=0>, <Chain id=B>, <Residue LIG het=  resseq=0 icode= >, <Atom C34>), (<Model id=0>, <Chain id=B>, <Residue LIG het=  resseq=0 icode= >, <Atom N5>), (<Model id=0>, <Chain id=B>, <Residue LIG het=  resseq=0 icode= >, <Atom C35>), (<Model id=0>, <Chain id=B>, <Residue LIG het=  resseq=0 icode= >, <Atom C36>), (<Model id=0>, <Chain id=B>, <Residue LIG het=  resseq=0 icode= >, <Atom N6>), (<Model id=0>, <Chain id=B>, <Residue LIG het=  resseq=0 icode= >, <Atom C37>), (<Model id=0>, <Chain id=B>, <Residue LIG het=  resseq=0 icode= >, <Atom C38>), (<Model id=0>, <Chain id=B>, <Residue LIG het=  resseq=0 icode= >, <Atom C39>), (<Model id=0>, <Chain id=B>, <Residue LIG het=  resseq=0 icode= >, <Atom C40>), (<Model id=0>, <Chain id=B>, <Residue LIG het=  resseq=0 icode= >, <Atom C41>), (<Model id=0>, <Chain id=B>, <Residue LIG het=  resseq=0 icode= >, <Atom C42>), (<Model id=0>, <Chain id=B>, <Residue LIG het=  resseq=0 icode= >, <Atom C43>), (<Model id=0>, <Chain id=B>, <Residue LIG het=  resseq=0 icode= >, <Atom C44>), (<Model id=0>, <Chain id=B>, <Residue LIG het=  resseq=0 icode= >, <Atom O5>), (<Model id=0>, <Chain id=B>, <Residue LIG het=  resseq=0 icode= >, <Atom O6>)]\n",
      "Substructure saved to /disk2/fli/REVIVAL2/zs/vina/chai/struct_joint/Rma-CB/M99P:M100L:D102N:M103L_0/heme/heme_temp.pdb\n",
      "Removing ions from zs/vina/chai/struct_joint/Rma-CB/M99P:M100L:D102N:M103L_0/heme/heme_temp.pdb\n",
      "Cleaned PDBQT file saved to: zs/vina/chai/struct_joint/Rma-CB/M99P:M100L:D102N:M103L_0/heme/heme.pdbqt\n",
      "Making zs/vina/chai/struct_joint/Rma-CB/M99P:M100L:D102N:M103L_0/Fe ...\n",
      "Processing ligand Fe\n",
      "Checking for ions...\n",
      "Processing ion Fe\n",
      "Ions matching 'FE' were successfully extracted to zs/vina/chai/struct_joint/Rma-CB/M99P:M100L:D102N:M103L_0/Fe/FE.pdb.\n",
      "cofactor_pdbqts: ['zs/vina/chai/struct_joint/Rma-CB/M99P:M100L:D102N:M103L_0/carbene/carbene.pdbqt', 'zs/vina/chai/struct_joint/Rma-CB/M99P:M100L:D102N:M103L_0/heme/heme.pdbqt', 'zs/vina/chai/struct_joint/Rma-CB/M99P:M100L:D102N:M103L_0/Fe/FE.pdbqt']\n",
      "Making zs/vina/chai/struct_joint/Rma-CB/M99P:M100L:D102N:M103L_0/M99P:M100L:D102N:M103L_0_cofactors ...\n",
      "Merging zs/vina/chai/struct_joint/Rma-CB/M99P:M100L:D102N:M103L_0/M99P:M100L:D102N:M103L_0/M99P:M100L:D102N:M103L_0.pdbqt\n",
      "Merging zs/vina/chai/struct_joint/Rma-CB/M99P:M100L:D102N:M103L_0/carbene/carbene.pdbqt\n",
      "Merging zs/vina/chai/struct_joint/Rma-CB/M99P:M100L:D102N:M103L_0/heme/heme.pdbqt\n",
      "Merging zs/vina/chai/struct_joint/Rma-CB/M99P:M100L:D102N:M103L_0/Fe/FE.pdbqt\n",
      "Combined ATOM lines saved to zs/vina/chai/struct_joint/Rma-CB/M99P:M100L:D102N:M103L_0/M99P:M100L:D102N:M103L_0_cofactors/M99P:M100L:D102N:M103L_0_cofactors.pdbqt\n",
      "Vina run (score-only) completed successfully. Log saved to: zs/vina/chai/struct_joint/Rma-CB/M99P:M100L:D102N:M103L_0/M99P:M100L:D102N:M103L_0-NHC-borane-substrate-score_only_log.txt\n"
     ]
    },
    {
     "data": {
      "text/plain": [
       "'zs/vina/chai/struct_joint/Rma-CB/M99P:M100L:D102N:M103L_0/M99P:M100L:D102N:M103L_0-NHC-borane-substrate-score_only_log.txt'"
      ]
     },
     "execution_count": 5,
     "metadata": {},
     "output_type": "execute_result"
    }
   ],
   "source": [
    "from REVIVAL.zs.vina import dock\n",
    "\n",
    "dock(\n",
    "    input_struct_path=\"/disk2/fli/REVIVAL2/zs/chai/struct_joint/Rma-CB/M99P:M100L:D102N:M103L/M99P:M100L:D102N:M103L_0.cif\",\n",
    "    dock_opt=\"substrate\",\n",
    "    score_only = True,\n",
    "    regen=True,\n",
    "    rerun=True\n",
    ")"
   ]
  },
  {
   "cell_type": "code",
   "execution_count": 5,
   "metadata": {},
   "outputs": [
    {
     "name": "stderr",
     "output_type": "stream",
     "text": [
      "==============================\n",
      "*** Open Babel Warning  in PerceiveBondOrders\n",
      "  Failed to kekulize aromatic bonds in OBMol::PerceiveBondOrders (title is model)\n",
      "\n",
      "1 molecule converted\n",
      "1 molecule converted\n"
     ]
    },
    {
     "name": "stdout",
     "output_type": "stream",
     "text": [
      "Processing ligand NHC-borane\n",
      "Checking for ions...\n",
      "Processing ligand NHC-borane from zs/vina/chai/struct_seperate/Rma-CB/M99P:M100L:D102N:M103L_0/M99P:M100L:D102N:M103L_0.pdb\n",
      "Substrate atoms: [(<Model id=0>, <Chain id=B>, <Residue LIG het=  resseq=0 icode= >, <Atom B1>), (<Model id=0>, <Chain id=B>, <Residue LIG het=  resseq=0 icode= >, <Atom C1>), (<Model id=0>, <Chain id=B>, <Residue LIG het=  resseq=0 icode= >, <Atom N1>), (<Model id=0>, <Chain id=B>, <Residue LIG het=  resseq=0 icode= >, <Atom C2>), (<Model id=0>, <Chain id=B>, <Residue LIG het=  resseq=0 icode= >, <Atom C3>), (<Model id=0>, <Chain id=B>, <Residue LIG het=  resseq=0 icode= >, <Atom C4>), (<Model id=0>, <Chain id=B>, <Residue LIG het=  resseq=0 icode= >, <Atom N2>), (<Model id=0>, <Chain id=B>, <Residue LIG het=  resseq=0 icode= >, <Atom C5>)]\n",
      "Rest atoms: []\n",
      "Substructure saved to /disk2/fli/REVIVAL2/zs/vina/chai/struct_seperate/Rma-CB/M99P:M100L:D102N:M103L_0/NHC-borane/NHC-borane_temp.pdb\n",
      "Removing ions from zs/vina/chai/struct_seperate/Rma-CB/M99P:M100L:D102N:M103L_0/NHC-borane/NHC-borane_temp.pdb\n",
      "Added hydrogen H1 to B1\n",
      "Added hydrogen H2 to B1\n",
      "Added hydrogen H3 to B1\n",
      "Saved modified PDB to: zs/vina/chai/struct_seperate/Rma-CB/M99P:M100L:D102N:M103L_0/NHC-borane/NHC-borane.pdb\n",
      "Processed PDBQT file saved to: zs/vina/chai/struct_seperate/Rma-CB/M99P:M100L:D102N:M103L_0/NHC-borane/NHC-borane.pdbqt\n",
      "Processing cofactor carbene-heme C=CC1=C(C=C2C(C)=C(C=C)C3=[N]2[Fe]45(N6C(C(C)=C(CCC([O-])=O)C6=C7)=C3)=C(C)C(OCC)=O)N4C(C=C8[N]5=C7C(CCC([O-])=O)=C8C)=C1C using zs/vina/chai/struct_seperate/Rma-CB/M99P:M100L:D102N:M103L_0/M99P:M100L:D102N:M103L_0.pdb\n",
      "Making zs/vina/chai/struct_seperate/Rma-CB/M99P:M100L:D102N:M103L_0/carbene ...\n",
      "Processing ligand carbene\n",
      "Checking for ions...\n",
      "Processing ligand carbene from zs/vina/chai/struct_seperate/Rma-CB/M99P:M100L:D102N:M103L_0/M99P:M100L:D102N:M103L_0.pdb\n",
      "Substrate atoms: [(<Model id=0>, <Chain id=C>, <Residue LIG het=  resseq=0 icode= >, <Atom C15>), (<Model id=0>, <Chain id=C>, <Residue LIG het=  resseq=0 icode= >, <Atom C16>), (<Model id=0>, <Chain id=C>, <Residue LIG het=  resseq=0 icode= >, <Atom C17>), (<Model id=0>, <Chain id=C>, <Residue LIG het=  resseq=0 icode= >, <Atom O1>), (<Model id=0>, <Chain id=C>, <Residue LIG het=  resseq=0 icode= >, <Atom O2>), (<Model id=0>, <Chain id=C>, <Residue LIG het=  resseq=0 icode= >, <Atom C18>), (<Model id=0>, <Chain id=C>, <Residue LIG het=  resseq=0 icode= >, <Atom C19>)]\n",
      "Rest atoms: [(<Model id=0>, <Chain id=C>, <Residue LIG het=  resseq=0 icode= >, <Atom C1>), (<Model id=0>, <Chain id=C>, <Residue LIG het=  resseq=0 icode= >, <Atom C2>), (<Model id=0>, <Chain id=C>, <Residue LIG het=  resseq=0 icode= >, <Atom C3>), (<Model id=0>, <Chain id=C>, <Residue LIG het=  resseq=0 icode= >, <Atom C4>), (<Model id=0>, <Chain id=C>, <Residue LIG het=  resseq=0 icode= >, <Atom C5>), (<Model id=0>, <Chain id=C>, <Residue LIG het=  resseq=0 icode= >, <Atom C6>), (<Model id=0>, <Chain id=C>, <Residue LIG het=  resseq=0 icode= >, <Atom C7>), (<Model id=0>, <Chain id=C>, <Residue LIG het=  resseq=0 icode= >, <Atom C8>), (<Model id=0>, <Chain id=C>, <Residue LIG het=  resseq=0 icode= >, <Atom C9>), (<Model id=0>, <Chain id=C>, <Residue LIG het=  resseq=0 icode= >, <Atom C10>), (<Model id=0>, <Chain id=C>, <Residue LIG het=  resseq=0 icode= >, <Atom C11>), (<Model id=0>, <Chain id=C>, <Residue LIG het=  resseq=0 icode= >, <Atom C12>), (<Model id=0>, <Chain id=C>, <Residue LIG het=  resseq=0 icode= >, <Atom C13>), (<Model id=0>, <Chain id=C>, <Residue LIG het=  resseq=0 icode= >, <Atom C14>), (<Model id=0>, <Chain id=C>, <Residue LIG het=  resseq=0 icode= >, <Atom N1>), (<Model id=0>, <Chain id=C>, <Residue LIG het=  resseq=0 icode= >, <Atom FE1>), (<Model id=0>, <Chain id=C>, <Residue LIG het=  resseq=0 icode= >, <Atom N2>), (<Model id=0>, <Chain id=C>, <Residue LIG het=  resseq=0 icode= >, <Atom C20>), (<Model id=0>, <Chain id=C>, <Residue LIG het=  resseq=0 icode= >, <Atom C21>), (<Model id=0>, <Chain id=C>, <Residue LIG het=  resseq=0 icode= >, <Atom C22>), (<Model id=0>, <Chain id=C>, <Residue LIG het=  resseq=0 icode= >, <Atom C23>), (<Model id=0>, <Chain id=C>, <Residue LIG het=  resseq=0 icode= >, <Atom C24>), (<Model id=0>, <Chain id=C>, <Residue LIG het=  resseq=0 icode= >, <Atom C25>), (<Model id=0>, <Chain id=C>, <Residue LIG het=  resseq=0 icode= >, <Atom C26>), (<Model id=0>, <Chain id=C>, <Residue LIG het=  resseq=0 icode= >, <Atom C27>), (<Model id=0>, <Chain id=C>, <Residue LIG het=  resseq=0 icode= >, <Atom C28>), (<Model id=0>, <Chain id=C>, <Residue LIG het=  resseq=0 icode= >, <Atom O3>), (<Model id=0>, <Chain id=C>, <Residue LIG het=  resseq=0 icode= >, <Atom O4>), (<Model id=0>, <Chain id=C>, <Residue LIG het=  resseq=0 icode= >, <Atom C29>), (<Model id=0>, <Chain id=C>, <Residue LIG het=  resseq=0 icode= >, <Atom N3>), (<Model id=0>, <Chain id=C>, <Residue LIG het=  resseq=0 icode= >, <Atom C30>), (<Model id=0>, <Chain id=C>, <Residue LIG het=  resseq=0 icode= >, <Atom C31>), (<Model id=0>, <Chain id=C>, <Residue LIG het=  resseq=0 icode= >, <Atom N4>), (<Model id=0>, <Chain id=C>, <Residue LIG het=  resseq=0 icode= >, <Atom C32>), (<Model id=0>, <Chain id=C>, <Residue LIG het=  resseq=0 icode= >, <Atom C33>), (<Model id=0>, <Chain id=C>, <Residue LIG het=  resseq=0 icode= >, <Atom C34>), (<Model id=0>, <Chain id=C>, <Residue LIG het=  resseq=0 icode= >, <Atom C35>), (<Model id=0>, <Chain id=C>, <Residue LIG het=  resseq=0 icode= >, <Atom C36>), (<Model id=0>, <Chain id=C>, <Residue LIG het=  resseq=0 icode= >, <Atom C37>), (<Model id=0>, <Chain id=C>, <Residue LIG het=  resseq=0 icode= >, <Atom C38>), (<Model id=0>, <Chain id=C>, <Residue LIG het=  resseq=0 icode= >, <Atom C39>), (<Model id=0>, <Chain id=C>, <Residue LIG het=  resseq=0 icode= >, <Atom O5>), (<Model id=0>, <Chain id=C>, <Residue LIG het=  resseq=0 icode= >, <Atom O6>)]\n",
      "Substructure saved to /disk2/fli/REVIVAL2/zs/vina/chai/struct_seperate/Rma-CB/M99P:M100L:D102N:M103L_0/carbene/carbene_temp.pdb\n",
      "Removing ions from zs/vina/chai/struct_seperate/Rma-CB/M99P:M100L:D102N:M103L_0/carbene/carbene_temp.pdb\n",
      "Cleaned PDBQT file saved to: zs/vina/chai/struct_seperate/Rma-CB/M99P:M100L:D102N:M103L_0/carbene/carbene.pdbqt\n",
      "Making zs/vina/chai/struct_seperate/Rma-CB/M99P:M100L:D102N:M103L_0/heme ...\n",
      "Processing ligand heme\n",
      "Checking for ions...\n",
      "Processing ligand heme from zs/vina/chai/struct_seperate/Rma-CB/M99P:M100L:D102N:M103L_0/M99P:M100L:D102N:M103L_0.pdb\n",
      "Substrate atoms: [(<Model id=0>, <Chain id=C>, <Residue LIG het=  resseq=0 icode= >, <Atom C15>), (<Model id=0>, <Chain id=C>, <Residue LIG het=  resseq=0 icode= >, <Atom C16>), (<Model id=0>, <Chain id=C>, <Residue LIG het=  resseq=0 icode= >, <Atom C17>), (<Model id=0>, <Chain id=C>, <Residue LIG het=  resseq=0 icode= >, <Atom O1>), (<Model id=0>, <Chain id=C>, <Residue LIG het=  resseq=0 icode= >, <Atom O2>), (<Model id=0>, <Chain id=C>, <Residue LIG het=  resseq=0 icode= >, <Atom C18>), (<Model id=0>, <Chain id=C>, <Residue LIG het=  resseq=0 icode= >, <Atom C19>)]\n",
      "Rest atoms: [(<Model id=0>, <Chain id=C>, <Residue LIG het=  resseq=0 icode= >, <Atom C1>), (<Model id=0>, <Chain id=C>, <Residue LIG het=  resseq=0 icode= >, <Atom C2>), (<Model id=0>, <Chain id=C>, <Residue LIG het=  resseq=0 icode= >, <Atom C3>), (<Model id=0>, <Chain id=C>, <Residue LIG het=  resseq=0 icode= >, <Atom C4>), (<Model id=0>, <Chain id=C>, <Residue LIG het=  resseq=0 icode= >, <Atom C5>), (<Model id=0>, <Chain id=C>, <Residue LIG het=  resseq=0 icode= >, <Atom C6>), (<Model id=0>, <Chain id=C>, <Residue LIG het=  resseq=0 icode= >, <Atom C7>), (<Model id=0>, <Chain id=C>, <Residue LIG het=  resseq=0 icode= >, <Atom C8>), (<Model id=0>, <Chain id=C>, <Residue LIG het=  resseq=0 icode= >, <Atom C9>), (<Model id=0>, <Chain id=C>, <Residue LIG het=  resseq=0 icode= >, <Atom C10>), (<Model id=0>, <Chain id=C>, <Residue LIG het=  resseq=0 icode= >, <Atom C11>), (<Model id=0>, <Chain id=C>, <Residue LIG het=  resseq=0 icode= >, <Atom C12>), (<Model id=0>, <Chain id=C>, <Residue LIG het=  resseq=0 icode= >, <Atom C13>), (<Model id=0>, <Chain id=C>, <Residue LIG het=  resseq=0 icode= >, <Atom C14>), (<Model id=0>, <Chain id=C>, <Residue LIG het=  resseq=0 icode= >, <Atom N1>), (<Model id=0>, <Chain id=C>, <Residue LIG het=  resseq=0 icode= >, <Atom FE1>), (<Model id=0>, <Chain id=C>, <Residue LIG het=  resseq=0 icode= >, <Atom N2>), (<Model id=0>, <Chain id=C>, <Residue LIG het=  resseq=0 icode= >, <Atom C20>), (<Model id=0>, <Chain id=C>, <Residue LIG het=  resseq=0 icode= >, <Atom C21>), (<Model id=0>, <Chain id=C>, <Residue LIG het=  resseq=0 icode= >, <Atom C22>), (<Model id=0>, <Chain id=C>, <Residue LIG het=  resseq=0 icode= >, <Atom C23>), (<Model id=0>, <Chain id=C>, <Residue LIG het=  resseq=0 icode= >, <Atom C24>), (<Model id=0>, <Chain id=C>, <Residue LIG het=  resseq=0 icode= >, <Atom C25>), (<Model id=0>, <Chain id=C>, <Residue LIG het=  resseq=0 icode= >, <Atom C26>), (<Model id=0>, <Chain id=C>, <Residue LIG het=  resseq=0 icode= >, <Atom C27>), (<Model id=0>, <Chain id=C>, <Residue LIG het=  resseq=0 icode= >, <Atom C28>), (<Model id=0>, <Chain id=C>, <Residue LIG het=  resseq=0 icode= >, <Atom O3>), (<Model id=0>, <Chain id=C>, <Residue LIG het=  resseq=0 icode= >, <Atom O4>), (<Model id=0>, <Chain id=C>, <Residue LIG het=  resseq=0 icode= >, <Atom C29>), (<Model id=0>, <Chain id=C>, <Residue LIG het=  resseq=0 icode= >, <Atom N3>), (<Model id=0>, <Chain id=C>, <Residue LIG het=  resseq=0 icode= >, <Atom C30>), (<Model id=0>, <Chain id=C>, <Residue LIG het=  resseq=0 icode= >, <Atom C31>), (<Model id=0>, <Chain id=C>, <Residue LIG het=  resseq=0 icode= >, <Atom N4>), (<Model id=0>, <Chain id=C>, <Residue LIG het=  resseq=0 icode= >, <Atom C32>), (<Model id=0>, <Chain id=C>, <Residue LIG het=  resseq=0 icode= >, <Atom C33>), (<Model id=0>, <Chain id=C>, <Residue LIG het=  resseq=0 icode= >, <Atom C34>), (<Model id=0>, <Chain id=C>, <Residue LIG het=  resseq=0 icode= >, <Atom C35>), (<Model id=0>, <Chain id=C>, <Residue LIG het=  resseq=0 icode= >, <Atom C36>), (<Model id=0>, <Chain id=C>, <Residue LIG het=  resseq=0 icode= >, <Atom C37>), (<Model id=0>, <Chain id=C>, <Residue LIG het=  resseq=0 icode= >, <Atom C38>), (<Model id=0>, <Chain id=C>, <Residue LIG het=  resseq=0 icode= >, <Atom C39>), (<Model id=0>, <Chain id=C>, <Residue LIG het=  resseq=0 icode= >, <Atom O5>), (<Model id=0>, <Chain id=C>, <Residue LIG het=  resseq=0 icode= >, <Atom O6>)]\n",
      "Substructure saved to /disk2/fli/REVIVAL2/zs/vina/chai/struct_seperate/Rma-CB/M99P:M100L:D102N:M103L_0/heme/heme_temp.pdb\n",
      "Removing ions from zs/vina/chai/struct_seperate/Rma-CB/M99P:M100L:D102N:M103L_0/heme/heme_temp.pdb\n",
      "Cleaned PDBQT file saved to: zs/vina/chai/struct_seperate/Rma-CB/M99P:M100L:D102N:M103L_0/heme/heme.pdbqt\n",
      "Making zs/vina/chai/struct_seperate/Rma-CB/M99P:M100L:D102N:M103L_0/Fe ...\n",
      "Processing ligand Fe\n",
      "Checking for ions...\n",
      "Processing ion Fe\n",
      "Ions matching 'FE' were successfully extracted to zs/vina/chai/struct_seperate/Rma-CB/M99P:M100L:D102N:M103L_0/Fe/FE.pdb.\n"
     ]
    },
    {
     "name": "stderr",
     "output_type": "stream",
     "text": [
      "1 molecule converted\n"
     ]
    },
    {
     "name": "stdout",
     "output_type": "stream",
     "text": [
      "cofactor_pdbqts: ['zs/vina/chai/struct_seperate/Rma-CB/M99P:M100L:D102N:M103L_0/carbene/carbene.pdbqt', 'zs/vina/chai/struct_seperate/Rma-CB/M99P:M100L:D102N:M103L_0/heme/heme.pdbqt', 'zs/vina/chai/struct_seperate/Rma-CB/M99P:M100L:D102N:M103L_0/Fe/FE.pdbqt']\n",
      "Making zs/vina/chai/struct_seperate/Rma-CB/M99P:M100L:D102N:M103L_0/M99P:M100L:D102N:M103L_0_cofactors ...\n",
      "Merging zs/vina/chai/struct_seperate/Rma-CB/M99P:M100L:D102N:M103L_0/M99P:M100L:D102N:M103L_0/M99P:M100L:D102N:M103L_0.pdbqt\n",
      "Merging zs/vina/chai/struct_seperate/Rma-CB/M99P:M100L:D102N:M103L_0/carbene/carbene.pdbqt\n",
      "Merging zs/vina/chai/struct_seperate/Rma-CB/M99P:M100L:D102N:M103L_0/heme/heme.pdbqt\n",
      "Merging zs/vina/chai/struct_seperate/Rma-CB/M99P:M100L:D102N:M103L_0/Fe/FE.pdbqt\n",
      "Combined ATOM lines saved to zs/vina/chai/struct_seperate/Rma-CB/M99P:M100L:D102N:M103L_0/M99P:M100L:D102N:M103L_0_cofactors/M99P:M100L:D102N:M103L_0_cofactors.pdbqt\n",
      "Vina run (score-only) completed successfully. Log saved to: zs/vina/chai/struct_seperate/Rma-CB/M99P:M100L:D102N:M103L_0/M99P:M100L:D102N:M103L_0-NHC-borane-substrate-score_only_log.txt\n"
     ]
    },
    {
     "data": {
      "text/plain": [
       "'zs/vina/chai/struct_seperate/Rma-CB/M99P:M100L:D102N:M103L_0/M99P:M100L:D102N:M103L_0-NHC-borane-substrate-score_only_log.txt'"
      ]
     },
     "execution_count": 5,
     "metadata": {},
     "output_type": "execute_result"
    }
   ],
   "source": [
    "from REVIVAL.zs.vina import dock\n",
    "\n",
    "dock(\n",
    "    input_struct_path=\"/disk2/fli/REVIVAL2/zs/chai/struct_seperate/Rma-CB/M99P:M100L:D102N:M103L/M99P:M100L:D102N:M103L_0.cif\",\n",
    "    dock_opt=\"substrate\",\n",
    "    score_only = True,\n",
    "    regen=True,\n",
    "    rerun=True\n",
    ")"
   ]
  },
  {
   "cell_type": "code",
   "execution_count": 34,
   "metadata": {},
   "outputs": [
    {
     "name": "stdout",
     "output_type": "stream",
     "text": [
      "Making zs/vina/chai/struct_joint/Rma-CSi/M99P:M100L:D102N:M103L_0 ...\n",
      "Making zs/vina/chai/struct_joint/Rma-CSi/M99P:M100L:D102N:M103L_0/M99P:M100L:D102N:M103L_0 ...\n"
     ]
    },
    {
     "name": "stderr",
     "output_type": "stream",
     "text": [
      "==============================\n",
      "*** Open Babel Warning  in PerceiveBondOrders\n",
      "  Failed to kekulize aromatic bonds in OBMol::PerceiveBondOrders (title is model)\n",
      "\n",
      "1 molecule converted\n",
      "1 molecule converted\n",
      "1 molecule converted\n"
     ]
    },
    {
     "name": "stdout",
     "output_type": "stream",
     "text": [
      "Making zs/vina/chai/struct_joint/Rma-CSi/M99P:M100L:D102N:M103L_0/phenyldimethylsilane ...\n",
      "Processing ligand phenyldimethylsilane\n",
      "Checking for ions...\n",
      "Processing ligand phenyldimethylsilane from zs/vina/chai/struct_joint/Rma-CSi/M99P:M100L:D102N:M103L_0/M99P:M100L:D102N:M103L_0.pdb\n",
      "Substrate atoms: [(<Model id=0>, <Chain id=B>, <Residue LIG het=  resseq=0 icode= >, <Atom C1>), (<Model id=0>, <Chain id=B>, <Residue LIG het=  resseq=0 icode= >, <Atom SI1>), (<Model id=0>, <Chain id=B>, <Residue LIG het=  resseq=0 icode= >, <Atom C2>), (<Model id=0>, <Chain id=B>, <Residue LIG het=  resseq=0 icode= >, <Atom C3>), (<Model id=0>, <Chain id=B>, <Residue LIG het=  resseq=0 icode= >, <Atom C4>), (<Model id=0>, <Chain id=B>, <Residue LIG het=  resseq=0 icode= >, <Atom C5>), (<Model id=0>, <Chain id=B>, <Residue LIG het=  resseq=0 icode= >, <Atom C6>), (<Model id=0>, <Chain id=B>, <Residue LIG het=  resseq=0 icode= >, <Atom C7>), (<Model id=0>, <Chain id=B>, <Residue LIG het=  resseq=0 icode= >, <Atom C8>)]\n",
      "Rest atoms: [(<Model id=0>, <Chain id=B>, <Residue LIG het=  resseq=0 icode= >, <Atom C9>), (<Model id=0>, <Chain id=B>, <Residue LIG het=  resseq=0 icode= >, <Atom C10>), (<Model id=0>, <Chain id=B>, <Residue LIG het=  resseq=0 icode= >, <Atom C11>), (<Model id=0>, <Chain id=B>, <Residue LIG het=  resseq=0 icode= >, <Atom C12>), (<Model id=0>, <Chain id=B>, <Residue LIG het=  resseq=0 icode= >, <Atom C13>), (<Model id=0>, <Chain id=B>, <Residue LIG het=  resseq=0 icode= >, <Atom C14>), (<Model id=0>, <Chain id=B>, <Residue LIG het=  resseq=0 icode= >, <Atom C15>), (<Model id=0>, <Chain id=B>, <Residue LIG het=  resseq=0 icode= >, <Atom C16>), (<Model id=0>, <Chain id=B>, <Residue LIG het=  resseq=0 icode= >, <Atom C17>), (<Model id=0>, <Chain id=B>, <Residue LIG het=  resseq=0 icode= >, <Atom C18>), (<Model id=0>, <Chain id=B>, <Residue LIG het=  resseq=0 icode= >, <Atom C19>), (<Model id=0>, <Chain id=B>, <Residue LIG het=  resseq=0 icode= >, <Atom C20>), (<Model id=0>, <Chain id=B>, <Residue LIG het=  resseq=0 icode= >, <Atom C21>), (<Model id=0>, <Chain id=B>, <Residue LIG het=  resseq=0 icode= >, <Atom C22>), (<Model id=0>, <Chain id=B>, <Residue LIG het=  resseq=0 icode= >, <Atom N1>), (<Model id=0>, <Chain id=B>, <Residue LIG het=  resseq=0 icode= >, <Atom FE1>), (<Model id=0>, <Chain id=B>, <Residue LIG het=  resseq=0 icode= >, <Atom C23>), (<Model id=0>, <Chain id=B>, <Residue LIG het=  resseq=0 icode= >, <Atom C24>), (<Model id=0>, <Chain id=B>, <Residue LIG het=  resseq=0 icode= >, <Atom C25>), (<Model id=0>, <Chain id=B>, <Residue LIG het=  resseq=0 icode= >, <Atom O1>), (<Model id=0>, <Chain id=B>, <Residue LIG het=  resseq=0 icode= >, <Atom O2>), (<Model id=0>, <Chain id=B>, <Residue LIG het=  resseq=0 icode= >, <Atom C26>), (<Model id=0>, <Chain id=B>, <Residue LIG het=  resseq=0 icode= >, <Atom C27>), (<Model id=0>, <Chain id=B>, <Residue LIG het=  resseq=0 icode= >, <Atom N2>), (<Model id=0>, <Chain id=B>, <Residue LIG het=  resseq=0 icode= >, <Atom C28>), (<Model id=0>, <Chain id=B>, <Residue LIG het=  resseq=0 icode= >, <Atom C29>), (<Model id=0>, <Chain id=B>, <Residue LIG het=  resseq=0 icode= >, <Atom C30>), (<Model id=0>, <Chain id=B>, <Residue LIG het=  resseq=0 icode= >, <Atom C31>), (<Model id=0>, <Chain id=B>, <Residue LIG het=  resseq=0 icode= >, <Atom C32>), (<Model id=0>, <Chain id=B>, <Residue LIG het=  resseq=0 icode= >, <Atom C33>), (<Model id=0>, <Chain id=B>, <Residue LIG het=  resseq=0 icode= >, <Atom C34>), (<Model id=0>, <Chain id=B>, <Residue LIG het=  resseq=0 icode= >, <Atom C35>), (<Model id=0>, <Chain id=B>, <Residue LIG het=  resseq=0 icode= >, <Atom C36>), (<Model id=0>, <Chain id=B>, <Residue LIG het=  resseq=0 icode= >, <Atom O3>), (<Model id=0>, <Chain id=B>, <Residue LIG het=  resseq=0 icode= >, <Atom O4>), (<Model id=0>, <Chain id=B>, <Residue LIG het=  resseq=0 icode= >, <Atom C37>), (<Model id=0>, <Chain id=B>, <Residue LIG het=  resseq=0 icode= >, <Atom N3>), (<Model id=0>, <Chain id=B>, <Residue LIG het=  resseq=0 icode= >, <Atom C38>), (<Model id=0>, <Chain id=B>, <Residue LIG het=  resseq=0 icode= >, <Atom C39>), (<Model id=0>, <Chain id=B>, <Residue LIG het=  resseq=0 icode= >, <Atom N4>), (<Model id=0>, <Chain id=B>, <Residue LIG het=  resseq=0 icode= >, <Atom C40>), (<Model id=0>, <Chain id=B>, <Residue LIG het=  resseq=0 icode= >, <Atom C41>), (<Model id=0>, <Chain id=B>, <Residue LIG het=  resseq=0 icode= >, <Atom C42>), (<Model id=0>, <Chain id=B>, <Residue LIG het=  resseq=0 icode= >, <Atom C43>), (<Model id=0>, <Chain id=B>, <Residue LIG het=  resseq=0 icode= >, <Atom C44>), (<Model id=0>, <Chain id=B>, <Residue LIG het=  resseq=0 icode= >, <Atom C45>), (<Model id=0>, <Chain id=B>, <Residue LIG het=  resseq=0 icode= >, <Atom C46>), (<Model id=0>, <Chain id=B>, <Residue LIG het=  resseq=0 icode= >, <Atom C47>), (<Model id=0>, <Chain id=B>, <Residue LIG het=  resseq=0 icode= >, <Atom O5>), (<Model id=0>, <Chain id=B>, <Residue LIG het=  resseq=0 icode= >, <Atom O6>)]\n",
      "Substructure saved to /disk2/fli/REVIVAL2/zs/vina/chai/struct_joint/Rma-CSi/M99P:M100L:D102N:M103L_0/phenyldimethylsilane/phenyldimethylsilane_temp.pdb\n",
      "Removing ions from zs/vina/chai/struct_joint/Rma-CSi/M99P:M100L:D102N:M103L_0/phenyldimethylsilane/phenyldimethylsilane_temp.pdb\n",
      "Added H 'H1' to SI1 in LIG (chain B)\n",
      "\n",
      "Saved updated PDB to: zs/vina/chai/struct_joint/Rma-CSi/M99P:M100L:D102N:M103L_0/phenyldimethylsilane/phenyldimethylsilane.pdb\n",
      "Processing cofactor carbene-heme C=CC1=C(C=C2C(C)=C(C=C)C3=[N]2[Fe]45(N6C(C(C)=C(CCC([O-])=O)C6=C7)=C3)=C(C)C(OCC)=O)N4C(C=C8[N]5=C7C(CCC([O-])=O)=C8C)=C1C using zs/vina/chai/struct_joint/Rma-CSi/M99P:M100L:D102N:M103L_0/M99P:M100L:D102N:M103L_0.pdb\n",
      "Making zs/vina/chai/struct_joint/Rma-CSi/M99P:M100L:D102N:M103L_0/carbene ...\n",
      "Processing ligand carbene\n",
      "Checking for ions...\n",
      "Processing ligand carbene from zs/vina/chai/struct_joint/Rma-CSi/M99P:M100L:D102N:M103L_0/M99P:M100L:D102N:M103L_0.pdb\n",
      "Substrate atoms: [(<Model id=0>, <Chain id=B>, <Residue LIG het=  resseq=0 icode= >, <Atom C23>), (<Model id=0>, <Chain id=B>, <Residue LIG het=  resseq=0 icode= >, <Atom C24>), (<Model id=0>, <Chain id=B>, <Residue LIG het=  resseq=0 icode= >, <Atom C25>), (<Model id=0>, <Chain id=B>, <Residue LIG het=  resseq=0 icode= >, <Atom O1>), (<Model id=0>, <Chain id=B>, <Residue LIG het=  resseq=0 icode= >, <Atom O2>), (<Model id=0>, <Chain id=B>, <Residue LIG het=  resseq=0 icode= >, <Atom C26>), (<Model id=0>, <Chain id=B>, <Residue LIG het=  resseq=0 icode= >, <Atom C27>)]\n",
      "Rest atoms: [(<Model id=0>, <Chain id=B>, <Residue LIG het=  resseq=0 icode= >, <Atom C1>), (<Model id=0>, <Chain id=B>, <Residue LIG het=  resseq=0 icode= >, <Atom SI1>), (<Model id=0>, <Chain id=B>, <Residue LIG het=  resseq=0 icode= >, <Atom C2>), (<Model id=0>, <Chain id=B>, <Residue LIG het=  resseq=0 icode= >, <Atom C3>), (<Model id=0>, <Chain id=B>, <Residue LIG het=  resseq=0 icode= >, <Atom C4>), (<Model id=0>, <Chain id=B>, <Residue LIG het=  resseq=0 icode= >, <Atom C5>), (<Model id=0>, <Chain id=B>, <Residue LIG het=  resseq=0 icode= >, <Atom C6>), (<Model id=0>, <Chain id=B>, <Residue LIG het=  resseq=0 icode= >, <Atom C7>), (<Model id=0>, <Chain id=B>, <Residue LIG het=  resseq=0 icode= >, <Atom C8>), (<Model id=0>, <Chain id=B>, <Residue LIG het=  resseq=0 icode= >, <Atom C9>), (<Model id=0>, <Chain id=B>, <Residue LIG het=  resseq=0 icode= >, <Atom C10>), (<Model id=0>, <Chain id=B>, <Residue LIG het=  resseq=0 icode= >, <Atom C11>), (<Model id=0>, <Chain id=B>, <Residue LIG het=  resseq=0 icode= >, <Atom C12>), (<Model id=0>, <Chain id=B>, <Residue LIG het=  resseq=0 icode= >, <Atom C13>), (<Model id=0>, <Chain id=B>, <Residue LIG het=  resseq=0 icode= >, <Atom C14>), (<Model id=0>, <Chain id=B>, <Residue LIG het=  resseq=0 icode= >, <Atom C15>), (<Model id=0>, <Chain id=B>, <Residue LIG het=  resseq=0 icode= >, <Atom C16>), (<Model id=0>, <Chain id=B>, <Residue LIG het=  resseq=0 icode= >, <Atom C17>), (<Model id=0>, <Chain id=B>, <Residue LIG het=  resseq=0 icode= >, <Atom C18>), (<Model id=0>, <Chain id=B>, <Residue LIG het=  resseq=0 icode= >, <Atom C19>), (<Model id=0>, <Chain id=B>, <Residue LIG het=  resseq=0 icode= >, <Atom C20>), (<Model id=0>, <Chain id=B>, <Residue LIG het=  resseq=0 icode= >, <Atom C21>), (<Model id=0>, <Chain id=B>, <Residue LIG het=  resseq=0 icode= >, <Atom C22>), (<Model id=0>, <Chain id=B>, <Residue LIG het=  resseq=0 icode= >, <Atom N1>), (<Model id=0>, <Chain id=B>, <Residue LIG het=  resseq=0 icode= >, <Atom FE1>), (<Model id=0>, <Chain id=B>, <Residue LIG het=  resseq=0 icode= >, <Atom N2>), (<Model id=0>, <Chain id=B>, <Residue LIG het=  resseq=0 icode= >, <Atom C28>), (<Model id=0>, <Chain id=B>, <Residue LIG het=  resseq=0 icode= >, <Atom C29>), (<Model id=0>, <Chain id=B>, <Residue LIG het=  resseq=0 icode= >, <Atom C30>), (<Model id=0>, <Chain id=B>, <Residue LIG het=  resseq=0 icode= >, <Atom C31>), (<Model id=0>, <Chain id=B>, <Residue LIG het=  resseq=0 icode= >, <Atom C32>), (<Model id=0>, <Chain id=B>, <Residue LIG het=  resseq=0 icode= >, <Atom C33>), (<Model id=0>, <Chain id=B>, <Residue LIG het=  resseq=0 icode= >, <Atom C34>), (<Model id=0>, <Chain id=B>, <Residue LIG het=  resseq=0 icode= >, <Atom C35>), (<Model id=0>, <Chain id=B>, <Residue LIG het=  resseq=0 icode= >, <Atom C36>), (<Model id=0>, <Chain id=B>, <Residue LIG het=  resseq=0 icode= >, <Atom O3>), (<Model id=0>, <Chain id=B>, <Residue LIG het=  resseq=0 icode= >, <Atom O4>), (<Model id=0>, <Chain id=B>, <Residue LIG het=  resseq=0 icode= >, <Atom C37>), (<Model id=0>, <Chain id=B>, <Residue LIG het=  resseq=0 icode= >, <Atom N3>), (<Model id=0>, <Chain id=B>, <Residue LIG het=  resseq=0 icode= >, <Atom C38>), (<Model id=0>, <Chain id=B>, <Residue LIG het=  resseq=0 icode= >, <Atom C39>), (<Model id=0>, <Chain id=B>, <Residue LIG het=  resseq=0 icode= >, <Atom N4>), (<Model id=0>, <Chain id=B>, <Residue LIG het=  resseq=0 icode= >, <Atom C40>), (<Model id=0>, <Chain id=B>, <Residue LIG het=  resseq=0 icode= >, <Atom C41>), (<Model id=0>, <Chain id=B>, <Residue LIG het=  resseq=0 icode= >, <Atom C42>), (<Model id=0>, <Chain id=B>, <Residue LIG het=  resseq=0 icode= >, <Atom C43>), (<Model id=0>, <Chain id=B>, <Residue LIG het=  resseq=0 icode= >, <Atom C44>), (<Model id=0>, <Chain id=B>, <Residue LIG het=  resseq=0 icode= >, <Atom C45>), (<Model id=0>, <Chain id=B>, <Residue LIG het=  resseq=0 icode= >, <Atom C46>), (<Model id=0>, <Chain id=B>, <Residue LIG het=  resseq=0 icode= >, <Atom C47>), (<Model id=0>, <Chain id=B>, <Residue LIG het=  resseq=0 icode= >, <Atom O5>), (<Model id=0>, <Chain id=B>, <Residue LIG het=  resseq=0 icode= >, <Atom O6>)]\n",
      "Substructure saved to /disk2/fli/REVIVAL2/zs/vina/chai/struct_joint/Rma-CSi/M99P:M100L:D102N:M103L_0/carbene/carbene_temp.pdb\n",
      "Removing ions from zs/vina/chai/struct_joint/Rma-CSi/M99P:M100L:D102N:M103L_0/carbene/carbene_temp.pdb\n",
      "Cleaned PDBQT file saved to: zs/vina/chai/struct_joint/Rma-CSi/M99P:M100L:D102N:M103L_0/carbene/carbene.pdbqt\n",
      "Making zs/vina/chai/struct_joint/Rma-CSi/M99P:M100L:D102N:M103L_0/heme ...\n",
      "Processing ligand heme\n",
      "Checking for ions...\n",
      "Processing ligand heme from zs/vina/chai/struct_joint/Rma-CSi/M99P:M100L:D102N:M103L_0/M99P:M100L:D102N:M103L_0.pdb\n",
      "Substrate atoms: [(<Model id=0>, <Chain id=B>, <Residue LIG het=  resseq=0 icode= >, <Atom C1>), (<Model id=0>, <Chain id=B>, <Residue LIG het=  resseq=0 icode= >, <Atom SI1>), (<Model id=0>, <Chain id=B>, <Residue LIG het=  resseq=0 icode= >, <Atom C2>), (<Model id=0>, <Chain id=B>, <Residue LIG het=  resseq=0 icode= >, <Atom C3>), (<Model id=0>, <Chain id=B>, <Residue LIG het=  resseq=0 icode= >, <Atom C4>), (<Model id=0>, <Chain id=B>, <Residue LIG het=  resseq=0 icode= >, <Atom C5>), (<Model id=0>, <Chain id=B>, <Residue LIG het=  resseq=0 icode= >, <Atom C6>), (<Model id=0>, <Chain id=B>, <Residue LIG het=  resseq=0 icode= >, <Atom C7>), (<Model id=0>, <Chain id=B>, <Residue LIG het=  resseq=0 icode= >, <Atom C8>), (<Model id=0>, <Chain id=B>, <Residue LIG het=  resseq=0 icode= >, <Atom C23>), (<Model id=0>, <Chain id=B>, <Residue LIG het=  resseq=0 icode= >, <Atom C24>), (<Model id=0>, <Chain id=B>, <Residue LIG het=  resseq=0 icode= >, <Atom C25>), (<Model id=0>, <Chain id=B>, <Residue LIG het=  resseq=0 icode= >, <Atom O1>), (<Model id=0>, <Chain id=B>, <Residue LIG het=  resseq=0 icode= >, <Atom O2>), (<Model id=0>, <Chain id=B>, <Residue LIG het=  resseq=0 icode= >, <Atom C26>), (<Model id=0>, <Chain id=B>, <Residue LIG het=  resseq=0 icode= >, <Atom C27>)]\n",
      "Rest atoms: [(<Model id=0>, <Chain id=B>, <Residue LIG het=  resseq=0 icode= >, <Atom C9>), (<Model id=0>, <Chain id=B>, <Residue LIG het=  resseq=0 icode= >, <Atom C10>), (<Model id=0>, <Chain id=B>, <Residue LIG het=  resseq=0 icode= >, <Atom C11>), (<Model id=0>, <Chain id=B>, <Residue LIG het=  resseq=0 icode= >, <Atom C12>), (<Model id=0>, <Chain id=B>, <Residue LIG het=  resseq=0 icode= >, <Atom C13>), (<Model id=0>, <Chain id=B>, <Residue LIG het=  resseq=0 icode= >, <Atom C14>), (<Model id=0>, <Chain id=B>, <Residue LIG het=  resseq=0 icode= >, <Atom C15>), (<Model id=0>, <Chain id=B>, <Residue LIG het=  resseq=0 icode= >, <Atom C16>), (<Model id=0>, <Chain id=B>, <Residue LIG het=  resseq=0 icode= >, <Atom C17>), (<Model id=0>, <Chain id=B>, <Residue LIG het=  resseq=0 icode= >, <Atom C18>), (<Model id=0>, <Chain id=B>, <Residue LIG het=  resseq=0 icode= >, <Atom C19>), (<Model id=0>, <Chain id=B>, <Residue LIG het=  resseq=0 icode= >, <Atom C20>), (<Model id=0>, <Chain id=B>, <Residue LIG het=  resseq=0 icode= >, <Atom C21>), (<Model id=0>, <Chain id=B>, <Residue LIG het=  resseq=0 icode= >, <Atom C22>), (<Model id=0>, <Chain id=B>, <Residue LIG het=  resseq=0 icode= >, <Atom N1>), (<Model id=0>, <Chain id=B>, <Residue LIG het=  resseq=0 icode= >, <Atom FE1>), (<Model id=0>, <Chain id=B>, <Residue LIG het=  resseq=0 icode= >, <Atom N2>), (<Model id=0>, <Chain id=B>, <Residue LIG het=  resseq=0 icode= >, <Atom C28>), (<Model id=0>, <Chain id=B>, <Residue LIG het=  resseq=0 icode= >, <Atom C29>), (<Model id=0>, <Chain id=B>, <Residue LIG het=  resseq=0 icode= >, <Atom C30>), (<Model id=0>, <Chain id=B>, <Residue LIG het=  resseq=0 icode= >, <Atom C31>), (<Model id=0>, <Chain id=B>, <Residue LIG het=  resseq=0 icode= >, <Atom C32>), (<Model id=0>, <Chain id=B>, <Residue LIG het=  resseq=0 icode= >, <Atom C33>), (<Model id=0>, <Chain id=B>, <Residue LIG het=  resseq=0 icode= >, <Atom C34>), (<Model id=0>, <Chain id=B>, <Residue LIG het=  resseq=0 icode= >, <Atom C35>), (<Model id=0>, <Chain id=B>, <Residue LIG het=  resseq=0 icode= >, <Atom C36>), (<Model id=0>, <Chain id=B>, <Residue LIG het=  resseq=0 icode= >, <Atom O3>), (<Model id=0>, <Chain id=B>, <Residue LIG het=  resseq=0 icode= >, <Atom O4>), (<Model id=0>, <Chain id=B>, <Residue LIG het=  resseq=0 icode= >, <Atom C37>), (<Model id=0>, <Chain id=B>, <Residue LIG het=  resseq=0 icode= >, <Atom N3>), (<Model id=0>, <Chain id=B>, <Residue LIG het=  resseq=0 icode= >, <Atom C38>), (<Model id=0>, <Chain id=B>, <Residue LIG het=  resseq=0 icode= >, <Atom C39>), (<Model id=0>, <Chain id=B>, <Residue LIG het=  resseq=0 icode= >, <Atom N4>), (<Model id=0>, <Chain id=B>, <Residue LIG het=  resseq=0 icode= >, <Atom C40>), (<Model id=0>, <Chain id=B>, <Residue LIG het=  resseq=0 icode= >, <Atom C41>), (<Model id=0>, <Chain id=B>, <Residue LIG het=  resseq=0 icode= >, <Atom C42>), (<Model id=0>, <Chain id=B>, <Residue LIG het=  resseq=0 icode= >, <Atom C43>), (<Model id=0>, <Chain id=B>, <Residue LIG het=  resseq=0 icode= >, <Atom C44>), (<Model id=0>, <Chain id=B>, <Residue LIG het=  resseq=0 icode= >, <Atom C45>), (<Model id=0>, <Chain id=B>, <Residue LIG het=  resseq=0 icode= >, <Atom C46>), (<Model id=0>, <Chain id=B>, <Residue LIG het=  resseq=0 icode= >, <Atom C47>), (<Model id=0>, <Chain id=B>, <Residue LIG het=  resseq=0 icode= >, <Atom O5>), (<Model id=0>, <Chain id=B>, <Residue LIG het=  resseq=0 icode= >, <Atom O6>)]\n",
      "Substructure saved to /disk2/fli/REVIVAL2/zs/vina/chai/struct_joint/Rma-CSi/M99P:M100L:D102N:M103L_0/heme/heme_temp.pdb\n",
      "Removing ions from zs/vina/chai/struct_joint/Rma-CSi/M99P:M100L:D102N:M103L_0/heme/heme_temp.pdb\n",
      "Cleaned PDBQT file saved to: zs/vina/chai/struct_joint/Rma-CSi/M99P:M100L:D102N:M103L_0/heme/heme.pdbqt\n",
      "Making zs/vina/chai/struct_joint/Rma-CSi/M99P:M100L:D102N:M103L_0/Fe ...\n",
      "Processing ligand Fe\n",
      "Checking for ions...\n",
      "Processing ion Fe\n",
      "Ions matching 'FE' were successfully extracted to zs/vina/chai/struct_joint/Rma-CSi/M99P:M100L:D102N:M103L_0/Fe/FE.pdb.\n",
      "cofactor_pdbqts: ['zs/vina/chai/struct_joint/Rma-CSi/M99P:M100L:D102N:M103L_0/carbene/carbene.pdbqt', 'zs/vina/chai/struct_joint/Rma-CSi/M99P:M100L:D102N:M103L_0/heme/heme.pdbqt', 'zs/vina/chai/struct_joint/Rma-CSi/M99P:M100L:D102N:M103L_0/Fe/FE.pdbqt']\n",
      "Making zs/vina/chai/struct_joint/Rma-CSi/M99P:M100L:D102N:M103L_0/M99P:M100L:D102N:M103L_0_cofactors ...\n",
      "Merging zs/vina/chai/struct_joint/Rma-CSi/M99P:M100L:D102N:M103L_0/M99P:M100L:D102N:M103L_0/M99P:M100L:D102N:M103L_0.pdbqt\n",
      "Merging zs/vina/chai/struct_joint/Rma-CSi/M99P:M100L:D102N:M103L_0/carbene/carbene.pdbqt\n",
      "Merging zs/vina/chai/struct_joint/Rma-CSi/M99P:M100L:D102N:M103L_0/heme/heme.pdbqt\n",
      "Merging zs/vina/chai/struct_joint/Rma-CSi/M99P:M100L:D102N:M103L_0/Fe/FE.pdbqt\n",
      "Combined ATOM lines saved to zs/vina/chai/struct_joint/Rma-CSi/M99P:M100L:D102N:M103L_0/M99P:M100L:D102N:M103L_0_cofactors/M99P:M100L:D102N:M103L_0_cofactors.pdbqt\n",
      "Vina run (score-only) completed successfully. Log saved to: zs/vina/chai/struct_joint/Rma-CSi/M99P:M100L:D102N:M103L_0/M99P:M100L:D102N:M103L_0-phenyldimethylsilane-substrate-score_only_log.txt\n"
     ]
    },
    {
     "data": {
      "text/plain": [
       "'zs/vina/chai/struct_joint/Rma-CSi/M99P:M100L:D102N:M103L_0/M99P:M100L:D102N:M103L_0-phenyldimethylsilane-substrate-score_only_log.txt'"
      ]
     },
     "execution_count": 34,
     "metadata": {},
     "output_type": "execute_result"
    }
   ],
   "source": [
    "from REVIVAL.zs.vina import dock\n",
    "\n",
    "dock(\n",
    "    input_struct_path=\"/disk2/fli/REVIVAL2/zs/chai/struct_joint/Rma-CSi/M99P:M100L:D102N:M103L/M99P:M100L:D102N:M103L_0.cif\",\n",
    "    dock_opt=\"substrate\",\n",
    "    score_only = True,\n",
    "    regen=True,\n",
    "    rerun=True\n",
    ")"
   ]
  },
  {
   "cell_type": "code",
   "execution_count": 35,
   "metadata": {},
   "outputs": [
    {
     "name": "stdout",
     "output_type": "stream",
     "text": [
      "Making zs/vina/chai/struct_seperate/Rma-CSi ...\n",
      "Making zs/vina/chai/struct_seperate/Rma-CSi/M99P:M100L:D102N:M103L_0 ...\n",
      "Making zs/vina/chai/struct_seperate/Rma-CSi/M99P:M100L:D102N:M103L_0/M99P:M100L:D102N:M103L_0 ...\n"
     ]
    },
    {
     "name": "stderr",
     "output_type": "stream",
     "text": [
      "==============================\n",
      "*** Open Babel Warning  in PerceiveBondOrders\n",
      "  Failed to kekulize aromatic bonds in OBMol::PerceiveBondOrders (title is model)\n",
      "\n",
      "1 molecule converted\n",
      "1 molecule converted\n",
      "1 molecule converted\n"
     ]
    },
    {
     "name": "stdout",
     "output_type": "stream",
     "text": [
      "Making zs/vina/chai/struct_seperate/Rma-CSi/M99P:M100L:D102N:M103L_0/phenyldimethylsilane ...\n",
      "Processing ligand phenyldimethylsilane\n",
      "Checking for ions...\n",
      "Processing ligand phenyldimethylsilane from zs/vina/chai/struct_seperate/Rma-CSi/M99P:M100L:D102N:M103L_0/M99P:M100L:D102N:M103L_0.pdb\n",
      "Substrate atoms: [(<Model id=0>, <Chain id=B>, <Residue LIG het=  resseq=0 icode= >, <Atom C1>), (<Model id=0>, <Chain id=B>, <Residue LIG het=  resseq=0 icode= >, <Atom SI1>), (<Model id=0>, <Chain id=B>, <Residue LIG het=  resseq=0 icode= >, <Atom C2>), (<Model id=0>, <Chain id=B>, <Residue LIG het=  resseq=0 icode= >, <Atom C3>), (<Model id=0>, <Chain id=B>, <Residue LIG het=  resseq=0 icode= >, <Atom C4>), (<Model id=0>, <Chain id=B>, <Residue LIG het=  resseq=0 icode= >, <Atom C5>), (<Model id=0>, <Chain id=B>, <Residue LIG het=  resseq=0 icode= >, <Atom C6>), (<Model id=0>, <Chain id=B>, <Residue LIG het=  resseq=0 icode= >, <Atom C7>), (<Model id=0>, <Chain id=B>, <Residue LIG het=  resseq=0 icode= >, <Atom C8>)]\n",
      "Rest atoms: []\n",
      "Substructure saved to /disk2/fli/REVIVAL2/zs/vina/chai/struct_seperate/Rma-CSi/M99P:M100L:D102N:M103L_0/phenyldimethylsilane/phenyldimethylsilane_temp.pdb\n",
      "Removing ions from zs/vina/chai/struct_seperate/Rma-CSi/M99P:M100L:D102N:M103L_0/phenyldimethylsilane/phenyldimethylsilane_temp.pdb\n",
      "Added H 'H1' to SI1 in LIG (chain B)\n",
      "\n",
      "Saved updated PDB to: zs/vina/chai/struct_seperate/Rma-CSi/M99P:M100L:D102N:M103L_0/phenyldimethylsilane/phenyldimethylsilane.pdb\n",
      "Processing cofactor carbene-heme C=CC1=C(C=C2C(C)=C(C=C)C3=[N]2[Fe]45(N6C(C(C)=C(CCC([O-])=O)C6=C7)=C3)=C(C)C(OCC)=O)N4C(C=C8[N]5=C7C(CCC([O-])=O)=C8C)=C1C using zs/vina/chai/struct_seperate/Rma-CSi/M99P:M100L:D102N:M103L_0/M99P:M100L:D102N:M103L_0.pdb\n",
      "Making zs/vina/chai/struct_seperate/Rma-CSi/M99P:M100L:D102N:M103L_0/carbene ...\n",
      "Processing ligand carbene\n",
      "Checking for ions...\n",
      "Processing ligand carbene from zs/vina/chai/struct_seperate/Rma-CSi/M99P:M100L:D102N:M103L_0/M99P:M100L:D102N:M103L_0.pdb\n",
      "Substrate atoms: [(<Model id=0>, <Chain id=C>, <Residue LIG het=  resseq=0 icode= >, <Atom C15>), (<Model id=0>, <Chain id=C>, <Residue LIG het=  resseq=0 icode= >, <Atom C16>), (<Model id=0>, <Chain id=C>, <Residue LIG het=  resseq=0 icode= >, <Atom C17>), (<Model id=0>, <Chain id=C>, <Residue LIG het=  resseq=0 icode= >, <Atom O1>), (<Model id=0>, <Chain id=C>, <Residue LIG het=  resseq=0 icode= >, <Atom O2>), (<Model id=0>, <Chain id=C>, <Residue LIG het=  resseq=0 icode= >, <Atom C18>), (<Model id=0>, <Chain id=C>, <Residue LIG het=  resseq=0 icode= >, <Atom C19>)]\n",
      "Rest atoms: [(<Model id=0>, <Chain id=C>, <Residue LIG het=  resseq=0 icode= >, <Atom C1>), (<Model id=0>, <Chain id=C>, <Residue LIG het=  resseq=0 icode= >, <Atom C2>), (<Model id=0>, <Chain id=C>, <Residue LIG het=  resseq=0 icode= >, <Atom C3>), (<Model id=0>, <Chain id=C>, <Residue LIG het=  resseq=0 icode= >, <Atom C4>), (<Model id=0>, <Chain id=C>, <Residue LIG het=  resseq=0 icode= >, <Atom C5>), (<Model id=0>, <Chain id=C>, <Residue LIG het=  resseq=0 icode= >, <Atom C6>), (<Model id=0>, <Chain id=C>, <Residue LIG het=  resseq=0 icode= >, <Atom C7>), (<Model id=0>, <Chain id=C>, <Residue LIG het=  resseq=0 icode= >, <Atom C8>), (<Model id=0>, <Chain id=C>, <Residue LIG het=  resseq=0 icode= >, <Atom C9>), (<Model id=0>, <Chain id=C>, <Residue LIG het=  resseq=0 icode= >, <Atom C10>), (<Model id=0>, <Chain id=C>, <Residue LIG het=  resseq=0 icode= >, <Atom C11>), (<Model id=0>, <Chain id=C>, <Residue LIG het=  resseq=0 icode= >, <Atom C12>), (<Model id=0>, <Chain id=C>, <Residue LIG het=  resseq=0 icode= >, <Atom C13>), (<Model id=0>, <Chain id=C>, <Residue LIG het=  resseq=0 icode= >, <Atom C14>), (<Model id=0>, <Chain id=C>, <Residue LIG het=  resseq=0 icode= >, <Atom N1>), (<Model id=0>, <Chain id=C>, <Residue LIG het=  resseq=0 icode= >, <Atom FE1>), (<Model id=0>, <Chain id=C>, <Residue LIG het=  resseq=0 icode= >, <Atom N2>), (<Model id=0>, <Chain id=C>, <Residue LIG het=  resseq=0 icode= >, <Atom C20>), (<Model id=0>, <Chain id=C>, <Residue LIG het=  resseq=0 icode= >, <Atom C21>), (<Model id=0>, <Chain id=C>, <Residue LIG het=  resseq=0 icode= >, <Atom C22>), (<Model id=0>, <Chain id=C>, <Residue LIG het=  resseq=0 icode= >, <Atom C23>), (<Model id=0>, <Chain id=C>, <Residue LIG het=  resseq=0 icode= >, <Atom C24>), (<Model id=0>, <Chain id=C>, <Residue LIG het=  resseq=0 icode= >, <Atom C25>), (<Model id=0>, <Chain id=C>, <Residue LIG het=  resseq=0 icode= >, <Atom C26>), (<Model id=0>, <Chain id=C>, <Residue LIG het=  resseq=0 icode= >, <Atom C27>), (<Model id=0>, <Chain id=C>, <Residue LIG het=  resseq=0 icode= >, <Atom C28>), (<Model id=0>, <Chain id=C>, <Residue LIG het=  resseq=0 icode= >, <Atom O3>), (<Model id=0>, <Chain id=C>, <Residue LIG het=  resseq=0 icode= >, <Atom O4>), (<Model id=0>, <Chain id=C>, <Residue LIG het=  resseq=0 icode= >, <Atom C29>), (<Model id=0>, <Chain id=C>, <Residue LIG het=  resseq=0 icode= >, <Atom N3>), (<Model id=0>, <Chain id=C>, <Residue LIG het=  resseq=0 icode= >, <Atom C30>), (<Model id=0>, <Chain id=C>, <Residue LIG het=  resseq=0 icode= >, <Atom C31>), (<Model id=0>, <Chain id=C>, <Residue LIG het=  resseq=0 icode= >, <Atom N4>), (<Model id=0>, <Chain id=C>, <Residue LIG het=  resseq=0 icode= >, <Atom C32>), (<Model id=0>, <Chain id=C>, <Residue LIG het=  resseq=0 icode= >, <Atom C33>), (<Model id=0>, <Chain id=C>, <Residue LIG het=  resseq=0 icode= >, <Atom C34>), (<Model id=0>, <Chain id=C>, <Residue LIG het=  resseq=0 icode= >, <Atom C35>), (<Model id=0>, <Chain id=C>, <Residue LIG het=  resseq=0 icode= >, <Atom C36>), (<Model id=0>, <Chain id=C>, <Residue LIG het=  resseq=0 icode= >, <Atom C37>), (<Model id=0>, <Chain id=C>, <Residue LIG het=  resseq=0 icode= >, <Atom C38>), (<Model id=0>, <Chain id=C>, <Residue LIG het=  resseq=0 icode= >, <Atom C39>), (<Model id=0>, <Chain id=C>, <Residue LIG het=  resseq=0 icode= >, <Atom O5>), (<Model id=0>, <Chain id=C>, <Residue LIG het=  resseq=0 icode= >, <Atom O6>)]\n",
      "Substructure saved to /disk2/fli/REVIVAL2/zs/vina/chai/struct_seperate/Rma-CSi/M99P:M100L:D102N:M103L_0/carbene/carbene_temp.pdb\n",
      "Removing ions from zs/vina/chai/struct_seperate/Rma-CSi/M99P:M100L:D102N:M103L_0/carbene/carbene_temp.pdb\n",
      "Cleaned PDBQT file saved to: zs/vina/chai/struct_seperate/Rma-CSi/M99P:M100L:D102N:M103L_0/carbene/carbene.pdbqt\n",
      "Making zs/vina/chai/struct_seperate/Rma-CSi/M99P:M100L:D102N:M103L_0/heme ...\n",
      "Processing ligand heme\n",
      "Checking for ions...\n",
      "Processing ligand heme from zs/vina/chai/struct_seperate/Rma-CSi/M99P:M100L:D102N:M103L_0/M99P:M100L:D102N:M103L_0.pdb\n",
      "Substrate atoms: [(<Model id=0>, <Chain id=C>, <Residue LIG het=  resseq=0 icode= >, <Atom C15>), (<Model id=0>, <Chain id=C>, <Residue LIG het=  resseq=0 icode= >, <Atom C16>), (<Model id=0>, <Chain id=C>, <Residue LIG het=  resseq=0 icode= >, <Atom C17>), (<Model id=0>, <Chain id=C>, <Residue LIG het=  resseq=0 icode= >, <Atom O1>), (<Model id=0>, <Chain id=C>, <Residue LIG het=  resseq=0 icode= >, <Atom O2>), (<Model id=0>, <Chain id=C>, <Residue LIG het=  resseq=0 icode= >, <Atom C18>), (<Model id=0>, <Chain id=C>, <Residue LIG het=  resseq=0 icode= >, <Atom C19>)]\n",
      "Rest atoms: [(<Model id=0>, <Chain id=C>, <Residue LIG het=  resseq=0 icode= >, <Atom C1>), (<Model id=0>, <Chain id=C>, <Residue LIG het=  resseq=0 icode= >, <Atom C2>), (<Model id=0>, <Chain id=C>, <Residue LIG het=  resseq=0 icode= >, <Atom C3>), (<Model id=0>, <Chain id=C>, <Residue LIG het=  resseq=0 icode= >, <Atom C4>), (<Model id=0>, <Chain id=C>, <Residue LIG het=  resseq=0 icode= >, <Atom C5>), (<Model id=0>, <Chain id=C>, <Residue LIG het=  resseq=0 icode= >, <Atom C6>), (<Model id=0>, <Chain id=C>, <Residue LIG het=  resseq=0 icode= >, <Atom C7>), (<Model id=0>, <Chain id=C>, <Residue LIG het=  resseq=0 icode= >, <Atom C8>), (<Model id=0>, <Chain id=C>, <Residue LIG het=  resseq=0 icode= >, <Atom C9>), (<Model id=0>, <Chain id=C>, <Residue LIG het=  resseq=0 icode= >, <Atom C10>), (<Model id=0>, <Chain id=C>, <Residue LIG het=  resseq=0 icode= >, <Atom C11>), (<Model id=0>, <Chain id=C>, <Residue LIG het=  resseq=0 icode= >, <Atom C12>), (<Model id=0>, <Chain id=C>, <Residue LIG het=  resseq=0 icode= >, <Atom C13>), (<Model id=0>, <Chain id=C>, <Residue LIG het=  resseq=0 icode= >, <Atom C14>), (<Model id=0>, <Chain id=C>, <Residue LIG het=  resseq=0 icode= >, <Atom N1>), (<Model id=0>, <Chain id=C>, <Residue LIG het=  resseq=0 icode= >, <Atom FE1>), (<Model id=0>, <Chain id=C>, <Residue LIG het=  resseq=0 icode= >, <Atom N2>), (<Model id=0>, <Chain id=C>, <Residue LIG het=  resseq=0 icode= >, <Atom C20>), (<Model id=0>, <Chain id=C>, <Residue LIG het=  resseq=0 icode= >, <Atom C21>), (<Model id=0>, <Chain id=C>, <Residue LIG het=  resseq=0 icode= >, <Atom C22>), (<Model id=0>, <Chain id=C>, <Residue LIG het=  resseq=0 icode= >, <Atom C23>), (<Model id=0>, <Chain id=C>, <Residue LIG het=  resseq=0 icode= >, <Atom C24>), (<Model id=0>, <Chain id=C>, <Residue LIG het=  resseq=0 icode= >, <Atom C25>), (<Model id=0>, <Chain id=C>, <Residue LIG het=  resseq=0 icode= >, <Atom C26>), (<Model id=0>, <Chain id=C>, <Residue LIG het=  resseq=0 icode= >, <Atom C27>), (<Model id=0>, <Chain id=C>, <Residue LIG het=  resseq=0 icode= >, <Atom C28>), (<Model id=0>, <Chain id=C>, <Residue LIG het=  resseq=0 icode= >, <Atom O3>), (<Model id=0>, <Chain id=C>, <Residue LIG het=  resseq=0 icode= >, <Atom O4>), (<Model id=0>, <Chain id=C>, <Residue LIG het=  resseq=0 icode= >, <Atom C29>), (<Model id=0>, <Chain id=C>, <Residue LIG het=  resseq=0 icode= >, <Atom N3>), (<Model id=0>, <Chain id=C>, <Residue LIG het=  resseq=0 icode= >, <Atom C30>), (<Model id=0>, <Chain id=C>, <Residue LIG het=  resseq=0 icode= >, <Atom C31>), (<Model id=0>, <Chain id=C>, <Residue LIG het=  resseq=0 icode= >, <Atom N4>), (<Model id=0>, <Chain id=C>, <Residue LIG het=  resseq=0 icode= >, <Atom C32>), (<Model id=0>, <Chain id=C>, <Residue LIG het=  resseq=0 icode= >, <Atom C33>), (<Model id=0>, <Chain id=C>, <Residue LIG het=  resseq=0 icode= >, <Atom C34>), (<Model id=0>, <Chain id=C>, <Residue LIG het=  resseq=0 icode= >, <Atom C35>), (<Model id=0>, <Chain id=C>, <Residue LIG het=  resseq=0 icode= >, <Atom C36>), (<Model id=0>, <Chain id=C>, <Residue LIG het=  resseq=0 icode= >, <Atom C37>), (<Model id=0>, <Chain id=C>, <Residue LIG het=  resseq=0 icode= >, <Atom C38>), (<Model id=0>, <Chain id=C>, <Residue LIG het=  resseq=0 icode= >, <Atom C39>), (<Model id=0>, <Chain id=C>, <Residue LIG het=  resseq=0 icode= >, <Atom O5>), (<Model id=0>, <Chain id=C>, <Residue LIG het=  resseq=0 icode= >, <Atom O6>)]\n",
      "Substructure saved to /disk2/fli/REVIVAL2/zs/vina/chai/struct_seperate/Rma-CSi/M99P:M100L:D102N:M103L_0/heme/heme_temp.pdb\n",
      "Removing ions from zs/vina/chai/struct_seperate/Rma-CSi/M99P:M100L:D102N:M103L_0/heme/heme_temp.pdb\n",
      "Cleaned PDBQT file saved to: zs/vina/chai/struct_seperate/Rma-CSi/M99P:M100L:D102N:M103L_0/heme/heme.pdbqt\n",
      "Making zs/vina/chai/struct_seperate/Rma-CSi/M99P:M100L:D102N:M103L_0/Fe ...\n",
      "Processing ligand Fe\n",
      "Checking for ions...\n",
      "Processing ion Fe\n",
      "Ions matching 'FE' were successfully extracted to zs/vina/chai/struct_seperate/Rma-CSi/M99P:M100L:D102N:M103L_0/Fe/FE.pdb.\n",
      "cofactor_pdbqts: ['zs/vina/chai/struct_seperate/Rma-CSi/M99P:M100L:D102N:M103L_0/carbene/carbene.pdbqt', 'zs/vina/chai/struct_seperate/Rma-CSi/M99P:M100L:D102N:M103L_0/heme/heme.pdbqt', 'zs/vina/chai/struct_seperate/Rma-CSi/M99P:M100L:D102N:M103L_0/Fe/FE.pdbqt']\n",
      "Making zs/vina/chai/struct_seperate/Rma-CSi/M99P:M100L:D102N:M103L_0/M99P:M100L:D102N:M103L_0_cofactors ...\n",
      "Merging zs/vina/chai/struct_seperate/Rma-CSi/M99P:M100L:D102N:M103L_0/M99P:M100L:D102N:M103L_0/M99P:M100L:D102N:M103L_0.pdbqt\n",
      "Merging zs/vina/chai/struct_seperate/Rma-CSi/M99P:M100L:D102N:M103L_0/carbene/carbene.pdbqt\n",
      "Merging zs/vina/chai/struct_seperate/Rma-CSi/M99P:M100L:D102N:M103L_0/heme/heme.pdbqt\n",
      "Merging zs/vina/chai/struct_seperate/Rma-CSi/M99P:M100L:D102N:M103L_0/Fe/FE.pdbqt\n",
      "Combined ATOM lines saved to zs/vina/chai/struct_seperate/Rma-CSi/M99P:M100L:D102N:M103L_0/M99P:M100L:D102N:M103L_0_cofactors/M99P:M100L:D102N:M103L_0_cofactors.pdbqt\n",
      "Vina run (score-only) completed successfully. Log saved to: zs/vina/chai/struct_seperate/Rma-CSi/M99P:M100L:D102N:M103L_0/M99P:M100L:D102N:M103L_0-phenyldimethylsilane-substrate-score_only_log.txt\n"
     ]
    },
    {
     "data": {
      "text/plain": [
       "'zs/vina/chai/struct_seperate/Rma-CSi/M99P:M100L:D102N:M103L_0/M99P:M100L:D102N:M103L_0-phenyldimethylsilane-substrate-score_only_log.txt'"
      ]
     },
     "execution_count": 35,
     "metadata": {},
     "output_type": "execute_result"
    }
   ],
   "source": [
    "from REVIVAL.zs.vina import dock\n",
    "\n",
    "dock(\n",
    "    input_struct_path=\"/disk2/fli/REVIVAL2/zs/chai/struct_seperate/Rma-CSi/M99P:M100L:D102N:M103L/M99P:M100L:D102N:M103L_0.cif\",\n",
    "    dock_opt=\"substrate\",\n",
    "    score_only = True,\n",
    "    regen=True,\n",
    "    rerun=True\n",
    ")"
   ]
  },
  {
   "cell_type": "code",
   "execution_count": 2,
   "metadata": {},
   "outputs": [
    {
     "name": "stderr",
     "output_type": "stream",
     "text": [
      "/disk2/fli/miniconda3/envs/vina/lib/python3.9/site-packages/Bio/pairwise2.py:278: BiopythonDeprecationWarning: Bio.pairwise2 has been deprecated, and we intend to remove it in a future release of Biopython. As an alternative, please consider using Bio.Align.PairwiseAligner as a replacement, and contact the Biopython developers if you still need the Bio.pairwise2 module.\n",
      "  warnings.warn(\n",
      "==============================\n",
      "*** Open Babel Warning  in PerceiveBondOrders\n",
      "  Failed to kekulize aromatic bonds in OBMol::PerceiveBondOrders (title is i165a_i183a_y301v)\n",
      "\n",
      "1 molecule converted\n"
     ]
    },
    {
     "name": "stdout",
     "output_type": "stream",
     "text": [
      "PfTrpB-4bromo\n",
      "I165A:I183A:Y301V_0\n"
     ]
    },
    {
     "name": "stderr",
     "output_type": "stream",
     "text": [
      "\n",
      "A module that was compiled using NumPy 1.x cannot be run in\n",
      "NumPy 2.0.2 as it may crash. To support both 1.x and 2.x\n",
      "versions of NumPy, modules must be compiled with NumPy 2.0.\n",
      "Some module may need to rebuild instead e.g. with 'pybind11>=2.12'.\n",
      "\n",
      "If you are a user of the module, the easiest solution will be to\n",
      "downgrade to 'numpy<2' or try to upgrade the affected module.\n",
      "We expect that some modules will need time to support NumPy 2.\n",
      "\n",
      "Traceback (most recent call last):  File \"/disk2/fli/miniconda3/envs/vina/lib/python3.9/runpy.py\", line 197, in _run_module_as_main\n",
      "    return _run_code(code, main_globals, None,\n",
      "  File \"/disk2/fli/miniconda3/envs/vina/lib/python3.9/runpy.py\", line 87, in _run_code\n",
      "    exec(code, run_globals)\n",
      "  File \"/disk2/fli/miniconda3/envs/vina/lib/python3.9/site-packages/ipykernel_launcher.py\", line 18, in <module>\n",
      "    app.launch_new_instance()\n",
      "  File \"/disk2/fli/miniconda3/envs/vina/lib/python3.9/site-packages/traitlets/config/application.py\", line 1075, in launch_instance\n",
      "    app.start()\n",
      "  File \"/disk2/fli/miniconda3/envs/vina/lib/python3.9/site-packages/ipykernel/kernelapp.py\", line 739, in start\n",
      "    self.io_loop.start()\n",
      "  File \"/disk2/fli/miniconda3/envs/vina/lib/python3.9/site-packages/tornado/platform/asyncio.py\", line 205, in start\n",
      "    self.asyncio_loop.run_forever()\n",
      "  File \"/disk2/fli/miniconda3/envs/vina/lib/python3.9/asyncio/base_events.py\", line 596, in run_forever\n",
      "    self._run_once()\n",
      "  File \"/disk2/fli/miniconda3/envs/vina/lib/python3.9/asyncio/base_events.py\", line 1890, in _run_once\n",
      "    handle._run()\n",
      "  File \"/disk2/fli/miniconda3/envs/vina/lib/python3.9/asyncio/events.py\", line 80, in _run\n",
      "    self._context.run(self._callback, *self._args)\n",
      "  File \"/disk2/fli/miniconda3/envs/vina/lib/python3.9/site-packages/ipykernel/kernelbase.py\", line 545, in dispatch_queue\n",
      "    await self.process_one()\n",
      "  File \"/disk2/fli/miniconda3/envs/vina/lib/python3.9/site-packages/ipykernel/kernelbase.py\", line 534, in process_one\n",
      "    await dispatch(*args)\n",
      "  File \"/disk2/fli/miniconda3/envs/vina/lib/python3.9/site-packages/ipykernel/kernelbase.py\", line 437, in dispatch_shell\n",
      "    await result\n",
      "  File \"/disk2/fli/miniconda3/envs/vina/lib/python3.9/site-packages/ipykernel/ipkernel.py\", line 362, in execute_request\n",
      "    await super().execute_request(stream, ident, parent)\n",
      "  File \"/disk2/fli/miniconda3/envs/vina/lib/python3.9/site-packages/ipykernel/kernelbase.py\", line 778, in execute_request\n",
      "    reply_content = await reply_content\n",
      "  File \"/disk2/fli/miniconda3/envs/vina/lib/python3.9/site-packages/ipykernel/ipkernel.py\", line 449, in do_execute\n",
      "    res = shell.run_cell(\n",
      "  File \"/disk2/fli/miniconda3/envs/vina/lib/python3.9/site-packages/ipykernel/zmqshell.py\", line 549, in run_cell\n",
      "    return super().run_cell(*args, **kwargs)\n",
      "  File \"/disk2/fli/miniconda3/envs/vina/lib/python3.9/site-packages/IPython/core/interactiveshell.py\", line 3048, in run_cell\n",
      "    result = self._run_cell(\n",
      "  File \"/disk2/fli/miniconda3/envs/vina/lib/python3.9/site-packages/IPython/core/interactiveshell.py\", line 3103, in _run_cell\n",
      "    result = runner(coro)\n",
      "  File \"/disk2/fli/miniconda3/envs/vina/lib/python3.9/site-packages/IPython/core/async_helpers.py\", line 129, in _pseudo_sync_runner\n",
      "    coro.send(None)\n",
      "  File \"/disk2/fli/miniconda3/envs/vina/lib/python3.9/site-packages/IPython/core/interactiveshell.py\", line 3308, in run_cell_async\n",
      "    has_raised = await self.run_ast_nodes(code_ast.body, cell_name,\n",
      "  File \"/disk2/fli/miniconda3/envs/vina/lib/python3.9/site-packages/IPython/core/interactiveshell.py\", line 3490, in run_ast_nodes\n",
      "    if await self.run_code(code, result, async_=asy):\n",
      "  File \"/disk2/fli/miniconda3/envs/vina/lib/python3.9/site-packages/IPython/core/interactiveshell.py\", line 3550, in run_code\n",
      "    exec(code_obj, self.user_global_ns, self.user_ns)\n",
      "  File \"/tmp/ipykernel_1667342/684486372.py\", line 3, in <module>\n",
      "    dock(\n",
      "  File \"/disk2/fli/REVIVAL2/REVIVAL/zs/vina.py\", line 1383, in dock\n",
      "    protein_pdb_file, protein_pdbqt = format_pdb(\n",
      "  File \"/disk2/fli/REVIVAL2/REVIVAL/zs/vina.py\", line 73, in format_pdb\n",
      "    clean_one_pdb(file_path, protein_pdb_file, keep_chain=\"A\")\n",
      "  File \"/disk2/fli/REVIVAL2/REVIVAL/zs/vina.py\", line 167, in clean_one_pdb\n",
      "    fixer.addMissingHydrogens()\n",
      "  File \"/disk2/fli/miniconda3/envs/vina/lib/python3.9/site-packages/pdbfixer/pdbfixer.py\", line 1045, in addMissingHydrogens\n",
      "    modeller.addHydrogens(pH=pH)\n",
      "  File \"/disk2/fli/miniconda3/envs/vina/lib/python3.9/site-packages/openmm/app/modeller.py\", line 988, in addHydrogens\n",
      "    nonbonded.addParticle([])\n",
      "  File \"/disk2/fli/miniconda3/envs/vina/lib/python3.9/site-packages/openmm/openmm.py\", line 13265, in addParticle\n",
      "    return _openmm.CustomNonbondedForce_addParticle(self, *args)\n",
      "==============================\n",
      "*** Open Babel Warning  in PerceiveBondOrders\n",
      "  Failed to kekulize aromatic bonds in OBMol::PerceiveBondOrders (title is zs/vina/af3/struct_joint/PfTrpB-4bromo/I165A:I183A:Y301V_0/I165A:I183A:Y301V_0/I165A:I183A:Y301V_0.pdb)\n",
      "\n",
      "1 molecule converted\n"
     ]
    },
    {
     "name": "stdout",
     "output_type": "stream",
     "text": [
      "Skipping addMissingHydrogens due to error: <built-in function CustomNonbondedForce_addParticle> returned a result with an error set\n",
      "Processing ligand 4bromo\n",
      "Checking for ions...\n",
      "Processing ligand 4bromo from zs/vina/af3/struct_joint/PfTrpB-4bromo/I165A:I183A:Y301V_0/I165A:I183A:Y301V_0.pdb\n",
      "Substrate atoms: [(<Model id=0>, <Chain id=B>, <Residue LIG het=  resseq=0 icode= >, <Atom BR1>), (<Model id=0>, <Chain id=B>, <Residue LIG het=  resseq=0 icode= >, <Atom C1>), (<Model id=0>, <Chain id=B>, <Residue LIG het=  resseq=0 icode= >, <Atom C2>), (<Model id=0>, <Chain id=B>, <Residue LIG het=  resseq=0 icode= >, <Atom C3>), (<Model id=0>, <Chain id=B>, <Residue LIG het=  resseq=0 icode= >, <Atom C4>), (<Model id=0>, <Chain id=B>, <Residue LIG het=  resseq=0 icode= >, <Atom C5>), (<Model id=0>, <Chain id=B>, <Residue LIG het=  resseq=0 icode= >, <Atom N1>), (<Model id=0>, <Chain id=B>, <Residue LIG het=  resseq=0 icode= >, <Atom C6>), (<Model id=0>, <Chain id=B>, <Residue LIG het=  resseq=0 icode= >, <Atom C7>), (<Model id=0>, <Chain id=B>, <Residue LIG het=  resseq=0 icode= >, <Atom C8>)]\n",
      "Rest atoms: [(<Model id=0>, <Chain id=B>, <Residue LIG het=  resseq=0 icode= >, <Atom C9>), (<Model id=0>, <Chain id=B>, <Residue LIG het=  resseq=0 icode= >, <Atom C10>), (<Model id=0>, <Chain id=B>, <Residue LIG het=  resseq=0 icode= >, <Atom N2>), (<Model id=0>, <Chain id=B>, <Residue LIG het=  resseq=0 icode= >, <Atom C11>), (<Model id=0>, <Chain id=B>, <Residue LIG het=  resseq=0 icode= >, <Atom C12>), (<Model id=0>, <Chain id=B>, <Residue LIG het=  resseq=0 icode= >, <Atom C13>), (<Model id=0>, <Chain id=B>, <Residue LIG het=  resseq=0 icode= >, <Atom C14>), (<Model id=0>, <Chain id=B>, <Residue LIG het=  resseq=0 icode= >, <Atom P1>), (<Model id=0>, <Chain id=B>, <Residue LIG het=  resseq=0 icode= >, <Atom O1>), (<Model id=0>, <Chain id=B>, <Residue LIG het=  resseq=0 icode= >, <Atom O2>), (<Model id=0>, <Chain id=B>, <Residue LIG het=  resseq=0 icode= >, <Atom O3>), (<Model id=0>, <Chain id=B>, <Residue LIG het=  resseq=0 icode= >, <Atom C15>), (<Model id=0>, <Chain id=B>, <Residue LIG het=  resseq=0 icode= >, <Atom N3>), (<Model id=0>, <Chain id=B>, <Residue LIG het=  resseq=0 icode= >, <Atom C16>), (<Model id=0>, <Chain id=B>, <Residue LIG het=  resseq=0 icode= >, <Atom C17>), (<Model id=0>, <Chain id=B>, <Residue LIG het=  resseq=0 icode= >, <Atom C18>), (<Model id=0>, <Chain id=B>, <Residue LIG het=  resseq=0 icode= >, <Atom O4>), (<Model id=0>, <Chain id=B>, <Residue LIG het=  resseq=0 icode= >, <Atom C19>), (<Model id=0>, <Chain id=B>, <Residue LIG het=  resseq=0 icode= >, <Atom O5>), (<Model id=0>, <Chain id=B>, <Residue LIG het=  resseq=0 icode= >, <Atom O6>), (<Model id=0>, <Chain id=B>, <Residue LIG het=  resseq=0 icode= >, <Atom NA1>)]\n",
      "Substructure saved to /disk2/fli/REVIVAL2/zs/vina/af3/struct_joint/PfTrpB-4bromo/I165A:I183A:Y301V_0/4bromo/4bromo_temp.pdb\n",
      "Removing ions from zs/vina/af3/struct_joint/PfTrpB-4bromo/I165A:I183A:Y301V_0/4bromo/4bromo_temp.pdb\n",
      "Added H 'H1' to N1 in LIG (chain B)\n",
      "\n",
      "Saved updated PDB to: zs/vina/af3/struct_joint/PfTrpB-4bromo/I165A:I183A:Y301V_0/4bromo/4bromo.pdb\n",
      "Cleaned PDBQT file saved to: zs/vina/af3/struct_joint/PfTrpB-4bromo/I165A:I183A:Y301V_0/4bromo/4bromo.pdbqt\n",
      "Processing cofactor PLP-dependent_aminoacrylate [O-]C1=C(/C=[N+]([H])/C(C([O-])=O)=C)C(CP([O-])([O-])=O)=CN=C1C using zs/vina/af3/struct_joint/PfTrpB-4bromo/I165A:I183A:Y301V_0/I165A:I183A:Y301V_0.pdb\n",
      "Processing ligand PLP-dependent_aminoacrylate\n",
      "Checking for ions...\n",
      "Processing ligand PLP-dependent_aminoacrylate from zs/vina/af3/struct_joint/PfTrpB-4bromo/I165A:I183A:Y301V_0/I165A:I183A:Y301V_0.pdb\n",
      "Substrate atoms: [(<Model id=0>, <Chain id=B>, <Residue LIG het=  resseq=0 icode= >, <Atom BR1>), (<Model id=0>, <Chain id=B>, <Residue LIG het=  resseq=0 icode= >, <Atom C1>), (<Model id=0>, <Chain id=B>, <Residue LIG het=  resseq=0 icode= >, <Atom C2>), (<Model id=0>, <Chain id=B>, <Residue LIG het=  resseq=0 icode= >, <Atom C3>), (<Model id=0>, <Chain id=B>, <Residue LIG het=  resseq=0 icode= >, <Atom C4>), (<Model id=0>, <Chain id=B>, <Residue LIG het=  resseq=0 icode= >, <Atom C5>), (<Model id=0>, <Chain id=B>, <Residue LIG het=  resseq=0 icode= >, <Atom N1>), (<Model id=0>, <Chain id=B>, <Residue LIG het=  resseq=0 icode= >, <Atom C6>), (<Model id=0>, <Chain id=B>, <Residue LIG het=  resseq=0 icode= >, <Atom C7>), (<Model id=0>, <Chain id=B>, <Residue LIG het=  resseq=0 icode= >, <Atom C8>)]\n",
      "Rest atoms: [(<Model id=0>, <Chain id=B>, <Residue LIG het=  resseq=0 icode= >, <Atom C9>), (<Model id=0>, <Chain id=B>, <Residue LIG het=  resseq=0 icode= >, <Atom C10>), (<Model id=0>, <Chain id=B>, <Residue LIG het=  resseq=0 icode= >, <Atom N2>), (<Model id=0>, <Chain id=B>, <Residue LIG het=  resseq=0 icode= >, <Atom C11>), (<Model id=0>, <Chain id=B>, <Residue LIG het=  resseq=0 icode= >, <Atom C12>), (<Model id=0>, <Chain id=B>, <Residue LIG het=  resseq=0 icode= >, <Atom C13>), (<Model id=0>, <Chain id=B>, <Residue LIG het=  resseq=0 icode= >, <Atom C14>), (<Model id=0>, <Chain id=B>, <Residue LIG het=  resseq=0 icode= >, <Atom P1>), (<Model id=0>, <Chain id=B>, <Residue LIG het=  resseq=0 icode= >, <Atom O1>), (<Model id=0>, <Chain id=B>, <Residue LIG het=  resseq=0 icode= >, <Atom O2>), (<Model id=0>, <Chain id=B>, <Residue LIG het=  resseq=0 icode= >, <Atom O3>), (<Model id=0>, <Chain id=B>, <Residue LIG het=  resseq=0 icode= >, <Atom C15>), (<Model id=0>, <Chain id=B>, <Residue LIG het=  resseq=0 icode= >, <Atom N3>), (<Model id=0>, <Chain id=B>, <Residue LIG het=  resseq=0 icode= >, <Atom C16>), (<Model id=0>, <Chain id=B>, <Residue LIG het=  resseq=0 icode= >, <Atom C17>), (<Model id=0>, <Chain id=B>, <Residue LIG het=  resseq=0 icode= >, <Atom C18>), (<Model id=0>, <Chain id=B>, <Residue LIG het=  resseq=0 icode= >, <Atom O4>), (<Model id=0>, <Chain id=B>, <Residue LIG het=  resseq=0 icode= >, <Atom C19>), (<Model id=0>, <Chain id=B>, <Residue LIG het=  resseq=0 icode= >, <Atom O5>), (<Model id=0>, <Chain id=B>, <Residue LIG het=  resseq=0 icode= >, <Atom O6>), (<Model id=0>, <Chain id=B>, <Residue LIG het=  resseq=0 icode= >, <Atom NA1>)]\n",
      "Substructure saved to /disk2/fli/REVIVAL2/zs/vina/af3/struct_joint/PfTrpB-4bromo/I165A:I183A:Y301V_0/PLP-dependent_aminoacrylate/PLP-dependent_aminoacrylate_temp.pdb\n",
      "Removing ions from zs/vina/af3/struct_joint/PfTrpB-4bromo/I165A:I183A:Y301V_0/PLP-dependent_aminoacrylate/PLP-dependent_aminoacrylate_temp.pdb\n",
      "Added H 'H1' to N2 in LIG (chain B)\n",
      "Added H 'H2' to O2 in LIG (chain B)\n",
      "Added H 'H3' to O3 in LIG (chain B)\n",
      "Added H 'H4' to O5 in LIG (chain B)\n",
      "\n",
      "Saved updated PDB to: zs/vina/af3/struct_joint/PfTrpB-4bromo/I165A:I183A:Y301V_0/PLP-dependent_aminoacrylate/PLP-dependent_aminoacrylate.pdb\n",
      "Cleaned PDBQT file saved to: zs/vina/af3/struct_joint/PfTrpB-4bromo/I165A:I183A:Y301V_0/PLP-dependent_aminoacrylate/PLP-dependent_aminoacrylate.pdbqt\n",
      "Processing cofactor Na+ [Na+] using zs/vina/af3/struct_joint/PfTrpB-4bromo/I165A:I183A:Y301V_0/I165A:I183A:Y301V_0.pdb\n",
      "Processing ligand Na+\n",
      "Checking for ions...\n",
      "Processing ion Na+\n",
      "Ions matching 'NA' were successfully extracted to zs/vina/af3/struct_joint/PfTrpB-4bromo/I165A:I183A:Y301V_0/Na+/NA.pdb.\n",
      "cofactor_pdbqts: ['zs/vina/af3/struct_joint/PfTrpB-4bromo/I165A:I183A:Y301V_0/PLP-dependent_aminoacrylate/PLP-dependent_aminoacrylate.pdbqt', 'zs/vina/af3/struct_joint/PfTrpB-4bromo/I165A:I183A:Y301V_0/Na+/NA.pdbqt']\n"
     ]
    },
    {
     "name": "stderr",
     "output_type": "stream",
     "text": [
      "1 molecule converted\n"
     ]
    },
    {
     "name": "stdout",
     "output_type": "stream",
     "text": [
      "Vina run (score-only) completed successfully. Log saved to: zs/vina/af3/struct_joint/PfTrpB-4bromo/I165A:I183A:Y301V_0/I165A:I183A:Y301V_0-4bromo-substrate-score_only_log.txt\n"
     ]
    },
    {
     "data": {
      "text/plain": [
       "'zs/vina/af3/struct_joint/PfTrpB-4bromo/I165A:I183A:Y301V_0/I165A:I183A:Y301V_0-4bromo-substrate-score_only_log.txt'"
      ]
     },
     "execution_count": 2,
     "metadata": {},
     "output_type": "execute_result"
    }
   ],
   "source": [
    "from REVIVAL.zs.vina import dock\n",
    "\n",
    "dock(\n",
    "    input_struct_path=\"/disk2/fli/REVIVAL2/zs/af3/struct_joint/PfTrpB-4bromo/i165a_i183a_y301v/seed-1_sample-0/model.cif\",\n",
    "    dock_opt=\"substrate\",\n",
    "    score_only = True,\n",
    "    regen=True,\n",
    "    rerun=True\n",
    ")"
   ]
  },
  {
   "cell_type": "code",
   "execution_count": 43,
   "metadata": {},
   "outputs": [
    {
     "name": "stdout",
     "output_type": "stream",
     "text": [
      "PfTrpB-4bromo\n",
      "I165A:I183A:Y301V_agg\n",
      "Making zs/vina/af3/struct_joint/PfTrpB-4bromo/I165A:I183A:Y301V_agg ...\n",
      "Making zs/vina/af3/struct_joint/PfTrpB-4bromo/I165A:I183A:Y301V_agg/I165A:I183A:Y301V_agg ...\n"
     ]
    },
    {
     "name": "stderr",
     "output_type": "stream",
     "text": [
      "==============================\n",
      "*** Open Babel Warning  in PerceiveBondOrders\n",
      "  Failed to kekulize aromatic bonds in OBMol::PerceiveBondOrders (title is i165a_i183a_y301v)\n",
      "\n",
      "1 molecule converted\n",
      "1 molecule converted\n",
      "1 molecule converted\n"
     ]
    },
    {
     "name": "stdout",
     "output_type": "stream",
     "text": [
      "Making zs/vina/af3/struct_joint/PfTrpB-4bromo/I165A:I183A:Y301V_agg/4bromo ...\n",
      "Processing ligand 4bromo\n",
      "Checking for ions...\n",
      "Processing ligand 4bromo from zs/vina/af3/struct_joint/PfTrpB-4bromo/I165A:I183A:Y301V_agg/I165A:I183A:Y301V_agg.pdb\n",
      "Substrate atoms: [(<Model id=0>, <Chain id=B>, <Residue LIG het=  resseq=0 icode= >, <Atom BR1>), (<Model id=0>, <Chain id=B>, <Residue LIG het=  resseq=0 icode= >, <Atom C1>), (<Model id=0>, <Chain id=B>, <Residue LIG het=  resseq=0 icode= >, <Atom C2>), (<Model id=0>, <Chain id=B>, <Residue LIG het=  resseq=0 icode= >, <Atom C3>), (<Model id=0>, <Chain id=B>, <Residue LIG het=  resseq=0 icode= >, <Atom C4>), (<Model id=0>, <Chain id=B>, <Residue LIG het=  resseq=0 icode= >, <Atom C5>), (<Model id=0>, <Chain id=B>, <Residue LIG het=  resseq=0 icode= >, <Atom N1>), (<Model id=0>, <Chain id=B>, <Residue LIG het=  resseq=0 icode= >, <Atom C6>), (<Model id=0>, <Chain id=B>, <Residue LIG het=  resseq=0 icode= >, <Atom C7>), (<Model id=0>, <Chain id=B>, <Residue LIG het=  resseq=0 icode= >, <Atom C8>)]\n",
      "Rest atoms: [(<Model id=0>, <Chain id=B>, <Residue LIG het=  resseq=0 icode= >, <Atom C9>), (<Model id=0>, <Chain id=B>, <Residue LIG het=  resseq=0 icode= >, <Atom C10>), (<Model id=0>, <Chain id=B>, <Residue LIG het=  resseq=0 icode= >, <Atom N2>), (<Model id=0>, <Chain id=B>, <Residue LIG het=  resseq=0 icode= >, <Atom C11>), (<Model id=0>, <Chain id=B>, <Residue LIG het=  resseq=0 icode= >, <Atom C12>), (<Model id=0>, <Chain id=B>, <Residue LIG het=  resseq=0 icode= >, <Atom C13>), (<Model id=0>, <Chain id=B>, <Residue LIG het=  resseq=0 icode= >, <Atom C14>), (<Model id=0>, <Chain id=B>, <Residue LIG het=  resseq=0 icode= >, <Atom P1>), (<Model id=0>, <Chain id=B>, <Residue LIG het=  resseq=0 icode= >, <Atom O1>), (<Model id=0>, <Chain id=B>, <Residue LIG het=  resseq=0 icode= >, <Atom O2>), (<Model id=0>, <Chain id=B>, <Residue LIG het=  resseq=0 icode= >, <Atom O3>), (<Model id=0>, <Chain id=B>, <Residue LIG het=  resseq=0 icode= >, <Atom C15>), (<Model id=0>, <Chain id=B>, <Residue LIG het=  resseq=0 icode= >, <Atom N3>), (<Model id=0>, <Chain id=B>, <Residue LIG het=  resseq=0 icode= >, <Atom C16>), (<Model id=0>, <Chain id=B>, <Residue LIG het=  resseq=0 icode= >, <Atom C17>), (<Model id=0>, <Chain id=B>, <Residue LIG het=  resseq=0 icode= >, <Atom C18>), (<Model id=0>, <Chain id=B>, <Residue LIG het=  resseq=0 icode= >, <Atom O4>), (<Model id=0>, <Chain id=B>, <Residue LIG het=  resseq=0 icode= >, <Atom C19>), (<Model id=0>, <Chain id=B>, <Residue LIG het=  resseq=0 icode= >, <Atom O5>), (<Model id=0>, <Chain id=B>, <Residue LIG het=  resseq=0 icode= >, <Atom O6>), (<Model id=0>, <Chain id=B>, <Residue LIG het=  resseq=0 icode= >, <Atom NA1>)]\n",
      "Substructure saved to /disk2/fli/REVIVAL2/zs/vina/af3/struct_joint/PfTrpB-4bromo/I165A:I183A:Y301V_agg/4bromo/4bromo_temp.pdb\n",
      "Removing ions from zs/vina/af3/struct_joint/PfTrpB-4bromo/I165A:I183A:Y301V_agg/4bromo/4bromo_temp.pdb\n",
      "Added H 'H1' to N1 in LIG (chain B)\n",
      "\n",
      "Saved updated PDB to: zs/vina/af3/struct_joint/PfTrpB-4bromo/I165A:I183A:Y301V_agg/4bromo/4bromo.pdb\n",
      "Cleaned PDBQT file saved to: zs/vina/af3/struct_joint/PfTrpB-4bromo/I165A:I183A:Y301V_agg/4bromo/4bromo.pdbqt\n",
      "Processing cofactor PLP-dependent_aminoacrylate [O-]C1=C(/C=[N+]([H])/C(C([O-])=O)=C)C(CP([O-])([O-])=O)=CN=C1C using zs/vina/af3/struct_joint/PfTrpB-4bromo/I165A:I183A:Y301V_agg/I165A:I183A:Y301V_agg.pdb\n",
      "Making zs/vina/af3/struct_joint/PfTrpB-4bromo/I165A:I183A:Y301V_agg/PLP-dependent_aminoacrylate ...\n",
      "Processing ligand PLP-dependent_aminoacrylate\n",
      "Checking for ions...\n",
      "Processing ligand PLP-dependent_aminoacrylate from zs/vina/af3/struct_joint/PfTrpB-4bromo/I165A:I183A:Y301V_agg/I165A:I183A:Y301V_agg.pdb\n",
      "Substrate atoms: [(<Model id=0>, <Chain id=B>, <Residue LIG het=  resseq=0 icode= >, <Atom BR1>), (<Model id=0>, <Chain id=B>, <Residue LIG het=  resseq=0 icode= >, <Atom C1>), (<Model id=0>, <Chain id=B>, <Residue LIG het=  resseq=0 icode= >, <Atom C2>), (<Model id=0>, <Chain id=B>, <Residue LIG het=  resseq=0 icode= >, <Atom C3>), (<Model id=0>, <Chain id=B>, <Residue LIG het=  resseq=0 icode= >, <Atom C4>), (<Model id=0>, <Chain id=B>, <Residue LIG het=  resseq=0 icode= >, <Atom C5>), (<Model id=0>, <Chain id=B>, <Residue LIG het=  resseq=0 icode= >, <Atom N1>), (<Model id=0>, <Chain id=B>, <Residue LIG het=  resseq=0 icode= >, <Atom C6>), (<Model id=0>, <Chain id=B>, <Residue LIG het=  resseq=0 icode= >, <Atom C7>), (<Model id=0>, <Chain id=B>, <Residue LIG het=  resseq=0 icode= >, <Atom C8>)]\n",
      "Rest atoms: [(<Model id=0>, <Chain id=B>, <Residue LIG het=  resseq=0 icode= >, <Atom C9>), (<Model id=0>, <Chain id=B>, <Residue LIG het=  resseq=0 icode= >, <Atom C10>), (<Model id=0>, <Chain id=B>, <Residue LIG het=  resseq=0 icode= >, <Atom N2>), (<Model id=0>, <Chain id=B>, <Residue LIG het=  resseq=0 icode= >, <Atom C11>), (<Model id=0>, <Chain id=B>, <Residue LIG het=  resseq=0 icode= >, <Atom C12>), (<Model id=0>, <Chain id=B>, <Residue LIG het=  resseq=0 icode= >, <Atom C13>), (<Model id=0>, <Chain id=B>, <Residue LIG het=  resseq=0 icode= >, <Atom C14>), (<Model id=0>, <Chain id=B>, <Residue LIG het=  resseq=0 icode= >, <Atom P1>), (<Model id=0>, <Chain id=B>, <Residue LIG het=  resseq=0 icode= >, <Atom O1>), (<Model id=0>, <Chain id=B>, <Residue LIG het=  resseq=0 icode= >, <Atom O2>), (<Model id=0>, <Chain id=B>, <Residue LIG het=  resseq=0 icode= >, <Atom O3>), (<Model id=0>, <Chain id=B>, <Residue LIG het=  resseq=0 icode= >, <Atom C15>), (<Model id=0>, <Chain id=B>, <Residue LIG het=  resseq=0 icode= >, <Atom N3>), (<Model id=0>, <Chain id=B>, <Residue LIG het=  resseq=0 icode= >, <Atom C16>), (<Model id=0>, <Chain id=B>, <Residue LIG het=  resseq=0 icode= >, <Atom C17>), (<Model id=0>, <Chain id=B>, <Residue LIG het=  resseq=0 icode= >, <Atom C18>), (<Model id=0>, <Chain id=B>, <Residue LIG het=  resseq=0 icode= >, <Atom O4>), (<Model id=0>, <Chain id=B>, <Residue LIG het=  resseq=0 icode= >, <Atom C19>), (<Model id=0>, <Chain id=B>, <Residue LIG het=  resseq=0 icode= >, <Atom O5>), (<Model id=0>, <Chain id=B>, <Residue LIG het=  resseq=0 icode= >, <Atom O6>), (<Model id=0>, <Chain id=B>, <Residue LIG het=  resseq=0 icode= >, <Atom NA1>)]\n",
      "Substructure saved to /disk2/fli/REVIVAL2/zs/vina/af3/struct_joint/PfTrpB-4bromo/I165A:I183A:Y301V_agg/PLP-dependent_aminoacrylate/PLP-dependent_aminoacrylate_temp.pdb\n",
      "Removing ions from zs/vina/af3/struct_joint/PfTrpB-4bromo/I165A:I183A:Y301V_agg/PLP-dependent_aminoacrylate/PLP-dependent_aminoacrylate_temp.pdb\n",
      "Added H 'H1' to N2 in LIG (chain B)\n",
      "Added H 'H2' to O2 in LIG (chain B)\n",
      "Added H 'H3' to O3 in LIG (chain B)\n",
      "Added H 'H4' to O5 in LIG (chain B)\n",
      "\n",
      "Saved updated PDB to: zs/vina/af3/struct_joint/PfTrpB-4bromo/I165A:I183A:Y301V_agg/PLP-dependent_aminoacrylate/PLP-dependent_aminoacrylate.pdb\n",
      "Cleaned PDBQT file saved to: zs/vina/af3/struct_joint/PfTrpB-4bromo/I165A:I183A:Y301V_agg/PLP-dependent_aminoacrylate/PLP-dependent_aminoacrylate.pdbqt\n",
      "Processing cofactor Na+ [Na+] using zs/vina/af3/struct_joint/PfTrpB-4bromo/I165A:I183A:Y301V_agg/I165A:I183A:Y301V_agg.pdb\n",
      "Making zs/vina/af3/struct_joint/PfTrpB-4bromo/I165A:I183A:Y301V_agg/Na+ ...\n",
      "Processing ligand Na+\n",
      "Checking for ions...\n",
      "Processing ion Na+\n",
      "Ions matching 'NA' were successfully extracted to zs/vina/af3/struct_joint/PfTrpB-4bromo/I165A:I183A:Y301V_agg/Na+/NA.pdb.\n",
      "cofactor_pdbqts: ['zs/vina/af3/struct_joint/PfTrpB-4bromo/I165A:I183A:Y301V_agg/PLP-dependent_aminoacrylate/PLP-dependent_aminoacrylate.pdbqt', 'zs/vina/af3/struct_joint/PfTrpB-4bromo/I165A:I183A:Y301V_agg/Na+/NA.pdbqt']\n",
      "Making zs/vina/af3/struct_joint/PfTrpB-4bromo/I165A:I183A:Y301V_agg/I165A:I183A:Y301V_agg_cofactors ...\n",
      "Merging zs/vina/af3/struct_joint/PfTrpB-4bromo/I165A:I183A:Y301V_agg/I165A:I183A:Y301V_agg/I165A:I183A:Y301V_agg.pdbqt\n",
      "Merging zs/vina/af3/struct_joint/PfTrpB-4bromo/I165A:I183A:Y301V_agg/PLP-dependent_aminoacrylate/PLP-dependent_aminoacrylate.pdbqt\n",
      "Merging zs/vina/af3/struct_joint/PfTrpB-4bromo/I165A:I183A:Y301V_agg/Na+/NA.pdbqt\n",
      "Combined ATOM lines saved to zs/vina/af3/struct_joint/PfTrpB-4bromo/I165A:I183A:Y301V_agg/I165A:I183A:Y301V_agg_cofactors/I165A:I183A:Y301V_agg_cofactors.pdbqt\n",
      "Vina run (score-only) completed successfully. Log saved to: zs/vina/af3/struct_joint/PfTrpB-4bromo/I165A:I183A:Y301V_agg/I165A:I183A:Y301V_agg-4bromo-substrate-score_only_log.txt\n"
     ]
    },
    {
     "data": {
      "text/plain": [
       "'zs/vina/af3/struct_joint/PfTrpB-4bromo/I165A:I183A:Y301V_agg/I165A:I183A:Y301V_agg-4bromo-substrate-score_only_log.txt'"
      ]
     },
     "execution_count": 43,
     "metadata": {},
     "output_type": "execute_result"
    }
   ],
   "source": [
    "dock(\n",
    "    input_struct_path=\"/disk2/fli/REVIVAL2/zs/af3/struct_joint/PfTrpB-4bromo/i165a_i183a_y301v/i165a_i183a_y301v_model.cif\",\n",
    "    dock_opt=\"substrate\",\n",
    "    score_only = True,\n",
    "    regen=True,\n",
    "    rerun=True\n",
    ")"
   ]
  },
  {
   "cell_type": "code",
   "execution_count": 2,
   "metadata": {},
   "outputs": [],
   "source": [
    "from REVIVAL.zs.vina import ligand_smiles2pdbqt"
   ]
  },
  {
   "cell_type": "code",
   "execution_count": 4,
   "metadata": {},
   "outputs": [
    {
     "name": "stderr",
     "output_type": "stream",
     "text": [
      "1 molecule converted\n"
     ]
    }
   ],
   "source": [
    "ligand_smiles2pdbqt(\n",
    "    smiles=\"[O-]C1=C(/C=[N+]([H])/C(C([O-])=O)=C)C(CP([O-])([O-])=O)=CN=C1C\",\n",
    "    ligand_sdf_file=\"/disk2/fli/REVIVAL2/zs/zs_archived/vina_opt_h/PfTrpB-4bromo_x/I165A:I183A:Y301V_0/PLP-dependent_aminoacrylate/PLP-dependent_aminoacrylate_smiles.sdf\",\n",
    "    ligand_pdbqt_file=\"/disk2/fli/REVIVAL2/zs/zs_archived/vina_opt_h/PfTrpB-4bromo_x/I165A:I183A:Y301V_0/PLP-dependent_aminoacrylate/PLP-dependent_aminoacrylate_smiles.pdbqt\",\n",
    "    pH=7.4\n",
    ")"
   ]
  },
  {
   "cell_type": "code",
   "execution_count": 5,
   "metadata": {},
   "outputs": [
    {
     "name": "stderr",
     "output_type": "stream",
     "text": [
      "1 molecule converted\n"
     ]
    }
   ],
   "source": [
    "ligand_smiles2pdbqt(\n",
    "    smiles=\"C1=CC2=C(C=CN2)C(=C1)Br\",\n",
    "    ligand_sdf_file=\"/disk2/fli/REVIVAL2/zs/zs_archived/vina_opt_h/PfTrpB-4bromo_x/I165A:I183A:Y301V_0/4bromo/4bromo_smiles.sdf\",\n",
    "    ligand_pdbqt_file=\"/disk2/fli/REVIVAL2/zs/zs_archived/vina_opt_h/PfTrpB-4bromo_x/I165A:I183A:Y301V_0/4bromo/4bromo_smiles.pdbqt\",\n",
    "    pH=7.4\n",
    ")"
   ]
  },
  {
   "cell_type": "code",
   "execution_count": null,
   "metadata": {},
   "outputs": [],
   "source": []
  }
 ],
 "metadata": {
  "kernelspec": {
   "display_name": "vina",
   "language": "python",
   "name": "python3"
  },
  "language_info": {
   "codemirror_mode": {
    "name": "ipython",
    "version": 3
   },
   "file_extension": ".py",
   "mimetype": "text/x-python",
   "name": "python",
   "nbconvert_exporter": "python",
   "pygments_lexer": "ipython3",
   "version": "3.9.7"
  }
 },
 "nbformat": 4,
 "nbformat_minor": 2
}
