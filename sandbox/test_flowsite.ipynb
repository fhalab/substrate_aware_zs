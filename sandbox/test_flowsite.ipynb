{
 "cells": [
  {
   "cell_type": "code",
   "execution_count": 1,
   "metadata": {},
   "outputs": [
    {
     "name": "stdout",
     "output_type": "stream",
     "text": [
      "/disk2/fli/REVIVAL2\n"
     ]
    }
   ],
   "source": [
    "%cd ~/REVIVAL2"
   ]
  },
  {
   "cell_type": "code",
   "execution_count": 2,
   "metadata": {},
   "outputs": [],
   "source": [
    "import numpy as np"
   ]
  },
  {
   "cell_type": "code",
   "execution_count": 6,
   "metadata": {},
   "outputs": [
    {
     "data": {
      "text/plain": [
       "(1, 388, 21)"
      ]
     },
     "execution_count": 6,
     "metadata": {},
     "output_type": "execute_result"
    }
   ],
   "source": [
    "complexid1 = np.load(\"/disk2/lukas/EnzymeOracle/outputs/single_substrate/flowsite/complexid1/full_sequence_logits.npy\")\n",
    "complexid1.shape"
   ]
  },
  {
   "cell_type": "code",
   "execution_count": 13,
   "metadata": {},
   "outputs": [
    {
     "name": "stdout",
     "output_type": "stream",
     "text": [
      "Indices of non-zero elements: [(0, 101), (0, 101), (0, 101), (0, 101), (0, 101), (0, 101), (0, 101), (0, 101), (0, 101), (0, 101), (0, 101), (0, 101), (0, 101), (0, 101), (0, 101), (0, 101), (0, 101), (0, 101), (0, 101), (0, 101), (0, 101), (0, 102), (0, 102), (0, 102), (0, 102), (0, 102), (0, 102), (0, 102), (0, 102), (0, 102), (0, 102), (0, 102), (0, 102), (0, 102), (0, 102), (0, 102), (0, 102), (0, 102), (0, 102), (0, 102), (0, 102), (0, 102), (0, 103), (0, 103), (0, 103), (0, 103), (0, 103), (0, 103), (0, 103), (0, 103), (0, 103), (0, 103), (0, 103), (0, 103), (0, 103), (0, 103), (0, 103), (0, 103), (0, 103), (0, 103), (0, 103), (0, 103), (0, 103)]\n",
      "Non-zero values: <memory at 0x7fd930cc49a0>\n"
     ]
    }
   ],
   "source": [
    "# Get non-zero entries\n",
    "non_zero_indices = complexid1.nonzero()\n",
    "non_zero_values = complexid1.data\n",
    "\n",
    "# Print results\n",
    "print(\"Indices of non-zero elements:\", list(zip(non_zero_indices[0], non_zero_indices[1])))\n",
    "print(\"Non-zero values:\", non_zero_values)"
   ]
  },
  {
   "cell_type": "code",
   "execution_count": 14,
   "metadata": {},
   "outputs": [
    {
     "data": {
      "text/plain": [
       "array([ 2.30451035,  0.01512533, -1.05465078, -1.70438671,  2.74344301,\n",
       "       -1.14199567, -0.71029288,  0.44721311, -0.57402229, -0.2260462 ,\n",
       "       -1.77553463, -0.65206158, -0.2798427 ,  0.46530771, -2.83611608,\n",
       "        0.67636764,  2.31476951, -1.84370959,  0.80132657,  1.47713435,\n",
       "       -2.88401246])"
      ]
     },
     "execution_count": 14,
     "metadata": {},
     "output_type": "execute_result"
    }
   ],
   "source": [
    "complexid1[0][101]"
   ]
  },
  {
   "cell_type": "code",
   "execution_count": 11,
   "metadata": {},
   "outputs": [
    {
     "data": {
      "text/plain": [
       "array([[[ 2.3045104e+00,  1.5125334e-02, -1.0546508e+00, -1.7043867e+00,\n",
       "          2.7434430e+00, -1.1419957e+00, -7.1029288e-01,  4.4721311e-01,\n",
       "         -5.7402229e-01, -2.2604620e-01, -1.7755346e+00, -6.5206158e-01,\n",
       "         -2.7984270e-01,  4.6530771e-01, -2.8361161e+00,  6.7636764e-01,\n",
       "          2.3147695e+00, -1.8437096e+00,  8.0132657e-01,  1.4771343e+00,\n",
       "         -2.8840125e+00],\n",
       "        [ 7.0957243e-01, -2.3558071e-01, -1.3052115e-01,  8.5168809e-01,\n",
       "         -5.7183582e-01,  1.9306694e-01,  2.1391437e+00, -4.4266933e-01,\n",
       "          2.9585409e-01, -4.1981232e-01, -7.8620100e-01,  4.8687616e-01,\n",
       "         -1.7315669e+00, -5.7812500e-01, -1.4257591e+00,  9.2073393e-01,\n",
       "          1.2987466e+00, -9.9813998e-01, -5.4843426e-03,  3.8764507e-01,\n",
       "         -3.8637300e+00],\n",
       "        [ 2.3134339e+00, -2.6476500e+00,  4.5958364e-01,  1.8740780e+00,\n",
       "          1.0750897e+00, -1.7831070e+00,  3.6762917e-01, -6.7916799e-01,\n",
       "         -1.1315520e+00, -2.1349789e-01, -9.1658831e-01, -3.3014102e+00,\n",
       "         -1.8634384e+00, -2.3662972e+00, -3.0784431e+00,  3.9380748e+00,\n",
       "          6.7531433e+00, -1.4037418e+00, -1.8318090e+00, -2.3802820e-01,\n",
       "         -3.9332647e+00]]], dtype=float32)"
      ]
     },
     "execution_count": 11,
     "metadata": {},
     "output_type": "execute_result"
    }
   ],
   "source": [
    "np.load(\"/disk2/lukas/EnzymeOracle/outputs/single_substrate/flowsite/complexid1/designed_logits.npy\")"
   ]
  },
  {
   "cell_type": "code",
   "execution_count": 18,
   "metadata": {},
   "outputs": [
    {
     "data": {
      "text/plain": [
       "{'A': 0,\n",
       " 'R': 1,\n",
       " 'N': 2,\n",
       " 'D': 3,\n",
       " 'C': 4,\n",
       " 'Q': 5,\n",
       " 'E': 6,\n",
       " 'G': 7,\n",
       " 'H': 8,\n",
       " 'I': 9,\n",
       " 'L': 10,\n",
       " 'K': 11,\n",
       " 'M': 12,\n",
       " 'F': 13,\n",
       " 'P': 14,\n",
       " 'S': 15,\n",
       " 'T': 16,\n",
       " 'W': 17,\n",
       " 'Y': 18,\n",
       " 'V': 19}"
      ]
     },
     "execution_count": 18,
     "metadata": {},
     "output_type": "execute_result"
    }
   ],
   "source": [
    "FLOWSITE_AA_ORDER = ['A', 'R', 'N', 'D', 'C', 'Q', 'E', 'G', 'H', 'I', 'L', 'K', 'M', 'F', 'P', 'S', 'T', 'W', 'Y', 'V']\n",
    "FLOWSITE_AA_IDX = {aa: i for i, aa in enumerate(FLOWSITE_AA_ORDER)}\n",
    "FLOWSITE_AA_IDX"
   ]
  },
  {
   "cell_type": "code",
   "execution_count": 1,
   "metadata": {},
   "outputs": [],
   "source": [
    "%load_ext blackcellmagic"
   ]
  },
  {
   "cell_type": "code",
   "execution_count": 4,
   "metadata": {},
   "outputs": [],
   "source": [
    "from rdkit import Chem\n",
    "\n",
    "\n",
    "def add_hydrogens_to_smiles(smiles: str) -> str:\n",
    "    \"\"\"\n",
    "    Add explicit hydrogens to a molecule represented by a SMILES string.\n",
    "\n",
    "    Args:\n",
    "        smiles (str): Input SMILES string.\n",
    "\n",
    "    Returns:\n",
    "        str: SMILES string with explicit hydrogens.\n",
    "    \"\"\"\n",
    "    mol = Chem.MolFromSmiles(smiles)  # Parse SMILES to RDKit molecule\n",
    "    if not mol:\n",
    "        raise ValueError(f\"Invalid SMILES string: {smiles}\")\n",
    "    \n",
    "    mol_with_h = Chem.AddHs(mol)  # Add explicit hydrogens\n",
    "    smiles_with_h = Chem.MolToSmiles(mol_with_h)  # Convert back to SMILES\n",
    "    \n",
    "    return smiles_with_h\n"
   ]
  },
  {
   "cell_type": "code",
   "execution_count": 5,
   "metadata": {},
   "outputs": [
    {
     "data": {
      "text/plain": [
       "'[H]C([H])=C([H])C1=C(C([H])([H])[H])C2=C([H])c3c(C([H])=C([H])c4c([H])c(OC([H])([H])[H])c([H])c([H])c4C([H])=C([H])[H])c(C([H])([H])[H])c4n3[Fe]35(=C([H])C(=O)OC([H])([H])C([H])([H])[H])<-N2=C1C([H])=c1c(C([H])([H])[H])c(C([H])([H])C([H])([H])C(=O)[O-])c(n13)=C([H])C1=N->5C(=C4[H])C(C([H])([H])[H])=C1C([H])([H])C([H])([H])C(=O)[O-]'"
      ]
     },
     "execution_count": 5,
     "metadata": {},
     "output_type": "execute_result"
    }
   ],
   "source": [
    "add_hydrogens_to_smiles(\"CCOC(=O)C=[Fe]123[N]4=C5C=c6n3c(=CC3=[N]1C(=Cc1n2c(C=C4C(=C5C=C)C)c(c1C)C=Cc1cc(OC)ccc1C=C)C(=C3CCC(=O)[O-])C)c(c6C)CCC(=O)[O-]\")"
   ]
  },
  {
   "cell_type": "code",
   "execution_count": 6,
   "metadata": {},
   "outputs": [],
   "source": [
    "from rdkit.Chem import AllChem\n",
    "\n",
    "def generate_conformer(mol):\n",
    "    ps = AllChem.ETKDGv2()\n",
    "    failures, id = 0, -1\n",
    "    while failures < 5 and id == -1:\n",
    "        if failures > 0:\n",
    "            print(f'rdkit coords could not be generated. trying again {failures}.')\n",
    "        id = AllChem.EmbedMolecule(mol, ps)\n",
    "        failures += 1\n",
    "    if id == -1:\n",
    "        print('rdkit coords could not be generated without using random coords. using random coords now.')\n",
    "        ps.useRandomCoords = True\n",
    "        id = AllChem.EmbedMolecule(mol, ps)\n",
    "        AllChem.MMFFOptimizeMolecule(mol, confId=0)\n",
    "        return id\n",
    "    return id"
   ]
  },
  {
   "cell_type": "code",
   "execution_count": 10,
   "metadata": {},
   "outputs": [
    {
     "name": "stderr",
     "output_type": "stream",
     "text": [
      "[12:20:34] Explicit valence for atom # 10 O, 3, is greater than permitted\n"
     ]
    },
    {
     "ename": "ArgumentError",
     "evalue": "Python argument types in\n    rdkit.Chem.rdDistGeom.EmbedMolecule(NoneType, EmbedParameters)\ndid not match C++ signature:\n    EmbedMolecule(RDKit::ROMol {lvalue} mol, RDKit::DGeomHelpers::EmbedParameters {lvalue} params)\n    EmbedMolecule(RDKit::ROMol {lvalue} mol, unsigned int maxAttempts=0, int randomSeed=-1, bool clearConfs=True, bool useRandomCoords=False, double boxSizeMult=2.0, bool randNegEig=True, unsigned int numZeroFail=1, boost::python::dict {lvalue} coordMap={}, double forceTol=0.001, bool ignoreSmoothingFailures=False, bool enforceChirality=True, bool useExpTorsionAnglePrefs=True, bool useBasicKnowledge=True, bool printExpTorsionAngles=False, bool useSmallRingTorsions=False, bool useMacrocycleTorsions=False, unsigned int ETversion=1)",
     "output_type": "error",
     "traceback": [
      "\u001b[0;31m---------------------------------------------------------------------------\u001b[0m",
      "\u001b[0;31mArgumentError\u001b[0m                             Traceback (most recent call last)",
      "Cell \u001b[0;32mIn[10], line 2\u001b[0m\n\u001b[1;32m      1\u001b[0m lig \u001b[38;5;241m=\u001b[39m Chem\u001b[38;5;241m.\u001b[39mMolFromSmiles(\u001b[38;5;124m\"\u001b[39m\u001b[38;5;124mC1=CC2=C(C=CN2)C=C1I[O-]C1=C(/C=[N+]([H])/C(C([O-])=O)=C)C(CP([O-])([O-])=O)=CN=C1C.[Na+]\u001b[39m\u001b[38;5;124m\"\u001b[39m)\n\u001b[0;32m----> 2\u001b[0m signal \u001b[38;5;241m=\u001b[39m \u001b[43mgenerate_conformer\u001b[49m\u001b[43m(\u001b[49m\u001b[43mlig\u001b[49m\u001b[43m)\u001b[49m\n",
      "Cell \u001b[0;32mIn[6], line 9\u001b[0m, in \u001b[0;36mgenerate_conformer\u001b[0;34m(mol)\u001b[0m\n\u001b[1;32m      7\u001b[0m     \u001b[38;5;28;01mif\u001b[39;00m failures \u001b[38;5;241m>\u001b[39m \u001b[38;5;241m0\u001b[39m:\n\u001b[1;32m      8\u001b[0m         \u001b[38;5;28mprint\u001b[39m(\u001b[38;5;124mf\u001b[39m\u001b[38;5;124m'\u001b[39m\u001b[38;5;124mrdkit coords could not be generated. trying again \u001b[39m\u001b[38;5;132;01m{\u001b[39;00mfailures\u001b[38;5;132;01m}\u001b[39;00m\u001b[38;5;124m.\u001b[39m\u001b[38;5;124m'\u001b[39m)\n\u001b[0;32m----> 9\u001b[0m     \u001b[38;5;28mid\u001b[39m \u001b[38;5;241m=\u001b[39m \u001b[43mAllChem\u001b[49m\u001b[38;5;241;43m.\u001b[39;49m\u001b[43mEmbedMolecule\u001b[49m\u001b[43m(\u001b[49m\u001b[43mmol\u001b[49m\u001b[43m,\u001b[49m\u001b[43m \u001b[49m\u001b[43mps\u001b[49m\u001b[43m)\u001b[49m\n\u001b[1;32m     10\u001b[0m     failures \u001b[38;5;241m+\u001b[39m\u001b[38;5;241m=\u001b[39m \u001b[38;5;241m1\u001b[39m\n\u001b[1;32m     11\u001b[0m \u001b[38;5;28;01mif\u001b[39;00m \u001b[38;5;28mid\u001b[39m \u001b[38;5;241m==\u001b[39m \u001b[38;5;241m-\u001b[39m\u001b[38;5;241m1\u001b[39m:\n",
      "\u001b[0;31mArgumentError\u001b[0m: Python argument types in\n    rdkit.Chem.rdDistGeom.EmbedMolecule(NoneType, EmbedParameters)\ndid not match C++ signature:\n    EmbedMolecule(RDKit::ROMol {lvalue} mol, RDKit::DGeomHelpers::EmbedParameters {lvalue} params)\n    EmbedMolecule(RDKit::ROMol {lvalue} mol, unsigned int maxAttempts=0, int randomSeed=-1, bool clearConfs=True, bool useRandomCoords=False, double boxSizeMult=2.0, bool randNegEig=True, unsigned int numZeroFail=1, boost::python::dict {lvalue} coordMap={}, double forceTol=0.001, bool ignoreSmoothingFailures=False, bool enforceChirality=True, bool useExpTorsionAnglePrefs=True, bool useBasicKnowledge=True, bool printExpTorsionAngles=False, bool useSmallRingTorsions=False, bool useMacrocycleTorsions=False, unsigned int ETversion=1)"
     ]
    }
   ],
   "source": [
    "lig = Chem.MolFromSmiles(\"C1=CC2=C(C=CN2)C=C1I[O-]C1=C(/C=[N+]([H])/C(C([O-])=O)=C)C(CP([O-])([O-])=O)=CN=C1C.[Na+]\")\n",
    "signal = generate_conformer(lig)"
   ]
  },
  {
   "cell_type": "code",
   "execution_count": 8,
   "metadata": {},
   "outputs": [
    {
     "name": "stderr",
     "output_type": "stream",
     "text": [
      "[12:19:11] Molecule does not have explicit Hs. Consider calling AddHs()\n"
     ]
    },
    {
     "name": "stdout",
     "output_type": "stream",
     "text": [
      "rdkit coords could not be generated. trying again 1.\n"
     ]
    },
    {
     "name": "stderr",
     "output_type": "stream",
     "text": [
      "[12:19:23] Molecule does not have explicit Hs. Consider calling AddHs()\n"
     ]
    },
    {
     "name": "stdout",
     "output_type": "stream",
     "text": [
      "rdkit coords could not be generated. trying again 2.\n"
     ]
    },
    {
     "name": "stderr",
     "output_type": "stream",
     "text": [
      "[12:19:34] Molecule does not have explicit Hs. Consider calling AddHs()\n"
     ]
    },
    {
     "name": "stdout",
     "output_type": "stream",
     "text": [
      "rdkit coords could not be generated. trying again 3.\n"
     ]
    },
    {
     "name": "stderr",
     "output_type": "stream",
     "text": [
      "[12:19:46] Molecule does not have explicit Hs. Consider calling AddHs()\n"
     ]
    },
    {
     "name": "stdout",
     "output_type": "stream",
     "text": [
      "rdkit coords could not be generated. trying again 4.\n"
     ]
    },
    {
     "name": "stderr",
     "output_type": "stream",
     "text": [
      "[12:19:57] Molecule does not have explicit Hs. Consider calling AddHs()\n"
     ]
    },
    {
     "name": "stdout",
     "output_type": "stream",
     "text": [
      "rdkit coords could not be generated without using random coords. using random coords now.\n"
     ]
    },
    {
     "name": "stderr",
     "output_type": "stream",
     "text": [
      "[12:20:09] Molecule does not have explicit Hs. Consider calling AddHs()\n",
      "[12:20:26] Molecule does not have explicit Hs. Consider calling AddHs()\n"
     ]
    }
   ],
   "source": [
    "lig = Chem.MolFromSmiles(\"C=CC1=C(C=C2C(C)=C(C=C)C3=[N]2[Fe]45(N6C(C(C)=C(CCC([O-])=O)C6=C7)=C3)=CC(OCC)=O)N4C(C=C8[N]5=C7C(CCC([O-])=O)=C8C)=C1C\")\n",
    "signal = generate_conformer(lig)"
   ]
  },
  {
   "cell_type": "code",
   "execution_count": 12,
   "metadata": {},
   "outputs": [
    {
     "data": {
      "text/plain": [
       "-1"
      ]
     },
     "execution_count": 12,
     "metadata": {},
     "output_type": "execute_result"
    }
   ],
   "source": [
    "signal"
   ]
  },
  {
   "cell_type": "code",
   "execution_count": null,
   "metadata": {},
   "outputs": [],
   "source": [
    "AllChem.EmbedMolecule(mol, ps)"
   ]
  }
 ],
 "metadata": {
  "kernelspec": {
   "display_name": "REVIVAL",
   "language": "python",
   "name": "python3"
  },
  "language_info": {
   "codemirror_mode": {
    "name": "ipython",
    "version": 3
   },
   "file_extension": ".py",
   "mimetype": "text/x-python",
   "name": "python",
   "nbconvert_exporter": "python",
   "pygments_lexer": "ipython3",
   "version": "3.11.11"
  }
 },
 "nbformat": 4,
 "nbformat_minor": 2
}
