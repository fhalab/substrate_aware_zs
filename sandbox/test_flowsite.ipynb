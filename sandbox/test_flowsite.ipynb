{
 "cells": [
  {
   "cell_type": "code",
   "execution_count": 1,
   "metadata": {},
   "outputs": [
    {
     "name": "stdout",
     "output_type": "stream",
     "text": [
      "/disk2/fli/REVIVAL2\n"
     ]
    }
   ],
   "source": [
    "%cd ~/REVIVAL2"
   ]
  },
  {
   "cell_type": "code",
   "execution_count": 2,
   "metadata": {},
   "outputs": [],
   "source": [
    "import numpy as np"
   ]
  },
  {
   "cell_type": "code",
   "execution_count": 16,
   "metadata": {},
   "outputs": [
    {
     "data": {
      "text/plain": [
       "(10, 5, 21)"
      ]
     },
     "execution_count": 16,
     "metadata": {},
     "output_type": "execute_result"
    }
   ],
   "source": [
    "complexid0 = np.load(\"/disk2/fli/REVIVAL2/zs/flowsite/raw_output/pocket_def_residues_model2-substrate-cofactor/ParLQ/complexid0/designed_logits.npy\")\n",
    "complexid0.shape"
   ]
  },
  {
   "cell_type": "code",
   "execution_count": 17,
   "metadata": {},
   "outputs": [
    {
     "data": {
      "text/plain": [
       "array([[[-0.2130068 , -1.0501866 , -1.1268429 , ...,  2.8313928 ,\n",
       "          1.100373  , -2.9321702 ],\n",
       "        [-0.43506438, -0.01606292, -0.25500384, ...,  0.08501923,\n",
       "          0.36790523, -2.8329227 ],\n",
       "        [ 0.3157037 ,  1.7477674 , -0.75941014, ..., -1.7428055 ,\n",
       "         -0.44040933, -2.001607  ],\n",
       "        [ 1.3961318 , -0.12499708, -0.61894584, ...,  0.8040576 ,\n",
       "         -0.9670011 , -4.19316   ],\n",
       "        [ 2.0238695 , -0.6783642 , -0.555936  , ...,  2.1270645 ,\n",
       "          0.09225399, -3.637067  ]],\n",
       "\n",
       "       [[-0.51683325, -0.912953  , -1.3319151 , ...,  2.5869458 ,\n",
       "          0.77302206, -2.385455  ],\n",
       "        [-0.36350518,  0.06269563, -0.07394025, ..., -0.1334095 ,\n",
       "          0.24358502, -2.7799904 ],\n",
       "        [ 0.28377056,  1.6443641 , -0.82194626, ..., -1.9924951 ,\n",
       "         -0.2346564 , -1.9133291 ],\n",
       "        [ 1.2226208 ,  0.04963941, -0.46841583, ...,  0.74958247,\n",
       "         -0.8641148 , -4.211778  ],\n",
       "        [ 2.3604412 , -0.38207456, -0.12464052, ...,  0.52379304,\n",
       "         -0.62838674, -3.1673725 ]],\n",
       "\n",
       "       [[-0.5696402 , -0.9251134 , -1.2929385 , ...,  2.733377  ,\n",
       "          0.71218246, -2.383101  ],\n",
       "        [-0.4273017 , -0.01566029, -0.14745024, ..., -0.26975238,\n",
       "          0.5926064 , -2.6105866 ],\n",
       "        [ 0.28582627,  1.630333  , -0.71316826, ..., -1.7820816 ,\n",
       "         -0.43601343, -2.1522985 ],\n",
       "        [ 1.3320637 , -0.05041073, -0.54256666, ...,  0.93329364,\n",
       "         -1.0706536 , -4.332736  ],\n",
       "        [ 1.8294227 , -0.43059123, -0.268849  , ...,  1.8471239 ,\n",
       "         -0.5405391 , -3.5616229 ]],\n",
       "\n",
       "       ...,\n",
       "\n",
       "       [[-0.6881445 , -0.7755857 , -1.5631043 , ...,  2.3796053 ,\n",
       "          1.469366  , -2.369379  ],\n",
       "        [-0.29763657, -0.03740426, -0.3411964 , ..., -0.0177511 ,\n",
       "          0.38026527, -2.6724346 ],\n",
       "        [ 0.32974523,  1.8466288 , -0.65865886, ..., -1.998332  ,\n",
       "         -0.48939773, -2.0475945 ],\n",
       "        [ 1.359488  , -0.13158605, -0.6122602 , ...,  0.56820804,\n",
       "         -0.75160074, -4.1505146 ],\n",
       "        [ 1.2551277 , -0.27709246, -1.0951377 , ...,  1.4656113 ,\n",
       "          0.72274464, -3.124484  ]],\n",
       "\n",
       "       [[ 0.31849515, -1.240375  , -1.2612942 , ...,  2.293687  ,\n",
       "          1.0923429 , -3.126858  ],\n",
       "        [-0.21619052, -0.18573461, -0.5014086 , ..., -0.06622243,\n",
       "          0.4143737 , -2.5746512 ],\n",
       "        [ 0.2630167 ,  1.7843462 , -0.64343894, ..., -1.6399384 ,\n",
       "         -0.45068935, -2.135672  ],\n",
       "        [ 1.4335575 , -0.2646062 , -0.593716  , ...,  1.1140136 ,\n",
       "         -1.0294027 , -4.2286797 ],\n",
       "        [ 1.2428498 , -0.58186585, -1.1652986 , ...,  2.1275733 ,\n",
       "          0.22638367, -2.8623028 ]],\n",
       "\n",
       "       [[-0.5202268 , -1.0734258 , -1.2767061 , ...,  2.7712607 ,\n",
       "          1.2672563 , -2.4625556 ],\n",
       "        [-0.43261105, -0.04258535, -0.2029089 , ...,  0.08347791,\n",
       "          0.4641421 , -2.7219126 ],\n",
       "        [ 0.28467655,  1.8177447 , -0.7530278 , ..., -1.966527  ,\n",
       "         -0.46444276, -2.0043616 ],\n",
       "        [ 1.3462051 , -0.06444171, -0.6473975 , ...,  0.5509387 ,\n",
       "         -0.76577306, -4.133845  ],\n",
       "        [ 1.2406371 ,  0.29345134, -0.732008  , ...,  0.54412055,\n",
       "          0.3174004 , -3.2001214 ]]], dtype=float32)"
      ]
     },
     "execution_count": 17,
     "metadata": {},
     "output_type": "execute_result"
    }
   ],
   "source": [
    "complexid0"
   ]
  },
  {
   "cell_type": "code",
   "execution_count": 19,
   "metadata": {},
   "outputs": [
    {
     "data": {
      "text/plain": [
       "(5, 21)"
      ]
     },
     "execution_count": 19,
     "metadata": {},
     "output_type": "execute_result"
    }
   ],
   "source": [
    "complexid0[0].shape"
   ]
  },
  {
   "cell_type": "code",
   "execution_count": 20,
   "metadata": {},
   "outputs": [],
   "source": [
    "FLOWSITE_AA_ORDER = [\n",
    "    \"A\",\n",
    "    \"R\",\n",
    "    \"N\",\n",
    "    \"D\",\n",
    "    \"C\",\n",
    "    \"Q\",\n",
    "    \"E\",\n",
    "    \"G\",\n",
    "    \"H\",\n",
    "    \"I\",\n",
    "    \"L\",\n",
    "    \"K\",\n",
    "    \"M\",\n",
    "    \"F\",\n",
    "    \"P\",\n",
    "    \"S\",\n",
    "    \"T\",\n",
    "    \"W\",\n",
    "    \"Y\",\n",
    "    \"V\",\n",
    "]\n",
    "FLOWSITE_AA_IDX = {aa: i for i, aa in enumerate(FLOWSITE_AA_ORDER)}\n"
   ]
  },
  {
   "cell_type": "code",
   "execution_count": 23,
   "metadata": {},
   "outputs": [
    {
     "name": "stdout",
     "output_type": "stream",
     "text": [
      "0 A 0\n",
      "[-0.2130068, -0.51683325, -0.5696402, 0.0048964024, -0.43019742, -0.37730974, -0.42283326, -0.6881445, 0.31849515, -0.5202268]\n",
      "-3.4148004055023193\n",
      "1 A 0\n",
      "[-0.43506438, -0.36350518, -0.4273017, -0.32885486, -0.47193676, -0.39352137, -0.415304, -0.29763657, -0.21619052, -0.43261105]\n",
      "-3.781926393508911\n",
      "2 A 0\n",
      "[0.3157037, 0.28377056, 0.28582627, 0.265018, 0.24901068, 0.27338558, 0.2811154, 0.32974523, 0.2630167, 0.28467655]\n",
      "2.8312686681747437\n",
      "3 A 0\n",
      "[1.3961318, 1.2226208, 1.3320637, 1.6430638, 1.311701, 1.2499344, 1.3612921, 1.359488, 1.4335575, 1.3462051]\n",
      "13.656058311462402\n",
      "4 A 0\n",
      "[2.0238695, 2.3604412, 1.8294227, 1.5803652, 1.5274656, 1.074625, 1.9025235, 1.2551277, 1.2428498, 1.2406371]\n",
      "16.0373272895813\n"
     ]
    },
    {
     "data": {
      "text/plain": [
       "25.327927470207214"
      ]
     },
     "execution_count": 23,
     "metadata": {},
     "output_type": "execute_result"
    }
   ],
   "source": [
    "log_likelyhoods_avg = []\n",
    "for i, res in enumerate(\"AAAAA\"):\n",
    "    print(i, res, FLOWSITE_AA_IDX[res])\n",
    "    print([complexid0[inference][i][FLOWSITE_AA_IDX[res]] for inference in range(10)])\n",
    "    log_score = sum([complexid0[inference][i][FLOWSITE_AA_IDX[res]] for inference in range(10)])\n",
    "    print(log_score)\n",
    "    log_likelyhoods_avg.append(log_score)\n",
    "sum(log_likelyhoods_avg)"
   ]
  },
  {
   "cell_type": "code",
   "execution_count": 24,
   "metadata": {},
   "outputs": [
    {
     "name": "stdout",
     "output_type": "stream",
     "text": [
      "(5, 21)\n",
      "(5, 21)\n",
      "(5, 21)\n",
      "(5, 21)\n",
      "(5, 21)\n",
      "(5, 21)\n",
      "(5, 21)\n",
      "(5, 21)\n",
      "(5, 21)\n",
      "(5, 21)\n"
     ]
    },
    {
     "data": {
      "text/plain": [
       "25.327927470207214"
      ]
     },
     "execution_count": 24,
     "metadata": {},
     "output_type": "execute_result"
    }
   ],
   "source": [
    "log_likelyhoods = 0\n",
    "for rep in range(10):\n",
    "    print(complexid0[rep].shape)\n",
    "    log_likelyhoods += sum([complexid0[rep][i][FLOWSITE_AA_IDX[res]] for i, res in enumerate(\"AAAAA\")])\n",
    "log_likelyhoods"
   ]
  },
  {
   "cell_type": "code",
   "execution_count": 4,
   "metadata": {},
   "outputs": [],
   "source": [
    "import pandas as pd\n",
    "from glob import glob\n",
    "from scipy.stats import spearmanr"
   ]
  },
  {
   "cell_type": "code",
   "execution_count": 5,
   "metadata": {},
   "outputs": [
    {
     "name": "stdout",
     "output_type": "stream",
     "text": [
      "zs/flowsite/scores/pocket_def_residues_model2-substrate-cofactor/ParLQ.csv\n",
      "SignificanceResult(statistic=0.14973887033787775, pvalue=0.0008844716459722446)\n",
      "zs/flowsite/scores/pocket_def_residues_model2-substrate-cofactor/PfTrpB-5iodo.csv\n",
      "SignificanceResult(statistic=0.4265834504989541, pvalue=4.469211511584704e-12)\n",
      "zs/flowsite/scores/pocket_def_residues_model2-substrate-cofactor/PfTrpB-5bromo.csv\n",
      "SignificanceResult(statistic=0.4042821784938375, pvalue=6.838640401397584e-11)\n",
      "zs/flowsite/scores/pocket_def_residues_model2-substrate-cofactor/PfTrpB-5cyano.csv\n",
      "SignificanceResult(statistic=0.38226971908962354, pvalue=8.341835344333893e-10)\n",
      "zs/flowsite/scores/pocket_def_residues_model2-substrate-cofactor/PfTrpB-56chloro.csv\n",
      "SignificanceResult(statistic=0.31660678355244964, pvalue=5.18816011588703e-07)\n",
      "zs/flowsite/scores/pocket_def_residues_model2-substrate-cofactor/PfTrpB-6chloro.csv\n",
      "SignificanceResult(statistic=0.4573369520371817, pvalue=7.366570337784437e-14)\n",
      "zs/flowsite/scores/pocket_def_residues_model2-substrate-cofactor/Rma-CB.csv\n",
      "SignificanceResult(statistic=0.11863031166450683, pvalue=0.14821221002404944)\n",
      "zs/flowsite/scores/pocket_def_residues_model2-substrate-cofactor/Rma-CSi.csv\n",
      "SignificanceResult(statistic=-0.008252651178555465, pvalue=0.9201616533154588)\n",
      "zs/flowsite/scores/pocket_def_residues_model2-substrate-cofactor/PfTrpB-4cyano.csv\n",
      "SignificanceResult(statistic=0.4140118651623744, pvalue=2.1321238750765976e-11)\n",
      "zs/flowsite/scores/pocket_def_residues_model2-substrate-cofactor/PfTrpB-4bromo.csv\n",
      "SignificanceResult(statistic=0.41524040589381833, pvalue=1.8354113040996327e-11)\n",
      "zs/flowsite/scores/pocket_def_residues_model2-substrate-cofactor/PfTrpB-7iodo.csv\n",
      "SignificanceResult(statistic=0.43320739447170903, pvalue=1.9108645259948753e-12)\n",
      "zs/flowsite/scores/pocket_def_residues_model2-substrate-cofactor/PfTrpB-7methyl.csv\n",
      "SignificanceResult(statistic=0.3765500154315696, pvalue=1.5509623033119713e-09)\n",
      "zs/flowsite/scores/pocket_def_residues_model2-substrate-cofactor/PfTrpB-7bromo.csv\n",
      "SignificanceResult(statistic=0.40626789327022167, pvalue=0.0005868929848513043)\n",
      "zs/flowsite/scores/pocket_def_residues_model2-substrate-cofactor/PfTrpB-5chloro.csv\n",
      "SignificanceResult(statistic=0.37559719651187307, pvalue=1.717766247780399e-09)\n"
     ]
    }
   ],
   "source": [
    "for f in glob(\"zs/flowsite/scores/pocket_def_residues_model2-substrate-cofactor/*.csv\"):\n",
    "    print(f)\n",
    "    df = pd.read_csv(f)\n",
    "    print(spearmanr(df[\"fitness\"], df[\"flowsite_score\"]))"
   ]
  },
  {
   "cell_type": "code",
   "execution_count": null,
   "metadata": {},
   "outputs": [],
   "source": []
  }
 ],
 "metadata": {
  "kernelspec": {
   "display_name": "REVIVAL",
   "language": "python",
   "name": "python3"
  },
  "language_info": {
   "codemirror_mode": {
    "name": "ipython",
    "version": 3
   },
   "file_extension": ".py",
   "mimetype": "text/x-python",
   "name": "python",
   "nbconvert_exporter": "python",
   "pygments_lexer": "ipython3",
   "version": "3.11.11"
  }
 },
 "nbformat": 4,
 "nbformat_minor": 2
}
