{
 "cells": [
  {
   "cell_type": "code",
   "execution_count": 1,
   "metadata": {},
   "outputs": [
    {
     "name": "stdout",
     "output_type": "stream",
     "text": [
      "/disk2/fli/REVIVAL2\n"
     ]
    }
   ],
   "source": [
    "%cd ~/REVIVAL2"
   ]
  },
  {
   "cell_type": "code",
   "execution_count": 9,
   "metadata": {},
   "outputs": [],
   "source": [
    "import pandas as pd\n",
    "import numpy as np"
   ]
  },
  {
   "cell_type": "code",
   "execution_count": 3,
   "metadata": {},
   "outputs": [
    {
     "data": {
      "text/html": [
       "<div>\n",
       "<style scoped>\n",
       "    .dataframe tbody tr th:only-of-type {\n",
       "        vertical-align: middle;\n",
       "    }\n",
       "\n",
       "    .dataframe tbody tr th {\n",
       "        vertical-align: top;\n",
       "    }\n",
       "\n",
       "    .dataframe thead th {\n",
       "        text-align: right;\n",
       "    }\n",
       "</style>\n",
       "<table border=\"1\" class=\"dataframe\">\n",
       "  <thead>\n",
       "    <tr style=\"text-align: right;\">\n",
       "      <th></th>\n",
       "      <th>AAs</th>\n",
       "      <th>var</th>\n",
       "      <th>seq</th>\n",
       "      <th>fitness</th>\n",
       "      <th>selectivity</th>\n",
       "      <th>n_mut</th>\n",
       "      <th>AA1</th>\n",
       "      <th>AA2</th>\n",
       "      <th>AA3</th>\n",
       "      <th>AA4</th>\n",
       "      <th>AA5</th>\n",
       "      <th>enzyme</th>\n",
       "      <th>substrate</th>\n",
       "      <th>substrate-smiles</th>\n",
       "      <th>cofactor</th>\n",
       "      <th>cofactor-smiles</th>\n",
       "      <th>product</th>\n",
       "      <th>product-smiles</th>\n",
       "    </tr>\n",
       "  </thead>\n",
       "  <tbody>\n",
       "    <tr>\n",
       "      <th>0</th>\n",
       "      <td>EKFDW</td>\n",
       "      <td>W56E:Y57K:L59F:Q60D:F89W</td>\n",
       "      <td>MAVPGYDFGKVPDAPISDADFESLKKTVMWGEEDEKYRKMACEALK...</td>\n",
       "      <td>43.224508</td>\n",
       "      <td>4.572915</td>\n",
       "      <td>5</td>\n",
       "      <td>E</td>\n",
       "      <td>K</td>\n",
       "      <td>F</td>\n",
       "      <td>D</td>\n",
       "      <td>W</td>\n",
       "      <td>ParLQ</td>\n",
       "      <td>b</td>\n",
       "      <td>C=CC1=CC=CC=C1</td>\n",
       "      <td>carbene-heme</td>\n",
       "      <td>C=CC1=C(C=C2C(C)=C(C=C)C3=[N]2[Fe]45(N6C(C(C)=...</td>\n",
       "      <td>NaN</td>\n",
       "      <td>NaN</td>\n",
       "    </tr>\n",
       "    <tr>\n",
       "      <th>1</th>\n",
       "      <td>EKMDY</td>\n",
       "      <td>W56E:Y57K:L59M:Q60D:F89Y</td>\n",
       "      <td>MAVPGYDFGKVPDAPISDADFESLKKTVMWGEEDEKYRKMACEALK...</td>\n",
       "      <td>57.375614</td>\n",
       "      <td>5.043814</td>\n",
       "      <td>5</td>\n",
       "      <td>E</td>\n",
       "      <td>K</td>\n",
       "      <td>M</td>\n",
       "      <td>D</td>\n",
       "      <td>Y</td>\n",
       "      <td>ParLQ</td>\n",
       "      <td>b</td>\n",
       "      <td>C=CC1=CC=CC=C1</td>\n",
       "      <td>carbene-heme</td>\n",
       "      <td>C=CC1=C(C=C2C(C)=C(C=C)C3=[N]2[Fe]45(N6C(C(C)=...</td>\n",
       "      <td>NaN</td>\n",
       "      <td>NaN</td>\n",
       "    </tr>\n",
       "    <tr>\n",
       "      <th>2</th>\n",
       "      <td>FGFDW</td>\n",
       "      <td>W56F:Y57G:L59F:Q60D:F89W</td>\n",
       "      <td>MAVPGYDFGKVPDAPISDADFESLKKTVMWGEEDEKYRKMACEALK...</td>\n",
       "      <td>25.316717</td>\n",
       "      <td>2.377136</td>\n",
       "      <td>5</td>\n",
       "      <td>F</td>\n",
       "      <td>G</td>\n",
       "      <td>F</td>\n",
       "      <td>D</td>\n",
       "      <td>W</td>\n",
       "      <td>ParLQ</td>\n",
       "      <td>b</td>\n",
       "      <td>C=CC1=CC=CC=C1</td>\n",
       "      <td>carbene-heme</td>\n",
       "      <td>C=CC1=C(C=C2C(C)=C(C=C)C3=[N]2[Fe]45(N6C(C(C)=...</td>\n",
       "      <td>NaN</td>\n",
       "      <td>NaN</td>\n",
       "    </tr>\n",
       "    <tr>\n",
       "      <th>3</th>\n",
       "      <td>FGMAY</td>\n",
       "      <td>W56F:Y57G:L59M:Q60A:F89Y</td>\n",
       "      <td>MAVPGYDFGKVPDAPISDADFESLKKTVMWGEEDEKYRKMACEALK...</td>\n",
       "      <td>54.264988</td>\n",
       "      <td>6.242402</td>\n",
       "      <td>5</td>\n",
       "      <td>F</td>\n",
       "      <td>G</td>\n",
       "      <td>M</td>\n",
       "      <td>A</td>\n",
       "      <td>Y</td>\n",
       "      <td>ParLQ</td>\n",
       "      <td>b</td>\n",
       "      <td>C=CC1=CC=CC=C1</td>\n",
       "      <td>carbene-heme</td>\n",
       "      <td>C=CC1=C(C=C2C(C)=C(C=C)C3=[N]2[Fe]45(N6C(C(C)=...</td>\n",
       "      <td>NaN</td>\n",
       "      <td>NaN</td>\n",
       "    </tr>\n",
       "    <tr>\n",
       "      <th>4</th>\n",
       "      <td>FKADY</td>\n",
       "      <td>W56F:Y57K:L59A:Q60D:F89Y</td>\n",
       "      <td>MAVPGYDFGKVPDAPISDADFESLKKTVMWGEEDEKYRKMACEALK...</td>\n",
       "      <td>72.524943</td>\n",
       "      <td>8.330063</td>\n",
       "      <td>5</td>\n",
       "      <td>F</td>\n",
       "      <td>K</td>\n",
       "      <td>A</td>\n",
       "      <td>D</td>\n",
       "      <td>Y</td>\n",
       "      <td>ParLQ</td>\n",
       "      <td>b</td>\n",
       "      <td>C=CC1=CC=CC=C1</td>\n",
       "      <td>carbene-heme</td>\n",
       "      <td>C=CC1=C(C=C2C(C)=C(C=C)C3=[N]2[Fe]45(N6C(C(C)=...</td>\n",
       "      <td>NaN</td>\n",
       "      <td>NaN</td>\n",
       "    </tr>\n",
       "    <tr>\n",
       "      <th>...</th>\n",
       "      <td>...</td>\n",
       "      <td>...</td>\n",
       "      <td>...</td>\n",
       "      <td>...</td>\n",
       "      <td>...</td>\n",
       "      <td>...</td>\n",
       "      <td>...</td>\n",
       "      <td>...</td>\n",
       "      <td>...</td>\n",
       "      <td>...</td>\n",
       "      <td>...</td>\n",
       "      <td>...</td>\n",
       "      <td>...</td>\n",
       "      <td>...</td>\n",
       "      <td>...</td>\n",
       "      <td>...</td>\n",
       "      <td>...</td>\n",
       "      <td>...</td>\n",
       "    </tr>\n",
       "    <tr>\n",
       "      <th>86</th>\n",
       "      <td>SKFDY</td>\n",
       "      <td>W56S:Y57K:L59F:Q60D:F89Y</td>\n",
       "      <td>MAVPGYDFGKVPDAPISDADFESLKKTVMWGEEDEKYRKMACEALK...</td>\n",
       "      <td>67.698552</td>\n",
       "      <td>10.029965</td>\n",
       "      <td>5</td>\n",
       "      <td>S</td>\n",
       "      <td>K</td>\n",
       "      <td>F</td>\n",
       "      <td>D</td>\n",
       "      <td>Y</td>\n",
       "      <td>ParLQ</td>\n",
       "      <td>b</td>\n",
       "      <td>C=CC1=CC=CC=C1</td>\n",
       "      <td>carbene-heme</td>\n",
       "      <td>C=CC1=C(C=C2C(C)=C(C=C)C3=[N]2[Fe]45(N6C(C(C)=...</td>\n",
       "      <td>NaN</td>\n",
       "      <td>NaN</td>\n",
       "    </tr>\n",
       "    <tr>\n",
       "      <th>87</th>\n",
       "      <td>SKMDY</td>\n",
       "      <td>W56S:Y57K:L59M:Q60D:F89Y</td>\n",
       "      <td>MAVPGYDFGKVPDAPISDADFESLKKTVMWGEEDEKYRKMACEALK...</td>\n",
       "      <td>47.719258</td>\n",
       "      <td>7.915159</td>\n",
       "      <td>5</td>\n",
       "      <td>S</td>\n",
       "      <td>K</td>\n",
       "      <td>M</td>\n",
       "      <td>D</td>\n",
       "      <td>Y</td>\n",
       "      <td>ParLQ</td>\n",
       "      <td>b</td>\n",
       "      <td>C=CC1=CC=CC=C1</td>\n",
       "      <td>carbene-heme</td>\n",
       "      <td>C=CC1=C(C=C2C(C)=C(C=C)C3=[N]2[Fe]45(N6C(C(C)=...</td>\n",
       "      <td>NaN</td>\n",
       "      <td>NaN</td>\n",
       "    </tr>\n",
       "    <tr>\n",
       "      <th>88</th>\n",
       "      <td>SYFDY</td>\n",
       "      <td>W56S:L59F:Q60D:F89Y</td>\n",
       "      <td>MAVPGYDFGKVPDAPISDADFESLKKTVMWGEEDEKYRKMACEALK...</td>\n",
       "      <td>63.699683</td>\n",
       "      <td>6.480271</td>\n",
       "      <td>4</td>\n",
       "      <td>S</td>\n",
       "      <td>Y</td>\n",
       "      <td>F</td>\n",
       "      <td>D</td>\n",
       "      <td>Y</td>\n",
       "      <td>ParLQ</td>\n",
       "      <td>b</td>\n",
       "      <td>C=CC1=CC=CC=C1</td>\n",
       "      <td>carbene-heme</td>\n",
       "      <td>C=CC1=C(C=C2C(C)=C(C=C)C3=[N]2[Fe]45(N6C(C(C)=...</td>\n",
       "      <td>NaN</td>\n",
       "      <td>NaN</td>\n",
       "    </tr>\n",
       "    <tr>\n",
       "      <th>89</th>\n",
       "      <td>SYMDY</td>\n",
       "      <td>W56S:L59M:Q60D:F89Y</td>\n",
       "      <td>MAVPGYDFGKVPDAPISDADFESLKKTVMWGEEDEKYRKMACEALK...</td>\n",
       "      <td>26.171289</td>\n",
       "      <td>1.990509</td>\n",
       "      <td>4</td>\n",
       "      <td>S</td>\n",
       "      <td>Y</td>\n",
       "      <td>M</td>\n",
       "      <td>D</td>\n",
       "      <td>Y</td>\n",
       "      <td>ParLQ</td>\n",
       "      <td>b</td>\n",
       "      <td>C=CC1=CC=CC=C1</td>\n",
       "      <td>carbene-heme</td>\n",
       "      <td>C=CC1=C(C=C2C(C)=C(C=C)C3=[N]2[Fe]45(N6C(C(C)=...</td>\n",
       "      <td>NaN</td>\n",
       "      <td>NaN</td>\n",
       "    </tr>\n",
       "    <tr>\n",
       "      <th>90</th>\n",
       "      <td>WYLQF</td>\n",
       "      <td>WT</td>\n",
       "      <td>MAVPGYDFGKVPDAPISDADFESLKKTVMWGEEDEKYRKMACEALK...</td>\n",
       "      <td>20.784105</td>\n",
       "      <td>0.784783</td>\n",
       "      <td>0</td>\n",
       "      <td>W</td>\n",
       "      <td>Y</td>\n",
       "      <td>L</td>\n",
       "      <td>Q</td>\n",
       "      <td>F</td>\n",
       "      <td>ParLQ</td>\n",
       "      <td>b</td>\n",
       "      <td>C=CC1=CC=CC=C1</td>\n",
       "      <td>carbene-heme</td>\n",
       "      <td>C=CC1=C(C=C2C(C)=C(C=C)C3=[N]2[Fe]45(N6C(C(C)=...</td>\n",
       "      <td>NaN</td>\n",
       "      <td>NaN</td>\n",
       "    </tr>\n",
       "  </tbody>\n",
       "</table>\n",
       "<p>91 rows × 18 columns</p>\n",
       "</div>"
      ],
      "text/plain": [
       "      AAs                       var  \\\n",
       "0   EKFDW  W56E:Y57K:L59F:Q60D:F89W   \n",
       "1   EKMDY  W56E:Y57K:L59M:Q60D:F89Y   \n",
       "2   FGFDW  W56F:Y57G:L59F:Q60D:F89W   \n",
       "3   FGMAY  W56F:Y57G:L59M:Q60A:F89Y   \n",
       "4   FKADY  W56F:Y57K:L59A:Q60D:F89Y   \n",
       "..    ...                       ...   \n",
       "86  SKFDY  W56S:Y57K:L59F:Q60D:F89Y   \n",
       "87  SKMDY  W56S:Y57K:L59M:Q60D:F89Y   \n",
       "88  SYFDY       W56S:L59F:Q60D:F89Y   \n",
       "89  SYMDY       W56S:L59M:Q60D:F89Y   \n",
       "90  WYLQF                        WT   \n",
       "\n",
       "                                                  seq    fitness  selectivity  \\\n",
       "0   MAVPGYDFGKVPDAPISDADFESLKKTVMWGEEDEKYRKMACEALK...  43.224508     4.572915   \n",
       "1   MAVPGYDFGKVPDAPISDADFESLKKTVMWGEEDEKYRKMACEALK...  57.375614     5.043814   \n",
       "2   MAVPGYDFGKVPDAPISDADFESLKKTVMWGEEDEKYRKMACEALK...  25.316717     2.377136   \n",
       "3   MAVPGYDFGKVPDAPISDADFESLKKTVMWGEEDEKYRKMACEALK...  54.264988     6.242402   \n",
       "4   MAVPGYDFGKVPDAPISDADFESLKKTVMWGEEDEKYRKMACEALK...  72.524943     8.330063   \n",
       "..                                                ...        ...          ...   \n",
       "86  MAVPGYDFGKVPDAPISDADFESLKKTVMWGEEDEKYRKMACEALK...  67.698552    10.029965   \n",
       "87  MAVPGYDFGKVPDAPISDADFESLKKTVMWGEEDEKYRKMACEALK...  47.719258     7.915159   \n",
       "88  MAVPGYDFGKVPDAPISDADFESLKKTVMWGEEDEKYRKMACEALK...  63.699683     6.480271   \n",
       "89  MAVPGYDFGKVPDAPISDADFESLKKTVMWGEEDEKYRKMACEALK...  26.171289     1.990509   \n",
       "90  MAVPGYDFGKVPDAPISDADFESLKKTVMWGEEDEKYRKMACEALK...  20.784105     0.784783   \n",
       "\n",
       "    n_mut AA1 AA2 AA3 AA4 AA5 enzyme substrate substrate-smiles      cofactor  \\\n",
       "0       5   E   K   F   D   W  ParLQ         b   C=CC1=CC=CC=C1  carbene-heme   \n",
       "1       5   E   K   M   D   Y  ParLQ         b   C=CC1=CC=CC=C1  carbene-heme   \n",
       "2       5   F   G   F   D   W  ParLQ         b   C=CC1=CC=CC=C1  carbene-heme   \n",
       "3       5   F   G   M   A   Y  ParLQ         b   C=CC1=CC=CC=C1  carbene-heme   \n",
       "4       5   F   K   A   D   Y  ParLQ         b   C=CC1=CC=CC=C1  carbene-heme   \n",
       "..    ...  ..  ..  ..  ..  ..    ...       ...              ...           ...   \n",
       "86      5   S   K   F   D   Y  ParLQ         b   C=CC1=CC=CC=C1  carbene-heme   \n",
       "87      5   S   K   M   D   Y  ParLQ         b   C=CC1=CC=CC=C1  carbene-heme   \n",
       "88      4   S   Y   F   D   Y  ParLQ         b   C=CC1=CC=CC=C1  carbene-heme   \n",
       "89      4   S   Y   M   D   Y  ParLQ         b   C=CC1=CC=CC=C1  carbene-heme   \n",
       "90      0   W   Y   L   Q   F  ParLQ         b   C=CC1=CC=CC=C1  carbene-heme   \n",
       "\n",
       "                                      cofactor-smiles  product  product-smiles  \n",
       "0   C=CC1=C(C=C2C(C)=C(C=C)C3=[N]2[Fe]45(N6C(C(C)=...      NaN             NaN  \n",
       "1   C=CC1=C(C=C2C(C)=C(C=C)C3=[N]2[Fe]45(N6C(C(C)=...      NaN             NaN  \n",
       "2   C=CC1=C(C=C2C(C)=C(C=C)C3=[N]2[Fe]45(N6C(C(C)=...      NaN             NaN  \n",
       "3   C=CC1=C(C=C2C(C)=C(C=C)C3=[N]2[Fe]45(N6C(C(C)=...      NaN             NaN  \n",
       "4   C=CC1=C(C=C2C(C)=C(C=C)C3=[N]2[Fe]45(N6C(C(C)=...      NaN             NaN  \n",
       "..                                                ...      ...             ...  \n",
       "86  C=CC1=C(C=C2C(C)=C(C=C)C3=[N]2[Fe]45(N6C(C(C)=...      NaN             NaN  \n",
       "87  C=CC1=C(C=C2C(C)=C(C=C)C3=[N]2[Fe]45(N6C(C(C)=...      NaN             NaN  \n",
       "88  C=CC1=C(C=C2C(C)=C(C=C)C3=[N]2[Fe]45(N6C(C(C)=...      NaN             NaN  \n",
       "89  C=CC1=C(C=C2C(C)=C(C=C)C3=[N]2[Fe]45(N6C(C(C)=...      NaN             NaN  \n",
       "90  C=CC1=C(C=C2C(C)=C(C=C)C3=[N]2[Fe]45(N6C(C(C)=...      NaN             NaN  \n",
       "\n",
       "[91 rows x 18 columns]"
      ]
     },
     "execution_count": 3,
     "metadata": {},
     "output_type": "execute_result"
    }
   ],
   "source": [
    "df = pd.read_csv(\"/disk2/fli/REVIVAL2/data/meta/ParLQ-b.csv\")\n",
    "\n",
    "df"
   ]
  },
  {
   "cell_type": "code",
   "execution_count": 31,
   "metadata": {},
   "outputs": [
    {
     "data": {
      "text/plain": [
       "74"
      ]
     },
     "execution_count": 31,
     "metadata": {},
     "output_type": "execute_result"
    }
   ],
   "source": [
    "len(df[df[\"n_mut\"]==5])"
   ]
  },
  {
   "cell_type": "code",
   "execution_count": 33,
   "metadata": {},
   "outputs": [
    {
     "data": {
      "text/plain": [
       "(22.75, 17)"
      ]
     },
     "execution_count": 33,
     "metadata": {},
     "output_type": "execute_result"
    }
   ],
   "source": [
    "91*0.25, 91-74"
   ]
  },
  {
   "cell_type": "code",
   "execution_count": 8,
   "metadata": {},
   "outputs": [],
   "source": [
    "y_true = df[\"fitness\"].values\n",
    "y_score = -1* df[\"n_mut\"].values"
   ]
  },
  {
   "cell_type": "code",
   "execution_count": 34,
   "metadata": {},
   "outputs": [
    {
     "data": {
      "text/plain": [
       "(91, 91)"
      ]
     },
     "execution_count": 34,
     "metadata": {},
     "output_type": "execute_result"
    }
   ],
   "source": [
    "len(y_true), len(y_score)"
   ]
  },
  {
   "cell_type": "code",
   "execution_count": 20,
   "metadata": {},
   "outputs": [],
   "source": [
    "top_n = 25"
   ]
  },
  {
   "cell_type": "code",
   "execution_count": 21,
   "metadata": {},
   "outputs": [],
   "source": [
    "threshold_true = np.percentile(y_true, 100 - top_n)\n",
    "threshold_model = np.percentile(y_score, 100 - top_n)"
   ]
  },
  {
   "cell_type": "code",
   "execution_count": 22,
   "metadata": {},
   "outputs": [
    {
     "data": {
      "text/plain": [
       "(65.25241955, -5.0)"
      ]
     },
     "execution_count": 22,
     "metadata": {},
     "output_type": "execute_result"
    }
   ],
   "source": [
    "threshold_true, threshold_model"
   ]
  },
  {
   "cell_type": "code",
   "execution_count": 23,
   "metadata": {},
   "outputs": [
    {
     "data": {
      "text/plain": [
       "array([False, False, False, False,  True, False,  True,  True,  True,\n",
       "       False,  True, False, False, False, False, False, False, False,\n",
       "       False, False, False, False, False,  True,  True,  True,  True,\n",
       "       False,  True, False, False,  True,  True, False, False, False,\n",
       "       False, False,  True, False, False, False, False, False,  True,\n",
       "       False,  True, False, False, False, False, False, False, False,\n",
       "       False, False,  True,  True,  True, False, False, False, False,\n",
       "       False, False, False,  True, False, False, False, False, False,\n",
       "       False, False,  True, False, False, False, False, False,  True,\n",
       "        True, False, False, False, False,  True, False, False, False,\n",
       "       False])"
      ]
     },
     "execution_count": 23,
     "metadata": {},
     "output_type": "execute_result"
    }
   ],
   "source": [
    "# Select the top N% based on true scores\n",
    "top_true = y_true >= threshold_true\n",
    "top_true"
   ]
  },
  {
   "cell_type": "code",
   "execution_count": 28,
   "metadata": {},
   "outputs": [
    {
     "data": {
      "text/plain": [
       "array([-5, -5, -5, -5, -5, -5, -5, -5, -5, -5, -4, -4, -4, -5, -5, -5, -4,\n",
       "       -4, -5, -5, -5, -5, -5, -5, -5, -5, -5, -5, -5, -5, -5, -5, -5, -4,\n",
       "       -5, -5, -5, -5, -5, -5, -5, -5, -5, -5, -5, -5, -5, -5, -5, -5, -5,\n",
       "       -5, -5, -5, -5, -5, -5, -5, -5, -5, -5, -5, -5, -5, -5, -5, -5, -5,\n",
       "       -5, -5, -5, -5, -5, -4, -4, -4, -4, -4, -4, -4, -5, -5, -5, -5, -4,\n",
       "       -5, -5, -5, -4, -4,  0])"
      ]
     },
     "execution_count": 28,
     "metadata": {},
     "output_type": "execute_result"
    }
   ],
   "source": [
    "y_score"
   ]
  },
  {
   "cell_type": "code",
   "execution_count": 29,
   "metadata": {},
   "outputs": [
    {
     "data": {
      "text/plain": [
       "-5.0"
      ]
     },
     "execution_count": 29,
     "metadata": {},
     "output_type": "execute_result"
    }
   ],
   "source": [
    "threshold_model"
   ]
  },
  {
   "cell_type": "code",
   "execution_count": 24,
   "metadata": {},
   "outputs": [
    {
     "data": {
      "text/plain": [
       "array([ True,  True,  True,  True,  True,  True,  True,  True,  True,\n",
       "        True,  True,  True,  True,  True,  True,  True,  True,  True,\n",
       "        True,  True,  True,  True,  True,  True,  True,  True,  True,\n",
       "        True,  True,  True,  True,  True,  True,  True,  True,  True,\n",
       "        True,  True,  True,  True,  True,  True,  True,  True,  True,\n",
       "        True,  True,  True,  True,  True,  True,  True,  True,  True,\n",
       "        True,  True,  True,  True,  True,  True,  True,  True,  True,\n",
       "        True,  True,  True,  True,  True,  True,  True,  True,  True,\n",
       "        True,  True,  True,  True,  True,  True,  True,  True,  True,\n",
       "        True,  True,  True,  True,  True,  True,  True,  True,  True,\n",
       "        True])"
      ]
     },
     "execution_count": 24,
     "metadata": {},
     "output_type": "execute_result"
    }
   ],
   "source": [
    "# Select the top N% based on model scores\n",
    "top_model = y_score >= threshold_model\n",
    "top_model"
   ]
  },
  {
   "cell_type": "code",
   "execution_count": 25,
   "metadata": {},
   "outputs": [
    {
     "data": {
      "text/plain": [
       "array([False, False, False, False,  True, False,  True,  True,  True,\n",
       "       False,  True, False, False, False, False, False, False, False,\n",
       "       False, False, False, False, False,  True,  True,  True,  True,\n",
       "       False,  True, False, False,  True,  True, False, False, False,\n",
       "       False, False,  True, False, False, False, False, False,  True,\n",
       "       False,  True, False, False, False, False, False, False, False,\n",
       "       False, False,  True,  True,  True, False, False, False, False,\n",
       "       False, False, False,  True, False, False, False, False, False,\n",
       "       False, False,  True, False, False, False, False, False,  True,\n",
       "        True, False, False, False, False,  True, False, False, False,\n",
       "       False])"
      ]
     },
     "execution_count": 25,
     "metadata": {},
     "output_type": "execute_result"
    }
   ],
   "source": [
    "# Calculate True Positives (TP): How many correct top-N% predictions?\n",
    "true_positives = (top_true) & (top_model)\n",
    "true_positives"
   ]
  },
  {
   "cell_type": "code",
   "execution_count": 27,
   "metadata": {},
   "outputs": [
    {
     "data": {
      "text/plain": [
       "(23, 23)"
      ]
     },
     "execution_count": 27,
     "metadata": {},
     "output_type": "execute_result"
    }
   ],
   "source": [
    "true_positives.sum(), top_true.sum()"
   ]
  },
  {
   "cell_type": "code",
   "execution_count": 26,
   "metadata": {},
   "outputs": [
    {
     "data": {
      "text/plain": [
       "1.0"
      ]
     },
     "execution_count": 26,
     "metadata": {},
     "output_type": "execute_result"
    }
   ],
   "source": [
    "# Compute recall: TP / Total Actual Positives (Top-N% True Samples)\n",
    "recall = true_positives.sum() / (top_true.sum()) if top_true.sum() > 0 else 0\n",
    "recall"
   ]
  },
  {
   "cell_type": "code",
   "execution_count": 6,
   "metadata": {},
   "outputs": [
    {
     "data": {
      "text/html": [
       "<div>\n",
       "<style scoped>\n",
       "    .dataframe tbody tr th:only-of-type {\n",
       "        vertical-align: middle;\n",
       "    }\n",
       "\n",
       "    .dataframe tbody tr th {\n",
       "        vertical-align: top;\n",
       "    }\n",
       "\n",
       "    .dataframe thead th {\n",
       "        text-align: right;\n",
       "    }\n",
       "</style>\n",
       "<table border=\"1\" class=\"dataframe\">\n",
       "  <thead>\n",
       "    <tr style=\"text-align: right;\">\n",
       "      <th></th>\n",
       "      <th>AAs</th>\n",
       "      <th>var</th>\n",
       "      <th>seq</th>\n",
       "      <th>fitness</th>\n",
       "      <th>selectivity</th>\n",
       "      <th>n_mut</th>\n",
       "      <th>AA1</th>\n",
       "      <th>AA2</th>\n",
       "      <th>AA3</th>\n",
       "      <th>AA4</th>\n",
       "      <th>AA5</th>\n",
       "      <th>enzyme</th>\n",
       "      <th>substrate</th>\n",
       "      <th>substrate-smiles</th>\n",
       "      <th>cofactor</th>\n",
       "      <th>cofactor-smiles</th>\n",
       "      <th>product</th>\n",
       "      <th>product-smiles</th>\n",
       "    </tr>\n",
       "  </thead>\n",
       "  <tbody>\n",
       "    <tr>\n",
       "      <th>15</th>\n",
       "      <td>GPFAW</td>\n",
       "      <td>W56G:Y57P:L59F:Q60A:F89W</td>\n",
       "      <td>MAVPGYDFGKVPDAPISDADFESLKKTVMWGEEDEKYRKMACEALK...</td>\n",
       "      <td>2.996901</td>\n",
       "      <td>0.180043</td>\n",
       "      <td>5</td>\n",
       "      <td>G</td>\n",
       "      <td>P</td>\n",
       "      <td>F</td>\n",
       "      <td>A</td>\n",
       "      <td>W</td>\n",
       "      <td>ParLQ</td>\n",
       "      <td>b</td>\n",
       "      <td>C=CC1=CC=CC=C1</td>\n",
       "      <td>carbene-heme</td>\n",
       "      <td>C=CC1=C(C=C2C(C)=C(C=C)C3=[N]2[Fe]45(N6C(C(C)=...</td>\n",
       "      <td>NaN</td>\n",
       "      <td>NaN</td>\n",
       "    </tr>\n",
       "    <tr>\n",
       "      <th>33</th>\n",
       "      <td>HYMAY</td>\n",
       "      <td>W56H:L59M:Q60A:F89Y</td>\n",
       "      <td>MAVPGYDFGKVPDAPISDADFESLKKTVMWGEEDEKYRKMACEALK...</td>\n",
       "      <td>16.934836</td>\n",
       "      <td>6.359406</td>\n",
       "      <td>4</td>\n",
       "      <td>H</td>\n",
       "      <td>Y</td>\n",
       "      <td>M</td>\n",
       "      <td>A</td>\n",
       "      <td>Y</td>\n",
       "      <td>ParLQ</td>\n",
       "      <td>b</td>\n",
       "      <td>C=CC1=CC=CC=C1</td>\n",
       "      <td>carbene-heme</td>\n",
       "      <td>C=CC1=C(C=C2C(C)=C(C=C)C3=[N]2[Fe]45(N6C(C(C)=...</td>\n",
       "      <td>NaN</td>\n",
       "      <td>NaN</td>\n",
       "    </tr>\n",
       "    <tr>\n",
       "      <th>40</th>\n",
       "      <td>MEMDW</td>\n",
       "      <td>W56M:Y57E:L59M:Q60D:F89W</td>\n",
       "      <td>MAVPGYDFGKVPDAPISDADFESLKKTVMWGEEDEKYRKMACEALK...</td>\n",
       "      <td>17.609432</td>\n",
       "      <td>0.932284</td>\n",
       "      <td>5</td>\n",
       "      <td>M</td>\n",
       "      <td>E</td>\n",
       "      <td>M</td>\n",
       "      <td>D</td>\n",
       "      <td>W</td>\n",
       "      <td>ParLQ</td>\n",
       "      <td>b</td>\n",
       "      <td>C=CC1=CC=CC=C1</td>\n",
       "      <td>carbene-heme</td>\n",
       "      <td>C=CC1=C(C=C2C(C)=C(C=C)C3=[N]2[Fe]45(N6C(C(C)=...</td>\n",
       "      <td>NaN</td>\n",
       "      <td>NaN</td>\n",
       "    </tr>\n",
       "    <tr>\n",
       "      <th>90</th>\n",
       "      <td>WYLQF</td>\n",
       "      <td>WT</td>\n",
       "      <td>MAVPGYDFGKVPDAPISDADFESLKKTVMWGEEDEKYRKMACEALK...</td>\n",
       "      <td>20.784105</td>\n",
       "      <td>0.784783</td>\n",
       "      <td>0</td>\n",
       "      <td>W</td>\n",
       "      <td>Y</td>\n",
       "      <td>L</td>\n",
       "      <td>Q</td>\n",
       "      <td>F</td>\n",
       "      <td>ParLQ</td>\n",
       "      <td>b</td>\n",
       "      <td>C=CC1=CC=CC=C1</td>\n",
       "      <td>carbene-heme</td>\n",
       "      <td>C=CC1=C(C=C2C(C)=C(C=C)C3=[N]2[Fe]45(N6C(C(C)=...</td>\n",
       "      <td>NaN</td>\n",
       "      <td>NaN</td>\n",
       "    </tr>\n",
       "    <tr>\n",
       "      <th>22</th>\n",
       "      <td>HGMAY</td>\n",
       "      <td>W56H:Y57G:L59M:Q60A:F89Y</td>\n",
       "      <td>MAVPGYDFGKVPDAPISDADFESLKKTVMWGEEDEKYRKMACEALK...</td>\n",
       "      <td>21.623068</td>\n",
       "      <td>9.470078</td>\n",
       "      <td>5</td>\n",
       "      <td>H</td>\n",
       "      <td>G</td>\n",
       "      <td>M</td>\n",
       "      <td>A</td>\n",
       "      <td>Y</td>\n",
       "      <td>ParLQ</td>\n",
       "      <td>b</td>\n",
       "      <td>C=CC1=CC=CC=C1</td>\n",
       "      <td>carbene-heme</td>\n",
       "      <td>C=CC1=C(C=C2C(C)=C(C=C)C3=[N]2[Fe]45(N6C(C(C)=...</td>\n",
       "      <td>NaN</td>\n",
       "      <td>NaN</td>\n",
       "    </tr>\n",
       "    <tr>\n",
       "      <th>...</th>\n",
       "      <td>...</td>\n",
       "      <td>...</td>\n",
       "      <td>...</td>\n",
       "      <td>...</td>\n",
       "      <td>...</td>\n",
       "      <td>...</td>\n",
       "      <td>...</td>\n",
       "      <td>...</td>\n",
       "      <td>...</td>\n",
       "      <td>...</td>\n",
       "      <td>...</td>\n",
       "      <td>...</td>\n",
       "      <td>...</td>\n",
       "      <td>...</td>\n",
       "      <td>...</td>\n",
       "      <td>...</td>\n",
       "      <td>...</td>\n",
       "      <td>...</td>\n",
       "    </tr>\n",
       "    <tr>\n",
       "      <th>10</th>\n",
       "      <td>FYFDY</td>\n",
       "      <td>W56F:L59F:Q60D:F89Y</td>\n",
       "      <td>MAVPGYDFGKVPDAPISDADFESLKKTVMWGEEDEKYRKMACEALK...</td>\n",
       "      <td>82.274400</td>\n",
       "      <td>15.252473</td>\n",
       "      <td>4</td>\n",
       "      <td>F</td>\n",
       "      <td>Y</td>\n",
       "      <td>F</td>\n",
       "      <td>D</td>\n",
       "      <td>Y</td>\n",
       "      <td>ParLQ</td>\n",
       "      <td>b</td>\n",
       "      <td>C=CC1=CC=CC=C1</td>\n",
       "      <td>carbene-heme</td>\n",
       "      <td>C=CC1=C(C=C2C(C)=C(C=C)C3=[N]2[Fe]45(N6C(C(C)=...</td>\n",
       "      <td>NaN</td>\n",
       "      <td>NaN</td>\n",
       "    </tr>\n",
       "    <tr>\n",
       "      <th>25</th>\n",
       "      <td>HKFDY</td>\n",
       "      <td>W56H:Y57K:L59F:Q60D:F89Y</td>\n",
       "      <td>MAVPGYDFGKVPDAPISDADFESLKKTVMWGEEDEKYRKMACEALK...</td>\n",
       "      <td>82.541131</td>\n",
       "      <td>10.950994</td>\n",
       "      <td>5</td>\n",
       "      <td>H</td>\n",
       "      <td>K</td>\n",
       "      <td>F</td>\n",
       "      <td>D</td>\n",
       "      <td>Y</td>\n",
       "      <td>ParLQ</td>\n",
       "      <td>b</td>\n",
       "      <td>C=CC1=CC=CC=C1</td>\n",
       "      <td>carbene-heme</td>\n",
       "      <td>C=CC1=C(C=C2C(C)=C(C=C)C3=[N]2[Fe]45(N6C(C(C)=...</td>\n",
       "      <td>NaN</td>\n",
       "      <td>NaN</td>\n",
       "    </tr>\n",
       "    <tr>\n",
       "      <th>57</th>\n",
       "      <td>MKFKY</td>\n",
       "      <td>W56M:Y57K:L59F:Q60K:F89Y</td>\n",
       "      <td>MAVPGYDFGKVPDAPISDADFESLKKTVMWGEEDEKYRKMACEALK...</td>\n",
       "      <td>82.691752</td>\n",
       "      <td>11.646061</td>\n",
       "      <td>5</td>\n",
       "      <td>M</td>\n",
       "      <td>K</td>\n",
       "      <td>F</td>\n",
       "      <td>K</td>\n",
       "      <td>Y</td>\n",
       "      <td>ParLQ</td>\n",
       "      <td>b</td>\n",
       "      <td>C=CC1=CC=CC=C1</td>\n",
       "      <td>carbene-heme</td>\n",
       "      <td>C=CC1=C(C=C2C(C)=C(C=C)C3=[N]2[Fe]45(N6C(C(C)=...</td>\n",
       "      <td>NaN</td>\n",
       "      <td>NaN</td>\n",
       "    </tr>\n",
       "    <tr>\n",
       "      <th>56</th>\n",
       "      <td>MKFDY</td>\n",
       "      <td>W56M:Y57K:L59F:Q60D:F89Y</td>\n",
       "      <td>MAVPGYDFGKVPDAPISDADFESLKKTVMWGEEDEKYRKMACEALK...</td>\n",
       "      <td>89.271628</td>\n",
       "      <td>10.153336</td>\n",
       "      <td>5</td>\n",
       "      <td>M</td>\n",
       "      <td>K</td>\n",
       "      <td>F</td>\n",
       "      <td>D</td>\n",
       "      <td>Y</td>\n",
       "      <td>ParLQ</td>\n",
       "      <td>b</td>\n",
       "      <td>C=CC1=CC=CC=C1</td>\n",
       "      <td>carbene-heme</td>\n",
       "      <td>C=CC1=C(C=C2C(C)=C(C=C)C3=[N]2[Fe]45(N6C(C(C)=...</td>\n",
       "      <td>NaN</td>\n",
       "      <td>NaN</td>\n",
       "    </tr>\n",
       "    <tr>\n",
       "      <th>81</th>\n",
       "      <td>PKMDY</td>\n",
       "      <td>W56P:Y57K:L59M:Q60D:F89Y</td>\n",
       "      <td>MAVPGYDFGKVPDAPISDADFESLKKTVMWGEEDEKYRKMACEALK...</td>\n",
       "      <td>91.813213</td>\n",
       "      <td>15.718841</td>\n",
       "      <td>5</td>\n",
       "      <td>P</td>\n",
       "      <td>K</td>\n",
       "      <td>M</td>\n",
       "      <td>D</td>\n",
       "      <td>Y</td>\n",
       "      <td>ParLQ</td>\n",
       "      <td>b</td>\n",
       "      <td>C=CC1=CC=CC=C1</td>\n",
       "      <td>carbene-heme</td>\n",
       "      <td>C=CC1=C(C=C2C(C)=C(C=C)C3=[N]2[Fe]45(N6C(C(C)=...</td>\n",
       "      <td>NaN</td>\n",
       "      <td>NaN</td>\n",
       "    </tr>\n",
       "  </tbody>\n",
       "</table>\n",
       "<p>91 rows × 18 columns</p>\n",
       "</div>"
      ],
      "text/plain": [
       "      AAs                       var  \\\n",
       "15  GPFAW  W56G:Y57P:L59F:Q60A:F89W   \n",
       "33  HYMAY       W56H:L59M:Q60A:F89Y   \n",
       "40  MEMDW  W56M:Y57E:L59M:Q60D:F89W   \n",
       "90  WYLQF                        WT   \n",
       "22  HGMAY  W56H:Y57G:L59M:Q60A:F89Y   \n",
       "..    ...                       ...   \n",
       "10  FYFDY       W56F:L59F:Q60D:F89Y   \n",
       "25  HKFDY  W56H:Y57K:L59F:Q60D:F89Y   \n",
       "57  MKFKY  W56M:Y57K:L59F:Q60K:F89Y   \n",
       "56  MKFDY  W56M:Y57K:L59F:Q60D:F89Y   \n",
       "81  PKMDY  W56P:Y57K:L59M:Q60D:F89Y   \n",
       "\n",
       "                                                  seq    fitness  selectivity  \\\n",
       "15  MAVPGYDFGKVPDAPISDADFESLKKTVMWGEEDEKYRKMACEALK...   2.996901     0.180043   \n",
       "33  MAVPGYDFGKVPDAPISDADFESLKKTVMWGEEDEKYRKMACEALK...  16.934836     6.359406   \n",
       "40  MAVPGYDFGKVPDAPISDADFESLKKTVMWGEEDEKYRKMACEALK...  17.609432     0.932284   \n",
       "90  MAVPGYDFGKVPDAPISDADFESLKKTVMWGEEDEKYRKMACEALK...  20.784105     0.784783   \n",
       "22  MAVPGYDFGKVPDAPISDADFESLKKTVMWGEEDEKYRKMACEALK...  21.623068     9.470078   \n",
       "..                                                ...        ...          ...   \n",
       "10  MAVPGYDFGKVPDAPISDADFESLKKTVMWGEEDEKYRKMACEALK...  82.274400    15.252473   \n",
       "25  MAVPGYDFGKVPDAPISDADFESLKKTVMWGEEDEKYRKMACEALK...  82.541131    10.950994   \n",
       "57  MAVPGYDFGKVPDAPISDADFESLKKTVMWGEEDEKYRKMACEALK...  82.691752    11.646061   \n",
       "56  MAVPGYDFGKVPDAPISDADFESLKKTVMWGEEDEKYRKMACEALK...  89.271628    10.153336   \n",
       "81  MAVPGYDFGKVPDAPISDADFESLKKTVMWGEEDEKYRKMACEALK...  91.813213    15.718841   \n",
       "\n",
       "    n_mut AA1 AA2 AA3 AA4 AA5 enzyme substrate substrate-smiles      cofactor  \\\n",
       "15      5   G   P   F   A   W  ParLQ         b   C=CC1=CC=CC=C1  carbene-heme   \n",
       "33      4   H   Y   M   A   Y  ParLQ         b   C=CC1=CC=CC=C1  carbene-heme   \n",
       "40      5   M   E   M   D   W  ParLQ         b   C=CC1=CC=CC=C1  carbene-heme   \n",
       "90      0   W   Y   L   Q   F  ParLQ         b   C=CC1=CC=CC=C1  carbene-heme   \n",
       "22      5   H   G   M   A   Y  ParLQ         b   C=CC1=CC=CC=C1  carbene-heme   \n",
       "..    ...  ..  ..  ..  ..  ..    ...       ...              ...           ...   \n",
       "10      4   F   Y   F   D   Y  ParLQ         b   C=CC1=CC=CC=C1  carbene-heme   \n",
       "25      5   H   K   F   D   Y  ParLQ         b   C=CC1=CC=CC=C1  carbene-heme   \n",
       "57      5   M   K   F   K   Y  ParLQ         b   C=CC1=CC=CC=C1  carbene-heme   \n",
       "56      5   M   K   F   D   Y  ParLQ         b   C=CC1=CC=CC=C1  carbene-heme   \n",
       "81      5   P   K   M   D   Y  ParLQ         b   C=CC1=CC=CC=C1  carbene-heme   \n",
       "\n",
       "                                      cofactor-smiles  product  product-smiles  \n",
       "15  C=CC1=C(C=C2C(C)=C(C=C)C3=[N]2[Fe]45(N6C(C(C)=...      NaN             NaN  \n",
       "33  C=CC1=C(C=C2C(C)=C(C=C)C3=[N]2[Fe]45(N6C(C(C)=...      NaN             NaN  \n",
       "40  C=CC1=C(C=C2C(C)=C(C=C)C3=[N]2[Fe]45(N6C(C(C)=...      NaN             NaN  \n",
       "90  C=CC1=C(C=C2C(C)=C(C=C)C3=[N]2[Fe]45(N6C(C(C)=...      NaN             NaN  \n",
       "22  C=CC1=C(C=C2C(C)=C(C=C)C3=[N]2[Fe]45(N6C(C(C)=...      NaN             NaN  \n",
       "..                                                ...      ...             ...  \n",
       "10  C=CC1=C(C=C2C(C)=C(C=C)C3=[N]2[Fe]45(N6C(C(C)=...      NaN             NaN  \n",
       "25  C=CC1=C(C=C2C(C)=C(C=C)C3=[N]2[Fe]45(N6C(C(C)=...      NaN             NaN  \n",
       "57  C=CC1=C(C=C2C(C)=C(C=C)C3=[N]2[Fe]45(N6C(C(C)=...      NaN             NaN  \n",
       "56  C=CC1=C(C=C2C(C)=C(C=C)C3=[N]2[Fe]45(N6C(C(C)=...      NaN             NaN  \n",
       "81  C=CC1=C(C=C2C(C)=C(C=C)C3=[N]2[Fe]45(N6C(C(C)=...      NaN             NaN  \n",
       "\n",
       "[91 rows x 18 columns]"
      ]
     },
     "execution_count": 6,
     "metadata": {},
     "output_type": "execute_result"
    }
   ],
   "source": [
    "df.sort_values(by=\"fitness\")"
   ]
  },
  {
   "cell_type": "code",
   "execution_count": 4,
   "metadata": {},
   "outputs": [],
   "source": [
    "import matplotlib.pyplot as plt"
   ]
  },
  {
   "cell_type": "code",
   "execution_count": 5,
   "metadata": {},
   "outputs": [
    {
     "data": {
      "text/plain": [
       "<matplotlib.collections.PathCollection at 0x7fd9ecc735d0>"
      ]
     },
     "execution_count": 5,
     "metadata": {},
     "output_type": "execute_result"
    },
    {
     "data": {
      "image/png": "[encoded data removed]",
      "text/plain": [
       "<Figure size 640x480 with 1 Axes>"
      ]
     },
     "metadata": {},
     "output_type": "display_data"
    }
   ],
   "source": [
    "plt.scatter(df[\"fitness\"], df[\"n_mut\"])"
   ]
  },
  {
   "cell_type": "code",
   "execution_count": null,
   "metadata": {},
   "outputs": [],
   "source": []
  }
 ],
 "metadata": {
  "kernelspec": {
   "display_name": "REVIVAL",
   "language": "python",
   "name": "python3"
  },
  "language_info": {
   "codemirror_mode": {
    "name": "ipython",
    "version": 3
   },
   "file_extension": ".py",
   "mimetype": "text/x-python",
   "name": "python",
   "nbconvert_exporter": "python",
   "pygments_lexer": "ipython3",
   "version": "3.11.11"
  }
 },
 "nbformat": 4,
 "nbformat_minor": 2
}
