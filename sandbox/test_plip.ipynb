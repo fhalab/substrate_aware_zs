{
 "cells": [
  {
   "cell_type": "code",
   "execution_count": 2,
   "metadata": {},
   "outputs": [
    {
     "name": "stdout",
     "output_type": "stream",
     "text": [
      "/disk2/fli/REVIVAL2\n"
     ]
    }
   ],
   "source": [
    "%cd ~/REVIVAL2"
   ]
  },
  {
   "cell_type": "code",
   "execution_count": 1,
   "metadata": {},
   "outputs": [],
   "source": [
    "import lxml"
   ]
  },
  {
   "cell_type": "code",
   "execution_count": 17,
   "metadata": {},
   "outputs": [],
   "source": [
    "from REVIVAL.zs.plip import plip_xml2dict"
   ]
  },
  {
   "cell_type": "code",
   "execution_count": 7,
   "metadata": {},
   "outputs": [
    {
     "data": {
      "text/plain": [
       "dict_keys(['plipversion', 'bindingsite', 'date_of_creation', 'citation_information', 'maintainer_information', 'mode', 'pdbid', 'model', 'filetype', 'pdbfile', 'pdbfixes', 'filename', 'excluded_ligands', 'covlinkages'])"
      ]
     },
     "execution_count": 7,
     "metadata": {},
     "output_type": "execute_result"
    }
   ],
   "source": [
    "result = plip_xml2dict(\"/disk2/fli/REVIVAL2/zs/plip/af3/struct_seperate/ParLQ/F89A_0/report.xml\")\n",
    "result.keys()"
   ]
  },
  {
   "cell_type": "code",
   "execution_count": 11,
   "metadata": {},
   "outputs": [
    {
     "data": {
      "text/plain": [
       "list"
      ]
     },
     "execution_count": 11,
     "metadata": {},
     "output_type": "execute_result"
    }
   ],
   "source": [
    "type(result[\"bindingsite\"])"
   ]
  },
  {
   "cell_type": "code",
   "execution_count": 15,
   "metadata": {},
   "outputs": [
    {
     "data": {
      "text/plain": [
       "'GLY'"
      ]
     },
     "execution_count": 15,
     "metadata": {},
     "output_type": "execute_result"
    }
   ],
   "source": [
    "result[\"bindingsite\"][0][\"bs_residues\"][\"bs_residue\"][0][\"@attributes\"][\"aa\"]"
   ]
  },
  {
   "cell_type": "code",
   "execution_count": 10,
   "metadata": {},
   "outputs": [
    {
     "data": {
      "text/plain": [
       "dict_keys(['@attributes', 'identifiers', 'lig_properties', 'interacting_chains', 'bs_residues', 'interactions', 'mappings'])"
      ]
     },
     "execution_count": 10,
     "metadata": {},
     "output_type": "execute_result"
    }
   ],
   "source": [
    "result[\"bindingsite\"].keys()"
   ]
  },
  {
   "cell_type": "code",
   "execution_count": 12,
   "metadata": {},
   "outputs": [
    {
     "data": {
      "text/plain": [
       "dict"
      ]
     },
     "execution_count": 12,
     "metadata": {},
     "output_type": "execute_result"
    }
   ],
   "source": [
    "type(plip_xml2dict(\"/disk2/fli/REVIVAL2/zs/plip/af3/struct_joint/ParLQ/F89A_0/report.xml\")[\"bindingsite\"])"
   ]
  },
  {
   "cell_type": "code",
   "execution_count": 24,
   "metadata": {},
   "outputs": [],
   "source": [
    "def get_plip_active_site_dict(xml_path: str) -> dict:\n",
    "    \"\"\"\n",
    "    Extracts the active site residues from a PLIP XML file.\n",
    "\n",
    "    Args:\n",
    "        xml_path (str): Path to the PLIP XML file.\n",
    "    \n",
    "    Returns:\n",
    "        dict: Dictionary of active site residues.\n",
    "            ie {12: 'MET', 26: 'LEU', 37: 'GLY'}\n",
    "    \"\"\"\n",
    "\n",
    "    # Parse the XML file\n",
    "    plip_dict = plip_xml2dict(xml_path)\n",
    "\n",
    "    # Extract the active site residues\n",
    "    active_site_dict = {}\n",
    "\n",
    "    bindingsite = plip_dict[\"bindingsite\"]\n",
    "\n",
    "    if isinstance(bindingsite, dict):\n",
    "        for i in bindingsite[\"bs_residues\"][\"bs_residue\"]:\n",
    "            active_site_dict[int(i[\"#text\"][:-1])] = i[\"@attributes\"][\"aa\"]\n",
    "    else:\n",
    "        for i in bindingsite:\n",
    "            for j in i[\"bs_residues\"][\"bs_residue\"]:\n",
    "                active_site_dict[int(j[\"#text\"][:-1])] = j[\"@attributes\"][\"aa\"]\n",
    "\n",
    "    return active_site_dict"
   ]
  },
  {
   "cell_type": "code",
   "execution_count": 25,
   "metadata": {},
   "outputs": [
    {
     "data": {
      "text/plain": [
       "{82: 'LEU',\n",
       " 112: 'ILE',\n",
       " 60: 'GLN',\n",
       " 181: 'TRP',\n",
       " 132: 'HIS',\n",
       " 122: 'GLY',\n",
       " 58: 'GLY',\n",
       " 109: 'MET',\n",
       " 92: 'TRP',\n",
       " 177: 'GLN',\n",
       " 141: 'PHE',\n",
       " 126: 'GLY',\n",
       " 185: 'TYR',\n",
       " 81: 'TYR',\n",
       " 127: 'VAL',\n",
       " 137: 'TYR',\n",
       " 53: 'LEU',\n",
       " 7: 'ASP',\n",
       " 123: 'LYS',\n",
       " 85: 'VAL',\n",
       " 138: 'MET',\n",
       " 115: 'ARG',\n",
       " 64: 'GLN',\n",
       " 89: 'ALA',\n",
       " 86: 'ARG',\n",
       " 66: 'LEU',\n",
       " 88: 'ARG',\n",
       " 56: 'TRP',\n",
       " 129: 'THR',\n",
       " 130: 'VAL',\n",
       " 61: 'GLY',\n",
       " 124: 'THR',\n",
       " 68: 'TYR',\n",
       " 114: 'LEU',\n",
       " 139: 'ILE',\n",
       " 125: 'ASP',\n",
       " 111: 'GLU',\n",
       " 134: 'PRO',\n",
       " 67: 'ILE',\n",
       " 69: 'TYR',\n",
       " 62: 'SER',\n",
       " 175: 'VAL',\n",
       " 93: 'ILE',\n",
       " 6: 'TYR',\n",
       " 84: 'ALA',\n",
       " 170: 'TRP',\n",
       " 121: 'LYS',\n",
       " 144: 'PRO',\n",
       " 136: 'ARG',\n",
       " 87: 'LYS',\n",
       " 91: 'LEU',\n",
       " 174: 'VAL',\n",
       " 90: 'GLY',\n",
       " 117: 'HIS',\n",
       " 96: 'THR',\n",
       " 59: 'LEU',\n",
       " 55: 'LEU',\n",
       " 71: 'GLY',\n",
       " 113: 'GLY',\n",
       " 133: 'ILE',\n",
       " 143: 'ALA',\n",
       " 116: 'HIS',\n",
       " 140: 'ALA',\n",
       " 5: 'GLY',\n",
       " 135: 'LEU',\n",
       " 173: 'LEU',\n",
       " 145: 'ILE',\n",
       " 120: 'LYS',\n",
       " 70: 'PHE',\n",
       " 142: 'ILE',\n",
       " 178: 'VAL',\n",
       " 148: 'THR',\n",
       " 146: 'GLY',\n",
       " 65: 'HIS',\n",
       " 57: 'TYR',\n",
       " 4: 'PRO',\n",
       " 63: 'ASN',\n",
       " 108: 'TYR'}"
      ]
     },
     "execution_count": 25,
     "metadata": {},
     "output_type": "execute_result"
    }
   ],
   "source": [
    "get_plip_active_site_dict(xml_path=\"/disk2/fli/REVIVAL2/zs/plip/af3/struct_joint/ParLQ/F89A_0/report.xml\")"
   ]
  },
  {
   "cell_type": "code",
   "execution_count": 26,
   "metadata": {},
   "outputs": [
    {
     "name": "stdout",
     "output_type": "stream",
     "text": [
      "{'@attributes': {'id': '1', 'has_interactions': 'True'}, 'identifiers': {'longname': 'LIG', 'ligtype': 'SMALLMOLECULE', 'hetid': 'LIG', 'chain': 'B', 'position': '0', 'composite': 'False', 'members': {'member': {'@attributes': {'id': '1'}, '#text': 'LIG:B:0'}}, 'smiles': 'COc1ccc(cc1)C=C', 'inchikey': 'UAJRSHJHFRVGMG-UHFFFAOYSA-N\\n'}, 'lig_properties': {'num_heavy_atoms': '10', 'num_hbd': '0', 'num_unpaired_hbd': '0', 'num_hba': '1', 'num_unpaired_hba': '0', 'num_hal': '0', 'num_unpaired_hal': '0', 'num_aromatic_rings': '1', 'num_rotatable_bonds': '2', 'molweight': '134.17510000000001', 'logp': '2.3381999999999996'}, 'interacting_chains': {'interacting_chain': {'@attributes': {'id': '1'}, '#text': 'A'}}, 'bs_residues': {'bs_residue': [{'@attributes': {'id': '1', 'contact': 'False', 'min_dist': '6.2', 'aa': 'GLY'}, '#text': '61A'}, {'@attributes': {'id': '2', 'contact': 'False', 'min_dist': '5.0', 'aa': 'ILE'}, '#text': '67A'}, {'@attributes': {'id': '3', 'contact': 'False', 'min_dist': '6.7', 'aa': 'PRO'}, '#text': '144A'}, {'@attributes': {'id': '4', 'contact': 'False', 'min_dist': '7.3', 'aa': 'LEU'}, '#text': '82A'}, {'@attributes': {'id': '5', 'contact': 'True', 'min_dist': '3.5', 'aa': 'ILE'}, '#text': '145A'}, {'@attributes': {'id': '6', 'contact': 'False', 'min_dist': '6.6', 'aa': 'HIS'}, '#text': '65A'}, {'@attributes': {'id': '7', 'contact': 'False', 'min_dist': '7.2', 'aa': 'ILE'}, '#text': '52A'}, {'@attributes': {'id': '8', 'contact': 'False', 'min_dist': '5.9', 'aa': 'SER'}, '#text': '62A'}, {'@attributes': {'id': '9', 'contact': 'False', 'min_dist': '4.4', 'aa': 'PHE'}, '#text': '70A'}, {'@attributes': {'id': '10', 'contact': 'False', 'min_dist': '3.6', 'aa': 'LEU'}, '#text': '59A'}, {'@attributes': {'id': '11', 'contact': 'False', 'min_dist': '4.6', 'aa': 'TYR'}, '#text': '57A'}, {'@attributes': {'id': '12', 'contact': 'False', 'min_dist': '6.1', 'aa': 'ALA'}, '#text': '89A'}, {'@attributes': {'id': '13', 'contact': 'False', 'min_dist': '3.1', 'aa': 'ASN'}, '#text': '63A'}, {'@attributes': {'id': '14', 'contact': 'False', 'min_dist': '6.4', 'aa': 'LEU'}, '#text': '55A'}, {'@attributes': {'id': '15', 'contact': 'False', 'min_dist': '7.0', 'aa': 'VAL'}, '#text': '85A'}, {'@attributes': {'id': '16', 'contact': 'False', 'min_dist': '6.3', 'aa': 'GLN'}, '#text': '64A'}, {'@attributes': {'id': '17', 'contact': 'True', 'min_dist': '3.3', 'aa': 'TRP'}, '#text': '56A'}, {'@attributes': {'id': '18', 'contact': 'False', 'min_dist': '6.3', 'aa': 'GLY'}, '#text': '58A'}, {'@attributes': {'id': '19', 'contact': 'False', 'min_dist': '3.7', 'aa': 'LEU'}, '#text': '66A'}, {'@attributes': {'id': '20', 'contact': 'True', 'min_dist': '3.1', 'aa': 'PHE'}, '#text': '141A'}, {'@attributes': {'id': '21', 'contact': 'True', 'min_dist': '2.8', 'aa': 'GLN'}, '#text': '60A'}, {'@attributes': {'id': '22', 'contact': 'False', 'min_dist': '6.3', 'aa': 'LEU'}, '#text': '53A'}]}, 'interactions': {'hydrophobic_interactions': {'hydrophobic_interaction': [{'@attributes': {'id': '1'}, 'resnr': '56', 'restype': 'TRP', 'reschain': 'A', 'resnr_lig': '0', 'restype_lig': 'LIG', 'reschain_lig': 'B', 'dist': '3.55', 'ligcarbonidx': '1557', 'protcarbonidx': '442', 'ligcoo': {'x': '0.446', 'y': '-0.587', 'z': '-5.213'}, 'protcoo': {'x': '-2.100', 'y': '1.872', 'z': '-5.444'}}, {'@attributes': {'id': '2'}, 'resnr': '56', 'restype': 'TRP', 'reschain': 'A', 'resnr_lig': '0', 'restype_lig': 'LIG', 'reschain_lig': 'B', 'dist': '3.77', 'ligcarbonidx': '1566', 'protcarbonidx': '436', 'ligcoo': {'x': '1.958', 'y': '-0.767', 'z': '-8.027'}, 'protcoo': {'x': '-0.952', 'y': '1.582', 'z': '-8.528'}}, {'@attributes': {'id': '3'}, 'resnr': '141', 'restype': 'PHE', 'reschain': 'A', 'resnr_lig': '0', 'restype_lig': 'LIG', 'reschain_lig': 'B', 'dist': '3.75', 'ligcarbonidx': '1557', 'protcarbonidx': '1154', 'ligcoo': {'x': '0.446', 'y': '-0.587', 'z': '-5.213'}, 'protcoo': {'x': '4.161', 'y': '-0.087', 'z': '-5.247'}}, {'@attributes': {'id': '4'}, 'resnr': '145', 'restype': 'ILE', 'reschain': 'A', 'resnr_lig': '0', 'restype_lig': 'LIG', 'reschain_lig': 'B', 'dist': '3.51', 'ligcarbonidx': '1557', 'protcarbonidx': '1183', 'ligcoo': {'x': '0.446', 'y': '-0.587', 'z': '-5.213'}, 'protcoo': {'x': '1.754', 'y': '2.561', 'z': '-4.370'}}]}, 'hydrogen_bonds': {'hydrogen_bond': {'@attributes': {'id': '1'}, 'resnr': '60', 'restype': 'GLN', 'reschain': 'A', 'resnr_lig': '0', 'restype_lig': 'LIG', 'reschain_lig': 'B', 'sidechain': 'True', 'dist_h-a': '2.34', 'dist_d-a': '2.97', 'don_angle': '120.53', 'protisdon': 'True', 'donoridx': '478', 'donortype': 'Nam', 'acceptoridx': '1563', 'acceptortype': 'O3', 'ligcoo': {'x': '4.861', 'y': '-2.133', 'z': '-9.740'}, 'protcoo': {'x': '2.293', 'y': '-3.141', 'z': '-10.831'}}}, 'water_bridges': None, 'salt_bridges': None, 'pi_stacks': {'pi_stack': {'@attributes': {'id': '1'}, 'resnr': '141', 'restype': 'PHE', 'reschain': 'A', 'resnr_lig': '0', 'restype_lig': 'LIG', 'reschain_lig': 'B', 'prot_idx_list': {'idx': [{'@attributes': {'id': '1'}, '#text': '1150'}, {'@attributes': {'id': '2'}, '#text': '1151'}, {'@attributes': {'id': '3'}, '#text': '1152'}, {'@attributes': {'id': '4'}, '#text': '1153'}, {'@attributes': {'id': '5'}, '#text': '1154'}, {'@attributes': {'id': '6'}, '#text': '1155'}]}, 'centdist': '4.26', 'angle': '71.06', 'offset': '0.16', 'type': 'T', 'lig_idx_list': {'idx': [{'@attributes': {'id': '1'}, '#text': '1559'}, {'@attributes': {'id': '2'}, '#text': '1560'}, {'@attributes': {'id': '3'}, '#text': '1561'}, {'@attributes': {'id': '4'}, '#text': '1562'}, {'@attributes': {'id': '5'}, '#text': '1565'}, {'@attributes': {'id': '6'}, '#text': '1566'}]}, 'ligcoo': {'x': '2.801', 'y': '-1.852', 'z': '-7.955'}, 'protcoo': {'x': '5.467', 'y': '0.334', 'z': '-5.450'}}}, 'pi_cation_interactions': None, 'halogen_bonds': None, 'metal_complexes': None}, 'mappings': {'smiles_to_pdb': '1:1557,2:1558,3:1559,4:1560,5:1561,6:1562,9:1563,10:1564,7:1565,8:1566'}}\n",
      "{'@attributes': {'id': '2', 'has_interactions': 'True'}, 'identifiers': {'longname': 'LIG', 'ligtype': 'SMALLMOLECULE', 'hetid': 'LIG', 'chain': 'C', 'position': '0', 'composite': 'False', 'members': {'member': {'@attributes': {'id': '1'}, '#text': 'LIG:C:0'}}, 'smiles': 'CCOC(=O)C[Fe]123[N]4=C5C=c6n3c(=CC3=[N]1C(=Cc1n2c(C=C4C(=C5C)CCC(=O)O)c(c1C)CCC(=O)O)C(=C3C)CC)c(c6C)CC', 'inchikey': 'GREGTTGMKHBRQJ-HXFTUNQESA-L\\n'}, 'lig_properties': {'num_heavy_atoms': '49', 'num_hbd': '2', 'num_unpaired_hbd': '1', 'num_hba': '5', 'num_unpaired_hba': '2', 'num_hal': '0', 'num_unpaired_hal': '0', 'num_aromatic_rings': '4', 'num_rotatable_bonds': '12', 'molweight': '707.6162200000002', 'logp': '4.2702'}, 'interacting_chains': {'interacting_chain': [{'@attributes': {'id': '1'}, '#text': 'A'}, {'@attributes': {'id': '2'}, '#text': 'C'}]}, 'bs_residues': {'bs_residue': [{'@attributes': {'id': '1', 'contact': 'False', 'min_dist': '6.5', 'aa': 'LYS'}, '#text': '87A'}, {'@attributes': {'id': '2', 'contact': 'False', 'min_dist': '5.9', 'aa': 'TYR'}, '#text': '6A'}, {'@attributes': {'id': '3', 'contact': 'False', 'min_dist': '5.8', 'aa': 'ILE'}, '#text': '67A'}, {'@attributes': {'id': '4', 'contact': 'True', 'min_dist': '2.7', 'aa': 'ARG'}, '#text': '88A'}, {'@attributes': {'id': '5', 'contact': 'True', 'min_dist': '3.5', 'aa': 'PHE'}, '#text': '141A'}, {'@attributes': {'id': '6', 'contact': 'False', 'min_dist': '5.6', 'aa': 'LEU'}, '#text': '82A'}, {'@attributes': {'id': '7', 'contact': 'False', 'min_dist': '6.9', 'aa': 'LEU'}, '#text': '135A'}, {'@attributes': {'id': '8', 'contact': 'False', 'min_dist': '7.0', 'aa': 'PRO'}, '#text': '144A'}, {'@attributes': {'id': '9', 'contact': 'False', 'min_dist': '4.5', 'aa': 'THR'}, '#text': '124A'}, {'@attributes': {'id': '10', 'contact': 'False', 'min_dist': '4.1', 'aa': 'ILE'}, '#text': '145A'}, {'@attributes': {'id': '11', 'contact': 'False', 'min_dist': '3.6', 'aa': 'LYS'}, '#text': '121A'}, {'@attributes': {'id': '12', 'contact': 'False', 'min_dist': '5.9', 'aa': 'HIS'}, '#text': '65A'}, {'@attributes': {'id': '13', 'contact': 'False', 'min_dist': '4.7', 'aa': 'ILE'}, '#text': '142A'}, {'@attributes': {'id': '14', 'contact': 'True', 'min_dist': '3.9', 'aa': 'TYR'}, '#text': '108A'}, {'@attributes': {'id': '15', 'contact': 'False', 'min_dist': '5.2', 'aa': 'GLN'}, '#text': '177A'}, {'@attributes': {'id': '16', 'contact': 'True', 'min_dist': '2.3', 'aa': 'HIS'}, '#text': '116A'}, {'@attributes': {'id': '17', 'contact': 'False', 'min_dist': '5.4', 'aa': 'THR'}, '#text': '129A'}, {'@attributes': {'id': '18', 'contact': 'False', 'min_dist': '5.6', 'aa': 'PRO'}, '#text': '134A'}, {'@attributes': {'id': '19', 'contact': 'False', 'min_dist': '6.0', 'aa': 'ILE'}, '#text': '93A'}, {'@attributes': {'id': '20', 'contact': 'False', 'min_dist': '7.1', 'aa': 'MET'}, '#text': '109A'}, {'@attributes': {'id': '21', 'contact': 'True', 'min_dist': '2.7', 'aa': 'GLY'}, '#text': '122A'}, {'@attributes': {'id': '22', 'contact': 'True', 'min_dist': '3.9', 'aa': 'ILE'}, '#text': '112A'}, {'@attributes': {'id': '23', 'contact': 'False', 'min_dist': '6.8', 'aa': 'LEU'}, '#text': '114A'}, {'@attributes': {'id': '24', 'contact': 'False', 'min_dist': '5.6', 'aa': 'ALA'}, '#text': '84A'}, {'@attributes': {'id': '25', 'contact': 'False', 'min_dist': '5.7', 'aa': 'VAL'}, '#text': '127A'}, {'@attributes': {'id': '26', 'contact': 'False', 'min_dist': '4.1', 'aa': 'VAL'}, '#text': '174A'}, {'@attributes': {'id': '27', 'contact': 'True', 'min_dist': '3.4', 'aa': 'PHE'}, '#text': '70A'}, {'@attributes': {'id': '28', 'contact': 'False', 'min_dist': '6.6', 'aa': 'VAL'}, '#text': '175A'}, {'@attributes': {'id': '29', 'contact': 'False', 'min_dist': '4.8', 'aa': 'LYS'}, '#text': '123A'}, {'@attributes': {'id': '30', 'contact': 'False', 'min_dist': '7.3', 'aa': 'GLY'}, '#text': '146A'}, {'@attributes': {'id': '31', 'contact': 'False', 'min_dist': '7.3', 'aa': 'HIS'}, '#text': '132A'}, {'@attributes': {'id': '32', 'contact': 'False', 'min_dist': '4.8', 'aa': 'ASP'}, '#text': '125A'}, {'@attributes': {'id': '33', 'contact': 'False', 'min_dist': '6.4', 'aa': 'GLU'}, '#text': '111A'}, {'@attributes': {'id': '34', 'contact': 'False', 'min_dist': '6.8', 'aa': 'VAL'}, '#text': '130A'}, {'@attributes': {'id': '35', 'contact': 'True', 'min_dist': '3.4', 'aa': 'TYR'}, '#text': '137A'}, {'@attributes': {'id': '36', 'contact': 'False', 'min_dist': '6.2', 'aa': 'GLY'}, '#text': '90A'}, {'@attributes': {'id': '37', 'contact': 'True', 'min_dist': '2.9', 'aa': 'TYR'}, '#text': '57A'}, {'@attributes': {'id': '38', 'contact': 'True', 'min_dist': '2.4', 'aa': 'TYR'}, '#text': '81A'}, {'@attributes': {'id': '39', 'contact': 'True', 'min_dist': '3.6', 'aa': 'ALA'}, '#text': '89A'}, {'@attributes': {'id': '40', 'contact': 'True', 'min_dist': '3.3', 'aa': 'TRP'}, '#text': '92A'}, {'@attributes': {'id': '41', 'contact': 'False', 'min_dist': '6.6', 'aa': 'TRP'}, '#text': '170A'}, {'@attributes': {'id': '42', 'contact': 'False', 'min_dist': '4.2', 'aa': 'VAL'}, '#text': '178A'}, {'@attributes': {'id': '43', 'contact': 'False', 'min_dist': '6.6', 'aa': 'GLY'}, '#text': '71A'}, {'@attributes': {'id': '44', 'contact': 'False', 'min_dist': '3.8', 'aa': 'MET'}, '#text': '138A'}, {'@attributes': {'id': '45', 'contact': 'False', 'min_dist': '7.4', 'aa': 'ASN'}, '#text': '63A'}, {'@attributes': {'id': '46', 'contact': 'False', 'min_dist': '6.8', 'aa': 'LEU'}, '#text': '91A'}, {'@attributes': {'id': '47', 'contact': 'False', 'min_dist': '4.3', 'aa': 'ARG'}, '#text': '86A'}, {'@attributes': {'id': '48', 'contact': 'False', 'min_dist': '6.6', 'aa': 'ARG'}, '#text': '136A'}, {'@attributes': {'id': '49', 'contact': 'False', 'min_dist': '5.0', 'aa': 'GLY'}, '#text': '5A'}, {'@attributes': {'id': '50', 'contact': 'True', 'min_dist': '3.6', 'aa': 'VAL'}, '#text': '85A'}, {'@attributes': {'id': '51', 'contact': 'False', 'min_dist': '6.7', 'aa': 'HIS'}, '#text': '117A'}, {'@attributes': {'id': '52', 'contact': 'False', 'min_dist': '6.0', 'aa': 'ILE'}, '#text': '139A'}, {'@attributes': {'id': '53', 'contact': 'True', 'min_dist': '3.6', 'aa': 'ILE'}, '#text': '133A'}, {'@attributes': {'id': '54', 'contact': 'True', 'min_dist': '2.9', 'aa': 'ARG'}, '#text': '115A'}, {'@attributes': {'id': '55', 'contact': 'False', 'min_dist': '7.5', 'aa': 'TYR'}, '#text': '185A'}, {'@attributes': {'id': '56', 'contact': 'False', 'min_dist': '5.7', 'aa': 'TRP'}, '#text': '56A'}, {'@attributes': {'id': '57', 'contact': 'False', 'min_dist': '7.0', 'aa': 'THR'}, '#text': '96A'}, {'@attributes': {'id': '58', 'contact': 'False', 'min_dist': '7.1', 'aa': 'ALA'}, '#text': '143A'}, {'@attributes': {'id': '59', 'contact': 'True', 'min_dist': '3.4', 'aa': 'TYR'}, '#text': '69A'}, {'@attributes': {'id': '60', 'contact': 'True', 'min_dist': '3.7', 'aa': 'LEU'}, '#text': '66A'}, {'@attributes': {'id': '61', 'contact': 'False', 'min_dist': '6.1', 'aa': 'ALA'}, '#text': '140A'}, {'@attributes': {'id': '62', 'contact': 'False', 'min_dist': '6.8', 'aa': 'GLY'}, '#text': '113A'}, {'@attributes': {'id': '63', 'contact': 'True', 'min_dist': '3.4', 'aa': 'TRP'}, '#text': '181A'}, {'@attributes': {'id': '64', 'contact': 'False', 'min_dist': '6.8', 'aa': 'TYR'}, '#text': '68A'}, {'@attributes': {'id': '65', 'contact': 'False', 'min_dist': '5.8', 'aa': 'GLN'}, '#text': '60A'}, {'@attributes': {'id': '66', 'contact': 'False', 'min_dist': '4.7', 'aa': 'LEU'}, '#text': '53A'}, {'@attributes': {'id': '67', 'contact': 'False', 'min_dist': '4.6', 'aa': 'LYS'}, '#text': '120A'}]}, 'interactions': {'hydrophobic_interactions': {'hydrophobic_interaction': [{'@attributes': {'id': '1'}, 'resnr': '57', 'restype': 'TYR', 'reschain': 'A', 'resnr_lig': '0', 'restype_lig': 'LIG', 'reschain_lig': 'C', 'dist': '2.94', 'ligcarbonidx': '1588', 'protcarbonidx': '454', 'ligcoo': {'x': '-2.454', 'y': '-3.774', 'z': '-5.811'}, 'protcoo': {'x': '-2.468', 'y': '-3.674', 'z': '-8.748'}}, {'@attributes': {'id': '2'}, 'resnr': '66', 'restype': 'LEU', 'reschain': 'A', 'resnr_lig': '0', 'restype_lig': 'LIG', 'reschain_lig': 'C', 'dist': '3.69', 'ligcarbonidx': '1577', 'protcarbonidx': '523', 'ligcoo': {'x': '7.844', 'y': '-2.583', 'z': '-4.385'}, 'protcoo': {'x': '9.628', 'y': '-3.932', 'z': '-7.320'}}, {'@attributes': {'id': '3'}, 'resnr': '69', 'restype': 'TYR', 'reschain': 'A', 'resnr_lig': '0', 'restype_lig': 'LIG', 'reschain_lig': 'C', 'dist': '3.65', 'ligcarbonidx': '1579', 'protcarbonidx': '551', 'ligcoo': {'x': '6.661', 'y': '-5.931', 'z': '-5.018'}, 'protcoo': {'x': '8.871', 'y': '-8.504', 'z': '-6.362'}}, {'@attributes': {'id': '4'}, 'resnr': '70', 'restype': 'PHE', 'reschain': 'A', 'resnr_lig': '0', 'restype_lig': 'LIG', 'reschain_lig': 'C', 'dist': '3.54', 'ligcarbonidx': '1608', 'protcarbonidx': '566', 'ligcoo': {'x': '2.127', 'y': '-8.366', 'z': '-3.475'}, 'protcoo': {'x': '0.746', 'y': '-7.294', 'z': '-6.553'}}, {'@attributes': {'id': '5'}, 'resnr': '70', 'restype': 'PHE', 'reschain': 'A', 'resnr_lig': '0', 'restype_lig': 'LIG', 'reschain_lig': 'C', 'dist': '3.76', 'ligcarbonidx': '1607', 'protcarbonidx': '565', 'ligcoo': {'x': '3.681', 'y': '-6.496', 'z': '-4.219'}, 'protcoo': {'x': '1.826', 'y': '-7.154', 'z': '-7.421'}}, {'@attributes': {'id': '6'}, 'resnr': '81', 'restype': 'TYR', 'reschain': 'A', 'resnr_lig': '0', 'restype_lig': 'LIG', 'reschain_lig': 'C', 'dist': '3.88', 'ligcarbonidx': '1611', 'protcarbonidx': '648', 'ligcoo': {'x': '0.292', 'y': '-9.661', 'z': '-2.174'}, 'protcoo': {'x': '-0.802', 'y': '-12.979', 'z': '-3.851'}}, {'@attributes': {'id': '7'}, 'resnr': '85', 'restype': 'VAL', 'reschain': 'A', 'resnr_lig': '0', 'restype_lig': 'LIG', 'reschain_lig': 'C', 'dist': '3.66', 'ligcarbonidx': '1603', 'protcarbonidx': '679', 'ligcoo': {'x': '-0.183', 'y': '-6.686', 'z': '-1.233'}, 'protcoo': {'x': '-2.706', 'y': '-7.354', 'z': '-3.792'}}, {'@attributes': {'id': '8'}, 'resnr': '85', 'restype': 'VAL', 'reschain': 'A', 'resnr_lig': '0', 'restype_lig': 'LIG', 'reschain_lig': 'C', 'dist': '3.60', 'ligcarbonidx': '1611', 'protcarbonidx': '680', 'ligcoo': {'x': '0.292', 'y': '-9.661', 'z': '-2.174'}, 'protcoo': {'x': '-2.872', 'y': '-9.847', 'z': '-3.878'}}, {'@attributes': {'id': '9'}, 'resnr': '89', 'restype': 'ALA', 'reschain': 'A', 'resnr_lig': '0', 'restype_lig': 'LIG', 'reschain_lig': 'C', 'dist': '3.60', 'ligcarbonidx': '1588', 'protcarbonidx': '716', 'ligcoo': {'x': '-2.454', 'y': '-3.774', 'z': '-5.811'}, 'protcoo': {'x': '-4.788', 'y': '-2.921', 'z': '-3.204'}}, {'@attributes': {'id': '10'}, 'resnr': '92', 'restype': 'TRP', 'reschain': 'A', 'resnr_lig': '0', 'restype_lig': 'LIG', 'reschain_lig': 'C', 'dist': '3.29', 'ligcarbonidx': '1594', 'protcarbonidx': '734', 'ligcoo': {'x': '-2.563', 'y': '-2.562', 'z': '0.416'}, 'protcoo': {'x': '-4.158', 'y': '-0.302', 'z': '2.197'}}, {'@attributes': {'id': '11'}, 'resnr': '92', 'restype': 'TRP', 'reschain': 'A', 'resnr_lig': '0', 'restype_lig': 'LIG', 'reschain_lig': 'C', 'dist': '3.66', 'ligcarbonidx': '1568', 'protcarbonidx': '742', 'ligcoo': {'x': '1.614', 'y': '0.792', 'z': '0.015'}, 'protcoo': {'x': '-1.465', 'y': '2.608', 'z': '0.802'}}, {'@attributes': {'id': '12'}, 'resnr': '92', 'restype': 'TRP', 'reschain': 'A', 'resnr_lig': '0', 'restype_lig': 'LIG', 'reschain_lig': 'C', 'dist': '3.70', 'ligcarbonidx': '1567', 'protcarbonidx': '740', 'ligcoo': {'x': '2.095', 'y': '1.473', 'z': '1.190'}, 'protcoo': {'x': '-1.438', 'y': '2.114', 'z': '2.086'}}, {'@attributes': {'id': '13'}, 'resnr': '112', 'restype': 'ILE', 'reschain': 'A', 'resnr_lig': '0', 'restype_lig': 'LIG', 'reschain_lig': 'C', 'dist': '3.89', 'ligcarbonidx': '1597', 'protcarbonidx': '917', 'ligcoo': {'x': '-2.677', 'y': '-6.618', 'z': '1.180'}, 'protcoo': {'x': '-0.609', 'y': '-4.564', 'z': '3.762'}}, {'@attributes': {'id': '14'}, 'resnr': '133', 'restype': 'ILE', 'reschain': 'A', 'resnr_lig': '0', 'restype_lig': 'LIG', 'reschain_lig': 'C', 'dist': '3.92', 'ligcarbonidx': '1608', 'protcarbonidx': '1085', 'ligcoo': {'x': '2.127', 'y': '-8.366', 'z': '-3.475'}, 'protcoo': {'x': '5.719', 'y': '-8.288', 'z': '-1.904'}}, {'@attributes': {'id': '15'}, 'resnr': '133', 'restype': 'ILE', 'reschain': 'A', 'resnr_lig': '0', 'restype_lig': 'LIG', 'reschain_lig': 'C', 'dist': '3.94', 'ligcarbonidx': '1576', 'protcarbonidx': '1084', 'ligcoo': {'x': '7.542', 'y': '-3.413', 'z': '-3.225'}, 'protcoo': {'x': '8.544', 'y': '-6.943', 'z': '-1.797'}}, {'@attributes': {'id': '16'}, 'resnr': '137', 'restype': 'TYR', 'reschain': 'A', 'resnr_lig': '0', 'restype_lig': 'LIG', 'reschain_lig': 'C', 'dist': '3.67', 'ligcarbonidx': '1577', 'protcarbonidx': '1116', 'ligcoo': {'x': '7.844', 'y': '-2.583', 'z': '-4.385'}, 'protcoo': {'x': '11.226', 'y': '-3.561', 'z': '-3.350'}}, {'@attributes': {'id': '17'}, 'resnr': '141', 'restype': 'PHE', 'reschain': 'A', 'resnr_lig': '0', 'restype_lig': 'LIG', 'reschain_lig': 'C', 'dist': '3.74', 'ligcarbonidx': '1571', 'protcarbonidx': '1149', 'ligcoo': {'x': '4.802', 'y': '0.278', 'z': '-0.382'}, 'protcoo': {'x': '7.235', 'y': '0.775', 'z': '-3.172'}}, {'@attributes': {'id': '18'}, 'resnr': '141', 'restype': 'PHE', 'reschain': 'A', 'resnr_lig': '0', 'restype_lig': 'LIG', 'reschain_lig': 'C', 'dist': '3.49', 'ligcarbonidx': '1577', 'protcarbonidx': '1150', 'ligcoo': {'x': '7.844', 'y': '-2.583', 'z': '-4.385'}, 'protcoo': {'x': '6.318', 'y': '0.557', 'z': '-4.353'}}, {'@attributes': {'id': '19'}, 'resnr': '181', 'restype': 'TRP', 'reschain': 'A', 'resnr_lig': '0', 'restype_lig': 'LIG', 'reschain_lig': 'C', 'dist': '3.46', 'ligcarbonidx': '1567', 'protcarbonidx': '1470', 'ligcoo': {'x': '2.095', 'y': '1.473', 'z': '1.190'}, 'protcoo': {'x': '1.546', 'y': '-1.466', 'z': '2.935'}}]}, 'hydrogen_bonds': {'hydrogen_bond': [{'@attributes': {'id': '1'}, 'resnr': '81', 'restype': 'TYR', 'reschain': 'A', 'resnr_lig': '0', 'restype_lig': 'LIG', 'reschain_lig': 'C', 'sidechain': 'True', 'dist_h-a': '1.51', 'dist_d-a': '2.42', 'don_angle': '164.22', 'protisdon': 'True', 'donoridx': '651', 'donortype': 'O3', 'acceptoridx': '1615', 'acceptortype': 'O.co2', 'ligcoo': {'x': '0.530', 'y': '-12.575', 'z': '-0.754'}, 'protcoo': {'x': '1.437', 'y': '-12.746', 'z': '-2.992'}}, {'@attributes': {'id': '2'}, 'resnr': '108', 'restype': 'TYR', 'reschain': 'A', 'resnr_lig': '0', 'restype_lig': 'LIG', 'reschain_lig': 'C', 'sidechain': 'True', 'dist_h-a': '3.54', 'dist_d-a': '3.94', 'don_angle': '108.75', 'protisdon': 'False', 'donoridx': '1599', 'donortype': 'O.co2', 'acceptoridx': '881', 'acceptortype': 'O3', 'ligcoo': {'x': '-4.630', 'y': '-7.550', 'z': '2.187'}, 'protcoo': {'x': '-7.015', 'y': '-7.447', 'z': '5.319'}}, {'@attributes': {'id': '3'}, 'resnr': '122', 'restype': 'GLY', 'reschain': 'A', 'resnr_lig': '0', 'restype_lig': 'LIG', 'reschain_lig': 'C', 'sidechain': 'False', 'dist_h-a': '1.74', 'dist_d-a': '2.68', 'don_angle': '158.53', 'protisdon': 'True', 'donoridx': '998', 'donortype': 'Nam', 'acceptoridx': '1615', 'acceptortype': 'O.co2', 'ligcoo': {'x': '0.530', 'y': '-12.575', 'z': '-0.754'}, 'protcoo': {'x': '1.402', 'y': '-14.981', 'z': '0.033'}}]}, 'water_bridges': None, 'salt_bridges': {'salt_bridge': [{'@attributes': {'id': '1'}, 'resnr': '88', 'restype': 'ARG', 'reschain': 'A', 'prot_idx_list': {'idx': [{'@attributes': {'id': '1'}, '#text': '708'}, {'@attributes': {'id': '2'}, '#text': '710'}, {'@attributes': {'id': '3'}, '#text': '711'}]}, 'resnr_lig': '0', 'restype_lig': 'LIG', 'reschain_lig': 'C', 'dist': '3.84', 'protispos': 'True', 'lig_group': 'Carboxylate', 'lig_idx_list': {'idx': [{'@attributes': {'id': '1'}, '#text': '1600'}, {'@attributes': {'id': '2'}, '#text': '1599'}]}, 'ligcoo': {'x': '-4.271', 'y': '-8.011', 'z': '1.271'}, 'protcoo': {'x': '-6.237', 'y': '-10.777', 'z': '-0.518'}}, {'@attributes': {'id': '2'}, 'resnr': '115', 'restype': 'ARG', 'reschain': 'A', 'prot_idx_list': {'idx': [{'@attributes': {'id': '1'}, '#text': '938'}, {'@attributes': {'id': '2'}, '#text': '940'}, {'@attributes': {'id': '3'}, '#text': '941'}]}, 'resnr_lig': '0', 'restype_lig': 'LIG', 'reschain_lig': 'C', 'dist': '4.34', 'protispos': 'True', 'lig_group': 'Carboxylate', 'lig_idx_list': {'idx': [{'@attributes': {'id': '1'}, '#text': '1600'}, {'@attributes': {'id': '2'}, '#text': '1599'}]}, 'ligcoo': {'x': '-4.271', 'y': '-8.011', 'z': '1.271'}, 'protcoo': {'x': '-4.627', 'y': '-10.494', 'z': '4.813'}}]}, 'pi_stacks': {'pi_stack': {'@attributes': {'id': '1'}, 'resnr': '181', 'restype': 'TRP', 'reschain': 'A', 'resnr_lig': '0', 'restype_lig': 'LIG', 'reschain_lig': 'C', 'prot_idx_list': {'idx': [{'@attributes': {'id': '1'}, '#text': '1464'}, {'@attributes': {'id': '2'}, '#text': '1466'}, {'@attributes': {'id': '3'}, '#text': '1467'}, {'@attributes': {'id': '4'}, '#text': '1468'}, {'@attributes': {'id': '5'}, '#text': '1469'}, {'@attributes': {'id': '6'}, '#text': '1470'}]}, 'centdist': '4.90', 'angle': '82.98', 'offset': '1.62', 'type': 'T', 'lig_idx_list': {'idx': [{'@attributes': {'id': '1'}, '#text': '1569'}, {'@attributes': {'id': '2'}, '#text': '1570'}, {'@attributes': {'id': '3'}, '#text': '1572'}, {'@attributes': {'id': '4'}, '#text': '1589'}, {'@attributes': {'id': '5'}, '#text': '1590'}]}, 'ligcoo': {'x': '2.781', 'y': '-1.449', 'z': '-0.918'}, 'protcoo': {'x': '2.402', 'y': '-1.855', 'z': '3.950'}}}, 'pi_cation_interactions': None, 'halogen_bonds': None, 'metal_complexes': {'metal_complex': [{'@attributes': {'id': '1'}, 'resnr': '0', 'restype': 'LIG', 'reschain': 'C', 'resnr_lig': '0', 'restype_lig': 'LIG', 'reschain_lig': 'C', 'metal_idx': '1582', 'metal_type': 'Fe', 'target_idx': '1581', 'target_type': 'N', 'coordination': '5', 'dist': '1.99', 'location': 'ligand', 'rms': '8.48', 'geometry': 'square.pyramidal', 'complexnum': '1', 'metalcoo': {'x': '2.122', 'y': '-4.341', 'z': '-2.072'}, 'targetcoo': {'x': '3.982', 'y': '-4.481', 'z': '-2.779'}}, {'@attributes': {'id': '2'}, 'resnr': '0', 'restype': 'LIG', 'reschain': 'C', 'resnr_lig': '0', 'restype_lig': 'LIG', 'reschain_lig': 'C', 'metal_idx': '1582', 'metal_type': 'Fe', 'target_idx': '1589', 'target_type': 'N', 'coordination': '5', 'dist': '1.98', 'location': 'ligand', 'rms': '8.48', 'geometry': 'square.pyramidal', 'complexnum': '1', 'metalcoo': {'x': '2.122', 'y': '-4.341', 'z': '-2.072'}, 'targetcoo': {'x': '2.536', 'y': '-2.547', 'z': '-1.339'}}, {'@attributes': {'id': '3'}, 'resnr': '0', 'restype': 'LIG', 'reschain': 'C', 'resnr_lig': '0', 'restype_lig': 'LIG', 'reschain_lig': 'C', 'metal_idx': '1582', 'metal_type': 'Fe', 'target_idx': '1602', 'target_type': 'N', 'coordination': '5', 'dist': '2.00', 'location': 'ligand', 'rms': '8.48', 'geometry': 'square.pyramidal', 'complexnum': '1', 'metalcoo': {'x': '2.122', 'y': '-4.341', 'z': '-2.072'}, 'targetcoo': {'x': '0.340', 'y': '-4.286', 'z': '-1.175'}}, {'@attributes': {'id': '4'}, 'resnr': '0', 'restype': 'LIG', 'reschain': 'C', 'resnr_lig': '0', 'restype_lig': 'LIG', 'reschain_lig': 'C', 'metal_idx': '1582', 'metal_type': 'Fe', 'target_idx': '1605', 'target_type': 'N', 'coordination': '5', 'dist': '2.01', 'location': 'ligand', 'rms': '8.48', 'geometry': 'square.pyramidal', 'complexnum': '1', 'metalcoo': {'x': '2.122', 'y': '-4.341', 'z': '-2.072'}, 'targetcoo': {'x': '1.802', 'y': '-6.254', 'z': '-2.614'}}, {'@attributes': {'id': '5'}, 'resnr': '116', 'restype': 'HIS', 'reschain': 'A', 'resnr_lig': '0', 'restype_lig': 'LIG', 'reschain_lig': 'C', 'metal_idx': '1582', 'metal_type': 'Fe', 'target_idx': '951', 'target_type': 'N', 'coordination': '5', 'dist': '2.29', 'location': 'protein.sidechain', 'rms': '8.48', 'geometry': 'square.pyramidal', 'complexnum': '1', 'metalcoo': {'x': '2.122', 'y': '-4.341', 'z': '-2.072'}, 'targetcoo': {'x': '2.756', 'y': '-5.157', 'z': '-0.034'}}]}}, 'mappings': {'smiles_to_pdb': '39:1567,38:1568,37:1569,36:1570,40:1571,16:1572,17:1573,18:1574,32:1575,33:1576,34:1577,31:1578,35:1579,20:1580,19:1581,6:1582,5:1583,4:1584,49:1585,3:1586,2:1587,1:1588,15:1589,14:1590,13:1591,12:1592,41:1593,48:1594,42:1595,43:1596,44:1597,45:1598,46:1599,47:1600,10:1601,11:1602,9:1603,8:1604,7:1605,22:1606,21:1607,23:1608,30:1609,24:1610,25:1611,26:1612,27:1613,28:1614,29:1615'}}\n"
     ]
    },
    {
     "data": {
      "text/plain": [
       "{61: 'GLY',\n",
       " 67: 'ILE',\n",
       " 144: 'PRO',\n",
       " 82: 'LEU',\n",
       " 145: 'ILE',\n",
       " 65: 'HIS',\n",
       " 52: 'ILE',\n",
       " 62: 'SER',\n",
       " 70: 'PHE',\n",
       " 59: 'LEU',\n",
       " 57: 'TYR',\n",
       " 89: 'ALA',\n",
       " 63: 'ASN',\n",
       " 55: 'LEU',\n",
       " 85: 'VAL',\n",
       " 64: 'GLN',\n",
       " 56: 'TRP',\n",
       " 58: 'GLY',\n",
       " 66: 'LEU',\n",
       " 141: 'PHE',\n",
       " 60: 'GLN',\n",
       " 53: 'LEU',\n",
       " 87: 'LYS',\n",
       " 6: 'TYR',\n",
       " 88: 'ARG',\n",
       " 135: 'LEU',\n",
       " 124: 'THR',\n",
       " 121: 'LYS',\n",
       " 142: 'ILE',\n",
       " 108: 'TYR',\n",
       " 177: 'GLN',\n",
       " 116: 'HIS',\n",
       " 129: 'THR',\n",
       " 134: 'PRO',\n",
       " 93: 'ILE',\n",
       " 109: 'MET',\n",
       " 122: 'GLY',\n",
       " 112: 'ILE',\n",
       " 114: 'LEU',\n",
       " 84: 'ALA',\n",
       " 127: 'VAL',\n",
       " 174: 'VAL',\n",
       " 175: 'VAL',\n",
       " 123: 'LYS',\n",
       " 146: 'GLY',\n",
       " 132: 'HIS',\n",
       " 125: 'ASP',\n",
       " 111: 'GLU',\n",
       " 130: 'VAL',\n",
       " 137: 'TYR',\n",
       " 90: 'GLY',\n",
       " 81: 'TYR',\n",
       " 92: 'TRP',\n",
       " 170: 'TRP',\n",
       " 178: 'VAL',\n",
       " 71: 'GLY',\n",
       " 138: 'MET',\n",
       " 91: 'LEU',\n",
       " 86: 'ARG',\n",
       " 136: 'ARG',\n",
       " 5: 'GLY',\n",
       " 117: 'HIS',\n",
       " 139: 'ILE',\n",
       " 133: 'ILE',\n",
       " 115: 'ARG',\n",
       " 185: 'TYR',\n",
       " 96: 'THR',\n",
       " 143: 'ALA',\n",
       " 69: 'TYR',\n",
       " 140: 'ALA',\n",
       " 113: 'GLY',\n",
       " 181: 'TRP',\n",
       " 68: 'TYR',\n",
       " 120: 'LYS'}"
      ]
     },
     "execution_count": 26,
     "metadata": {},
     "output_type": "execute_result"
    }
   ],
   "source": [
    "get_plip_active_site_dict(xml_path=\"/disk2/fli/REVIVAL2/zs/plip/af3/struct_seperate/ParLQ/F89A_0/report.xml\")"
   ]
  },
  {
   "cell_type": "code",
   "execution_count": null,
   "metadata": {},
   "outputs": [],
   "source": []
  }
 ],
 "metadata": {
  "kernelspec": {
   "display_name": "REVIVAL",
   "language": "python",
   "name": "python3"
  },
  "language_info": {
   "codemirror_mode": {
    "name": "ipython",
    "version": 3
   },
   "file_extension": ".py",
   "mimetype": "text/x-python",
   "name": "python",
   "nbconvert_exporter": "python",
   "pygments_lexer": "ipython3",
   "version": "3.11.11"
  }
 },
 "nbformat": 4,
 "nbformat_minor": 2
}
