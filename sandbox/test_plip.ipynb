{
 "cells": [
  {
   "cell_type": "code",
   "execution_count": 1,
   "metadata": {},
   "outputs": [],
   "source": [
    "import plip"
   ]
  },
  {
   "cell_type": "code",
   "execution_count": 7,
   "metadata": {},
   "outputs": [],
   "source": [
    "import lxml"
   ]
  },
  {
   "cell_type": "code",
   "execution_count": 5,
   "metadata": {},
   "outputs": [],
   "source": [
    "from rdkit import Chem\n",
    "from openbabel import pybel"
   ]
  },
  {
   "cell_type": "code",
   "execution_count": 8,
   "metadata": {},
   "outputs": [],
   "source": [
    "from lxml import etree\n",
    "\n",
    "def xml_file_to_dict(file_path):\n",
    "    \"\"\"\n",
    "    Parses an XML file and converts it to a dictionary.\n",
    "    :param file_path: Path to the XML file.\n",
    "    :return: Dictionary representation of the XML.\n",
    "    \"\"\"\n",
    "    def xml_to_dict(element):\n",
    "        \"\"\"\n",
    "        Recursively converts an lxml element to a dictionary.\n",
    "        \"\"\"\n",
    "        # Base case: If the element has no children, return its text or attributes\n",
    "        if not len(element) and not element.attrib:\n",
    "            return element.text\n",
    "\n",
    "        # Start the dictionary with attributes if present\n",
    "        element_dict = {}\n",
    "        if element.attrib:\n",
    "            element_dict[\"@attributes\"] = element.attrib\n",
    "\n",
    "        # Process child elements\n",
    "        for child in element:\n",
    "            child_dict = xml_to_dict(child)\n",
    "            if child.tag not in element_dict:\n",
    "                # First occurrence of the tag\n",
    "                element_dict[child.tag] = child_dict\n",
    "            else:\n",
    "                # Multiple occurrences of the same tag\n",
    "                if not isinstance(element_dict[child.tag], list):\n",
    "                    element_dict[child.tag] = [element_dict[child.tag]]\n",
    "                element_dict[child.tag].append(child_dict)\n",
    "\n",
    "        # Add element text if present and not just whitespace\n",
    "        if element.text and element.text.strip():\n",
    "            element_dict[\"#text\"] = element.text.strip()\n",
    "\n",
    "        return element_dict\n",
    "\n",
    "    # Parse the XML file\n",
    "    tree = etree.parse(file_path)\n",
    "    root = tree.getroot()\n",
    "\n",
    "    # Convert the root element to a dictionary\n",
    "    return xml_to_dict(root)"
   ]
  },
  {
   "cell_type": "code",
   "execution_count": 9,
   "metadata": {},
   "outputs": [
    {
     "name": "stdout",
     "output_type": "stream",
     "text": [
      "{'plipversion': '2.4.0', 'bindingsite': [{'@attributes': {'id': '1', 'has_interactions': 'True'}, 'identifiers': {'longname': 'NA', 'ligtype': 'ION', 'hetid': 'NA', 'chain': 'A', 'position': '402', 'composite': 'False', 'members': {'member': {'@attributes': {'id': '1'}, '#text': 'NA:A:402'}}, 'smiles': 'N', 'inchikey': 'QGZKDVFQNNGYKY-UHFFFAOYSA-N\\n'}, 'lig_properties': {'num_heavy_atoms': '1', 'num_hbd': '3', 'num_unpaired_hbd': '0', 'num_hba': '1', 'num_unpaired_hba': '0', 'num_hal': '0', 'num_unpaired_hal': '0', 'num_aromatic_rings': '0', 'num_rotatable_bonds': '0', 'molweight': '17.03052', 'logp': '0.3239000000000001'}, 'interacting_chains': {'interacting_chain': {'@attributes': {'id': '1'}, '#text': 'A'}}, 'bs_residues': {'bs_residue': [{'@attributes': {'id': '1', 'contact': 'False', 'min_dist': '2.9', 'aa': 'SER'}, '#text': '265A'}, {'@attributes': {'id': '2', 'contact': 'False', 'min_dist': '5.5', 'aa': 'GLY'}, '#text': '228A'}, {'@attributes': {'id': '3', 'contact': 'False', 'min_dist': '6.0', 'aa': 'LEU'}, '#text': '266A'}, {'@attributes': {'id': '4', 'contact': 'False', 'min_dist': '5.5', 'aa': 'ASP'}, '#text': '300A'}, {'@attributes': {'id': '5', 'contact': 'False', 'min_dist': '5.1', 'aa': 'VAL'}, '#text': '226A'}, {'@attributes': {'id': '6', 'contact': 'False', 'min_dist': '4.9', 'aa': 'ALA'}, '#text': '264A'}, {'@attributes': {'id': '7', 'contact': 'False', 'min_dist': '4.9', 'aa': 'LEU'}, '#text': '282A'}, {'@attributes': {'id': '8', 'contact': 'False', 'min_dist': '3.9', 'aa': 'GLY'}, '#text': '227A'}, {'@attributes': {'id': '9', 'contact': 'True', 'min_dist': '2.6', 'aa': 'TYR'}, '#text': '301A'}, {'@attributes': {'id': '10', 'contact': 'False', 'min_dist': '4.8', 'aa': 'GLU'}, '#text': '251A'}, {'@attributes': {'id': '11', 'contact': 'False', 'min_dist': '4.2', 'aa': 'PRO'}, '#text': '302A'}, {'@attributes': {'id': '12', 'contact': 'False', 'min_dist': '6.8', 'aa': 'ALA'}, '#text': '252A'}, {'@attributes': {'id': '13', 'contact': 'False', 'min_dist': '5.3', 'aa': 'LEU'}, '#text': '299A'}, {'@attributes': {'id': '14', 'contact': 'False', 'min_dist': '4.8', 'aa': 'VAL'}, '#text': '304A'}, {'@attributes': {'id': '15', 'contact': 'False', 'min_dist': '2.9', 'aa': 'SER'}, '#text': '263A'}, {'@attributes': {'id': '16', 'contact': 'False', 'min_dist': '2.8', 'aa': 'GLY'}, '#text': '303A'}]}, 'interactions': {'hydrophobic_interactions': None, 'hydrogen_bonds': {'hydrogen_bond': {'@attributes': {'id': '1'}, 'resnr': '301', 'restype': 'TYR', 'reschain': 'A', 'resnr_lig': '402', 'restype_lig': 'NA', 'reschain_lig': 'A', 'sidechain': 'False', 'dist_h-a': '1.64', 'dist_d-a': '2.60', 'don_angle': '156.06', 'protisdon': 'False', 'donoridx': '2949', 'donortype': 'N3', 'acceptoridx': '2256', 'acceptortype': 'O2', 'ligcoo': {'x': '-4.461', 'y': '-32.923', 'z': '-4.947'}, 'protcoo': {'x': '-5.830', 'y': '-35.098', 'z': '-5.348'}}}, 'water_bridges': {'water_bridge': {'@attributes': {'id': '1'}, 'resnr': '301', 'restype': 'TYR', 'reschain': 'A', 'resnr_lig': '402', 'restype_lig': 'NA', 'reschain_lig': 'A', 'dist_a-w': '2.65', 'dist_d-w': '3.25', 'don_angle': '102.39', 'water_angle': '133.03', 'protisdon': 'True', 'donor_idx': '2253', 'donortype': 'Nam', 'acceptor_idx': '2949', 'acceptortype': 'N3', 'water_idx': '2963', 'ligcoo': {'x': '-4.461', 'y': '-32.923', 'z': '-4.947'}, 'protcoo': {'x': '-6.506', 'y': '-36.550', 'z': '-7.730'}, 'watercoo': {'x': '-4.391', 'y': '-34.120', 'z': '-7.310'}}}, 'salt_bridges': None, 'pi_stacks': None, 'pi_cation_interactions': None, 'halogen_bonds': None, 'metal_complexes': None}, 'mappings': {'smiles_to_pdb': '1:2949'}}, {'@attributes': {'id': '2', 'has_interactions': 'True'}, 'identifiers': {'longname': 'PLS', 'ligtype': 'SMALLMOLECULE', 'hetid': 'PLS', 'chain': 'A', 'position': '401', 'composite': 'False', 'members': {'member': {'@attributes': {'id': '1'}, '#text': 'PLS:A:401'}}, 'smiles': 'OC[C@@H](C(=O)O)/N=C/c1c(cnc(c1O)C)COP(=O)(O)O', 'inchikey': 'ZTQZHYMXYBDMIL-BIMOUXMDSA-N\\n'}, 'lig_properties': {'num_heavy_atoms': '22', 'num_hbd': '5', 'num_unpaired_hbd': '1', 'num_hba': '10', 'num_unpaired_hba': '1', 'num_hal': '0', 'num_unpaired_hal': '0', 'num_aromatic_rings': '1', 'num_rotatable_bonds': '7', 'molweight': '334.219161', 'logp': '-0.43069999999999997'}, 'interacting_chains': {'interacting_chain': {'@attributes': {'id': '1'}, '#text': 'A'}}, 'bs_residues': {'bs_residue': [{'@attributes': {'id': '1', 'contact': 'False', 'min_dist': '4.4', 'aa': 'LEU'}, '#text': '161A'}, {'@attributes': {'id': '2', 'contact': 'False', 'min_dist': '6.7', 'aa': 'ASN'}, '#text': '140A'}, {'@attributes': {'id': '3', 'contact': 'True', 'min_dist': '3.4', 'aa': 'GLU'}, '#text': '345A'}, {'@attributes': {'id': '4', 'contact': 'False', 'min_dist': '5.8', 'aa': 'ARG'}, '#text': '373A'}, {'@attributes': {'id': '5', 'contact': 'False', 'min_dist': '3.9', 'aa': 'VAL'}, '#text': '226A'}, {'@attributes': {'id': '6', 'contact': 'False', 'min_dist': '7.0', 'aa': 'ASN'}, '#text': '369A'}, {'@attributes': {'id': '7', 'contact': 'False', 'min_dist': '6.8', 'aa': 'GLN'}, '#text': '200A'}, {'@attributes': {'id': '8', 'contact': 'True', 'min_dist': '3.9', 'aa': 'ALA'}, '#text': '80A'}, {'@attributes': {'id': '9', 'contact': 'True', 'min_dist': '2.7', 'aa': 'GLY'}, '#text': '229A'}, {'@attributes': {'id': '10', 'contact': 'False', 'min_dist': '2.7', 'aa': 'THR'}, '#text': '105A'}, {'@attributes': {'id': '11', 'contact': 'False', 'min_dist': '4.8', 'aa': 'GLY'}, '#text': '111A'}, {'@attributes': {'id': '12', 'contact': 'False', 'min_dist': '6.6', 'aa': 'LEU'}, '#text': '344A'}, {'@attributes': {'id': '13', 'contact': 'False', 'min_dist': '3.9', 'aa': 'CYS'}, '#text': '225A'}, {'@attributes': {'id': '14', 'contact': 'True', 'min_dist': '3.3', 'aa': 'LYS'}, '#text': '82A'}, {'@attributes': {'id': '15', 'contact': 'True', 'min_dist': '2.8', 'aa': 'HIS'}, '#text': '81A'}, {'@attributes': {'id': '16', 'contact': 'False', 'min_dist': '4.2', 'aa': 'ALA'}, '#text': '343A'}, {'@attributes': {'id': '17', 'contact': 'True', 'min_dist': '3.6', 'aa': 'GLY'}, '#text': '108A'}, {'@attributes': {'id': '18', 'contact': 'False', 'min_dist': '6.7', 'aa': 'VAL'}, '#text': '187A'}, {'@attributes': {'id': '19', 'contact': 'False', 'min_dist': '7.3', 'aa': 'VAL'}, '#text': '304A'}, {'@attributes': {'id': '20', 'contact': 'True', 'min_dist': '3.0', 'aa': 'GLY'}, '#text': '106A'}, {'@attributes': {'id': '21', 'contact': 'True', 'min_dist': '2.5', 'aa': 'SER'}, '#text': '185A'}, {'@attributes': {'id': '22', 'contact': 'True', 'min_dist': '4.4', 'aa': 'GLU'}, '#text': '104A'}, {'@attributes': {'id': '23', 'contact': 'False', 'min_dist': '6.8', 'aa': 'ASP'}, '#text': '133A'}, {'@attributes': {'id': '24', 'contact': 'True', 'min_dist': '2.9', 'aa': 'ALA'}, '#text': '107A'}, {'@attributes': {'id': '25', 'contact': 'False', 'min_dist': '3.2', 'aa': 'GLY'}, '#text': '298A'}, {'@attributes': {'id': '26', 'contact': 'False', 'min_dist': '5.6', 'aa': 'TYR'}, '#text': '301A'}, {'@attributes': {'id': '27', 'contact': 'False', 'min_dist': '4.0', 'aa': 'LYS'}, '#text': '376A'}, {'@attributes': {'id': '28', 'contact': 'False', 'min_dist': '6.5', 'aa': 'VAL'}, '#text': '196A'}, {'@attributes': {'id': '29', 'contact': 'False', 'min_dist': '4.9', 'aa': 'VAL'}, '#text': '186A'}, {'@attributes': {'id': '30', 'contact': 'False', 'min_dist': '5.5', 'aa': 'GLY'}, '#text': '79A'}, {'@attributes': {'id': '31', 'contact': 'False', 'min_dist': '6.7', 'aa': 'MET'}, '#text': '233A'}, {'@attributes': {'id': '32', 'contact': 'False', 'min_dist': '4.1', 'aa': 'LEU'}, '#text': '299A'}, {'@attributes': {'id': '33', 'contact': 'False', 'min_dist': '7.0', 'aa': 'ALA'}, '#text': '296A'}, {'@attributes': {'id': '34', 'contact': 'True', 'min_dist': '3.3', 'aa': 'GLY'}, '#text': '228A'}, {'@attributes': {'id': '35', 'contact': 'True', 'min_dist': '2.7', 'aa': 'ASP'}, '#text': '300A'}, {'@attributes': {'id': '36', 'contact': 'True', 'min_dist': '4.8', 'aa': 'ALA'}, '#text': '232A'}, {'@attributes': {'id': '37', 'contact': 'False', 'min_dist': '4.4', 'aa': 'GLY'}, '#text': '184A'}, {'@attributes': {'id': '38', 'contact': 'True', 'min_dist': '2.8', 'aa': 'GLY'}, '#text': '227A'}, {'@attributes': {'id': '39', 'contact': 'True', 'min_dist': '2.9', 'aa': 'HIS'}, '#text': '110A'}, {'@attributes': {'id': '40', 'contact': 'True', 'min_dist': '2.9', 'aa': 'GLN'}, '#text': '109A'}, {'@attributes': {'id': '41', 'contact': 'False', 'min_dist': '6.5', 'aa': 'ASP'}, '#text': '377A'}, {'@attributes': {'id': '42', 'contact': 'False', 'min_dist': '4.7', 'aa': 'SER'}, '#text': '346A'}, {'@attributes': {'id': '43', 'contact': 'False', 'min_dist': '4.3', 'aa': 'GLY'}, '#text': '372A'}, {'@attributes': {'id': '44', 'contact': 'False', 'min_dist': '6.6', 'aa': 'VAL'}, '#text': '112A'}, {'@attributes': {'id': '45', 'contact': 'True', 'min_dist': '2.6', 'aa': 'SER'}, '#text': '230A'}, {'@attributes': {'id': '46', 'contact': 'False', 'min_dist': '4.0', 'aa': 'PRO'}, '#text': '297A'}, {'@attributes': {'id': '47', 'contact': 'True', 'min_dist': '2.8', 'aa': 'SER'}, '#text': '371A'}, {'@attributes': {'id': '48', 'contact': 'False', 'min_dist': '6.9', 'aa': 'LEU'}, '#text': '370A'}, {'@attributes': {'id': '49', 'contact': 'True', 'min_dist': '2.9', 'aa': 'ASN'}, '#text': '231A'}]}, 'interactions': {'hydrophobic_interactions': {'hydrophobic_interaction': [{'@attributes': {'id': '1'}, 'resnr': '80', 'restype': 'ALA', 'reschain': 'A', 'resnr_lig': '401', 'restype_lig': 'PLS', 'reschain_lig': 'A', 'dist': '3.86', 'ligcarbonidx': '2936', 'protcarbonidx': '640', 'ligcoo': {'x': '-1.536', 'y': '-35.610', 'z': '-18.564'}, 'protcoo': {'x': '0.790', 'y': '-38.053', 'z': '-20.445'}}, {'@attributes': {'id': '2'}, 'resnr': '345', 'restype': 'GLU', 'reschain': 'A', 'resnr_lig': '401', 'restype_lig': 'PLS', 'reschain_lig': 'A', 'dist': '3.92', 'ligcarbonidx': '2941', 'protcarbonidx': '2607', 'ligcoo': {'x': '-1.175', 'y': '-35.281', 'z': '-14.290'}, 'protcoo': {'x': '-3.978', 'y': '-33.061', 'z': '-15.896'}}]}, 'hydrogen_bonds': {'hydrogen_bond': [{'@attributes': {'id': '1'}, 'resnr': '82', 'restype': 'LYS', 'reschain': 'A', 'resnr_lig': '401', 'restype_lig': 'PLS', 'reschain_lig': 'A', 'sidechain': 'True', 'dist_h-a': '3.43', 'dist_d-a': '3.99', 'don_angle': '116.12', 'protisdon': 'True', 'donoridx': '659', 'donortype': 'N3', 'acceptoridx': '2927', 'acceptortype': 'N2', 'ligcoo': {'x': '-3.428', 'y': '-38.384', 'z': '-14.296'}, 'protcoo': {'x': '0.171', 'y': '-39.643', 'z': '-13.137'}}, {'@attributes': {'id': '2'}, 'resnr': '106', 'restype': 'GLY', 'reschain': 'A', 'resnr_lig': '401', 'restype_lig': 'PLS', 'reschain_lig': 'A', 'sidechain': 'False', 'dist_h-a': '2.02', 'dist_d-a': '2.97', 'don_angle': '161.36', 'protisdon': 'True', 'donoridx': '831', 'donortype': 'Nam', 'acceptoridx': '2933', 'acceptortype': 'O.co2', 'ligcoo': {'x': '-4.431', 'y': '-41.751', 'z': '-13.491'}, 'protcoo': {'x': '-7.220', 'y': '-42.324', 'z': '-12.651'}}, {'@attributes': {'id': '3'}, 'resnr': '107', 'restype': 'ALA', 'reschain': 'A', 'resnr_lig': '401', 'restype_lig': 'PLS', 'reschain_lig': 'A', 'sidechain': 'False', 'dist_h-a': '1.97', 'dist_d-a': '2.92', 'don_angle': '161.57', 'protisdon': 'True', 'donoridx': '835', 'donortype': 'Nam', 'acceptoridx': '2930', 'acceptortype': 'O3', 'ligcoo': {'x': '-5.805', 'y': '-39.089', 'z': '-12.736'}, 'protcoo': {'x': '-7.911', 'y': '-40.120', 'z': '-14.471'}}, {'@attributes': {'id': '4'}, 'resnr': '108', 'restype': 'GLY', 'reschain': 'A', 'resnr_lig': '401', 'restype_lig': 'PLS', 'reschain_lig': 'A', 'sidechain': 'False', 'dist_h-a': '3.19', 'dist_d-a': '3.59', 'don_angle': '106.40', 'protisdon': 'True', 'donoridx': '840', 'donortype': 'Nam', 'acceptoridx': '2932', 'acceptortype': 'O.co2', 'ligcoo': {'x': '-4.138', 'y': '-40.714', 'z': '-15.432'}, 'protcoo': {'x': '-7.385', 'y': '-41.757', 'z': '-16.555'}}, {'@attributes': {'id': '5'}, 'resnr': '109', 'restype': 'GLN', 'reschain': 'A', 'resnr_lig': '401', 'restype_lig': 'PLS', 'reschain_lig': 'A', 'sidechain': 'False', 'dist_h-a': '2.28', 'dist_d-a': '2.89', 'don_angle': '118.95', 'protisdon': 'True', 'donoridx': '844', 'donortype': 'Nam', 'acceptoridx': '2932', 'acceptortype': 'O.co2', 'ligcoo': {'x': '-4.138', 'y': '-40.714', 'z': '-15.432'}, 'protcoo': {'x': '-4.961', 'y': '-41.712', 'z': '-18.013'}}, {'@attributes': {'id': '6'}, 'resnr': '110', 'restype': 'HIS', 'reschain': 'A', 'resnr_lig': '401', 'restype_lig': 'PLS', 'reschain_lig': 'A', 'sidechain': 'False', 'dist_h-a': '1.98', 'dist_d-a': '2.92', 'don_angle': '158.42', 'protisdon': 'True', 'donoridx': '853', 'donortype': 'Nam', 'acceptoridx': '2932', 'acceptortype': 'O.co2', 'ligcoo': {'x': '-4.138', 'y': '-40.714', 'z': '-15.432'}, 'protcoo': {'x': '-2.646', 'y': '-42.795', 'z': '-16.839'}}, {'@attributes': {'id': '7'}, 'resnr': '227', 'restype': 'GLY', 'reschain': 'A', 'resnr_lig': '401', 'restype_lig': 'PLS', 'reschain_lig': 'A', 'sidechain': 'False', 'dist_h-a': '1.91', 'dist_d-a': '2.79', 'don_angle': '147.45', 'protisdon': 'True', 'donoridx': '1735', 'donortype': 'Nam', 'acceptoridx': '2947', 'acceptortype': 'O3', 'ligcoo': {'x': '1.062', 'y': '-34.724', 'z': '-10.636'}, 'protcoo': {'x': '-0.614', 'y': '-32.820', 'z': '-9.483'}}, {'@attributes': {'id': '8'}, 'resnr': '228', 'restype': 'GLY', 'reschain': 'A', 'resnr_lig': '401', 'restype_lig': 'PLS', 'reschain_lig': 'A', 'sidechain': 'False', 'dist_h-a': '3.45', 'dist_d-a': '3.96', 'don_angle': '114.30', 'protisdon': 'True', 'donoridx': '1739', 'donortype': 'Nam', 'acceptoridx': '2948', 'acceptortype': 'O3', 'ligcoo': {'x': '1.544', 'y': '-37.223', 'z': '-10.867'}, 'protcoo': {'x': '-0.828', 'y': '-35.711', 'z': '-8.077'}}, {'@attributes': {'id': '9'}, 'resnr': '229', 'restype': 'GLY', 'reschain': 'A', 'resnr_lig': '401', 'restype_lig': 'PLS', 'reschain_lig': 'A', 'sidechain': 'False', 'dist_h-a': '1.84', 'dist_d-a': '2.75', 'don_angle': '151.59', 'protisdon': 'True', 'donoridx': '1743', 'donortype': 'Nam', 'acceptoridx': '2947', 'acceptortype': 'O3', 'ligcoo': {'x': '1.062', 'y': '-34.724', 'z': '-10.636'}, 'protcoo': {'x': '1.929', 'y': '-35.258', 'z': '-8.083'}}, {'@attributes': {'id': '10'}, 'resnr': '230', 'restype': 'SER', 'reschain': 'A', 'resnr_lig': '401', 'restype_lig': 'PLS', 'reschain_lig': 'A', 'sidechain': 'False', 'dist_h-a': '2.07', 'dist_d-a': '3.00', 'don_angle': '156.49', 'protisdon': 'True', 'donoridx': '1747', 'donortype': 'Nam', 'acceptoridx': '2948', 'acceptortype': 'O3', 'ligcoo': {'x': '1.544', 'y': '-37.223', 'z': '-10.867'}, 'protcoo': {'x': '4.101', 'y': '-36.175', 'z': '-9.708'}}, {'@attributes': {'id': '11'}, 'resnr': '230', 'restype': 'SER', 'reschain': 'A', 'resnr_lig': '401', 'restype_lig': 'PLS', 'reschain_lig': 'A', 'sidechain': 'True', 'dist_h-a': '2.17', 'dist_d-a': '2.58', 'don_angle': '104.00', 'protisdon': 'False', 'donoridx': '2948', 'donortype': 'O3', 'acceptoridx': '1752', 'acceptortype': 'O3', 'ligcoo': {'x': '1.544', 'y': '-37.223', 'z': '-10.867'}, 'protcoo': {'x': '3.725', 'y': '-38.107', 'z': '-11.922'}}, {'@attributes': {'id': '12'}, 'resnr': '231', 'restype': 'ASN', 'reschain': 'A', 'resnr_lig': '401', 'restype_lig': 'PLS', 'reschain_lig': 'A', 'sidechain': 'False', 'dist_h-a': '1.97', 'dist_d-a': '2.92', 'don_angle': '162.70', 'protisdon': 'True', 'donoridx': '1753', 'donortype': 'Nam', 'acceptoridx': '2946', 'acceptortype': 'O2', 'ligcoo': {'x': '2.119', 'y': '-35.632', 'z': '-12.691'}, 'protcoo': {'x': '5.017', 'y': '-35.367', 'z': '-12.406'}}, {'@attributes': {'id': '13'}, 'resnr': '231', 'restype': 'ASN', 'reschain': 'A', 'resnr_lig': '401', 'restype_lig': 'PLS', 'reschain_lig': 'A', 'sidechain': 'True', 'dist_h-a': '2.12', 'dist_d-a': '3.03', 'don_angle': '152.68', 'protisdon': 'True', 'donoridx': '1760', 'donortype': 'Nam', 'acceptoridx': '2946', 'acceptortype': 'O2', 'ligcoo': {'x': '2.119', 'y': '-35.632', 'z': '-12.691'}, 'protcoo': {'x': '2.625', 'y': '-32.889', 'z': '-13.874'}}, {'@attributes': {'id': '14'}, 'resnr': '300', 'restype': 'ASP', 'reschain': 'A', 'resnr_lig': '401', 'restype_lig': 'PLS', 'reschain_lig': 'A', 'sidechain': 'True', 'dist_h-a': '1.87', 'dist_d-a': '2.75', 'don_angle': '148.07', 'protisdon': 'False', 'donoridx': '2930', 'donortype': 'O3', 'acceptoridx': '2251', 'acceptortype': 'O3', 'ligcoo': {'x': '-5.805', 'y': '-39.089', 'z': '-12.736'}, 'protcoo': {'x': '-6.955', 'y': '-37.547', 'z': '-10.776'}}, {'@attributes': {'id': '15'}, 'resnr': '371', 'restype': 'SER', 'reschain': 'A', 'resnr_lig': '401', 'restype_lig': 'PLS', 'reschain_lig': 'A', 'sidechain': 'True', 'dist_h-a': '2.27', 'dist_d-a': '2.84', 'don_angle': '116.74', 'protisdon': 'True', 'donoridx': '2802', 'donortype': 'O3', 'acceptoridx': '2934', 'acceptortype': 'Nar', 'ligcoo': {'x': '-0.760', 'y': '-34.489', 'z': '-16.512'}, 'protcoo': {'x': '0.865', 'y': '-32.508', 'z': '-17.741'}}]}, 'water_bridges': {'water_bridge': [{'@attributes': {'id': '1'}, 'resnr': '104', 'restype': 'GLU', 'reschain': 'A', 'resnr_lig': '401', 'restype_lig': 'PLS', 'reschain_lig': 'A', 'dist_a-w': '3.62', 'dist_d-w': '2.84', 'don_angle': '128.13', 'water_angle': '89.43', 'protisdon': 'False', 'donor_idx': '2933', 'donortype': 'O.co2', 'acceptor_idx': '818', 'acceptortype': 'O2', 'water_idx': '3000', 'ligcoo': {'x': '-4.431', 'y': '-41.751', 'z': '-13.491'}, 'protcoo': {'x': '-3.855', 'y': '-45.859', 'z': '-12.045'}, 'watercoo': {'x': '-2.803', 'y': '-42.481', 'z': '-11.278'}}, {'@attributes': {'id': '2'}, 'resnr': '185', 'restype': 'SER', 'reschain': 'A', 'resnr_lig': '401', 'restype_lig': 'PLS', 'reschain_lig': 'A', 'dist_a-w': '3.03', 'dist_d-w': '3.64', 'don_angle': '130.31', 'water_angle': '90.08', 'protisdon': 'True', 'donor_idx': '1424', 'donortype': 'O3', 'acceptor_idx': '2944', 'acceptortype': 'O3', 'water_idx': '2994', 'ligcoo': {'x': '-0.290', 'y': '-36.213', 'z': '-12.147'}, 'protcoo': {'x': '1.584', 'y': '-38.532', 'z': '-8.681'}, 'watercoo': {'x': '-1.734', 'y': '-37.655', 'z': '-9.902'}}, {'@attributes': {'id': '3'}, 'resnr': '232', 'restype': 'ALA', 'reschain': 'A', 'resnr_lig': '401', 'restype_lig': 'PLS', 'reschain_lig': 'A', 'dist_a-w': '3.37', 'dist_d-w': '2.95', 'don_angle': '157.53', 'water_angle': '92.96', 'protisdon': 'True', 'donor_idx': '1761', 'donortype': 'Nam', 'acceptor_idx': '2946', 'acceptortype': 'O2', 'water_idx': '2972', 'ligcoo': {'x': '2.119', 'y': '-35.632', 'z': '-12.691'}, 'protcoo': {'x': '5.900', 'y': '-32.856', 'z': '-11.834'}, 'watercoo': {'x': '3.166', 'y': '-33.085', 'z': '-10.751'}}, {'@attributes': {'id': '4'}, 'resnr': '232', 'restype': 'ALA', 'reschain': 'A', 'resnr_lig': '401', 'restype_lig': 'PLS', 'reschain_lig': 'A', 'dist_a-w': '2.67', 'dist_d-w': '2.95', 'don_angle': '157.53', 'water_angle': '136.24', 'protisdon': 'True', 'donor_idx': '1761', 'donortype': 'Nam', 'acceptor_idx': '2947', 'acceptortype': 'O3', 'water_idx': '2972', 'ligcoo': {'x': '1.062', 'y': '-34.724', 'z': '-10.636'}, 'protcoo': {'x': '5.900', 'y': '-32.856', 'z': '-11.834'}, 'watercoo': {'x': '3.166', 'y': '-33.085', 'z': '-10.751'}}]}, 'salt_bridges': {'salt_bridge': [{'@attributes': {'id': '1'}, 'resnr': '81', 'restype': 'HIS', 'reschain': 'A', 'prot_idx_list': {'idx': [{'@attributes': {'id': '1'}, '#text': '647'}, {'@attributes': {'id': '2'}, '#text': '650'}]}, 'resnr_lig': '401', 'restype_lig': 'PLS', 'reschain_lig': 'A', 'dist': '4.84', 'protispos': 'True', 'lig_group': 'Phosphate', 'lig_idx_list': {'idx': [{'@attributes': {'id': '1'}, '#text': '2945'}, {'@attributes': {'id': '2'}, '#text': '2945'}, {'@attributes': {'id': '3'}, '#text': '2946'}, {'@attributes': {'id': '4'}, '#text': '2944'}, {'@attributes': {'id': '5'}, '#text': '2948'}, {'@attributes': {'id': '6'}, '#text': '2947'}]}, 'ligcoo': {'x': '1.194', 'y': '-35.937', 'z': '-11.532'}, 'protcoo': {'x': '2.955', 'y': '-36.813', 'z': '-15.957'}}, {'@attributes': {'id': '2'}, 'resnr': '82', 'restype': 'LYS', 'reschain': 'A', 'prot_idx_list': {'idx': {'@attributes': {'id': '1'}, '#text': '659'}}, 'resnr_lig': '401', 'restype_lig': 'PLS', 'reschain_lig': 'A', 'dist': '4.91', 'protispos': 'True', 'lig_group': 'Carboxylate', 'lig_idx_list': {'idx': [{'@attributes': {'id': '1'}, '#text': '2932'}, {'@attributes': {'id': '2'}, '#text': '2933'}]}, 'ligcoo': {'x': '-4.284', 'y': '-41.233', 'z': '-14.462'}, 'protcoo': {'x': '0.171', 'y': '-39.643', 'z': '-13.137'}}, {'@attributes': {'id': '3'}, 'resnr': '82', 'restype': 'LYS', 'reschain': 'A', 'prot_idx_list': {'idx': {'@attributes': {'id': '1'}, '#text': '659'}}, 'resnr_lig': '401', 'restype_lig': 'PLS', 'reschain_lig': 'A', 'dist': '4.17', 'protispos': 'True', 'lig_group': 'Phosphate', 'lig_idx_list': {'idx': [{'@attributes': {'id': '1'}, '#text': '2945'}, {'@attributes': {'id': '2'}, '#text': '2945'}, {'@attributes': {'id': '3'}, '#text': '2946'}, {'@attributes': {'id': '4'}, '#text': '2944'}, {'@attributes': {'id': '5'}, '#text': '2948'}, {'@attributes': {'id': '6'}, '#text': '2947'}]}, 'ligcoo': {'x': '1.194', 'y': '-35.937', 'z': '-11.532'}, 'protcoo': {'x': '0.171', 'y': '-39.643', 'z': '-13.137'}}]}, 'pi_stacks': {'pi_stack': {'@attributes': {'id': '1'}, 'resnr': '81', 'restype': 'HIS', 'reschain': 'A', 'resnr_lig': '401', 'restype_lig': 'PLS', 'reschain_lig': 'A', 'prot_idx_list': {'idx': [{'@attributes': {'id': '1'}, '#text': '646'}, {'@attributes': {'id': '2'}, '#text': '647'}, {'@attributes': {'id': '3'}, '#text': '648'}, {'@attributes': {'id': '4'}, '#text': '649'}, {'@attributes': {'id': '5'}, '#text': '650'}]}, 'centdist': '4.88', 'angle': '74.15', 'offset': '1.27', 'type': 'T', 'lig_idx_list': {'idx': [{'@attributes': {'id': '1'}, '#text': '2934'}, {'@attributes': {'id': '2'}, '#text': '2935'}, {'@attributes': {'id': '3'}, '#text': '2937'}, {'@attributes': {'id': '4'}, '#text': '2939'}, {'@attributes': {'id': '5'}, '#text': '2941'}, {'@attributes': {'id': '6'}, '#text': '2942'}]}, 'ligcoo': {'x': '-1.331', 'y': '-35.434', 'z': '-15.691'}, 'protcoo': {'x': '3.315', 'y': '-36.902', 'z': '-16.010'}}}, 'pi_cation_interactions': None, 'halogen_bonds': None, 'metal_complexes': None}, 'mappings': {'smiles_to_pdb': '7:2927,3:2928,2:2929,1:2930,4:2931,5:2932,6:2933,12:2934,13:2935,16:2936,14:2937,15:2938,9:2939,8:2940,10:2941,11:2942,17:2943,18:2944,19:2945,20:2946,21:2947,22:2948'}}], 'date_of_creation': '2025/01/20', 'citation_information': 'Adasme,M. et al. PLIP 2021: expanding the scope of the protein-ligand interaction profiler to DNA and RNA. Nucl. Acids Res. (05 May 2021), gkab294. doi: 10.1093/nar/gkab294', 'maintainer_information': 'PharmAI GmbH (2020-2021) - www.pharm.ai - hello@pharm.ai', 'mode': 'default', 'pdbid': '5DW0_PROTEIN', 'model': '1', 'filetype': 'PDB', 'pdbfile': '/disk2/fli/REVIVAL2/zs/plip/test/plipfixed.5DW0_nu3oeg0w.pdb', 'pdbfixes': 'True', 'filename': 'plipfixed.5DW0_nu3oeg0w.pdb', 'excluded_ligands': None, 'covlinkages': None}\n"
     ]
    }
   ],
   "source": [
    "\n",
    "# Example usage\n",
    "file_path = \"/disk2/fli/REVIVAL2/zs/plip/test/report.xml\"  # Replace with the path to your XML file\n",
    "result = xml_file_to_dict(file_path)\n",
    "print(result)\n"
   ]
  },
  {
   "cell_type": "code",
   "execution_count": null,
   "metadata": {},
   "outputs": [],
   "source": []
  }
 ],
 "metadata": {
  "kernelspec": {
   "display_name": "REVIVAL",
   "language": "python",
   "name": "python3"
  },
  "language_info": {
   "codemirror_mode": {
    "name": "ipython",
    "version": 3
   },
   "file_extension": ".py",
   "mimetype": "text/x-python",
   "name": "python",
   "nbconvert_exporter": "python",
   "pygments_lexer": "ipython3",
   "version": "3.11.11"
  }
 },
 "nbformat": 4,
 "nbformat_minor": 2
}
