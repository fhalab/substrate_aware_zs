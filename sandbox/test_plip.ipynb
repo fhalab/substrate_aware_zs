{
 "cells": [
  {
   "cell_type": "code",
   "execution_count": 3,
   "metadata": {},
   "outputs": [],
   "source": [
    "import plip"
   ]
  },
  {
   "cell_type": "code",
   "execution_count": 6,
   "metadata": {},
   "outputs": [],
   "source": [
    "import lxml"
   ]
  },
  {
   "cell_type": "code",
   "execution_count": 5,
   "metadata": {},
   "outputs": [],
   "source": [
    "from rdkit import Chem\n",
    "from openbabel import pybel"
   ]
  },
  {
   "cell_type": "code",
   "execution_count": 7,
   "metadata": {},
   "outputs": [],
   "source": [
    "from lxml import etree\n",
    "\n",
    "def xml_file_to_dict(file_path):\n",
    "    \"\"\"\n",
    "    Parses an XML file and converts it to a dictionary.\n",
    "    :param file_path: Path to the XML file.\n",
    "    :return: Dictionary representation of the XML.\n",
    "    \"\"\"\n",
    "    def xml_to_dict(element):\n",
    "        \"\"\"\n",
    "        Recursively converts an lxml element to a dictionary.\n",
    "        \"\"\"\n",
    "        # Base case: If the element has no children, return its text or attributes\n",
    "        if not len(element) and not element.attrib:\n",
    "            return element.text\n",
    "\n",
    "        # Start the dictionary with attributes if present\n",
    "        element_dict = {}\n",
    "        if element.attrib:\n",
    "            element_dict[\"@attributes\"] = element.attrib\n",
    "\n",
    "        # Process child elements\n",
    "        for child in element:\n",
    "            child_dict = xml_to_dict(child)\n",
    "            if child.tag not in element_dict:\n",
    "                # First occurrence of the tag\n",
    "                element_dict[child.tag] = child_dict\n",
    "            else:\n",
    "                # Multiple occurrences of the same tag\n",
    "                if not isinstance(element_dict[child.tag], list):\n",
    "                    element_dict[child.tag] = [element_dict[child.tag]]\n",
    "                element_dict[child.tag].append(child_dict)\n",
    "\n",
    "        # Add element text if present and not just whitespace\n",
    "        if element.text and element.text.strip():\n",
    "            element_dict[\"#text\"] = element.text.strip()\n",
    "\n",
    "        return element_dict\n",
    "\n",
    "    # Parse the XML file\n",
    "    tree = etree.parse(file_path)\n",
    "    root = tree.getroot()\n",
    "\n",
    "    # Convert the root element to a dictionary\n",
    "    return xml_to_dict(root)"
   ]
  },
  {
   "cell_type": "code",
   "execution_count": 8,
   "metadata": {},
   "outputs": [
    {
     "name": "stdout",
     "output_type": "stream",
     "text": [
      "{'plipversion': '2.4.0', 'bindingsite': {'@attributes': {'id': '1', 'has_interactions': 'True'}, 'identifiers': {'longname': 'LIG', 'ligtype': 'SMALLMOLECULE', 'hetid': 'LIG', 'chain': 'B', 'position': '0', 'composite': 'False', 'members': {'member': {'@attributes': {'id': '1'}, '#text': 'LIG:B:0'}}, 'smiles': 'OC(=O)[C@H](/N=C/c1c(cnc(c1O)C)CP(=O)(O)O)C.Brc1cccc2c1cc[nH]2.[Na]', 'inchikey': 'JDIJGIUQUOEZTL-CXALCSDVSA-N\\n'}, 'lig_properties': {'num_heavy_atoms': '31', 'num_hbd': '5', 'num_unpaired_hbd': '1', 'num_hba': '8', 'num_unpaired_hba': '2', 'num_hal': '1', 'num_unpaired_hal': '1', 'num_aromatic_rings': '3', 'num_rotatable_bonds': '5', 'molweight': '521.2540709999998', 'logp': '3.595700000000003'}, 'interacting_chains': {'interacting_chain': {'@attributes': {'id': '1'}, '#text': 'A'}}, 'bs_residues': {'bs_residue': [{'@attributes': {'id': '1', 'contact': 'False', 'min_dist': '4.7', 'aa': 'LYS'}, '#text': '376A'}, {'@attributes': {'id': '2', 'contact': 'False', 'min_dist': '4.7', 'aa': 'ALA'}, '#text': '232A'}, {'@attributes': {'id': '3', 'contact': 'False', 'min_dist': '6.9', 'aa': 'MET'}, '#text': '129A'}, {'@attributes': {'id': '4', 'contact': 'False', 'min_dist': '5.8', 'aa': 'LEU'}, '#text': '266A'}, {'@attributes': {'id': '5', 'contact': 'False', 'min_dist': '3.9', 'aa': 'GLY'}, '#text': '372A'}, {'@attributes': {'id': '6', 'contact': 'True', 'min_dist': '2.6', 'aa': 'GLY'}, '#text': '229A'}, {'@attributes': {'id': '7', 'contact': 'True', 'min_dist': '2.9', 'aa': 'HIS'}, '#text': '110A'}, {'@attributes': {'id': '8', 'contact': 'False', 'min_dist': '7.1', 'aa': 'GLN'}, '#text': '137A'}, {'@attributes': {'id': '9', 'contact': 'False', 'min_dist': '6.6', 'aa': 'VAL'}, '#text': '112A'}, {'@attributes': {'id': '10', 'contact': 'False', 'min_dist': '7.5', 'aa': 'ALA'}, '#text': '113A'}, {'@attributes': {'id': '11', 'contact': 'False', 'min_dist': '4.1', 'aa': 'PRO'}, '#text': '302A'}, {'@attributes': {'id': '12', 'contact': 'False', 'min_dist': '4.4', 'aa': 'GLU'}, '#text': '251A'}, {'@attributes': {'id': '13', 'contact': 'False', 'min_dist': '6.7', 'aa': 'GLN'}, '#text': '200A'}, {'@attributes': {'id': '14', 'contact': 'True', 'min_dist': '3.0', 'aa': 'GLN'}, '#text': '109A'}, {'@attributes': {'id': '15', 'contact': 'True', 'min_dist': '2.7', 'aa': 'SER'}, '#text': '263A'}, {'@attributes': {'id': '16', 'contact': 'True', 'min_dist': '3.9', 'aa': 'HIS'}, '#text': '275A'}, {'@attributes': {'id': '17', 'contact': 'False', 'min_dist': '4.8', 'aa': 'GLY'}, '#text': '111A'}, {'@attributes': {'id': '18', 'contact': 'False', 'min_dist': '5.4', 'aa': 'GLY'}, '#text': '79A'}, {'@attributes': {'id': '19', 'contact': 'False', 'min_dist': '6.9', 'aa': 'HIS'}, '#text': '262A'}, {'@attributes': {'id': '20', 'contact': 'False', 'min_dist': '4.8', 'aa': 'GLY'}, '#text': '184A'}, {'@attributes': {'id': '21', 'contact': 'True', 'min_dist': '2.9', 'aa': 'ASN'}, '#text': '231A'}, {'@attributes': {'id': '22', 'contact': 'False', 'min_dist': '7.3', 'aa': 'TYR'}, '#text': '128A'}, {'@attributes': {'id': '23', 'contact': 'True', 'min_dist': '3.2', 'aa': 'GLY'}, '#text': '228A'}, {'@attributes': {'id': '24', 'contact': 'True', 'min_dist': '2.7', 'aa': 'GLY'}, '#text': '303A'}, {'@attributes': {'id': '25', 'contact': 'True', 'min_dist': '2.8', 'aa': 'LYS'}, '#text': '82A'}, {'@attributes': {'id': '26', 'contact': 'False', 'min_dist': '4.5', 'aa': 'SER'}, '#text': '346A'}, {'@attributes': {'id': '27', 'contact': 'True', 'min_dist': '2.6', 'aa': 'SER'}, '#text': '265A'}, {'@attributes': {'id': '28', 'contact': 'False', 'min_dist': '6.4', 'aa': 'ASP'}, '#text': '166A'}, {'@attributes': {'id': '29', 'contact': 'False', 'min_dist': '6.6', 'aa': 'ASN'}, '#text': '140A'}, {'@attributes': {'id': '30', 'contact': 'False', 'min_dist': '6.5', 'aa': 'SER'}, '#text': '274A'}, {'@attributes': {'id': '31', 'contact': 'False', 'min_dist': '6.8', 'aa': 'MET'}, '#text': '233A'}, {'@attributes': {'id': '32', 'contact': 'False', 'min_dist': '5.9', 'aa': 'LEU'}, '#text': '282A'}, {'@attributes': {'id': '33', 'contact': 'True', 'min_dist': '2.9', 'aa': 'GLY'}, '#text': '227A'}, {'@attributes': {'id': '34', 'contact': 'False', 'min_dist': '3.4', 'aa': 'GLU'}, '#text': '345A'}, {'@attributes': {'id': '35', 'contact': 'False', 'min_dist': '6.7', 'aa': 'LEU'}, '#text': '344A'}, {'@attributes': {'id': '36', 'contact': 'True', 'min_dist': '3.9', 'aa': 'ALA'}, '#text': '80A'}, {'@attributes': {'id': '37', 'contact': 'False', 'min_dist': '6.9', 'aa': 'ASN'}, '#text': '369A'}, {'@attributes': {'id': '38', 'contact': 'False', 'min_dist': '7.4', 'aa': 'VAL'}, '#text': '196A'}, {'@attributes': {'id': '39', 'contact': 'False', 'min_dist': '4.1', 'aa': 'ALA'}, '#text': '343A'}, {'@attributes': {'id': '40', 'contact': 'False', 'min_dist': '5.4', 'aa': 'GLY'}, '#text': '188A'}, {'@attributes': {'id': '41', 'contact': 'False', 'min_dist': '4.0', 'aa': 'VAL'}, '#text': '304A'}, {'@attributes': {'id': '42', 'contact': 'False', 'min_dist': '3.5', 'aa': 'CYS'}, '#text': '225A'}, {'@attributes': {'id': '43', 'contact': 'False', 'min_dist': '4.2', 'aa': 'MET'}, '#text': '277A'}, {'@attributes': {'id': '44', 'contact': 'True', 'min_dist': '3.2', 'aa': 'SER'}, '#text': '185A'}, {'@attributes': {'id': '45', 'contact': 'True', 'min_dist': '3.0', 'aa': 'GLU'}, '#text': '104A'}, {'@attributes': {'id': '46', 'contact': 'False', 'min_dist': '7.1', 'aa': 'ASP'}, '#text': '377A'}, {'@attributes': {'id': '47', 'contact': 'False', 'min_dist': '4.4', 'aa': 'TYR'}, '#text': '181A'}, {'@attributes': {'id': '48', 'contact': 'False', 'min_dist': '7.4', 'aa': 'GLU'}, '#text': '73A'}, {'@attributes': {'id': '49', 'contact': 'True', 'min_dist': '2.7', 'aa': 'GLY'}, '#text': '106A'}, {'@attributes': {'id': '50', 'contact': 'True', 'min_dist': '3.2', 'aa': 'SER'}, '#text': '230A'}, {'@attributes': {'id': '51', 'contact': 'False', 'min_dist': '6.6', 'aa': 'LEU'}, '#text': '370A'}, {'@attributes': {'id': '52', 'contact': 'False', 'min_dist': '6.4', 'aa': 'ALA'}, '#text': '252A'}, {'@attributes': {'id': '53', 'contact': 'False', 'min_dist': '3.4', 'aa': 'GLY'}, '#text': '298A'}, {'@attributes': {'id': '54', 'contact': 'True', 'min_dist': '3.6', 'aa': 'VAL'}, '#text': '187A'}, {'@attributes': {'id': '55', 'contact': 'False', 'min_dist': '5.6', 'aa': 'GLY'}, '#text': '305A'}, {'@attributes': {'id': '56', 'contact': 'True', 'min_dist': '2.7', 'aa': 'THR'}, '#text': '105A'}, {'@attributes': {'id': '57', 'contact': 'False', 'min_dist': '6.1', 'aa': 'HIS'}, '#text': '308A'}, {'@attributes': {'id': '58', 'contact': 'False', 'min_dist': '7.4', 'aa': 'ASP'}, '#text': '133A'}, {'@attributes': {'id': '59', 'contact': 'True', 'min_dist': '3.5', 'aa': 'GLY'}, '#text': '108A'}, {'@attributes': {'id': '60', 'contact': 'False', 'min_dist': '6.0', 'aa': 'ASP'}, '#text': '300A'}, {'@attributes': {'id': '61', 'contact': 'False', 'min_dist': '5.9', 'aa': 'VAL'}, '#text': '186A'}, {'@attributes': {'id': '62', 'contact': 'False', 'min_dist': '3.9', 'aa': 'VAL'}, '#text': '226A'}, {'@attributes': {'id': '63', 'contact': 'True', 'min_dist': '3.5', 'aa': 'ALA'}, '#text': '165A'}, {'@attributes': {'id': '64', 'contact': 'False', 'min_dist': '6.8', 'aa': 'ALA'}, '#text': '164A'}, {'@attributes': {'id': '65', 'contact': 'False', 'min_dist': '6.3', 'aa': 'ALA'}, '#text': '183A'}, {'@attributes': {'id': '66', 'contact': 'False', 'min_dist': '5.7', 'aa': 'ARG'}, '#text': '373A'}, {'@attributes': {'id': '67', 'contact': 'False', 'min_dist': '3.8', 'aa': 'LEU'}, '#text': '299A'}, {'@attributes': {'id': '68', 'contact': 'False', 'min_dist': '4.8', 'aa': 'ALA'}, '#text': '264A'}, {'@attributes': {'id': '69', 'contact': 'True', 'min_dist': '3.6', 'aa': 'ALA'}, '#text': '107A'}, {'@attributes': {'id': '70', 'contact': 'False', 'min_dist': '5.2', 'aa': 'PHE'}, '#text': '281A'}, {'@attributes': {'id': '71', 'contact': 'False', 'min_dist': '3.5', 'aa': 'LEU'}, '#text': '161A'}, {'@attributes': {'id': '72', 'contact': 'True', 'min_dist': '3.0', 'aa': 'HIS'}, '#text': '81A'}, {'@attributes': {'id': '73', 'contact': 'False', 'min_dist': '5.4', 'aa': 'PRO'}, '#text': '297A'}, {'@attributes': {'id': '74', 'contact': 'True', 'min_dist': '2.5', 'aa': 'VAL'}, '#text': '301A'}, {'@attributes': {'id': '75', 'contact': 'True', 'min_dist': '2.7', 'aa': 'SER'}, '#text': '371A'}, {'@attributes': {'id': '76', 'contact': 'False', 'min_dist': '5.7', 'aa': 'LYS'}, '#text': '162A'}, {'@attributes': {'id': '77', 'contact': 'False', 'min_dist': '6.5', 'aa': 'SER'}, '#text': '292A'}]}, 'interactions': {'hydrophobic_interactions': {'hydrophobic_interaction': [{'@attributes': {'id': '1'}, 'resnr': '80', 'restype': 'ALA', 'reschain': 'A', 'resnr_lig': '0', 'restype_lig': 'LIG', 'reschain_lig': 'B', 'dist': '3.93', 'ligcarbonidx': '2990', 'protcarbonidx': '665', 'ligcoo': {'x': '-5.672', 'y': '-0.299', 'z': '6.105'}, 'protcoo': {'x': '-5.512', 'y': '3.490', 'z': '7.151'}}, {'@attributes': {'id': '2'}, 'resnr': '104', 'restype': 'GLU', 'reschain': 'A', 'resnr_lig': '0', 'restype_lig': 'LIG', 'reschain_lig': 'B', 'dist': '3.89', 'ligcarbonidx': '2970', 'protcarbonidx': '842', 'ligcoo': {'x': '-2.290', 'y': '1.216', 'z': '-7.839'}, 'protcoo': {'x': '-5.124', 'y': '3.729', 'z': '-6.944'}}, {'@attributes': {'id': '3'}, 'resnr': '165', 'restype': 'ALA', 'reschain': 'A', 'resnr_lig': '0', 'restype_lig': 'LIG', 'reschain_lig': 'B', 'dist': '3.51', 'ligcarbonidx': '2969', 'protcarbonidx': '1286', 'ligcoo': {'x': '-1.789', 'y': '0.531', 'z': '-8.926'}, 'protcoo': {'x': '-4.534', 'y': '1.943', 'z': '-10.607'}}, {'@attributes': {'id': '4'}, 'resnr': '187', 'restype': 'VAL', 'reschain': 'A', 'resnr_lig': '0', 'restype_lig': 'LIG', 'reschain_lig': 'B', 'dist': '3.65', 'ligcarbonidx': '2970', 'protcarbonidx': '1466', 'ligcoo': {'x': '-2.290', 'y': '1.216', 'z': '-7.839'}, 'protcoo': {'x': '1.180', 'y': '1.036', 'z': '-6.731'}}]}, 'hydrogen_bonds': {'hydrogen_bond': [{'@attributes': {'id': '1'}, 'resnr': '81', 'restype': 'HIS', 'reschain': 'A', 'resnr_lig': '0', 'restype_lig': 'LIG', 'reschain_lig': 'B', 'sidechain': 'True', 'dist_h-a': '2.27', 'dist_d-a': '3.03', 'don_angle': '135.21', 'protisdon': 'False', 'donoridx': '2985', 'donortype': 'O3', 'acceptoridx': '675', 'acceptortype': 'Nar', 'ligcoo': {'x': '-0.394', 'y': '-1.278', 'z': '2.650'}, 'protcoo': {'x': '-0.662', 'y': '1.416', 'z': '4.016'}}, {'@attributes': {'id': '2'}, 'resnr': '82', 'restype': 'LYS', 'reschain': 'A', 'resnr_lig': '0', 'restype_lig': 'LIG', 'reschain_lig': 'B', 'sidechain': 'True', 'dist_h-a': '1.99', 'dist_d-a': '2.76', 'don_angle': '130.92', 'protisdon': 'True', 'donoridx': '684', 'donortype': 'N3', 'acceptoridx': '2984', 'acceptortype': 'O2', 'ligcoo': {'x': '-1.225', 'y': '-0.774', 'z': '0.375'}, 'protcoo': {'x': '-1.929', 'y': '1.897', 'z': '0.483'}}, {'@attributes': {'id': '3'}, 'resnr': '104', 'restype': 'GLU', 'reschain': 'A', 'resnr_lig': '0', 'restype_lig': 'LIG', 'reschain_lig': 'B', 'sidechain': 'True', 'dist_h-a': '2.12', 'dist_d-a': '2.98', 'don_angle': '145.36', 'protisdon': 'False', 'donoridx': '2972', 'donortype': 'Nar', 'acceptoridx': '845', 'acceptortype': 'O3', 'ligcoo': {'x': '-2.846', 'y': '0.982', 'z': '-5.373'}, 'protcoo': {'x': '-3.102', 'y': '3.934', 'z': '-5.701'}}, {'@attributes': {'id': '4'}, 'resnr': '105', 'restype': 'THR', 'reschain': 'A', 'resnr_lig': '0', 'restype_lig': 'LIG', 'reschain_lig': 'B', 'sidechain': 'True', 'dist_h-a': '2.04', 'dist_d-a': '2.68', 'don_angle': '121.22', 'protisdon': 'True', 'donoridx': '851', 'donortype': 'O3', 'acceptoridx': '2995', 'acceptortype': 'O.co2', 'ligcoo': {'x': '-7.097', 'y': '2.447', 'z': '-1.517'}, 'protcoo': {'x': '-8.881', 'y': '4.439', 'z': '-1.660'}}, {'@attributes': {'id': '5'}, 'resnr': '106', 'restype': 'GLY', 'reschain': 'A', 'resnr_lig': '0', 'restype_lig': 'LIG', 'reschain_lig': 'B', 'sidechain': 'False', 'dist_h-a': '1.73', 'dist_d-a': '2.70', 'don_angle': '168.40', 'protisdon': 'True', 'donoridx': '853', 'donortype': 'Nam', 'acceptoridx': '2995', 'acceptortype': 'O.co2', 'ligcoo': {'x': '-7.097', 'y': '2.447', 'z': '-1.517'}, 'protcoo': {'x': '-9.089', 'y': '1.704', 'z': '-3.185'}}, {'@attributes': {'id': '6'}, 'resnr': '107', 'restype': 'ALA', 'reschain': 'A', 'resnr_lig': '0', 'restype_lig': 'LIG', 'reschain_lig': 'B', 'sidechain': 'False', 'dist_h-a': '3.00', 'dist_d-a': '3.64', 'don_angle': '123.34', 'protisdon': 'True', 'donoridx': '857', 'donortype': 'Nam', 'acceptoridx': '2995', 'acceptortype': 'O.co2', 'ligcoo': {'x': '-7.097', 'y': '2.447', 'z': '-1.517'}, 'protcoo': {'x': '-9.881', 'y': '0.241', 'z': '-0.730'}}, {'@attributes': {'id': '7'}, 'resnr': '108', 'restype': 'GLY', 'reschain': 'A', 'resnr_lig': '0', 'restype_lig': 'LIG', 'reschain_lig': 'B', 'sidechain': 'False', 'dist_h-a': '2.99', 'dist_d-a': '3.93', 'don_angle': '159.44', 'protisdon': 'True', 'donoridx': '862', 'donortype': 'Nam', 'acceptoridx': '2995', 'acceptortype': 'O.co2', 'ligcoo': {'x': '-7.097', 'y': '2.447', 'z': '-1.517'}, 'protcoo': {'x': '-10.591', 'y': '2.621', 'z': '0.271'}}, {'@attributes': {'id': '8'}, 'resnr': '109', 'restype': 'GLN', 'reschain': 'A', 'resnr_lig': '0', 'restype_lig': 'LIG', 'reschain_lig': 'B', 'sidechain': 'False', 'dist_h-a': '2.51', 'dist_d-a': '3.01', 'don_angle': '111.53', 'protisdon': 'True', 'donoridx': '866', 'donortype': 'Nam', 'acceptoridx': '2994', 'acceptortype': 'O.co2', 'ligcoo': {'x': '-7.129', 'y': '2.517', 'z': '0.656'}, 'protcoo': {'x': '-9.260', 'y': '4.039', 'z': '2.146'}}, {'@attributes': {'id': '9'}, 'resnr': '110', 'restype': 'HIS', 'reschain': 'A', 'resnr_lig': '0', 'restype_lig': 'LIG', 'reschain_lig': 'B', 'sidechain': 'False', 'dist_h-a': '1.91', 'dist_d-a': '2.85', 'don_angle': '159.42', 'protisdon': 'True', 'donoridx': '875', 'donortype': 'Nam', 'acceptoridx': '2994', 'acceptortype': 'O.co2', 'ligcoo': {'x': '-7.129', 'y': '2.517', 'z': '0.656'}, 'protcoo': {'x': '-6.893', 'y': '5.296', 'z': '1.253'}}, {'@attributes': {'id': '10'}, 'resnr': '185', 'restype': 'SER', 'reschain': 'A', 'resnr_lig': '0', 'restype_lig': 'LIG', 'reschain_lig': 'B', 'sidechain': 'True', 'dist_h-a': '3.54', 'dist_d-a': '4.07', 'don_angle': '117.15', 'protisdon': 'True', 'donoridx': '1452', 'donortype': 'O3', 'acceptoridx': '2986', 'acceptortype': 'O3', 'ligcoo': {'x': '-0.120', 'y': '-2.926', 'z': '0.834'}, 'protcoo': {'x': '0.907', 'y': '-0.033', 'z': '-1.844'}}, {'@attributes': {'id': '11'}, 'resnr': '227', 'restype': 'GLY', 'reschain': 'A', 'resnr_lig': '0', 'restype_lig': 'LIG', 'reschain_lig': 'B', 'sidechain': 'False', 'dist_h-a': '1.95', 'dist_d-a': '2.86', 'don_angle': '153.70', 'protisdon': 'True', 'donoridx': '1762', 'donortype': 'Nam', 'acceptoridx': '2986', 'acceptortype': 'O3', 'ligcoo': {'x': '-0.120', 'y': '-2.926', 'z': '0.834'}, 'protcoo': {'x': '-0.821', 'y': '-5.611', 'z': '0.124'}}, {'@attributes': {'id': '12'}, 'resnr': '228', 'restype': 'GLY', 'reschain': 'A', 'resnr_lig': '0', 'restype_lig': 'LIG', 'reschain_lig': 'B', 'sidechain': 'False', 'dist_h-a': '3.10', 'dist_d-a': '3.90', 'don_angle': '139.20', 'protisdon': 'True', 'donoridx': '1766', 'donortype': 'Nam', 'acceptoridx': '2984', 'acceptortype': 'O2', 'ligcoo': {'x': '-1.225', 'y': '-0.774', 'z': '0.375'}, 'protcoo': {'x': '-0.622', 'y': '-3.605', 'z': '-2.244'}}, {'@attributes': {'id': '13'}, 'resnr': '229', 'restype': 'GLY', 'reschain': 'A', 'resnr_lig': '0', 'restype_lig': 'LIG', 'reschain_lig': 'B', 'sidechain': 'False', 'dist_h-a': '3.08', 'dist_d-a': '3.94', 'don_angle': '146.65', 'protisdon': 'True', 'donoridx': '1770', 'donortype': 'Nam', 'acceptoridx': '2984', 'acceptortype': 'O2', 'ligcoo': {'x': '-1.225', 'y': '-0.774', 'z': '0.375'}, 'protcoo': {'x': '1.670', 'y': '-3.039', 'z': '-1.046'}}, {'@attributes': {'id': '14'}, 'resnr': '230', 'restype': 'SER', 'reschain': 'A', 'resnr_lig': '0', 'restype_lig': 'LIG', 'reschain_lig': 'B', 'sidechain': 'False', 'dist_h-a': '2.92', 'dist_d-a': '3.83', 'don_angle': '152.61', 'protisdon': 'True', 'donoridx': '1774', 'donortype': 'Nam', 'acceptoridx': '2984', 'acceptortype': 'O2', 'ligcoo': {'x': '-1.225', 'y': '-0.774', 'z': '0.375'}, 'protcoo': {'x': '2.585', 'y': '-0.917', 'z': '0.684'}}, {'@attributes': {'id': '15'}, 'resnr': '231', 'restype': 'ASN', 'reschain': 'A', 'resnr_lig': '0', 'restype_lig': 'LIG', 'reschain_lig': 'B', 'sidechain': 'False', 'dist_h-a': '2.01', 'dist_d-a': '2.97', 'don_angle': '166.68', 'protisdon': 'True', 'donoridx': '1780', 'donortype': 'Nam', 'acceptoridx': '2985', 'acceptortype': 'O3', 'ligcoo': {'x': '-0.394', 'y': '-1.278', 'z': '2.650'}, 'protcoo': {'x': '2.271', 'y': '-0.375', 'z': '3.608'}}, {'@attributes': {'id': '16'}, 'resnr': '231', 'restype': 'ASN', 'reschain': 'A', 'resnr_lig': '0', 'restype_lig': 'LIG', 'reschain_lig': 'B', 'sidechain': 'True', 'dist_h-a': '1.88', 'dist_d-a': '2.86', 'don_angle': '170.10', 'protisdon': 'True', 'donoridx': '1787', 'donortype': 'Nam', 'acceptoridx': '2985', 'acceptortype': 'O3', 'ligcoo': {'x': '-0.394', 'y': '-1.278', 'z': '2.650'}, 'protcoo': {'x': '0.162', 'y': '-2.859', 'z': '4.962'}}, {'@attributes': {'id': '17'}, 'resnr': '371', 'restype': 'SER', 'reschain': 'A', 'resnr_lig': '0', 'restype_lig': 'LIG', 'reschain_lig': 'B', 'sidechain': 'True', 'dist_h-a': '2.13', 'dist_d-a': '2.72', 'don_angle': '118.13', 'protisdon': 'True', 'donoridx': '2842', 'donortype': 'O3', 'acceptoridx': '2988', 'acceptortype': 'Nar', 'ligcoo': {'x': '-3.983', 'y': '-1.775', 'z': '5.171'}, 'protcoo': {'x': '-3.128', 'y': '-2.398', 'z': '7.682'}}]}, 'water_bridges': None, 'salt_bridges': {'salt_bridge': {'@attributes': {'id': '1'}, 'resnr': '82', 'restype': 'LYS', 'reschain': 'A', 'prot_idx_list': {'idx': {'@attributes': {'id': '1'}, '#text': '684'}}, 'resnr_lig': '0', 'restype_lig': 'LIG', 'reschain_lig': 'B', 'dist': '5.30', 'protispos': 'True', 'lig_group': 'Carboxylate', 'lig_idx_list': {'idx': [{'@attributes': {'id': '1'}, '#text': '2995'}, {'@attributes': {'id': '2'}, '#text': '2994'}]}, 'ligcoo': {'x': '-7.113', 'y': '2.482', 'z': '-0.430'}, 'protcoo': {'x': '-1.929', 'y': '1.897', 'z': '0.483'}}}, 'pi_stacks': {'pi_stack': [{'@attributes': {'id': '1'}, 'resnr': '81', 'restype': 'HIS', 'reschain': 'A', 'resnr_lig': '0', 'restype_lig': 'LIG', 'reschain_lig': 'B', 'prot_idx_list': {'idx': [{'@attributes': {'id': '1'}, '#text': '671'}, {'@attributes': {'id': '2'}, '#text': '672'}, {'@attributes': {'id': '3'}, '#text': '673'}, {'@attributes': {'id': '4'}, '#text': '674'}, {'@attributes': {'id': '5'}, '#text': '675'}]}, 'centdist': '4.68', 'angle': '74.55', 'offset': '0.80', 'type': 'T', 'lig_idx_list': {'idx': [{'@attributes': {'id': '1'}, '#text': '2980'}, {'@attributes': {'id': '2'}, '#text': '2981'}, {'@attributes': {'id': '3'}, '#text': '2987'}, {'@attributes': {'id': '4'}, '#text': '2988'}, {'@attributes': {'id': '5'}, '#text': '2989'}, {'@attributes': {'id': '6'}, '#text': '2991'}]}, 'ligcoo': {'x': '-4.215', 'y': '-1.398', 'z': '3.881'}, 'protcoo': {'x': '-0.957', 'y': '1.752', 'z': '5.066'}}, {'@attributes': {'id': '2'}, 'resnr': '275', 'restype': 'HIS', 'reschain': 'A', 'resnr_lig': '0', 'restype_lig': 'LIG', 'reschain_lig': 'B', 'prot_idx_list': {'idx': [{'@attributes': {'id': '1'}, '#text': '2098'}, {'@attributes': {'id': '2'}, '#text': '2099'}, {'@attributes': {'id': '3'}, '#text': '2100'}, {'@attributes': {'id': '4'}, '#text': '2101'}, {'@attributes': {'id': '5'}, '#text': '2102'}]}, 'centdist': '5.22', 'angle': '79.54', 'offset': '1.05', 'type': 'T', 'lig_idx_list': {'idx': [{'@attributes': {'id': '1'}, '#text': '2967'}, {'@attributes': {'id': '2'}, '#text': '2968'}, {'@attributes': {'id': '3'}, '#text': '2969'}, {'@attributes': {'id': '4'}, '#text': '2970'}, {'@attributes': {'id': '5'}, '#text': '2971'}, {'@attributes': {'id': '6'}, '#text': '2975'}]}, 'ligcoo': {'x': '-1.885', 'y': '-0.118', 'z': '-7.705'}, 'protcoo': {'x': '-2.214', 'y': '-1.531', 'z': '-12.718'}}]}, 'pi_cation_interactions': None, 'halogen_bonds': None, 'metal_complexes': {'metal_complex': [{'@attributes': {'id': '1'}, 'resnr': '263', 'restype': 'SER', 'reschain': 'A', 'resnr_lig': '0', 'restype_lig': 'LIG', 'reschain_lig': 'B', 'metal_idx': '2996', 'metal_type': 'Na', 'target_idx': '2021', 'target_type': 'O', 'coordination': '4', 'dist': '2.70', 'location': 'protein.mainchain', 'rms': '42.99', 'geometry': 'square.planar', 'complexnum': '1', 'metalcoo': {'x': '-1.675', 'y': '-8.521', 'z': '-4.796'}, 'targetcoo': {'x': '-2.691', 'y': '-10.890', 'z': '-4.001'}}, {'@attributes': {'id': '2'}, 'resnr': '265', 'restype': 'SER', 'reschain': 'A', 'resnr_lig': '0', 'restype_lig': 'LIG', 'reschain_lig': 'B', 'metal_idx': '2996', 'metal_type': 'Na', 'target_idx': '2034', 'target_type': 'O', 'coordination': '4', 'dist': '2.62', 'location': 'protein.sidechain', 'rms': '42.99', 'geometry': 'square.planar', 'complexnum': '1', 'metalcoo': {'x': '-1.675', 'y': '-8.521', 'z': '-4.796'}, 'targetcoo': {'x': '-0.479', 'y': '-9.789', 'z': '-6.758'}}, {'@attributes': {'id': '3'}, 'resnr': '301', 'restype': 'VAL', 'reschain': 'A', 'resnr_lig': '0', 'restype_lig': 'LIG', 'reschain_lig': 'B', 'metal_idx': '2996', 'metal_type': 'Na', 'target_idx': '2297', 'target_type': 'O', 'coordination': '4', 'dist': '2.49', 'location': 'protein.mainchain', 'rms': '42.99', 'geometry': 'square.planar', 'complexnum': '1', 'metalcoo': {'x': '-1.675', 'y': '-8.521', 'z': '-4.796'}, 'targetcoo': {'x': '-3.751', 'y': '-7.917', 'z': '-6.038'}}, {'@attributes': {'id': '4'}, 'resnr': '303', 'restype': 'GLY', 'reschain': 'A', 'resnr_lig': '0', 'restype_lig': 'LIG', 'reschain_lig': 'B', 'metal_idx': '2996', 'metal_type': 'Na', 'target_idx': '2311', 'target_type': 'O', 'coordination': '4', 'dist': '2.72', 'location': 'protein.mainchain', 'rms': '42.99', 'geometry': 'square.planar', 'complexnum': '1', 'metalcoo': {'x': '-1.675', 'y': '-8.521', 'z': '-4.796'}, 'targetcoo': {'x': '-0.201', 'y': '-6.625', 'z': '-6.073'}}]}}, 'mappings': {'smiles_to_pdb': '21:2966,22:2967,23:2968,24:2969,25:2970,26:2971,30:2972,29:2973,28:2974,27:2975,19:2976,3:2977,4:2978,5:2979,6:2980,7:2981,14:2982,15:2983,16:2984,17:2985,18:2986,8:2987,9:2988,10:2989,13:2990,11:2991,12:2992,2:2993,1:2994,20:2995,31:2996'}}, 'date_of_creation': '2025/01/21', 'citation_information': 'Adasme,M. et al. PLIP 2021: expanding the scope of the protein-ligand interaction profiler to DNA and RNA. Nucl. Acids Res. (05 May 2021), gkab294. doi: 10.1093/nar/gkab294', 'maintainer_information': 'PharmAI GmbH (2020-2021) - www.pharm.ai - hello@pharm.ai', 'mode': 'default', 'pdbid': 'I165A:I183A:Y301V_0_PROTEIN', 'model': '1', 'filetype': 'PDB', 'pdbfile': '/disk2/fli/REVIVAL2/zs/plip/af3/struct_joint/PfTrpB-4bromo/I165A:I183A:Y301V_0/I165A:I183A:Y301V_0.pdb', 'pdbfixes': 'False', 'filename': 'I165A:I183A:Y301V_0.pdb', 'excluded_ligands': None, 'covlinkages': None}\n"
     ]
    }
   ],
   "source": [
    "\n",
    "# Example usage\n",
    "file_path = \"/disk2/fli/REVIVAL2/zs/plip/af3/struct_joint/PfTrpB-4bromo/I165A:I183A:Y301V_0/report.xml\"  # Replace with the path to your XML file\n",
    "result = xml_file_to_dict(file_path)\n",
    "print(result)\n"
   ]
  },
  {
   "cell_type": "code",
   "execution_count": 9,
   "metadata": {},
   "outputs": [
    {
     "data": {
      "text/plain": [
       "7"
      ]
     },
     "execution_count": 9,
     "metadata": {},
     "output_type": "execute_result"
    }
   ],
   "source": [
    "len(result[\"bindingsite\"])"
   ]
  },
  {
   "cell_type": "code",
   "execution_count": 10,
   "metadata": {},
   "outputs": [
    {
     "data": {
      "text/plain": [
       "dict_keys(['@attributes', 'identifiers', 'lig_properties', 'interacting_chains', 'bs_residues', 'interactions', 'mappings'])"
      ]
     },
     "execution_count": 10,
     "metadata": {},
     "output_type": "execute_result"
    }
   ],
   "source": [
    "result[\"bindingsite\"].keys()"
   ]
  },
  {
   "cell_type": "code",
   "execution_count": 30,
   "metadata": {},
   "outputs": [],
   "source": [
    "active_site_list = []\n",
    "\n",
    "for i in result[\"bindingsite\"][\"bs_residues\"][\"bs_residue\"]:\n",
    "    active_site_list.append((i[\"@attributes\"][\"aa\"], int(i[\"#text\"][:-2])))"
   ]
  },
  {
   "cell_type": "code",
   "execution_count": 31,
   "metadata": {},
   "outputs": [
    {
     "data": {
      "text/plain": [
       "[('LYS', 37),\n",
       " ('ALA', 23),\n",
       " ('MET', 12),\n",
       " ('LEU', 26),\n",
       " ('GLY', 37),\n",
       " ('GLY', 22),\n",
       " ('HIS', 11),\n",
       " ('GLN', 13),\n",
       " ('VAL', 11),\n",
       " ('ALA', 11),\n",
       " ('PRO', 30),\n",
       " ('GLU', 25),\n",
       " ('GLN', 20),\n",
       " ('GLN', 10),\n",
       " ('SER', 26),\n",
       " ('HIS', 27),\n",
       " ('GLY', 11),\n",
       " ('GLY', 7),\n",
       " ('HIS', 26),\n",
       " ('GLY', 18),\n",
       " ('ASN', 23),\n",
       " ('TYR', 12),\n",
       " ('GLY', 22),\n",
       " ('GLY', 30),\n",
       " ('LYS', 8),\n",
       " ('SER', 34),\n",
       " ('SER', 26),\n",
       " ('ASP', 16),\n",
       " ('ASN', 14),\n",
       " ('SER', 27),\n",
       " ('MET', 23),\n",
       " ('LEU', 28),\n",
       " ('GLY', 22),\n",
       " ('GLU', 34),\n",
       " ('LEU', 34),\n",
       " ('ALA', 8),\n",
       " ('ASN', 36),\n",
       " ('VAL', 19),\n",
       " ('ALA', 34),\n",
       " ('GLY', 18),\n",
       " ('VAL', 30),\n",
       " ('CYS', 22),\n",
       " ('MET', 27),\n",
       " ('SER', 18),\n",
       " ('GLU', 10),\n",
       " ('ASP', 37),\n",
       " ('TYR', 18),\n",
       " ('GLU', 7),\n",
       " ('GLY', 10),\n",
       " ('SER', 23),\n",
       " ('LEU', 37),\n",
       " ('ALA', 25),\n",
       " ('GLY', 29),\n",
       " ('VAL', 18),\n",
       " ('GLY', 30),\n",
       " ('THR', 10),\n",
       " ('HIS', 30),\n",
       " ('ASP', 13),\n",
       " ('GLY', 10),\n",
       " ('ASP', 30),\n",
       " ('VAL', 18),\n",
       " ('VAL', 22),\n",
       " ('ALA', 16),\n",
       " ('ALA', 16),\n",
       " ('ALA', 18),\n",
       " ('ARG', 37),\n",
       " ('LEU', 29),\n",
       " ('ALA', 26),\n",
       " ('ALA', 10),\n",
       " ('PHE', 28),\n",
       " ('LEU', 16),\n",
       " ('HIS', 8),\n",
       " ('PRO', 29),\n",
       " ('VAL', 30),\n",
       " ('SER', 37),\n",
       " ('LYS', 16),\n",
       " ('SER', 29)]"
      ]
     },
     "execution_count": 31,
     "metadata": {},
     "output_type": "execute_result"
    }
   ],
   "source": [
    "active_site_list"
   ]
  },
  {
   "cell_type": "code",
   "execution_count": 14,
   "metadata": {},
   "outputs": [
    {
     "data": {
      "text/plain": [
       "dict_keys(['hydrophobic_interactions', 'hydrogen_bonds', 'water_bridges', 'salt_bridges', 'pi_stacks', 'pi_cation_interactions', 'halogen_bonds', 'metal_complexes'])"
      ]
     },
     "execution_count": 14,
     "metadata": {},
     "output_type": "execute_result"
    }
   ],
   "source": [
    "result[\"bindingsite\"][\"interactions\"].keys()"
   ]
  },
  {
   "cell_type": "code",
   "execution_count": 19,
   "metadata": {},
   "outputs": [
    {
     "data": {
      "text/plain": [
       "{'metal_complex': [{'@attributes': {'id': '1'},\n",
       "   'resnr': '263',\n",
       "   'restype': 'SER',\n",
       "   'reschain': 'A',\n",
       "   'resnr_lig': '0',\n",
       "   'restype_lig': 'LIG',\n",
       "   'reschain_lig': 'B',\n",
       "   'metal_idx': '2996',\n",
       "   'metal_type': 'Na',\n",
       "   'target_idx': '2021',\n",
       "   'target_type': 'O',\n",
       "   'coordination': '4',\n",
       "   'dist': '2.70',\n",
       "   'location': 'protein.mainchain',\n",
       "   'rms': '42.99',\n",
       "   'geometry': 'square.planar',\n",
       "   'complexnum': '1',\n",
       "   'metalcoo': {'x': '-1.675', 'y': '-8.521', 'z': '-4.796'},\n",
       "   'targetcoo': {'x': '-2.691', 'y': '-10.890', 'z': '-4.001'}},\n",
       "  {'@attributes': {'id': '2'},\n",
       "   'resnr': '265',\n",
       "   'restype': 'SER',\n",
       "   'reschain': 'A',\n",
       "   'resnr_lig': '0',\n",
       "   'restype_lig': 'LIG',\n",
       "   'reschain_lig': 'B',\n",
       "   'metal_idx': '2996',\n",
       "   'metal_type': 'Na',\n",
       "   'target_idx': '2034',\n",
       "   'target_type': 'O',\n",
       "   'coordination': '4',\n",
       "   'dist': '2.62',\n",
       "   'location': 'protein.sidechain',\n",
       "   'rms': '42.99',\n",
       "   'geometry': 'square.planar',\n",
       "   'complexnum': '1',\n",
       "   'metalcoo': {'x': '-1.675', 'y': '-8.521', 'z': '-4.796'},\n",
       "   'targetcoo': {'x': '-0.479', 'y': '-9.789', 'z': '-6.758'}},\n",
       "  {'@attributes': {'id': '3'},\n",
       "   'resnr': '301',\n",
       "   'restype': 'VAL',\n",
       "   'reschain': 'A',\n",
       "   'resnr_lig': '0',\n",
       "   'restype_lig': 'LIG',\n",
       "   'reschain_lig': 'B',\n",
       "   'metal_idx': '2996',\n",
       "   'metal_type': 'Na',\n",
       "   'target_idx': '2297',\n",
       "   'target_type': 'O',\n",
       "   'coordination': '4',\n",
       "   'dist': '2.49',\n",
       "   'location': 'protein.mainchain',\n",
       "   'rms': '42.99',\n",
       "   'geometry': 'square.planar',\n",
       "   'complexnum': '1',\n",
       "   'metalcoo': {'x': '-1.675', 'y': '-8.521', 'z': '-4.796'},\n",
       "   'targetcoo': {'x': '-3.751', 'y': '-7.917', 'z': '-6.038'}},\n",
       "  {'@attributes': {'id': '4'},\n",
       "   'resnr': '303',\n",
       "   'restype': 'GLY',\n",
       "   'reschain': 'A',\n",
       "   'resnr_lig': '0',\n",
       "   'restype_lig': 'LIG',\n",
       "   'reschain_lig': 'B',\n",
       "   'metal_idx': '2996',\n",
       "   'metal_type': 'Na',\n",
       "   'target_idx': '2311',\n",
       "   'target_type': 'O',\n",
       "   'coordination': '4',\n",
       "   'dist': '2.72',\n",
       "   'location': 'protein.mainchain',\n",
       "   'rms': '42.99',\n",
       "   'geometry': 'square.planar',\n",
       "   'complexnum': '1',\n",
       "   'metalcoo': {'x': '-1.675', 'y': '-8.521', 'z': '-4.796'},\n",
       "   'targetcoo': {'x': '-0.201', 'y': '-6.625', 'z': '-6.073'}}]}"
      ]
     },
     "execution_count": 19,
     "metadata": {},
     "output_type": "execute_result"
    }
   ],
   "source": [
    "result[\"bindingsite\"][\"interactions\"][\"metal_complexes\"]"
   ]
  },
  {
   "cell_type": "code",
   "execution_count": 2,
   "metadata": {},
   "outputs": [],
   "source": [
    "import os\n",
    "from plip.structure.preparation import PDBComplex\n",
    "from rdkit import Chem\n",
    "from rdkit.Chem import AllChem\n",
    "from simtk.openmm.app import *\n",
    "from simtk.openmm import *\n",
    "from simtk.unit import *\n",
    "\n",
    "def analyze_interactions(pdb_file):\n",
    "    # Step 1: Use PLIP to identify protein-ligand interactions\n",
    "    pl_complex = PDBComplex()\n",
    "    pl_complex.load_pdb(pdb_file)\n",
    "    interactions_summary = {}\n",
    "\n",
    "    # Parse each binding site detected by PLIP\n",
    "    for bs_id, site in pl_complex.interaction_sets.items():\n",
    "        interactions_summary[bs_id] = {\n",
    "            \"hydrophobic\": len(site.hydrophobic_contacts),\n",
    "            \"h_bonds\": len(site.hydrogen_bonds),\n",
    "            \"salt_bridges\": len(site.saltbridges),\n",
    "            \"pi_stacking\": len(site.pi_stacking),\n",
    "            \"metal_complexes\": len(site.metal_complexes),\n",
    "        }\n",
    "    \n",
    "    return interactions_summary\n",
    "\n",
    "def calculate_rdkit_energy(smiles):\n",
    "    # Step 2: Use RDKit to compute molecular energy\n",
    "    mol = Chem.MolFromSmiles(smiles)\n",
    "    mol = Chem.AddHs(mol)\n",
    "    AllChem.EmbedMolecule(mol)\n",
    "    energy = AllChem.UFFGetMoleculeForceField(mol).CalcEnergy()\n",
    "    return energy\n",
    "\n",
    "def calculate_openmm_energy(pdb_file):\n",
    "    # Step 3: Use OpenMM to calculate interaction energy\n",
    "    pdb = PDBFile(pdb_file)\n",
    "    forcefield = ForceField('amber99sb.xml', 'tip3p.xml')\n",
    "    system = forcefield.createSystem(pdb.topology, nonbondedMethod=NoCutoff, constraints=HBonds)\n",
    "    integrator = VerletIntegrator(0.002*picoseconds)\n",
    "    simulation = Simulation(pdb.topology, system, integrator)\n",
    "    simulation.context.setPositions(pdb.positions)\n",
    "    state = simulation.context.getState(getEnergy=True)\n",
    "    potential_energy = state.getPotentialEnergy().value_in_unit(kilocalories_per_mole)\n",
    "    return potential_energy\n",
    "\n",
    "# def main():\n",
    "#     # Input files\n",
    "#     pdb_file = \"protein_ligand.pdb\"  # Replace with your PDB file path\n",
    "#     ligand_smiles = \"CC(=O)NC1=CC=C(O)C=C1\"  # Replace with your ligand's SMILES\n",
    "    \n",
    "#     # Step 1: Analyze interactions with PLIP\n",
    "#     interactions = analyze_interactions(pdb_file)\n",
    "#     print(\"PLIP Interaction Analysis:\")\n",
    "#     for site_id, data in interactions.items():\n",
    "#         print(f\"Binding Site {site_id}: {data}\")\n",
    "    \n",
    "#     # Step 2: Calculate RDKit energy\n",
    "#     rdkit_energy = calculate_rdkit_energy(ligand_smiles)\n",
    "#     print(f\"RDKit Ligand Energy: {rdkit_energy:.2f} kcal/mol\")\n",
    "    \n",
    "#     # Step 3: Calculate OpenMM interaction energy\n",
    "#     openmm_energy = calculate_openmm_energy(pdb_file)\n",
    "#     print(f\"OpenMM Interaction Energy: {openmm_energy:.2f} kcal/mol\")\n",
    "\n"
   ]
  },
  {
   "cell_type": "code",
   "execution_count": 9,
   "metadata": {},
   "outputs": [
    {
     "name": "stdout",
     "output_type": "stream",
     "text": [
      "PLIP Interaction Analysis:\n"
     ]
    }
   ],
   "source": [
    "pdb_file = \"/disk2/fli/REVIVAL2/zs/plip/af3/struct_joint/PfTrpB-4bromo/I165A:I183A:Y301V_0/I165A:I183A:Y301V_0_protonated.pdb\"  # Replace with the path to your XML file\n",
    "interactions = analyze_interactions(pdb_file)\n",
    "print(\"PLIP Interaction Analysis:\")\n",
    "for site_id, data in interactions.items():\n",
    "    print(f\"Binding Site {site_id}: {data}\")"
   ]
  },
  {
   "cell_type": "code",
   "execution_count": 1,
   "metadata": {},
   "outputs": [
    {
     "name": "stderr",
     "output_type": "stream",
     "text": [
      "Warning: importing 'simtk.openmm' is deprecated.  Import 'openmm' instead.\n"
     ]
    },
    {
     "name": "stdout",
     "output_type": "stream",
     "text": [
      "Fixed PDB file saved to protein_fixed.pdb\n"
     ]
    }
   ],
   "source": [
    "from pdbfixer import PDBFixer\n",
    "from simtk.openmm.app import PDBFile\n",
    "\n",
    "def fix_pdb(pdb_file, fixed_pdb_file):\n",
    "    fixer = PDBFixer(filename=pdb_file)\n",
    "    fixer.findMissingResidues()\n",
    "    fixer.findMissingAtoms()\n",
    "    fixer.addMissingAtoms()\n",
    "    fixer.addMissingHydrogens(pH=7.4)  # Add hydrogens at neutral pH\n",
    "    with open(fixed_pdb_file, 'w') as output:\n",
    "        PDBFile.writeFile(fixer.topology, fixer.positions, output)\n",
    "    print(f\"Fixed PDB file saved to {fixed_pdb_file}\")\n",
    "\n",
    "# Input and output PDB file paths\n",
    "original_pdb = \"protein.pdb\"\n",
    "fixed_pdb = \"protein_fixed.pdb\"\n",
    "\n",
    "fix_pdb(original_pdb, fixed_pdb)\n"
   ]
  },
  {
   "cell_type": "code",
   "execution_count": 19,
   "metadata": {},
   "outputs": [
    {
     "name": "stderr",
     "output_type": "stream",
     "text": [
      "1 molecule converted\n"
     ]
    },
    {
     "data": {
      "text/plain": [
       "CompletedProcess(args=['obabel', 'ligand.sdf', '-O', 'ligand.mol2'], returncode=0)"
      ]
     },
     "execution_count": 19,
     "metadata": {},
     "output_type": "execute_result"
    }
   ],
   "source": [
    "from rdkit import Chem\n",
    "from rdkit.Chem import AllChem\n",
    "import subprocess\n",
    "\n",
    "ligand_smiles = \"C1=CC2=C(C=CN2)C(=C1)Br\"  # Replace with your ligand SMILES\n",
    "ligand = Chem.MolFromSmiles(ligand_smiles)\n",
    "ligand = Chem.AddHs(ligand)\n",
    "AllChem.EmbedMolecule(ligand)\n",
    "\n",
    "# Save as SDF\n",
    "Chem.MolToMolFile(ligand, \"ligand.sdf\")\n",
    "\n",
    "# Convert SDF to MOL2 using Open Babel\n",
    "subprocess.run([\"obabel\", \"ligand.sdf\", \"-O\", \"ligand.mol2\"])\n"
   ]
  },
  {
   "cell_type": "code",
   "execution_count": 15,
   "metadata": {},
   "outputs": [],
   "source": [
    "import parmed\n",
    "\n",
    "def generate_openmm_params(mol2_file, frcmod_file, xml_output):\n",
    "    \"\"\"\n",
    "    Generate OpenMM XML parameters from Amber files (MOL2 and FRCMOD).\n",
    "\n",
    "    Args:\n",
    "        mol2_file (str): Path to the MOL2 file (ligand structure with charges).\n",
    "        frcmod_file (str): Path to the FRCMOD file (ligand force field parameters).\n",
    "        xml_output (str): Path to save the OpenMM-compatible XML file.\n",
    "    \"\"\"\n",
    "    # Load the ligand as a ResidueTemplate\n",
    "    print(f\"Loading MOL2 file: {mol2_file}\")\n",
    "    residue_template = parmed.load_file(mol2_file)\n",
    "\n",
    "    # Create a new Structure object\n",
    "    print(\"Converting ResidueTemplate to Structure...\")\n",
    "    structure = parmed.Structure()\n",
    "\n",
    "    # Add atoms to the Structure\n",
    "    print(\"Adding atoms...\")\n",
    "    atom_mapping = {}\n",
    "    for atom in residue_template.atoms:\n",
    "        new_atom = parmed.Atom(\n",
    "            name=atom.name,\n",
    "            type=atom.type,\n",
    "            atomic_number=atom.atomic_number,\n",
    "            mass=atom.mass,\n",
    "            charge=atom.charge\n",
    "        )\n",
    "        structure.add_atom(new_atom, residue_template.name, 1)\n",
    "        atom_mapping[atom] = new_atom\n",
    "\n",
    "    # Add bonds to the Structure\n",
    "    print(\"Adding bonds...\")\n",
    "    for bond in residue_template.bonds:\n",
    "        structure.bonds.append(parmed.Bond(atom_mapping[bond.atom1], atom_mapping[bond.atom2]))\n",
    "\n",
    "    # Load the Amber parameters (FRCMOD)\n",
    "    print(f\"Loading FRCMOD file: {frcmod_file}\")\n",
    "    frcmod_params = parmed.amber.AmberParameterSet(frcmod_file)\n",
    "\n",
    "    # Assign parameters to the Structure\n",
    "    print(\"Applying FRCMOD parameters to the structure...\")\n",
    "    structure.parameters = frcmod_params\n",
    "\n",
    "    # Save as OpenMM XML\n",
    "    print(f\"Saving OpenMM-compatible XML file: {xml_output}\")\n",
    "    parmed.openmm.OpenMMParameterSet.from_structure(structure).write(xml_output)\n",
    "    print(f\"OpenMM parameter file saved as {xml_output}\")\n"
   ]
  },
  {
   "cell_type": "code",
   "execution_count": 16,
   "metadata": {},
   "outputs": [
    {
     "name": "stdout",
     "output_type": "stream",
     "text": [
      "/disk2/fli/REVIVAL2/sandbox/testopenmm\n"
     ]
    }
   ],
   "source": [
    "%cd ~/REVIVAL2/sandbox/testopenmm/"
   ]
  },
  {
   "cell_type": "code",
   "execution_count": 17,
   "metadata": {},
   "outputs": [
    {
     "name": "stdout",
     "output_type": "stream",
     "text": [
      "Loading MOL2 file: ligand_charged.mol2\n",
      "Converting ResidueTemplate to Structure...\n",
      "Adding atoms...\n",
      "Adding bonds...\n",
      "Loading FRCMOD file: ligand.frcmod\n",
      "Applying FRCMOD parameters to the structure...\n",
      "Saving OpenMM-compatible XML file: ligand.xml\n",
      "OpenMM parameter file saved as ligand.xml\n"
     ]
    }
   ],
   "source": [
    "# Input files\n",
    "mol2_file = \"ligand_charged.mol2\"  # Replace with your MOL2 file\n",
    "frcmod_file = \"ligand.frcmod\"      # Replace with your FRCMOD file\n",
    "xml_output = \"ligand.xml\"          # Desired output XML file\n",
    "\n",
    "# Generate OpenMM parameters\n",
    "try:\n",
    "    generate_openmm_params(mol2_file, frcmod_file, xml_output)\n",
    "except Exception as e:\n",
    "    print(f\"Error: {e}\")\n"
   ]
  },
  {
   "cell_type": "code",
   "execution_count": 18,
   "metadata": {},
   "outputs": [
    {
     "name": "stderr",
     "output_type": "stream",
     "text": [
      "Warning: importing 'simtk.openmm' is deprecated.  Import 'openmm' instead.\n"
     ]
    }
   ],
   "source": [
    "from simtk.openmm.app import *\n",
    "from simtk.openmm import *\n",
    "from simtk.unit import *\n",
    "\n",
    "def calculate_openmm_energy_with_ligand(pdb_file, ligand_params_file):\n",
    "    pdb = PDBFile(pdb_file)\n",
    "    forcefield = ForceField('amber99sb.xml', 'tip3p.xml', ligand_params_file)\n",
    "    system = forcefield.createSystem(pdb.topology, nonbondedMethod=NoCutoff, constraints=HBonds)\n",
    "    integrator = VerletIntegrator(0.002 * picoseconds)\n",
    "    simulation = Simulation(pdb.topology, system, integrator)\n",
    "    simulation.context.setPositions(pdb.positions)\n",
    "    state = simulation.context.getState(getEnergy=True)\n",
    "    potential_energy = state.getPotentialEnergy().value_in_unit(kilocalories_per_mole)\n",
    "    return potential_energy\n"
   ]
  },
  {
   "cell_type": "code",
   "execution_count": null,
   "metadata": {},
   "outputs": [],
   "source": [
    "calculate_openmm_energy_with_ligand(\n",
    "    pdb_file=\"/disk2/fli/REVIVAL2/sandbox/testopenmm/protein_fixed.pdb\",\n",
    "    ligand_params_file=\"/disk2/fli/REVIVAL2/sandbox/testopenmm/ligand.xml\"\n",
    "    )"
   ]
  },
  {
   "cell_type": "code",
   "execution_count": 17,
   "metadata": {},
   "outputs": [],
   "source": [
    "import xml.etree.ElementTree as ET\n",
    "\n",
    "def extract_interactions_from_plip(xml_file):\n",
    "    \"\"\"\n",
    "    Extract interaction data from a PLIP report XML file.\n",
    "\n",
    "    Args:\n",
    "        xml_file (str): Path to the PLIP report XML file.\n",
    "\n",
    "    Returns:\n",
    "        list: A list of dictionaries, where each dictionary represents an interaction with the following keys:\n",
    "              - type (str): Interaction type (e.g., \"hydrophobic\", \"hydrogen_bond\").\n",
    "              - distance (float): Distance between interacting atoms (Å).\n",
    "              - atoms (tuple): Tuple of interacting atom types (e.g., (\"C\", \"C\")).\n",
    "    \"\"\"\n",
    "    interactions = []\n",
    "    tree = ET.parse(xml_file)\n",
    "    root = tree.getroot()\n",
    "\n",
    "    # Define interaction types and their XML paths\n",
    "    interaction_paths = {\n",
    "        \"hydrophobic\": \"hydrophobic_interactions/hydrophobic_interaction\",\n",
    "        \"hydrogen_bond\": \"hydrogen_bonds/hydrogen_bond\",\n",
    "        \"salt_bridge\": \"salt_bridges/salt_bridge\",\n",
    "        \"pi_stacking\": \"pi_stacks/pi_stack\",\n",
    "        \"metal_complex\": \"metal_complexes/metal_complex\",\n",
    "    }\n",
    "\n",
    "    # Iterate through interaction types\n",
    "    for interaction_type, path in interaction_paths.items():\n",
    "        for interaction in root.findall(f\".//{path}\"):\n",
    "            interaction_data = {\"type\": interaction_type}\n",
    "            \n",
    "            # Extract common data\n",
    "            distance = interaction.find(\"dist\") or interaction.find(\"dist_d-a\")  # Use dist_d-a for hydrogen bonds\n",
    "            interaction_data[\"distance\"] = float(distance.text) if distance is not None else None\n",
    "\n",
    "            # Extract atom types\n",
    "            if interaction_type == \"hydrophobic\":\n",
    "                lig_carbon = interaction.find(\"ligcarbonidx\")\n",
    "                prot_carbon = interaction.find(\"protcarbonidx\")\n",
    "                interaction_data[\"atoms\"] = (\"C\", \"C\")  # Always C for hydrophobic interactions\n",
    "            elif interaction_type == \"hydrogen_bond\":\n",
    "                donor_type = interaction.find(\"donortype\").text if interaction.find(\"donortype\") is not None else \"Unknown\"\n",
    "                acceptor_type = interaction.find(\"acceptortype\").text if interaction.find(\"acceptortype\") is not None else \"Unknown\"\n",
    "                interaction_data[\"atoms\"] = (donor_type, acceptor_type)\n",
    "            elif interaction_type == \"salt_bridge\":\n",
    "                interaction_data[\"atoms\"] = (\"Charged\", \"Charged\")\n",
    "            elif interaction_type == \"pi_stacking\":\n",
    "                interaction_data[\"atoms\"] = (\"Aromatic\", \"Aromatic\")\n",
    "            elif interaction_type == \"metal_complex\":\n",
    "                metal_type = interaction.find(\"metal_type\").text if interaction.find(\"metal_type\") is not None else \"Unknown\"\n",
    "                target_type = interaction.find(\"target_type\").text if interaction.find(\"target_type\") is not None else \"Unknown\"\n",
    "                interaction_data[\"atoms\"] = (metal_type, target_type)\n",
    "\n",
    "            # Add to interactions list\n",
    "            interactions.append(interaction_data)\n",
    "\n",
    "    return interactions\n",
    "\n",
    "import math\n",
    "\n",
    "# Empirical energy values for interaction types\n",
    "ENERGY_VALUES = {\n",
    "    \"hydrogen_bond\": (-1.0, -3.0),        # Min, Max (kcal/mol)\n",
    "    \"hydrophobic\": (-0.5, -1.5),\n",
    "    \"salt_bridge\": (-1.0, -5.0),\n",
    "    \"pi_stacking_parallel\": (-1.0, -3.0),\n",
    "    \"pi_stacking_perpendicular\": (-0.5, -2.0),\n",
    "    \"pi_cation\": (-3.0, -5.0),\n",
    "    \"metal_coordination\": (-2.0, -6.0),\n",
    "    \"halogen_bond\": (-1.0, -3.0)\n",
    "}\n",
    "\n",
    "# Distance-dependent scaling function\n",
    "def distance_scaling(distance, min_distance=2.0, max_distance=6.0):\n",
    "    \"\"\"\n",
    "    Scales energy contribution based on distance.\n",
    "    Args:\n",
    "        distance (float): Distance between interacting atoms (Å).\n",
    "        min_distance (float): Minimum effective distance (Å).\n",
    "        max_distance (float): Maximum effective distance (Å).\n",
    "\n",
    "    Returns:\n",
    "        float: Scaling factor between 0 and 1.\n",
    "    \"\"\"\n",
    "    if distance < min_distance:\n",
    "        return 1.0\n",
    "    elif distance > max_distance:\n",
    "        return 0.0\n",
    "    else:\n",
    "        return 1.0 - (distance - min_distance) / (max_distance - min_distance)\n",
    "\n",
    "# Estimate interaction energy\n",
    "def calculate_interaction_energy(interactions):\n",
    "    \"\"\"\n",
    "    Estimate the total interaction energy for a protein-ligand complex.\n",
    "\n",
    "    Args:\n",
    "        interactions (list of dict): List of interactions with the following keys:\n",
    "            - type (str): Interaction type (e.g., \"hydrogen_bond\").\n",
    "            - distance (float): Distance between interacting atoms (Å).\n",
    "            - atoms (tuple): Tuple of interacting atom types (e.g., (\"O\", \"N\")).\n",
    "\n",
    "    Returns:\n",
    "        float: Estimated total interaction energy (kcal/mol).\n",
    "    \"\"\"\n",
    "    total_energy = 0.0\n",
    "    for interaction in interactions:\n",
    "        interaction_type = interaction[\"type\"]\n",
    "        distance = interaction[\"distance\"]\n",
    "\n",
    "        # Get the energy range for the interaction type\n",
    "        if interaction_type in ENERGY_VALUES:\n",
    "            min_energy, max_energy = ENERGY_VALUES[interaction_type]\n",
    "            # Scale energy by distance\n",
    "            scaling_factor = distance_scaling(distance)\n",
    "            energy = scaling_factor * (min_energy + max_energy) / 2\n",
    "            total_energy += energy\n",
    "    return total_energy\n"
   ]
  },
  {
   "cell_type": "code",
   "execution_count": 4,
   "metadata": {},
   "outputs": [
    {
     "name": "stdout",
     "output_type": "stream",
     "text": [
      "[{'type': 'hydrophobic', 'distance': None, 'atoms': ('C', 'C')}, {'type': 'hydrophobic', 'distance': None, 'atoms': ('C', 'C')}, {'type': 'hydrophobic', 'distance': None, 'atoms': ('C', 'C')}, {'type': 'hydrophobic', 'distance': None, 'atoms': ('C', 'C')}, {'type': 'hydrogen_bond', 'distance': 3.03, 'atoms': ('O3', 'Nar')}, {'type': 'hydrogen_bond', 'distance': 2.76, 'atoms': ('N3', 'O2')}, {'type': 'hydrogen_bond', 'distance': 2.98, 'atoms': ('Nar', 'O3')}, {'type': 'hydrogen_bond', 'distance': 2.68, 'atoms': ('O3', 'O.co2')}, {'type': 'hydrogen_bond', 'distance': 2.7, 'atoms': ('Nam', 'O.co2')}, {'type': 'hydrogen_bond', 'distance': 3.64, 'atoms': ('Nam', 'O.co2')}, {'type': 'hydrogen_bond', 'distance': 3.93, 'atoms': ('Nam', 'O.co2')}, {'type': 'hydrogen_bond', 'distance': 3.01, 'atoms': ('Nam', 'O.co2')}, {'type': 'hydrogen_bond', 'distance': 2.85, 'atoms': ('Nam', 'O.co2')}, {'type': 'hydrogen_bond', 'distance': 4.07, 'atoms': ('O3', 'O3')}, {'type': 'hydrogen_bond', 'distance': 2.86, 'atoms': ('Nam', 'O3')}, {'type': 'hydrogen_bond', 'distance': 3.9, 'atoms': ('Nam', 'O2')}, {'type': 'hydrogen_bond', 'distance': 3.94, 'atoms': ('Nam', 'O2')}, {'type': 'hydrogen_bond', 'distance': 3.83, 'atoms': ('Nam', 'O2')}, {'type': 'hydrogen_bond', 'distance': 2.97, 'atoms': ('Nam', 'O3')}, {'type': 'hydrogen_bond', 'distance': 2.86, 'atoms': ('Nam', 'O3')}, {'type': 'hydrogen_bond', 'distance': 2.72, 'atoms': ('O3', 'Nar')}, {'type': 'salt_bridge', 'distance': None, 'atoms': ('Charged', 'Charged')}, {'type': 'pi_stacking', 'distance': None, 'atoms': ('Aromatic', 'Aromatic')}, {'type': 'pi_stacking', 'distance': None, 'atoms': ('Aromatic', 'Aromatic')}, {'type': 'metal_complex', 'distance': None, 'atoms': ('Na', 'O')}, {'type': 'metal_complex', 'distance': None, 'atoms': ('Na', 'O')}, {'type': 'metal_complex', 'distance': None, 'atoms': ('Na', 'O')}, {'type': 'metal_complex', 'distance': None, 'atoms': ('Na', 'O')}]\n"
     ]
    }
   ],
   "source": [
    "\n",
    "# Example Usage\n",
    "file_path = \"/disk2/fli/REVIVAL2/zs/plip/af3/struct_joint/PfTrpB-4bromo/I165A:I183A:Y301V_0/report.xml\"\n",
    "interactions = extract_interactions_from_plip(file_path)\n",
    "print(interactions)"
   ]
  },
  {
   "cell_type": "code",
   "execution_count": 5,
   "metadata": {},
   "outputs": [
    {
     "ename": "TypeError",
     "evalue": "'<' not supported between instances of 'NoneType' and 'float'",
     "output_type": "error",
     "traceback": [
      "\u001b[0;31m---------------------------------------------------------------------------\u001b[0m",
      "\u001b[0;31mTypeError\u001b[0m                                 Traceback (most recent call last)",
      "Cell \u001b[0;32mIn[5], line 1\u001b[0m\n\u001b[0;32m----> 1\u001b[0m \u001b[43mcalculate_interaction_energy\u001b[49m\u001b[43m(\u001b[49m\u001b[43minteractions\u001b[49m\u001b[43m)\u001b[49m\n",
      "Cell \u001b[0;32mIn[2], line 117\u001b[0m, in \u001b[0;36mcalculate_interaction_energy\u001b[0;34m(interactions)\u001b[0m\n\u001b[1;32m    115\u001b[0m min_energy, max_energy \u001b[38;5;241m=\u001b[39m ENERGY_VALUES[interaction_type]\n\u001b[1;32m    116\u001b[0m \u001b[38;5;66;03m# Scale energy by distance\u001b[39;00m\n\u001b[0;32m--> 117\u001b[0m scaling_factor \u001b[38;5;241m=\u001b[39m \u001b[43mdistance_scaling\u001b[49m\u001b[43m(\u001b[49m\u001b[43mdistance\u001b[49m\u001b[43m)\u001b[49m\n\u001b[1;32m    118\u001b[0m energy \u001b[38;5;241m=\u001b[39m scaling_factor \u001b[38;5;241m*\u001b[39m (min_energy \u001b[38;5;241m+\u001b[39m max_energy) \u001b[38;5;241m/\u001b[39m \u001b[38;5;241m2\u001b[39m\n\u001b[1;32m    119\u001b[0m total_energy \u001b[38;5;241m+\u001b[39m\u001b[38;5;241m=\u001b[39m energy\n",
      "Cell \u001b[0;32mIn[2], line 87\u001b[0m, in \u001b[0;36mdistance_scaling\u001b[0;34m(distance, min_distance, max_distance)\u001b[0m\n\u001b[1;32m     76\u001b[0m \u001b[38;5;28;01mdef\u001b[39;00m \u001b[38;5;21mdistance_scaling\u001b[39m(distance, min_distance\u001b[38;5;241m=\u001b[39m\u001b[38;5;241m2.0\u001b[39m, max_distance\u001b[38;5;241m=\u001b[39m\u001b[38;5;241m6.0\u001b[39m):\n\u001b[1;32m     77\u001b[0m \u001b[38;5;250m    \u001b[39m\u001b[38;5;124;03m\"\"\"\u001b[39;00m\n\u001b[1;32m     78\u001b[0m \u001b[38;5;124;03m    Scales energy contribution based on distance.\u001b[39;00m\n\u001b[1;32m     79\u001b[0m \u001b[38;5;124;03m    Args:\u001b[39;00m\n\u001b[0;32m   (...)\u001b[0m\n\u001b[1;32m     85\u001b[0m \u001b[38;5;124;03m        float: Scaling factor between 0 and 1.\u001b[39;00m\n\u001b[1;32m     86\u001b[0m \u001b[38;5;124;03m    \"\"\"\u001b[39;00m\n\u001b[0;32m---> 87\u001b[0m     \u001b[38;5;28;01mif\u001b[39;00m \u001b[43mdistance\u001b[49m\u001b[43m \u001b[49m\u001b[38;5;241;43m<\u001b[39;49m\u001b[43m \u001b[49m\u001b[43mmin_distance\u001b[49m:\n\u001b[1;32m     88\u001b[0m         \u001b[38;5;28;01mreturn\u001b[39;00m \u001b[38;5;241m1.0\u001b[39m\n\u001b[1;32m     89\u001b[0m     \u001b[38;5;28;01melif\u001b[39;00m distance \u001b[38;5;241m>\u001b[39m max_distance:\n",
      "\u001b[0;31mTypeError\u001b[0m: '<' not supported between instances of 'NoneType' and 'float'"
     ]
    }
   ],
   "source": [
    "calculate_interaction_energy(interactions)"
   ]
  },
  {
   "cell_type": "code",
   "execution_count": null,
   "metadata": {},
   "outputs": [],
   "source": []
  }
 ],
 "metadata": {
  "kernelspec": {
   "display_name": "REVIVAL",
   "language": "python",
   "name": "python3"
  },
  "language_info": {
   "codemirror_mode": {
    "name": "ipython",
    "version": 3
   },
   "file_extension": ".py",
   "mimetype": "text/x-python",
   "name": "python",
   "nbconvert_exporter": "python",
   "pygments_lexer": "ipython3",
   "version": "3.11.11"
  }
 },
 "nbformat": 4,
 "nbformat_minor": 2
}
