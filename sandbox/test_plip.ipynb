{
 "cells": [
  {
   "cell_type": "code",
   "execution_count": 1,
   "metadata": {},
   "outputs": [
    {
     "name": "stdout",
     "output_type": "stream",
     "text": [
      "/disk2/fli/REVIVAL2\n"
     ]
    }
   ],
   "source": [
    "%cd ~/REVIVAL2"
   ]
  },
  {
   "cell_type": "code",
   "execution_count": 2,
   "metadata": {},
   "outputs": [],
   "source": [
    "import lxml"
   ]
  },
  {
   "cell_type": "code",
   "execution_count": 3,
   "metadata": {},
   "outputs": [
    {
     "name": "stderr",
     "output_type": "stream",
     "text": [
      "/disk2/fli/miniconda3/envs/REVIVAL/lib/python3.11/site-packages/Bio/pairwise2.py:278: BiopythonDeprecationWarning: Bio.pairwise2 has been deprecated, and we intend to remove it in a future release of Biopython. As an alternative, please consider using Bio.Align.PairwiseAligner as a replacement, and contact the Biopython developers if you still need the Bio.pairwise2 module.\n",
      "  warnings.warn(\n"
     ]
    }
   ],
   "source": [
    "from REVIVAL.zs.plip import plip_xml2dict"
   ]
  },
  {
   "cell_type": "code",
   "execution_count": 4,
   "metadata": {},
   "outputs": [
    {
     "data": {
      "text/plain": [
       "dict_keys(['plipversion', 'bindingsite', 'date_of_creation', 'citation_information', 'maintainer_information', 'mode', 'pdbid', 'model', 'filetype', 'pdbfile', 'pdbfixes', 'filename', 'excluded_ligands', 'covlinkages'])"
      ]
     },
     "execution_count": 4,
     "metadata": {},
     "output_type": "execute_result"
    }
   ],
   "source": [
    "result = plip_xml2dict(\"/disk2/fli/REVIVAL2/zs/plip/af3/struct_seperate/ParLQ/F89A_0/report.xml\")\n",
    "result.keys()"
   ]
  },
  {
   "cell_type": "code",
   "execution_count": 11,
   "metadata": {},
   "outputs": [
    {
     "data": {
      "text/plain": [
       "dict_keys(['@attributes', 'identifiers', 'lig_properties', 'interacting_chains', 'bs_residues', 'interactions', 'mappings'])"
      ]
     },
     "execution_count": 11,
     "metadata": {},
     "output_type": "execute_result"
    }
   ],
   "source": [
    "result[\"bindingsite\"][0].keys()"
   ]
  },
  {
   "cell_type": "code",
   "execution_count": 15,
   "metadata": {},
   "outputs": [
    {
     "data": {
      "text/plain": [
       "'GLY'"
      ]
     },
     "execution_count": 15,
     "metadata": {},
     "output_type": "execute_result"
    }
   ],
   "source": [
    "result[\"bindingsite\"][0][\"bs_residues\"][\"bs_residue\"][0][\"@attributes\"][\"aa\"]"
   ]
  },
  {
   "cell_type": "code",
   "execution_count": 14,
   "metadata": {},
   "outputs": [
    {
     "data": {
      "text/plain": [
       "dict_keys(['hydrophobic_interactions', 'hydrogen_bonds', 'water_bridges', 'salt_bridges', 'pi_stacks', 'pi_cation_interactions', 'halogen_bonds', 'metal_complexes'])"
      ]
     },
     "execution_count": 14,
     "metadata": {},
     "output_type": "execute_result"
    }
   ],
   "source": [
    "result[\"bindingsite\"][0][\"interactions\"].keys()"
   ]
  },
  {
   "cell_type": "code",
   "execution_count": 12,
   "metadata": {},
   "outputs": [
    {
     "data": {
      "text/plain": [
       "dict"
      ]
     },
     "execution_count": 12,
     "metadata": {},
     "output_type": "execute_result"
    }
   ],
   "source": [
    "type(plip_xml2dict(\"/disk2/fli/REVIVAL2/zs/plip/af3/struct_joint/ParLQ/F89A_0/report.xml\")[\"bindingsite\"])"
   ]
  },
  {
   "cell_type": "markdown",
   "metadata": {},
   "source": [
    "The energy estimation values used in the script are derived from commonly referenced empirical studies in computational chemistry and molecular modeling. Here are some references for each interaction type:\n",
    "\n",
    "1. **Hydrophobic Interactions:**\n",
    "   - Empirical studies suggest that hydrophobic stabilization is roughly **-0.17 kcal/mol per Å** (short-range attractive interactions).\n",
    "   - Reference: **Ben-Naim, A. (1992). Statistical Thermodynamics for Chemists and Biochemists. Springer.**\n",
    "   - Hydrophobic interactions are generally weak (0.1 to 1.0 kcal/mol per contact).\n",
    "   - Reference: **Dill, K. A. (1990). Dominant forces in protein folding. Biochemistry, 29(31), 7133-7155.**  \n",
    "   - Approximation: \\( E_{\\text{hydrophobic}} = -0.17 \\times (4 - d) \\) for \\( d < 4 \\) Å.\n",
    "\n",
    "2. **Hydrogen Bonds:**\n",
    "   - Hydrogen bond strengths vary but are typically between **-1 to -5 kcal/mol**, depending on geometry.\n",
    "   - Reference: **Jeffrey, G. A. (1997). An Introduction to Hydrogen Bonding. Oxford University Press.**\n",
    "   - Angular dependency is often modeled using a cosine function, but linear scaling with the bond angle ratio works as an approximation.\n",
    "   - Approximation: \\( E_{\\text{HB}} = -1.5 \\times (2.5 - d) \\times (\\theta / 180) \\).\n",
    "\n",
    "3. **Salt Bridges (Electrostatic Interactions):**\n",
    "   - Salt bridge stabilization energies typically range **from -1 to -3 kcal/mol**.\n",
    "   - Reference: **Kumar, S., et al. (2000). Relationship between ion pair geometries and electrostatic strengths in proteins. Biochemistry, 39(24), 7688-7698.**\n",
    "   - Approximation: \\( E_{\\text{salt bridge}} = -2.0 \\times (4 - d) \\) for \\( d < 4 \\) Å.\n",
    "\n",
    "4. **Metal Coordination:**\n",
    "   - Metal-ligand interactions (e.g., Fe, Zn, Cu) typically contribute **-5 to -20 kcal/mol**, depending on coordination geometry and oxidation state.\n",
    "   - Reference: **Lippard, S. J., & Berg, J. M. (1994). Principles of Bioinorganic Chemistry. University Science Books.**\n",
    "   - Approximation: \\( E_{\\text{metal}} = -5.0 \\times (2.5 - d) \\) for \\( d < 2.5 \\) Å.\n",
    "\n",
    "These values are **approximations** based on literature data and **should be refined for specific systems** using more detailed computational models (e.g., MM/PBSA, QM/MM). If you need more precise estimates, **free energy perturbation (FEP) or molecular dynamics simulations** are recommended.\n",
    "\n",
    "\n",
    "Here are the estimated stabilization energy values for additional interaction types such as **water bridges, pi-stacking, pi-cation interactions, and halogen bonds**, along with references:\n",
    "\n",
    "---\n",
    "\n",
    "### **1. Water Bridges (Bridged Hydrogen Bonds)**\n",
    "- Water-mediated hydrogen bonds contribute slightly less than direct hydrogen bonds.\n",
    "- Estimated energy: **-0.5 to -1.5 kcal/mol**.\n",
    "- Reference:  \n",
    "  - **Jeffrey, G. A. (1997). An Introduction to Hydrogen Bonding. Oxford University Press.**\n",
    "  - **Warshel, A., et al. (2006). Electrostatic Basis for Enzyme Catalysis. Chemical Reviews, 106(8), 3210-3235.**\n",
    "- Approximation:  \n",
    "  \\[\n",
    "  E_{\\text{water bridge}} = -1.0 \\times (2.8 - d) \\times (\\theta / 180) \\quad \\text{(for d < 2.8 Å)}\n",
    "  \\]\n",
    "\n",
    "---\n",
    "\n",
    "### **2. Pi-Stacking Interactions (Aromatic-Aromatic)**\n",
    "- Pi-stacking occurs between **aromatic rings** and is weaker than hydrogen bonds.\n",
    "- Estimated energy: **-1.5 to -3 kcal/mol**, depending on stacking type (T-shaped, parallel-displaced, etc.).\n",
    "- Reference:  \n",
    "  - **Hunter, C. A., & Sanders, J. K. (1990). The Nature of π-π Interactions. Journal of the American Chemical Society, 112(14), 5525-5534.**\n",
    "  - **McGaughey, G. B., Gagné, M., & Rappé, A. K. (1998). π-Stacking Interactions. Journal of Biological Chemistry, 273(25), 15458-15463.**\n",
    "- Approximation:  \n",
    "  \\[\n",
    "  E_{\\text{pi stack}} = -2.5 \\times (5 - d) \\quad \\text{(for d < 5 Å)}\n",
    "  \\]\n",
    "\n",
    "---\n",
    "\n",
    "### **3. Pi-Cation Interactions (Aromatic Ring - Charged Group)**\n",
    "- Positively charged residues (Arg, Lys) or metal ions interact with aromatic rings.\n",
    "- Estimated energy: **-2 to -5 kcal/mol**.\n",
    "- Reference:  \n",
    "  - **Dougherty, D. A. (1996). Cation-π Interactions in Structural Biology. Science, 271(5246), 163-168.**\n",
    "  - **Gallivan, J. P., & Dougherty, D. A. (1999). A Computational Study of Cation-π Interactions. Proceedings of the National Academy of Sciences, 96(17), 9459-9464.**\n",
    "- Approximation:  \n",
    "  \\[\n",
    "  E_{\\text{pi cation}} = -3.5 \\times (4 - d) \\quad \\text{(for d < 4 Å)}\n",
    "  \\]\n",
    "\n",
    "---\n",
    "\n",
    "### **4. Halogen Bonds (Halogen-Acceptor Interactions)**\n",
    "- Halogen bonds (Cl, Br, I, F) resemble hydrogen bonds but are **weaker**.\n",
    "- Estimated energy: **-0.5 to -2 kcal/mol**.\n",
    "- Reference:  \n",
    "  - **Clark, T., et al. (2007). Halogen Bonding: The Donor-Acceptor Model. Journal of Molecular Modeling, 13(2), 291-296.**\n",
    "  - **Müller-Dethlefs, K., & Hobza, P. (2000). Noncovalent Interactions: A Challenge for Experiment and Theory. Chemical Reviews, 100(1), 143-168.**\n",
    "- Approximation:  \n",
    "  \\[\n",
    "  E_{\\text{halogen}} = -1.5 \\times (3.5 - d) \\quad \\text{(for d < 3.5 Å)}\n",
    "  \\]\n",
    "---\n",
    "\n",
    "### **Summary of Stabilization Energy Estimates**\n",
    "| Interaction Type      | Energy Range (kcal/mol) |\n",
    "|----------------------|---------------------|\n",
    "| Hydrophobic         | -0.17 per Å shift from 4Å |\n",
    "| Hydrogen Bonds      | -1.5 to -5 kcal/mol |\n",
    "| Water Bridges       | -0.5 to -1.5 kcal/mol |\n",
    "| Salt Bridges        | -1 to -3 kcal/mol |\n",
    "| Metal Complex       | -5 to -20 kcal/mol |\n",
    "| Pi-Stacking         | -1.5 to -3 kcal/mol |\n",
    "| Pi-Cation           | -2 to -5 kcal/mol |\n",
    "| Halogen Bonds       | -0.5 to -2 kcal/mol |\n",
    "\n",
    "This script provides **a rough approximation** for molecular docking interactions. If you need **higher accuracy**, consider using **MM/PBSA or QM/MM simulations**."
   ]
  },
  {
   "cell_type": "markdown",
   "metadata": {},
   "source": []
  },
  {
   "cell_type": "code",
   "execution_count": 19,
   "metadata": {},
   "outputs": [],
   "source": [
    "import xml.etree.ElementTree as ET\n",
    "\n",
    "# Energy estimation functions\n",
    "def estimate_hydrophobic_energy(distance):\n",
    "    return -0.17 * (4 - distance) if distance < 4 else 0\n",
    "\n",
    "def estimate_hydrogen_bond_energy(distance, donor_angle):\n",
    "    return -1.5 * (2.5 - distance) * (donor_angle / 180) if distance < 2.5 else 0\n",
    "\n",
    "def estimate_salt_bridge_energy(distance):\n",
    "    return -2.0 * (4 - distance) if distance < 4 else 0\n",
    "\n",
    "def estimate_metal_complex_energy(distance):\n",
    "    return -5.0 * (2.5 - distance) if distance < 2.5 else 0\n",
    "\n",
    "def estimate_water_bridge_energy(distance, donor_angle):\n",
    "    return -1.0 * (2.8 - distance) * (donor_angle / 180) if distance < 2.8 else 0\n",
    "\n",
    "def estimate_pi_stack_energy(distance):\n",
    "    return -2.5 * (5 - distance) if distance < 5 else 0\n",
    "\n",
    "def estimate_pi_cation_energy(distance):\n",
    "    return -3.5 * (4 - distance) if distance < 4 else 0\n",
    "\n",
    "def estimate_halogen_bond_energy(distance):\n",
    "    return -1.5 * (3.5 - distance) if distance < 3.5 else 0\n",
    "\n",
    "# Parse PLIP XML Report\n",
    "def parse_plip_report(xml_file):\n",
    "    tree = ET.parse(xml_file)\n",
    "    root = tree.getroot()\n",
    "    \n",
    "    interactions = {\n",
    "        \"hydrophobic\": [],\n",
    "        \"hydrogen_bond\": [],\n",
    "        \"salt_bridge\": [],\n",
    "        \"metal_complex\": [],\n",
    "        \"water_bridge\": [],\n",
    "        \"pi_stack\": [],\n",
    "        \"pi_cation\": [],\n",
    "        \"halogen_bond\": []\n",
    "    }\n",
    "\n",
    "    for interaction in root.findall(\".//hydrophobic_interaction\"):\n",
    "        distance = float(interaction.find(\"dist\").text)\n",
    "        interactions[\"hydrophobic\"].append(estimate_hydrophobic_energy(distance))\n",
    "\n",
    "    for interaction in root.findall(\".//hydrogen_bond\"):\n",
    "        distance = float(interaction.find(\"dist_d-a\").text)\n",
    "        angle = float(interaction.find(\"don_angle\").text)\n",
    "        interactions[\"hydrogen_bond\"].append(estimate_hydrogen_bond_energy(distance, angle))\n",
    "\n",
    "    for interaction in root.findall(\".//salt_bridge\"):\n",
    "        distance = float(interaction.find(\"dist\").text)\n",
    "        interactions[\"salt_bridge\"].append(estimate_salt_bridge_energy(distance))\n",
    "\n",
    "    for interaction in root.findall(\".//metal_complex\"):\n",
    "        distance = float(interaction.find(\"dist\").text)\n",
    "        interactions[\"metal_complex\"].append(estimate_metal_complex_energy(distance))\n",
    "\n",
    "    for interaction in root.findall(\".//water_bridge\"):\n",
    "        distance = float(interaction.find(\"dist_d-a\").text)\n",
    "        angle = float(interaction.find(\"don_angle\").text)\n",
    "        interactions[\"water_bridge\"].append(estimate_water_bridge_energy(distance, angle))\n",
    "\n",
    "    for interaction in root.findall(\".//pi_stack\"):\n",
    "        distance = float(interaction.find(\"centdist\").text)\n",
    "        interactions[\"pi_stack\"].append(estimate_pi_stack_energy(distance))\n",
    "\n",
    "    for interaction in root.findall(\".//pi_cation_interaction\"):\n",
    "        distance = float(interaction.find(\"dist\").text)\n",
    "        interactions[\"pi_cation\"].append(estimate_pi_cation_energy(distance))\n",
    "\n",
    "    for interaction in root.findall(\".//halogen_bond\"):\n",
    "        distance = float(interaction.find(\"dist\").text)\n",
    "        interactions[\"halogen_bond\"].append(estimate_halogen_bond_energy(distance))\n",
    "\n",
    "    return interactions\n",
    "\n",
    "# Calculate total stabilization energy\n",
    "def calculate_total_energy(interactions):\n",
    "    total_energy = sum(sum(values) for values in interactions.values())\n",
    "    return total_energy\n"
   ]
  },
  {
   "cell_type": "code",
   "execution_count": 20,
   "metadata": {},
   "outputs": [
    {
     "name": "stdout",
     "output_type": "stream",
     "text": [
      "Estimated stabilization forces by interaction type (kcal/mol):\n",
      "hydrophobic: -1.42 kcal/mol\n",
      "hydrogen_bond: -0.11 kcal/mol\n",
      "salt_bridge: -0.32 kcal/mol\n",
      "metal_complex: -11.15 kcal/mol\n",
      "water_bridge: 0.00 kcal/mol\n",
      "pi_stack: -2.10 kcal/mol\n",
      "pi_cation: 0.00 kcal/mol\n",
      "halogen_bond: 0.00 kcal/mol\n",
      "\n",
      "Total estimated stabilization energy: -15.10 kcal/mol\n"
     ]
    }
   ],
   "source": [
    "\n",
    "# Load and process the PLIP report\n",
    "xml_file_path = \"/disk2/fli/REVIVAL2/zs/plip/af3/struct_seperate/ParLQ/F89A_0/report.xml\"\n",
    "interactions = parse_plip_report(xml_file_path)\n",
    "total_energy = calculate_total_energy(interactions)\n",
    "\n",
    "# Print results\n",
    "print(\"Estimated stabilization forces by interaction type (kcal/mol):\")\n",
    "for interaction_type, energies in interactions.items():\n",
    "    print(f\"{interaction_type}: {sum(energies):.2f} kcal/mol\")\n",
    "\n",
    "print(f\"\\nTotal estimated stabilization energy: {total_energy:.2f} kcal/mol\")\n"
   ]
  },
  {
   "cell_type": "code",
   "execution_count": 21,
   "metadata": {},
   "outputs": [],
   "source": [
    "# Mapping dictionary\n",
    "interaction_map = {\n",
    "    \"hydrophobic\":       (\"hydrophobic_interaction\", \"dist\", estimate_hydrophobic_energy),\n",
    "    \"hydrogen_bond\":     (\"hydrogen_bond\", \"dist_d-a\", estimate_hydrogen_bond_energy, \"don_angle\"),\n",
    "    \"salt_bridge\":       (\"salt_bridge\", \"dist\", estimate_salt_bridge_energy),\n",
    "    \"metal_complex\":     (\"metal_complex\", \"dist\", estimate_metal_complex_energy),\n",
    "    \"water_bridge\":      (\"water_bridge\", \"dist_d-a\", estimate_water_bridge_energy, \"don_angle\"),\n",
    "    \"pi_stack\":          (\"pi_stack\", \"centdist\", estimate_pi_stack_energy),\n",
    "    \"pi_cation\":         (\"pi_cation_interaction\", \"dist\", estimate_pi_cation_energy),\n",
    "    \"halogen_bond\":      (\"halogen_bond\", \"dist\", estimate_halogen_bond_energy)\n",
    "}\n",
    "\n",
    "# Parse PLIP XML Report\n",
    "def parse_plip_report(xml_file):\n",
    "    tree = ET.parse(xml_file)\n",
    "    root = tree.getroot()\n",
    "    \n",
    "    interactions = {key: [] for key in interaction_map}\n",
    "\n",
    "    for key, (tag, dist_key, func, *extra_keys) in interaction_map.items():\n",
    "        for interaction in root.findall(f\".//{tag}\"):\n",
    "            distance = float(interaction.find(dist_key).text)\n",
    "            if extra_keys:\n",
    "                extra_value = float(interaction.find(extra_keys[0]).text)\n",
    "                interactions[key].append(func(distance, extra_value))\n",
    "            else:\n",
    "                interactions[key].append(func(distance))\n",
    "\n",
    "    return interactions\n"
   ]
  },
  {
   "cell_type": "code",
   "execution_count": 22,
   "metadata": {},
   "outputs": [
    {
     "name": "stdout",
     "output_type": "stream",
     "text": [
      "Estimated stabilization forces by interaction type (kcal/mol):\n",
      "hydrophobic: -1.42 kcal/mol\n",
      "hydrogen_bond: -0.11 kcal/mol\n",
      "salt_bridge: -0.32 kcal/mol\n",
      "metal_complex: -11.15 kcal/mol\n",
      "water_bridge: 0.00 kcal/mol\n",
      "pi_stack: -2.10 kcal/mol\n",
      "pi_cation: 0.00 kcal/mol\n",
      "halogen_bond: 0.00 kcal/mol\n",
      "\n",
      "Total estimated stabilization energy: -15.10 kcal/mol\n"
     ]
    }
   ],
   "source": [
    "\n",
    "# Load and process the PLIP report\n",
    "xml_file_path = \"/disk2/fli/REVIVAL2/zs/plip/af3/struct_seperate/ParLQ/F89A_0/report.xml\"\n",
    "interactions = parse_plip_report(xml_file_path)\n",
    "total_energy = calculate_total_energy(interactions)\n",
    "\n",
    "# Print results\n",
    "print(\"Estimated stabilization forces by interaction type (kcal/mol):\")\n",
    "for interaction_type, energies in interactions.items():\n",
    "    print(f\"{interaction_type}: {sum(energies):.2f} kcal/mol\")\n",
    "\n",
    "print(f\"\\nTotal estimated stabilization energy: {total_energy:.2f} kcal/mol\")\n"
   ]
  },
  {
   "cell_type": "code",
   "execution_count": 24,
   "metadata": {},
   "outputs": [
    {
     "data": {
      "text/plain": [
       "dict_keys(['hydrophobic', 'hydrogen_bond', 'salt_bridge', 'metal_complex', 'water_bridge', 'pi_stack', 'pi_cation', 'halogen_bond'])"
      ]
     },
     "execution_count": 24,
     "metadata": {},
     "output_type": "execute_result"
    }
   ],
   "source": [
    "interactions.keys()"
   ]
  },
  {
   "cell_type": "code",
   "execution_count": 30,
   "metadata": {},
   "outputs": [],
   "source": [
    "PLIP_INTERACTION_MAP = {\n",
    "    \"hydrophobic\":       (\"hydrophobic_interaction\", \"dist\", estimate_hydrophobic_energy),\n",
    "    \"hydrogen_bond\":     (\"hydrogen_bond\", \"dist_d-a\", estimate_hydrogen_bond_energy, \"don_angle\"),\n",
    "    \"salt_bridge\":       (\"salt_bridge\", \"dist\", estimate_salt_bridge_energy),\n",
    "    \"metal_complex\":     (\"metal_complex\", \"dist\", estimate_metal_complex_energy),\n",
    "    \"water_bridge\":      (\"water_bridge\", \"dist_d-a\", estimate_water_bridge_energy, \"don_angle\"),\n",
    "    \"pi_stack\":          (\"pi_stack\", \"centdist\", estimate_pi_stack_energy),\n",
    "    \"pi_cation\":         (\"pi_cation_interaction\", \"dist\", estimate_pi_cation_energy),\n",
    "    \"halogen_bond\":      (\"halogen_bond\", \"dist\", estimate_halogen_bond_energy)\n",
    "}\n",
    "\n",
    "\n",
    "# Parse PLIP XML Report\n",
    "def parse_plip_report(xml_file):\n",
    "    tree = ET.parse(xml_file)\n",
    "    root = tree.getroot()\n",
    "\n",
    "    # Initialize each interaction type with an empty NumPy array\n",
    "    interactions = {key: np.empty(0) for key in PLIP_INTERACTION_MAP}\n",
    "\n",
    "    for key, (tag, dist_key, func, *extra_keys) in PLIP_INTERACTION_MAP.items():\n",
    "        for interaction in root.findall(f\".//{tag}\"):\n",
    "            distance = float(interaction.find(dist_key).text)\n",
    "            if extra_keys:\n",
    "                extra_value = float(interaction.find(extra_keys[0]).text)\n",
    "                new_value = func(distance, extra_value)\n",
    "            else:\n",
    "                new_value = func(distance)\n",
    "\n",
    "            # Append to the NumPy array dynamically\n",
    "            interactions[key] = np.append(interactions[key], new_value)\n",
    "\n",
    "    return interactions\n"
   ]
  },
  {
   "cell_type": "code",
   "execution_count": 32,
   "metadata": {},
   "outputs": [],
   "source": [
    "import numpy as np"
   ]
  },
  {
   "cell_type": "code",
   "execution_count": 33,
   "metadata": {},
   "outputs": [
    {
     "name": "stdout",
     "output_type": "stream",
     "text": [
      "Estimated stabilization forces by interaction type (kcal/mol):\n",
      "hydrophobic: -1.42 kcal/mol\n",
      "hydrogen_bond: -0.11 kcal/mol\n",
      "salt_bridge: -0.32 kcal/mol\n",
      "metal_complex: -11.15 kcal/mol\n",
      "water_bridge: 0.00 kcal/mol\n",
      "pi_stack: -2.10 kcal/mol\n",
      "pi_cation: 0.00 kcal/mol\n",
      "halogen_bond: 0.00 kcal/mol\n",
      "\n",
      "Total estimated stabilization energy: -15.10 kcal/mol\n"
     ]
    }
   ],
   "source": [
    "\n",
    "# Load and process the PLIP report\n",
    "xml_file_path = \"/disk2/fli/REVIVAL2/zs/plip/af3/struct_seperate/ParLQ/F89A_0/report.xml\"\n",
    "interactions = parse_plip_report(xml_file_path)\n",
    "total_energy = calculate_total_energy(interactions)\n",
    "\n",
    "# Print results\n",
    "print(\"Estimated stabilization forces by interaction type (kcal/mol):\")\n",
    "for interaction_type, energies in interactions.items():\n",
    "    print(f\"{interaction_type}: {sum(energies):.2f} kcal/mol\")\n",
    "\n",
    "print(f\"\\nTotal estimated stabilization energy: {total_energy:.2f} kcal/mol\")\n"
   ]
  },
  {
   "cell_type": "code",
   "execution_count": 34,
   "metadata": {},
   "outputs": [],
   "source": []
  },
  {
   "cell_type": "code",
   "execution_count": null,
   "metadata": {},
   "outputs": [],
   "source": []
  }
 ],
 "metadata": {
  "kernelspec": {
   "display_name": "REVIVAL",
   "language": "python",
   "name": "python3"
  },
  "language_info": {
   "codemirror_mode": {
    "name": "ipython",
    "version": 3
   },
   "file_extension": ".py",
   "mimetype": "text/x-python",
   "name": "python",
   "nbconvert_exporter": "python",
   "pygments_lexer": "ipython3",
   "version": "3.11.11"
  }
 },
 "nbformat": 4,
 "nbformat_minor": 2
}
