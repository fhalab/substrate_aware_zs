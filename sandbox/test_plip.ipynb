{
 "cells": [
  {
   "cell_type": "code",
   "execution_count": 1,
   "metadata": {},
   "outputs": [],
   "source": [
    "import plip"
   ]
  },
  {
   "cell_type": "code",
   "execution_count": 2,
   "metadata": {},
   "outputs": [],
   "source": [
    "import lxml"
   ]
  },
  {
   "cell_type": "code",
   "execution_count": 3,
   "metadata": {},
   "outputs": [],
   "source": [
    "from rdkit import Chem\n",
    "from openbabel import pybel"
   ]
  },
  {
   "cell_type": "code",
   "execution_count": 4,
   "metadata": {},
   "outputs": [],
   "source": [
    "from lxml import etree\n",
    "\n",
    "def xml_file_to_dict(file_path):\n",
    "    \"\"\"\n",
    "    Parses an XML file and converts it to a dictionary.\n",
    "    :param file_path: Path to the XML file.\n",
    "    :return: Dictionary representation of the XML.\n",
    "    \"\"\"\n",
    "    def xml_to_dict(element):\n",
    "        \"\"\"\n",
    "        Recursively converts an lxml element to a dictionary.\n",
    "        \"\"\"\n",
    "        # Base case: If the element has no children, return its text or attributes\n",
    "        if not len(element) and not element.attrib:\n",
    "            return element.text\n",
    "\n",
    "        # Start the dictionary with attributes if present\n",
    "        element_dict = {}\n",
    "        if element.attrib:\n",
    "            element_dict[\"@attributes\"] = element.attrib\n",
    "\n",
    "        # Process child elements\n",
    "        for child in element:\n",
    "            child_dict = xml_to_dict(child)\n",
    "            if child.tag not in element_dict:\n",
    "                # First occurrence of the tag\n",
    "                element_dict[child.tag] = child_dict\n",
    "            else:\n",
    "                # Multiple occurrences of the same tag\n",
    "                if not isinstance(element_dict[child.tag], list):\n",
    "                    element_dict[child.tag] = [element_dict[child.tag]]\n",
    "                element_dict[child.tag].append(child_dict)\n",
    "\n",
    "        # Add element text if present and not just whitespace\n",
    "        if element.text and element.text.strip():\n",
    "            element_dict[\"#text\"] = element.text.strip()\n",
    "\n",
    "        return element_dict\n",
    "\n",
    "    # Parse the XML file\n",
    "    tree = etree.parse(file_path)\n",
    "    root = tree.getroot()\n",
    "\n",
    "    # Convert the root element to a dictionary\n",
    "    return xml_to_dict(root)"
   ]
  },
  {
   "cell_type": "code",
   "execution_count": 5,
   "metadata": {},
   "outputs": [
    {
     "name": "stdout",
     "output_type": "stream",
     "text": [
      "{'plipversion': '2.4.0', 'bindingsite': {'@attributes': {'id': '1', 'has_interactions': 'True'}, 'identifiers': {'longname': 'LIG', 'ligtype': 'SMALLMOLECULE', 'hetid': 'LIG', 'chain': 'B', 'position': '0', 'composite': 'False', 'members': {'member': {'@attributes': {'id': '1'}, '#text': 'LIG:B:0'}}, 'smiles': 'OC(=O)[C@H](/N=C/c1c(cnc(c1O)C)CP(=O)(O)O)C.Brc1cccc2c1cc[nH]2.[Na]', 'inchikey': 'JDIJGIUQUOEZTL-CXALCSDVSA-N\\n'}, 'lig_properties': {'num_heavy_atoms': '31', 'num_hbd': '5', 'num_unpaired_hbd': '1', 'num_hba': '8', 'num_unpaired_hba': '2', 'num_hal': '1', 'num_unpaired_hal': '1', 'num_aromatic_rings': '3', 'num_rotatable_bonds': '5', 'molweight': '521.2540709999998', 'logp': '3.595700000000003'}, 'interacting_chains': {'interacting_chain': {'@attributes': {'id': '1'}, '#text': 'A'}}, 'bs_residues': {'bs_residue': [{'@attributes': {'id': '1', 'contact': 'False', 'min_dist': '4.7', 'aa': 'LYS'}, '#text': '376A'}, {'@attributes': {'id': '2', 'contact': 'False', 'min_dist': '4.7', 'aa': 'ALA'}, '#text': '232A'}, {'@attributes': {'id': '3', 'contact': 'False', 'min_dist': '6.9', 'aa': 'MET'}, '#text': '129A'}, {'@attributes': {'id': '4', 'contact': 'False', 'min_dist': '5.8', 'aa': 'LEU'}, '#text': '266A'}, {'@attributes': {'id': '5', 'contact': 'False', 'min_dist': '3.9', 'aa': 'GLY'}, '#text': '372A'}, {'@attributes': {'id': '6', 'contact': 'True', 'min_dist': '2.6', 'aa': 'GLY'}, '#text': '229A'}, {'@attributes': {'id': '7', 'contact': 'True', 'min_dist': '2.9', 'aa': 'HIS'}, '#text': '110A'}, {'@attributes': {'id': '8', 'contact': 'False', 'min_dist': '7.1', 'aa': 'GLN'}, '#text': '137A'}, {'@attributes': {'id': '9', 'contact': 'False', 'min_dist': '6.6', 'aa': 'VAL'}, '#text': '112A'}, {'@attributes': {'id': '10', 'contact': 'False', 'min_dist': '7.5', 'aa': 'ALA'}, '#text': '113A'}, {'@attributes': {'id': '11', 'contact': 'False', 'min_dist': '4.1', 'aa': 'PRO'}, '#text': '302A'}, {'@attributes': {'id': '12', 'contact': 'False', 'min_dist': '4.4', 'aa': 'GLU'}, '#text': '251A'}, {'@attributes': {'id': '13', 'contact': 'False', 'min_dist': '6.7', 'aa': 'GLN'}, '#text': '200A'}, {'@attributes': {'id': '14', 'contact': 'True', 'min_dist': '3.0', 'aa': 'GLN'}, '#text': '109A'}, {'@attributes': {'id': '15', 'contact': 'True', 'min_dist': '2.7', 'aa': 'SER'}, '#text': '263A'}, {'@attributes': {'id': '16', 'contact': 'True', 'min_dist': '3.9', 'aa': 'HIS'}, '#text': '275A'}, {'@attributes': {'id': '17', 'contact': 'False', 'min_dist': '4.8', 'aa': 'GLY'}, '#text': '111A'}, {'@attributes': {'id': '18', 'contact': 'False', 'min_dist': '5.4', 'aa': 'GLY'}, '#text': '79A'}, {'@attributes': {'id': '19', 'contact': 'False', 'min_dist': '6.9', 'aa': 'HIS'}, '#text': '262A'}, {'@attributes': {'id': '20', 'contact': 'False', 'min_dist': '4.8', 'aa': 'GLY'}, '#text': '184A'}, {'@attributes': {'id': '21', 'contact': 'True', 'min_dist': '2.9', 'aa': 'ASN'}, '#text': '231A'}, {'@attributes': {'id': '22', 'contact': 'False', 'min_dist': '7.3', 'aa': 'TYR'}, '#text': '128A'}, {'@attributes': {'id': '23', 'contact': 'True', 'min_dist': '3.2', 'aa': 'GLY'}, '#text': '228A'}, {'@attributes': {'id': '24', 'contact': 'True', 'min_dist': '2.7', 'aa': 'GLY'}, '#text': '303A'}, {'@attributes': {'id': '25', 'contact': 'True', 'min_dist': '2.8', 'aa': 'LYS'}, '#text': '82A'}, {'@attributes': {'id': '26', 'contact': 'False', 'min_dist': '4.5', 'aa': 'SER'}, '#text': '346A'}, {'@attributes': {'id': '27', 'contact': 'True', 'min_dist': '2.6', 'aa': 'SER'}, '#text': '265A'}, {'@attributes': {'id': '28', 'contact': 'False', 'min_dist': '6.4', 'aa': 'ASP'}, '#text': '166A'}, {'@attributes': {'id': '29', 'contact': 'False', 'min_dist': '6.6', 'aa': 'ASN'}, '#text': '140A'}, {'@attributes': {'id': '30', 'contact': 'False', 'min_dist': '6.5', 'aa': 'SER'}, '#text': '274A'}, {'@attributes': {'id': '31', 'contact': 'False', 'min_dist': '6.8', 'aa': 'MET'}, '#text': '233A'}, {'@attributes': {'id': '32', 'contact': 'False', 'min_dist': '5.9', 'aa': 'LEU'}, '#text': '282A'}, {'@attributes': {'id': '33', 'contact': 'True', 'min_dist': '2.9', 'aa': 'GLY'}, '#text': '227A'}, {'@attributes': {'id': '34', 'contact': 'False', 'min_dist': '3.4', 'aa': 'GLU'}, '#text': '345A'}, {'@attributes': {'id': '35', 'contact': 'False', 'min_dist': '6.7', 'aa': 'LEU'}, '#text': '344A'}, {'@attributes': {'id': '36', 'contact': 'True', 'min_dist': '3.9', 'aa': 'ALA'}, '#text': '80A'}, {'@attributes': {'id': '37', 'contact': 'False', 'min_dist': '6.9', 'aa': 'ASN'}, '#text': '369A'}, {'@attributes': {'id': '38', 'contact': 'False', 'min_dist': '7.4', 'aa': 'VAL'}, '#text': '196A'}, {'@attributes': {'id': '39', 'contact': 'False', 'min_dist': '4.1', 'aa': 'ALA'}, '#text': '343A'}, {'@attributes': {'id': '40', 'contact': 'False', 'min_dist': '5.4', 'aa': 'GLY'}, '#text': '188A'}, {'@attributes': {'id': '41', 'contact': 'False', 'min_dist': '4.0', 'aa': 'VAL'}, '#text': '304A'}, {'@attributes': {'id': '42', 'contact': 'False', 'min_dist': '3.5', 'aa': 'CYS'}, '#text': '225A'}, {'@attributes': {'id': '43', 'contact': 'False', 'min_dist': '4.2', 'aa': 'MET'}, '#text': '277A'}, {'@attributes': {'id': '44', 'contact': 'True', 'min_dist': '3.2', 'aa': 'SER'}, '#text': '185A'}, {'@attributes': {'id': '45', 'contact': 'True', 'min_dist': '3.0', 'aa': 'GLU'}, '#text': '104A'}, {'@attributes': {'id': '46', 'contact': 'False', 'min_dist': '7.1', 'aa': 'ASP'}, '#text': '377A'}, {'@attributes': {'id': '47', 'contact': 'False', 'min_dist': '4.4', 'aa': 'TYR'}, '#text': '181A'}, {'@attributes': {'id': '48', 'contact': 'False', 'min_dist': '7.4', 'aa': 'GLU'}, '#text': '73A'}, {'@attributes': {'id': '49', 'contact': 'True', 'min_dist': '2.7', 'aa': 'GLY'}, '#text': '106A'}, {'@attributes': {'id': '50', 'contact': 'True', 'min_dist': '3.2', 'aa': 'SER'}, '#text': '230A'}, {'@attributes': {'id': '51', 'contact': 'False', 'min_dist': '6.6', 'aa': 'LEU'}, '#text': '370A'}, {'@attributes': {'id': '52', 'contact': 'False', 'min_dist': '6.4', 'aa': 'ALA'}, '#text': '252A'}, {'@attributes': {'id': '53', 'contact': 'False', 'min_dist': '3.4', 'aa': 'GLY'}, '#text': '298A'}, {'@attributes': {'id': '54', 'contact': 'True', 'min_dist': '3.6', 'aa': 'VAL'}, '#text': '187A'}, {'@attributes': {'id': '55', 'contact': 'False', 'min_dist': '5.6', 'aa': 'GLY'}, '#text': '305A'}, {'@attributes': {'id': '56', 'contact': 'True', 'min_dist': '2.7', 'aa': 'THR'}, '#text': '105A'}, {'@attributes': {'id': '57', 'contact': 'False', 'min_dist': '6.1', 'aa': 'HIS'}, '#text': '308A'}, {'@attributes': {'id': '58', 'contact': 'False', 'min_dist': '7.4', 'aa': 'ASP'}, '#text': '133A'}, {'@attributes': {'id': '59', 'contact': 'True', 'min_dist': '3.5', 'aa': 'GLY'}, '#text': '108A'}, {'@attributes': {'id': '60', 'contact': 'False', 'min_dist': '6.0', 'aa': 'ASP'}, '#text': '300A'}, {'@attributes': {'id': '61', 'contact': 'False', 'min_dist': '5.9', 'aa': 'VAL'}, '#text': '186A'}, {'@attributes': {'id': '62', 'contact': 'False', 'min_dist': '3.9', 'aa': 'VAL'}, '#text': '226A'}, {'@attributes': {'id': '63', 'contact': 'True', 'min_dist': '3.5', 'aa': 'ALA'}, '#text': '165A'}, {'@attributes': {'id': '64', 'contact': 'False', 'min_dist': '6.8', 'aa': 'ALA'}, '#text': '164A'}, {'@attributes': {'id': '65', 'contact': 'False', 'min_dist': '6.3', 'aa': 'ALA'}, '#text': '183A'}, {'@attributes': {'id': '66', 'contact': 'False', 'min_dist': '5.7', 'aa': 'ARG'}, '#text': '373A'}, {'@attributes': {'id': '67', 'contact': 'False', 'min_dist': '3.8', 'aa': 'LEU'}, '#text': '299A'}, {'@attributes': {'id': '68', 'contact': 'False', 'min_dist': '4.8', 'aa': 'ALA'}, '#text': '264A'}, {'@attributes': {'id': '69', 'contact': 'True', 'min_dist': '3.6', 'aa': 'ALA'}, '#text': '107A'}, {'@attributes': {'id': '70', 'contact': 'False', 'min_dist': '5.2', 'aa': 'PHE'}, '#text': '281A'}, {'@attributes': {'id': '71', 'contact': 'False', 'min_dist': '3.5', 'aa': 'LEU'}, '#text': '161A'}, {'@attributes': {'id': '72', 'contact': 'True', 'min_dist': '3.0', 'aa': 'HIS'}, '#text': '81A'}, {'@attributes': {'id': '73', 'contact': 'False', 'min_dist': '5.4', 'aa': 'PRO'}, '#text': '297A'}, {'@attributes': {'id': '74', 'contact': 'True', 'min_dist': '2.5', 'aa': 'VAL'}, '#text': '301A'}, {'@attributes': {'id': '75', 'contact': 'True', 'min_dist': '2.7', 'aa': 'SER'}, '#text': '371A'}, {'@attributes': {'id': '76', 'contact': 'False', 'min_dist': '5.7', 'aa': 'LYS'}, '#text': '162A'}, {'@attributes': {'id': '77', 'contact': 'False', 'min_dist': '6.5', 'aa': 'SER'}, '#text': '292A'}]}, 'interactions': {'hydrophobic_interactions': {'hydrophobic_interaction': [{'@attributes': {'id': '1'}, 'resnr': '80', 'restype': 'ALA', 'reschain': 'A', 'resnr_lig': '0', 'restype_lig': 'LIG', 'reschain_lig': 'B', 'dist': '3.93', 'ligcarbonidx': '2990', 'protcarbonidx': '665', 'ligcoo': {'x': '-5.672', 'y': '-0.299', 'z': '6.105'}, 'protcoo': {'x': '-5.512', 'y': '3.490', 'z': '7.151'}}, {'@attributes': {'id': '2'}, 'resnr': '104', 'restype': 'GLU', 'reschain': 'A', 'resnr_lig': '0', 'restype_lig': 'LIG', 'reschain_lig': 'B', 'dist': '3.89', 'ligcarbonidx': '2970', 'protcarbonidx': '842', 'ligcoo': {'x': '-2.290', 'y': '1.216', 'z': '-7.839'}, 'protcoo': {'x': '-5.124', 'y': '3.729', 'z': '-6.944'}}, {'@attributes': {'id': '3'}, 'resnr': '165', 'restype': 'ALA', 'reschain': 'A', 'resnr_lig': '0', 'restype_lig': 'LIG', 'reschain_lig': 'B', 'dist': '3.51', 'ligcarbonidx': '2969', 'protcarbonidx': '1286', 'ligcoo': {'x': '-1.789', 'y': '0.531', 'z': '-8.926'}, 'protcoo': {'x': '-4.534', 'y': '1.943', 'z': '-10.607'}}, {'@attributes': {'id': '4'}, 'resnr': '187', 'restype': 'VAL', 'reschain': 'A', 'resnr_lig': '0', 'restype_lig': 'LIG', 'reschain_lig': 'B', 'dist': '3.65', 'ligcarbonidx': '2970', 'protcarbonidx': '1466', 'ligcoo': {'x': '-2.290', 'y': '1.216', 'z': '-7.839'}, 'protcoo': {'x': '1.180', 'y': '1.036', 'z': '-6.731'}}]}, 'hydrogen_bonds': {'hydrogen_bond': [{'@attributes': {'id': '1'}, 'resnr': '81', 'restype': 'HIS', 'reschain': 'A', 'resnr_lig': '0', 'restype_lig': 'LIG', 'reschain_lig': 'B', 'sidechain': 'True', 'dist_h-a': '2.27', 'dist_d-a': '3.03', 'don_angle': '135.21', 'protisdon': 'False', 'donoridx': '2985', 'donortype': 'O3', 'acceptoridx': '675', 'acceptortype': 'Nar', 'ligcoo': {'x': '-0.394', 'y': '-1.278', 'z': '2.650'}, 'protcoo': {'x': '-0.662', 'y': '1.416', 'z': '4.016'}}, {'@attributes': {'id': '2'}, 'resnr': '82', 'restype': 'LYS', 'reschain': 'A', 'resnr_lig': '0', 'restype_lig': 'LIG', 'reschain_lig': 'B', 'sidechain': 'True', 'dist_h-a': '1.99', 'dist_d-a': '2.76', 'don_angle': '130.92', 'protisdon': 'True', 'donoridx': '684', 'donortype': 'N3', 'acceptoridx': '2984', 'acceptortype': 'O2', 'ligcoo': {'x': '-1.225', 'y': '-0.774', 'z': '0.375'}, 'protcoo': {'x': '-1.929', 'y': '1.897', 'z': '0.483'}}, {'@attributes': {'id': '3'}, 'resnr': '104', 'restype': 'GLU', 'reschain': 'A', 'resnr_lig': '0', 'restype_lig': 'LIG', 'reschain_lig': 'B', 'sidechain': 'True', 'dist_h-a': '2.12', 'dist_d-a': '2.98', 'don_angle': '145.36', 'protisdon': 'False', 'donoridx': '2972', 'donortype': 'Nar', 'acceptoridx': '845', 'acceptortype': 'O3', 'ligcoo': {'x': '-2.846', 'y': '0.982', 'z': '-5.373'}, 'protcoo': {'x': '-3.102', 'y': '3.934', 'z': '-5.701'}}, {'@attributes': {'id': '4'}, 'resnr': '105', 'restype': 'THR', 'reschain': 'A', 'resnr_lig': '0', 'restype_lig': 'LIG', 'reschain_lig': 'B', 'sidechain': 'True', 'dist_h-a': '2.04', 'dist_d-a': '2.68', 'don_angle': '121.22', 'protisdon': 'True', 'donoridx': '851', 'donortype': 'O3', 'acceptoridx': '2995', 'acceptortype': 'O.co2', 'ligcoo': {'x': '-7.097', 'y': '2.447', 'z': '-1.517'}, 'protcoo': {'x': '-8.881', 'y': '4.439', 'z': '-1.660'}}, {'@attributes': {'id': '5'}, 'resnr': '106', 'restype': 'GLY', 'reschain': 'A', 'resnr_lig': '0', 'restype_lig': 'LIG', 'reschain_lig': 'B', 'sidechain': 'False', 'dist_h-a': '1.73', 'dist_d-a': '2.70', 'don_angle': '168.40', 'protisdon': 'True', 'donoridx': '853', 'donortype': 'Nam', 'acceptoridx': '2995', 'acceptortype': 'O.co2', 'ligcoo': {'x': '-7.097', 'y': '2.447', 'z': '-1.517'}, 'protcoo': {'x': '-9.089', 'y': '1.704', 'z': '-3.185'}}, {'@attributes': {'id': '6'}, 'resnr': '107', 'restype': 'ALA', 'reschain': 'A', 'resnr_lig': '0', 'restype_lig': 'LIG', 'reschain_lig': 'B', 'sidechain': 'False', 'dist_h-a': '3.00', 'dist_d-a': '3.64', 'don_angle': '123.34', 'protisdon': 'True', 'donoridx': '857', 'donortype': 'Nam', 'acceptoridx': '2995', 'acceptortype': 'O.co2', 'ligcoo': {'x': '-7.097', 'y': '2.447', 'z': '-1.517'}, 'protcoo': {'x': '-9.881', 'y': '0.241', 'z': '-0.730'}}, {'@attributes': {'id': '7'}, 'resnr': '108', 'restype': 'GLY', 'reschain': 'A', 'resnr_lig': '0', 'restype_lig': 'LIG', 'reschain_lig': 'B', 'sidechain': 'False', 'dist_h-a': '2.99', 'dist_d-a': '3.93', 'don_angle': '159.44', 'protisdon': 'True', 'donoridx': '862', 'donortype': 'Nam', 'acceptoridx': '2995', 'acceptortype': 'O.co2', 'ligcoo': {'x': '-7.097', 'y': '2.447', 'z': '-1.517'}, 'protcoo': {'x': '-10.591', 'y': '2.621', 'z': '0.271'}}, {'@attributes': {'id': '8'}, 'resnr': '109', 'restype': 'GLN', 'reschain': 'A', 'resnr_lig': '0', 'restype_lig': 'LIG', 'reschain_lig': 'B', 'sidechain': 'False', 'dist_h-a': '2.51', 'dist_d-a': '3.01', 'don_angle': '111.53', 'protisdon': 'True', 'donoridx': '866', 'donortype': 'Nam', 'acceptoridx': '2994', 'acceptortype': 'O.co2', 'ligcoo': {'x': '-7.129', 'y': '2.517', 'z': '0.656'}, 'protcoo': {'x': '-9.260', 'y': '4.039', 'z': '2.146'}}, {'@attributes': {'id': '9'}, 'resnr': '110', 'restype': 'HIS', 'reschain': 'A', 'resnr_lig': '0', 'restype_lig': 'LIG', 'reschain_lig': 'B', 'sidechain': 'False', 'dist_h-a': '1.91', 'dist_d-a': '2.85', 'don_angle': '159.42', 'protisdon': 'True', 'donoridx': '875', 'donortype': 'Nam', 'acceptoridx': '2994', 'acceptortype': 'O.co2', 'ligcoo': {'x': '-7.129', 'y': '2.517', 'z': '0.656'}, 'protcoo': {'x': '-6.893', 'y': '5.296', 'z': '1.253'}}, {'@attributes': {'id': '10'}, 'resnr': '185', 'restype': 'SER', 'reschain': 'A', 'resnr_lig': '0', 'restype_lig': 'LIG', 'reschain_lig': 'B', 'sidechain': 'True', 'dist_h-a': '3.54', 'dist_d-a': '4.07', 'don_angle': '117.15', 'protisdon': 'True', 'donoridx': '1452', 'donortype': 'O3', 'acceptoridx': '2986', 'acceptortype': 'O3', 'ligcoo': {'x': '-0.120', 'y': '-2.926', 'z': '0.834'}, 'protcoo': {'x': '0.907', 'y': '-0.033', 'z': '-1.844'}}, {'@attributes': {'id': '11'}, 'resnr': '227', 'restype': 'GLY', 'reschain': 'A', 'resnr_lig': '0', 'restype_lig': 'LIG', 'reschain_lig': 'B', 'sidechain': 'False', 'dist_h-a': '1.95', 'dist_d-a': '2.86', 'don_angle': '153.70', 'protisdon': 'True', 'donoridx': '1762', 'donortype': 'Nam', 'acceptoridx': '2986', 'acceptortype': 'O3', 'ligcoo': {'x': '-0.120', 'y': '-2.926', 'z': '0.834'}, 'protcoo': {'x': '-0.821', 'y': '-5.611', 'z': '0.124'}}, {'@attributes': {'id': '12'}, 'resnr': '228', 'restype': 'GLY', 'reschain': 'A', 'resnr_lig': '0', 'restype_lig': 'LIG', 'reschain_lig': 'B', 'sidechain': 'False', 'dist_h-a': '3.10', 'dist_d-a': '3.90', 'don_angle': '139.20', 'protisdon': 'True', 'donoridx': '1766', 'donortype': 'Nam', 'acceptoridx': '2984', 'acceptortype': 'O2', 'ligcoo': {'x': '-1.225', 'y': '-0.774', 'z': '0.375'}, 'protcoo': {'x': '-0.622', 'y': '-3.605', 'z': '-2.244'}}, {'@attributes': {'id': '13'}, 'resnr': '229', 'restype': 'GLY', 'reschain': 'A', 'resnr_lig': '0', 'restype_lig': 'LIG', 'reschain_lig': 'B', 'sidechain': 'False', 'dist_h-a': '3.08', 'dist_d-a': '3.94', 'don_angle': '146.65', 'protisdon': 'True', 'donoridx': '1770', 'donortype': 'Nam', 'acceptoridx': '2984', 'acceptortype': 'O2', 'ligcoo': {'x': '-1.225', 'y': '-0.774', 'z': '0.375'}, 'protcoo': {'x': '1.670', 'y': '-3.039', 'z': '-1.046'}}, {'@attributes': {'id': '14'}, 'resnr': '230', 'restype': 'SER', 'reschain': 'A', 'resnr_lig': '0', 'restype_lig': 'LIG', 'reschain_lig': 'B', 'sidechain': 'False', 'dist_h-a': '2.92', 'dist_d-a': '3.83', 'don_angle': '152.61', 'protisdon': 'True', 'donoridx': '1774', 'donortype': 'Nam', 'acceptoridx': '2984', 'acceptortype': 'O2', 'ligcoo': {'x': '-1.225', 'y': '-0.774', 'z': '0.375'}, 'protcoo': {'x': '2.585', 'y': '-0.917', 'z': '0.684'}}, {'@attributes': {'id': '15'}, 'resnr': '231', 'restype': 'ASN', 'reschain': 'A', 'resnr_lig': '0', 'restype_lig': 'LIG', 'reschain_lig': 'B', 'sidechain': 'False', 'dist_h-a': '2.01', 'dist_d-a': '2.97', 'don_angle': '166.68', 'protisdon': 'True', 'donoridx': '1780', 'donortype': 'Nam', 'acceptoridx': '2985', 'acceptortype': 'O3', 'ligcoo': {'x': '-0.394', 'y': '-1.278', 'z': '2.650'}, 'protcoo': {'x': '2.271', 'y': '-0.375', 'z': '3.608'}}, {'@attributes': {'id': '16'}, 'resnr': '231', 'restype': 'ASN', 'reschain': 'A', 'resnr_lig': '0', 'restype_lig': 'LIG', 'reschain_lig': 'B', 'sidechain': 'True', 'dist_h-a': '1.88', 'dist_d-a': '2.86', 'don_angle': '170.10', 'protisdon': 'True', 'donoridx': '1787', 'donortype': 'Nam', 'acceptoridx': '2985', 'acceptortype': 'O3', 'ligcoo': {'x': '-0.394', 'y': '-1.278', 'z': '2.650'}, 'protcoo': {'x': '0.162', 'y': '-2.859', 'z': '4.962'}}, {'@attributes': {'id': '17'}, 'resnr': '371', 'restype': 'SER', 'reschain': 'A', 'resnr_lig': '0', 'restype_lig': 'LIG', 'reschain_lig': 'B', 'sidechain': 'True', 'dist_h-a': '2.13', 'dist_d-a': '2.72', 'don_angle': '118.13', 'protisdon': 'True', 'donoridx': '2842', 'donortype': 'O3', 'acceptoridx': '2988', 'acceptortype': 'Nar', 'ligcoo': {'x': '-3.983', 'y': '-1.775', 'z': '5.171'}, 'protcoo': {'x': '-3.128', 'y': '-2.398', 'z': '7.682'}}]}, 'water_bridges': None, 'salt_bridges': {'salt_bridge': {'@attributes': {'id': '1'}, 'resnr': '82', 'restype': 'LYS', 'reschain': 'A', 'prot_idx_list': {'idx': {'@attributes': {'id': '1'}, '#text': '684'}}, 'resnr_lig': '0', 'restype_lig': 'LIG', 'reschain_lig': 'B', 'dist': '5.30', 'protispos': 'True', 'lig_group': 'Carboxylate', 'lig_idx_list': {'idx': [{'@attributes': {'id': '1'}, '#text': '2995'}, {'@attributes': {'id': '2'}, '#text': '2994'}]}, 'ligcoo': {'x': '-7.113', 'y': '2.482', 'z': '-0.430'}, 'protcoo': {'x': '-1.929', 'y': '1.897', 'z': '0.483'}}}, 'pi_stacks': {'pi_stack': [{'@attributes': {'id': '1'}, 'resnr': '81', 'restype': 'HIS', 'reschain': 'A', 'resnr_lig': '0', 'restype_lig': 'LIG', 'reschain_lig': 'B', 'prot_idx_list': {'idx': [{'@attributes': {'id': '1'}, '#text': '671'}, {'@attributes': {'id': '2'}, '#text': '672'}, {'@attributes': {'id': '3'}, '#text': '673'}, {'@attributes': {'id': '4'}, '#text': '674'}, {'@attributes': {'id': '5'}, '#text': '675'}]}, 'centdist': '4.68', 'angle': '74.55', 'offset': '0.80', 'type': 'T', 'lig_idx_list': {'idx': [{'@attributes': {'id': '1'}, '#text': '2980'}, {'@attributes': {'id': '2'}, '#text': '2981'}, {'@attributes': {'id': '3'}, '#text': '2987'}, {'@attributes': {'id': '4'}, '#text': '2988'}, {'@attributes': {'id': '5'}, '#text': '2989'}, {'@attributes': {'id': '6'}, '#text': '2991'}]}, 'ligcoo': {'x': '-4.215', 'y': '-1.398', 'z': '3.881'}, 'protcoo': {'x': '-0.957', 'y': '1.752', 'z': '5.066'}}, {'@attributes': {'id': '2'}, 'resnr': '275', 'restype': 'HIS', 'reschain': 'A', 'resnr_lig': '0', 'restype_lig': 'LIG', 'reschain_lig': 'B', 'prot_idx_list': {'idx': [{'@attributes': {'id': '1'}, '#text': '2098'}, {'@attributes': {'id': '2'}, '#text': '2099'}, {'@attributes': {'id': '3'}, '#text': '2100'}, {'@attributes': {'id': '4'}, '#text': '2101'}, {'@attributes': {'id': '5'}, '#text': '2102'}]}, 'centdist': '5.22', 'angle': '79.54', 'offset': '1.05', 'type': 'T', 'lig_idx_list': {'idx': [{'@attributes': {'id': '1'}, '#text': '2967'}, {'@attributes': {'id': '2'}, '#text': '2968'}, {'@attributes': {'id': '3'}, '#text': '2969'}, {'@attributes': {'id': '4'}, '#text': '2970'}, {'@attributes': {'id': '5'}, '#text': '2971'}, {'@attributes': {'id': '6'}, '#text': '2975'}]}, 'ligcoo': {'x': '-1.885', 'y': '-0.118', 'z': '-7.705'}, 'protcoo': {'x': '-2.214', 'y': '-1.531', 'z': '-12.718'}}]}, 'pi_cation_interactions': None, 'halogen_bonds': None, 'metal_complexes': {'metal_complex': [{'@attributes': {'id': '1'}, 'resnr': '263', 'restype': 'SER', 'reschain': 'A', 'resnr_lig': '0', 'restype_lig': 'LIG', 'reschain_lig': 'B', 'metal_idx': '2996', 'metal_type': 'Na', 'target_idx': '2021', 'target_type': 'O', 'coordination': '4', 'dist': '2.70', 'location': 'protein.mainchain', 'rms': '42.99', 'geometry': 'square.planar', 'complexnum': '1', 'metalcoo': {'x': '-1.675', 'y': '-8.521', 'z': '-4.796'}, 'targetcoo': {'x': '-2.691', 'y': '-10.890', 'z': '-4.001'}}, {'@attributes': {'id': '2'}, 'resnr': '265', 'restype': 'SER', 'reschain': 'A', 'resnr_lig': '0', 'restype_lig': 'LIG', 'reschain_lig': 'B', 'metal_idx': '2996', 'metal_type': 'Na', 'target_idx': '2034', 'target_type': 'O', 'coordination': '4', 'dist': '2.62', 'location': 'protein.sidechain', 'rms': '42.99', 'geometry': 'square.planar', 'complexnum': '1', 'metalcoo': {'x': '-1.675', 'y': '-8.521', 'z': '-4.796'}, 'targetcoo': {'x': '-0.479', 'y': '-9.789', 'z': '-6.758'}}, {'@attributes': {'id': '3'}, 'resnr': '301', 'restype': 'VAL', 'reschain': 'A', 'resnr_lig': '0', 'restype_lig': 'LIG', 'reschain_lig': 'B', 'metal_idx': '2996', 'metal_type': 'Na', 'target_idx': '2297', 'target_type': 'O', 'coordination': '4', 'dist': '2.49', 'location': 'protein.mainchain', 'rms': '42.99', 'geometry': 'square.planar', 'complexnum': '1', 'metalcoo': {'x': '-1.675', 'y': '-8.521', 'z': '-4.796'}, 'targetcoo': {'x': '-3.751', 'y': '-7.917', 'z': '-6.038'}}, {'@attributes': {'id': '4'}, 'resnr': '303', 'restype': 'GLY', 'reschain': 'A', 'resnr_lig': '0', 'restype_lig': 'LIG', 'reschain_lig': 'B', 'metal_idx': '2996', 'metal_type': 'Na', 'target_idx': '2311', 'target_type': 'O', 'coordination': '4', 'dist': '2.72', 'location': 'protein.mainchain', 'rms': '42.99', 'geometry': 'square.planar', 'complexnum': '1', 'metalcoo': {'x': '-1.675', 'y': '-8.521', 'z': '-4.796'}, 'targetcoo': {'x': '-0.201', 'y': '-6.625', 'z': '-6.073'}}]}}, 'mappings': {'smiles_to_pdb': '21:2966,22:2967,23:2968,24:2969,25:2970,26:2971,30:2972,29:2973,28:2974,27:2975,19:2976,3:2977,4:2978,5:2979,6:2980,7:2981,14:2982,15:2983,16:2984,17:2985,18:2986,8:2987,9:2988,10:2989,13:2990,11:2991,12:2992,2:2993,1:2994,20:2995,31:2996'}}, 'date_of_creation': '2025/01/21', 'citation_information': 'Adasme,M. et al. PLIP 2021: expanding the scope of the protein-ligand interaction profiler to DNA and RNA. Nucl. Acids Res. (05 May 2021), gkab294. doi: 10.1093/nar/gkab294', 'maintainer_information': 'PharmAI GmbH (2020-2021) - www.pharm.ai - hello@pharm.ai', 'mode': 'default', 'pdbid': 'I165A:I183A:Y301V_0_PROTEIN', 'model': '1', 'filetype': 'PDB', 'pdbfile': '/disk2/fli/REVIVAL2/zs/plip/af3/struct_joint/PfTrpB-4bromo/I165A:I183A:Y301V_0/I165A:I183A:Y301V_0.pdb', 'pdbfixes': 'False', 'filename': 'I165A:I183A:Y301V_0.pdb', 'excluded_ligands': None, 'covlinkages': None}\n"
     ]
    }
   ],
   "source": [
    "\n",
    "# Example usage\n",
    "file_path = \"/disk2/fli/REVIVAL2/zs/plip/af3/struct_joint/PfTrpB-4bromo/I165A:I183A:Y301V_0/report.xml\"  # Replace with the path to your XML file\n",
    "result = xml_file_to_dict(file_path)\n",
    "print(result)\n"
   ]
  },
  {
   "cell_type": "code",
   "execution_count": 6,
   "metadata": {},
   "outputs": [
    {
     "data": {
      "text/plain": [
       "7"
      ]
     },
     "execution_count": 6,
     "metadata": {},
     "output_type": "execute_result"
    }
   ],
   "source": [
    "len(result[\"bindingsite\"])"
   ]
  },
  {
   "cell_type": "code",
   "execution_count": 9,
   "metadata": {},
   "outputs": [
    {
     "data": {
      "text/plain": [
       "dict_keys(['@attributes', 'identifiers', 'lig_properties', 'interacting_chains', 'bs_residues', 'interactions', 'mappings'])"
      ]
     },
     "execution_count": 9,
     "metadata": {},
     "output_type": "execute_result"
    }
   ],
   "source": [
    "result[\"bindingsite\"].keys()"
   ]
  },
  {
   "cell_type": "code",
   "execution_count": 16,
   "metadata": {},
   "outputs": [
    {
     "data": {
      "text/plain": [
       "[{'@attributes': {'id': '1', 'contact': 'False', 'min_dist': '4.7', 'aa': 'LYS'},\n",
       "  '#text': '376A'},\n",
       " {'@attributes': {'id': '2', 'contact': 'False', 'min_dist': '4.7', 'aa': 'ALA'},\n",
       "  '#text': '232A'},\n",
       " {'@attributes': {'id': '3', 'contact': 'False', 'min_dist': '6.9', 'aa': 'MET'},\n",
       "  '#text': '129A'},\n",
       " {'@attributes': {'id': '4', 'contact': 'False', 'min_dist': '5.8', 'aa': 'LEU'},\n",
       "  '#text': '266A'},\n",
       " {'@attributes': {'id': '5', 'contact': 'False', 'min_dist': '3.9', 'aa': 'GLY'},\n",
       "  '#text': '372A'},\n",
       " {'@attributes': {'id': '6', 'contact': 'True', 'min_dist': '2.6', 'aa': 'GLY'},\n",
       "  '#text': '229A'},\n",
       " {'@attributes': {'id': '7', 'contact': 'True', 'min_dist': '2.9', 'aa': 'HIS'},\n",
       "  '#text': '110A'},\n",
       " {'@attributes': {'id': '8', 'contact': 'False', 'min_dist': '7.1', 'aa': 'GLN'},\n",
       "  '#text': '137A'},\n",
       " {'@attributes': {'id': '9', 'contact': 'False', 'min_dist': '6.6', 'aa': 'VAL'},\n",
       "  '#text': '112A'},\n",
       " {'@attributes': {'id': '10', 'contact': 'False', 'min_dist': '7.5', 'aa': 'ALA'},\n",
       "  '#text': '113A'},\n",
       " {'@attributes': {'id': '11', 'contact': 'False', 'min_dist': '4.1', 'aa': 'PRO'},\n",
       "  '#text': '302A'},\n",
       " {'@attributes': {'id': '12', 'contact': 'False', 'min_dist': '4.4', 'aa': 'GLU'},\n",
       "  '#text': '251A'},\n",
       " {'@attributes': {'id': '13', 'contact': 'False', 'min_dist': '6.7', 'aa': 'GLN'},\n",
       "  '#text': '200A'},\n",
       " {'@attributes': {'id': '14', 'contact': 'True', 'min_dist': '3.0', 'aa': 'GLN'},\n",
       "  '#text': '109A'},\n",
       " {'@attributes': {'id': '15', 'contact': 'True', 'min_dist': '2.7', 'aa': 'SER'},\n",
       "  '#text': '263A'},\n",
       " {'@attributes': {'id': '16', 'contact': 'True', 'min_dist': '3.9', 'aa': 'HIS'},\n",
       "  '#text': '275A'},\n",
       " {'@attributes': {'id': '17', 'contact': 'False', 'min_dist': '4.8', 'aa': 'GLY'},\n",
       "  '#text': '111A'},\n",
       " {'@attributes': {'id': '18', 'contact': 'False', 'min_dist': '5.4', 'aa': 'GLY'},\n",
       "  '#text': '79A'},\n",
       " {'@attributes': {'id': '19', 'contact': 'False', 'min_dist': '6.9', 'aa': 'HIS'},\n",
       "  '#text': '262A'},\n",
       " {'@attributes': {'id': '20', 'contact': 'False', 'min_dist': '4.8', 'aa': 'GLY'},\n",
       "  '#text': '184A'},\n",
       " {'@attributes': {'id': '21', 'contact': 'True', 'min_dist': '2.9', 'aa': 'ASN'},\n",
       "  '#text': '231A'},\n",
       " {'@attributes': {'id': '22', 'contact': 'False', 'min_dist': '7.3', 'aa': 'TYR'},\n",
       "  '#text': '128A'},\n",
       " {'@attributes': {'id': '23', 'contact': 'True', 'min_dist': '3.2', 'aa': 'GLY'},\n",
       "  '#text': '228A'},\n",
       " {'@attributes': {'id': '24', 'contact': 'True', 'min_dist': '2.7', 'aa': 'GLY'},\n",
       "  '#text': '303A'},\n",
       " {'@attributes': {'id': '25', 'contact': 'True', 'min_dist': '2.8', 'aa': 'LYS'},\n",
       "  '#text': '82A'},\n",
       " {'@attributes': {'id': '26', 'contact': 'False', 'min_dist': '4.5', 'aa': 'SER'},\n",
       "  '#text': '346A'},\n",
       " {'@attributes': {'id': '27', 'contact': 'True', 'min_dist': '2.6', 'aa': 'SER'},\n",
       "  '#text': '265A'},\n",
       " {'@attributes': {'id': '28', 'contact': 'False', 'min_dist': '6.4', 'aa': 'ASP'},\n",
       "  '#text': '166A'},\n",
       " {'@attributes': {'id': '29', 'contact': 'False', 'min_dist': '6.6', 'aa': 'ASN'},\n",
       "  '#text': '140A'},\n",
       " {'@attributes': {'id': '30', 'contact': 'False', 'min_dist': '6.5', 'aa': 'SER'},\n",
       "  '#text': '274A'},\n",
       " {'@attributes': {'id': '31', 'contact': 'False', 'min_dist': '6.8', 'aa': 'MET'},\n",
       "  '#text': '233A'},\n",
       " {'@attributes': {'id': '32', 'contact': 'False', 'min_dist': '5.9', 'aa': 'LEU'},\n",
       "  '#text': '282A'},\n",
       " {'@attributes': {'id': '33', 'contact': 'True', 'min_dist': '2.9', 'aa': 'GLY'},\n",
       "  '#text': '227A'},\n",
       " {'@attributes': {'id': '34', 'contact': 'False', 'min_dist': '3.4', 'aa': 'GLU'},\n",
       "  '#text': '345A'},\n",
       " {'@attributes': {'id': '35', 'contact': 'False', 'min_dist': '6.7', 'aa': 'LEU'},\n",
       "  '#text': '344A'},\n",
       " {'@attributes': {'id': '36', 'contact': 'True', 'min_dist': '3.9', 'aa': 'ALA'},\n",
       "  '#text': '80A'},\n",
       " {'@attributes': {'id': '37', 'contact': 'False', 'min_dist': '6.9', 'aa': 'ASN'},\n",
       "  '#text': '369A'},\n",
       " {'@attributes': {'id': '38', 'contact': 'False', 'min_dist': '7.4', 'aa': 'VAL'},\n",
       "  '#text': '196A'},\n",
       " {'@attributes': {'id': '39', 'contact': 'False', 'min_dist': '4.1', 'aa': 'ALA'},\n",
       "  '#text': '343A'},\n",
       " {'@attributes': {'id': '40', 'contact': 'False', 'min_dist': '5.4', 'aa': 'GLY'},\n",
       "  '#text': '188A'},\n",
       " {'@attributes': {'id': '41', 'contact': 'False', 'min_dist': '4.0', 'aa': 'VAL'},\n",
       "  '#text': '304A'},\n",
       " {'@attributes': {'id': '42', 'contact': 'False', 'min_dist': '3.5', 'aa': 'CYS'},\n",
       "  '#text': '225A'},\n",
       " {'@attributes': {'id': '43', 'contact': 'False', 'min_dist': '4.2', 'aa': 'MET'},\n",
       "  '#text': '277A'},\n",
       " {'@attributes': {'id': '44', 'contact': 'True', 'min_dist': '3.2', 'aa': 'SER'},\n",
       "  '#text': '185A'},\n",
       " {'@attributes': {'id': '45', 'contact': 'True', 'min_dist': '3.0', 'aa': 'GLU'},\n",
       "  '#text': '104A'},\n",
       " {'@attributes': {'id': '46', 'contact': 'False', 'min_dist': '7.1', 'aa': 'ASP'},\n",
       "  '#text': '377A'},\n",
       " {'@attributes': {'id': '47', 'contact': 'False', 'min_dist': '4.4', 'aa': 'TYR'},\n",
       "  '#text': '181A'},\n",
       " {'@attributes': {'id': '48', 'contact': 'False', 'min_dist': '7.4', 'aa': 'GLU'},\n",
       "  '#text': '73A'},\n",
       " {'@attributes': {'id': '49', 'contact': 'True', 'min_dist': '2.7', 'aa': 'GLY'},\n",
       "  '#text': '106A'},\n",
       " {'@attributes': {'id': '50', 'contact': 'True', 'min_dist': '3.2', 'aa': 'SER'},\n",
       "  '#text': '230A'},\n",
       " {'@attributes': {'id': '51', 'contact': 'False', 'min_dist': '6.6', 'aa': 'LEU'},\n",
       "  '#text': '370A'},\n",
       " {'@attributes': {'id': '52', 'contact': 'False', 'min_dist': '6.4', 'aa': 'ALA'},\n",
       "  '#text': '252A'},\n",
       " {'@attributes': {'id': '53', 'contact': 'False', 'min_dist': '3.4', 'aa': 'GLY'},\n",
       "  '#text': '298A'},\n",
       " {'@attributes': {'id': '54', 'contact': 'True', 'min_dist': '3.6', 'aa': 'VAL'},\n",
       "  '#text': '187A'},\n",
       " {'@attributes': {'id': '55', 'contact': 'False', 'min_dist': '5.6', 'aa': 'GLY'},\n",
       "  '#text': '305A'},\n",
       " {'@attributes': {'id': '56', 'contact': 'True', 'min_dist': '2.7', 'aa': 'THR'},\n",
       "  '#text': '105A'},\n",
       " {'@attributes': {'id': '57', 'contact': 'False', 'min_dist': '6.1', 'aa': 'HIS'},\n",
       "  '#text': '308A'},\n",
       " {'@attributes': {'id': '58', 'contact': 'False', 'min_dist': '7.4', 'aa': 'ASP'},\n",
       "  '#text': '133A'},\n",
       " {'@attributes': {'id': '59', 'contact': 'True', 'min_dist': '3.5', 'aa': 'GLY'},\n",
       "  '#text': '108A'},\n",
       " {'@attributes': {'id': '60', 'contact': 'False', 'min_dist': '6.0', 'aa': 'ASP'},\n",
       "  '#text': '300A'},\n",
       " {'@attributes': {'id': '61', 'contact': 'False', 'min_dist': '5.9', 'aa': 'VAL'},\n",
       "  '#text': '186A'},\n",
       " {'@attributes': {'id': '62', 'contact': 'False', 'min_dist': '3.9', 'aa': 'VAL'},\n",
       "  '#text': '226A'},\n",
       " {'@attributes': {'id': '63', 'contact': 'True', 'min_dist': '3.5', 'aa': 'ALA'},\n",
       "  '#text': '165A'},\n",
       " {'@attributes': {'id': '64', 'contact': 'False', 'min_dist': '6.8', 'aa': 'ALA'},\n",
       "  '#text': '164A'},\n",
       " {'@attributes': {'id': '65', 'contact': 'False', 'min_dist': '6.3', 'aa': 'ALA'},\n",
       "  '#text': '183A'},\n",
       " {'@attributes': {'id': '66', 'contact': 'False', 'min_dist': '5.7', 'aa': 'ARG'},\n",
       "  '#text': '373A'},\n",
       " {'@attributes': {'id': '67', 'contact': 'False', 'min_dist': '3.8', 'aa': 'LEU'},\n",
       "  '#text': '299A'},\n",
       " {'@attributes': {'id': '68', 'contact': 'False', 'min_dist': '4.8', 'aa': 'ALA'},\n",
       "  '#text': '264A'},\n",
       " {'@attributes': {'id': '69', 'contact': 'True', 'min_dist': '3.6', 'aa': 'ALA'},\n",
       "  '#text': '107A'},\n",
       " {'@attributes': {'id': '70', 'contact': 'False', 'min_dist': '5.2', 'aa': 'PHE'},\n",
       "  '#text': '281A'},\n",
       " {'@attributes': {'id': '71', 'contact': 'False', 'min_dist': '3.5', 'aa': 'LEU'},\n",
       "  '#text': '161A'},\n",
       " {'@attributes': {'id': '72', 'contact': 'True', 'min_dist': '3.0', 'aa': 'HIS'},\n",
       "  '#text': '81A'},\n",
       " {'@attributes': {'id': '73', 'contact': 'False', 'min_dist': '5.4', 'aa': 'PRO'},\n",
       "  '#text': '297A'},\n",
       " {'@attributes': {'id': '74', 'contact': 'True', 'min_dist': '2.5', 'aa': 'VAL'},\n",
       "  '#text': '301A'},\n",
       " {'@attributes': {'id': '75', 'contact': 'True', 'min_dist': '2.7', 'aa': 'SER'},\n",
       "  '#text': '371A'},\n",
       " {'@attributes': {'id': '76', 'contact': 'False', 'min_dist': '5.7', 'aa': 'LYS'},\n",
       "  '#text': '162A'},\n",
       " {'@attributes': {'id': '77', 'contact': 'False', 'min_dist': '6.5', 'aa': 'SER'},\n",
       "  '#text': '292A'}]"
      ]
     },
     "execution_count": 16,
     "metadata": {},
     "output_type": "execute_result"
    }
   ],
   "source": [
    "result[\"bindingsite\"][\"bs_residues\"][\"bs_residue\"]"
   ]
  },
  {
   "cell_type": "code",
   "execution_count": null,
   "metadata": {},
   "outputs": [],
   "source": []
  }
 ],
 "metadata": {
  "kernelspec": {
   "display_name": "REVIVAL",
   "language": "python",
   "name": "python3"
  },
  "language_info": {
   "codemirror_mode": {
    "name": "ipython",
    "version": 3
   },
   "file_extension": ".py",
   "mimetype": "text/x-python",
   "name": "python",
   "nbconvert_exporter": "python",
   "pygments_lexer": "ipython3",
   "version": "3.11.11"
  }
 },
 "nbformat": 4,
 "nbformat_minor": 2
}
