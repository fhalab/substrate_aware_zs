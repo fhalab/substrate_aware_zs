{
 "cells": [
  {
   "cell_type": "code",
   "execution_count": 1,
   "metadata": {},
   "outputs": [
    {
     "name": "stdout",
     "output_type": "stream",
     "text": [
      "/disk2/fli/REVIVAL2\n"
     ]
    }
   ],
   "source": [
    "%cd ~/REVIVAL2"
   ]
  },
  {
   "cell_type": "code",
   "execution_count": 2,
   "metadata": {},
   "outputs": [
    {
     "name": "stderr",
     "output_type": "stream",
     "text": [
      "/disk2/fli/miniconda3/envs/REVIVAL/lib/python3.11/site-packages/Bio/pairwise2.py:278: BiopythonDeprecationWarning: Bio.pairwise2 has been deprecated, and we intend to remove it in a future release of Biopython. As an alternative, please consider using Bio.Align.PairwiseAligner as a replacement, and contact the Biopython developers if you still need the Bio.pairwise2 module.\n",
      "  warnings.warn(\n"
     ]
    }
   ],
   "source": [
    "from REVIVAL.util import pdb2seq, get_chain_structure, convert_cif_to_pdb"
   ]
  },
  {
   "cell_type": "code",
   "execution_count": 3,
   "metadata": {},
   "outputs": [
    {
     "name": "stderr",
     "output_type": "stream",
     "text": [
      "/disk2/fli/miniconda3/envs/REVIVAL/lib/python3.11/site-packages/Bio/PDB/PDBParser.py:388: PDBConstructionWarning: Ignoring unrecognized record 'END' at line 3029\n",
      "  warnings.warn(\n",
      "/disk2/fli/miniconda3/envs/REVIVAL/lib/python3.11/site-packages/Bio/SeqIO/PdbIO.py:322: BiopythonParserWarning: 'HEADER' line not found; can't determine PDB ID.\n",
      "  warnings.warn(\n"
     ]
    },
    {
     "data": {
      "text/plain": [
       "'MWFGEFGGQYVPETLIEPLKELEKAYKRFKDDEEFNRQLNYYLKTWAGRPTPLYYAKRLTEKIGGAKIYLKREDLVHGGAHKTNNAIGQALLAKFMGKTRLIAETGAGQHGVATAMAGALLGMKVDIYMGAEDVERQKMNVFRMKLLGANVIPVNSGSRTLKDAINEALRDWVATFEYTHYLIGSVVGPHPYPTIVRDFQSVIGREAKAQILEAEGQLPDVIVACVGGGSNAMGIFYPFVNDKKVKLVGVEAGGKGLESGKHSASLNAGQVGVFHGMLSYFLQDEEGQIKPTHSIAPGLDYPGVGPEHAYLKKIQRAEYVTVTDEEALKAFHELSRTEGIIPALESAHAVAYAMKLAKEMSRDEIIIVNLSGRGDKDLDIVLKVSGNV'"
      ]
     },
     "execution_count": 3,
     "metadata": {},
     "output_type": "execute_result"
    }
   ],
   "source": [
    "new_wt = pdb2seq(\"/disk2/fli/REVIVAL2/zs/hydro/md_mut/PfTrpB-4bromo/WT.pdb\")\n",
    "new_wt\n"
   ]
  },
  {
   "cell_type": "code",
   "execution_count": 39,
   "metadata": {},
   "outputs": [
    {
     "name": "stdout",
     "output_type": "stream",
     "text": [
      "Converted /disk2/fli/REVIVAL2/data/structure/docked/PfTrpB-4bromo.cif to sandbox/temp.pdb\n"
     ]
    }
   ],
   "source": [
    "convert_cif_to_pdb(\"/disk2/fli/REVIVAL2/data/structure/docked/PfTrpB-4bromo.cif\", \"sandbox/temp.pdb\", ifsave=True)"
   ]
  },
  {
   "cell_type": "code",
   "execution_count": 4,
   "metadata": {},
   "outputs": [
    {
     "name": "stderr",
     "output_type": "stream",
     "text": [
      "/disk2/fli/miniconda3/envs/REVIVAL/lib/python3.11/site-packages/Bio/SeqIO/PdbIO.py:322: BiopythonParserWarning: 'HEADER' line not found; can't determine PDB ID.\n",
      "  warnings.warn(\n"
     ]
    },
    {
     "data": {
      "text/plain": [
       "'MWFGEFGGQYVPETLVGPLKELEKAYKRFKDDEEFNRQLNYYLKTWAGRPTPLYYAKRLTEKIGGAKVYLKREDLVHGGAHKTNNAIGQALLAKLMGKTRLIAETGAGQHGVATAMAGALLGMKVDIYMGAEDVERQKLNVFRMKLLGANVIPVNSGSRTLKDAIDEALRDWVATFEYTHYLIGSVVGPHPYPTIVRDFQSVIGREAKAQIPEAEGQLPDVIVACVGGGSNAMGIFYPFVNDKKVKLVGVEAGGKGLESGKHSASLNAGQVGVSHGMLSYFLQDEEGQIKPSHSIAPGLDYPGVGPEHAYLKKIQRAEYVAVTDEEALKAFHELSRTEGIIPALESAHAVAYAMKLAKEMSRDEIIIVNLSGRGDKDLDIVLKASGNV'"
      ]
     },
     "execution_count": 4,
     "metadata": {},
     "output_type": "execute_result"
    }
   ],
   "source": [
    "old_wt = pdb2seq(\"/disk2/fli/REVIVAL2/sandbox/temp.pdb\", chain_id=\"A\")\n",
    "old_wt"
   ]
  },
  {
   "cell_type": "code",
   "execution_count": 5,
   "metadata": {},
   "outputs": [],
   "source": [
    "from REVIVAL.global_param import AA_DICT"
   ]
  },
  {
   "cell_type": "code",
   "execution_count": 6,
   "metadata": {},
   "outputs": [
    {
     "name": "stdout",
     "output_type": "stream",
     "text": [
      "15 I V\n",
      "16 E G\n",
      "67 I V\n",
      "94 F L\n",
      "138 M L\n",
      "165 N D\n",
      "211 L P\n",
      "273 F S\n",
      "291 T S\n",
      "320 T A\n",
      "383 V A\n"
     ]
    }
   ],
   "source": [
    "dict2modify = {}\n",
    "\n",
    "for i, (new, old) in enumerate(zip(new_wt, old_wt)):\n",
    "    if new != old:\n",
    "        print(i, new, old)\n",
    "        dict2modify[i+1] = AA_DICT[new]"
   ]
  },
  {
   "cell_type": "code",
   "execution_count": 7,
   "metadata": {},
   "outputs": [
    {
     "data": {
      "text/plain": [
       "{16: 'ILE',\n",
       " 17: 'GLU',\n",
       " 68: 'ILE',\n",
       " 95: 'PHE',\n",
       " 139: 'MET',\n",
       " 166: 'ASN',\n",
       " 212: 'LEU',\n",
       " 274: 'PHE',\n",
       " 292: 'THR',\n",
       " 321: 'THR',\n",
       " 384: 'VAL'}"
      ]
     },
     "execution_count": 7,
     "metadata": {},
     "output_type": "execute_result"
    }
   ],
   "source": [
    "dict2modify"
   ]
  },
  {
   "cell_type": "code",
   "execution_count": 8,
   "metadata": {},
   "outputs": [],
   "source": [
    "from REVIVAL.zs.hydro import mutate_parent"
   ]
  },
  {
   "cell_type": "code",
   "execution_count": 9,
   "metadata": {},
   "outputs": [],
   "source": [
    "import os\n",
    "import subprocess"
   ]
  },
  {
   "cell_type": "code",
   "execution_count": 10,
   "metadata": {},
   "outputs": [],
   "source": [
    "from glob import glob"
   ]
  },
  {
   "cell_type": "code",
   "execution_count": 13,
   "metadata": {},
   "outputs": [
    {
     "name": "stderr",
     "output_type": "stream",
     "text": [
      "==============================\n",
      "*** Open Babel Warning  in PerceiveBondOrders\n",
      "  Failed to kekulize aromatic bonds in OBMol::PerceiveBondOrders (title is wt)\n",
      "\n",
      "1 molecule converted\n",
      "==============================\n",
      "*** Open Babel Warning  in PerceiveBondOrders\n",
      "  Failed to kekulize aromatic bonds in OBMol::PerceiveBondOrders (title is model)\n",
      "\n",
      "1 molecule converted\n",
      "==============================\n",
      "*** Open Babel Warning  in PerceiveBondOrders\n",
      "  Failed to kekulize aromatic bonds in OBMol::PerceiveBondOrders (title is wt)\n",
      "\n",
      "1 molecule converted\n",
      "==============================\n",
      "*** Open Babel Warning  in PerceiveBondOrders\n",
      "  Failed to kekulize aromatic bonds in OBMol::PerceiveBondOrders (title is model)\n",
      "\n",
      "1 molecule converted\n",
      "==============================\n",
      "*** Open Babel Warning  in PerceiveBondOrders\n",
      "  Failed to kekulize aromatic bonds in OBMol::PerceiveBondOrders (title is model)\n",
      "\n",
      "1 molecule converted\n",
      "==============================\n",
      "*** Open Babel Warning  in PerceiveBondOrders\n",
      "  Failed to kekulize aromatic bonds in OBMol::PerceiveBondOrders (title is model)\n",
      "\n",
      "1 molecule converted\n",
      "==============================\n",
      "*** Open Babel Warning  in PerceiveBondOrders\n",
      "  Failed to kekulize aromatic bonds in OBMol::PerceiveBondOrders (title is wt)\n",
      "\n",
      "1 molecule converted\n",
      "==============================\n",
      "*** Open Babel Warning  in PerceiveBondOrders\n",
      "  Failed to kekulize aromatic bonds in OBMol::PerceiveBondOrders (title is wt)\n",
      "\n",
      "1 molecule converted\n",
      "==============================\n",
      "*** Open Babel Warning  in PerceiveBondOrders\n",
      "  Failed to kekulize aromatic bonds in OBMol::PerceiveBondOrders (title is wt)\n",
      "\n",
      "1 molecule converted\n",
      "==============================\n",
      "*** Open Babel Warning  in PerceiveBondOrders\n",
      "  Failed to kekulize aromatic bonds in OBMol::PerceiveBondOrders (title is wt)\n",
      "\n",
      "1 molecule converted\n",
      "==============================\n",
      "*** Open Babel Warning  in PerceiveBondOrders\n",
      "  Failed to kekulize aromatic bonds in OBMol::PerceiveBondOrders (title is model)\n",
      "\n",
      "1 molecule converted\n"
     ]
    }
   ],
   "source": [
    "for in_cif in glob(\"/disk2/fli/REVIVAL2/data/structure/docked/PfTrpB-*.cif\"):\n",
    "    temp_pdb = in_cif.replace(\".cif\", \"temp.pdb\").replace(\"docked\", \"docked4MD\")\n",
    "    out_pdb = temp_pdb.replace(\"temp\", \"\")\n",
    "\n",
    "    subprocess.run([\"obabel\", in_cif, \"-O\", temp_pdb])\n",
    "\n",
    "    mutate_parent(temp_pdb, dict2modify, out_pdb, regen=True)\n",
    "\n",
    "    os.remove(temp_pdb)"
   ]
  },
  {
   "cell_type": "code",
   "execution_count": 14,
   "metadata": {},
   "outputs": [
    {
     "data": {
      "text/plain": [
       "{'A': 'ALA',\n",
       " 'R': 'ARG',\n",
       " 'N': 'ASN',\n",
       " 'D': 'ASP',\n",
       " 'C': 'CYS',\n",
       " 'E': 'GLU',\n",
       " 'Q': 'GLN',\n",
       " 'G': 'GLY',\n",
       " 'H': 'HIS',\n",
       " 'I': 'ILE',\n",
       " 'L': 'LEU',\n",
       " 'K': 'LYS',\n",
       " 'M': 'MET',\n",
       " 'F': 'PHE',\n",
       " 'P': 'PRO',\n",
       " 'S': 'SER',\n",
       " 'T': 'THR',\n",
       " 'W': 'TRP',\n",
       " 'Y': 'TYR',\n",
       " 'V': 'VAL'}"
      ]
     },
     "execution_count": 14,
     "metadata": {},
     "output_type": "execute_result"
    }
   ],
   "source": [
    "AA_DICT"
   ]
  },
  {
   "cell_type": "code",
   "execution_count": 15,
   "metadata": {},
   "outputs": [
    {
     "name": "stderr",
     "output_type": "stream",
     "text": [
      "==============================\n",
      "*** Open Babel Warning  in PerceiveBondOrders\n",
      "  Failed to kekulize aromatic bonds in OBMol::PerceiveBondOrders (title is v75r_m100d_m103t)\n",
      "\n",
      "1 molecule converted\n"
     ]
    }
   ],
   "source": [
    "in_cif = \"/disk2/fli/REVIVAL2/data/structure/docked/Rma-CB.cif\"\n",
    "\n",
    "temp_pdb = in_cif.replace(\".cif\", \"temp.pdb\").replace(\"docked\", \"docked4MD\")\n",
    "out_pdb = temp_pdb.replace(\"temp\", \"\")\n",
    "\n",
    "subprocess.run([\"obabel\", in_cif, \"-O\", temp_pdb])\n",
    "\n",
    "mutate_parent(temp_pdb, {\"75\": \"VAL\", \"100\": \"MET\", \"103\": \"MET\"}, out_pdb, regen=True)\n",
    "\n",
    "os.remove(temp_pdb)"
   ]
  },
  {
   "cell_type": "code",
   "execution_count": 16,
   "metadata": {},
   "outputs": [
    {
     "name": "stderr",
     "output_type": "stream",
     "text": [
      "==============================\n",
      "*** Open Babel Warning  in PerceiveBondOrders\n",
      "  Failed to kekulize aromatic bonds in OBMol::PerceiveBondOrders (title is v75t_m100d_m103e)\n",
      "\n",
      "1 molecule converted\n"
     ]
    }
   ],
   "source": [
    "in_cif = \"/disk2/fli/REVIVAL2/data/structure/docked/Rma-CSi.cif\"\n",
    "\n",
    "temp_pdb = in_cif.replace(\".cif\", \"temp.pdb\").replace(\"docked\", \"docked4MD\")\n",
    "out_pdb = temp_pdb.replace(\"temp\", \"\")\n",
    "\n",
    "subprocess.run([\"obabel\", in_cif, \"-O\", temp_pdb])\n",
    "\n",
    "mutate_parent(temp_pdb, {\"75\": \"VAL\", \"100\": \"MET\", \"103\": \"MET\"}, out_pdb, regen=True)\n",
    "\n",
    "os.remove(temp_pdb)"
   ]
  },
  {
   "cell_type": "code",
   "execution_count": null,
   "metadata": {},
   "outputs": [],
   "source": []
  }
 ],
 "metadata": {
  "kernelspec": {
   "display_name": "REVIVAL",
   "language": "python",
   "name": "python3"
  },
  "language_info": {
   "codemirror_mode": {
    "name": "ipython",
    "version": 3
   },
   "file_extension": ".py",
   "mimetype": "text/x-python",
   "name": "python",
   "nbconvert_exporter": "python",
   "pygments_lexer": "ipython3",
   "version": "3.11.11"
  }
 },
 "nbformat": 4,
 "nbformat_minor": 2
}
