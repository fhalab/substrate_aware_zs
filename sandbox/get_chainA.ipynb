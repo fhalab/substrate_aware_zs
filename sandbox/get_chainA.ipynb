{
 "cells": [
  {
   "cell_type": "code",
   "execution_count": 2,
   "metadata": {},
   "outputs": [
    {
     "name": "stdout",
     "output_type": "stream",
     "text": [
      "/disk2/fli/REVIVAL2\n"
     ]
    }
   ],
   "source": [
    "%cd ~/REVIVAL2"
   ]
  },
  {
   "cell_type": "code",
   "execution_count": 3,
   "metadata": {},
   "outputs": [],
   "source": [
    "%load_ext autoreload\n",
    "%autoreload 2\n",
    "%load_ext blackcellmagic"
   ]
  },
  {
   "cell_type": "code",
   "execution_count": 6,
   "metadata": {},
   "outputs": [],
   "source": [
    "from REVIVAL.util import get_chain, pdb2seq"
   ]
  },
  {
   "cell_type": "code",
   "execution_count": null,
   "metadata": {},
   "outputs": [
    {
     "name": "stdout",
     "output_type": "stream",
     "text": [
      "Chain A has been saved to data/structure//PfTrpB.pdb\n"
     ]
    },
    {
     "name": "stderr",
     "output_type": "stream",
     "text": [
      "/disk2/fli/miniconda3/envs/REVIVAL/lib/python3.11/site-packages/Bio/PDB/StructureBuilder.py:89: PDBConstructionWarning: WARNING: Chain A is discontinuous at line 24750.\n",
      "  warnings.warn(\n",
      "/disk2/fli/miniconda3/envs/REVIVAL/lib/python3.11/site-packages/Bio/PDB/StructureBuilder.py:89: PDBConstructionWarning: WARNING: Chain B is discontinuous at line 24773.\n",
      "  warnings.warn(\n",
      "/disk2/fli/miniconda3/envs/REVIVAL/lib/python3.11/site-packages/Bio/PDB/StructureBuilder.py:89: PDBConstructionWarning: WARNING: Chain C is discontinuous at line 24796.\n",
      "  warnings.warn(\n",
      "/disk2/fli/miniconda3/envs/REVIVAL/lib/python3.11/site-packages/Bio/PDB/StructureBuilder.py:89: PDBConstructionWarning: WARNING: Chain D is discontinuous at line 24819.\n",
      "  warnings.warn(\n",
      "/disk2/fli/miniconda3/envs/REVIVAL/lib/python3.11/site-packages/Bio/PDB/StructureBuilder.py:89: PDBConstructionWarning: WARNING: Chain A is discontinuous at line 24842.\n",
      "  warnings.warn(\n",
      "/disk2/fli/miniconda3/envs/REVIVAL/lib/python3.11/site-packages/Bio/PDB/StructureBuilder.py:89: PDBConstructionWarning: WARNING: Chain B is discontinuous at line 24912.\n",
      "  warnings.warn(\n",
      "/disk2/fli/miniconda3/envs/REVIVAL/lib/python3.11/site-packages/Bio/PDB/StructureBuilder.py:89: PDBConstructionWarning: WARNING: Chain C is discontinuous at line 24958.\n",
      "  warnings.warn(\n",
      "/disk2/fli/miniconda3/envs/REVIVAL/lib/python3.11/site-packages/Bio/PDB/StructureBuilder.py:89: PDBConstructionWarning: WARNING: Chain D is discontinuous at line 25007.\n",
      "  warnings.warn(\n"
     ]
    }
   ],
   "source": [
    "get_chain(\n",
    "    input_file_path=\"data/unprocessed/5DW0.pdb\",\n",
    "    output_file_path=\"data/structure/5DW0.pdb\",\n",
    "    chain_id=\"A\",\n",
    ")"
   ]
  },
  {
   "cell_type": "code",
   "execution_count": 7,
   "metadata": {},
   "outputs": [
    {
     "name": "stderr",
     "output_type": "stream",
     "text": [
      "/disk2/fli/miniconda3/envs/REVIVAL/lib/python3.11/site-packages/Bio/SeqIO/PdbIO.py:322: BiopythonParserWarning: 'HEADER' line not found; can't determine PDB ID.\n",
      "  warnings.warn(\n"
     ]
    },
    {
     "data": {
      "text/plain": [
       "'MWFGEFGGQYVPETLIEPLKELEKAYKRFKDDEEFNRQLNYYLKTWAGRPTPLYYAKRLTEKIGGAKIYLKREDLVHGGAHKTNNAIGQALLAKFMGKTRLIAETGAGQHGVATAMAGALLGMKVDIYMGAEDVERQKMNVFRMKLLGANVIPVNSGSRTLKDAINEALRDWVATFEYTHYLIGSVVGPHPYPTIVRDFQSVIGREAKAQILEAEGQLPDVIVACVGGGSNAMGIFYPFVNDKKVKLVGVEAGGKGLESGKHSASLNAGQVGVFHGMLSYFLQDEEGQIKPTHSIAPGLDYPGVGPEHAYLKKIQRAEYVTVTDEEALKAFHELSRTEGIIPALESAHAVAYAMKLAKEMSRDEIIIVNLSGRGDKDLDIVLKVSGNV'"
      ]
     },
     "execution_count": 7,
     "metadata": {},
     "output_type": "execute_result"
    }
   ],
   "source": [
    "pdb2seq(pdb_file_path=\"data/structure/5DW0.pdb\", chain_id = \"A\")"
   ]
  },
  {
   "cell_type": "code",
   "execution_count": 4,
   "metadata": {},
   "outputs": [],
   "source": [
    "# make a filler lib csv\n",
    "import pandas as pd\n",
    "import numpy as np"
   ]
  },
  {
   "cell_type": "code",
   "execution_count": 11,
   "metadata": {},
   "outputs": [],
   "source": [
    "df = pd.read_csv(\"data/lib/PfTrpB-4bromo.csv\").copy()\n",
    "# replace all values in the fitness column with np.nan\n",
    "df[\"fitness\"] = np.nan\n",
    "df.to_csv(\"data/lib/5DW0.csv\", index=False)"
   ]
  },
  {
   "cell_type": "code",
   "execution_count": 5,
   "metadata": {},
   "outputs": [],
   "source": [
    "df = pd.read_csv(\"data/meta/scale2parent/PfTrpB-4bromo.csv\").copy()[[\"AAs\",\"fitness\",\"var\",\"n_mut\",\"AA1\",\"AA2\",\"AA3\",\"seq\"]]\n",
    "# replace all values in the fitness column with np.nan\n",
    "df[\"fitness\"] = np.nan\n",
    "df.to_csv(\"data/meta/scale2parent/5DW0.csv\", index=False)"
   ]
  },
  {
   "cell_type": "code",
   "execution_count": null,
   "metadata": {},
   "outputs": [],
   "source": []
  }
 ],
 "metadata": {
  "kernelspec": {
   "display_name": "REVIVAL",
   "language": "python",
   "name": "python3"
  },
  "language_info": {
   "codemirror_mode": {
    "name": "ipython",
    "version": 3
   },
   "file_extension": ".py",
   "mimetype": "text/x-python",
   "name": "python",
   "nbconvert_exporter": "python",
   "pygments_lexer": "ipython3",
   "version": "3.11.10"
  }
 },
 "nbformat": 4,
 "nbformat_minor": 2
}
