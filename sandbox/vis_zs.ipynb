{
 "cells": [
  {
   "cell_type": "code",
   "execution_count": 1,
   "metadata": {},
   "outputs": [
    {
     "name": "stdout",
     "output_type": "stream",
     "text": [
      "/disk2/fli/REVIVAL2\n"
     ]
    }
   ],
   "source": [
    "%cd ~/REVIVAL2"
   ]
  },
  {
   "cell_type": "code",
   "execution_count": 2,
   "metadata": {},
   "outputs": [],
   "source": [
    "%load_ext autoreload\n",
    "%autoreload 2\n",
    "%load_ext blackcellmagic"
   ]
  },
  {
   "cell_type": "code",
   "execution_count": 3,
   "metadata": {},
   "outputs": [
    {
     "name": "stderr",
     "output_type": "stream",
     "text": [
      "/disk2/fli/miniconda3/envs/SSMuLA/lib/python3.10/site-packages/Bio/pairwise2.py:278: BiopythonDeprecationWarning: Bio.pairwise2 has been deprecated, and we intend to remove it in a future release of Biopython. As an alternative, please consider using Bio.Align.PairwiseAligner as a replacement, and contact the Biopython developers if you still need the Bio.pairwise2 module.\n",
      "  warnings.warn(\n"
     ]
    }
   ],
   "source": [
    "import os\n",
    "from glob import glob\n",
    "import pandas as pd\n",
    "from scipy.stats import spearmanr\n",
    "\n",
    "from REVIVAL.util import get_file_name"
   ]
  },
  {
   "cell_type": "code",
   "execution_count": 5,
   "metadata": {},
   "outputs": [
    {
     "name": "stdout",
     "output_type": "stream",
     "text": [
      "PfTrpB-5iodo SignificanceResult(statistic=0.4192957740759612, pvalue=1.114358220047682e-11)\n",
      "PfTrpB-5iodo SignificanceResult(statistic=0.47793606097877445, pvalue=3.705607379642607e-15)\n",
      "PfTrpB-5iodo SignificanceResult(statistic=0.4656249926325063, pvalue=2.266271569460718e-14)\n",
      "PfTrpB-5bromo SignificanceResult(statistic=0.4874231178194408, pvalue=8.727812239020672e-16)\n",
      "PfTrpB-5bromo SignificanceResult(statistic=0.5205970996328189, pvalue=3.8502203886532475e-18)\n",
      "PfTrpB-5bromo SignificanceResult(statistic=0.5047066327516625, pvalue=5.567879530086214e-17)\n",
      "PfTrpB-5cyano SignificanceResult(statistic=0.3964760183004303, pvalue=1.6958517224931858e-10)\n",
      "PfTrpB-5cyano SignificanceResult(statistic=0.4229672533240057, pvalue=7.052019412281449e-12)\n",
      "PfTrpB-5cyano SignificanceResult(statistic=0.44616416025010114, pvalue=3.4344573690520244e-13)\n",
      "PfTrpB-56chloro SignificanceResult(statistic=0.38833729161751324, pvalue=4.2637858802096827e-10)\n",
      "PfTrpB-56chloro SignificanceResult(statistic=0.45812831109402596, pvalue=6.591410791956196e-14)\n",
      "PfTrpB-56chloro SignificanceResult(statistic=0.44168576325053377, pvalue=6.267188204325535e-13)\n",
      "PfTrpB-6chloro SignificanceResult(statistic=0.5696941067963819, pvalue=3.883775902172728e-22)\n",
      "PfTrpB-6chloro SignificanceResult(statistic=0.6121651856279838, pvalue=3.5578924222393194e-26)\n",
      "PfTrpB-6chloro SignificanceResult(statistic=0.599645202420456, pvalue=6.371619804303637e-25)\n",
      "PfTrpB-4cyano SignificanceResult(statistic=0.329215450388965, pvalue=1.6880610951299715e-07)\n",
      "PfTrpB-4cyano SignificanceResult(statistic=0.35177435263469525, pvalue=1.987988995771122e-08)\n",
      "PfTrpB-4cyano SignificanceResult(statistic=0.37278042591131993, pvalue=2.318860436601153e-09)\n",
      "PfTrpB-4bromo SignificanceResult(statistic=0.47459418030470923, pvalue=6.102035218879472e-15)\n",
      "PfTrpB-4bromo SignificanceResult(statistic=0.47773596244817507, pvalue=3.8185280843073625e-15)\n",
      "PfTrpB-4bromo SignificanceResult(statistic=0.5233935343800526, pvalue=2.371179086038674e-18)\n",
      "PfTrpB-7iodo SignificanceResult(statistic=0.49319518884865315, pvalue=3.5418411179619794e-16)\n",
      "PfTrpB-7iodo SignificanceResult(statistic=0.5479161567455624, pvalue=2.773035788898929e-20)\n",
      "PfTrpB-7iodo SignificanceResult(statistic=0.5685363743841245, pvalue=4.912109438487777e-22)\n",
      "PfTrpB-7methyl SignificanceResult(statistic=0.49836221295518723, pvalue=1.5570094542580362e-16)\n",
      "PfTrpB-7methyl SignificanceResult(statistic=0.5607744765159789, pvalue=2.3172209914525897e-21)\n",
      "PfTrpB-7methyl SignificanceResult(statistic=0.5309034326669182, pvalue=6.308055277103714e-19)\n",
      "PfTrpB-7bromo SignificanceResult(statistic=0.5393365652555635, pvalue=2.079363048868838e-06)\n",
      "PfTrpB-7bromo SignificanceResult(statistic=0.6100375046800733, pvalue=3.3443697622384944e-08)\n",
      "PfTrpB-7bromo SignificanceResult(statistic=0.5160132839638126, pvalue=6.674666530429309e-06)\n",
      "PfTrpB-5chloro SignificanceResult(statistic=0.5210587974587646, pvalue=3.555180054666406e-18)\n",
      "PfTrpB-5chloro SignificanceResult(statistic=0.5800726441604357, pvalue=4.534623215469755e-23)\n",
      "PfTrpB-5chloro SignificanceResult(statistic=0.5517434569595342, pvalue=1.339487018653191e-20)\n"
     ]
    }
   ],
   "source": [
    "# loop all datasets to get spearmanr between esm_score and fitness\n",
    "datasets = glob(\"/disk2/fli/REVIVAL2/zs/comb/*.csv\")\n",
    "# get substrate name \n",
    "for d in datasets:\n",
    "    substrate = get_file_name(d).split(\"_\")[-1]\n",
    "    df = pd.read_csv(d)\n",
    "    print(substrate, spearmanr(df[\"ev_score\"], df[\"fitness\"]))\n",
    "    print(substrate, spearmanr(df[\"esm_score\"], df[\"fitness\"]))\n",
    "    print(substrate, spearmanr(df[\"esmif_score\"], df[\"fitness\"]))"
   ]
  },
  {
   "cell_type": "code",
   "execution_count": null,
   "metadata": {},
   "outputs": [],
   "source": []
  }
 ],
 "metadata": {
  "kernelspec": {
   "display_name": "SSMuLA",
   "language": "python",
   "name": "python3"
  },
  "language_info": {
   "codemirror_mode": {
    "name": "ipython",
    "version": 3
   },
   "file_extension": ".py",
   "mimetype": "text/x-python",
   "name": "python",
   "nbconvert_exporter": "python",
   "pygments_lexer": "ipython3",
   "version": "3.10.14"
  }
 },
 "nbformat": 4,
 "nbformat_minor": 2
}
