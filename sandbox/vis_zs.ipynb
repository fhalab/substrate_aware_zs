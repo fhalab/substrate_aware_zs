{
 "cells": [
  {
   "cell_type": "code",
   "execution_count": 5,
   "metadata": {},
   "outputs": [
    {
     "name": "stdout",
     "output_type": "stream",
     "text": [
      "/disk2/fli/REVIVAL2\n"
     ]
    }
   ],
   "source": [
    "%cd ~/REVIVAL2"
   ]
  },
  {
   "cell_type": "code",
   "execution_count": 6,
   "metadata": {},
   "outputs": [
    {
     "name": "stdout",
     "output_type": "stream",
     "text": [
      "The autoreload extension is already loaded. To reload it, use:\n",
      "  %reload_ext autoreload\n",
      "The blackcellmagic extension is already loaded. To reload it, use:\n",
      "  %reload_ext blackcellmagic\n"
     ]
    }
   ],
   "source": [
    "%load_ext autoreload\n",
    "%autoreload 2\n",
    "%load_ext blackcellmagic"
   ]
  },
  {
   "cell_type": "code",
   "execution_count": 7,
   "metadata": {},
   "outputs": [],
   "source": [
    "import os\n",
    "from glob import glob\n",
    "import pandas as pd\n",
    "from scipy.stats import spearmanr\n",
    "\n",
    "from REVIVAL.util import get_file_name"
   ]
  },
  {
   "cell_type": "code",
   "execution_count": 8,
   "metadata": {},
   "outputs": [
    {
     "name": "stdout",
     "output_type": "stream",
     "text": [
      "PfTrpB-5iodo SignificanceResult(statistic=0.4734223843778614, pvalue=8.257736420374843e-15)\n",
      "PfTrpB-5bromo SignificanceResult(statistic=0.5150407505347869, pvalue=1.1638452752075542e-17)\n",
      "PfTrpB-5cyano SignificanceResult(statistic=0.41576443325694556, pvalue=1.8966185813184763e-11)\n",
      "PfTrpB-56chloro SignificanceResult(statistic=0.4514649250258394, pvalue=1.8709842952330286e-13)\n",
      "PfTrpB-6chloro SignificanceResult(statistic=0.6080199343825128, pvalue=1.1839640655770257e-25)\n",
      "PfTrpB-4cyano SignificanceResult(statistic=0.3436826906028594, pvalue=4.659044370164144e-08)\n",
      "PfTrpB-4bromo SignificanceResult(statistic=0.4716164407584037, pvalue=1.0765174616299244e-14)\n",
      "PfTrpB-7iodo SignificanceResult(statistic=0.5428359681115059, pvalue=8.568854643975493e-20)\n",
      "PfTrpB-7methyl SignificanceResult(statistic=0.5572072772980731, pvalue=5.6276759757045185e-21)\n",
      "PfTrpB-7bromo SignificanceResult(statistic=0.5961369622475857, pvalue=1.0227836660801748e-07)\n",
      "PfTrpB-5chloro SignificanceResult(statistic=0.5749724712983173, pvalue=1.6109090222572265e-22)\n"
     ]
    }
   ],
   "source": [
    "# loop all datasets to get spearmanr between esm_score and fitness\n",
    "datasets = glob(\"/disk2/fli/REVIVAL2/zs/comb/*.csv\")\n",
    "# get substrate name \n",
    "for d in datasets:\n",
    "    substrate = get_file_name(d).split(\"_\")[-1]\n",
    "    df = pd.read_csv(d)\n",
    "    spearmanr(df[\"esm_score\"], df[\"fitness\"])\n",
    "    print(substrate, spearmanr(df[\"esm_score\"], df[\"fitness\"]))"
   ]
  },
  {
   "cell_type": "code",
   "execution_count": null,
   "metadata": {},
   "outputs": [],
   "source": []
  }
 ],
 "metadata": {
  "kernelspec": {
   "display_name": "SSMuLA",
   "language": "python",
   "name": "python3"
  },
  "language_info": {
   "codemirror_mode": {
    "name": "ipython",
    "version": 3
   },
   "file_extension": ".py",
   "mimetype": "text/x-python",
   "name": "python",
   "nbconvert_exporter": "python",
   "pygments_lexer": "ipython3",
   "version": "3.10.14"
  }
 },
 "nbformat": 4,
 "nbformat_minor": 2
}
