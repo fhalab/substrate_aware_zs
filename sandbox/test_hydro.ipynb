{
 "cells": [
  {
   "cell_type": "code",
   "execution_count": 1,
   "metadata": {},
   "outputs": [
    {
     "name": "stdout",
     "output_type": "stream",
     "text": [
      "/disk2/fli/REVIVAL2\n"
     ]
    }
   ],
   "source": [
    "%cd ~/REVIVAL2"
   ]
  },
  {
   "cell_type": "code",
   "execution_count": 6,
   "metadata": {},
   "outputs": [],
   "source": [
    "from REVIVAL.util import calculate_chain_centroid, get_protein_structure\n",
    "\n",
    "import numpy as np"
   ]
  },
  {
   "cell_type": "code",
   "execution_count": 24,
   "metadata": {},
   "outputs": [],
   "source": [
    "def get_ligand_centroid(pdb_file, ligand_info):\n",
    "    \"\"\"\n",
    "    Calculates the centroid of a given list of atoms specified by chain, residue, and atom names.\n",
    "\n",
    "    Args:\n",
    "        pdb_file (str): Path to the PDB file.\n",
    "        ligand_info (list of tuples): List of atoms specified as (chain_id, residue_name, atom_name).\n",
    "\n",
    "    Returns:\n",
    "        tuple: Centroid coordinates as (x, y, z).\n",
    "    \"\"\"\n",
    "\n",
    "    structure = get_protein_structure(pdb_file)\n",
    "\n",
    "    atom_coords = []\n",
    "\n",
    "    for chain_id, residue_name, atom_name in ligand_info:\n",
    "        for model in structure:\n",
    "            try:\n",
    "                chain = model[chain_id]\n",
    "                for residue in chain:\n",
    "                    # Match residue name (flexible: partial match, case insensitive)\n",
    "                    if residue_name.lower() in residue.resname.lower():\n",
    "                        # Match atom name (flexible: ignore underscores and case differences)\n",
    "                        for atom in residue:\n",
    "                            if atom_name.replace(\"_\", \"\").lower() == atom.name.replace(\"_\", \"\").lower():\n",
    "                                atom_coords.append(atom.coord)\n",
    "            except KeyError:\n",
    "                print(f\"Chain {chain_id} not found in the structure.\")\n",
    "                continue\n",
    "\n",
    "    if not atom_coords:\n",
    "        raise ValueError(\"No matching atoms found in the structure.\")\n",
    "\n",
    "    # Calculate centroid\n",
    "    return np.mean(atom_coords, axis=0)"
   ]
  },
  {
   "cell_type": "code",
   "execution_count": 34,
   "metadata": {},
   "outputs": [],
   "source": [
    "def extract_active_site_by_radius(pdb_file, target_coord, target_chain=\"A\", distance_threshold=10.0):\n",
    "    \"\"\"\n",
    "    Extracts a list of amino acids in the specified chain whose centroids (side chain or CA for glycine)\n",
    "    are within a given distance from a specified (x, y, z) coordinate.\n",
    "\n",
    "    Args:\n",
    "        pdb_file (str): Path to the PDB file.\n",
    "        target_coord (tuple): Target (x, y, z) coordinate.\n",
    "        target_chain (str): Chain ID to search within (default is \"A\").\n",
    "        distance_threshold (float): Distance threshold in Ångströms.\n",
    "\n",
    "    Returns:\n",
    "        list: A list of tuples containing residue information\n",
    "              (e.g., [(\"GLY\", 12), (\"ALA\", 25)]).\n",
    "    \"\"\"\n",
    "    structure = get_protein_structure(pdb_file)\n",
    "\n",
    "    nearby_residues = []\n",
    "\n",
    "    # Iterate through all residues in the specified chain\n",
    "    for model in structure:\n",
    "        chain = model[target_chain]  # Access the specified chain\n",
    "        for residue in chain:\n",
    "            # Exclude backbone atoms (N, CA, C, O) and calculate centroid of side chain atoms\n",
    "            side_chain_atoms = [atom for atom in residue if atom.name not in {\"N\", \"CA\", \"C\", \"O\"}]\n",
    "\n",
    "            if not side_chain_atoms:\n",
    "                # Use the alpha carbon (CA) as the centroid for glycine\n",
    "                if residue.resname == \"GLY\" and \"CA\" in residue:\n",
    "                    ca_atom = residue[\"CA\"]\n",
    "                    centroid = np.array(ca_atom.coord)\n",
    "                else:\n",
    "                    # Skip residues with no side chains or CA\n",
    "                    continue\n",
    "            else:\n",
    "                # Calculate the centroid of the side chain\n",
    "                side_chain_coords = np.array([atom.coord for atom in side_chain_atoms])\n",
    "                centroid = np.mean(side_chain_coords, axis=0)\n",
    "\n",
    "            # Calculate distance between target coordinate and residue centroid\n",
    "            distance = np.linalg.norm(centroid - target_coord)\n",
    "            if distance <= distance_threshold:\n",
    "                residue_info = (residue.resname, residue.id[1])\n",
    "                nearby_residues.append(residue_info)\n",
    "\n",
    "    return nearby_residues\n"
   ]
  },
  {
   "cell_type": "code",
   "execution_count": 31,
   "metadata": {},
   "outputs": [],
   "source": [
    "from REVIVAL.global_param import LIB_INFO_DICT"
   ]
  },
  {
   "cell_type": "code",
   "execution_count": 22,
   "metadata": {},
   "outputs": [
    {
     "data": {
      "text/plain": [
       "[('B', 'LIG', 'C1'),\n",
       " ('B', 'LIG', 'C2'),\n",
       " ('B', 'LIG', 'C3'),\n",
       " ('B', 'LIG', 'C4'),\n",
       " ('B', 'LIG', 'C5'),\n",
       " ('B', 'LIG', 'C6'),\n",
       " ('B', 'LIG', 'C7'),\n",
       " ('B', 'LIG', 'C8'),\n",
       " ('B', 'LIG', 'N1'),\n",
       " ('B', 'LIG', 'BR1')]"
      ]
     },
     "execution_count": 22,
     "metadata": {},
     "output_type": "execute_result"
    }
   ],
   "source": [
    "LIB_INFO_DICT[\"PfTrpB-4bromo\"][\"4bromo-info\"]"
   ]
  },
  {
   "cell_type": "code",
   "execution_count": 25,
   "metadata": {},
   "outputs": [],
   "source": [
    "pdb_file = \"/disk2/fli/REVIVAL2/zs/af3/struct_joint/PfTrpB-4bromo/i165a_i183a_y301v/seed-1_sample-0/model.cif\""
   ]
  },
  {
   "cell_type": "code",
   "execution_count": 26,
   "metadata": {},
   "outputs": [
    {
     "data": {
      "text/plain": [
       "array([-1.9962   , -0.4137   , -6.8669004], dtype=float32)"
      ]
     },
     "execution_count": 26,
     "metadata": {},
     "output_type": "execute_result"
    }
   ],
   "source": [
    "get_ligand_centroid(pdb_file, LIB_INFO_DICT[\"PfTrpB-4bromo\"][\"4bromo-info\"])"
   ]
  },
  {
   "cell_type": "code",
   "execution_count": 35,
   "metadata": {},
   "outputs": [
    {
     "data": {
      "text/plain": [
       "[('LYS', 82),\n",
       " ('ASN', 85),\n",
       " ('ALA', 103),\n",
       " ('GLU', 104),\n",
       " ('THR', 105),\n",
       " ('GLY', 106),\n",
       " ('ALA', 107),\n",
       " ('HIS', 110),\n",
       " ('ASP', 133),\n",
       " ('THR', 160),\n",
       " ('LEU', 161),\n",
       " ('LYS', 162),\n",
       " ('ASP', 163),\n",
       " ('ALA', 164),\n",
       " ('ALA', 165),\n",
       " ('ASP', 166),\n",
       " ('ALA', 168),\n",
       " ('LEU', 169),\n",
       " ('TYR', 181),\n",
       " ('ALA', 183),\n",
       " ('GLY', 184),\n",
       " ('SER', 185),\n",
       " ('VAL', 186),\n",
       " ('VAL', 187),\n",
       " ('GLY', 188),\n",
       " ('PRO', 189),\n",
       " ('TYR', 192),\n",
       " ('PRO', 193),\n",
       " ('VAL', 196),\n",
       " ('VAL', 226),\n",
       " ('GLY', 227),\n",
       " ('GLY', 228),\n",
       " ('GLY', 229),\n",
       " ('SER', 230),\n",
       " ('SER', 263),\n",
       " ('SER', 265),\n",
       " ('SER', 274),\n",
       " ('HIS', 275),\n",
       " ('GLY', 276),\n",
       " ('MET', 277),\n",
       " ('SER', 279),\n",
       " ('PHE', 281),\n",
       " ('ILE', 289),\n",
       " ('SER', 292),\n",
       " ('GLY', 298),\n",
       " ('LEU', 299),\n",
       " ('ASP', 300),\n",
       " ('VAL', 301),\n",
       " ('PRO', 302),\n",
       " ('GLY', 303),\n",
       " ('VAL', 304),\n",
       " ('GLY', 305),\n",
       " ('PRO', 306),\n",
       " ('HIS', 308)]"
      ]
     },
     "execution_count": 35,
     "metadata": {},
     "output_type": "execute_result"
    }
   ],
   "source": [
    "\n",
    "extract_active_site_by_radius(pdb_file, get_ligand_centroid(pdb_file, LIB_INFO_DICT[\"PfTrpB-4bromo\"][\"4bromo-info\"]), target_chain = \"A\", distance_threshold=12.0)"
   ]
  },
  {
   "cell_type": "code",
   "execution_count": 11,
   "metadata": {},
   "outputs": [
    {
     "data": {
      "text/plain": [
       "array([-3.4316127 , -0.73019344, -1.117032  ], dtype=float32)"
      ]
     },
     "execution_count": 11,
     "metadata": {},
     "output_type": "execute_result"
    }
   ],
   "source": [
    "calculate_chain_centroid(pdb_file, chain_ids = [\"B\"])"
   ]
  },
  {
   "cell_type": "code",
   "execution_count": null,
   "metadata": {},
   "outputs": [],
   "source": []
  }
 ],
 "metadata": {
  "kernelspec": {
   "display_name": "REVIVAL",
   "language": "python",
   "name": "python3"
  },
  "language_info": {
   "codemirror_mode": {
    "name": "ipython",
    "version": 3
   },
   "file_extension": ".py",
   "mimetype": "text/x-python",
   "name": "python",
   "nbconvert_exporter": "python",
   "pygments_lexer": "ipython3",
   "version": "3.11.11"
  }
 },
 "nbformat": 4,
 "nbformat_minor": 2
}
