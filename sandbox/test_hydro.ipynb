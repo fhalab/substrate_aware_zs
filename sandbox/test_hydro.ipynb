{
 "cells": [
  {
   "cell_type": "code",
   "execution_count": 4,
   "metadata": {},
   "outputs": [
    {
     "name": "stdout",
     "output_type": "stream",
     "text": [
      "/disk2/fli/REVIVAL2\n"
     ]
    }
   ],
   "source": [
    "%cd ~/REVIVAL2"
   ]
  },
  {
   "cell_type": "code",
   "execution_count": 6,
   "metadata": {},
   "outputs": [],
   "source": [
    "from REVIVAL.util import calculate_chain_centroid, get_protein_structure\n",
    "\n",
    "import numpy as np"
   ]
  },
  {
   "cell_type": "code",
   "execution_count": 24,
   "metadata": {},
   "outputs": [],
   "source": [
    "def get_ligand_centroid(pdb_file, ligand_info):\n",
    "    \"\"\"\n",
    "    Calculates the centroid of a given list of atoms specified by chain, residue, and atom names.\n",
    "\n",
    "    Args:\n",
    "        pdb_file (str): Path to the PDB file.\n",
    "        ligand_info (list of tuples): List of atoms specified as (chain_id, residue_name, atom_name).\n",
    "\n",
    "    Returns:\n",
    "        tuple: Centroid coordinates as (x, y, z).\n",
    "    \"\"\"\n",
    "\n",
    "    structure = get_protein_structure(pdb_file)\n",
    "\n",
    "    atom_coords = []\n",
    "\n",
    "    for chain_id, residue_name, atom_name in ligand_info:\n",
    "        for model in structure:\n",
    "            try:\n",
    "                chain = model[chain_id]\n",
    "                for residue in chain:\n",
    "                    # Match residue name (flexible: partial match, case insensitive)\n",
    "                    if residue_name.lower() in residue.resname.lower():\n",
    "                        # Match atom name (flexible: ignore underscores and case differences)\n",
    "                        for atom in residue:\n",
    "                            if atom_name.replace(\"_\", \"\").lower() == atom.name.replace(\"_\", \"\").lower():\n",
    "                                atom_coords.append(atom.coord)\n",
    "            except KeyError:\n",
    "                print(f\"Chain {chain_id} not found in the structure.\")\n",
    "                continue\n",
    "\n",
    "    if not atom_coords:\n",
    "        raise ValueError(\"No matching atoms found in the structure.\")\n",
    "\n",
    "    # Calculate centroid\n",
    "    return np.mean(atom_coords, axis=0)"
   ]
  },
  {
   "cell_type": "code",
   "execution_count": 34,
   "metadata": {},
   "outputs": [],
   "source": [
    "def extract_active_site_by_radius(pdb_file, target_coord, target_chain=\"A\", distance_threshold=10.0):\n",
    "    \"\"\"\n",
    "    Extracts a list of amino acids in the specified chain whose centroids (side chain or CA for glycine)\n",
    "    are within a given distance from a specified (x, y, z) coordinate.\n",
    "\n",
    "    Args:\n",
    "        pdb_file (str): Path to the PDB file.\n",
    "        target_coord (tuple): Target (x, y, z) coordinate.\n",
    "        target_chain (str): Chain ID to search within (default is \"A\").\n",
    "        distance_threshold (float): Distance threshold in Ångströms.\n",
    "\n",
    "    Returns:\n",
    "        list: A list of tuples containing residue information\n",
    "              (e.g., [(\"GLY\", 12), (\"ALA\", 25)]).\n",
    "    \"\"\"\n",
    "    structure = get_protein_structure(pdb_file)\n",
    "\n",
    "    nearby_residues = []\n",
    "\n",
    "    # Iterate through all residues in the specified chain\n",
    "    for model in structure:\n",
    "        chain = model[target_chain]  # Access the specified chain\n",
    "        for residue in chain:\n",
    "            # Exclude backbone atoms (N, CA, C, O) and calculate centroid of side chain atoms\n",
    "            side_chain_atoms = [atom for atom in residue if atom.name not in {\"N\", \"CA\", \"C\", \"O\"}]\n",
    "\n",
    "            if not side_chain_atoms:\n",
    "                # Use the alpha carbon (CA) as the centroid for glycine\n",
    "                if residue.resname == \"GLY\" and \"CA\" in residue:\n",
    "                    ca_atom = residue[\"CA\"]\n",
    "                    centroid = np.array(ca_atom.coord)\n",
    "                else:\n",
    "                    # Skip residues with no side chains or CA\n",
    "                    continue\n",
    "            else:\n",
    "                # Calculate the centroid of the side chain\n",
    "                side_chain_coords = np.array([atom.coord for atom in side_chain_atoms])\n",
    "                centroid = np.mean(side_chain_coords, axis=0)\n",
    "\n",
    "            # Calculate distance between target coordinate and residue centroid\n",
    "            distance = np.linalg.norm(centroid - target_coord)\n",
    "            if distance <= distance_threshold:\n",
    "                residue_info = (residue.resname, residue.id[1])\n",
    "                nearby_residues.append(residue_info)\n",
    "\n",
    "    return nearby_residues\n"
   ]
  },
  {
   "cell_type": "code",
   "execution_count": 31,
   "metadata": {},
   "outputs": [],
   "source": [
    "from REVIVAL.global_param import LIB_INFO_DICT"
   ]
  },
  {
   "cell_type": "code",
   "execution_count": 22,
   "metadata": {},
   "outputs": [
    {
     "data": {
      "text/plain": [
       "[('B', 'LIG', 'C1'),\n",
       " ('B', 'LIG', 'C2'),\n",
       " ('B', 'LIG', 'C3'),\n",
       " ('B', 'LIG', 'C4'),\n",
       " ('B', 'LIG', 'C5'),\n",
       " ('B', 'LIG', 'C6'),\n",
       " ('B', 'LIG', 'C7'),\n",
       " ('B', 'LIG', 'C8'),\n",
       " ('B', 'LIG', 'N1'),\n",
       " ('B', 'LIG', 'BR1')]"
      ]
     },
     "execution_count": 22,
     "metadata": {},
     "output_type": "execute_result"
    }
   ],
   "source": [
    "LIB_INFO_DICT[\"PfTrpB-4bromo\"][\"4bromo-info\"]"
   ]
  },
  {
   "cell_type": "code",
   "execution_count": 25,
   "metadata": {},
   "outputs": [],
   "source": [
    "pdb_file = \"/disk2/fli/REVIVAL2/zs/af3/struct_joint/PfTrpB-4bromo/i165a_i183a_y301v/seed-1_sample-0/model.cif\""
   ]
  },
  {
   "cell_type": "code",
   "execution_count": 26,
   "metadata": {},
   "outputs": [
    {
     "data": {
      "text/plain": [
       "array([-1.9962   , -0.4137   , -6.8669004], dtype=float32)"
      ]
     },
     "execution_count": 26,
     "metadata": {},
     "output_type": "execute_result"
    }
   ],
   "source": [
    "get_ligand_centroid(pdb_file, LIB_INFO_DICT[\"PfTrpB-4bromo\"][\"4bromo-info\"])"
   ]
  },
  {
   "cell_type": "code",
   "execution_count": 35,
   "metadata": {},
   "outputs": [
    {
     "data": {
      "text/plain": [
       "[('LYS', 82),\n",
       " ('ASN', 85),\n",
       " ('ALA', 103),\n",
       " ('GLU', 104),\n",
       " ('THR', 105),\n",
       " ('GLY', 106),\n",
       " ('ALA', 107),\n",
       " ('HIS', 110),\n",
       " ('ASP', 133),\n",
       " ('THR', 160),\n",
       " ('LEU', 161),\n",
       " ('LYS', 162),\n",
       " ('ASP', 163),\n",
       " ('ALA', 164),\n",
       " ('ALA', 165),\n",
       " ('ASP', 166),\n",
       " ('ALA', 168),\n",
       " ('LEU', 169),\n",
       " ('TYR', 181),\n",
       " ('ALA', 183),\n",
       " ('GLY', 184),\n",
       " ('SER', 185),\n",
       " ('VAL', 186),\n",
       " ('VAL', 187),\n",
       " ('GLY', 188),\n",
       " ('PRO', 189),\n",
       " ('TYR', 192),\n",
       " ('PRO', 193),\n",
       " ('VAL', 196),\n",
       " ('VAL', 226),\n",
       " ('GLY', 227),\n",
       " ('GLY', 228),\n",
       " ('GLY', 229),\n",
       " ('SER', 230),\n",
       " ('SER', 263),\n",
       " ('SER', 265),\n",
       " ('SER', 274),\n",
       " ('HIS', 275),\n",
       " ('GLY', 276),\n",
       " ('MET', 277),\n",
       " ('SER', 279),\n",
       " ('PHE', 281),\n",
       " ('ILE', 289),\n",
       " ('SER', 292),\n",
       " ('GLY', 298),\n",
       " ('LEU', 299),\n",
       " ('ASP', 300),\n",
       " ('VAL', 301),\n",
       " ('PRO', 302),\n",
       " ('GLY', 303),\n",
       " ('VAL', 304),\n",
       " ('GLY', 305),\n",
       " ('PRO', 306),\n",
       " ('HIS', 308)]"
      ]
     },
     "execution_count": 35,
     "metadata": {},
     "output_type": "execute_result"
    }
   ],
   "source": [
    "\n",
    "extract_active_site_by_radius(pdb_file, get_ligand_centroid(pdb_file, LIB_INFO_DICT[\"PfTrpB-4bromo\"][\"4bromo-info\"]), target_chain = \"A\", distance_threshold=12.0)"
   ]
  },
  {
   "cell_type": "code",
   "execution_count": 11,
   "metadata": {},
   "outputs": [
    {
     "data": {
      "text/plain": [
       "array([-3.4316127 , -0.73019344, -1.117032  ], dtype=float32)"
      ]
     },
     "execution_count": 11,
     "metadata": {},
     "output_type": "execute_result"
    }
   ],
   "source": [
    "calculate_chain_centroid(pdb_file, chain_ids = [\"B\"])"
   ]
  },
  {
   "cell_type": "code",
   "execution_count": 26,
   "metadata": {},
   "outputs": [],
   "source": [
    "import os\n",
    "import freesasa\n",
    "from MDAnalysis import Universe\n",
    "import MDAnalysis as mda\n",
    "from rdkit import Chem\n",
    "from rdkit.Chem import AllChem\n",
    "\n",
    "def write_ligand_from_smiles(smiles, output_file):\n",
    "    \"\"\"\n",
    "    Generate a PDB file for a ligand from a SMILES string.\n",
    "\n",
    "    Args:\n",
    "        smiles (str): SMILES string of the ligand.\n",
    "        output_file (str): Path to save the generated PDB file.\n",
    "    \"\"\"\n",
    "    mol = Chem.MolFromSmiles(smiles)\n",
    "    mol = Chem.AddHs(mol)  # Add hydrogens\n",
    "    AllChem.EmbedMolecule(mol, AllChem.ETKDG())  # Generate 3D coordinates\n",
    "    Chem.MolToPDBFile(mol, output_file)\n",
    "\n",
    "def calculate_sasa_from_inputs(pdb_file, active_site_residues, ligand_smiles=None):\n",
    "    \"\"\"\n",
    "    Calculate SASA for active site residues and a ligand (from SMILES).\n",
    "\n",
    "    Args:\n",
    "        pdb_file (str): Path to the PDB file containing the protein.\n",
    "        active_site_residues (list of tuple): List of active site residues as (resname, resid).\n",
    "        ligand_smiles (str, optional): SMILES string for the ligand.\n",
    "\n",
    "    Returns:\n",
    "        dict: SASA values for the active site and the ligand (if provided).\n",
    "    \"\"\"\n",
    "    # Load the PDB file\n",
    "    u = Universe(pdb_file)\n",
    "    \n",
    "    # Select active site residues\n",
    "    selection_query = \" or \".join(\n",
    "        [f\"(resname {resname} and resid {resid} and segid A)\" for resname, resid in active_site_residues]\n",
    "    )\n",
    "    active_site = u.select_atoms(selection_query)\n",
    "    \n",
    "    if len(active_site) == 0:\n",
    "        raise ValueError(\"No atoms found for the specified active site residues.\")\n",
    "\n",
    "    # Write the active site to a temporary PDB file\n",
    "    active_site_file = \"active_site.pdb\"\n",
    "    with mda.Writer(active_site_file, multiframe=False) as writer:\n",
    "        writer.write(active_site)\n",
    "\n",
    "    # Calculate SASA for the active site\n",
    "    active_site_structure = freesasa.Structure(active_site_file)\n",
    "    active_site_sasa = freesasa.calc(active_site_structure).totalArea()\n",
    "\n",
    "    results = {\"active_site_sasa\": active_site_sasa}\n",
    "\n",
    "    # # If a ligand SMILES string is provided, generate the ligand PDB and calculate SASA\n",
    "    # if ligand_smiles:\n",
    "    #     ligand_file = \"ligand.pdb\"\n",
    "    #     write_ligand_from_smiles(ligand_smiles, ligand_file)\n",
    "    #     ligand_structure = freesasa.Structure(ligand_file)\n",
    "    #     ligand_sasa = freesasa.calc(ligand_structure).totalArea()\n",
    "    #     results[\"ligand_sasa\"] = ligand_sasa\n",
    "\n",
    "    #     # Clean up temporary ligand file\n",
    "    #     os.remove(ligand_file)\n",
    "\n",
    "    # Clean up temporary active site file\n",
    "    os.remove(active_site_file)\n",
    "\n",
    "    return results\n"
   ]
  },
  {
   "cell_type": "code",
   "execution_count": 5,
   "metadata": {},
   "outputs": [
    {
     "name": "stderr",
     "output_type": "stream",
     "text": [
      "/disk2/fli/miniconda3/envs/REVIVAL/lib/python3.11/site-packages/Bio/pairwise2.py:278: BiopythonDeprecationWarning: Bio.pairwise2 has been deprecated, and we intend to remove it in a future release of Biopython. As an alternative, please consider using Bio.Align.PairwiseAligner as a replacement, and contact the Biopython developers if you still need the Bio.pairwise2 module.\n",
      "  warnings.warn(\n"
     ]
    }
   ],
   "source": [
    "from REVIVAL.zs.plip import get_plip_active_site_list"
   ]
  },
  {
   "cell_type": "code",
   "execution_count": 24,
   "metadata": {},
   "outputs": [
    {
     "name": "stdout",
     "output_type": "stream",
     "text": [
      "[('LYS', 37), ('ALA', 23), ('MET', 12), ('LEU', 26), ('GLY', 37), ('GLY', 22), ('HIS', 11), ('GLN', 13), ('VAL', 11), ('ALA', 11), ('PRO', 30), ('GLU', 25), ('GLN', 20), ('GLN', 10), ('SER', 26), ('HIS', 27), ('GLY', 11), ('GLY', 7), ('HIS', 26), ('GLY', 18), ('ASN', 23), ('TYR', 12), ('GLY', 22), ('GLY', 30), ('LYS', 8), ('SER', 34), ('SER', 26), ('ASP', 16), ('ASN', 14), ('SER', 27), ('MET', 23), ('LEU', 28), ('GLY', 22), ('GLU', 34), ('LEU', 34), ('ALA', 8), ('ASN', 36), ('VAL', 19), ('ALA', 34), ('GLY', 18), ('VAL', 30), ('CYS', 22), ('MET', 27), ('SER', 18), ('GLU', 10), ('ASP', 37), ('TYR', 18), ('GLU', 7), ('GLY', 10), ('SER', 23), ('LEU', 37), ('ALA', 25), ('GLY', 29), ('VAL', 18), ('GLY', 30), ('THR', 10), ('HIS', 30), ('ASP', 13), ('GLY', 10), ('ASP', 30), ('VAL', 18), ('VAL', 22), ('ALA', 16), ('ALA', 16), ('ALA', 18), ('ARG', 37), ('LEU', 29), ('ALA', 26), ('ALA', 10), ('PHE', 28), ('LEU', 16), ('HIS', 8), ('PRO', 29), ('VAL', 30), ('SER', 37), ('LYS', 16), ('SER', 29)]\n"
     ]
    }
   ],
   "source": [
    "\n",
    "# Example usage\n",
    "file_path = \"/disk2/fli/REVIVAL2/zs/plip/af3/struct_joint/PfTrpB-4bromo/I165A:I183A:Y301V_0/report.xml\"  # Replace with the path to your XML file\n",
    "result = get_plip_active_site_list(file_path)\n",
    "print(result)\n"
   ]
  },
  {
   "cell_type": "code",
   "execution_count": 27,
   "metadata": {},
   "outputs": [
    {
     "data": {
      "text/plain": [
       "{'active_site_sasa': 1255.8929758308375}"
      ]
     },
     "execution_count": 27,
     "metadata": {},
     "output_type": "execute_result"
    }
   ],
   "source": [
    "calculate_sasa_from_inputs(\n",
    "    pdb_file=\"/disk2/fli/REVIVAL2/zs/plip/af3/struct_joint/PfTrpB-4bromo/I165A:I183A:Y301V_0/I165A:I183A:Y301V_0.pdb\",\n",
    "    active_site_residues=get_plip_active_site_list(file_path), \n",
    "    ligand_smiles=\"C1=CC2=C(C=CN2)C(=C1)Br\"\n",
    "    )"
   ]
  },
  {
   "cell_type": "code",
   "execution_count": 14,
   "metadata": {},
   "outputs": [],
   "source": [
    "\n",
    "import os\n",
    "import freesasa\n",
    "from MDAnalysis import Universe\n",
    "import MDAnalysis as mda\n",
    "\n",
    "\n",
    "def calculate_sasa_from_pdb(pdb_file, active_site_residues=None, chains=None, specific_atoms=None):\n",
    "    \"\"\"\n",
    "    Calculate SASA for active site residues, specified chains, or specific atoms.\n",
    "\n",
    "    Args:\n",
    "        pdb_file (str): Path to the PDB file containing the protein.\n",
    "        active_site_residues (list of tuple): List of active site residues as (resname, resid).\n",
    "        chains (list of str): List of chain identifiers to calculate SASA (e.g., [\"B\", \"C\"]).\n",
    "        specific_atoms (list of tuple): List of specific atoms as (chain, residue, atom).\n",
    "\n",
    "    Returns:\n",
    "        float: SASA value for the specified selection.\n",
    "    \"\"\"\n",
    "    # Ensure only one selection method is specified\n",
    "    if sum(x is not None for x in [active_site_residues, chains, specific_atoms]) != 1:\n",
    "        raise ValueError(\"Specify only one of active_site_residues, chains, or specific_atoms.\")\n",
    "\n",
    "    # Load PDB file\n",
    "    u = Universe(pdb_file)\n",
    "\n",
    "    # Build selection query\n",
    "    if active_site_residues:\n",
    "        selection_query = \" or \".join(\n",
    "            [f\"(resname {resname} and resid {resid} and segid A)\" for resname, resid in active_site_residues]\n",
    "        )\n",
    "    elif chains:\n",
    "        selection_query = \" or \".join([f\"segid {chain}\" for chain in chains])\n",
    "    elif specific_atoms:\n",
    "        selection_query = \" or \".join(\n",
    "            [f\"(segid {chain} and resname {resname} and name {atom})\" for chain, resname, atom in specific_atoms]\n",
    "        )\n",
    "\n",
    "    # Select atoms and validate\n",
    "    selected_atoms = u.select_atoms(selection_query)\n",
    "    if len(selected_atoms) == 0:\n",
    "        raise ValueError(\"No atoms found for the specified selection.\")\n",
    "\n",
    "    # Write selected atoms to a temporary PDB file\n",
    "    temp_file = \"temp_selection.pdb\"\n",
    "    with mda.Writer(temp_file, multiframe=False) as writer:\n",
    "        writer.write(selected_atoms)\n",
    "\n",
    "    # Calculate SASA\n",
    "    structure = freesasa.Structure(temp_file)\n",
    "    sasa = freesasa.calc(structure).totalArea()\n",
    "\n",
    "    # Clean up\n",
    "    os.remove(temp_file)\n",
    "\n",
    "    return sasa"
   ]
  },
  {
   "cell_type": "code",
   "execution_count": 15,
   "metadata": {},
   "outputs": [
    {
     "data": {
      "text/plain": [
       "1255.8929758308375"
      ]
     },
     "execution_count": 15,
     "metadata": {},
     "output_type": "execute_result"
    }
   ],
   "source": [
    "\n",
    "\n",
    "calculate_sasa_from_pdb(\n",
    "    pdb_file=\"/disk2/fli/REVIVAL2/zs/plip/af3/struct_joint/PfTrpB-4bromo/I165A:I183A:Y301V_0/I165A:I183A:Y301V_0.pdb\",\n",
    "    active_site_residues=get_plip_active_site_list(\"/disk2/fli/REVIVAL2/zs/plip/af3/struct_joint/PfTrpB-4bromo/I165A:I183A:Y301V_0/report.xml\" ),\n",
    "    # chains=[\"B\"]\n",
    "    )"
   ]
  },
  {
   "cell_type": "code",
   "execution_count": null,
   "metadata": {},
   "outputs": [
    {
     "name": "stderr",
     "output_type": "stream",
     "text": [
      "FreeSASA: warning: atom 'LIG BR1 ' unknown, guessing element is 'BR', and radius 1.830 A\n",
      "FreeSASA: warning: atom 'LIG  C1 ' unknown, guessing element is ' C', and radius 1.700 A\n",
      "FreeSASA: warning: atom 'LIG  C2 ' unknown, guessing element is ' C', and radius 1.700 A\n",
      "FreeSASA: warning: atom 'LIG  C3 ' unknown, guessing element is ' C', and radius 1.700 A\n",
      "FreeSASA: warning: atom 'LIG  C4 ' unknown, guessing element is ' C', and radius 1.700 A\n",
      "FreeSASA: warning: atom 'LIG  C5 ' unknown, guessing element is ' C', and radius 1.700 A\n",
      "FreeSASA: warning: atom 'LIG  N1 ' unknown, guessing element is ' N', and radius 1.550 A\n",
      "FreeSASA: warning: atom 'LIG  C6 ' unknown, guessing element is ' C', and radius 1.700 A\n",
      "FreeSASA: warning: atom 'LIG  C7 ' unknown, guessing element is ' C', and radius 1.700 A\n",
      "FreeSASA: warning: atom 'LIG  C8 ' unknown, guessing element is ' C', and radius 1.700 A\n",
      "FreeSASA: warning: atom 'LIG  C9 ' unknown, guessing element is ' C', and radius 1.700 A\n",
      "FreeSASA: warning: atom 'LIG  C10' unknown, guessing element is ' C', and radius 1.700 A\n",
      "FreeSASA: warning: atom 'LIG  N2 ' unknown, guessing element is ' N', and radius 1.550 A\n",
      "FreeSASA: warning: atom 'LIG  C11' unknown, guessing element is ' C', and radius 1.700 A\n",
      "FreeSASA: warning: atom 'LIG  C12' unknown, guessing element is ' C', and radius 1.700 A\n",
      "FreeSASA: warning: atom 'LIG  C13' unknown, guessing element is ' C', and radius 1.700 A\n",
      "FreeSASA: warning: atom 'LIG  C14' unknown, guessing element is ' C', and radius 1.700 A\n",
      "FreeSASA: warning: atom 'LIG  P1 ' unknown, guessing element is ' P', and radius 1.800 A\n",
      "FreeSASA: warning: atom 'LIG  O1 ' unknown, guessing element is ' O', and radius 1.520 A\n",
      "FreeSASA: warning: atom 'LIG  O2 ' unknown, guessing element is ' O', and radius 1.520 A\n",
      "FreeSASA: warning: atom 'LIG  O3 ' unknown, guessing element is ' O', and radius 1.520 A\n",
      "FreeSASA: warning: atom 'LIG  C15' unknown, guessing element is ' C', and radius 1.700 A\n",
      "FreeSASA: warning: atom 'LIG  N3 ' unknown, guessing element is ' N', and radius 1.550 A\n",
      "FreeSASA: warning: atom 'LIG  C16' unknown, guessing element is ' C', and radius 1.700 A\n",
      "FreeSASA: warning: atom 'LIG  C17' unknown, guessing element is ' C', and radius 1.700 A\n",
      "FreeSASA: warning: atom 'LIG  C18' unknown, guessing element is ' C', and radius 1.700 A\n",
      "FreeSASA: warning: atom 'LIG  O4 ' unknown, guessing element is ' O', and radius 1.520 A\n",
      "FreeSASA: warning: atom 'LIG  C19' unknown, guessing element is ' C', and radius 1.700 A\n",
      "FreeSASA: warning: atom 'LIG  O5 ' unknown, guessing element is ' O', and radius 1.520 A\n",
      "FreeSASA: warning: atom 'LIG  O6 ' unknown, guessing element is ' O', and radius 1.520 A\n",
      "FreeSASA: warning: atom 'LIG  NA1' unknown, guessing element is 'NA', and radius 2.270 A\n"
     ]
    },
    {
     "data": {
      "text/plain": [
       "849.5631732753901"
      ]
     },
     "execution_count": 16,
     "metadata": {},
     "output_type": "execute_result"
    }
   ],
   "source": [
    "calculate_sasa_from_pdb(\n",
    "    pdb_file=\"/disk2/fli/REVIVAL2/zs/plip/af3/struct_joint/PfTrpB-4bromo/I165A:I183A:Y301V_0/I165A:I183A:Y301V_0.pdb\",\n",
    "    # active_site_residues=get_plip_active_site_list(\"/disk2/fli/REVIVAL2/zs/plip/af3/struct_joint/PfTrpB-4bromo/I165A:I183A:Y301V_0/report.xml\" ),\n",
    "    chains=[\"B\"]\n",
    "    )"
   ]
  },
  {
   "cell_type": "code",
   "execution_count": 17,
   "metadata": {},
   "outputs": [
    {
     "name": "stderr",
     "output_type": "stream",
     "text": [
      "FreeSASA: warning: atom 'LIG BR1 ' unknown, guessing element is 'BR', and radius 1.830 A\n",
      "FreeSASA: warning: atom 'LIG  C1 ' unknown, guessing element is ' C', and radius 1.700 A\n",
      "FreeSASA: warning: atom 'LIG  C2 ' unknown, guessing element is ' C', and radius 1.700 A\n",
      "FreeSASA: warning: atom 'LIG  C3 ' unknown, guessing element is ' C', and radius 1.700 A\n",
      "FreeSASA: warning: atom 'LIG  C4 ' unknown, guessing element is ' C', and radius 1.700 A\n",
      "FreeSASA: warning: atom 'LIG  C5 ' unknown, guessing element is ' C', and radius 1.700 A\n",
      "FreeSASA: warning: atom 'LIG  N1 ' unknown, guessing element is ' N', and radius 1.550 A\n",
      "FreeSASA: warning: atom 'LIG  C6 ' unknown, guessing element is ' C', and radius 1.700 A\n",
      "FreeSASA: warning: atom 'LIG  C7 ' unknown, guessing element is ' C', and radius 1.700 A\n",
      "FreeSASA: warning: atom 'LIG  C8 ' unknown, guessing element is ' C', and radius 1.700 A\n"
     ]
    },
    {
     "data": {
      "text/plain": [
       "291.37273927053644"
      ]
     },
     "execution_count": 17,
     "metadata": {},
     "output_type": "execute_result"
    }
   ],
   "source": [
    "calculate_sasa_from_pdb(\n",
    "    pdb_file=\"/disk2/fli/REVIVAL2/zs/plip/af3/struct_joint/PfTrpB-4bromo/I165A:I183A:Y301V_0/I165A:I183A:Y301V_0.pdb\",\n",
    "    # active_site_residues=get_plip_active_site_list(\"/disk2/fli/REVIVAL2/zs/plip/af3/struct_joint/PfTrpB-4bromo/I165A:I183A:Y301V_0/report.xml\" ),\n",
    "    # chains=[\"B\"]\n",
    "    specific_atoms=[\n",
    "                (\"B\", \"LIG\", \"C1\"),\n",
    "                (\"B\", \"LIG\", \"C2\"),\n",
    "                (\"B\", \"LIG\", \"C3\"),\n",
    "                (\"B\", \"LIG\", \"C4\"),\n",
    "                (\"B\", \"LIG\", \"C5\"),\n",
    "                (\"B\", \"LIG\", \"C6\"),\n",
    "                (\"B\", \"LIG\", \"C7\"),\n",
    "                (\"B\", \"LIG\", \"C8\"),\n",
    "                (\"B\", \"LIG\", \"N1\"),\n",
    "                (\"B\", \"LIG\", \"BR1\"),\n",
    "            ]\n",
    "    )"
   ]
  },
  {
   "cell_type": "code",
   "execution_count": 29,
   "metadata": {},
   "outputs": [],
   "source": [
    "write_ligand_from_smiles(\"C1=CC2=C(C=CN2)C(=C1)Br\", \"test.pdb\")"
   ]
  },
  {
   "cell_type": "code",
   "execution_count": 33,
   "metadata": {},
   "outputs": [],
   "source": [
    "def add_chain_to_pdb(pdb_file, output_file, chain_id=\"A\"):\n",
    "    with open(pdb_file, \"r\") as f, open(output_file, \"w\") as out:\n",
    "        for line in f:\n",
    "            if line.startswith(\"HETATM\"):\n",
    "                out.write(line[:21] + chain_id + line[22:])\n",
    "            else:\n",
    "                out.write(line)\n",
    "\n",
    "# Example usage\n",
    "add_chain_to_pdb(\"test.pdb\", \"test_fixed.pdb\", chain_id=\"A\")\n"
   ]
  },
  {
   "cell_type": "code",
   "execution_count": 38,
   "metadata": {},
   "outputs": [
    {
     "name": "stderr",
     "output_type": "stream",
     "text": [
      "FreeSASA:lib/src/structure.c:693: error: input had no valid ATOM or HETATM lines\n",
      "FreeSASA:lib/src/structure.c:700: error: \n"
     ]
    },
    {
     "ename": "Exception",
     "evalue": "Error reading '/disk2/fli/REVIVAL2/test_fixed.pdb'.",
     "output_type": "error",
     "traceback": [
      "\u001b[0;31m---------------------------------------------------------------------------\u001b[0m",
      "\u001b[0;31mException\u001b[0m                                 Traceback (most recent call last)",
      "Cell \u001b[0;32mIn[38], line 1\u001b[0m\n\u001b[0;32m----> 1\u001b[0m \u001b[43mfreesasa\u001b[49m\u001b[38;5;241;43m.\u001b[39;49m\u001b[43mStructure\u001b[49m\u001b[43m(\u001b[49m\u001b[38;5;124;43m\"\u001b[39;49m\u001b[38;5;124;43m/disk2/fli/REVIVAL2/test_fixed.pdb\u001b[39;49m\u001b[38;5;124;43m\"\u001b[39;49m\u001b[43m)\u001b[49m\n",
      "File \u001b[0;32msrc/structure.pyx:102\u001b[0m, in \u001b[0;36mfreesasa.Structure.__init__\u001b[0;34m()\u001b[0m\n",
      "File \u001b[0;32msrc/structure.pyx:121\u001b[0m, in \u001b[0;36mfreesasa.Structure._initFromFile\u001b[0;34m()\u001b[0m\n",
      "\u001b[0;31mException\u001b[0m: Error reading '/disk2/fli/REVIVAL2/test_fixed.pdb'."
     ]
    }
   ],
   "source": [
    "freesasa.Structure(\"/disk2/fli/REVIVAL2/test_fixed.pdb\")"
   ]
  },
  {
   "cell_type": "code",
   "execution_count": 40,
   "metadata": {},
   "outputs": [],
   "source": [
    "from rdkit.Chem import rdFreeSASA\n",
    "\n",
    "def compute_sasa(mol):\n",
    "    \"\"\"Compute Solvent Accessible Surface Area.\n",
    "    \"\"\"\n",
    "    mol = Chem.AddHs(mol)\n",
    "\n",
    "    # Get Van der Waals radii (angstrom)\n",
    "    ptable = Chem.GetPeriodicTable()\n",
    "    radii = [ptable.GetRvdw(atom.GetAtomicNum()) for atom in mol.GetAtoms()]\n",
    "\n",
    "    # Compute solvent accessible surface area\n",
    "    sa = rdFreeSASA.CalcSASA(mol, radii, confIdx=-1)\n",
    "    \n",
    "    return sa\n"
   ]
  },
  {
   "cell_type": "code",
   "execution_count": 46,
   "metadata": {},
   "outputs": [
    {
     "data": {
      "image/png": "[encoded data removed]",
      "text/plain": [
       "<rdkit.Chem.rdchem.Mol at 0x7f3753e30ba0>"
      ]
     },
     "execution_count": 46,
     "metadata": {},
     "output_type": "execute_result"
    }
   ],
   "source": [
    "mol = Chem.MolFromSmiles(\"C1=CC2=C(C=CN2)C(=C1)Br\")\n",
    "mol = Chem.AddHs(mol)\n",
    "mol"
   ]
  },
  {
   "cell_type": "code",
   "execution_count": 48,
   "metadata": {},
   "outputs": [],
   "source": [
    "ptable = Chem.GetPeriodicTable()"
   ]
  },
  {
   "cell_type": "code",
   "execution_count": 49,
   "metadata": {},
   "outputs": [],
   "source": [
    "radii = [ptable.GetRvdw(atom.GetAtomicNum()) for atom in mol.GetAtoms()]\n"
   ]
  },
  {
   "cell_type": "code",
   "execution_count": 50,
   "metadata": {},
   "outputs": [
    {
     "data": {
      "text/plain": [
       "[1.7,\n",
       " 1.7,\n",
       " 1.7,\n",
       " 1.7,\n",
       " 1.7,\n",
       " 1.7,\n",
       " 1.6,\n",
       " 1.7,\n",
       " 1.7,\n",
       " 1.9,\n",
       " 1.2,\n",
       " 1.2,\n",
       " 1.2,\n",
       " 1.2,\n",
       " 1.2,\n",
       " 1.2]"
      ]
     },
     "execution_count": 50,
     "metadata": {},
     "output_type": "execute_result"
    }
   ],
   "source": [
    "radii"
   ]
  },
  {
   "cell_type": "code",
   "execution_count": 58,
   "metadata": {},
   "outputs": [
    {
     "data": {
      "text/plain": [
       "0"
      ]
     },
     "execution_count": 58,
     "metadata": {},
     "output_type": "execute_result"
    }
   ],
   "source": [
    "AllChem.EmbedMolecule(mol, AllChem.ETKDG()) "
   ]
  },
  {
   "cell_type": "code",
   "execution_count": 59,
   "metadata": {},
   "outputs": [
    {
     "data": {
      "text/plain": [
       "317.5083758487219"
      ]
     },
     "execution_count": 59,
     "metadata": {},
     "output_type": "execute_result"
    }
   ],
   "source": [
    "rdFreeSASA.CalcSASA(mol, radii, confIdx=-1)"
   ]
  },
  {
   "cell_type": "code",
   "execution_count": 25,
   "metadata": {},
   "outputs": [],
   "source": [
    "from rdkit.Chem import Descriptors, MolSurf, Descriptors3D"
   ]
  },
  {
   "cell_type": "code",
   "execution_count": 56,
   "metadata": {},
   "outputs": [
    {
     "data": {
      "text/plain": [
       "2.9304000000000006"
      ]
     },
     "execution_count": 56,
     "metadata": {},
     "output_type": "execute_result"
    }
   ],
   "source": [
    "Descriptors.MolLogP(mol)"
   ]
  },
  {
   "cell_type": "code",
   "execution_count": 57,
   "metadata": {},
   "outputs": [
    {
     "data": {
      "text/plain": [
       "15.79"
      ]
     },
     "execution_count": 57,
     "metadata": {},
     "output_type": "execute_result"
    }
   ],
   "source": [
    "Chem.rdMolDescriptors.CalcTPSA(mol)"
   ]
  },
  {
   "cell_type": "code",
   "execution_count": 18,
   "metadata": {},
   "outputs": [],
   "source": [
    "from REVIVAL.global_param import LIB_INFO_DICT"
   ]
  },
  {
   "cell_type": "code",
   "execution_count": 19,
   "metadata": {},
   "outputs": [
    {
     "data": {
      "text/plain": [
       "{'enzyme': 'PfTrpB',\n",
       " 'substrate': '4bromo',\n",
       " 'substrate-smiles': 'C1=CC2=C(C=CN2)C(=C1)Br',\n",
       " 'cofactor': ['PLP-dependent_aminoacrylate', 'Na+'],\n",
       " 'cofactor-smiles': ['[O-]C1=C(/C=[N+]([H])/C(C([O-])=O)=C)C(CP([O-])([O-])=O)=CN=C1C',\n",
       "  '[Na+]'],\n",
       " 'inactivated-cofactor': ['PLP', 'Na+'],\n",
       " 'inactivated-cofactor-smiles': ['O=Cc1c(O)c(C)ncc1COP(O)(O)=O', '[Na+]'],\n",
       " 'transiminated-cofactor': ['aldimine', 'Na+'],\n",
       " 'transiminated-cofactor-smiles': ['[O-]C1=C(/C=[N+]([H])/[C@](CO)([H])C([O-])=O)C(CP([O-])([O-])=O)=CN=C1C',\n",
       "  '[Na+]'],\n",
       " 'intermediate-smiles': ['CC1=C([O-])C(\\\\C=[NH+]\\\\[C@@H](CC2=CNC3=CC=CC(Br)=C23)C([O-])=O)=C(COP([O-])([O-])=O)C=N1',\n",
       "  '[Na+]'],\n",
       " '4bromo-info': [('B', 'LIG', 'C1'),\n",
       "  ('B', 'LIG', 'C2'),\n",
       "  ('B', 'LIG', 'C3'),\n",
       "  ('B', 'LIG', 'C4'),\n",
       "  ('B', 'LIG', 'C5'),\n",
       "  ('B', 'LIG', 'C6'),\n",
       "  ('B', 'LIG', 'C7'),\n",
       "  ('B', 'LIG', 'C8'),\n",
       "  ('B', 'LIG', 'N1'),\n",
       "  ('B', 'LIG', 'BR1')],\n",
       " 'substrate-addH_chai': [('B', 'LIG', 'N1')],\n",
       " 'cofactor-addH_chai_joint': [('B', 'LIG', 'N2'),\n",
       "  ('B', 'LIG', 'O3'),\n",
       "  ('B', 'LIG', 'O4'),\n",
       "  ('B', 'LIG', 'O5')],\n",
       " 'cofactor-double_bond_pairs_chai_joint': [(('B', 'LIG', 'N2'),\n",
       "   ('B', 'LIG', 'C11')),\n",
       "  (('B', 'LIG', 'C12'), ('B', 'LIG', 'C14'))],\n",
       " 'cofactor-distances_chai_joint': {'C-C': (('B', 1, 'LIG', 'C_5', False),\n",
       "   ('B', 1, 'LIG', 'C_14', False)),\n",
       "  'GLU-NH_1': (('A', 104, 'GLU', 'OE1', False), ('B', 1, 'LIG', 'N_1', True)),\n",
       "  'GLU-NH_2': (('A', 104, 'GLU', 'OE2', False), ('B', 1, 'LIG', 'N_1', True))},\n",
       " 'substrate-addH_af3': [('B', 'LIG', 'N1')],\n",
       " 'cofactor-addH_af3_joint': [('B', 'LIG', 'N2'),\n",
       "  ('B', 'LIG', 'O2'),\n",
       "  ('B', 'LIG', 'O3'),\n",
       "  ('B', 'LIG', 'O5')],\n",
       " 'cofactor-double_bond_pairs_af3_joint': [(('B', 'LIG', 'N2'),\n",
       "   ('B', 'LIG', 'C11')),\n",
       "  (('B', 'LIG', 'C9'), ('B', 'LIG', 'C10'))],\n",
       " 'cofactor-distances_af3_joint': {'C-C': (('B', 1, 'LIG', 'C7', False),\n",
       "   ('B', 1, 'LIG', 'C9', False)),\n",
       "  'GLU-NH_1': (('A', 104, 'GLU', 'OE1', False), ('B', 1, 'LIG', 'N1', True)),\n",
       "  'GLU-NH_2': (('A', 104, 'GLU', 'OE2', False), ('B', 1, 'LIG', 'N1', True))},\n",
       " 'positions': {1: 165, 2: 183, 3: 301},\n",
       " 'AAs': {1: 'I', 2: 'I', 3: 'Y'},\n",
       " 'family': 'TrpB',\n",
       " 'project': 'multi-substrate'}"
      ]
     },
     "execution_count": 19,
     "metadata": {},
     "output_type": "execute_result"
    }
   ],
   "source": [
    "LIB_INFO_DICT[\"PfTrpB-4bromo\"]"
   ]
  },
  {
   "cell_type": "code",
   "execution_count": 21,
   "metadata": {},
   "outputs": [
    {
     "data": {
      "text/plain": [
       "'C1=CC2=C(C=CN2)C(=C1)Br.[O-]C1=C(/C=[N+]([H])/C(C([O-])=O)=C)C(CP([O-])([O-])=O)=CN=C1C.[Na+]'"
      ]
     },
     "execution_count": 21,
     "metadata": {},
     "output_type": "execute_result"
    }
   ],
   "source": [
    "LIB_INFO_DICT[\"PfTrpB-4bromo\"][\"substrate-smiles\"] + \".\" + \".\".join(LIB_INFO_DICT[\"PfTrpB-4bromo\"][\"cofactor-smiles\"])"
   ]
  },
  {
   "cell_type": "code",
   "execution_count": 23,
   "metadata": {},
   "outputs": [
    {
     "data": {
      "image/png": "[encoded data removed]",
      "text/plain": [
       "<rdkit.Chem.rdchem.Mol at 0x7ff0f75054d0>"
      ]
     },
     "execution_count": 23,
     "metadata": {},
     "output_type": "execute_result"
    }
   ],
   "source": [
    "\n",
    "from rdkit import Chem\n",
    "\n",
    "mol = Chem.MolFromSmiles(LIB_INFO_DICT[\"PfTrpB-4bromo\"][\"substrate-smiles\"] + \".\" + \".\".join(LIB_INFO_DICT[\"PfTrpB-4bromo\"][\"cofactor-smiles\"]))\n",
    "mol = Chem.AddHs(mol)\n",
    "mol"
   ]
  },
  {
   "cell_type": "code",
   "execution_count": 26,
   "metadata": {},
   "outputs": [
    {
     "data": {
      "text/plain": [
       "-4.4251799999999974"
      ]
     },
     "execution_count": 26,
     "metadata": {},
     "output_type": "execute_result"
    }
   ],
   "source": [
    "Descriptors.MolLogP(mol)"
   ]
  },
  {
   "cell_type": "code",
   "execution_count": 27,
   "metadata": {},
   "outputs": [
    {
     "data": {
      "text/plain": [
       "169.02999999999997"
      ]
     },
     "execution_count": 27,
     "metadata": {},
     "output_type": "execute_result"
    }
   ],
   "source": [
    "Chem.rdMolDescriptors.CalcTPSA(mol)"
   ]
  },
  {
   "cell_type": "code",
   "execution_count": 28,
   "metadata": {},
   "outputs": [
    {
     "data": {
      "text/plain": [
       "169.02999999999997"
      ]
     },
     "execution_count": 28,
     "metadata": {},
     "output_type": "execute_result"
    }
   ],
   "source": [
    "MolSurf.TPSA(mol)"
   ]
  },
  {
   "cell_type": "code",
   "execution_count": 29,
   "metadata": {},
   "outputs": [
    {
     "data": {
      "text/plain": [
       "169.02999999999997"
      ]
     },
     "execution_count": 29,
     "metadata": {},
     "output_type": "execute_result"
    }
   ],
   "source": [
    "Descriptors.TPSA(mol)"
   ]
  },
  {
   "cell_type": "code",
   "execution_count": 33,
   "metadata": {},
   "outputs": [
    {
     "data": {
      "text/plain": [
       "230.67815957353233"
      ]
     },
     "execution_count": 33,
     "metadata": {},
     "output_type": "execute_result"
    }
   ],
   "source": [
    "MolSurf.LabuteASA(mol)"
   ]
  },
  {
   "cell_type": "code",
   "execution_count": null,
   "metadata": {},
   "outputs": [],
   "source": []
  }
 ],
 "metadata": {
  "kernelspec": {
   "display_name": "REVIVAL",
   "language": "python",
   "name": "python3"
  },
  "language_info": {
   "codemirror_mode": {
    "name": "ipython",
    "version": 3
   },
   "file_extension": ".py",
   "mimetype": "text/x-python",
   "name": "python",
   "nbconvert_exporter": "python",
   "pygments_lexer": "ipython3",
   "version": "3.11.11"
  }
 },
 "nbformat": 4,
 "nbformat_minor": 2
}
