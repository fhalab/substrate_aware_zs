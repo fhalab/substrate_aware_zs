{
 "cells": [
  {
   "cell_type": "code",
   "execution_count": 1,
   "metadata": {},
   "outputs": [
    {
     "name": "stdout",
     "output_type": "stream",
     "text": [
      "/disk2/fli/REVIVAL2\n"
     ]
    }
   ],
   "source": [
    "%cd ~/REVIVAL2"
   ]
  },
  {
   "cell_type": "code",
   "execution_count": 5,
   "metadata": {},
   "outputs": [],
   "source": [
    "import pandas as pd\n",
    "from scipy.stats import spearmanr"
   ]
  },
  {
   "cell_type": "code",
   "execution_count": 8,
   "metadata": {},
   "outputs": [
    {
     "data": {
      "text/html": [
       "<div>\n",
       "<style scoped>\n",
       "    .dataframe tbody tr th:only-of-type {\n",
       "        vertical-align: middle;\n",
       "    }\n",
       "\n",
       "    .dataframe tbody tr th {\n",
       "        vertical-align: top;\n",
       "    }\n",
       "\n",
       "    .dataframe thead th {\n",
       "        text-align: right;\n",
       "    }\n",
       "</style>\n",
       "<table border=\"1\" class=\"dataframe\">\n",
       "  <thead>\n",
       "    <tr style=\"text-align: right;\">\n",
       "      <th></th>\n",
       "      <th>var</th>\n",
       "      <th>fitness</th>\n",
       "      <th>pocket-plip-sasa_0</th>\n",
       "      <th>pocket-plip-sasa_1</th>\n",
       "      <th>pocket-plip-sasa_2</th>\n",
       "      <th>pocket-plip-sasa_3</th>\n",
       "      <th>pocket-plip-sasa_4</th>\n",
       "      <th>pocket-plip-sasa_avg</th>\n",
       "      <th>pocket-plip-kd_0</th>\n",
       "      <th>pocket-plip-kd_1</th>\n",
       "      <th>...</th>\n",
       "      <th>pocket-plip-kd_agg</th>\n",
       "      <th>pocket-plip-hw_agg</th>\n",
       "      <th>pocket-plip-ec_agg</th>\n",
       "      <th>pocket-subcentroid-kd_agg</th>\n",
       "      <th>pocket-subcentroid-hw_agg</th>\n",
       "      <th>pocket-subcentroid-ec_agg</th>\n",
       "      <th>pocket-subcofcentroid-kd_agg</th>\n",
       "      <th>pocket-subcofcentroid-hw_agg</th>\n",
       "      <th>pocket-subcofcentroid-ec_agg</th>\n",
       "      <th>rep</th>\n",
       "    </tr>\n",
       "  </thead>\n",
       "  <tbody>\n",
       "    <tr>\n",
       "      <th>0</th>\n",
       "      <td>F89A</td>\n",
       "      <td>0.000000</td>\n",
       "      <td>5538.606031</td>\n",
       "      <td>5448.358696</td>\n",
       "      <td>5652.553339</td>\n",
       "      <td>5548.180498</td>\n",
       "      <td>5448.575258</td>\n",
       "      <td>5527.254764</td>\n",
       "      <td>0.135897</td>\n",
       "      <td>0.144872</td>\n",
       "      <td>...</td>\n",
       "      <td>0.135897</td>\n",
       "      <td>-0.626923</td>\n",
       "      <td>0.228846</td>\n",
       "      <td>0.526316</td>\n",
       "      <td>-1.131579</td>\n",
       "      <td>0.443158</td>\n",
       "      <td>1.078947</td>\n",
       "      <td>-1.678947</td>\n",
       "      <td>0.672105</td>\n",
       "      <td>agg</td>\n",
       "    </tr>\n",
       "    <tr>\n",
       "      <th>1</th>\n",
       "      <td>F89C</td>\n",
       "      <td>4.215013</td>\n",
       "      <td>5531.955778</td>\n",
       "      <td>5450.651367</td>\n",
       "      <td>5609.420158</td>\n",
       "      <td>5540.730129</td>\n",
       "      <td>5443.174849</td>\n",
       "      <td>5515.186456</td>\n",
       "      <td>0.144872</td>\n",
       "      <td>0.153846</td>\n",
       "      <td>...</td>\n",
       "      <td>0.144872</td>\n",
       "      <td>-0.633333</td>\n",
       "      <td>0.224615</td>\n",
       "      <td>0.625000</td>\n",
       "      <td>-1.125000</td>\n",
       "      <td>0.435500</td>\n",
       "      <td>1.115789</td>\n",
       "      <td>-1.705263</td>\n",
       "      <td>0.654737</td>\n",
       "      <td>agg</td>\n",
       "    </tr>\n",
       "    <tr>\n",
       "      <th>2</th>\n",
       "      <td>F89D</td>\n",
       "      <td>1.585337</td>\n",
       "      <td>5566.070851</td>\n",
       "      <td>5492.035568</td>\n",
       "      <td>5617.457486</td>\n",
       "      <td>5476.191911</td>\n",
       "      <td>5461.263423</td>\n",
       "      <td>5522.603848</td>\n",
       "      <td>0.124051</td>\n",
       "      <td>0.124051</td>\n",
       "      <td>...</td>\n",
       "      <td>0.124051</td>\n",
       "      <td>-0.597468</td>\n",
       "      <td>0.224177</td>\n",
       "      <td>0.344444</td>\n",
       "      <td>-0.938889</td>\n",
       "      <td>0.406111</td>\n",
       "      <td>0.800000</td>\n",
       "      <td>-1.494737</td>\n",
       "      <td>0.592105</td>\n",
       "      <td>agg</td>\n",
       "    </tr>\n",
       "    <tr>\n",
       "      <th>3</th>\n",
       "      <td>F89E</td>\n",
       "      <td>2.487884</td>\n",
       "      <td>5557.648045</td>\n",
       "      <td>5438.427160</td>\n",
       "      <td>5610.336314</td>\n",
       "      <td>5495.966048</td>\n",
       "      <td>5535.882304</td>\n",
       "      <td>5527.651974</td>\n",
       "      <td>0.124051</td>\n",
       "      <td>0.076923</td>\n",
       "      <td>...</td>\n",
       "      <td>0.124051</td>\n",
       "      <td>-0.597468</td>\n",
       "      <td>0.226203</td>\n",
       "      <td>0.325000</td>\n",
       "      <td>-0.925000</td>\n",
       "      <td>0.384000</td>\n",
       "      <td>0.800000</td>\n",
       "      <td>-1.494737</td>\n",
       "      <td>0.600526</td>\n",
       "      <td>agg</td>\n",
       "    </tr>\n",
       "    <tr>\n",
       "      <th>4</th>\n",
       "      <td>F89G</td>\n",
       "      <td>0.000000</td>\n",
       "      <td>5286.482508</td>\n",
       "      <td>5504.399128</td>\n",
       "      <td>5582.748381</td>\n",
       "      <td>5505.503320</td>\n",
       "      <td>5474.431107</td>\n",
       "      <td>5470.712889</td>\n",
       "      <td>0.294595</td>\n",
       "      <td>0.035443</td>\n",
       "      <td>...</td>\n",
       "      <td>0.107692</td>\n",
       "      <td>-0.620513</td>\n",
       "      <td>0.227051</td>\n",
       "      <td>0.750000</td>\n",
       "      <td>-1.205556</td>\n",
       "      <td>0.515000</td>\n",
       "      <td>0.963158</td>\n",
       "      <td>-1.652632</td>\n",
       "      <td>0.664737</td>\n",
       "      <td>agg</td>\n",
       "    </tr>\n",
       "  </tbody>\n",
       "</table>\n",
       "<p>5 rows × 95 columns</p>\n",
       "</div>"
      ],
      "text/plain": [
       "    var   fitness  pocket-plip-sasa_0  pocket-plip-sasa_1  pocket-plip-sasa_2  \\\n",
       "0  F89A  0.000000         5538.606031         5448.358696         5652.553339   \n",
       "1  F89C  4.215013         5531.955778         5450.651367         5609.420158   \n",
       "2  F89D  1.585337         5566.070851         5492.035568         5617.457486   \n",
       "3  F89E  2.487884         5557.648045         5438.427160         5610.336314   \n",
       "4  F89G  0.000000         5286.482508         5504.399128         5582.748381   \n",
       "\n",
       "   pocket-plip-sasa_3  pocket-plip-sasa_4  pocket-plip-sasa_avg  \\\n",
       "0         5548.180498         5448.575258           5527.254764   \n",
       "1         5540.730129         5443.174849           5515.186456   \n",
       "2         5476.191911         5461.263423           5522.603848   \n",
       "3         5495.966048         5535.882304           5527.651974   \n",
       "4         5505.503320         5474.431107           5470.712889   \n",
       "\n",
       "   pocket-plip-kd_0  pocket-plip-kd_1  ...  pocket-plip-kd_agg  \\\n",
       "0          0.135897          0.144872  ...            0.135897   \n",
       "1          0.144872          0.153846  ...            0.144872   \n",
       "2          0.124051          0.124051  ...            0.124051   \n",
       "3          0.124051          0.076923  ...            0.124051   \n",
       "4          0.294595          0.035443  ...            0.107692   \n",
       "\n",
       "   pocket-plip-hw_agg  pocket-plip-ec_agg  pocket-subcentroid-kd_agg  \\\n",
       "0           -0.626923            0.228846                   0.526316   \n",
       "1           -0.633333            0.224615                   0.625000   \n",
       "2           -0.597468            0.224177                   0.344444   \n",
       "3           -0.597468            0.226203                   0.325000   \n",
       "4           -0.620513            0.227051                   0.750000   \n",
       "\n",
       "   pocket-subcentroid-hw_agg  pocket-subcentroid-ec_agg  \\\n",
       "0                  -1.131579                   0.443158   \n",
       "1                  -1.125000                   0.435500   \n",
       "2                  -0.938889                   0.406111   \n",
       "3                  -0.925000                   0.384000   \n",
       "4                  -1.205556                   0.515000   \n",
       "\n",
       "   pocket-subcofcentroid-kd_agg  pocket-subcofcentroid-hw_agg  \\\n",
       "0                      1.078947                     -1.678947   \n",
       "1                      1.115789                     -1.705263   \n",
       "2                      0.800000                     -1.494737   \n",
       "3                      0.800000                     -1.494737   \n",
       "4                      0.963158                     -1.652632   \n",
       "\n",
       "   pocket-subcofcentroid-ec_agg  rep  \n",
       "0                      0.672105  agg  \n",
       "1                      0.654737  agg  \n",
       "2                      0.592105  agg  \n",
       "3                      0.600526  agg  \n",
       "4                      0.664737  agg  \n",
       "\n",
       "[5 rows x 95 columns]"
      ]
     },
     "execution_count": 8,
     "metadata": {},
     "output_type": "execute_result"
    }
   ],
   "source": [
    "df = pd.read_csv(\"/disk2/fli/REVIVAL2/zs/hydro/af3/struct_joint/ParLQ.csv\")\n",
    "df.head()"
   ]
  },
  {
   "cell_type": "code",
   "execution_count": 16,
   "metadata": {},
   "outputs": [
    {
     "name": "stdout",
     "output_type": "stream",
     "text": [
      "substrate-logp\n",
      "substrate-tpsa\n",
      "substrate-asa\n",
      "substrate-sasa\n"
     ]
    }
   ],
   "source": [
    "for c in df.columns:\n",
    "    if \"substrate-\" in c:\n",
    "        print(c)"
   ]
  },
  {
   "cell_type": "code",
   "execution_count": 24,
   "metadata": {},
   "outputs": [
    {
     "name": "stdout",
     "output_type": "stream",
     "text": [
      "substrate+cofactor-logp\n",
      "substrate+cofactor-tpsa\n",
      "substrate+cofactor-asa\n",
      "substrate+cofactor-sasa\n"
     ]
    }
   ],
   "source": [
    "for c in df.columns:\n",
    "    if \"substrate+cofactor\" in c:\n",
    "        print(c)"
   ]
  },
  {
   "cell_type": "code",
   "execution_count": 14,
   "metadata": {},
   "outputs": [
    {
     "name": "stdout",
     "output_type": "stream",
     "text": [
      "pocket-plip-sasa_avg\n",
      "pocket-plip-kd_avg\n",
      "pocket-plip-hw_avg\n",
      "pocket-plip-ec_avg\n",
      "pocket-subcentroid-sasa_avg\n",
      "pocket-subcentroid-kd_avg\n",
      "pocket-subcentroid-hw_avg\n",
      "pocket-subcentroid-ec_avg\n",
      "pocket-subcofcentroid-sasa_avg\n",
      "pocket-subcofcentroid-kd_avg\n",
      "pocket-subcofcentroid-hw_avg\n",
      "pocket-subcofcentroid-ec_avg\n",
      "pocket-plip-sasa_agg\n",
      "pocket-subcentroid-sasa_agg\n",
      "pocket-subcofcentroid-sasa_agg\n",
      "pocket-plip-kd_agg\n",
      "pocket-plip-hw_agg\n",
      "pocket-plip-ec_agg\n",
      "pocket-subcentroid-kd_agg\n",
      "pocket-subcentroid-hw_agg\n",
      "pocket-subcentroid-ec_agg\n",
      "pocket-subcofcentroid-kd_agg\n",
      "pocket-subcofcentroid-hw_agg\n",
      "pocket-subcofcentroid-ec_agg\n"
     ]
    }
   ],
   "source": [
    "for c in df.columns:\n",
    "    if \"_avg\" in c or \"_agg\" in c:\n",
    "        print(c)"
   ]
  },
  {
   "cell_type": "code",
   "execution_count": 21,
   "metadata": {},
   "outputs": [
    {
     "data": {
      "text/plain": [
       "(SignificanceResult(statistic=0.04755046071580823, pvalue=0.2934973385004446),\n",
       " SignificanceResult(statistic=-0.0052103533875718705, pvalue=0.908411594801199),\n",
       " SignificanceResult(statistic=-0.14962075573458292, pvalue=0.0008929237610688365),\n",
       " SignificanceResult(statistic=-0.2227753106819802, pvalue=6.309875734327112e-07),\n",
       " SignificanceResult(statistic=-0.01026826957771358, pvalue=0.8206389153478179),\n",
       " SignificanceResult(statistic=0.051732411264243536, pvalue=0.25304420885109474))"
      ]
     },
     "execution_count": 21,
     "metadata": {},
     "output_type": "execute_result"
    }
   ],
   "source": [
    "(\n",
    "    spearmanr(df[\"fitness\"], df[\"pocket-plip-sasa_avg\"] - df[\"substrate-sasa\"]),\n",
    "    spearmanr(df[\"fitness\"], df[\"pocket-plip-sasa_agg\"] - df[\"substrate-sasa\"]),\n",
    "    spearmanr(df[\"fitness\"], df[\"pocket-subcentroid-sasa_avg\"] - df[\"substrate-sasa\"]),\n",
    "    spearmanr(df[\"fitness\"], df[\"pocket-subcentroid-sasa_agg\"] - df[\"substrate-sasa\"]),\n",
    "    spearmanr(df[\"fitness\"], df[\"pocket-subcofcentroid-sasa_avg\"] - df[\"substrate-sasa\"]),\n",
    "    spearmanr(df[\"fitness\"], df[\"pocket-subcofcentroid-sasa_agg\"] - df[\"substrate-sasa\"])\n",
    "    )"
   ]
  },
  {
   "cell_type": "code",
   "execution_count": 25,
   "metadata": {},
   "outputs": [
    {
     "data": {
      "text/plain": [
       "(SignificanceResult(statistic=0.013542022865581376, pvalue=0.7649296996578994),\n",
       " SignificanceResult(statistic=-0.023500879102107675, pvalue=0.6037906054166439),\n",
       " SignificanceResult(statistic=-0.14254489540663037, pvalue=0.0015589739267190086),\n",
       " SignificanceResult(statistic=-0.21276984099665794, pvalue=2.010606097505555e-06),\n",
       " SignificanceResult(statistic=-0.0013998824463902538, pvalue=0.9753424387361698),\n",
       " SignificanceResult(statistic=0.04565532312580998, pvalue=0.3131816291006604))"
      ]
     },
     "execution_count": 25,
     "metadata": {},
     "output_type": "execute_result"
    }
   ],
   "source": [
    "(\n",
    "    spearmanr(df[\"fitness\"], df[\"pocket-plip-sasa_avg\"] - df[\"substrate+cofactor-sasa\"]),\n",
    "    spearmanr(df[\"fitness\"], df[\"pocket-plip-sasa_agg\"] - df[\"substrate+cofactor-sasa\"]),\n",
    "    spearmanr(df[\"fitness\"], df[\"pocket-subcentroid-sasa_avg\"] - df[\"substrate+cofactor-sasa\"]),\n",
    "    spearmanr(df[\"fitness\"], df[\"pocket-subcentroid-sasa_agg\"] - df[\"substrate+cofactor-sasa\"]),\n",
    "    spearmanr(df[\"fitness\"], df[\"pocket-subcofcentroid-sasa_avg\"] - df[\"substrate+cofactor-sasa\"]),\n",
    "    spearmanr(df[\"fitness\"], df[\"pocket-subcofcentroid-sasa_agg\"] - df[\"substrate+cofactor-sasa\"])\n",
    "    )"
   ]
  },
  {
   "cell_type": "code",
   "execution_count": 22,
   "metadata": {},
   "outputs": [
    {
     "data": {
      "text/plain": [
       "(SignificanceResult(statistic=-0.05109573479294273, pvalue=0.2589395615694466),\n",
       " SignificanceResult(statistic=-0.20667897726838366, pvalue=3.964184245256316e-06),\n",
       " SignificanceResult(statistic=-0.07657402327536836, pvalue=0.09041819792036414),\n",
       " SignificanceResult(statistic=-0.1411515719006619, pvalue=0.0017347861489189207),\n",
       " SignificanceResult(statistic=-0.132398038311777, pvalue=0.0033225328930425843),\n",
       " SignificanceResult(statistic=-0.16905294342660773, pvalue=0.00017012890748260384))"
      ]
     },
     "execution_count": 22,
     "metadata": {},
     "output_type": "execute_result"
    }
   ],
   "source": [
    "(\n",
    "    spearmanr(df[\"fitness\"], df[\"pocket-plip-kd_avg\"] - df[\"substrate-logp\"]),\n",
    "    spearmanr(df[\"fitness\"], df[\"pocket-plip-kd_agg\"] - df[\"substrate-logp\"]),\n",
    "    spearmanr(df[\"fitness\"], df[\"pocket-subcentroid-kd_avg\"] - df[\"substrate-logp\"]),\n",
    "    spearmanr(df[\"fitness\"], df[\"pocket-subcentroid-kd_agg\"] - df[\"substrate-logp\"]),\n",
    "    spearmanr(df[\"fitness\"], df[\"pocket-subcofcentroid-kd_avg\"] - df[\"substrate-logp\"]),\n",
    "    spearmanr(df[\"fitness\"], df[\"pocket-subcofcentroid-kd_agg\"] - df[\"substrate-logp\"])\n",
    "    )"
   ]
  },
  {
   "cell_type": "code",
   "execution_count": 26,
   "metadata": {},
   "outputs": [
    {
     "data": {
      "text/plain": [
       "(SignificanceResult(statistic=-0.05109573479294273, pvalue=0.2589395615694466),\n",
       " SignificanceResult(statistic=-0.206624395365962, pvalue=3.988013623303961e-06),\n",
       " SignificanceResult(statistic=-0.07657402327536836, pvalue=0.09041819792036414),\n",
       " SignificanceResult(statistic=-0.14109325693924873, pvalue=0.0017425261222761526),\n",
       " SignificanceResult(statistic=-0.132398038311777, pvalue=0.0033225328930425843),\n",
       " SignificanceResult(statistic=-0.16906526137846298, pvalue=0.0001699399907565311))"
      ]
     },
     "execution_count": 26,
     "metadata": {},
     "output_type": "execute_result"
    }
   ],
   "source": [
    "(\n",
    "    spearmanr(df[\"fitness\"], df[\"pocket-plip-kd_avg\"] - df[\"substrate+cofactor-logp\"]),\n",
    "    spearmanr(df[\"fitness\"], df[\"pocket-plip-kd_agg\"] - df[\"substrate+cofactor-logp\"]),\n",
    "    spearmanr(df[\"fitness\"], df[\"pocket-subcentroid-kd_avg\"] - df[\"substrate+cofactor-logp\"]),\n",
    "    spearmanr(df[\"fitness\"], df[\"pocket-subcentroid-kd_agg\"] - df[\"substrate+cofactor-logp\"]),\n",
    "    spearmanr(df[\"fitness\"], df[\"pocket-subcofcentroid-kd_avg\"] - df[\"substrate+cofactor-logp\"]),\n",
    "    spearmanr(df[\"fitness\"], df[\"pocket-subcofcentroid-kd_agg\"] - df[\"substrate+cofactor-logp\"])\n",
    "    )"
   ]
  },
  {
   "cell_type": "code",
   "execution_count": 31,
   "metadata": {},
   "outputs": [],
   "source": [
    "import os\n",
    "from MDAnalysis import Universe, AtomGroup\n",
    "import freesasa\n",
    "import tempfile\n",
    "\n",
    "def apply_mutation(universe, mutation):\n",
    "    \"\"\"\n",
    "    Apply a mutation to a protein structure.\n",
    "\n",
    "    Args:\n",
    "        universe (MDAnalysis.Universe): The MDAnalysis Universe object for the parent protein.\n",
    "        mutation (tuple): Mutation specified as (resid, original_resname, new_resname).\n",
    "                          Example: (56, \"TRP\", \"ALA\")\n",
    "\n",
    "    Returns:\n",
    "        MDAnalysis.Universe: Updated Universe with the mutation applied.\n",
    "    \"\"\"\n",
    "    resid, original_resname, new_resname = mutation\n",
    "    \n",
    "    # Select the residue to mutate (ensure it's the Residue level)\n",
    "    residue = universe.select_atoms(f\"resid {resid} and resname {original_resname}\").residues\n",
    "    \n",
    "    if len(residue) == 0:\n",
    "        raise ValueError(f\"Residue {original_resname} at {resid} not found in structure.\")\n",
    "    \n",
    "    # Mutate the residue name\n",
    "    residue.resnames = new_resname\n",
    "    return universe\n",
    "\n",
    "def calculate_variant_sasa(parent_pdb, mutations):\n",
    "    \"\"\"\n",
    "    Calculate SASA for a protein variant based on the parent structure.\n",
    "\n",
    "    Args:\n",
    "        parent_pdb (str): Path to the parent protein's PDB file.\n",
    "        mutations (list of tuples): List of mutations, each specified as (resid, original_resname, new_resname).\n",
    "\n",
    "    Returns:\n",
    "        float: Solvent-accessible surface area (SASA) for the variant.\n",
    "    \"\"\"\n",
    "    # Load the parent structure\n",
    "    universe = Universe(parent_pdb)\n",
    "\n",
    "    # Apply all mutations\n",
    "    for mutation in mutations:\n",
    "        universe = apply_mutation(universe, mutation)\n",
    "\n",
    "    # Write the mutated structure to a temporary PDB file\n",
    "    temp_pdb = tempfile.NamedTemporaryFile(suffix=\".pdb\", delete=False).name\n",
    "    universe.atoms.write(temp_pdb)  # Corrected file writing\n",
    "\n",
    "    # Calculate SASA using FreeSASA\n",
    "    structure = freesasa.Structure(temp_pdb)\n",
    "    sasa = freesasa.calc(structure).totalArea()\n",
    "\n",
    "    # Clean up\n",
    "    os.remove(temp_pdb)\n",
    "\n",
    "    return sasa\n"
   ]
  },
  {
   "cell_type": "code",
   "execution_count": 32,
   "metadata": {},
   "outputs": [
    {
     "name": "stderr",
     "output_type": "stream",
     "text": [
      "FreeSASA: warning: atom 'ALA  CG ' unknown, guessing element is ' C', and radius 1.700 A\n",
      "FreeSASA: warning: atom 'ALA  CD1' unknown, guessing element is ' C', and radius 1.700 A\n",
      "FreeSASA: warning: atom 'ALA  CD2' unknown, guessing element is ' C', and radius 1.700 A\n",
      "FreeSASA: warning: atom 'ALA  CE2' unknown, guessing element is ' C', and radius 1.700 A\n",
      "FreeSASA: warning: atom 'ALA  CE3' unknown, guessing element is ' C', and radius 1.700 A\n",
      "FreeSASA: warning: atom 'ALA  NE1' unknown, guessing element is ' N', and radius 1.550 A\n",
      "FreeSASA: warning: atom 'ALA  CZ2' unknown, guessing element is ' C', and radius 1.700 A\n",
      "FreeSASA: warning: atom 'ALA  CZ3' unknown, guessing element is ' C', and radius 1.700 A\n",
      "FreeSASA: warning: atom 'ALA  CH2' unknown, guessing element is ' C', and radius 1.700 A\n"
     ]
    },
    {
     "data": {
      "text/plain": [
       "10003.434390192833"
      ]
     },
     "execution_count": 32,
     "metadata": {},
     "output_type": "execute_result"
    }
   ],
   "source": [
    "parent_pdb = \"/disk2/fli/REVIVAL2/zs/plip/holo/ParLQ/ParLQ.pdb\"\n",
    "mutations = [\n",
    "    (56, \"TRP\", \"ALA\"),  # Residue 56 mutated from ALA to GLY\n",
    "    # (120, \"TYR\", \"PHE\"), # Residue 120 mutated from TYR to PHE\n",
    "]\n",
    "\n",
    "calculate_variant_sasa(parent_pdb, mutations)"
   ]
  },
  {
   "cell_type": "code",
   "execution_count": null,
   "metadata": {},
   "outputs": [],
   "source": [
    "# Given list of terms\n",
    "import itertools\n",
    "plipterms = [\n",
    "    \"substrate-logp_frompdb\",\n",
    "    \"substrate-tpsa_frompdb\",\n",
    "    \"substrate-asa_frompdb\",\n",
    "    \"substrate+cofactor-logp_frompdb\",\n",
    "    \"substrate+cofactor-tpsa_frompdb\",\n",
    "    \"substrate+cofactor-asa_frompdb\",\n",
    "    \"pocket-plip-sasa-emp_frompdb\",\n",
    "    \"pocket-plip-sasa-theor_frompdb\",\n",
    "    \"pocket-plip-sasa-mut_frompdb\",\n",
    "    \"pocket-combo-sasa-emp_frompdb\",\n",
    "    \"pocket-combo-sasa-theor_frompdb\",\n",
    "    \"pocket-combo-sasa-mut_frompdb\",\n",
    "    \"pocket-ligandcentroid-sasa-emp_frompdb\",\n",
    "    \"pocket-ligandcentroid-sasa-theor_frompdb\",\n",
    "    \"pocket-ligandcentroid-sasa-mut_frompdb\",\n",
    "    \"pocket-plip-kd_frompdb\",\n",
    "    \"pocket-plip-hw_frompdb\",\n",
    "    \"pocket-plip-ec_frompdb\",\n",
    "    \"pocket-combo-kd_frompdb\",\n",
    "    \"pocket-combo-hw_frompdb\",\n",
    "    \"pocket-combo-ec_frompdb\",\n",
    "    \"pocket-ligandcentroid-kd_frompdb\",\n",
    "    \"pocket-ligandcentroid-hw_frompdb\",\n",
    "    \"pocket-ligandcentroid-ec_frompdb\",\n",
    "]\n",
    "\n",
    "# Separate substrate terms and pocket terms\n",
    "substrate_terms = [t for t in plipterms if t.startswith(\"substrate\")]\n",
    "pocket_terms = [t for t in plipterms if t.startswith(\"pocket\")]\n",
    "\n",
    "plip_df_frompdb = df_rho[plipterms]\n",
    "\n",
    "for p, s in itertools.product(pocket_terms, substrate_terms):\n",
    "    plip_df_frompdb[f\"{p} - {s}\"] = plip_df_frompdb[p] - plip_df_frompdb[s]\n",
    "\n",
    "\n",
    "# Set the figure size\n",
    "plt.figure(figsize=(18, 6))\n",
    "\n",
    "# Create a heatmap\n",
    "sns.heatmap(plip_df_frompdb, cmap=\"vlag\", annot=True, fmt=\".1f\", linewidths=0.5)\n",
    "\n",
    "# Show the plot\n",
    "plt.title(\"Bond distance\")\n",
    "plt.show()"
   ]
  }
 ],
 "metadata": {
  "kernelspec": {
   "display_name": "REVIVAL",
   "language": "python",
   "name": "python3"
  },
  "language_info": {
   "codemirror_mode": {
    "name": "ipython",
    "version": 3
   },
   "file_extension": ".py",
   "mimetype": "text/x-python",
   "name": "python",
   "nbconvert_exporter": "python",
   "pygments_lexer": "ipython3",
   "version": "3.11.11"
  }
 },
 "nbformat": 4,
 "nbformat_minor": 2
}
