{
 "cells": [
  {
   "cell_type": "code",
   "execution_count": 3,
   "metadata": {},
   "outputs": [],
   "source": [
    "from Bio.PDB import PDBParser, PDBIO, Select\n",
    "\n",
    "class ResidueRemover(Select):\n",
    "    def __init__(self, residues_to_remove):\n",
    "        \"\"\"\n",
    "        residues_to_remove: list of residue names to remove (e.g., ['ALA', 'GLY'])\n",
    "        \"\"\"\n",
    "        self.residues_to_remove = residues_to_remove\n",
    "\n",
    "    def accept_residue(self, residue):\n",
    "        \"\"\"Return False if the residue should be removed.\"\"\"\n",
    "        if residue.get_resname() in self.residues_to_remove:\n",
    "            return False\n",
    "        return True\n",
    "\n",
    "def remove_residues_from_pdb(input_pdb, output_pdb, residues_to_remove):\n",
    "    \"\"\"\n",
    "    Remove specified residues from a PDB file.\n",
    "\n",
    "    Args:\n",
    "        input_pdb (str): Path to the input PDB file.\n",
    "        output_pdb (str): Path to save the modified PDB file.\n",
    "        residues_to_remove (list): List of residue names to remove (e.g., ['ALA', 'GLY']).\n",
    "    \"\"\"\n",
    "    # Parse the input PDB file\n",
    "    parser = PDBParser(QUIET=True)\n",
    "    structure = parser.get_structure(\"protein\", input_pdb)\n",
    "\n",
    "    # Save the modified structure to a new PDB file\n",
    "    io = PDBIO()\n",
    "    io.set_structure(structure)\n",
    "    io.save(output_pdb, select=ResidueRemover(residues_to_remove))\n",
    "\n",
    "def remove_hetatm(input_pdb, output_pdb):\n",
    "    \"\"\"\n",
    "    Remove all HETATM entries from a PDB file.\n",
    "\n",
    "    Args:\n",
    "        input_pdb (str): Path to the input PDB file.\n",
    "        output_pdb (str): Path to save the modified PDB file.\n",
    "    \"\"\"\n",
    "    with open(input_pdb, \"r\") as infile, open(output_pdb, \"w\") as outfile:\n",
    "        for line in infile:\n",
    "            # Write the line to the output file if it doesn't start with \"HETATM\"\n",
    "            if not line.startswith(\"HETATM\"):\n",
    "                outfile.write(line)\n"
   ]
  },
  {
   "cell_type": "code",
   "execution_count": 4,
   "metadata": {},
   "outputs": [],
   "source": [
    "# Example usage\n",
    "input_pdb = \"/home/fli/REVIVAL2/zs/triad/struct_prep/frompdb/PfTrpB/PfTrpB.pdb\"  # Path to your input PDB file\n",
    "output_pdb = \"/home/fli/REVIVAL2/zs/triad/struct_prep/frompdb/PfTrpB/PfTrpB_clean.pdb\"  # Path to save the modified PDB file\n",
    "residues_to_remove = [\"NA\", \"PLS\"]  # Residues to remove\n",
    "remove_residues_from_pdb(input_pdb, output_pdb, residues_to_remove)\n"
   ]
  },
  {
   "cell_type": "code",
   "execution_count": null,
   "metadata": {},
   "outputs": [],
   "source": []
  }
 ],
 "metadata": {
  "kernelspec": {
   "display_name": "mlprot",
   "language": "python",
   "name": "python3"
  },
  "language_info": {
   "codemirror_mode": {
    "name": "ipython",
    "version": 3
   },
   "file_extension": ".py",
   "mimetype": "text/x-python",
   "name": "python",
   "nbconvert_exporter": "python",
   "pygments_lexer": "ipython3",
   "version": "3.9.12"
  }
 },
 "nbformat": 4,
 "nbformat_minor": 2
}
