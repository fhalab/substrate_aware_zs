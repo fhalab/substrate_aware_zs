{
 "cells": [
  {
   "cell_type": "code",
   "execution_count": 1,
   "metadata": {},
   "outputs": [
    {
     "name": "stdout",
     "output_type": "stream",
     "text": [
      "/disk2/fli/REVIVAL2\n"
     ]
    }
   ],
   "source": [
    "%cd ~/REVIVAL2"
   ]
  },
  {
   "cell_type": "code",
   "execution_count": 9,
   "metadata": {},
   "outputs": [],
   "source": [
    "%load_ext autoreload\n",
    "%autoreload 2\n",
    "%load_ext blackcellmagic"
   ]
  },
  {
   "cell_type": "code",
   "execution_count": 21,
   "metadata": {},
   "outputs": [],
   "source": [
    "import numpy as np\n",
    "\n",
    "from REVIVAL.util import get_file_name, get_dir_name, checkNgen_folder"
   ]
  },
  {
   "cell_type": "code",
   "execution_count": null,
   "metadata": {},
   "outputs": [],
   "source": [
    "\n",
    "def parse_chai_scores(mut_structure_dir: str, output_dir: str = \"zs/chai/output\"):\n",
    "\n",
    "    \"\"\"\n",
    "    A function for going through the subfolder and getting the chai scores\n",
    "    to generate a dataframe with the following columns:\n",
    "        - var: The mutation, ie I165A:I183A:Y301V\n",
    "        - rep: The replicate number\n",
    "        - aggregate_score\n",
    "        - ptm\n",
    "        - iptm\n",
    "        - chain_ptm_A\n",
    "        - chain_ptm_B\n",
    "        - chain_iptm_AA\n",
    "        - chain_iptm_AB\n",
    "        - chain_iptm_BA\n",
    "        - chain_iptm_BB\n",
    "        - has_inter_chain_clashes\n",
    "\n",
    "    Args:\n",
    "    - input_dir, str: The path to the folder containing the chai score\n",
    "        ie zs/chai/mut_structure/PfTrpB-4bromo\n",
    "    - output_dir, str: The path to the folder to save the dataframe to\n",
    "        ie zs/chai/output\n",
    "    \"\"\"\n",
    "\n",
    "    output_dir = checkNgen_folder(output_dir)\n",
    "    lib_name = os.path.basename(mut_structure_dir)\n",
    "\n",
    "    # init dataframe\n",
    "    df = pd.DataFrame(\n",
    "        columns=[\n",
    "            \"var\",\n",
    "            \"rep\",\n",
    "            \"aggregate_score\",\n",
    "            \"ptm\",\n",
    "            \"iptm\",\n",
    "            \"chain_ptm_A\",\n",
    "            \"chain_ptm_B\",\n",
    "            \"chain_iptm_AB\",\n",
    "            \"chain_iptm_BA\",\n",
    "            \"has_inter_chain_clashes\",\n",
    "        ]\n",
    "    )\n",
    "\n",
    "    for subfolder in glob(f\"{mut_structure_dir}/*\"):\n",
    "        var = os.path.basename(subfolder)\n",
    "        \n",
    "        for rep_npz in glob(f\"{subfolder}/*.npz\"):\n",
    "\n",
    "            npz = np.load(rep_npz)\n",
    "\n",
    "            df = df._append(\n",
    "                {\n",
    "                    \"var\": var,\n",
    "                    \"rep\": get_file_name(rep_npz).split(\"_\")[-1],\n",
    "                    \"aggregate_score\": npz[\"aggregate_score\"][0],\n",
    "                    \"ptm\": npz[\"ptm\"][0],\n",
    "                    \"iptm\": npz[\"iptm\"][0],\n",
    "                    \"chain_ptm_A\": npz[\"per_chain_ptm\"][0][0],\n",
    "                    \"chain_ptm_B\": npz[\"per_chain_ptm\"][0][1],\n",
    "                    \"chain_iptm_AB\": npz[\"per_chain_pair_iptm\"][0][0, 1],\n",
    "                    \"chain_iptm_BA\": npz[\"per_chain_pair_iptm\"][0][1, 0],\n",
    "                    \"has_inter_chain_clashes\": npz[\"has_inter_chain_clashes\"][0],\n",
    "                },\n",
    "                ignore_index=True,\n",
    "            )\n",
    "\n",
    "    df.to_csv(f\"{output_dir}/{lib_name}.csv\", index=False)\n",
    "    print(f\"Saved chai scores for {lib_name} to {output_dir}/{lib_name}.csv\")"
   ]
  },
  {
   "cell_type": "code",
   "execution_count": 5,
   "metadata": {},
   "outputs": [],
   "source": [
    "# load the npz file\n",
    "npz = np.load('/disk2/fli/REVIVAL2/zs/chai/mut_structure/PfTrpB-4bromo/I165A:I183A:Y301V/I165A:I183A:Y301V_0.npz')"
   ]
  },
  {
   "cell_type": "code",
   "execution_count": 15,
   "metadata": {},
   "outputs": [
    {
     "data": {
      "text/plain": [
       "0.9515228"
      ]
     },
     "execution_count": 15,
     "metadata": {},
     "output_type": "execute_result"
    }
   ],
   "source": [
    "npz[\"per_chain_ptm\"][0][0]"
   ]
  },
  {
   "cell_type": "code",
   "execution_count": 18,
   "metadata": {},
   "outputs": [
    {
     "data": {
      "text/plain": [
       "(0.9515228, 0.51923597)"
      ]
     },
     "execution_count": 18,
     "metadata": {},
     "output_type": "execute_result"
    }
   ],
   "source": [
    "npz[\"per_chain_pair_iptm\"][0][0, 0], npz[\"per_chain_pair_iptm\"][0][0, 1]"
   ]
  },
  {
   "cell_type": "code",
   "execution_count": 7,
   "metadata": {},
   "outputs": [
    {
     "name": "stdout",
     "output_type": "stream",
     "text": [
      "aggregate_score: [0.85367167]\n",
      "ptm: [0.9502157]\n",
      "iptm: [0.82953566]\n",
      "per_chain_ptm: [[0.9515228  0.61292917]]\n",
      "per_chain_pair_iptm: [[[0.9515228  0.51923597]\n",
      "  [0.82953566 0.61292917]]]\n",
      "has_inter_chain_clashes: [False]\n",
      "chain_intra_clashes: [[0 0]]\n",
      "chain_chain_inter_clashes: [[[0 0]\n",
      "  [0 0]]]\n"
     ]
    }
   ],
   "source": [
    "for key in npz.files:\n",
    "    print(f\"{key}: {npz[key]}\")\n"
   ]
  },
  {
   "cell_type": "code",
   "execution_count": null,
   "metadata": {},
   "outputs": [],
   "source": []
  }
 ],
 "metadata": {
  "kernelspec": {
   "display_name": "REVIVAL",
   "language": "python",
   "name": "python3"
  },
  "language_info": {
   "codemirror_mode": {
    "name": "ipython",
    "version": 3
   },
   "file_extension": ".py",
   "mimetype": "text/x-python",
   "name": "python",
   "nbconvert_exporter": "python",
   "pygments_lexer": "ipython3",
   "version": "3.11.10"
  }
 },
 "nbformat": 4,
 "nbformat_minor": 2
}
