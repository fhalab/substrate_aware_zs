{
 "cells": [
  {
   "cell_type": "code",
   "execution_count": 1,
   "metadata": {},
   "outputs": [
    {
     "name": "stdout",
     "output_type": "stream",
     "text": [
      "/disk2/fli/REVIVAL2\n"
     ]
    }
   ],
   "source": [
    "%cd ~/REVIVAL2"
   ]
  },
  {
   "cell_type": "code",
   "execution_count": 2,
   "metadata": {},
   "outputs": [],
   "source": [
    "from evcouplings.couplings import CouplingsModel\n",
    "from evcouplings.align.alignment import Alignment"
   ]
  },
  {
   "cell_type": "code",
   "execution_count": 3,
   "metadata": {},
   "outputs": [],
   "source": [
    "import pandas as pd"
   ]
  },
  {
   "cell_type": "code",
   "execution_count": 4,
   "metadata": {},
   "outputs": [],
   "source": [
    "# create df from dict\n",
    "df_dict = {\"mutant\": [\"VA39A:DA40A:GA41A:VA54A\", \"VA39A:DA40A:GA41A:VA54C\"]}\n",
    "df = pd.DataFrame(df_dict)"
   ]
  },
  {
   "cell_type": "code",
   "execution_count": 10,
   "metadata": {},
   "outputs": [
    {
     "data": {
      "text/html": [
       "<div>\n",
       "<style scoped>\n",
       "    .dataframe tbody tr th:only-of-type {\n",
       "        vertical-align: middle;\n",
       "    }\n",
       "\n",
       "    .dataframe tbody tr th {\n",
       "        vertical-align: top;\n",
       "    }\n",
       "\n",
       "    .dataframe thead th {\n",
       "        text-align: right;\n",
       "    }\n",
       "</style>\n",
       "<table border=\"1\" class=\"dataframe\">\n",
       "  <thead>\n",
       "    <tr style=\"text-align: right;\">\n",
       "      <th></th>\n",
       "      <th>mutant</th>\n",
       "      <th>EVmutation</th>\n",
       "    </tr>\n",
       "  </thead>\n",
       "  <tbody>\n",
       "    <tr>\n",
       "      <th>0</th>\n",
       "      <td>VA39A:DA40A:GA41A:VA54A</td>\n",
       "      <td>-20.194737</td>\n",
       "    </tr>\n",
       "    <tr>\n",
       "      <th>1</th>\n",
       "      <td>VA39A:DA40A:GA41A:VA54C</td>\n",
       "      <td>-24.812932</td>\n",
       "    </tr>\n",
       "  </tbody>\n",
       "</table>\n",
       "</div>"
      ],
      "text/plain": [
       "                    mutant  EVmutation\n",
       "0  VA39A:DA40A:GA41A:VA54A  -20.194737\n",
       "1  VA39A:DA40A:GA41A:VA54C  -24.812932"
      ]
     },
     "execution_count": 10,
     "metadata": {},
     "output_type": "execute_result"
    }
   ],
   "source": [
    "c = CouplingsModel(\"/disk2/fli/SSMuLA/data/GB1/GB1.model\")\n",
    "\n",
    "def get_evcouplings(df):\n",
    "    def parse(x):\n",
    "        return (int(x[2:-1]), x[0], x[-1])\n",
    "\n",
    "    df['EVmutation'] = df.mutant.apply(lambda x: c.delta_hamiltonian([parse(m) for m in x.split(':')])[0])\n",
    "    \n",
    "    return df\n",
    "\n",
    "df = get_evcouplings(df)\n",
    "df"
   ]
  },
  {
   "cell_type": "code",
   "execution_count": 8,
   "metadata": {},
   "outputs": [
    {
     "data": {
      "text/plain": [
       "(39, 'V', 'A')"
      ]
     },
     "execution_count": 8,
     "metadata": {},
     "output_type": "execute_result"
    }
   ],
   "source": [
    "x = \"VA39A\"\n",
    "(int(x[2:-1]), x[0], x[-1])"
   ]
  },
  {
   "cell_type": "code",
   "execution_count": 3,
   "metadata": {},
   "outputs": [],
   "source": [
    "import os\n",
    "\n",
    "from glob import glob"
   ]
  },
  {
   "cell_type": "code",
   "execution_count": 8,
   "metadata": {},
   "outputs": [],
   "source": [
    "from REVIVAL.util import get_file_name"
   ]
  },
  {
   "cell_type": "code",
   "execution_count": 4,
   "metadata": {},
   "outputs": [
    {
     "name": "stdout",
     "output_type": "stream",
     "text": [
      "Soft link created: /disk2/fli/REVIVAL2/data/SSMuLA_ev/T7.model -> /disk2/fli/SSMuLA/data/T7/T7.model\n",
      "Soft link created: /disk2/fli/REVIVAL2/data/SSMuLA_ev/TEV.model -> /disk2/fli/SSMuLA/data/TEV/TEV.model\n"
     ]
    }
   ],
   "source": [
    "# batch copy paste\n",
    "# List of original files or directories (replace with your actual paths)\n",
    "original_files = [\"/disk2/fli/SSMuLA/data/T7/T7.model\", \"/disk2/fli/SSMuLA/data/TEV/TEV.model\"]\n",
    "\n",
    "# Target directory where you want to place the soft links\n",
    "target_dir = '/disk2/fli/REVIVAL2/data/SSMuLA_ev/'\n",
    "\n",
    "# New names for the soft links (you can customize the naming scheme)\n",
    "# new_names = [\n",
    "#     'new_file1.txt',\n",
    "#     'new_file2.txt',\n",
    "#     'new_directory'\n",
    "# ]\n",
    "\n",
    "# Create soft links with new names\n",
    "for original in original_files:\n",
    "    # Define the full path of the new soft link\n",
    "    new_link = os.path.join(target_dir, os.path.basename(original))\n",
    "\n",
    "    # Create the symbolic link (soft link)\n",
    "    try:\n",
    "        os.symlink(original, new_link)\n",
    "        print(f\"Soft link created: {new_link} -> {original}\")\n",
    "    except FileExistsError:\n",
    "        print(f\"Soft link {new_link} already exists.\")\n",
    "    except Exception as e:\n",
    "        print(f\"Error creating soft link for {original}: {e}\")"
   ]
  },
  {
   "cell_type": "code",
   "execution_count": 12,
   "metadata": {},
   "outputs": [
    {
     "name": "stdout",
     "output_type": "stream",
     "text": [
      "Soft link created: /disk2/fli/REVIVAL2/data/SSMuLA/ParD2.csv -> /disk2/fli/SSMuLA/data/ParD2/scale2max/ParD2.csv\n",
      "Soft link created: /disk2/fli/REVIVAL2/data/SSMuLA/T7.csv -> /disk2/fli/SSMuLA/data/T7/scale2max/T7.csv\n",
      "Soft link created: /disk2/fli/REVIVAL2/data/SSMuLA/ParD3.csv -> /disk2/fli/SSMuLA/data/ParD3/scale2max/ParD3.csv\n",
      "Soft link created: /disk2/fli/REVIVAL2/data/SSMuLA/DHFR.csv -> /disk2/fli/SSMuLA/data/DHFR/scale2max/DHFR.csv\n",
      "Soft link created: /disk2/fli/REVIVAL2/data/SSMuLA/TrpB3I.csv -> /disk2/fli/SSMuLA/data/TrpB/scale2max/TrpB3I.csv\n",
      "Soft link created: /disk2/fli/REVIVAL2/data/SSMuLA/TrpB3G.csv -> /disk2/fli/SSMuLA/data/TrpB/scale2max/TrpB3G.csv\n",
      "Soft link created: /disk2/fli/REVIVAL2/data/SSMuLA/TrpB3H.csv -> /disk2/fli/SSMuLA/data/TrpB/scale2max/TrpB3H.csv\n",
      "Soft link created: /disk2/fli/REVIVAL2/data/SSMuLA/TrpB3E.csv -> /disk2/fli/SSMuLA/data/TrpB/scale2max/TrpB3E.csv\n",
      "Soft link created: /disk2/fli/REVIVAL2/data/SSMuLA/TrpB3B.csv -> /disk2/fli/SSMuLA/data/TrpB/scale2max/TrpB3B.csv\n",
      "Soft link created: /disk2/fli/REVIVAL2/data/SSMuLA/TrpB3D.csv -> /disk2/fli/SSMuLA/data/TrpB/scale2max/TrpB3D.csv\n",
      "Soft link created: /disk2/fli/REVIVAL2/data/SSMuLA/TrpB3A.csv -> /disk2/fli/SSMuLA/data/TrpB/scale2max/TrpB3A.csv\n",
      "Soft link created: /disk2/fli/REVIVAL2/data/SSMuLA/TrpB4.csv -> /disk2/fli/SSMuLA/data/TrpB/scale2max/TrpB4.csv\n",
      "Soft link created: /disk2/fli/REVIVAL2/data/SSMuLA/TrpB3F.csv -> /disk2/fli/SSMuLA/data/TrpB/scale2max/TrpB3F.csv\n",
      "Soft link created: /disk2/fli/REVIVAL2/data/SSMuLA/TrpB3C.csv -> /disk2/fli/SSMuLA/data/TrpB/scale2max/TrpB3C.csv\n",
      "Soft link created: /disk2/fli/REVIVAL2/data/SSMuLA/GB1.csv -> /disk2/fli/SSMuLA/data/GB1/scale2max/GB1.csv\n",
      "Soft link created: /disk2/fli/REVIVAL2/data/SSMuLA/TEV.csv -> /disk2/fli/SSMuLA/data/TEV/scale2max/TEV.csv\n"
     ]
    }
   ],
   "source": [
    "# batch copy paste\n",
    "# List of original files or directories (replace with your actual paths)\n",
    "original_files = glob(\"/disk2/fli/SSMuLA/data/*/scale2max/*.csv\")\n",
    "\n",
    "# Target directory where you want to place the soft links\n",
    "target_dir = '/disk2/fli/REVIVAL2/data/SSMuLA/'\n",
    "\n",
    "# New names for the soft links (you can customize the naming scheme)\n",
    "# new_names = [\n",
    "#     'new_file1.txt',\n",
    "#     'new_file2.txt',\n",
    "#     'new_directory'\n",
    "# ]\n",
    "\n",
    "# Create soft links with new names\n",
    "for original in original_files:\n",
    "    # Define the full path of the new soft link\n",
    "    new_link = os.path.join(target_dir, os.path.basename(original))\n",
    "\n",
    "    # Create the symbolic link (soft link)\n",
    "    try:\n",
    "        os.symlink(original, new_link)\n",
    "        print(f\"Soft link created: {new_link} -> {original}\")\n",
    "    except FileExistsError:\n",
    "        print(f\"Soft link {new_link} already exists.\")\n",
    "    except Exception as e:\n",
    "        print(f\"Error creating soft link for {original}: {e}\")"
   ]
  },
  {
   "cell_type": "code",
   "execution_count": null,
   "metadata": {},
   "outputs": [],
   "source": []
  }
 ],
 "metadata": {
  "kernelspec": {
   "display_name": "REVIVAL",
   "language": "python",
   "name": "python3"
  },
  "language_info": {
   "codemirror_mode": {
    "name": "ipython",
    "version": 3
   },
   "file_extension": ".py",
   "mimetype": "text/x-python",
   "name": "python",
   "nbconvert_exporter": "python",
   "pygments_lexer": "ipython3",
   "version": "3.11.10"
  }
 },
 "nbformat": 4,
 "nbformat_minor": 2
}
