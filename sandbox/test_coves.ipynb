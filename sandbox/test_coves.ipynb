{
 "cells": [
  {
   "cell_type": "code",
   "execution_count": 2,
   "metadata": {},
   "outputs": [
    {
     "name": "stdout",
     "output_type": "stream",
     "text": [
      "/disk2/fli/REVIVAL2\n"
     ]
    }
   ],
   "source": [
    "%cd ~/REVIVAL2"
   ]
  },
  {
   "cell_type": "code",
   "execution_count": 3,
   "metadata": {},
   "outputs": [],
   "source": [
    "%load_ext autoreload\n",
    "%autoreload 2"
   ]
  },
  {
   "cell_type": "code",
   "execution_count": 4,
   "metadata": {},
   "outputs": [],
   "source": [
    "# analyze coves apo and from docked structures"
   ]
  },
  {
   "cell_type": "code",
   "execution_count": 7,
   "metadata": {},
   "outputs": [],
   "source": [
    "import numpy as np\n",
    "import pandas as pd\n",
    "from glob import glob\n",
    "import matplotlib.pyplot as plt\n",
    "from scipy.stats import spearmanr\n",
    "\n",
    "from REVIVAL.util import ndcg, custom_ndcg, calc_top_n_percent_recall, get_file_name"
   ]
  },
  {
   "cell_type": "code",
   "execution_count": 6,
   "metadata": {},
   "outputs": [
    {
     "name": "stdout",
     "output_type": "stream",
     "text": [
      "/disk2/fli/REVIVAL2/zs/coves/apo_clean/output/100_processed/ParLQ.csv\n",
      "fitness\n",
      "0.03501450295350714\n",
      "0.16112123778115267\n",
      "0.0\n",
      "\n",
      "selectivity\n",
      "0.08964230297977895\n",
      "0.049027121426339366\n",
      "0.0\n",
      "\n",
      "/disk2/fli/REVIVAL2/zs/coves/apo_clean/output/100_processed/PfTrpB-5iodo.csv\n",
      "fitness\n",
      "0.3416823840060355\n",
      "0.2733819102481316\n",
      "0.24\n",
      "\n",
      "/disk2/fli/REVIVAL2/zs/coves/apo_clean/output/100_processed/PfTrpB-5bromo.csv\n",
      "fitness\n",
      "0.3910230196351182\n",
      "0.5371740368786102\n",
      "0.4\n",
      "\n",
      "/disk2/fli/REVIVAL2/zs/coves/apo_clean/output/100_processed/PfTrpB-5cyano.csv\n",
      "fitness\n",
      "0.42283804689402693\n",
      "0.6696725100036202\n",
      "0.56\n",
      "\n",
      "/disk2/fli/REVIVAL2/zs/coves/apo_clean/output/100_processed/PfTrpB-56chloro.csv\n",
      "fitness\n",
      "0.3899993913099332\n",
      "0.6916766447788636\n",
      "0.52\n",
      "\n",
      "/disk2/fli/REVIVAL2/zs/coves/apo_clean/output/100_processed/PfTrpB-6chloro.csv\n",
      "fitness\n",
      "0.4553857153787945\n",
      "0.7236248770423442\n",
      "0.44\n",
      "\n",
      "/disk2/fli/REVIVAL2/zs/coves/apo_clean/output/100_processed/Rma-CB.csv\n",
      "fitness\n",
      "0.038846968186452654\n",
      "0.6034017332967879\n",
      "0.06666666666666667\n",
      "\n",
      "selectivity\n",
      "0.09095361700072459\n",
      "0.8518436017258554\n",
      "0.1282051282051282\n",
      "\n",
      "/disk2/fli/REVIVAL2/zs/coves/apo_clean/output/100_processed/Rma-CSi.csv\n",
      "fitness\n",
      "0.025010567561826104\n",
      "0.6248813030059864\n",
      "0.3333333333333333\n",
      "\n",
      "selectivity\n",
      "0.12674743192823307\n",
      "0.8964842068074258\n",
      "0.1\n",
      "\n",
      "/disk2/fli/REVIVAL2/zs/coves/apo_clean/output/100_processed/PfTrpB-4cyano.csv\n",
      "fitness\n",
      "0.3163446040945098\n",
      "0.6981357773394856\n",
      "0.4\n",
      "\n",
      "/disk2/fli/REVIVAL2/zs/coves/apo_clean/output/100_processed/PfTrpB-4bromo.csv\n",
      "fitness\n",
      "0.480767207022505\n",
      "0.6003300909670003\n",
      "0.48\n",
      "\n",
      "/disk2/fli/REVIVAL2/zs/coves/apo_clean/output/100_processed/PfTrpB-7iodo.csv\n",
      "fitness\n",
      "0.4566068178449073\n",
      "0.6877200223055147\n",
      "0.32\n",
      "\n",
      "/disk2/fli/REVIVAL2/zs/coves/apo_clean/output/100_processed/PfTrpB-7methyl.csv\n",
      "fitness\n",
      "0.37288501766057414\n",
      "0.7733023240350402\n",
      "0.24\n",
      "\n",
      "/disk2/fli/REVIVAL2/zs/coves/apo_clean/output/100_processed/PfTrpB-7bromo.csv\n",
      "fitness\n",
      "0.40664961636828645\n",
      "0.7471277953879604\n",
      "0.42857142857142855\n",
      "\n",
      "/disk2/fli/REVIVAL2/zs/coves/apo_clean/output/100_processed/PfTrpB-5chloro.csv\n",
      "fitness\n",
      "0.44781824350551497\n",
      "0.6982068531307755\n",
      "0.56\n",
      "\n"
     ]
    }
   ],
   "source": [
    "results_df = []\n",
    "\n",
    "for t in glob(\"/disk2/fli/REVIVAL2/zs/coves/apo_clean/output/100_processed/*.csv\"):\n",
    "    print(t)\n",
    "    df = pd.read_csv(t)\n",
    "    y_trues = [\"fitness\"]\n",
    "    if \"selectivity\" in df.columns:\n",
    "        y_trues.append(\"selectivity\")\n",
    "    for y_true in y_trues:\n",
    "        print(y_true)\n",
    "        y_true = df[y_true].values\n",
    "        y_scores = df[\"coves_score\"].values\n",
    "        print(spearmanr(y_true, y_scores)[0])\n",
    "        # print(ndcg(y_true, y_scores))\n",
    "        print(custom_ndcg(y_true, y_scores))\n",
    "        print(calc_top_n_percent_recall(y_true, y_scores, top_n=10))\n",
    "        print(\"\")\n"
   ]
  },
  {
   "cell_type": "code",
   "execution_count": 14,
   "metadata": {},
   "outputs": [],
   "source": [
    "%load_ext blackcellmagic"
   ]
  },
  {
   "cell_type": "code",
   "execution_count": 15,
   "metadata": {},
   "outputs": [],
   "source": []
  },
  {
   "cell_type": "code",
   "execution_count": null,
   "metadata": {},
   "outputs": [],
   "source": []
  }
 ],
 "metadata": {
  "kernelspec": {
   "display_name": "REVIVAL_ligmpnn",
   "language": "python",
   "name": "python3"
  },
  "language_info": {
   "codemirror_mode": {
    "name": "ipython",
    "version": 3
   },
   "file_extension": ".py",
   "mimetype": "text/x-python",
   "name": "python",
   "nbconvert_exporter": "python",
   "pygments_lexer": "ipython3",
   "version": "3.11.11"
  }
 },
 "nbformat": 4,
 "nbformat_minor": 2
}
