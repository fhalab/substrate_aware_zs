{
 "cells": [
  {
   "cell_type": "code",
   "execution_count": 7,
   "metadata": {},
   "outputs": [],
   "source": [
    "%load_ext blackcellmagic"
   ]
  },
  {
   "cell_type": "code",
   "execution_count": 17,
   "metadata": {},
   "outputs": [],
   "source": [
    "import numpy as np\n",
    "import pandas as pd\n",
    "from glob import glob\n",
    "from scipy.stats import spearmanr"
   ]
  },
  {
   "cell_type": "code",
   "execution_count": 12,
   "metadata": {},
   "outputs": [
    {
     "data": {
      "text/html": [
       "<div>\n",
       "<style scoped>\n",
       "    .dataframe tbody tr th:only-of-type {\n",
       "        vertical-align: middle;\n",
       "    }\n",
       "\n",
       "    .dataframe tbody tr th {\n",
       "        vertical-align: top;\n",
       "    }\n",
       "\n",
       "    .dataframe thead th {\n",
       "        text-align: right;\n",
       "    }\n",
       "</style>\n",
       "<table border=\"1\" class=\"dataframe\">\n",
       "  <thead>\n",
       "    <tr style=\"text-align: right;\">\n",
       "      <th></th>\n",
       "      <th>AAs</th>\n",
       "      <th>fitness</th>\n",
       "      <th>ligandmpnn_score</th>\n",
       "    </tr>\n",
       "  </thead>\n",
       "  <tbody>\n",
       "    <tr>\n",
       "      <th>0</th>\n",
       "      <td>AAV</td>\n",
       "      <td>-0.043328</td>\n",
       "      <td>-13.880947</td>\n",
       "    </tr>\n",
       "    <tr>\n",
       "      <th>1</th>\n",
       "      <td>ADL</td>\n",
       "      <td>0.061846</td>\n",
       "      <td>-15.482428</td>\n",
       "    </tr>\n",
       "    <tr>\n",
       "      <th>2</th>\n",
       "      <td>AGC</td>\n",
       "      <td>0.005751</td>\n",
       "      <td>-15.475704</td>\n",
       "    </tr>\n",
       "    <tr>\n",
       "      <th>3</th>\n",
       "      <td>AGL</td>\n",
       "      <td>0.035926</td>\n",
       "      <td>-15.342915</td>\n",
       "    </tr>\n",
       "    <tr>\n",
       "      <th>4</th>\n",
       "      <td>AMN</td>\n",
       "      <td>-0.002284</td>\n",
       "      <td>-12.704951</td>\n",
       "    </tr>\n",
       "  </tbody>\n",
       "</table>\n",
       "</div>"
      ],
      "text/plain": [
       "   AAs   fitness  ligandmpnn_score\n",
       "0  AAV -0.043328        -13.880947\n",
       "1  ADL  0.061846        -15.482428\n",
       "2  AGC  0.005751        -15.475704\n",
       "3  AGL  0.035926        -15.342915\n",
       "4  AMN -0.002284        -12.704951"
      ]
     },
     "execution_count": 12,
     "metadata": {},
     "output_type": "execute_result"
    }
   ],
   "source": [
    "df = pd.read_csv(\"/disk2/fli/REVIVAL2/zs/ligandmpnn/scores/autoregressive_20/PfTrpB-4bromo.csv\")\n",
    "df.head()"
   ]
  },
  {
   "cell_type": "code",
   "execution_count": 18,
   "metadata": {},
   "outputs": [
    {
     "name": "stdout",
     "output_type": "stream",
     "text": [
      "ParLQ\n",
      "SignificanceResult(statistic=0.10175414975719237, pvalue=0.024289386849478945)\n",
      "PfTrpB-4bromo\n",
      "SignificanceResult(statistic=0.5226523895921239, pvalue=2.6974184721918132e-18)\n",
      "PfTrpB-4cyano\n",
      "SignificanceResult(statistic=0.35681818181818187, pvalue=1.2035908645895906e-08)\n",
      "PfTrpB-56chloro\n",
      "SignificanceResult(statistic=0.4454905057188512, pvalue=3.7618001091167486e-13)\n",
      "PfTrpB-5bromo\n",
      "SignificanceResult(statistic=0.4609139440641111, pvalue=4.446417485003866e-14)\n",
      "PfTrpB-5chloro\n",
      "SignificanceResult(statistic=0.5177905674082299, pvalue=6.234858473520162e-18)\n",
      "PfTrpB-5cyano\n",
      "SignificanceResult(statistic=0.43988908125972, pvalue=7.957891810987268e-13)\n",
      "PfTrpB-5iodo\n",
      "SignificanceResult(statistic=0.4273258804567745, pvalue=4.0669681881475105e-12)\n",
      "PfTrpB-6chloro\n",
      "SignificanceResult(statistic=0.575485360474054, pvalue=1.1827083266311362e-22)\n",
      "PfTrpB-7bromo\n",
      "SignificanceResult(statistic=0.4886437378325762, pvalue=2.360802914840491e-05)\n",
      "PfTrpB-7iodo\n",
      "SignificanceResult(statistic=0.521933851663245, pvalue=3.0555839483838124e-18)\n",
      "PfTrpB-7methyl\n",
      "SignificanceResult(statistic=0.49468725352354176, pvalue=2.7975340213180666e-16)\n",
      "Rma-CB\n",
      "SignificanceResult(statistic=0.2585459025193385, pvalue=0.001400567608828391)\n",
      "Rma-CSi\n",
      "SignificanceResult(statistic=0.12467747471392138, pvalue=0.12847457696231038)\n"
     ]
    }
   ],
   "source": [
    "for lib in sorted(glob(\"/disk2/fli/REVIVAL2/zs/ligandmpnn/scores/autoregressive_20/*.csv\")):\n",
    "    lib_name = lib.split(\"/\")[-1].split(\".\")[0]\n",
    "    lib_df = pd.read_csv(lib)\n",
    "    print(lib_name)\n",
    "    print(spearmanr(lib_df[\"fitness\"], lib_df[\"ligandmpnn_score\"]))"
   ]
  },
  {
   "cell_type": "code",
   "execution_count": null,
   "metadata": {},
   "outputs": [],
   "source": []
  }
 ],
 "metadata": {
  "kernelspec": {
   "display_name": "REVIVAL",
   "language": "python",
   "name": "python3"
  },
  "language_info": {
   "codemirror_mode": {
    "name": "ipython",
    "version": 3
   },
   "file_extension": ".py",
   "mimetype": "text/x-python",
   "name": "python",
   "nbconvert_exporter": "python",
   "pygments_lexer": "ipython3",
   "version": "3.11.11"
  }
 },
 "nbformat": 4,
 "nbformat_minor": 2
}
