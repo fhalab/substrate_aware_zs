{
 "cells": [
  {
   "cell_type": "code",
   "execution_count": 7,
   "metadata": {},
   "outputs": [],
   "source": [
    "%load_ext blackcellmagic"
   ]
  },
  {
   "cell_type": "code",
   "execution_count": 8,
   "metadata": {},
   "outputs": [],
   "source": []
  },
  {
   "cell_type": "code",
   "execution_count": 5,
   "metadata": {},
   "outputs": [],
   "source": [
    "LigandMPNN_MODEL_LIST = [\n",
    "    \"ligandmpnn_v_32_005_25.pt\",\n",
    "    \"ligandmpnn_v_32_010_25.pt\",\n",
    "    \"ligandmpnn_v_32_020_25.pt\",\n",
    "    \"ligandmpnn_v_32_030_25.pt\"\n",
    "]\n",
    "\n",
    "\n",
    "LigandMPNN_MODEL_DICT = {\n",
    "    int(m.split(\"_\")[-2]): m for m in LigandMPNN_MODEL_LIST\n",
    "}"
   ]
  },
  {
   "cell_type": "code",
   "execution_count": 6,
   "metadata": {},
   "outputs": [
    {
     "data": {
      "text/plain": [
       "{5: 'ligandmpnn_v_32_005_25.pt',\n",
       " 10: 'ligandmpnn_v_32_010_25.pt',\n",
       " 20: 'ligandmpnn_v_32_020_25.pt',\n",
       " 30: 'ligandmpnn_v_32_030_25.pt'}"
      ]
     },
     "execution_count": 6,
     "metadata": {},
     "output_type": "execute_result"
    }
   ],
   "source": [
    "LigandMPNN_MODEL_DICT"
   ]
  },
  {
   "cell_type": "code",
   "execution_count": 2,
   "metadata": {},
   "outputs": [],
   "source": [
    "# read the .pt file\n",
    "import torch"
   ]
  },
  {
   "cell_type": "code",
   "execution_count": 4,
   "metadata": {},
   "outputs": [
    {
     "data": {
      "text/plain": [
       "dict_keys(['logits', 'probs', 'log_probs', 'decoding_order', 'native_sequence', 'mask', 'chain_mask', 'seed', 'alphabet', 'residue_names', 'sequence', 'mean_of_probs', 'std_of_probs'])"
      ]
     },
     "execution_count": 4,
     "metadata": {},
     "output_type": "execute_result"
    }
   ],
   "source": [
    "raw_pt = torch.load(\"/disk2/fli/REVIVAL2/zs/ligandmpnn/raw_output/20/PfTrpB-4bromo.pt\")\n",
    "raw_pt.keys()"
   ]
  },
  {
   "cell_type": "code",
   "execution_count": 6,
   "metadata": {},
   "outputs": [
    {
     "data": {
      "text/plain": [
       "({'A': 0.0096764425,\n",
       "  'C': 0.0070820753,\n",
       "  'D': 0.004420569,\n",
       "  'E': 0.012133601,\n",
       "  'F': 0.010209402,\n",
       "  'G': 0.0047423514,\n",
       "  'H': 0.005037834,\n",
       "  'I': 0.62018293,\n",
       "  'K': 0.0043343226,\n",
       "  'L': 0.022825504,\n",
       "  'M': 0.06159627,\n",
       "  'N': 0.003873389,\n",
       "  'P': 0.0032286027,\n",
       "  'Q': 0.01221995,\n",
       "  'R': 0.008308347,\n",
       "  'S': 0.0055723046,\n",
       "  'T': 0.013801228,\n",
       "  'V': 0.17163202,\n",
       "  'W': 0.007614915,\n",
       "  'Y': 0.007906916,\n",
       "  'X': 0.0036010398},\n",
       " {'A': 0.011698289,\n",
       "  'C': 0.0070442837,\n",
       "  'D': 0.0049272394,\n",
       "  'E': 0.008201344,\n",
       "  'F': 0.017625386,\n",
       "  'G': 0.005664912,\n",
       "  'H': 0.013649358,\n",
       "  'I': 0.55696446,\n",
       "  'K': 0.013088215,\n",
       "  'L': 0.04310622,\n",
       "  'M': 0.042182807,\n",
       "  'N': 0.018273378,\n",
       "  'P': 0.0057369256,\n",
       "  'Q': 0.039873704,\n",
       "  'R': 0.05104865,\n",
       "  'S': 0.008031303,\n",
       "  'T': 0.027907724,\n",
       "  'V': 0.09545755,\n",
       "  'W': 0.015423727,\n",
       "  'Y': 0.01039795,\n",
       "  'X': 0.0036965287},\n",
       " {'A': 0.0039424254,\n",
       "  'C': 0.0034679917,\n",
       "  'D': 0.004321406,\n",
       "  'E': 0.0051089507,\n",
       "  'F': 0.35605785,\n",
       "  'G': 0.0032454645,\n",
       "  'H': 0.007284899,\n",
       "  'I': 0.014011587,\n",
       "  'K': 0.0043789144,\n",
       "  'L': 0.003960479,\n",
       "  'M': 0.0041218437,\n",
       "  'N': 0.0074380445,\n",
       "  'P': 0.0038487655,\n",
       "  'Q': 0.0058584497,\n",
       "  'R': 0.004140051,\n",
       "  'S': 0.0040048906,\n",
       "  'T': 0.0071862894,\n",
       "  'V': 0.008274527,\n",
       "  'W': 0.05104615,\n",
       "  'Y': 0.4944157,\n",
       "  'X': 0.0038852487})"
      ]
     },
     "execution_count": 6,
     "metadata": {},
     "output_type": "execute_result"
    }
   ],
   "source": [
    "raw_pt[\"mean_of_probs\"][\"A165\"], raw_pt[\"mean_of_probs\"][\"A183\"], raw_pt[\"mean_of_probs\"][\"A301\"]"
   ]
  },
  {
   "cell_type": "code",
   "execution_count": 2,
   "metadata": {},
   "outputs": [],
   "source": [
    "import pandas as pd"
   ]
  },
  {
   "cell_type": "code",
   "execution_count": 1,
   "metadata": {},
   "outputs": [
    {
     "data": {
      "text/plain": [
       "'/disk2/fli/REVIVAL2/data/structure/docked/Rma-CSi.cif'"
      ]
     },
     "execution_count": 1,
     "metadata": {},
     "output_type": "execute_result"
    }
   ],
   "source": [
    "# copy parent structures and rename them\n",
    "import shutil\n",
    "\n",
    "shutil.copy(\n",
    "    \"/disk2/fli/REVIVAL2/zs/af3/struct_joint/Rma-CSi/v75t_m100d_m103e/seed-1_sample-4/model.cif\",\n",
    "    \"/disk2/fli/REVIVAL2/data/structure/docked/Rma-CSi.cif\")"
   ]
  },
  {
   "cell_type": "code",
   "execution_count": 4,
   "metadata": {},
   "outputs": [],
   "source": [
    "from glob import glob\n",
    "\n",
    "for f in glob(\"/disk2/fli/REVIVAL2/zs/af3/struct_joint/PfTrpB*/wt/wt_model.cif\"):\n",
    "    lib_name = f.split(\"/\")[7]\n",
    "    shutil.copy(f, f\"/disk2/fli/REVIVAL2/data/structure/docked/{lib_name}.cif\")"
   ]
  },
  {
   "cell_type": "code",
   "execution_count": 5,
   "metadata": {},
   "outputs": [],
   "source": [
    "import numpy as np"
   ]
  },
  {
   "cell_type": "code",
   "execution_count": 20,
   "metadata": {},
   "outputs": [
    {
     "name": "stdout",
     "output_type": "stream",
     "text": [
      "0\n",
      "aggregate_score [0.91871935]\n",
      "ptm [0.95631063]\n",
      "iptm [0.90932155]\n",
      "per_chain_ptm [[0.9529395 0.7547885]]\n",
      "per_chain_pair_iptm [[[0.9529395  0.6707704 ]\n",
      "  [0.90932155 0.7547885 ]]]\n",
      "has_inter_chain_clashes [False]\n",
      "chain_chain_clashes [[[0 0]\n",
      "  [0 0]]]\n",
      "1\n",
      "aggregate_score [0.9179584]\n",
      "ptm [0.95599985]\n",
      "iptm [0.908448]\n",
      "per_chain_ptm [[0.95262843 0.7540421 ]]\n",
      "per_chain_pair_iptm [[[0.95262843 0.6665238 ]\n",
      "  [0.908448   0.7540421 ]]]\n",
      "has_inter_chain_clashes [False]\n",
      "chain_chain_clashes [[[0 0]\n",
      "  [0 0]]]\n",
      "2\n",
      "aggregate_score [0.9196105]\n",
      "ptm [0.9563596]\n",
      "iptm [0.91042316]\n",
      "per_chain_ptm [[0.953033   0.74972767]]\n",
      "per_chain_pair_iptm [[[0.953033   0.6678643 ]\n",
      "  [0.91042316 0.74972767]]]\n",
      "has_inter_chain_clashes [False]\n",
      "chain_chain_clashes [[[0 0]\n",
      "  [0 0]]]\n",
      "3\n",
      "aggregate_score [0.9181111]\n",
      "ptm [0.9564128]\n",
      "iptm [0.90853566]\n",
      "per_chain_ptm [[0.9531574  0.75242233]]\n",
      "per_chain_pair_iptm [[[0.9531574  0.6605184 ]\n",
      "  [0.90853566 0.75242233]]]\n",
      "has_inter_chain_clashes [False]\n",
      "chain_chain_clashes [[[0 0]\n",
      "  [0 0]]]\n",
      "4\n",
      "aggregate_score [0.91882795]\n",
      "ptm [0.95609784]\n",
      "iptm [0.90951043]\n",
      "per_chain_ptm [[0.95314497 0.7379571 ]]\n",
      "per_chain_pair_iptm [[[0.95314497 0.64543474]\n",
      "  [0.90951043 0.7379571 ]]]\n",
      "has_inter_chain_clashes [False]\n",
      "chain_chain_clashes [[[0 0]\n",
      "  [0 0]]]\n"
     ]
    }
   ],
   "source": [
    "for i in range(5):\n",
    "    print(i)\n",
    "    npz = np.load(f\"/disk2/fli/REVIVAL2/zs/chai/struct_joint/PfTrpB-56chloro/WT/WT_{i}.npz\")\n",
    "    for k in npz.keys():\n",
    "        print(k, npz[k])"
   ]
  },
  {
   "cell_type": "code",
   "execution_count": null,
   "metadata": {},
   "outputs": [],
   "source": []
  }
 ],
 "metadata": {
  "kernelspec": {
   "display_name": "REVIVAL",
   "language": "python",
   "name": "python3"
  },
  "language_info": {
   "codemirror_mode": {
    "name": "ipython",
    "version": 3
   },
   "file_extension": ".py",
   "mimetype": "text/x-python",
   "name": "python",
   "nbconvert_exporter": "python",
   "pygments_lexer": "ipython3",
   "version": "3.11.11"
  }
 },
 "nbformat": 4,
 "nbformat_minor": 2
}
